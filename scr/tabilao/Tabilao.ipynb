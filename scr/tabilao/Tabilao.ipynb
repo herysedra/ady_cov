{
  "nbformat": 4,
  "nbformat_minor": 0,
  "metadata": {
    "colab": {
      "name": "Tabilao.ipynb",
      "provenance": [],
      "collapsed_sections": [],
      "authorship_tag": "ABX9TyM5OgugsI/MY4x3wAWcq8Zz",
      "include_colab_link": true
    },
    "kernelspec": {
      "name": "python3",
      "display_name": "Python 3"
    }
  },
  "cells": [
    {
      "cell_type": "markdown",
      "metadata": {
        "id": "view-in-github",
        "colab_type": "text"
      },
      "source": [
        "<a href=\"https://colab.research.google.com/github/herysedra/ady_cov/blob/master/scr/tabilao/Tabilao.ipynb\" target=\"_parent\"><img src=\"https://colab.research.google.com/assets/colab-badge.svg\" alt=\"Open In Colab\"/></a>"
      ]
    },
    {
      "cell_type": "code",
      "metadata": {
        "id": "jMeEJQ7c2Xt5",
        "colab_type": "code",
        "colab": {
          "base_uri": "https://localhost:8080/",
          "height": 124
        },
        "outputId": "234fff8a-a1e9-44e4-c467-d23027ed4f86"
      },
      "source": [
        "from google.colab import drive\n",
        "drive.mount('/content/drive')"
      ],
      "execution_count": 1,
      "outputs": [
        {
          "output_type": "stream",
          "text": [
            "Go to this URL in a browser: https://accounts.google.com/o/oauth2/auth?client_id=947318989803-6bn6qk8qdgf4n4g3pfee6491hc0brc4i.apps.googleusercontent.com&redirect_uri=urn%3aietf%3awg%3aoauth%3a2.0%3aoob&response_type=code&scope=email%20https%3a%2f%2fwww.googleapis.com%2fauth%2fdocs.test%20https%3a%2f%2fwww.googleapis.com%2fauth%2fdrive%20https%3a%2f%2fwww.googleapis.com%2fauth%2fdrive.photos.readonly%20https%3a%2f%2fwww.googleapis.com%2fauth%2fpeopleapi.readonly\n",
            "\n",
            "Enter your authorization code:\n",
            "··········\n",
            "Mounted at /content/drive\n"
          ],
          "name": "stdout"
        }
      ]
    },
    {
      "cell_type": "code",
      "metadata": {
        "id": "CH57_p112pY7",
        "colab_type": "code",
        "colab": {}
      },
      "source": [
        "import pandas as pd\n",
        "import numpy as np\n",
        "import matplotlib.pyplot as plt\n",
        "import scipy.stats\n",
        "import matplotlib\n",
        "import pickle\n",
        "\n",
        "import pymc3 as pm\n",
        "import theano.tensor as tt\n",
        "import theano\n",
        "import datetime\n",
        "import time\n",
        "\n",
        "\n",
        "import matplotlib.dates as mdates\n",
        "from matplotlib.dates import DateFormatter\n",
        "import seaborn as sns\n",
        "import pandas.testing as tm\n",
        "\n",
        "\n",
        "tilyvoa = pd.read_csv(\"/content/drive/My Drive/data/tilyvoa.csv\")\n",
        "\n",
        "\n",
        "tilyvoafar = tilyvoa.groupby('Faritra')\n",
        "tilyvoamdg = tilyvoafar.get_group('Madagasikara')\n",
        "tilyvoamdg.set_index('Daty', inplace=True)\n",
        "\n",
        "tilyvoamdg.index = pd.to_datetime(tilyvoamdg.index)\n",
        "\n",
        "\n",
        "tilyvoatana = tilyvoafar.get_group('Antananarivo')\n",
        "tilyvoatana.set_index('Daty', inplace=True)\n",
        "\n",
        "tilyvoatana.index = pd.to_datetime(tilyvoatana.index)\n",
        "\n",
        "tilyvoatoa = tilyvoafar.get_group('Toamasina')\n",
        "tilyvoatoa.set_index('Daty', inplace=True)\n",
        "\n",
        "tilyvoatoa.index = pd.to_datetime(tilyvoatoa.index)\n",
        "\n",
        "\n",
        "path_to_save = '/content/drive/My Drive/sary/'\n",
        "path_data = '/content/drive/My Drive/data/'"
      ],
      "execution_count": 43,
      "outputs": []
    },
    {
      "cell_type": "code",
      "metadata": {
        "id": "uODoEjgP2z6f",
        "colab_type": "code",
        "colab": {
          "base_uri": "https://localhost:8080/",
          "height": 753
        },
        "outputId": "f97fbe24-73b5-4146-88f7-3309122ca6b6"
      },
      "source": [
        "fig, ax = plt.subplots(figsize=(12, 12))\n",
        "\n",
        "ax.bar(tilyvoamdg.index, tilyvoamdg['Voatomb'], width = 0.2, color='black',label=\"Antontan'isa MDG CCO\")\n",
        "\n",
        "\n",
        "ax.set(xlabel ='Andro', ylabel = \"Isan'ny voa vaovao\")\n",
        "\n",
        "date_form = DateFormatter(\"%d\")\n",
        "ax.xaxis.set_major_formatter(date_form)\n",
        "\n",
        "ax.xaxis.set_major_locator(mdates.DayLocator(interval=3))\n",
        "ax.legend(loc= 'best')\n",
        "\n",
        "plt.ylim(0,70)\n",
        "plt.savefig(path_to_save+'voavaozao.eps')\n",
        "\n",
        "plt.show()"
      ],
      "execution_count": 4,
      "outputs": [
        {
          "output_type": "stream",
          "text": [
            "The PostScript backend does not support transparency; partially transparent artists will be rendered opaque.\n",
            "The PostScript backend does not support transparency; partially transparent artists will be rendered opaque.\n"
          ],
          "name": "stderr"
        },
        {
          "output_type": "display_data",
          "data": {
            "image/png": "[encoded data removed]",
            "text/plain": [
              "<Figure size 864x864 with 1 Axes>"
            ]
          },
          "metadata": {
            "tags": [],
            "needs_background": "light"
          }
        }
      ]
    },
    {
      "cell_type": "code",
      "metadata": {
        "id": "j9cusaJA3AlY",
        "colab_type": "code",
        "colab": {
          "base_uri": "https://localhost:8080/",
          "height": 753
        },
        "outputId": "96e30839-52a6-4811-b491-ac48acd906db"
      },
      "source": [
        "fig, ax = plt.subplots(figsize=(12, 12))\n",
        "\n",
        "ax.bar(tilyvoatana.index, tilyvoatana['Voatomb'], width=0.2, color='black',label=\"Antontan'isa Antananarivo CCO\")\n",
        "\n",
        "\n",
        "ax.set(xlabel ='Andro', ylabel = \"Isan'ny voa vaovao\")\n",
        "\n",
        "date_form = DateFormatter(\"%d/%m\")\n",
        "ax.xaxis.set_major_formatter(date_form)\n",
        "\n",
        "ax.xaxis.set_major_locator(mdates.DayLocator(interval=3))\n",
        "ax.legend(loc= 'best')\n",
        "\n",
        "plt.ylim(0,40)\n",
        "plt.savefig(path_to_save+'voavaotanazao.eps')\n",
        "\n",
        "plt.show()"
      ],
      "execution_count": 5,
      "outputs": [
        {
          "output_type": "stream",
          "text": [
            "The PostScript backend does not support transparency; partially transparent artists will be rendered opaque.\n",
            "The PostScript backend does not support transparency; partially transparent artists will be rendered opaque.\n"
          ],
          "name": "stderr"
        },
        {
          "output_type": "display_data",
          "data": {
            "image/png": "[encoded data removed]",
            "text/plain": [
              "<Figure size 864x864 with 1 Axes>"
            ]
          },
          "metadata": {
            "tags": [],
            "needs_background": "light"
          }
        }
      ]
    },
    {
      "cell_type": "code",
      "metadata": {
        "id": "dunYLlK93KCx",
        "colab_type": "code",
        "colab": {
          "base_uri": "https://localhost:8080/",
          "height": 753
        },
        "outputId": "928aa371-3daf-4c79-f37e-c0a76e94aeab"
      },
      "source": [
        "fig, ax = plt.subplots(figsize=(12, 12))\n",
        "\n",
        "ax.bar(tilyvoatoa.index, tilyvoatoa['Voatomb'], width=0.2, color='black',label=\"Antontan'isa Toamasina CCO\")\n",
        "\n",
        "\n",
        "ax.set(xlabel ='Andro', ylabel = \"Isan'ny voa vaovao\")\n",
        "\n",
        "date_form = DateFormatter(\"%d/%m\")\n",
        "ax.xaxis.set_major_formatter(date_form)\n",
        "\n",
        "ax.xaxis.set_major_locator(mdates.DayLocator(interval=3))\n",
        "ax.legend(loc= 'best')\n",
        "\n",
        "plt.ylim(0,50)\n",
        "plt.savefig(path_to_save+'voavaotoazao.eps')\n",
        "\n",
        "plt.show()"
      ],
      "execution_count": 6,
      "outputs": [
        {
          "output_type": "stream",
          "text": [
            "The PostScript backend does not support transparency; partially transparent artists will be rendered opaque.\n",
            "The PostScript backend does not support transparency; partially transparent artists will be rendered opaque.\n"
          ],
          "name": "stderr"
        },
        {
          "output_type": "display_data",
          "data": {
            "image/png": "[encoded data removed]",
            "text/plain": [
              "<Figure size 864x864 with 1 Axes>"
            ]
          },
          "metadata": {
            "tags": [],
            "needs_background": "light"
          }
        }
      ]
    },
    {
      "cell_type": "code",
      "metadata": {
        "id": "-PTas4d13RUP",
        "colab_type": "code",
        "colab": {
          "base_uri": "https://localhost:8080/",
          "height": 753
        },
        "outputId": "527d8f13-141e-4525-b0cf-a3031ae1cc7e"
      },
      "source": [
        "fig, ax = plt.subplots(figsize=(12, 12))\n",
        "\n",
        "ax.plot(tilyvoamdg.index, tilyvoamdg['Voareh tvm'], color='black',label=\"Antontan'isa MDG CCO\")\n",
        "\n",
        "ax.set(xlabel ='Andro', ylabel = \"Isan'ny voa rehetra\")\n",
        "\n",
        "date_form = DateFormatter(\"%d\")\n",
        "ax.xaxis.set_major_formatter(date_form)\n",
        "\n",
        "ax.xaxis.set_major_locator(mdates.DayLocator(interval=3))\n",
        "ax.legend(loc= 'best')\n",
        "\n",
        "plt.ylim(0,1400)\n",
        "plt.savefig(path_to_save+'voarehzao.eps')\n",
        "\n",
        "plt.show()"
      ],
      "execution_count": 8,
      "outputs": [
        {
          "output_type": "stream",
          "text": [
            "The PostScript backend does not support transparency; partially transparent artists will be rendered opaque.\n",
            "The PostScript backend does not support transparency; partially transparent artists will be rendered opaque.\n"
          ],
          "name": "stderr"
        },
        {
          "output_type": "display_data",
          "data": {
            "image/png": "[encoded data removed]",
            "text/plain": [
              "<Figure size 864x864 with 1 Axes>"
            ]
          },
          "metadata": {
            "tags": [],
            "needs_background": "light"
          }
        }
      ]
    },
    {
      "cell_type": "code",
      "metadata": {
        "id": "-_V9YFH53iS5",
        "colab_type": "code",
        "colab": {
          "base_uri": "https://localhost:8080/",
          "height": 753
        },
        "outputId": "16cc5c8f-f01d-4cae-cf6a-043ba970a44f"
      },
      "source": [
        "fig, ax = plt.subplots(figsize=(12, 12))\n",
        "\n",
        "ax.plot(tilyvoamdg.index, tilyvoamdg['Sitranreh tvm'], color='green',label=\"Antontan'isa MDG CCO\")\n",
        "\n",
        "ax.set(xlabel ='Andro', ylabel = \"Isan'ny sitrana rehetra\")\n",
        "\n",
        "date_form = DateFormatter(\"%d\")\n",
        "ax.xaxis.set_major_formatter(date_form)\n",
        "\n",
        "ax.xaxis.set_major_locator(mdates.DayLocator(interval=3))\n",
        "ax.legend(loc= 'best')\n",
        "\n",
        "plt.ylim(0,600)\n",
        "plt.savefig(path_to_save+'sitrrehzao.eps')\n",
        "\n",
        "plt.show()"
      ],
      "execution_count": 10,
      "outputs": [
        {
          "output_type": "stream",
          "text": [
            "The PostScript backend does not support transparency; partially transparent artists will be rendered opaque.\n",
            "The PostScript backend does not support transparency; partially transparent artists will be rendered opaque.\n"
          ],
          "name": "stderr"
        },
        {
          "output_type": "display_data",
          "data": {
            "image/png": "[encoded data removed]",
            "text/plain": [
              "<Figure size 864x864 with 1 Axes>"
            ]
          },
          "metadata": {
            "tags": [],
            "needs_background": "light"
          }
        }
      ]
    },
    {
      "cell_type": "code",
      "metadata": {
        "id": "O-lMdQlF3k9C",
        "colab_type": "code",
        "colab": {
          "base_uri": "https://localhost:8080/",
          "height": 753
        },
        "outputId": "2dc5389e-e389-47d6-81d7-96d2468dcdae"
      },
      "source": [
        "fig, ax = plt.subplots(figsize=(12, 12))\n",
        "\n",
        "ax.bar(tilyvoamdg.index, tilyvoamdg['Sitranvao tvm'], width=0.2, color='green',label=\"Antontan'isa MDG CCO\")\n",
        "\n",
        "ax.set(xlabel ='Andro', ylabel = \"Isan'ny sitrana vaovao\")\n",
        "\n",
        "date_form = DateFormatter(\"%d\")\n",
        "ax.xaxis.set_major_formatter(date_form)\n",
        "\n",
        "ax.xaxis.set_major_locator(mdates.DayLocator(interval=3))\n",
        "ax.legend(loc= 'best')\n",
        "\n",
        "plt.ylim(0,40)\n",
        "plt.savefig(path_to_save+'sitrvaozao.eps')\n",
        "\n",
        "plt.show()"
      ],
      "execution_count": 12,
      "outputs": [
        {
          "output_type": "stream",
          "text": [
            "The PostScript backend does not support transparency; partially transparent artists will be rendered opaque.\n",
            "The PostScript backend does not support transparency; partially transparent artists will be rendered opaque.\n"
          ],
          "name": "stderr"
        },
        {
          "output_type": "display_data",
          "data": {
            "image/png": "[encoded data removed]",
            "text/plain": [
              "<Figure size 864x864 with 1 Axes>"
            ]
          },
          "metadata": {
            "tags": [],
            "needs_background": "light"
          }
        }
      ]
    },
    {
      "cell_type": "code",
      "metadata": {
        "id": "7kg2gFMe4EK2",
        "colab_type": "code",
        "colab": {
          "base_uri": "https://localhost:8080/",
          "height": 753
        },
        "outputId": "b4c61311-8c3d-49cd-d918-f7712b56a87a"
      },
      "source": [
        "fig, ax = plt.subplots(figsize=(12, 12))\n",
        "\n",
        "ax.plot(tilyvoamdg.index, tilyvoamdg['Tahasitr'], color='green',label=\"Antontan'isa MDG CCO\")\n",
        "ax.axhline(y=0.5, color='b', linestyle='dashed', label =\"Tahan'ny sitrana = 50%\")\n",
        "\n",
        "ax.set(xlabel ='Andro', ylabel = \"Tahan'ny sitrana hatrizay oharina @ voa hatrizay\")\n",
        "\n",
        "date_form = DateFormatter(\"%d/%-m\")\n",
        "ax.xaxis.set_major_formatter(date_form)\n",
        "\n",
        "ax.xaxis.set_major_locator(mdates.DayLocator(interval=3))\n",
        "ax.legend(loc= 'best')\n",
        "\n",
        "plt.ylim(0,1)\n",
        "plt.savefig(path_to_save+'tahasitrzao.eps')\n",
        "\n",
        "plt.show()"
      ],
      "execution_count": 20,
      "outputs": [
        {
          "output_type": "stream",
          "text": [
            "The PostScript backend does not support transparency; partially transparent artists will be rendered opaque.\n",
            "The PostScript backend does not support transparency; partially transparent artists will be rendered opaque.\n"
          ],
          "name": "stderr"
        },
        {
          "output_type": "display_data",
          "data": {
            "image/png": "[encoded data removed]",
            "text/plain": [
              "<Figure size 864x864 with 1 Axes>"
            ]
          },
          "metadata": {
            "tags": [],
            "needs_background": "light"
          }
        }
      ]
    },
    {
      "cell_type": "code",
      "metadata": {
        "id": "8ER_j7rF_Y7L",
        "colab_type": "code",
        "colab": {
          "base_uri": "https://localhost:8080/",
          "height": 141
        },
        "outputId": "98f37671-1501-4769-9ce4-a8d3e7d0175a"
      },
      "source": [
        "tilyvoamdg['Mombatahasitr'] = np.where(tilyvoamdg['Tahasitr']>=0.5, 'tahabe', 'tahakely')"
      ],
      "execution_count": null,
      "outputs": [
        {
          "output_type": "stream",
          "text": [
            "/usr/local/lib/python3.6/dist-packages/ipykernel_launcher.py:1: SettingWithCopyWarning: \n",
            "A value is trying to be set on a copy of a slice from a DataFrame.\n",
            "Try using .loc[row_indexer,col_indexer] = value instead\n",
            "\n",
            "See the caveats in the documentation: https://pandas.pydata.org/pandas-docs/stable/user_guide/indexing.html#returning-a-view-versus-a-copy\n",
            "  \"\"\"Entry point for launching an IPython kernel.\n"
          ],
          "name": "stderr"
        }
      ]
    },
    {
      "cell_type": "code",
      "metadata": {
        "id": "xxVsJX5XgxJ7",
        "colab_type": "code",
        "colab": {}
      },
      "source": [
        "res = [tilyvoamdg['Tahasitr'][i + 1] - tilyvoamdg['Tahasitr'][i] for i in range(len(tilyvoamdg['Tahasitr'])-1)] "
      ],
      "execution_count": null,
      "outputs": []
    },
    {
      "cell_type": "code",
      "metadata": {
        "id": "1wgHq2Q4P0qc",
        "colab_type": "code",
        "colab": {
          "base_uri": "https://localhost:8080/",
          "height": 763
        },
        "outputId": "d2724c2b-b918-4c64-9387-cb0ccb04a667"
      },
      "source": [
        "tilyvoamdg.loc[tilyvoamdg['Mombatahasitr'] == 'tahabe']"
      ],
      "execution_count": null,
      "outputs": [
        {
          "output_type": "execute_result",
          "data": {
            "text/html": [
              "<div>\n",
              "<style scoped>\n",
              "    .dataframe tbody tr th:only-of-type {\n",
              "        vertical-align: middle;\n",
              "    }\n",
              "\n",
              "    .dataframe tbody tr th {\n",
              "        vertical-align: top;\n",
              "    }\n",
              "\n",
              "    .dataframe thead th {\n",
              "        text-align: right;\n",
              "    }\n",
              "</style>\n",
              "<table border=\"1\" class=\"dataframe\">\n",
              "  <thead>\n",
              "    <tr style=\"text-align: right;\">\n",
              "      <th></th>\n",
              "      <th>Loharano</th>\n",
              "      <th>Faritra</th>\n",
              "      <th>Tily ara-potoana</th>\n",
              "      <th>Tilytot tvm</th>\n",
              "      <th>Tilyvoatomb</th>\n",
              "      <th>Tily</th>\n",
              "      <th>Voa</th>\n",
              "      <th>Voatomb</th>\n",
              "      <th>Voavao tvm</th>\n",
              "      <th>Tsyvoa</th>\n",
              "      <th>Tsyvoatomb</th>\n",
              "      <th>Tilym</th>\n",
              "      <th>Voareh ilain</th>\n",
              "      <th>Voareh tvm</th>\n",
              "      <th>Sitranreh ilain</th>\n",
              "      <th>Sitranreh tvm</th>\n",
              "      <th>Sitranvao tvm</th>\n",
              "      <th>Nodimandry vao</th>\n",
              "      <th>Nodimandry reh</th>\n",
              "      <th>Tahatsv</th>\n",
              "      <th>Tahasitr</th>\n",
              "      <th>Mombatahasitr</th>\n",
              "    </tr>\n",
              "    <tr>\n",
              "      <th>Daty</th>\n",
              "      <th></th>\n",
              "      <th></th>\n",
              "      <th></th>\n",
              "      <th></th>\n",
              "      <th></th>\n",
              "      <th></th>\n",
              "      <th></th>\n",
              "      <th></th>\n",
              "      <th></th>\n",
              "      <th></th>\n",
              "      <th></th>\n",
              "      <th></th>\n",
              "      <th></th>\n",
              "      <th></th>\n",
              "      <th></th>\n",
              "      <th></th>\n",
              "      <th></th>\n",
              "      <th></th>\n",
              "      <th></th>\n",
              "      <th></th>\n",
              "      <th></th>\n",
              "      <th></th>\n",
              "    </tr>\n",
              "  </thead>\n",
              "  <tbody>\n",
              "    <tr>\n",
              "      <th>2020-04-24</th>\n",
              "      <td>CCO</td>\n",
              "      <td>Madagasikara</td>\n",
              "      <td>NaN</td>\n",
              "      <td>NaN</td>\n",
              "      <td>43.0</td>\n",
              "      <td>43.0</td>\n",
              "      <td>1.0</td>\n",
              "      <td>1.0</td>\n",
              "      <td>1.0</td>\n",
              "      <td>38.0</td>\n",
              "      <td>38.0</td>\n",
              "      <td>43.0</td>\n",
              "      <td>122.0</td>\n",
              "      <td>122.0</td>\n",
              "      <td>65.0</td>\n",
              "      <td>61.0</td>\n",
              "      <td>8.0</td>\n",
              "      <td>NaN</td>\n",
              "      <td>NaN</td>\n",
              "      <td>0.8837</td>\n",
              "      <td>0.5000</td>\n",
              "      <td>tahabe</td>\n",
              "    </tr>\n",
              "    <tr>\n",
              "      <th>2020-04-25</th>\n",
              "      <td>FB-TVM</td>\n",
              "      <td>Madagasikara</td>\n",
              "      <td>NaN</td>\n",
              "      <td>NaN</td>\n",
              "      <td>82.0</td>\n",
              "      <td>NaN</td>\n",
              "      <td>NaN</td>\n",
              "      <td>1.0</td>\n",
              "      <td>1.0</td>\n",
              "      <td>NaN</td>\n",
              "      <td>81.0</td>\n",
              "      <td>NaN</td>\n",
              "      <td>NaN</td>\n",
              "      <td>123.0</td>\n",
              "      <td>NaN</td>\n",
              "      <td>62.0</td>\n",
              "      <td>1.0</td>\n",
              "      <td>NaN</td>\n",
              "      <td>NaN</td>\n",
              "      <td>0.9878</td>\n",
              "      <td>0.5041</td>\n",
              "      <td>tahabe</td>\n",
              "    </tr>\n",
              "    <tr>\n",
              "      <th>2020-04-26</th>\n",
              "      <td>FB-TVM</td>\n",
              "      <td>Madagasikara</td>\n",
              "      <td>NaN</td>\n",
              "      <td>3030.0</td>\n",
              "      <td>63.0</td>\n",
              "      <td>NaN</td>\n",
              "      <td>NaN</td>\n",
              "      <td>1.0</td>\n",
              "      <td>1.0</td>\n",
              "      <td>NaN</td>\n",
              "      <td>62.0</td>\n",
              "      <td>NaN</td>\n",
              "      <td>NaN</td>\n",
              "      <td>124.0</td>\n",
              "      <td>NaN</td>\n",
              "      <td>71.0</td>\n",
              "      <td>9.0</td>\n",
              "      <td>NaN</td>\n",
              "      <td>NaN</td>\n",
              "      <td>0.9841</td>\n",
              "      <td>0.5726</td>\n",
              "      <td>tahabe</td>\n",
              "    </tr>\n",
              "    <tr>\n",
              "      <th>2020-04-27</th>\n",
              "      <td>FB-TVM</td>\n",
              "      <td>Madagasikara</td>\n",
              "      <td>NaN</td>\n",
              "      <td>NaN</td>\n",
              "      <td>15.0</td>\n",
              "      <td>NaN</td>\n",
              "      <td>NaN</td>\n",
              "      <td>3.0</td>\n",
              "      <td>3.0</td>\n",
              "      <td>NaN</td>\n",
              "      <td>12.0</td>\n",
              "      <td>NaN</td>\n",
              "      <td>NaN</td>\n",
              "      <td>127.0</td>\n",
              "      <td>NaN</td>\n",
              "      <td>75.0</td>\n",
              "      <td>4.0</td>\n",
              "      <td>NaN</td>\n",
              "      <td>NaN</td>\n",
              "      <td>0.8000</td>\n",
              "      <td>0.5906</td>\n",
              "      <td>tahabe</td>\n",
              "    </tr>\n",
              "    <tr>\n",
              "      <th>2020-04-28</th>\n",
              "      <td>FB-TVM</td>\n",
              "      <td>Madagasikara</td>\n",
              "      <td>NaN</td>\n",
              "      <td>3065.0</td>\n",
              "      <td>20.0</td>\n",
              "      <td>NaN</td>\n",
              "      <td>NaN</td>\n",
              "      <td>0.0</td>\n",
              "      <td>0.0</td>\n",
              "      <td>NaN</td>\n",
              "      <td>20.0</td>\n",
              "      <td>NaN</td>\n",
              "      <td>NaN</td>\n",
              "      <td>128.0</td>\n",
              "      <td>NaN</td>\n",
              "      <td>82.0</td>\n",
              "      <td>7.0</td>\n",
              "      <td>NaN</td>\n",
              "      <td>NaN</td>\n",
              "      <td>1.0000</td>\n",
              "      <td>0.6406</td>\n",
              "      <td>tahabe</td>\n",
              "    </tr>\n",
              "    <tr>\n",
              "      <th>2020-04-29</th>\n",
              "      <td>FB-TVM</td>\n",
              "      <td>Madagasikara</td>\n",
              "      <td>NaN</td>\n",
              "      <td>3107.0</td>\n",
              "      <td>42.0</td>\n",
              "      <td>NaN</td>\n",
              "      <td>NaN</td>\n",
              "      <td>0.0</td>\n",
              "      <td>0.0</td>\n",
              "      <td>NaN</td>\n",
              "      <td>42.0</td>\n",
              "      <td>NaN</td>\n",
              "      <td>NaN</td>\n",
              "      <td>128.0</td>\n",
              "      <td>NaN</td>\n",
              "      <td>90.0</td>\n",
              "      <td>8.0</td>\n",
              "      <td>NaN</td>\n",
              "      <td>NaN</td>\n",
              "      <td>1.0000</td>\n",
              "      <td>0.7031</td>\n",
              "      <td>tahabe</td>\n",
              "    </tr>\n",
              "    <tr>\n",
              "      <th>2020-04-30</th>\n",
              "      <td>FB-TVM</td>\n",
              "      <td>Madagasikara</td>\n",
              "      <td>NaN</td>\n",
              "      <td>3228.0</td>\n",
              "      <td>121.0</td>\n",
              "      <td>NaN</td>\n",
              "      <td>NaN</td>\n",
              "      <td>0.0</td>\n",
              "      <td>0.0</td>\n",
              "      <td>NaN</td>\n",
              "      <td>121.0</td>\n",
              "      <td>NaN</td>\n",
              "      <td>NaN</td>\n",
              "      <td>128.0</td>\n",
              "      <td>NaN</td>\n",
              "      <td>92.0</td>\n",
              "      <td>2.0</td>\n",
              "      <td>NaN</td>\n",
              "      <td>NaN</td>\n",
              "      <td>1.0000</td>\n",
              "      <td>0.7188</td>\n",
              "      <td>tahabe</td>\n",
              "    </tr>\n",
              "    <tr>\n",
              "      <th>2020-05-01</th>\n",
              "      <td>FB-TVM</td>\n",
              "      <td>Madagasikara</td>\n",
              "      <td>NaN</td>\n",
              "      <td>3300.0</td>\n",
              "      <td>72.0</td>\n",
              "      <td>NaN</td>\n",
              "      <td>NaN</td>\n",
              "      <td>4.0</td>\n",
              "      <td>4.0</td>\n",
              "      <td>NaN</td>\n",
              "      <td>68.0</td>\n",
              "      <td>NaN</td>\n",
              "      <td>NaN</td>\n",
              "      <td>132.0</td>\n",
              "      <td>NaN</td>\n",
              "      <td>94.0</td>\n",
              "      <td>2.0</td>\n",
              "      <td>NaN</td>\n",
              "      <td>NaN</td>\n",
              "      <td>0.9444</td>\n",
              "      <td>0.7121</td>\n",
              "      <td>tahabe</td>\n",
              "    </tr>\n",
              "    <tr>\n",
              "      <th>2020-05-02</th>\n",
              "      <td>FB-TVM</td>\n",
              "      <td>Madagasikara</td>\n",
              "      <td>NaN</td>\n",
              "      <td>3393.0</td>\n",
              "      <td>93.0</td>\n",
              "      <td>NaN</td>\n",
              "      <td>NaN</td>\n",
              "      <td>3.0</td>\n",
              "      <td>3.0</td>\n",
              "      <td>NaN</td>\n",
              "      <td>90.0</td>\n",
              "      <td>NaN</td>\n",
              "      <td>NaN</td>\n",
              "      <td>135.0</td>\n",
              "      <td>NaN</td>\n",
              "      <td>97.0</td>\n",
              "      <td>3.0</td>\n",
              "      <td>NaN</td>\n",
              "      <td>NaN</td>\n",
              "      <td>0.9677</td>\n",
              "      <td>0.7185</td>\n",
              "      <td>tahabe</td>\n",
              "    </tr>\n",
              "    <tr>\n",
              "      <th>2020-05-03</th>\n",
              "      <td>FB-TVM</td>\n",
              "      <td>Madagasikara</td>\n",
              "      <td>NaN</td>\n",
              "      <td>3611.0</td>\n",
              "      <td>218.0</td>\n",
              "      <td>NaN</td>\n",
              "      <td>NaN</td>\n",
              "      <td>14.0</td>\n",
              "      <td>14.0</td>\n",
              "      <td>NaN</td>\n",
              "      <td>204.0</td>\n",
              "      <td>NaN</td>\n",
              "      <td>NaN</td>\n",
              "      <td>149.0</td>\n",
              "      <td>NaN</td>\n",
              "      <td>98.0</td>\n",
              "      <td>1.0</td>\n",
              "      <td>NaN</td>\n",
              "      <td>NaN</td>\n",
              "      <td>0.9358</td>\n",
              "      <td>0.6577</td>\n",
              "      <td>tahabe</td>\n",
              "    </tr>\n",
              "    <tr>\n",
              "      <th>2020-05-04</th>\n",
              "      <td>FB-TVM</td>\n",
              "      <td>Madagasikara</td>\n",
              "      <td>3907.0</td>\n",
              "      <td>3772.0</td>\n",
              "      <td>161.0</td>\n",
              "      <td>NaN</td>\n",
              "      <td>NaN</td>\n",
              "      <td>0.0</td>\n",
              "      <td>0.0</td>\n",
              "      <td>NaN</td>\n",
              "      <td>161.0</td>\n",
              "      <td>NaN</td>\n",
              "      <td>NaN</td>\n",
              "      <td>149.0</td>\n",
              "      <td>NaN</td>\n",
              "      <td>99.0</td>\n",
              "      <td>1.0</td>\n",
              "      <td>NaN</td>\n",
              "      <td>NaN</td>\n",
              "      <td>1.0000</td>\n",
              "      <td>0.6644</td>\n",
              "      <td>tahabe</td>\n",
              "    </tr>\n",
              "    <tr>\n",
              "      <th>2020-05-05</th>\n",
              "      <td>FB-TVM</td>\n",
              "      <td>Madagasikara</td>\n",
              "      <td>NaN</td>\n",
              "      <td>3861.0</td>\n",
              "      <td>89.0</td>\n",
              "      <td>NaN</td>\n",
              "      <td>NaN</td>\n",
              "      <td>2.0</td>\n",
              "      <td>2.0</td>\n",
              "      <td>NaN</td>\n",
              "      <td>87.0</td>\n",
              "      <td>NaN</td>\n",
              "      <td>NaN</td>\n",
              "      <td>151.0</td>\n",
              "      <td>NaN</td>\n",
              "      <td>101.0</td>\n",
              "      <td>2.0</td>\n",
              "      <td>NaN</td>\n",
              "      <td>NaN</td>\n",
              "      <td>0.9775</td>\n",
              "      <td>0.6689</td>\n",
              "      <td>tahabe</td>\n",
              "    </tr>\n",
              "    <tr>\n",
              "      <th>2020-05-06</th>\n",
              "      <td>FB-TVM</td>\n",
              "      <td>Madagasikara</td>\n",
              "      <td>3968.0</td>\n",
              "      <td>3907.0</td>\n",
              "      <td>46.0</td>\n",
              "      <td>252.0</td>\n",
              "      <td>NaN</td>\n",
              "      <td>7.0</td>\n",
              "      <td>7.0</td>\n",
              "      <td>NaN</td>\n",
              "      <td>39.0</td>\n",
              "      <td>NaN</td>\n",
              "      <td>NaN</td>\n",
              "      <td>158.0</td>\n",
              "      <td>NaN</td>\n",
              "      <td>101.0</td>\n",
              "      <td>0.0</td>\n",
              "      <td>NaN</td>\n",
              "      <td>NaN</td>\n",
              "      <td>0.8478</td>\n",
              "      <td>0.6392</td>\n",
              "      <td>tahabe</td>\n",
              "    </tr>\n",
              "    <tr>\n",
              "      <th>2020-05-07</th>\n",
              "      <td>FB-TVM</td>\n",
              "      <td>Madagasikara</td>\n",
              "      <td>NaN</td>\n",
              "      <td>3968.0</td>\n",
              "      <td>61.0</td>\n",
              "      <td>NaN</td>\n",
              "      <td>NaN</td>\n",
              "      <td>0.0</td>\n",
              "      <td>0.0</td>\n",
              "      <td>NaN</td>\n",
              "      <td>61.0</td>\n",
              "      <td>NaN</td>\n",
              "      <td>NaN</td>\n",
              "      <td>158.0</td>\n",
              "      <td>NaN</td>\n",
              "      <td>101.0</td>\n",
              "      <td>0.0</td>\n",
              "      <td>NaN</td>\n",
              "      <td>NaN</td>\n",
              "      <td>1.0000</td>\n",
              "      <td>0.6392</td>\n",
              "      <td>tahabe</td>\n",
              "    </tr>\n",
              "    <tr>\n",
              "      <th>2020-05-08</th>\n",
              "      <td>FB-TVM</td>\n",
              "      <td>Madagasikara</td>\n",
              "      <td>NaN</td>\n",
              "      <td>NaN</td>\n",
              "      <td>103.0</td>\n",
              "      <td>NaN</td>\n",
              "      <td>NaN</td>\n",
              "      <td>0.0</td>\n",
              "      <td>0.0</td>\n",
              "      <td>NaN</td>\n",
              "      <td>103.0</td>\n",
              "      <td>NaN</td>\n",
              "      <td>NaN</td>\n",
              "      <td>158.0</td>\n",
              "      <td>NaN</td>\n",
              "      <td>101.0</td>\n",
              "      <td>0.0</td>\n",
              "      <td>NaN</td>\n",
              "      <td>NaN</td>\n",
              "      <td>1.0000</td>\n",
              "      <td>0.6392</td>\n",
              "      <td>tahabe</td>\n",
              "    </tr>\n",
              "    <tr>\n",
              "      <th>2020-05-09</th>\n",
              "      <td>FB-TVM</td>\n",
              "      <td>Madagasikara</td>\n",
              "      <td>NaN</td>\n",
              "      <td>NaN</td>\n",
              "      <td>103.0</td>\n",
              "      <td>NaN</td>\n",
              "      <td>NaN</td>\n",
              "      <td>11.0</td>\n",
              "      <td>11.0</td>\n",
              "      <td>NaN</td>\n",
              "      <td>92.0</td>\n",
              "      <td>NaN</td>\n",
              "      <td>NaN</td>\n",
              "      <td>169.0</td>\n",
              "      <td>NaN</td>\n",
              "      <td>101.0</td>\n",
              "      <td>0.0</td>\n",
              "      <td>NaN</td>\n",
              "      <td>NaN</td>\n",
              "      <td>0.8932</td>\n",
              "      <td>0.5976</td>\n",
              "      <td>tahabe</td>\n",
              "    </tr>\n",
              "    <tr>\n",
              "      <th>2020-05-10</th>\n",
              "      <td>FB-TVM</td>\n",
              "      <td>Madagasikara</td>\n",
              "      <td>NaN</td>\n",
              "      <td>4481.0</td>\n",
              "      <td>76.0</td>\n",
              "      <td>76.0</td>\n",
              "      <td>NaN</td>\n",
              "      <td>2.0</td>\n",
              "      <td>2.0</td>\n",
              "      <td>NaN</td>\n",
              "      <td>74.0</td>\n",
              "      <td>NaN</td>\n",
              "      <td>NaN</td>\n",
              "      <td>171.0</td>\n",
              "      <td>NaN</td>\n",
              "      <td>104.0</td>\n",
              "      <td>3.0</td>\n",
              "      <td>NaN</td>\n",
              "      <td>NaN</td>\n",
              "      <td>0.9737</td>\n",
              "      <td>0.6082</td>\n",
              "      <td>tahabe</td>\n",
              "    </tr>\n",
              "    <tr>\n",
              "      <th>2020-05-11</th>\n",
              "      <td>FB-TVM</td>\n",
              "      <td>Madagasikara</td>\n",
              "      <td>NaN</td>\n",
              "      <td>5465.0</td>\n",
              "      <td>257.0</td>\n",
              "      <td>257.0</td>\n",
              "      <td>NaN</td>\n",
              "      <td>15.0</td>\n",
              "      <td>15.0</td>\n",
              "      <td>NaN</td>\n",
              "      <td>242.0</td>\n",
              "      <td>NaN</td>\n",
              "      <td>NaN</td>\n",
              "      <td>186.0</td>\n",
              "      <td>NaN</td>\n",
              "      <td>105.0</td>\n",
              "      <td>1.0</td>\n",
              "      <td>NaN</td>\n",
              "      <td>NaN</td>\n",
              "      <td>0.9416</td>\n",
              "      <td>0.5645</td>\n",
              "      <td>tahabe</td>\n",
              "    </tr>\n",
              "    <tr>\n",
              "      <th>2020-05-12</th>\n",
              "      <td>FB-TVM</td>\n",
              "      <td>Madagasikara</td>\n",
              "      <td>NaN</td>\n",
              "      <td>5760.0</td>\n",
              "      <td>NaN</td>\n",
              "      <td>NaN</td>\n",
              "      <td>NaN</td>\n",
              "      <td>6.0</td>\n",
              "      <td>6.0</td>\n",
              "      <td>NaN</td>\n",
              "      <td>NaN</td>\n",
              "      <td>NaN</td>\n",
              "      <td>NaN</td>\n",
              "      <td>192.0</td>\n",
              "      <td>NaN</td>\n",
              "      <td>105.0</td>\n",
              "      <td>0.0</td>\n",
              "      <td>NaN</td>\n",
              "      <td>NaN</td>\n",
              "      <td>NaN</td>\n",
              "      <td>0.5469</td>\n",
              "      <td>tahabe</td>\n",
              "    </tr>\n",
              "    <tr>\n",
              "      <th>2020-05-13</th>\n",
              "      <td>FB-TVM</td>\n",
              "      <td>Madagasikara</td>\n",
              "      <td>NaN</td>\n",
              "      <td>5760.0</td>\n",
              "      <td>NaN</td>\n",
              "      <td>NaN</td>\n",
              "      <td>NaN</td>\n",
              "      <td>20.0</td>\n",
              "      <td>20.0</td>\n",
              "      <td>NaN</td>\n",
              "      <td>NaN</td>\n",
              "      <td>NaN</td>\n",
              "      <td>NaN</td>\n",
              "      <td>212.0</td>\n",
              "      <td>NaN</td>\n",
              "      <td>107.0</td>\n",
              "      <td>2.0</td>\n",
              "      <td>NaN</td>\n",
              "      <td>NaN</td>\n",
              "      <td>NaN</td>\n",
              "      <td>0.5047</td>\n",
              "      <td>tahabe</td>\n",
              "    </tr>\n",
              "  </tbody>\n",
              "</table>\n",
              "</div>"
            ],
            "text/plain": [
              "           Loharano       Faritra  ...  Tahasitr  Mombatahasitr\n",
              "Daty                               ...                         \n",
              "2020-04-24      CCO  Madagasikara  ...    0.5000         tahabe\n",
              "2020-04-25   FB-TVM  Madagasikara  ...    0.5041         tahabe\n",
              "2020-04-26   FB-TVM  Madagasikara  ...    0.5726         tahabe\n",
              "2020-04-27   FB-TVM  Madagasikara  ...    0.5906         tahabe\n",
              "2020-04-28   FB-TVM  Madagasikara  ...    0.6406         tahabe\n",
              "2020-04-29   FB-TVM  Madagasikara  ...    0.7031         tahabe\n",
              "2020-04-30   FB-TVM  Madagasikara  ...    0.7188         tahabe\n",
              "2020-05-01   FB-TVM  Madagasikara  ...    0.7121         tahabe\n",
              "2020-05-02   FB-TVM  Madagasikara  ...    0.7185         tahabe\n",
              "2020-05-03   FB-TVM  Madagasikara  ...    0.6577         tahabe\n",
              "2020-05-04   FB-TVM  Madagasikara  ...    0.6644         tahabe\n",
              "2020-05-05   FB-TVM  Madagasikara  ...    0.6689         tahabe\n",
              "2020-05-06   FB-TVM  Madagasikara  ...    0.6392         tahabe\n",
              "2020-05-07   FB-TVM  Madagasikara  ...    0.6392         tahabe\n",
              "2020-05-08   FB-TVM  Madagasikara  ...    0.6392         tahabe\n",
              "2020-05-09   FB-TVM  Madagasikara  ...    0.5976         tahabe\n",
              "2020-05-10   FB-TVM  Madagasikara  ...    0.6082         tahabe\n",
              "2020-05-11   FB-TVM  Madagasikara  ...    0.5645         tahabe\n",
              "2020-05-12   FB-TVM  Madagasikara  ...    0.5469         tahabe\n",
              "2020-05-13   FB-TVM  Madagasikara  ...    0.5047         tahabe\n",
              "\n",
              "[20 rows x 22 columns]"
            ]
          },
          "metadata": {
            "tags": []
          },
          "execution_count": 35
        }
      ]
    },
    {
      "cell_type": "code",
      "metadata": {
        "id": "N4PSACvNRHdI",
        "colab_type": "code",
        "colab": {
          "base_uri": "https://localhost:8080/",
          "height": 167
        },
        "outputId": "e10501e6-b634-47ce-a0ae-f9600cc12946"
      },
      "source": [
        "tilyvoamdg.loc[tilyvoamdg['Tahasitr'] == np.nanmax(tilyvoamdg['Tahasitr'])]"
      ],
      "execution_count": null,
      "outputs": [
        {
          "output_type": "execute_result",
          "data": {
            "text/html": [
              "<div>\n",
              "<style scoped>\n",
              "    .dataframe tbody tr th:only-of-type {\n",
              "        vertical-align: middle;\n",
              "    }\n",
              "\n",
              "    .dataframe tbody tr th {\n",
              "        vertical-align: top;\n",
              "    }\n",
              "\n",
              "    .dataframe thead th {\n",
              "        text-align: right;\n",
              "    }\n",
              "</style>\n",
              "<table border=\"1\" class=\"dataframe\">\n",
              "  <thead>\n",
              "    <tr style=\"text-align: right;\">\n",
              "      <th></th>\n",
              "      <th>Loharano</th>\n",
              "      <th>Faritra</th>\n",
              "      <th>Tily ara-potoana</th>\n",
              "      <th>Tilytot tvm</th>\n",
              "      <th>Tilyvoatomb</th>\n",
              "      <th>Tily</th>\n",
              "      <th>Voa</th>\n",
              "      <th>Voatomb</th>\n",
              "      <th>Voavao tvm</th>\n",
              "      <th>Tsyvoa</th>\n",
              "      <th>Tsyvoatomb</th>\n",
              "      <th>Tilym</th>\n",
              "      <th>Voareh ilain</th>\n",
              "      <th>Voareh tvm</th>\n",
              "      <th>Sitranreh ilain</th>\n",
              "      <th>Sitranreh tvm</th>\n",
              "      <th>Sitranvao tvm</th>\n",
              "      <th>Nodimandry vao</th>\n",
              "      <th>Nodimandry reh</th>\n",
              "      <th>Tahatsv</th>\n",
              "      <th>Tahasitr</th>\n",
              "      <th>Mombatahasitr</th>\n",
              "    </tr>\n",
              "    <tr>\n",
              "      <th>Daty</th>\n",
              "      <th></th>\n",
              "      <th></th>\n",
              "      <th></th>\n",
              "      <th></th>\n",
              "      <th></th>\n",
              "      <th></th>\n",
              "      <th></th>\n",
              "      <th></th>\n",
              "      <th></th>\n",
              "      <th></th>\n",
              "      <th></th>\n",
              "      <th></th>\n",
              "      <th></th>\n",
              "      <th></th>\n",
              "      <th></th>\n",
              "      <th></th>\n",
              "      <th></th>\n",
              "      <th></th>\n",
              "      <th></th>\n",
              "      <th></th>\n",
              "      <th></th>\n",
              "      <th></th>\n",
              "    </tr>\n",
              "  </thead>\n",
              "  <tbody>\n",
              "    <tr>\n",
              "      <th>2020-04-30</th>\n",
              "      <td>FB-TVM</td>\n",
              "      <td>Madagasikara</td>\n",
              "      <td>NaN</td>\n",
              "      <td>3228.0</td>\n",
              "      <td>121.0</td>\n",
              "      <td>NaN</td>\n",
              "      <td>NaN</td>\n",
              "      <td>0.0</td>\n",
              "      <td>0.0</td>\n",
              "      <td>NaN</td>\n",
              "      <td>121.0</td>\n",
              "      <td>NaN</td>\n",
              "      <td>NaN</td>\n",
              "      <td>128.0</td>\n",
              "      <td>NaN</td>\n",
              "      <td>92.0</td>\n",
              "      <td>2.0</td>\n",
              "      <td>NaN</td>\n",
              "      <td>NaN</td>\n",
              "      <td>1.0</td>\n",
              "      <td>0.7188</td>\n",
              "      <td>tahabe</td>\n",
              "    </tr>\n",
              "  </tbody>\n",
              "</table>\n",
              "</div>"
            ],
            "text/plain": [
              "           Loharano       Faritra  ...  Tahasitr  Mombatahasitr\n",
              "Daty                               ...                         \n",
              "2020-04-30   FB-TVM  Madagasikara  ...    0.7188         tahabe\n",
              "\n",
              "[1 rows x 22 columns]"
            ]
          },
          "metadata": {
            "tags": []
          },
          "execution_count": 36
        }
      ]
    },
    {
      "cell_type": "code",
      "metadata": {
        "id": "xI98232nQHk_",
        "colab_type": "code",
        "colab": {}
      },
      "source": [
        "tilyvoamdg.loc[tilyvoamdg['Mombatahasitr'] == 'tahakely']"
      ],
      "execution_count": null,
      "outputs": []
    },
    {
      "cell_type": "code",
      "metadata": {
        "id": "EFKK-b6LKyq-",
        "colab_type": "code",
        "colab": {
          "base_uri": "https://localhost:8080/",
          "height": 862
        },
        "outputId": "652d3744-e81a-4b31-d089-cd9b85bec89d"
      },
      "source": [
        "\n",
        "fig, ax = plt.subplots(figsize=(14, 14))\n",
        "\n",
        "ax.bar(tilyvoamdg.index, tilyvoamdg['Tsyvoatomb'], width= 0.2, color = 'green',label = 'Voatily tsy voa (MDG)')\n",
        "ax.bar(tilyvoamdg.index, tilyvoamdg['Voatomb'], width= 0.2, bottom = tilyvoamdg['Tsyvoatomb'], color = 'red', label = 'Voatily voa (MDG)')\n",
        "\n",
        "ax.set(xlabel ='Andro', ylabel = \"Isan'ny voatily\")\n",
        "\n",
        "date_form = DateFormatter(\"%d/%-m\")\n",
        "ax.xaxis.set_major_formatter(date_form)\n",
        "\n",
        "ax.xaxis.set_major_locator(mdates.DayLocator(interval=3))\n",
        "ax.legend(loc= 'upper left')\n",
        "\n",
        "plt.ylim(0,500)\n",
        "plt.savefig(path_to_save+'mdgtahatv.eps')\n",
        "\n",
        "plt.show()"
      ],
      "execution_count": 52,
      "outputs": [
        {
          "output_type": "stream",
          "text": [
            "The PostScript backend does not support transparency; partially transparent artists will be rendered opaque.\n",
            "The PostScript backend does not support transparency; partially transparent artists will be rendered opaque.\n"
          ],
          "name": "stderr"
        },
        {
          "output_type": "display_data",
          "data": {
            "image/png": "[encoded data removed]",
            "text/plain": [
              "<Figure size 1008x1008 with 1 Axes>"
            ]
          },
          "metadata": {
            "tags": [],
            "needs_background": "light"
          }
        }
      ]
    },
    {
      "cell_type": "code",
      "metadata": {
        "id": "OFFV4TqvMX8F",
        "colab_type": "code",
        "colab": {
          "base_uri": "https://localhost:8080/",
          "height": 753
        },
        "outputId": "8dc3277e-bfe9-46c3-9f8f-1c102c38800f"
      },
      "source": [
        "\n",
        "\n",
        "daty_manom = datetime.date(2020,5,15)\n",
        "daty_mifar = datetime.date(2020,6,16)\n",
        "\n",
        "fig, ax = plt.subplots(figsize=(12, 12))\n",
        "\n",
        "ax.bar(tilyvoamdg.loc[daty_manom:daty_mifar].index, tilyvoamdg.loc[daty_manom:daty_mifar , 'Tahatsv'],  width= 0.2, color= 'blue', label = \"Tahan'ny voatily tsy voa (MDG)\")\n",
        "\n",
        "              \n",
        "ax.set(xlabel ='Andro', ylabel = \"Taha\")\n",
        "\n",
        "plt.ylim(0.6,1)\n",
        "\n",
        "date_form = DateFormatter(\"%d/%-m\")\n",
        "ax.xaxis.set_major_formatter(date_form)\n",
        "\n",
        "ax.xaxis.set_major_locator(mdates.DayLocator(interval=3))\n",
        "ax.legend(loc= 'best')\n",
        "\n",
        "plt.savefig(path_to_save+'mdgtahatsv.eps')\n",
        "\n",
        "plt.show()"
      ],
      "execution_count": 54,
      "outputs": [
        {
          "output_type": "stream",
          "text": [
            "The PostScript backend does not support transparency; partially transparent artists will be rendered opaque.\n",
            "The PostScript backend does not support transparency; partially transparent artists will be rendered opaque.\n"
          ],
          "name": "stderr"
        },
        {
          "output_type": "display_data",
          "data": {
            "image/png": "[encoded data removed]",
            "text/plain": [
              "<Figure size 864x864 with 1 Axes>"
            ]
          },
          "metadata": {
            "tags": [],
            "needs_background": "light"
          }
        }
      ]
    },
    {
      "cell_type": "code",
      "metadata": {
        "id": "7yMkV7ycSUkw",
        "colab_type": "code",
        "colab": {
          "base_uri": "https://localhost:8080/",
          "height": 625
        },
        "outputId": "6a97a8bc-21cb-49b2-8d26-a73932ed57f5"
      },
      "source": [
        "tilyvoam['Tahatsv']\n",
        "tilyvoamdg.loc[daty_manom:daty_mifar , 'Tahatsv']"
      ],
      "execution_count": 37,
      "outputs": [
        {
          "output_type": "execute_result",
          "data": {
            "text/plain": [
              "Daty\n",
              "2020-05-15    0.9581\n",
              "2020-05-16    0.8276\n",
              "2020-05-17    0.7961\n",
              "2020-05-18    0.8657\n",
              "2020-05-19    0.9344\n",
              "2020-05-20    0.8902\n",
              "2020-05-21     0.891\n",
              "2020-05-22    0.8622\n",
              "2020-05-23    0.8649\n",
              "2020-05-24     0.915\n",
              "2020-05-25    0.9254\n",
              "2020-05-26     0.871\n",
              "2020-05-27     0.896\n",
              "2020-05-28     0.812\n",
              "2020-05-29    0.8456\n",
              "2020-05-30    0.8182\n",
              "2020-05-31    0.8801\n",
              "2020-06-01    0.8771\n",
              "2020-06-02    0.9249\n",
              "2020-06-03     0.782\n",
              "2020-06-04    0.7783\n",
              "2020-06-05    0.9467\n",
              "2020-06-06    0.8522\n",
              "2020-06-07    0.9128\n",
              "2020-06-08     0.832\n",
              "2020-06-09    0.8732\n",
              "2020-06-10    0.9004\n",
              "2020-06-11    0.8871\n",
              "2020-06-12    0.9208\n",
              "2020-06-13       0.9\n",
              "2020-06-14    0.9111\n",
              "2020-06-15    0.8626\n",
              "2020-06-16    0.8846\n",
              "Name: Tahatsv, dtype: object"
            ]
          },
          "metadata": {
            "tags": []
          },
          "execution_count": 37
        }
      ]
    }
  ]
}