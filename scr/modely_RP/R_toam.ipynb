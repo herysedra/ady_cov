{
  "nbformat": 4,
  "nbformat_minor": 0,
  "metadata": {
    "colab": {
      "name": "R_toam.ipynb",
      "provenance": [],
      "collapsed_sections": [],
      "authorship_tag": "ABX9TyO2xcdSxy9FMEdAnG+OXkFP",
      "include_colab_link": true
    },
    "kernelspec": {
      "name": "python3",
      "display_name": "Python 3"
    }
  },
  "cells": [
    {
      "cell_type": "markdown",
      "metadata": {
        "id": "view-in-github",
        "colab_type": "text"
      },
      "source": [
        "<a href=\"https://colab.research.google.com/github/herysedra/ady_cov/blob/master/scr/modely_RP/R_toam.ipynb\" target=\"_parent\"><img src=\"https://colab.research.google.com/assets/colab-badge.svg\" alt=\"Open In Colab\"/></a>"
      ]
    },
    {
      "cell_type": "code",
      "metadata": {
        "id": "tQBSEW1fXlBw",
        "colab_type": "code",
        "colab": {
          "base_uri": "https://localhost:8080/",
          "height": 124
        },
        "outputId": "5c951959-0f66-4839-d49c-3e95c04adf68"
      },
      "source": [
        "from google.colab import drive\n",
        "drive.mount('/content/drive')"
      ],
      "execution_count": 1,
      "outputs": [
        {
          "output_type": "stream",
          "text": [
            "Go to this URL in a browser: https://accounts.google.com/o/oauth2/auth?client_id=947318989803-6bn6qk8qdgf4n4g3pfee6491hc0brc4i.apps.googleusercontent.com&redirect_uri=urn%3aietf%3awg%3aoauth%3a2.0%3aoob&response_type=code&scope=email%20https%3a%2f%2fwww.googleapis.com%2fauth%2fdocs.test%20https%3a%2f%2fwww.googleapis.com%2fauth%2fdrive%20https%3a%2f%2fwww.googleapis.com%2fauth%2fdrive.photos.readonly%20https%3a%2f%2fwww.googleapis.com%2fauth%2fpeopleapi.readonly\n",
            "\n",
            "Enter your authorization code:\n",
            "··········\n",
            "Mounted at /content/drive\n"
          ],
          "name": "stdout"
        }
      ]
    },
    {
      "cell_type": "code",
      "metadata": {
        "id": "rl_mUu4MhKeg",
        "colab_type": "code",
        "colab": {
          "base_uri": "https://localhost:8080/",
          "height": 228
        },
        "outputId": "c8de1347-7131-4f3b-c2b7-5db0bc748cf6"
      },
      "source": [
        "!pip install pynverse"
      ],
      "execution_count": 2,
      "outputs": [
        {
          "output_type": "stream",
          "text": [
            "Collecting pynverse\n",
            "  Downloading https://files.pythonhosted.org/packages/88/f8/fb90087055b1502def9b6e835e80fa548996bf1439a81583e592f388f4c9/pynverse-0.1.4.4.tar.gz\n",
            "Requirement already satisfied: scipy>=0.11 in /usr/local/lib/python3.6/dist-packages (from pynverse) (1.4.1)\n",
            "Requirement already satisfied: numpy>=1.6 in /usr/local/lib/python3.6/dist-packages (from pynverse) (1.18.5)\n",
            "Building wheels for collected packages: pynverse\n",
            "  Building wheel for pynverse (setup.py) ... \u001b[?25l\u001b[?25hdone\n",
            "  Created wheel for pynverse: filename=pynverse-0.1.4.4-cp36-none-any.whl size=6350 sha256=21dc490842ee6b050d2eab462055d094d4fd8d642a6036b34fd2fd8355b6d8a8\n",
            "  Stored in directory: /root/.cache/pip/wheels/80/ab/86/ec93f37613f012ba3e65c2bbd67e5c54cbc00d237574100c24\n",
            "Successfully built pynverse\n",
            "Installing collected packages: pynverse\n",
            "Successfully installed pynverse-0.1.4.4\n"
          ],
          "name": "stdout"
        }
      ]
    },
    {
      "cell_type": "code",
      "metadata": {
        "id": "zMeVfhXmXpm1",
        "colab_type": "code",
        "colab": {}
      },
      "source": [
        "import pandas as pd\n",
        "import numpy as np\n",
        "import matplotlib.pyplot as plt\n",
        "import scipy.stats\n",
        "import matplotlib\n",
        "import pickle\n",
        "\n",
        "import datetime\n",
        "import time\n",
        "from datetime import date\n",
        "\n",
        "import matplotlib.dates as mdates\n",
        "from matplotlib.dates import DateFormatter\n",
        "import seaborn as sns\n",
        "\n",
        "from numpy import log,exp\n",
        "from numpy.random import multinomial\n",
        "from scipy.stats import uniform, gamma, gengamma, poisson, nbinom, expon\n",
        "from scipy.integrate import quad\n",
        "\n",
        "\n",
        "from mpl_toolkits.mplot3d.axes3d import Axes3D, get_test_data\n",
        "from matplotlib import cm\n",
        "from matplotlib.ticker import LinearLocator, FormatStrFormatter\n",
        "\n",
        "from pynverse import inversefunc\n",
        "\n",
        "tilyvoa = pd.read_csv(\"/content/drive/My Drive/data/tilyvoa.csv\")\n",
        "\n",
        "mdg_databe = pd.read_csv(\"/content/drive/My Drive/data/databe mdg.csv\")\n",
        "\n",
        "#tilyvoa.set_index('Daty', inplace=True)\n",
        "\n",
        "tilyvoafar = tilyvoa.groupby('Faritra')\n",
        "\n",
        "tilyvoamdg = tilyvoafar.get_group('Madagasikara')\n",
        "tilyvoamdg.set_index('Daty', inplace=True)\n",
        "tilyvoamdg.index = pd.to_datetime(tilyvoamdg.index)\n",
        "\n",
        "tilyvoatana = tilyvoafar.get_group('Antananarivo')\n",
        "tilyvoatana.set_index('Daty', inplace=True)\n",
        "tilyvoatana.index = pd.to_datetime(tilyvoatana.index)\n",
        "\n",
        "tilyvoatoa = tilyvoafar.get_group('Toamasina')\n",
        "tilyvoatoa.set_index('Daty', inplace=True)\n",
        "tilyvoatoa.index = pd.to_datetime(tilyvoatoa.index)\n",
        "\n",
        "\n",
        "path_to_save = '/content/drive/My Drive/sary/'\n",
        "path_data = '/content/drive/My Drive/data/'"
      ],
      "execution_count": 15,
      "outputs": []
    },
    {
      "cell_type": "code",
      "metadata": {
        "id": "CAikaKXrX7d_",
        "colab_type": "code",
        "colab": {}
      },
      "source": [
        "# Voa vaovao (observed incidence)\n",
        "Ivaotoa = tilyvoatoa['Voatomb']\n",
        "\n",
        "dIvao = pd.DataFrame(data =Ivaotoa)\n",
        "\n",
        "# Hoan'ny taha sorisoritry ny fifindrana (infectioness profile distribution)\n",
        "\n",
        "daty_data_manom = datetime.date(2020,6,5)\n",
        "daty_data_mifar = datetime.date(2020,7,12)\n",
        "\n",
        "datyt = daty_data_mifar \n",
        "\n",
        "format_date = lambda date_py: '{}-{}-{}'.format(date_py.year, date_py.month, date_py.day)\n",
        "datyf_data_manom = format_date(daty_data_manom)\n",
        "datyf_data_mifar = format_date(daty_data_mifar)\n",
        "\n",
        "# Discretization of the serial interval distribution\n",
        "\n",
        "#Tombana mialoha (prior distributions)\n",
        "#si_sh = 1/(0.62**2) # Report 13\n",
        "#si_sc = 6.5/si_sh\n",
        "\n",
        "si_sh = (6.48**2)/(3.83**2) # Planning tool: Short-term forecasts\n",
        "si_sc = 6.48/si_sh\n",
        "\n",
        "def discr_si(t):\n",
        "  if t == 0:\n",
        "    discrsi = 0\n",
        "  elif t == 1:\n",
        "    discrsi = gengamma.cdf(3/2, si_sh, 1, loc = 0, scale = si_sc)\n",
        "  else:\n",
        "    discrsi = gengamma.cdf(t+1/2, si_sh, 1, loc = 0, scale = si_sc) - gengamma.cdf(t-1/2, si_sh, 1, loc = 0, scale = si_sc)\n",
        "  return discrsi\n",
        "\n",
        "#discr_si1 = gengamma.cdf(3/2, si_sh, 1, loc = 0, scale = si_sc)\n",
        "\n",
        "# 1/ The total incidence over a generic window (t-k+1,t)\n",
        "# Ireh(t,k) = sum(i = 0 to k-1) Ivao(t - i))\n",
        "\n",
        "def Ireh(t,k):\n",
        "  Irehv = 0\n",
        "  if k - 1 > (t - daty_data_manom).days:\n",
        "    for i in range((t - daty_data_manom).days + 1):\n",
        "      Irehv = Irehv + dIvao['Voatomb'].loc[format_date(t - datetime.timedelta(days = i))]\n",
        "  else:\n",
        "    for i in range(k):\n",
        "      Irehv = Irehv + dIvao['Voatomb'].loc[format_date(t - datetime.timedelta(days = i))]\n",
        "  return Irehv\n",
        "\n",
        "# 2/ Tool to compute the total infectiousness over a generic window (t-k+1,t)\n",
        "# Isi(t,k) = sum(i=0 to k-1) Ivao(t - i)*discr_si(i)\n",
        "\n",
        "# The definition of Isi(t,k) does not include the term Ivao(t) for i = 0 (because discr_si(0) =0) \n",
        "# so we can start the sum from i = 1; but it includes the last term Ivao(t - k + 1)*discr_si(k - 1) for i = k-1. \n",
        "\n",
        "def Isi(t,k):\n",
        "  Ivaosi = 0\n",
        "  if k - 1 > (t - daty_data_manom).days:\n",
        "    for i in range(1, (t - daty_data_manom).days + 1):\n",
        "      Ivaosi = Ivaosi + dIvao['Voatomb'].loc[format_date(t - datetime.timedelta(days = i))]*discr_si(i)\n",
        "  else:\n",
        "    for i in range(1, k):\n",
        "      Ivaosi = Ivaosi + dIvao['Voatomb'].loc[format_date(t - datetime.timedelta(days = i))]*discr_si(i)\n",
        "  return Ivaosi\n",
        "\n",
        "# The total infectiousness before t\n",
        "\n",
        "# lsi(t) := sum(i=0 to t-1) Ivao(t - i)*discr_si(i)\n",
        "\n",
        "def lsi(t):\n",
        "  return Isi(t, (t - daty_data_manom).days +1)\n",
        "\n",
        "  # for checking, take for example t = daty_data_manom + datetime.timedelta(days = 3)\n",
        "\n",
        "# 3/ The sum of total infectiousness before t over a generic window (t-k+1,t)\n",
        "# tlsi(t) := sum(i=t-k+1 to t)lsi(i)\n",
        "\n",
        "def tlsi(t,k):\n",
        "  tlsi = 0\n",
        "  if k - 1 > (t - daty_data_manom).days:\n",
        "    for i in range((t - daty_data_manom).days + 1):\n",
        "      tlsi = tlsi + lsi(t - datetime.timedelta(days = i))\n",
        "  else:\n",
        "    for i in range(k):\n",
        "      tlsi = tlsi + lsi(t - datetime.timedelta(days = i))\n",
        "  return tlsi\n",
        "\n",
        "# 4/ The shape parameters of the posterior predictive negative binomial of I(t+1)\n",
        "# pnb(t,k) = lsi(t+1)*Gamma_post_scale(R(t,k))/(1 + lsi(t+1)*Gamma_post_scale(R(t,k)))\n",
        "\n",
        "def pnb(t,k):\n",
        "  return lsi(t+datetime.timedelta(days = 1))/(1/si_sc + tlsi(t,k) + lsi(t+datetime.timedelta(days = 1)))\n",
        "\n",
        "# pnb(t,k) dia ny taha herjika hoan'ny NB hoan'ny I(t+1).\n",
        "\n",
        "# 5/ Use the pmf of the posterior predictive negative binomial to compute\n",
        "# each additive contribution at time s then for-loop for s in the time interval\n",
        "\n",
        "def lpr(t,k):\n",
        "  return -np.log(nbinom.pmf(dIvao['Voatomb'].loc[format_date(t + datetime.timedelta(days = 1))], si_sh + Ireh(t,k), pnb(t,k)))\n"
      ],
      "execution_count": 16,
      "outputs": []
    },
    {
      "cell_type": "code",
      "metadata": {
        "id": "ssKrwhMahmWS",
        "colab_type": "code",
        "colab": {
          "base_uri": "https://localhost:8080/",
          "height": 141
        },
        "outputId": "26d3076c-8b40-4481-aa35-5d70fc9038ad"
      },
      "source": [
        "# 6/ Computation of the Accumulated Predictive Error\n",
        "\n",
        "# APE9_part1 \n",
        "\n",
        "# for i in range(8):\n",
        "# t = t_mif - i - 1\n",
        "# k = 9\n",
        "\n",
        "APEt91 = []\n",
        "Prt91 = []\n",
        "\n",
        "APE91 = 0\n",
        "\n",
        "for i in range(round(((daty_data_mifar - daty_data_manom).days + 1)/2) - 1):\n",
        "  t = daty_data_mifar - datetime.timedelta(days = i+1) \n",
        "  k = round(((daty_data_mifar - daty_data_manom).days + 1)/2)\n",
        "  APE91 = APE91 + lpr(t,k)\n",
        "  APEt91.append((lpr(t,k),t))\n",
        "  Prt91.append(expon.pdf(lpr(t,k)))\n",
        "\n",
        "print('For k = 9, APE91 =', APE91)\n",
        "print('APEt91 =', APEt91)\n",
        "print('Prt91 =', Prt91)\n",
        "\n",
        "# APE9_part2 \n",
        "\n",
        "# for i in range(9):\n",
        "# t = t_mif - 1 - 9 + 1 - i\n",
        "# k = t_mif - t - 2*i\n",
        "APEt92 = []\n",
        "Prt92 = []\n",
        "\n",
        "APE92 = 0\n",
        "for i in range(round(((daty_data_mifar - daty_data_manom).days + 1)/2)-1):\n",
        "  t = daty_data_mifar - datetime.timedelta(days = 1) - datetime.timedelta(days = ((daty_data_mifar - daty_data_manom).days + 1)/2) + datetime.timedelta(days = 1) - datetime.timedelta(days = i)\n",
        "  k = (daty_data_mifar - t - datetime.timedelta(days = 2*i)).days\n",
        "  APE92 = APE92 + lpr(t,k) \n",
        "  APEt92.append((lpr(t,k) ,t,k))\n",
        "  Prt92.append(expon.pdf(lpr(t,k)))\n",
        "\n",
        "print('For k = 9, APE92 =', APE92)\n",
        "print('APEt92=', APEt92)\n",
        "print('Prt92=', Prt92)\n",
        "\n",
        "# For t_man such that Ivao(t_man) = Ivao(t_man + 1) = 0, lsi(t_man + 1) = tlsi(t_man + 1, 2) = Ireh(t_man + 1, 2) = 0\n",
        "# so that pnb(t_man + 1, 2) = 0 and "
      ],
      "execution_count": 11,
      "outputs": [
        {
          "output_type": "stream",
          "text": [
            "For k = 9, APE91 = nan\n",
            "APEt91 = [(nan, datetime.date(2020, 7, 11)), (nan, datetime.date(2020, 7, 10)), (377.5311701725745, datetime.date(2020, 7, 9)), (385.90832699257663, datetime.date(2020, 7, 8)), (408.4153300060262, datetime.date(2020, 7, 7)), (461.09176916783025, datetime.date(2020, 7, 6)), (439.94926293602293, datetime.date(2020, 7, 5)), (442.31861697387717, datetime.date(2020, 7, 4)), (447.89745937435464, datetime.date(2020, 7, 3)), (435.0479738723466, datetime.date(2020, 7, 2)), (464.70923262628156, datetime.date(2020, 7, 1)), (485.28500633201713, datetime.date(2020, 6, 30)), (543.1602132189453, datetime.date(2020, 6, 29)), (529.67222226801, datetime.date(2020, 6, 28)), (667.3472128015, datetime.date(2020, 6, 27)), (689.6634638862698, datetime.date(2020, 6, 26)), (539.0699514131638, datetime.date(2020, 6, 25)), (664.213184801927, datetime.date(2020, 6, 24))]\n",
            "Prt91 = [nan, nan, 1.097225892434538e-164, 2.5243122021251237e-168, 4.2410740333297447e-178, 5.628452423392324e-201, 8.55978368023576e-192, 8.006918448184695e-193, 3.0241611870246453e-195, 1.1509741877197868e-189, 1.5112787677771552e-202, 1.7514574847295433e-211, 1.2838568707161568e-236, 9.252874070743401e-231, 1.4955053354830825e-290, 3.040627814256784e-300, 7.671755289012229e-235, 3.4346226779987336e-289]\n",
            "For k = 9, APE92 = 5026.269771202445\n",
            "APEt92= [(635.9601437073464, datetime.date(2020, 6, 23), 19), (624.0915199022993, datetime.date(2020, 6, 22), 18), (583.9673776566958, datetime.date(2020, 6, 21), 17), (473.3589112438781, datetime.date(2020, 6, 20), 16), (490.82223815235335, datetime.date(2020, 6, 19), 15), (414.60144007463384, datetime.date(2020, 6, 18), 14), (333.49699961827633, datetime.date(2020, 6, 17), 13), (336.73755016989725, datetime.date(2020, 6, 16), 12), (293.0896012720162, datetime.date(2020, 6, 15), 11), (240.47061526531695, datetime.date(2020, 6, 14), 10), (205.46003046127032, datetime.date(2020, 6, 13), 9), (151.796255864705, datetime.date(2020, 6, 12), 8), (120.93096735144519, datetime.date(2020, 6, 11), 7), (61.53719528138909, datetime.date(2020, 6, 10), 6), (41.65604108490312, datetime.date(2020, 6, 9), 5), (4.593049443006549, datetime.date(2020, 6, 8), 4), (10.797398807732835, datetime.date(2020, 6, 7), 3), (2.902435845277763, datetime.date(2020, 6, 6), 2)]\n",
            "Prt92= [6.397626434737343e-277, 9.130545054208943e-272, 2.4332698346386994e-254, 2.647505597884957e-206, 6.896208365863966e-214, 8.727349864651823e-181, 1.4591278086280583e-145, 5.711367574899558e-147, 5.161827230365428e-128, 3.672304885228709e-105, 5.886301714572084e-90, 1.1904843878344707e-66, 3.0223738849874135e-53, 1.882502915539632e-27, 8.109820072371552e-19, 0.010121944968695024, 2.0452635515149552e-05, 0.05488935510900438]\n"
          ],
          "name": "stdout"
        }
      ]
    },
    {
      "cell_type": "code",
      "metadata": {
        "id": "1xfQwaQPhpSZ",
        "colab_type": "code",
        "colab": {
          "base_uri": "https://localhost:8080/",
          "height": 72
        },
        "outputId": "61ab3a29-5ad9-4cf4-db0c-b16416963d9d"
      },
      "source": [
        "# APEk part 1 for k =/= 9\n",
        "\n",
        "# for i in range(t_mif - t_man -j)\n",
        "\n",
        "APEk1 = []\n",
        "#APEt21 = []\n",
        "for j in range(2,9):\n",
        "  APEj1 = 0\n",
        "  for i in range(round(((daty_data_mifar - daty_data_manom).days) - j)):\n",
        "    t = daty_data_mifar - datetime.timedelta(days = i+1) \n",
        "    k = j\n",
        "    APEj1 = APEj1 + lpr(t,k)\n",
        "   # APEt21.append(lpr(t,k))\n",
        "  APEk1.append(APEj1)\n",
        "\n",
        "print('APEk1 =', APEk1)\n",
        "#print('APEt21 =', APEt21)\n",
        "\n",
        "# APEk part 2 for k =/= 9\n",
        "\n",
        "Prk2 = []\n",
        "\n",
        "APEk2 = []\n",
        "\n",
        "for j in range(2,9):\n",
        "  APEj2 = 0\n",
        "  for i in range(j-1):\n",
        "    t = daty_data_manom + datetime.timedelta(days = j - i - 1)\n",
        "    k = j - i\n",
        "    APEj2 = APEj2 + lpr(t,k)\n",
        "  APEk2.append(APEj2)\n",
        "\n",
        "print('APEk2 =', APEk2)"
      ],
      "execution_count": null,
      "outputs": [
        {
          "output_type": "stream",
          "text": [
            "APEk1 = [468.7137610460184, 959.1448115721096, 1569.632519084492, 2257.7019001465533, 2983.7256360848205, 3729.4835849037777, 4554.951103558607]\n",
            "APEk2 = [5.345724154941841, 11.529888595167478, 58.183431720034946, 105.00214150054026, 207.85686275213789, 356.49795829684433, 485.06457693743573]\n"
          ],
          "name": "stdout"
        }
      ]
    },
    {
      "cell_type": "code",
      "metadata": {
        "id": "3N0Dig32hs7m",
        "colab_type": "code",
        "colab": {
          "base_uri": "https://localhost:8080/",
          "height": 106
        },
        "outputId": "52af867e-9183-4493-cd1b-aebb27cd8c0d"
      },
      "source": [
        "# APEk for k = 2,...,8\n",
        "\n",
        "APEk = [x + y for x, y in zip(APEk1, APEk2)]\n",
        "\n",
        "# APE9\n",
        "APE9 = APE91 + APE92\n",
        "\n",
        "APE = APEk + [APE9]\n",
        "kk = APE.index(min(APE)) +2\n",
        "print('APE9 =', APE9)\n",
        "print('APEk =', APEk)\n",
        "print('APE =', APE)\n",
        "print(kk)\n"
      ],
      "execution_count": null,
      "outputs": [
        {
          "output_type": "stream",
          "text": [
            "APE9 = inf\n",
            "APEk = [474.05948520096024, 970.674700167277, 1627.815950804527, 2362.7040416470936, 3191.5824988369586, 4085.981543200622, 5040.015680496043]\n",
            "APE = [474.05948520096024, 970.674700167277, 1627.815950804527, 2362.7040416470936, 3191.5824988369586, 4085.981543200622, 5040.015680496043, inf]\n",
            "2\n"
          ],
          "name": "stdout"
        }
      ]
    },
    {
      "cell_type": "markdown",
      "metadata": {
        "id": "7r5NfEGch170",
        "colab_type": "text"
      },
      "source": [
        "# Fifidianana ireo taha mialoha (prior parameters)"
      ]
    },
    {
      "cell_type": "code",
      "metadata": {
        "id": "G0JJwl1Lhv2M",
        "colab_type": "code",
        "colab": {}
      },
      "source": [
        "kk=2\n",
        "  #shape\n",
        "def func_sh(t):\n",
        "    def Rtpsand_sh(a):\n",
        "      return a + Ireh(t,kk)\n",
        "    return Rtpsand_sh\n",
        "  # Scale\n",
        "def func_sc(t):\n",
        "    def Rtpsand_sc(b):\n",
        "      return 1/(1/b + tlsi(t,kk))\n",
        "    return Rtpsand_sc\n",
        "\n",
        "def funcsh_inv(t):\n",
        "    def sh_invex(x):\n",
        "      return (x + Ireh(t,kk))/x\n",
        "    return inversefunc(sh_invex, domain=[0.01, 1e+11])\n"
      ],
      "execution_count": 17,
      "outputs": []
    },
    {
      "cell_type": "code",
      "metadata": {
        "id": "5frABwfhtSt-",
        "colab_type": "code",
        "colab": {
          "base_uri": "https://localhost:8080/",
          "height": 34
        },
        "outputId": "74ac888a-1dd1-4747-a903-8a2eeeced5b9"
      },
      "source": [
        "dIvao['Voatomb'].loc[format_date(daty_data_mifar)]"
      ],
      "execution_count": 19,
      "outputs": [
        {
          "output_type": "execute_result",
          "data": {
            "text/plain": [
              "0.0"
            ]
          },
          "metadata": {
            "tags": []
          },
          "execution_count": 19
        }
      ]
    },
    {
      "cell_type": "code",
      "metadata": {
        "id": "1-QHwvNrjV19",
        "colab_type": "code",
        "colab": {
          "base_uri": "https://localhost:8080/",
          "height": 570
        },
        "outputId": "ba5bf253-172f-48e8-a672-851373f7ec77"
      },
      "source": [
        "# Variation of R(datyab) with rapport to the prior parameters\n",
        "\n",
        "datyab = daty_data_mifar\n",
        "\n",
        "fig = plt.figure(figsize=(7,7))\n",
        "ax = fig.gca(projection='3d')\n",
        "\n",
        "# Make data.\n",
        "X = np.linspace(0.1,5,100)\n",
        "Y = np.linspace(0.1,5,100)\n",
        "X, Y = np.meshgrid(X, Y)\n",
        "Z = func_sh(datyab)(X)*func_sc(datyab)(Y)\n",
        "W = X*Y\n",
        "# Plot the surface.\n",
        "surf = ax.plot_surface(X, Y, Z, cmap=cm.coolwarm,\n",
        "                       linewidth=0, antialiased=False)\n",
        "#surf = ax.plot_surface(X, Y, W, cmap=cm.coolwarm,\n",
        " #                      linewidth=0, antialiased=False)\n",
        "\n",
        "# Customize the z axis.\n",
        "ax.set_zlim(0.1, 1.3)\n",
        "ax.zaxis.set_major_locator(LinearLocator(10))\n",
        "ax.zaxis.set_major_formatter(FormatStrFormatter('%.02f'))\n",
        "\n",
        "ax.set(xlabel ='bika a', ylabel = \"taha b\", zlabel = 'R(t=12/07)')\n",
        "\n",
        "# Add a color bar which maps values to colors.\n",
        "fig.colorbar(surf, shrink=0.5, aspect=5)\n",
        "\n",
        "plt.savefig(path_to_save+'Rt127_toam.eps')\n",
        "\n",
        "plt.show()"
      ],
      "execution_count": 18,
      "outputs": [
        {
          "output_type": "stream",
          "text": [
            "/usr/local/lib/python3.6/dist-packages/ipykernel_launcher.py:16: UserWarning: Z contains NaN values. This may result in rendering artifacts.\n",
            "  app.launch_new_instance()\n",
            "The PostScript backend does not support transparency; partially transparent artists will be rendered opaque.\n",
            "The PostScript backend does not support transparency; partially transparent artists will be rendered opaque.\n",
            "The PostScript backend does not support transparency; partially transparent artists will be rendered opaque.\n",
            "The PostScript backend does not support transparency; partially transparent artists will be rendered opaque.\n",
            "The PostScript backend does not support transparency; partially transparent artists will be rendered opaque.\n",
            "The PostScript backend does not support transparency; partially transparent artists will be rendered opaque.\n"
          ],
          "name": "stderr"
        },
        {
          "output_type": "display_data",
          "data": {
            "image/png": "[encoded data removed]",
            "text/plain": [
              "<Figure size 504x504 with 2 Axes>"
            ]
          },
          "metadata": {
            "tags": [],
            "needs_background": "light"
          }
        }
      ]
    },
    {
      "cell_type": "code",
      "metadata": {
        "id": "Ed9PtyF7lLjJ",
        "colab_type": "code",
        "colab": {}
      },
      "source": [
        "# R(t) when equality between the prior and the posterior\n",
        "\n",
        "# 100 linearly spaced numbers\n",
        "x = np.linspace(0.1,5,100)\n",
        "\n",
        "fig = plt.figure()\n",
        "ax = fig.add_subplot(1, 1, 1)\n",
        "\n",
        "# plot the function\n",
        "plt.plot(x, x*funcsh_inv(datyab)(x/func_sc(datyab)(x)), 'blue')\n",
        "\n",
        "ax.set_ylim(0,2)\n",
        "ax.set(xlabel ='taha', ylabel = \"R(t)\")\n",
        "\n",
        "\n",
        "# show the plot\n",
        "plt.show()\n",
        "\n",
        "print('taha* = 1')\n",
        "print('R(t=',datyab,') =', funcsh_inv(datyab)(1/func_sc(datyab)(1)), '= bika*')\n"
      ],
      "execution_count": null,
      "outputs": []
    },
    {
      "cell_type": "markdown",
      "metadata": {
        "id": "IztOCigEn4hL",
        "colab_type": "text"
      },
      "source": [
        "# Fanombanana ny R(t) (estimation of R(t))"
      ]
    },
    {
      "cell_type": "markdown",
      "metadata": {
        "id": "lekq-NC9nxFP",
        "colab_type": "text"
      },
      "source": [
        "### Fomba mahazatra"
      ]
    },
    {
      "cell_type": "code",
      "metadata": {
        "id": "vKiuy53Tn5tG",
        "colab_type": "code",
        "colab": {
          "base_uri": "https://localhost:8080/",
          "height": 139
        },
        "outputId": "748446e7-e1e4-48f1-b322-d93b16317af7"
      },
      "source": [
        "# shape\n",
        "def func_sh(t):\n",
        "    def Rtpsand_sh(a):\n",
        "      return a + Ireh(t,kk)\n",
        "    return Rtpsand_sh\n",
        "\n",
        "# scale\n",
        "def func_sc(t):\n",
        "    def Rtpsand_sc(b):\n",
        "      return 1/(1/b + tlsi(t,kk))\n",
        "    return Rtpsand_sc\n",
        "\n",
        "\n",
        "def funcsh_inv(t):\n",
        "    def sh_invex(x):\n",
        "      return (x + Ireh(t,kk))/x\n",
        "    return inversefunc(sh_invex, domain=[1e-11, 1e+11])\n",
        "\n",
        "# Rt\n",
        "def Rt_salan(t):\n",
        "    ffunc_sh = func_sh(t)\n",
        "    ffunc_sc = func_sc(t)\n",
        "    ffuncsh_inv = funcsh_inv(t)\n",
        "    return ffuncsh_inv(1/ffunc_sc(1))\n",
        "\n",
        "# The 75th and 25th percentiles of Rt\n",
        "\n",
        "def perc75(t):\n",
        "    return gengamma.ppf(0.75, func_sh(t)(Rt_salan(t)), 1, loc = 0, scale = func_sc(t)(1))\n",
        "\n",
        "def perc25(t):\n",
        "    return gengamma.ppf(0.25, func_sh(t)(Rt_salan(t)), 1, loc = 0, scale = func_sc(t)(1))\n",
        "\n",
        "def Rtps_sal(t):\n",
        "  return dIvao['Voatomb'].loc[format_date(t)]/lsi(t)\n",
        "\n",
        "daty_oh1 = datetime.date(2020,6,25)\n",
        "\n",
        "print(\"Kajy mivantana ny R hoan'ny\", daty_data_mifar, ':', Rtps_sal(daty_data_mifar))\n",
        "\n",
        "print(\"Salan'isa R hoan'ny\", daty_oh1, ':', Rt_salan(daty_oh1))\n",
        "print(\"Kartily @ 75% R hoan'ny\", daty_oh1, ':', perc75(daty_oh1))\n",
        "print(\"Kartily @ 25% R hoan'ny\", daty_oh1, ':', perc25(daty_oh1))\n",
        "\n",
        "\n",
        "print(\"Salan'isa R hoan'ny\", daty_data_mifar, ':', Rt_salan(daty_data_mifar))\n",
        "print(\"Kartily @ 75% R hoan'ny\", daty_data_mifar, ':', perc75(daty_data_mifar))\n",
        "print(\"Kartily @ 25% R hoan'ny\", daty_data_mifar, ':', perc25(daty_data_mifar))"
      ],
      "execution_count": null,
      "outputs": [
        {
          "output_type": "stream",
          "text": [
            "Kajy mivantana ny R hoan'ny 2020-07-08 : 0.7569661999037133\n",
            "Salan'isa R hoan'ny 2020-06-25 : 0.1592286628037979\n",
            "Kartily @ 75% R hoan'ny 2020-06-25 : 0.20723918403687452\n",
            "Kartily @ 25% R hoan'ny 2020-06-25 : 0.09343143873371408\n",
            "Salan'isa R hoan'ny 2020-07-08 : 0.5143857245836688\n",
            "Kartily @ 75% R hoan'ny 2020-07-08 : 0.6638664393973878\n",
            "Kartily @ 25% R hoan'ny 2020-07-08 : 0.3130854620990444\n"
          ],
          "name": "stdout"
        }
      ]
    },
    {
      "cell_type": "code",
      "metadata": {
        "id": "MDNZN2mmXNk9",
        "colab_type": "code",
        "colab": {}
      },
      "source": [
        "# Sampling\n",
        "\n",
        "np.random.seed(12345)\n",
        "\n",
        "formatf_date = lambda date_py: '{}/{}'.format(date_py.day, str(date_py.month)[0:1])\n",
        "\n",
        "daty_lst = []\n",
        "\n",
        "data_Rt_lst = []\n",
        "\n",
        "for i in range(round(((daty_data_mifar - daty_data_manom).days) -28)):\n",
        "  t = daty_data_manom + datetime.timedelta(days = i+1 +28)\n",
        "  data_amboar = [gengamma.rvs( func_sh(t)(Rt_salan(t)), 1, loc = 0, scale = func_sc(t)(1)) for j in range(1000)]\n",
        "  daty_lst.append(formatf_date(t))\n",
        "  data_Rt_lst.append(data_amboar)\n"
      ],
      "execution_count": null,
      "outputs": []
    },
    {
      "cell_type": "markdown",
      "metadata": {
        "id": "aJQ1jzTVn9uB",
        "colab_type": "text"
      },
      "source": [
        "### Fomba mifidy a sy b"
      ]
    },
    {
      "cell_type": "code",
      "metadata": {
        "id": "S_zu0YAmoIRu",
        "colab_type": "code",
        "colab": {
          "base_uri": "https://localhost:8080/",
          "height": 139
        },
        "outputId": "b103f674-7357-49c2-f938-bed50542a461"
      },
      "source": [
        "# Prior Gamma distribution of Rt\n",
        "\n",
        "Rtpr_sh = 3 # shape\n",
        "Rtpr_sc =  3 # scale\n",
        "\n",
        "# Posterior distribution for Rt\n",
        "\n",
        "# Shape parameter :\n",
        "def Rtps_sh(t):\n",
        "   return Rtpr_sh + Ireh(t,kk)\n",
        "\n",
        "# Scale\n",
        "def Rtps_sc(t):\n",
        "  return 1/(1/Rtpr_sc + tlsi(t,kk))\n",
        "\n",
        "# mean\n",
        "def Rt_salan(t):\n",
        "  return Rtps_sh(t)*Rtps_sc(t)\n",
        "\n",
        "# 75th and 25th percentiles\n",
        "\n",
        "def perc75(t):\n",
        "  return gengamma.ppf(0.75, Rtps_sh(t), 1, loc = 0, scale = Rtps_sc(t))\n",
        "\n",
        "def perc25(t):\n",
        "  return gengamma.ppf(0.25, Rtps_sh(t), 1, loc = 0, scale = Rtps_sc(t))\n",
        "\n",
        "\n",
        "def Rtps_sal(t):\n",
        "  return dIvao['Voatomb'].loc[format_date(t)]/lsi(t)\n",
        "\n",
        "\n",
        "daty_oh1 = datetime.date(2020,7,11)\n",
        "\n",
        "print(\"Kajy mivantana ny R hoan'ny\", daty_data_mifar, ':', Rtps_sal(daty_data_mifar))\n",
        "\n",
        "print(\"Salan'isa R hoan'ny\", daty_oh1, ':', Rt_salan(daty_oh1))\n",
        "print(\"Kartily @ 75% R hoan'ny\", daty_oh1, ':', perc75(daty_oh1))\n",
        "print(\"Kartily @ 25% R hoan'ny\", daty_oh1, ':', perc25(daty_oh1))\n",
        "\n",
        "\n",
        "print(\"Salan'isa R hoan'ny\", daty_data_mifar, ':', Rt_salan(daty_data_mifar))\n",
        "print(\"Kartily @ 75% R hoan'ny\", daty_data_mifar, ':', perc75(daty_data_mifar))\n",
        "print(\"Kartily @ 25% R hoan'ny\", daty_data_mifar, ':', perc25(daty_data_mifar))"
      ],
      "execution_count": 20,
      "outputs": [
        {
          "output_type": "stream",
          "text": [
            "Kajy mivantana ny R hoan'ny 2020-07-12 : nan\n",
            "Salan'isa R hoan'ny 2020-07-02 : 0.18657845639511395\n",
            "Kartily @ 75% R hoan'ny 2020-07-02 : 0.2438208549525368\n",
            "Kartily @ 25% R hoan'ny 2020-07-02 : 0.10742561970553152\n",
            "Salan'isa R hoan'ny 2020-07-12 : nan\n",
            "Kartily @ 75% R hoan'ny 2020-07-12 : nan\n",
            "Kartily @ 25% R hoan'ny 2020-07-12 : nan\n"
          ],
          "name": "stdout"
        }
      ]
    },
    {
      "cell_type": "code",
      "metadata": {
        "id": "Z4teRHg8yJVb",
        "colab_type": "code",
        "colab": {}
      },
      "source": [
        "# Sampling\n",
        "\n",
        "np.random.seed(12345)\n",
        "\n",
        "formatf_date = lambda date_py: '{}/{}'.format(date_py.day, str(date_py.month)[0:1])\n",
        "\n",
        "daty_lst = []\n",
        "\n",
        "data_Rt_lst = []\n",
        "\n",
        "for i in range(round(((daty_data_mifar - daty_data_manom).days) -27)):\n",
        "  t = daty_data_manom + datetime.timedelta(days = i+1 +27)\n",
        "  data_amboar = [gengamma.rvs(Rtps_sh(t), 1, loc = 0, scale = Rtps_sc(t)) for j in range(1000)]\n",
        "  daty_lst.append(formatf_date(t))\n",
        "  data_Rt_lst.append(data_amboar)\n"
      ],
      "execution_count": null,
      "outputs": []
    },
    {
      "cell_type": "code",
      "metadata": {
        "id": "VB_YCJSoyZwc",
        "colab_type": "code",
        "colab": {
          "base_uri": "https://localhost:8080/",
          "height": 661
        },
        "outputId": "e4ce09c5-095a-4dd8-bd74-1784d8b82a05"
      },
      "source": [
        "# Plotting the flast 10 days\n",
        "\n",
        "\n",
        "fig, ax = plt.subplots(figsize=(10, 10))\n",
        "\n",
        "sns.boxplot(daty_lst, data_Rt_lst, color='white', width=0.2, showfliers=False, ax=ax)\n",
        "ax.axhline(y=1, color='b', linestyle='dashed', label =\"R = 1\")\n",
        "\n",
        "ax.set(xlabel ='Andro', ylabel = \"R hoan'i Toamasina\")\n",
        "ax.legend(loc= 'best')\n",
        "\n",
        "plt.savefig(path_to_save+'Rt5612710_toam.eps')\n",
        "plt.savefig(path_to_save+'Rt5612710_toam.png')\n",
        "\n",
        "plt.show()"
      ],
      "execution_count": null,
      "outputs": [
        {
          "output_type": "stream",
          "text": [
            "The PostScript backend does not support transparency; partially transparent artists will be rendered opaque.\n",
            "The PostScript backend does not support transparency; partially transparent artists will be rendered opaque.\n"
          ],
          "name": "stderr"
        },
        {
          "output_type": "display_data",
          "data": {
            "image/png": "[encoded data removed]",
            "text/plain": [
              "<Figure size 720x720 with 1 Axes>"
            ]
          },
          "metadata": {
            "tags": [],
            "needs_background": "light"
          }
        }
      ]
    },
    {
      "cell_type": "markdown",
      "metadata": {
        "id": "U6AghUcuMjtQ",
        "colab_type": "text"
      },
      "source": [
        "# Jeritodika ny herinandro"
      ]
    },
    {
      "cell_type": "code",
      "metadata": {
        "id": "cGzXoxuHgZvr",
        "colab_type": "code",
        "colab": {}
      },
      "source": [
        "daty_ambaj = datetime.date(2020,7,1)\n",
        "daty_amboj = datetime.date(2020,7,3)\n",
        "\n",
        "daty_data_mifarj = datetime.date(2020,7,5)"
      ],
      "execution_count": null,
      "outputs": []
    },
    {
      "cell_type": "code",
      "metadata": {
        "id": "cdzBdMV9-Iky",
        "colab_type": "code",
        "colab": {
          "base_uri": "https://localhost:8080/",
          "height": 121
        },
        "outputId": "01ca634e-13f1-4f6d-b64f-59b3a46c463f"
      },
      "source": [
        "daty_oh1 = daty_ambaj\n",
        "\n",
        "print(\"Tombana ambany: R \",daty_oh1,':',  Rt_salan(daty_oh1))\n",
        "print(\"75%-kartily R :\",':', perc75(daty_oh1))\n",
        "print(\"25%-kartily R :\", perc25(daty_oh1))\n",
        "\n",
        "daty_oh2 = daty_amboj\n",
        "\n",
        "print(\"Tombana ambony: R\", daty_oh2,':', Rt_salan(daty_oh2))\n",
        "print(\"75%-kartily R :\",':', perc75(daty_oh2))\n",
        "print(\"25%-kartily R :\", perc25(daty_oh2))\n"
      ],
      "execution_count": null,
      "outputs": [
        {
          "output_type": "stream",
          "text": [
            "Tombana ambany: R  2020-07-01 : 0.23483150045804208\n",
            "75%-kartily R : : 0.299963630703271\n",
            "25%-kartily R : 0.148843262375525\n",
            "Tombana ambony: R 2020-07-03 : 0.34393912813654054\n",
            "75%-kartily R : : 0.43160444479524224\n",
            "25%-kartily R : 0.23171869595869074\n"
          ],
          "name": "stdout"
        }
      ]
    },
    {
      "cell_type": "markdown",
      "metadata": {
        "id": "krr6EG12hYcI",
        "colab_type": "text"
      },
      "source": [
        "### Ambany"
      ]
    },
    {
      "cell_type": "code",
      "metadata": {
        "id": "1NEIfdfKgeFW",
        "colab_type": "code",
        "colab": {}
      },
      "source": [
        "# Computing Ivao(daty_mifarj + i) for i in range(1,8)\n",
        "\n",
        "daty_m1j = daty_data_mifarj + datetime.timedelta(days = 1)\n",
        "\n",
        "Rt_amba_hitsiny = 0\n",
        "Rt_vinaj = Rt_salan(daty_ambaj) + Rt_amba_hitsiny\n",
        "\n",
        "Iv = int(Rt_vinaj*lsi(daty_m1j))\n",
        "\n",
        "dIvao.loc[pd.to_datetime(daty_m1j)] =[Iv]\n",
        "\n",
        "for i in range(1,8):\n",
        " tj = daty_m1j + datetime.timedelta(days = i)\n",
        " Ivv = int(Rt_vinaj*lsi(tj))\n",
        " dIvao.loc[pd.to_datetime(tj)] = [Ivv]"
      ],
      "execution_count": null,
      "outputs": []
    },
    {
      "cell_type": "code",
      "metadata": {
        "id": "cVBWL7_ug8e5",
        "colab_type": "code",
        "colab": {}
      },
      "source": [
        "# Plotting the evaluation of the last 7 days\n",
        "\n",
        "np.random.seed(12345)\n",
        "\n",
        "formatf_date = lambda date_py: '{}/{}'.format(date_py.day, str(date_py.month)[0:1])\n",
        "\n",
        "daty_j_lst = []\n",
        "\n",
        "data_baj = []\n",
        "\n",
        "\n",
        "for i in range(1,8):\n",
        "  t = daty_data_mifarj + datetime.timedelta(days = i)\n",
        "  daty = formatf_date(t)\n",
        "  datyy = format_date(t)\n",
        "  data_amboar = [ poisson.rvs(dIvao.loc[datyy]) for j in range(600)]\n",
        "  daty_j_lst.append(daty)\n",
        "  data_baj.append(data_amboar)\n"
      ],
      "execution_count": null,
      "outputs": []
    },
    {
      "cell_type": "markdown",
      "metadata": {
        "id": "0ep9E6JlhhmK",
        "colab_type": "text"
      },
      "source": [
        "### Ambony"
      ]
    },
    {
      "cell_type": "code",
      "metadata": {
        "id": "Yanjs51XM0CD",
        "colab_type": "code",
        "colab": {}
      },
      "source": [
        "# Computing Ivao(daty_mifarj + i) for i in range(1,8)\n",
        "\n",
        "daty_m1j = daty_data_mifarj + datetime.timedelta(days = 1)\n",
        "\n",
        "# Rt_ambo_hitsiny = (Rt_salan(daty_ambaj) - Rt_salan(daty_amboj))/2\n",
        "\n",
        "Rt_ambo_hitsiny = 0\n",
        "Rt_vinaj = Rt_salan(daty_amboj) + Rt_ambo_hitsiny\n",
        "\n",
        "Iv = int(Rt_vinaj*lsi(daty_m1j))\n",
        "\n",
        "dIvao.loc[pd.to_datetime(daty_m1j)] =[Iv]\n",
        "\n",
        "for i in range(1,8):\n",
        " tj = daty_m1j + datetime.timedelta(days = i)\n",
        " Ivv = int(Rt_vinaj*lsi(tj))\n",
        " dIvao.loc[pd.to_datetime(tj)] = [Ivv]"
      ],
      "execution_count": null,
      "outputs": []
    },
    {
      "cell_type": "code",
      "metadata": {
        "id": "9G_buBUa-hJT",
        "colab_type": "code",
        "colab": {}
      },
      "source": [
        "Rt_vinaj"
      ],
      "execution_count": null,
      "outputs": []
    },
    {
      "cell_type": "code",
      "metadata": {
        "id": "cBv6ua4TNYBC",
        "colab_type": "code",
        "colab": {}
      },
      "source": [
        "# Plotting the evaluation of the last 7 days\n",
        "\n",
        "np.random.seed(12345)\n",
        "\n",
        "formatf_date = lambda date_py: '{}/{}'.format(date_py.day, str(date_py.month)[0:1])\n",
        "\n",
        "daty_j_lst = []\n",
        "\n",
        "data_boj = []\n",
        "\n",
        "\n",
        "for i in range(1,8):\n",
        "  t = daty_data_mifarj + datetime.timedelta(days = i)\n",
        "  daty = formatf_date(t)\n",
        "  datyy = format_date(t)\n",
        "  data_amboar = [ poisson.rvs(dIvao.loc[datyy]) for j in range(600)]\n",
        "  daty_j_lst.append(daty)\n",
        "  data_boj.append(data_amboar)\n"
      ],
      "execution_count": null,
      "outputs": []
    },
    {
      "cell_type": "markdown",
      "metadata": {
        "id": "2yL0irsBiKnT",
        "colab_type": "text"
      },
      "source": [
        "### Sary"
      ]
    },
    {
      "cell_type": "code",
      "metadata": {
        "id": "rLDN_GbaNfF1",
        "colab_type": "code",
        "colab": {
          "base_uri": "https://localhost:8080/",
          "height": 389
        },
        "outputId": "22a54a3a-5100-41c2-cb89-d8d919b2138e"
      },
      "source": [
        "# Plotting the evaluation of the last 7 days\n",
        "\n",
        "fig, ax = plt.subplots(figsize=(10,5))\n",
        "box = sns.boxplot(daty_j_lst, data_baj, color='white', width=0.1, showfliers=False, ax=ax)\n",
        "box = sns.boxplot(daty_j_lst, data_boj, color='grey', width=0.1, showfliers=False, ax=ax)\n",
        "ax.plot(daty_j_lst, dIvao.loc[pd.to_datetime(daty_m1j):pd.to_datetime(daty_m1j + datetime.timedelta(days = 6))], marker =\"o\",ls = 'None', color='blue',label=\"Voa vaovao voatily\")\n",
        "ax.set(xlabel = 'Andro teo aloha', ylabel=\"Tombana isan'ny voa vaovao\")\n",
        "\n",
        "plt.legend(loc= 'best')\n",
        "\n",
        "plt.savefig(path_to_save+'Iv67j_toam.eps')\n",
        "plt.savefig(path_to_save+'Iv67j_toam.png')\n",
        "\n",
        "plt.show()"
      ],
      "execution_count": null,
      "outputs": [
        {
          "output_type": "stream",
          "text": [
            "The PostScript backend does not support transparency; partially transparent artists will be rendered opaque.\n",
            "The PostScript backend does not support transparency; partially transparent artists will be rendered opaque.\n"
          ],
          "name": "stderr"
        },
        {
          "output_type": "display_data",
          "data": {
            "image/png": "[encoded data removed]",
            "text/plain": [
              "<Figure size 720x360 with 1 Axes>"
            ]
          },
          "metadata": {
            "tags": [],
            "needs_background": "light"
          }
        }
      ]
    },
    {
      "cell_type": "markdown",
      "metadata": {
        "id": "3wcX-L19yjwS",
        "colab_type": "text"
      },
      "source": [
        "## Ny 7 andro manaraka"
      ]
    },
    {
      "cell_type": "code",
      "metadata": {
        "id": "bngEa7th6rgq",
        "colab_type": "code",
        "colab": {}
      },
      "source": [
        "daty_amba = datetime.date(2020,7,5)\n",
        "daty_ambo = datetime.date(2020,7,8)\n"
      ],
      "execution_count": null,
      "outputs": []
    },
    {
      "cell_type": "markdown",
      "metadata": {
        "id": "2fUgIRz4lJ5x",
        "colab_type": "text"
      },
      "source": [
        "### Vinavina ambany"
      ]
    },
    {
      "cell_type": "code",
      "metadata": {
        "id": "vaT7qJFllGcP",
        "colab_type": "code",
        "colab": {}
      },
      "source": [
        "# Computing Ivao(daty_mifar + i) for i in range(1,8)\n",
        "\n",
        "daty_m1 = daty_data_mifar + datetime.timedelta(days = 1)\n",
        "\n",
        "Iv = int(Rt_salan(daty_amba)*lsi(daty_m1))\n",
        "\n",
        "dIvao.loc[pd.to_datetime(daty_m1)] =[Iv]\n",
        "\n",
        "for i in range(1,8):\n",
        " errt = daty_m1 + datetime.timedelta(days = i)\n",
        " Ivv = int(Rt_salan(daty_amba)*lsi(errt))\n",
        " dIvao.loc[pd.to_datetime(errt)] =[Ivv]\n"
      ],
      "execution_count": null,
      "outputs": []
    },
    {
      "cell_type": "code",
      "metadata": {
        "id": "OTUT3R3blMY3",
        "colab_type": "code",
        "colab": {}
      },
      "source": [
        "# Plotting boundaries for the next 7 days\n",
        "\n",
        "np.random.seed(12345)\n",
        "\n",
        "formatf_date = lambda date_py: '{}/{}'.format(date_py.day, str(date_py.month)[0:1])\n",
        "\n",
        "daty_hoav_lst = []\n",
        "\n",
        "data_amba_hoav = []\n",
        "\n",
        "Ivv_dat = []\n",
        "\n",
        "for i in range(1,8):\n",
        "  t = daty_data_mifar + datetime.timedelta(days = i)\n",
        "  daty = formatf_date(t)\n",
        "  datyy = format_date(t)\n",
        "  data_amboar = [ poisson.rvs(dIvao.loc[datyy]) for j in range(600)]\n",
        "  daty_hoav_lst.append(daty)\n",
        "  data_amba_hoav.append(data_amboar)"
      ],
      "execution_count": null,
      "outputs": []
    },
    {
      "cell_type": "code",
      "metadata": {
        "id": "GoFZEISFlVVD",
        "colab_type": "code",
        "colab": {
          "base_uri": "https://localhost:8080/",
          "height": 173
        },
        "outputId": "74307142-68eb-43ae-cdd3-48f26af87608"
      },
      "source": [
        "print('Vinavina ambany')\n",
        "\n",
        "daty_oh = datetime.date(2020,7,14)\n",
        "\n",
        "print(\"Notombanana avy amin'ny R(\", daty_amba, '):', Rt_salan(daty_amba)) \n",
        "print(\"Vinavina R hoan'ny\", daty_oh, ':', Rt_salan(daty_oh))\n",
        "print(\"Vinavina kartily @ 75% R hoan'ny\",daty_oh, ':', perc75(daty_oh))\n",
        "print(\"Vinavina kartily @ 25% R hoan'ny\", daty_oh, ':', perc25(daty_oh))\n",
        "print(\"Vinavina isan'ny voa vaovao hoan'ny\", daty_oh, ':', dIvao.loc[format_date(daty_oh)])\n",
        "\n",
        "print(\"Vinavina kartily @ 75% R hoan'ny\", daty_oh, ':', poisson.ppf(0.95, dIvao.loc[format_date(daty_oh)]))\n",
        "print(\"Vinavina kartily @ 25% R hoan'ny\", daty_oh, ':', poisson.ppf(0.25, dIvao.loc[format_date(daty_oh)]))"
      ],
      "execution_count": null,
      "outputs": [
        {
          "output_type": "stream",
          "text": [
            "Vinavina ambany\n",
            "Notombanana avy amin'ny R( 2020-07-05 ): 0.27796791643958274\n",
            "Vinavina R hoan'ny 2020-07-12 : 0.8910486162117373\n",
            "Vinavina kartily @ 75% R hoan'ny 2020-07-12 : 1.1644229436057767\n",
            "Vinavina kartily @ 25% R hoan'ny 2020-07-12 : 0.5130359186893183\n",
            "Vinavina isan'ny voa vaovao hoan'ny 2020-07-12 : Voatomb    0.0\n",
            "Name: 2020-07-12 00:00:00, dtype: float64\n",
            "Vinavina kartily @ 75% R hoan'ny 2020-07-12 : [0.]\n",
            "Vinavina kartily @ 25% R hoan'ny 2020-07-12 : [0.]\n"
          ],
          "name": "stdout"
        }
      ]
    },
    {
      "cell_type": "markdown",
      "metadata": {
        "id": "XXdRwIUqlPe4",
        "colab_type": "text"
      },
      "source": [
        "### Vinavina ambony"
      ]
    },
    {
      "cell_type": "code",
      "metadata": {
        "id": "DGdVqEQmlSgL",
        "colab_type": "code",
        "colab": {}
      },
      "source": [
        "# Computing Ivao(daty_mifar + i) for i in range(1,8)\n",
        "\n",
        "daty_m1 = daty_data_mifar + datetime.timedelta(days = 1)\n",
        "\n",
        "Iv = int(Rt_salan(daty_ambo)*lsi(daty_m1))\n",
        "\n",
        "dIvao.loc[pd.to_datetime(daty_m1)] =[Iv]\n",
        "\n",
        "for i in range(1,8):\n",
        " errt = daty_m1 + datetime.timedelta(days = i)\n",
        " Ivv = int(Rt_salan(daty_ambo)*lsi(errt))\n",
        " dIvao.loc[pd.to_datetime(errt)] =[Ivv]\n"
      ],
      "execution_count": null,
      "outputs": []
    },
    {
      "cell_type": "code",
      "metadata": {
        "id": "A93QtH6FlZcU",
        "colab_type": "code",
        "colab": {}
      },
      "source": [
        "# Plotting boundaries for the next 7 days\n",
        "\n",
        "np.random.seed(12345)\n",
        "\n",
        "formatf_date = lambda date_py: '{}/{}'.format(date_py.day, str(date_py.month)[0:1])\n",
        "\n",
        "daty_hoav_lst = []\n",
        "\n",
        "data_ambo_hoav = []\n",
        "\n",
        "Ivv_dat = []\n",
        "\n",
        "for i in range(1,8):\n",
        "  t = daty_data_mifar + datetime.timedelta(days = i)\n",
        "  daty = formatf_date(t)\n",
        "  datyy = format_date(t)\n",
        "  data_amboar = [ poisson.rvs(dIvao.loc[datyy]) for j in range(600)]\n",
        "  daty_hoav_lst.append(daty)\n",
        "  data_ambo_hoav.append(data_amboar)"
      ],
      "execution_count": null,
      "outputs": []
    },
    {
      "cell_type": "code",
      "metadata": {
        "id": "d4RP9KR4lcEz",
        "colab_type": "code",
        "colab": {
          "base_uri": "https://localhost:8080/",
          "height": 173
        },
        "outputId": "6a5d0ed3-60a7-49f0-b59d-66b612c37ba1"
      },
      "source": [
        "print('Vinavina ambony')\n",
        "\n",
        "daty_oh = datetime.date(2020,7,14)\n",
        "\n",
        "print(\"Notombanana avy amin'ny R(\", daty_ambo, '):', Rt_salan(daty_ambo)) \n",
        "print(\"Vinavina R hoan'ny\", daty_oh, ':', Rt_salan(daty_oh))\n",
        "print(\"Vinavina kartily @ 75% R hoan'ny\",daty_oh, ':', perc75(daty_oh))\n",
        "print(\"Vinavina kartily @ 25% R hoan'ny\", daty_oh, ':', perc25(daty_oh))\n",
        "print(\"Vinavina isan'ny voa vaovao hoan'ny\", daty_oh, ':', dIvao.loc[format_date(daty_oh)])\n",
        "\n",
        "print(\"Vinavina kartily @ 75% R hoan'ny\", daty_oh, ':', poisson.ppf(0.95, dIvao.loc[format_date(daty_oh)]))\n",
        "print(\"Vinavina kartily @ 25% R hoan'ny\", daty_oh, ':', poisson.ppf(0.25, dIvao.loc[format_date(daty_oh)]))"
      ],
      "execution_count": null,
      "outputs": [
        {
          "output_type": "stream",
          "text": [
            "Vinavina ambony\n",
            "Notombanana avy amin'ny R( 2020-07-08 ): 0.973230508555929\n",
            "Vinavina R hoan'ny 2020-07-12 : 1.4686990056906937\n",
            "Vinavina kartily @ 75% R hoan'ny 2020-07-12 : 1.8430500256161757\n",
            "Vinavina kartily @ 25% R hoan'ny 2020-07-12 : 0.9894920074908357\n",
            "Vinavina isan'ny voa vaovao hoan'ny 2020-07-12 : Voatomb    1.0\n",
            "Name: 2020-07-12 00:00:00, dtype: float64\n",
            "Vinavina kartily @ 75% R hoan'ny 2020-07-12 : [3.]\n",
            "Vinavina kartily @ 25% R hoan'ny 2020-07-12 : [0.]\n"
          ],
          "name": "stdout"
        }
      ]
    },
    {
      "cell_type": "markdown",
      "metadata": {
        "id": "tfy82zRalgh-",
        "colab_type": "text"
      },
      "source": [
        "### Sary"
      ]
    },
    {
      "cell_type": "code",
      "metadata": {
        "id": "HVuVtwBZliPS",
        "colab_type": "code",
        "colab": {
          "base_uri": "https://localhost:8080/",
          "height": 334
        },
        "outputId": "cae3caac-94a8-49c1-8e93-0f24d3b83941"
      },
      "source": [
        "# Plotting boundaries for the next 7 days\n",
        "\n",
        "fig, ax = plt.subplots(figsize=(10,5))\n",
        "box = sns.boxplot(daty_hoav_lst, data_amba_hoav, color='white', width=0.1, showfliers=False, ax=ax)\n",
        "box = sns.boxplot(daty_hoav_lst, data_ambo_hoav, color='grey', width=0.1, showfliers=False, ax=ax)\n",
        "\n",
        "ax.set_xlabel('Andro any aoriana')\n",
        "ax.set_ylabel(\"Vinavina isan'ny voa vaovao\")\n",
        "\n",
        "plt.savefig(path_to_save+'Iv127hoav_toam.eps')\n",
        "plt.savefig(path_to_save+'Iv127hoav_toam.png')\n",
        "\n",
        "plt.show()"
      ],
      "execution_count": null,
      "outputs": [
        {
          "output_type": "display_data",
          "data": {
            "image/png": "[encoded data removed]",
            "text/plain": [
              "<Figure size 720x360 with 1 Axes>"
            ]
          },
          "metadata": {
            "tags": [],
            "needs_background": "light"
          }
        }
      ]
    }
  ]
}