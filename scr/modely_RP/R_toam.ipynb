{
  "nbformat": 4,
  "nbformat_minor": 0,
  "metadata": {
    "colab": {
      "name": "R_toam.ipynb",
      "provenance": [],
      "collapsed_sections": [],
      "authorship_tag": "ABX9TyP083YaoDJVuVJBdMrzg3td",
      "include_colab_link": true
    },
    "kernelspec": {
      "name": "python3",
      "display_name": "Python 3"
    }
  },
  "cells": [
    {
      "cell_type": "markdown",
      "metadata": {
        "id": "view-in-github",
        "colab_type": "text"
      },
      "source": [
        "<a href=\"https://colab.research.google.com/github/herysedra/ady_cov/blob/master/scr/modely_RP/R_toam.ipynb\" target=\"_parent\"><img src=\"https://colab.research.google.com/assets/colab-badge.svg\" alt=\"Open In Colab\"/></a>"
      ]
    },
    {
      "cell_type": "code",
      "metadata": {
        "id": "tQBSEW1fXlBw",
        "colab_type": "code",
        "outputId": "d2679931-b79e-4df7-ce54-cb4f2869adc6",
        "colab": {
          "base_uri": "https://localhost:8080/",
          "height": 124
        }
      },
      "source": [
        "from google.colab import drive\n",
        "drive.mount('/content/drive')"
      ],
      "execution_count": 1,
      "outputs": [
        {
          "output_type": "stream",
          "text": [
            "Go to this URL in a browser: https://accounts.google.com/o/oauth2/auth?client_id=947318989803-6bn6qk8qdgf4n4g3pfee6491hc0brc4i.apps.googleusercontent.com&redirect_uri=urn%3aietf%3awg%3aoauth%3a2.0%3aoob&response_type=code&scope=email%20https%3a%2f%2fwww.googleapis.com%2fauth%2fdocs.test%20https%3a%2f%2fwww.googleapis.com%2fauth%2fdrive%20https%3a%2f%2fwww.googleapis.com%2fauth%2fdrive.photos.readonly%20https%3a%2f%2fwww.googleapis.com%2fauth%2fpeopleapi.readonly\n",
            "\n",
            "Enter your authorization code:\n",
            "··········\n",
            "Mounted at /content/drive\n"
          ],
          "name": "stdout"
        }
      ]
    },
    {
      "cell_type": "code",
      "metadata": {
        "id": "rl_mUu4MhKeg",
        "colab_type": "code",
        "outputId": "c5474796-46d9-4409-d648-cf7eeac59ff1",
        "colab": {
          "base_uri": "https://localhost:8080/",
          "height": 228
        }
      },
      "source": [
        "!pip install pynverse"
      ],
      "execution_count": 2,
      "outputs": [
        {
          "output_type": "stream",
          "text": [
            "Collecting pynverse\n",
            "  Downloading https://files.pythonhosted.org/packages/88/f8/fb90087055b1502def9b6e835e80fa548996bf1439a81583e592f388f4c9/pynverse-0.1.4.4.tar.gz\n",
            "Requirement already satisfied: scipy>=0.11 in /usr/local/lib/python3.6/dist-packages (from pynverse) (1.4.1)\n",
            "Requirement already satisfied: numpy>=1.6 in /usr/local/lib/python3.6/dist-packages (from pynverse) (1.18.5)\n",
            "Building wheels for collected packages: pynverse\n",
            "  Building wheel for pynverse (setup.py) ... \u001b[?25l\u001b[?25hdone\n",
            "  Created wheel for pynverse: filename=pynverse-0.1.4.4-cp36-none-any.whl size=6350 sha256=d04b35eee2fca05e5fe20b667091f673c858d22f7b6ed26c86c7d027cb1755ca\n",
            "  Stored in directory: /root/.cache/pip/wheels/80/ab/86/ec93f37613f012ba3e65c2bbd67e5c54cbc00d237574100c24\n",
            "Successfully built pynverse\n",
            "Installing collected packages: pynverse\n",
            "Successfully installed pynverse-0.1.4.4\n"
          ],
          "name": "stdout"
        }
      ]
    },
    {
      "cell_type": "code",
      "metadata": {
        "id": "zMeVfhXmXpm1",
        "colab_type": "code",
        "outputId": "be69b489-9b37-4e79-9419-2b15c6d076cf",
        "colab": {
          "base_uri": "https://localhost:8080/",
          "height": 72
        }
      },
      "source": [
        "import pandas as pd\n",
        "import numpy as np\n",
        "import matplotlib.pyplot as plt\n",
        "import scipy.stats\n",
        "import matplotlib\n",
        "import pickle\n",
        "\n",
        "import datetime\n",
        "import time\n",
        "from datetime import date\n",
        "\n",
        "import matplotlib.dates as mdates\n",
        "from matplotlib.dates import DateFormatter\n",
        "import seaborn as sns\n",
        "\n",
        "from numpy import log,exp\n",
        "from numpy.random import multinomial\n",
        "from scipy.stats import uniform, gamma, gengamma, poisson, nbinom, expon\n",
        "from scipy.integrate import quad\n",
        "\n",
        "\n",
        "from mpl_toolkits.mplot3d.axes3d import Axes3D, get_test_data\n",
        "from matplotlib import cm\n",
        "from matplotlib.ticker import LinearLocator, FormatStrFormatter\n",
        "\n",
        "from pynverse import inversefunc\n",
        "\n",
        "tilyvoa = pd.read_csv(\"/content/drive/My Drive/data/tilyvoa.csv\")\n",
        "\n",
        "mdg_databe = pd.read_csv(\"/content/drive/My Drive/data/databe mdg.csv\")\n",
        "\n",
        "#tilyvoa.set_index('Daty', inplace=True)\n",
        "\n",
        "tilyvoafar = tilyvoa.groupby('Faritra')\n",
        "\n",
        "tilyvoamdg = tilyvoafar.get_group('Madagasikara')\n",
        "tilyvoamdg.set_index('Daty', inplace=True)\n",
        "tilyvoamdg.index = pd.to_datetime(tilyvoamdg.index)\n",
        "\n",
        "tilyvoatana = tilyvoafar.get_group('Antananarivo')\n",
        "tilyvoatana.set_index('Daty', inplace=True)\n",
        "tilyvoatana.index = pd.to_datetime(tilyvoatana.index)\n",
        "\n",
        "tilyvoatoa = tilyvoafar.get_group('Toamasina')\n",
        "tilyvoatoa.set_index('Daty', inplace=True)\n",
        "tilyvoatoa.index = pd.to_datetime(tilyvoatoa.index)\n",
        "\n",
        "\n",
        "path_to_save = '/content/drive/My Drive/sary/'\n",
        "path_data = '/content/drive/My Drive/data/'"
      ],
      "execution_count": 3,
      "outputs": [
        {
          "output_type": "stream",
          "text": [
            "/usr/local/lib/python3.6/dist-packages/statsmodels/tools/_testing.py:19: FutureWarning: pandas.util.testing is deprecated. Use the functions in the public API at pandas.testing instead.\n",
            "  import pandas.util.testing as tm\n"
          ],
          "name": "stderr"
        }
      ]
    },
    {
      "cell_type": "code",
      "metadata": {
        "id": "CAikaKXrX7d_",
        "colab_type": "code",
        "colab": {}
      },
      "source": [
        "# Voa vaovao (observed incidence)\n",
        "Ivaotoa = tilyvoatoa['Voatomb']\n",
        "\n",
        "dIvao = pd.DataFrame(data =Ivaotoa)\n",
        "\n",
        "# Hoan'ny taha sorisoritry ny fifindrana (infectioness profile distribution)\n",
        "\n",
        "daty_data_manom = datetime.date(2020,5,6)\n",
        "daty_data_mifar = datetime.date(2020,6,16)\n",
        "\n",
        "datyt = daty_data_mifar \n",
        "\n",
        "format_date = lambda date_py: '{}-{}-{}'.format(date_py.year, date_py.month, date_py.day)\n",
        "datyf_data_manom = format_date(daty_data_manom)\n",
        "datyf_data_mifar = format_date(daty_data_mifar)\n",
        "\n",
        "# Discretization of the serial interval distribution\n",
        "\n",
        "#Tombana mialoha (prior distributions)\n",
        "#si_sh = 1/(0.62**2) # Report 13\n",
        "#si_sc = 6.5/si_sh\n",
        "\n",
        "si_sh = (6.48**2)/(3.83**2) # Planning tool: Short-term forecasts\n",
        "si_sc = 6.48/si_sh\n",
        "\n",
        "def discr_si(t):\n",
        "  if t == 0:\n",
        "    discrsi = 0\n",
        "  elif t == 1:\n",
        "    discrsi = gengamma.cdf(3/2, si_sh, 1, loc = 0, scale = si_sc)\n",
        "  else:\n",
        "    discrsi = gengamma.cdf(t+1/2, si_sh, 1, loc = 0, scale = si_sc) - gengamma.cdf(t-1/2, si_sh, 1, loc = 0, scale = si_sc)\n",
        "  return discrsi\n",
        "\n",
        "#discr_si1 = gengamma.cdf(3/2, si_sh, 1, loc = 0, scale = si_sc)\n",
        "\n",
        "# 1/ The total incidence over a generic window (t-k+1,t)\n",
        "# Ireh(t,k) = sum(i = 0 to k-1) Ivao(t - i))\n",
        "\n",
        "def Ireh(t,k):\n",
        "  Irehv = 0\n",
        "  if k - 1 > (t - daty_data_manom).days:\n",
        "    for i in range((t - daty_data_manom).days + 1):\n",
        "      Irehv = Irehv + dIvao['Voatomb'].loc[format_date(t - datetime.timedelta(days = i))]\n",
        "  else:\n",
        "    for i in range(k):\n",
        "      Irehv = Irehv + dIvao['Voatomb'].loc[format_date(t - datetime.timedelta(days = i))]\n",
        "  return Irehv\n",
        "\n",
        "# 2/ Tool to compute the total infectiousness over a generic window (t-k+1,t)\n",
        "# Isi(t,k) = sum(i=0 to k-1) Ivao(t - i)*discr_si(i)\n",
        "\n",
        "# The definition of Isi(t,k) does not include the term Ivao(t) for i = 0 (because discr_si(0) =0) \n",
        "# so we can start the sum from i = 1; but it includes the last term Ivao(t - k + 1)*discr_si(k - 1) for i = k-1. \n",
        "\n",
        "def Isi(t,k):\n",
        "  Ivaosi = 0\n",
        "  if k - 1 > (t - daty_data_manom).days:\n",
        "    for i in range(1, (t - daty_data_manom).days + 1):\n",
        "      Ivaosi = Ivaosi + dIvao['Voatomb'].loc[format_date(t - datetime.timedelta(days = i))]*discr_si(i)\n",
        "  else:\n",
        "    for i in range(1, k):\n",
        "      Ivaosi = Ivaosi + dIvao['Voatomb'].loc[format_date(t - datetime.timedelta(days = i))]*discr_si(i)\n",
        "  return Ivaosi\n",
        "\n",
        "# The total infectiousness before t\n",
        "\n",
        "# lsi(t) := sum(i=0 to t-1) Ivao(t - i)*discr_si(i)\n",
        "\n",
        "def lsi(t):\n",
        "  return Isi(t, (t - daty_data_manom).days +1)\n",
        "\n",
        "  # for checking, take for example t = daty_data_manom + datetime.timedelta(days = 3)\n",
        "\n",
        "# 3/ The sum of total infectiousness before t over a generic window (t-k+1,t)\n",
        "# tlsi(t) := sum(i=t-k+1 to t)lsi(i)\n",
        "\n",
        "def tlsi(t,k):\n",
        "  tlsi = 0\n",
        "  if k - 1 > (t - daty_data_manom).days:\n",
        "    for i in range((t - daty_data_manom).days + 1):\n",
        "      tlsi = tlsi + lsi(t - datetime.timedelta(days = i))\n",
        "  else:\n",
        "    for i in range(k):\n",
        "      tlsi = tlsi + lsi(t - datetime.timedelta(days = i))\n",
        "  return tlsi\n",
        "\n",
        "# 4/ The shape parameters of the posterior predictive negative binomial of I(t+1)\n",
        "\n",
        "# pnb(t,k) = Isi(t+1, t - daty_data_manom + 2)*(1/si_sc + Isi(t,k))/(1 + si(t+1, t - daty_data_manom + 2)*(1/si_sc + Isi(t,k)))\n",
        "\n",
        "def pnb(t,k):\n",
        "  return lsi(t+datetime.timedelta(days = 1))*(1/si_sc + tlsi(t,k))/(1 + lsi(t+datetime.timedelta(days = 1))*(1/si_sc + tlsi(t,k)))\n",
        "\n",
        "# pnb(t,k) dia ny taha herjika hoan'ny NB hoan'ny I(t+1).\n",
        "\n",
        "# 5/ Use the pmf of the posterior predictive negative binomial to compute\n",
        "# each additive contribution at time s then for-loop for s in the time interval\n",
        "\n",
        "def lpr(t,k):\n",
        "  return -np.log(nbinom.pmf(dIvao['Voatomb'].loc[format_date(t + datetime.timedelta(days = 1))], si_sh + Ireh(t,k), pnb(t,k)))\n"
      ],
      "execution_count": 0,
      "outputs": []
    },
    {
      "cell_type": "code",
      "metadata": {
        "id": "ssKrwhMahmWS",
        "colab_type": "code",
        "outputId": "0fa60a2a-bbdb-4f58-9be5-0e76542f5aed",
        "colab": {
          "base_uri": "https://localhost:8080/",
          "height": 141
        }
      },
      "source": [
        "# 6/ Computation of the Accumulated Predictive Error\n",
        "\n",
        "# APE9_part1 \n",
        "\n",
        "# for i in range(8):\n",
        "# t = t_mif - i - 1\n",
        "# k = 9\n",
        "\n",
        "APEt91 = []\n",
        "Prt91 = []\n",
        "\n",
        "APE91 = 0\n",
        "\n",
        "for i in range(round(((daty_data_mifar - daty_data_manom).days + 1)/2) - 1):\n",
        "  t = daty_data_mifar - datetime.timedelta(days = i+1) \n",
        "  k = round(((daty_data_mifar - daty_data_manom).days + 1)/2)\n",
        "  APE91 = APE91 + lpr(t,k)\n",
        "  APEt91.append((lpr(t,k),t))\n",
        "  Prt91.append(expon.pdf(lpr(t,k)))\n",
        "\n",
        "print('For k = 9, APE91 =', APE91)\n",
        "print('APEt91 =', APEt91)\n",
        "print('Prt91 =', Prt91)\n",
        "\n",
        "# APE9_part2 \n",
        "\n",
        "# for i in range(9):\n",
        "# t = t_mif - 1 - 9 + 1 - i\n",
        "# k = t_mif - t - 2*i\n",
        "APEt92 = []\n",
        "Prt92 = []\n",
        "\n",
        "APE92 = 0\n",
        "for i in range(round(((daty_data_mifar - daty_data_manom).days + 1)/2)-1):\n",
        "  t = daty_data_mifar - datetime.timedelta(days = 1) - datetime.timedelta(days = ((daty_data_mifar - daty_data_manom).days + 1)/2) + datetime.timedelta(days = 1) - datetime.timedelta(days = i)\n",
        "  k = (daty_data_mifar - t - datetime.timedelta(days = 2*i)).days\n",
        "  APE92 = APE92 + lpr(t,k) \n",
        "  APEt92.append((lpr(t,k) ,t,k))\n",
        "  Prt92.append(expon.pdf(lpr(t,k)))\n",
        "\n",
        "print('For k = 9, APE92 =', APE92)\n",
        "print('APEt92=', APEt92)\n",
        "print('Prt92=', Prt92)\n",
        "\n",
        "# For t_man such that Ivao(t_man) = Ivao(t_man + 1) = 0, lsi(t_man + 1) = tlsi(t_man + 1, 2) = Ireh(t_man + 1, 2) = 0\n",
        "# so that pnb(t_man + 1, 2) = 0 and "
      ],
      "execution_count": 5,
      "outputs": [
        {
          "output_type": "stream",
          "text": [
            "For k = 9, APE91 = 1705.3528415836724\n",
            "APEt91 = [(10.595955755151378, datetime.date(2020, 6, 15)), (24.623504240831732, datetime.date(2020, 6, 14)), (19.967258188213496, datetime.date(2020, 6, 13)), (44.85412277214431, datetime.date(2020, 6, 12)), (38.88485555679288, datetime.date(2020, 6, 11)), (110.68152971285419, datetime.date(2020, 6, 10)), (85.87140961402076, datetime.date(2020, 6, 9)), (215.38438174133137, datetime.date(2020, 6, 8)), (28.351547204198624, datetime.date(2020, 6, 7)), (48.64807877361763, datetime.date(2020, 6, 6)), (110.06850064332947, datetime.date(2020, 6, 5)), (28.04869732886781, datetime.date(2020, 6, 4)), (145.27227768621327, datetime.date(2020, 6, 3)), (176.64532403069592, datetime.date(2020, 6, 2)), (18.7933098534256, datetime.date(2020, 6, 1)), (108.77290800055258, datetime.date(2020, 5, 31)), (6.112370950289366, datetime.date(2020, 5, 30)), (134.23981287757675, datetime.date(2020, 5, 29)), (205.4355232648657, datetime.date(2020, 5, 28)), (144.1014733886995, datetime.date(2020, 5, 27))]\n",
            "Prt91 = [2.501698021255996e-05, 2.0237086270662493e-11, 2.129756488915366e-09, 3.3120889324133845e-20, 1.2957517441042815e-17, 8.543235872791464e-49, 5.087690118259662e-38, 2.882381897596702e-94, 4.864962486548027e-13, 7.454316587005265e-22, 1.5770938538535305e-48, 6.585754321101045e-13, 8.110570942023405e-64, 1.922695542512558e-77, 6.88920699627106e-09, 5.761376737999677e-48, 0.002215292233584477, 5.016375239633338e-59, 6.032340660140172e-90, 2.6153226387501483e-63]\n",
            "For k = 9, APE92 = 1051.0470820455214\n",
            "APEt92= [(74.97335838932604, datetime.date(2020, 5, 26), 21), (88.82055985423375, datetime.date(2020, 5, 25), 20), (41.089220120805024, datetime.date(2020, 5, 24), 19), (79.85846381561036, datetime.date(2020, 5, 23), 18), (174.94471129560765, datetime.date(2020, 5, 22), 17), (156.75091109626504, datetime.date(2020, 5, 21), 16), (97.92736900818961, datetime.date(2020, 5, 20), 15), (165.8452317791814, datetime.date(2020, 5, 19), 14), (3.1545982948525193, datetime.date(2020, 5, 18), 13), (47.5871185068003, datetime.date(2020, 5, 17), 12), (10.442209776319071, datetime.date(2020, 5, 16), 11), (45.101634912906505, datetime.date(2020, 5, 15), 10), (11.659270435595264, datetime.date(2020, 5, 14), 9), (4.181158756338421, datetime.date(2020, 5, 13), 8), (17.570101424899693, datetime.date(2020, 5, 12), 7), (2.9290973364981276, datetime.date(2020, 5, 11), 6), (6.5839086296459435, datetime.date(2020, 5, 10), 5), (2.2863875324911023, datetime.date(2020, 5, 9), 4), (8.1466901380751, datetime.date(2020, 5, 8), 3), (11.195080941880377, datetime.date(2020, 5, 7), 2)]\n",
            "Prt92= [2.7509592787202633e-33, 2.6651458192409444e-39, 1.4294811597538245e-18, 2.079264944485462e-35, 1.0531185100121117e-76, 8.393522860095831e-69, 2.9558610342231653e-43, 9.426077113312854e-73, 0.04265553249848876, 2.1536594091813286e-21, 2.9174667508207243e-05, 2.5858827705488092e-20, 8.638596455751615e-06, 0.015280790590925596, 2.341002646604762e-08, 0.053445259463176485, 0.0013824352934937532, 0.10163294521313734, 0.00028969261712256445, 1.3741625940636694e-05]\n"
          ],
          "name": "stdout"
        }
      ]
    },
    {
      "cell_type": "code",
      "metadata": {
        "id": "1xfQwaQPhpSZ",
        "colab_type": "code",
        "outputId": "20e7ad21-57f4-4473-9e43-0456b33b0092",
        "colab": {
          "base_uri": "https://localhost:8080/",
          "height": 72
        }
      },
      "source": [
        "# APEk part 1 for k =/= 9\n",
        "\n",
        "# for i in range(t_mif - t_man -j)\n",
        "\n",
        "APEk1 = []\n",
        "#APEt21 = []\n",
        "for j in range(2,9):\n",
        "  APEj1 = 0\n",
        "  for i in range(round(((daty_data_mifar - daty_data_manom).days) - j)):\n",
        "    t = daty_data_mifar - datetime.timedelta(days = i+1) \n",
        "    k = j\n",
        "    APEj1 = APEj1 + lpr(t,k)\n",
        "   # APEt21.append(lpr(t,k))\n",
        "  APEk1.append(APEj1)\n",
        "\n",
        "print('APEk1 =', APEk1)\n",
        "#print('APEt21 =', APEt21)\n",
        "\n",
        "# APEk part 2 for k =/= 9\n",
        "\n",
        "Prk2 = []\n",
        "\n",
        "APEk2 = []\n",
        "\n",
        "for j in range(2,9):\n",
        "  APEj2 = 0\n",
        "  for i in range(j-1):\n",
        "    t = daty_data_manom + datetime.timedelta(days = j - i - 1)\n",
        "    k = j - i\n",
        "    APEj2 = APEj2 + lpr(t,k)\n",
        "  APEk2.append(APEj2)\n",
        "\n",
        "print('APEk2 =', APEk2)"
      ],
      "execution_count": 6,
      "outputs": [
        {
          "output_type": "stream",
          "text": [
            "APEk1 = [2821.6017608022257, 2859.701470323819, 2877.5340484374397, 2858.773019395403, 2844.31625391393, 2816.712819792669, 2804.6161906492753]\n",
            "APEk2 = [11.195080941880377, 19.34177107995548, 21.62815861244658, 28.212067242092523, 31.141164578590647, 48.711266003490344, 52.89242475982877]\n"
          ],
          "name": "stdout"
        }
      ]
    },
    {
      "cell_type": "code",
      "metadata": {
        "id": "3N0Dig32hs7m",
        "colab_type": "code",
        "outputId": "fcfb6360-8eda-4c43-89c3-1af8736ea520",
        "colab": {
          "base_uri": "https://localhost:8080/",
          "height": 106
        }
      },
      "source": [
        "# APEk for k = 2,...,8\n",
        "\n",
        "APEk = [x + y for x, y in zip(APEk1, APEk2)]\n",
        "\n",
        "# APE9\n",
        "APE9 = APE91 + APE92\n",
        "\n",
        "APE = APEk + [APE9]\n",
        "kk = APE.index(min(APE)) +2\n",
        "print('APE9 =', APE9)\n",
        "print('APEk =', APEk)\n",
        "print('APE =', APE)\n",
        "print(kk)\n"
      ],
      "execution_count": 7,
      "outputs": [
        {
          "output_type": "stream",
          "text": [
            "APE9 = 2756.399923629194\n",
            "APEk = [2832.796841744106, 2879.0432414037746, 2899.162207049886, 2886.9850866374954, 2875.4574184925204, 2865.4240857961595, 2857.508615409104]\n",
            "APE = [2832.796841744106, 2879.0432414037746, 2899.162207049886, 2886.9850866374954, 2875.4574184925204, 2865.4240857961595, 2857.508615409104, 2756.399923629194]\n",
            "9\n"
          ],
          "name": "stdout"
        }
      ]
    },
    {
      "cell_type": "markdown",
      "metadata": {
        "id": "7r5NfEGch170",
        "colab_type": "text"
      },
      "source": [
        "# Fifidianana ireo taha mialoha (prior parameters)"
      ]
    },
    {
      "cell_type": "code",
      "metadata": {
        "id": "G0JJwl1Lhv2M",
        "colab_type": "code",
        "colab": {}
      },
      "source": [
        "  #shape\n",
        "def func_sh(t):\n",
        "    def Rtpsand_sh(a):\n",
        "      return a + Ireh(t,kk)\n",
        "    return Rtpsand_sh\n",
        "  # Scale\n",
        "def func_sc(t):\n",
        "    def Rtpsand_sc(b):\n",
        "      return 1/(1/b + tlsi(t,kk))\n",
        "    return Rtpsand_sc\n",
        "\n",
        "def funcsh_inv(t):\n",
        "    def sh_invex(x):\n",
        "      return (x + Ireh(t,kk))/x\n",
        "    return inversefunc(sh_invex, domain=[0.01, 1e+11])\n"
      ],
      "execution_count": 0,
      "outputs": []
    },
    {
      "cell_type": "code",
      "metadata": {
        "id": "1-QHwvNrjV19",
        "colab_type": "code",
        "outputId": "62449725-8f84-468d-973b-ea4ab0f7f17c",
        "colab": {
          "base_uri": "https://localhost:8080/",
          "height": 535
        }
      },
      "source": [
        "# Variation of R(datyab) with rapport to the prior parameters\n",
        "\n",
        "datyab = daty_data_mifar\n",
        "\n",
        "fig = plt.figure(figsize=(7,7))\n",
        "ax = fig.gca(projection='3d')\n",
        "\n",
        "# Make data.\n",
        "X = np.linspace(0.1,5,100)\n",
        "Y = np.linspace(0.1,5,100)\n",
        "X, Y = np.meshgrid(X, Y)\n",
        "Z = func_sh(datyab)(X)*func_sc(datyab)(Y)\n",
        "W = X*Y\n",
        "# Plot the surface.\n",
        "surf = ax.plot_surface(X, Y, Z, cmap=cm.coolwarm,\n",
        "                       linewidth=0, antialiased=False)\n",
        "#surf = ax.plot_surface(X, Y, W, cmap=cm.coolwarm,\n",
        " #                      linewidth=0, antialiased=False)\n",
        "\n",
        "# Customize the z axis.\n",
        "ax.set_zlim(0.67, 0.75)\n",
        "ax.zaxis.set_major_locator(LinearLocator(10))\n",
        "ax.zaxis.set_major_formatter(FormatStrFormatter('%.02f'))\n",
        "\n",
        "ax.set(xlabel ='bika a', ylabel = \"taha b\", zlabel = 'R(t=16/06)')\n",
        "\n",
        "# Add a color bar which maps values to colors.\n",
        "fig.colorbar(surf, shrink=0.5, aspect=5)\n",
        "\n",
        "plt.savefig(path_to_save+'Rt166_toam.eps')\n",
        "\n",
        "plt.show()"
      ],
      "execution_count": 13,
      "outputs": [
        {
          "output_type": "stream",
          "text": [
            "The PostScript backend does not support transparency; partially transparent artists will be rendered opaque.\n",
            "The PostScript backend does not support transparency; partially transparent artists will be rendered opaque.\n",
            "The PostScript backend does not support transparency; partially transparent artists will be rendered opaque.\n",
            "The PostScript backend does not support transparency; partially transparent artists will be rendered opaque.\n",
            "The PostScript backend does not support transparency; partially transparent artists will be rendered opaque.\n",
            "The PostScript backend does not support transparency; partially transparent artists will be rendered opaque.\n"
          ],
          "name": "stderr"
        },
        {
          "output_type": "display_data",
          "data": {
            "image/png": "[encoded data removed]",
            "text/plain": [
              "<Figure size 504x504 with 2 Axes>"
            ]
          },
          "metadata": {
            "tags": [],
            "needs_background": "light"
          }
        }
      ]
    },
    {
      "cell_type": "code",
      "metadata": {
        "id": "Ed9PtyF7lLjJ",
        "colab_type": "code",
        "outputId": "64438043-193c-42ea-b3b8-157740f719af",
        "colab": {
          "base_uri": "https://localhost:8080/",
          "height": 314
        }
      },
      "source": [
        "# R(t) when equality between the prior and the posterior\n",
        "\n",
        "# 100 linearly spaced numbers\n",
        "x = np.linspace(0.1,5,100)\n",
        "\n",
        "fig = plt.figure()\n",
        "ax = fig.add_subplot(1, 1, 1)\n",
        "\n",
        "# plot the function\n",
        "plt.plot(x, x*funcsh_inv(datyab)(x/func_sc(datyab)(x)), 'blue')\n",
        "\n",
        "ax.set_ylim(0,1.5)\n",
        "ax.set(xlabel ='taha', ylabel = \"R(t)\")\n",
        "\n",
        "\n",
        "# show the plot\n",
        "plt.show()\n",
        "\n",
        "print('taha* = 1')\n",
        "print('R(t=',datyab,') =', funcsh_inv(datyab)(1/func_sc(datyab)(1)), '= bika*')\n"
      ],
      "execution_count": 14,
      "outputs": [
        {
          "output_type": "display_data",
          "data": {
            "image/png": "[encoded data removed]",
            "text/plain": [
              "<Figure size 432x288 with 1 Axes>"
            ]
          },
          "metadata": {
            "tags": [],
            "needs_background": "light"
          }
        },
        {
          "output_type": "stream",
          "text": [
            "taha* = 1\n",
            "R(t= 2020-06-16 ) = 0.71602071961071 = bika*\n"
          ],
          "name": "stdout"
        }
      ]
    },
    {
      "cell_type": "markdown",
      "metadata": {
        "id": "IztOCigEn4hL",
        "colab_type": "text"
      },
      "source": [
        "# Fanombanana ny R(t) (estimation of R(t))"
      ]
    },
    {
      "cell_type": "code",
      "metadata": {
        "id": "vKiuy53Tn5tG",
        "colab_type": "code",
        "outputId": "2a167398-df94-46ed-d3ae-983cb562d81e",
        "colab": {
          "base_uri": "https://localhost:8080/",
          "height": 121
        }
      },
      "source": [
        "#shape\n",
        "def func_sh(t):\n",
        "    def Rtpsand_sh(a):\n",
        "      return a + Ireh(t,kk)\n",
        "    return Rtpsand_sh\n",
        "\n",
        "# Scale\n",
        "def func_sc(t):\n",
        "    def Rtpsand_sc(b):\n",
        "      return 1/(1/b + tlsi(t,kk))\n",
        "    return Rtpsand_sc\n",
        "\n",
        "\n",
        "def funcsh_inv(t):\n",
        "    def sh_invex(x):\n",
        "      return (x + Ireh(t,kk))/x\n",
        "    return inversefunc(sh_invex, domain=[1e-11, 1e+11])\n",
        "\n",
        "def Rt_salan(t):\n",
        "    ffunc_sh = func_sh(t)\n",
        "    ffunc_sc = func_sc(t)\n",
        "    ffuncsh_inv = funcsh_inv(t)\n",
        "    return ffuncsh_inv(1/ffunc_sc(1))\n",
        "\n",
        "# The 95th and 5th percentiles of Rt\n",
        "\n",
        "def perc75(t):\n",
        "    return gengamma.ppf(0.75, func_sh(t)(Rt_salan(t)), 1, loc = 0, scale = func_sc(t)(1))\n",
        "\n",
        "def perc25(t):\n",
        "    return gengamma.ppf(0.25, func_sh(t)(Rt_salan(t)), 1, loc = 0, scale = func_sc(t)(1))\n",
        "\n",
        "daty_oh1 = datetime.date(2020,6,4)\n",
        "\n",
        "print(\"Salan'isa R hoan'ny\", daty_oh1, ':', Rt_salan(daty_oh1))\n",
        "print(\"Kartily @ 75% R hoan'ny\", daty_oh1, ':', perc75(daty_oh1))\n",
        "print(\"Kartily @ 25% R hoan'ny\", daty_oh1, ':', perc25(daty_oh1))\n",
        "\n",
        "\n",
        "print(\"Salan'isa R hoan'ny\", daty_data_mifar, ':', Rt_salan(daty_data_mifar))\n",
        "print(\"Kartily @ 75% R hoan'ny\", daty_data_mifar, ':', perc75(daty_data_mifar))\n",
        "print(\"Kartily @ 25% R hoan'ny\", daty_data_mifar, ':', perc25(daty_data_mifar))"
      ],
      "execution_count": 15,
      "outputs": [
        {
          "output_type": "stream",
          "text": [
            "Salan'isa R hoan'ny 2020-06-04 : 0.9768415080240679\n",
            "Kartily @ 75% R hoan'ny 2020-06-04 : 1.022172264516896\n",
            "Kartily @ 25% R hoan'ny 2020-06-04 : 0.9297626941109439\n",
            "Salan'isa R hoan'ny 2020-06-16 : 0.7160207198391835\n",
            "Kartily @ 75% R hoan'ny 2020-06-16 : 0.759006978663332\n",
            "Kartily @ 25% R hoan'ny 2020-06-16 : 0.6708626216895359\n"
          ],
          "name": "stdout"
        }
      ]
    },
    {
      "cell_type": "code",
      "metadata": {
        "id": "Z4teRHg8yJVb",
        "colab_type": "code",
        "colab": {}
      },
      "source": [
        "# Plotting everything except the first 7 days\n",
        "\n",
        "np.random.seed(12345)\n",
        "\n",
        "formatf_date = lambda date_py: '{}/{}'.format(date_py.day, str(date_py.month)[0:1])\n",
        "\n",
        "daty_lst = []\n",
        "\n",
        "data_Rt_lst = []\n",
        "\n",
        "for i in range(round(((daty_data_mifar - daty_data_manom).days) -7)):\n",
        "  t = daty_data_manom + datetime.timedelta(days = i+1 +7)\n",
        "  data_amboar = [gengamma.rvs( func_sh(t)(Rt_salan(t)), 1, loc = 0, scale = func_sc(t)(1)) for j in range(100)]\n",
        "  daty_lst.append(formatf_date(t))\n",
        "  data_Rt_lst.append(data_amboar)\n"
      ],
      "execution_count": 0,
      "outputs": []
    },
    {
      "cell_type": "code",
      "metadata": {
        "id": "VB_YCJSoyZwc",
        "colab_type": "code",
        "outputId": "b4cdf213-0adf-4b2c-dfb7-bc58551add01",
        "colab": {
          "base_uri": "https://localhost:8080/",
          "height": 661
        }
      },
      "source": [
        "# Plotting everything except the first 7 days\n",
        "\n",
        "\n",
        "fig, ax = plt.subplots(figsize=(10, 10))\n",
        "\n",
        "sns.boxplot(daty_lst, data_Rt_lst, color='white', width=0.2, showfliers=False, ax=ax)\n",
        "ax.axhline(y=1, color='b', linestyle='dashed', label =\"R = 1\")\n",
        "\n",
        "ax.set(xlabel ='Andro', ylabel = \"R hoan'i Toamasina\")\n",
        "ax.legend(loc= 'best')\n",
        "\n",
        "\n",
        "plt.savefig(path_to_save+'Rt35166_toam.eps')\n",
        "plt.show()"
      ],
      "execution_count": 17,
      "outputs": [
        {
          "output_type": "stream",
          "text": [
            "The PostScript backend does not support transparency; partially transparent artists will be rendered opaque.\n",
            "The PostScript backend does not support transparency; partially transparent artists will be rendered opaque.\n"
          ],
          "name": "stderr"
        },
        {
          "output_type": "display_data",
          "data": {
            "image/png": "[encoded data removed]",
            "text/plain": [
              "<Figure size 720x720 with 1 Axes>"
            ]
          },
          "metadata": {
            "tags": [],
            "needs_background": "light"
          }
        }
      ]
    },
    {
      "cell_type": "code",
      "metadata": {
        "id": "xKBfDYwZyfSY",
        "colab_type": "code",
        "outputId": "bcac87cc-1d52-4be0-84ab-59da4b894b10",
        "colab": {
          "base_uri": "https://localhost:8080/",
          "height": 661
        }
      },
      "source": [
        "# Plotting the last 10 days\n",
        "\n",
        "\n",
        "fig, ax = plt.subplots(figsize=(10, 10))\n",
        "\n",
        "sns.boxplot(daty_lst[len(daty_lst)-10:len(daty_lst)], data_Rt_lst[len(daty_lst)-10:len(daty_lst)], color='white', width=0.2, showfliers=False, ax=ax)\n",
        "ax.axhline(y=1, color='b', linestyle='dashed', label =\"R = 1\")\n",
        "\n",
        "ax.set(xlabel ='Andro', ylabel = \"R hoan'i Toamasina\")\n",
        "ax.legend(loc= 'best')\n",
        "\n",
        "\n",
        "plt.savefig(path_to_save+'Rt3516610_toam.eps')\n",
        "plt.show()"
      ],
      "execution_count": 18,
      "outputs": [
        {
          "output_type": "stream",
          "text": [
            "The PostScript backend does not support transparency; partially transparent artists will be rendered opaque.\n",
            "The PostScript backend does not support transparency; partially transparent artists will be rendered opaque.\n"
          ],
          "name": "stderr"
        },
        {
          "output_type": "display_data",
          "data": {
            "image/png": "[encoded data removed]",
            "text/plain": [
              "<Figure size 720x720 with 1 Axes>"
            ]
          },
          "metadata": {
            "tags": [],
            "needs_background": "light"
          }
        }
      ]
    },
    {
      "cell_type": "markdown",
      "metadata": {
        "id": "3wcX-L19yjwS",
        "colab_type": "text"
      },
      "source": [
        "## Ny 7 andro manaraka"
      ]
    },
    {
      "cell_type": "code",
      "metadata": {
        "id": "bngEa7th6rgq",
        "colab_type": "code",
        "colab": {}
      },
      "source": [
        "daty_amba = datetime.date(2020,6,8)\n",
        "daty_ambo = datetime.date(2020,6,11)\n"
      ],
      "execution_count": 0,
      "outputs": []
    },
    {
      "cell_type": "code",
      "metadata": {
        "id": "SoqKFBy3yjVn",
        "colab_type": "code",
        "colab": {}
      },
      "source": [
        "# Computing Ivao(daty_mifar + i) for i in range(1,8)\n",
        "\n",
        "daty_vina = daty_amba\n",
        "\n",
        "daty_m1 = daty_data_mifar + datetime.timedelta(days = 1)\n",
        "\n",
        "Iv = int(Rt_salan(daty_vina)*lsi(daty_m1))\n",
        "\n",
        "dIvao.loc[pd.to_datetime(daty_m1)] =[Iv]\n",
        "\n",
        "for i in range(1,8):\n",
        " errt = daty_m1 + datetime.timedelta(days = i)\n",
        " Ivv = int(Rt_salan(daty_vina)*lsi(errt))\n",
        " dIvao.loc[pd.to_datetime(errt)] =[Ivv]\n",
        "\n"
      ],
      "execution_count": 0,
      "outputs": []
    },
    {
      "cell_type": "code",
      "metadata": {
        "id": "6-ON52p2yo44",
        "colab_type": "code",
        "colab": {}
      },
      "source": [
        "# Plotting boundaries for the next 7 days\n",
        "\n",
        "np.random.seed(12345)\n",
        "\n",
        "formatf_date = lambda date_py: '{}/{}'.format(date_py.day, str(date_py.month)[0:1])\n",
        "\n",
        "daty_hoav_lst = []\n",
        "\n",
        "data_hoav = []\n",
        "\n",
        "Ivv_dat = []\n",
        "\n",
        "for i in range(1,8):\n",
        "  t = daty_data_mifar + datetime.timedelta(days = i)\n",
        "  daty = formatf_date(t)\n",
        "  datyy = format_date(t)\n",
        "  data_amboar = [ poisson.rvs(dIvao.loc[datyy]) for j in range(600)]\n",
        "  daty_hoav_lst.append(daty)\n",
        "  data_hoav.append(data_amboar)"
      ],
      "execution_count": 0,
      "outputs": []
    },
    {
      "cell_type": "code",
      "metadata": {
        "id": "psL3beRwyrnB",
        "colab_type": "code",
        "outputId": "a49d968e-7d93-4b57-bf96-e0219c260acf",
        "colab": {
          "base_uri": "https://localhost:8080/",
          "height": 334
        }
      },
      "source": [
        "# Plotting boundaries for the next 7 days\n",
        "\n",
        "fig, ax = plt.subplots(figsize=(10,5))\n",
        "box = sns.boxplot(daty_hoav_lst, data_hoav, color='white', width=0.2, showfliers=False, ax=ax)\n",
        "\n",
        "ax.set_xlabel('Andro any aoriana')\n",
        "ax.set_ylabel(\"Vinavina isan'ny voa vaovao\")\n",
        "\n",
        "plt.savefig(path_to_save+'Ivba166hoav_toam.eps')\n",
        "\n",
        "plt.show()"
      ],
      "execution_count": 28,
      "outputs": [
        {
          "output_type": "display_data",
          "data": {
            "image/png": "[encoded data removed]",
            "text/plain": [
              "<Figure size 720x360 with 1 Axes>"
            ]
          },
          "metadata": {
            "tags": [],
            "needs_background": "light"
          }
        }
      ]
    },
    {
      "cell_type": "code",
      "metadata": {
        "id": "IzpajsA7ILEq",
        "colab_type": "code",
        "outputId": "c4af2ab0-405a-4e0f-d31c-660a4987f7e1",
        "colab": {
          "base_uri": "https://localhost:8080/",
          "height": 139
        }
      },
      "source": [
        "daty_ohv = datetime.date(2020,6,18)\n",
        "\n",
        "print(\"Vinavina R hoan'ny\", daty_ohv, ':', Rt_salan(daty_ohv))\n",
        "print(\"Vinavina kartily @ 75% R hoan'ny\", daty_ohv, ':', perc75(daty_ohv))\n",
        "print(\"Vinavina kartily @ 25% R hoan'ny\", daty_ohv, ':', perc25(daty_ohv))\n",
        "print(\"Vinavina isan'ny voa vaovao hoan'ny\", daty_ohv, ':', dIvao.loc[format_date(daty_ohv)])\n",
        "\n",
        "print(\"Vinavina kartily @ 75% R hoan'ny\", daty_ohv, ':', poisson.ppf(0.95, dIvao.loc[format_date(daty_ohv)]))\n",
        "print(\"Vinavina kartily @ 25% R hoan'ny\", daty_ohv, ':', poisson.ppf(0.25, dIvao.loc[format_date(daty_ohv)]))"
      ],
      "execution_count": 29,
      "outputs": [
        {
          "output_type": "stream",
          "text": [
            "Vinavina R hoan'ny 2020-06-18 : 0.582902284537779\n",
            "Vinavina kartily @ 75% R hoan'ny 2020-06-18 : 0.6229605574205866\n",
            "Vinavina kartily @ 25% R hoan'ny 2020-06-18 : 0.540507830465071\n",
            "Vinavina isan'ny voa vaovao hoan'ny 2020-06-18 : Voatomb    8.0\n",
            "Name: 2020-06-18 00:00:00, dtype: float64\n",
            "Vinavina kartily @ 75% R hoan'ny 2020-06-18 : [13.]\n",
            "Vinavina kartily @ 25% R hoan'ny 2020-06-18 : [6.]\n"
          ],
          "name": "stdout"
        }
      ]
    }
  ]
}