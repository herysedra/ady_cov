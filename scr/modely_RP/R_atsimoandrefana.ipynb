{
  "nbformat": 4,
  "nbformat_minor": 0,
  "metadata": {
    "colab": {
      "name": "R_atsimoandrefana.ipynb",
      "provenance": [],
      "collapsed_sections": [],
      "authorship_tag": "ABX9TyM60RQFaZgz8ZiGccmZmUIn",
      "include_colab_link": true
    },
    "kernelspec": {
      "name": "python3",
      "display_name": "Python 3"
    }
  },
  "cells": [
    {
      "cell_type": "markdown",
      "metadata": {
        "id": "view-in-github",
        "colab_type": "text"
      },
      "source": [
        "<a href=\"https://colab.research.google.com/github/herysedra/ady_cov/blob/master/scr/modely_RP/R_atsimoandrefana.ipynb\" target=\"_parent\"><img src=\"https://colab.research.google.com/assets/colab-badge.svg\" alt=\"Open In Colab\"/></a>"
      ]
    },
    {
      "cell_type": "code",
      "metadata": {
        "id": "uADxd4dd9SRS",
        "outputId": "3dc8b6d2-fce2-461b-e40d-526af6895ef4",
        "colab": {
          "base_uri": "https://localhost:8080/",
          "height": 34
        }
      },
      "source": [
        "from google.colab import drive\n",
        "drive.mount('/content/drive')"
      ],
      "execution_count": 1,
      "outputs": [
        {
          "output_type": "stream",
          "text": [
            "Mounted at /content/drive\n"
          ],
          "name": "stdout"
        }
      ]
    },
    {
      "cell_type": "code",
      "metadata": {
        "id": "yxGXOwpCIOej",
        "outputId": "0e221b4b-9c78-48eb-f8dc-454936aee4c7",
        "colab": {
          "base_uri": "https://localhost:8080/",
          "height": 228
        }
      },
      "source": [
        "!pip install pynverse"
      ],
      "execution_count": 2,
      "outputs": [
        {
          "output_type": "stream",
          "text": [
            "Collecting pynverse\n",
            "  Downloading https://files.pythonhosted.org/packages/88/f8/fb90087055b1502def9b6e835e80fa548996bf1439a81583e592f388f4c9/pynverse-0.1.4.4.tar.gz\n",
            "Requirement already satisfied: scipy>=0.11 in /usr/local/lib/python3.6/dist-packages (from pynverse) (1.4.1)\n",
            "Requirement already satisfied: numpy>=1.6 in /usr/local/lib/python3.6/dist-packages (from pynverse) (1.18.5)\n",
            "Building wheels for collected packages: pynverse\n",
            "  Building wheel for pynverse (setup.py) ... \u001b[?25l\u001b[?25hdone\n",
            "  Created wheel for pynverse: filename=pynverse-0.1.4.4-cp36-none-any.whl size=6350 sha256=9a697625a915f66c0b44ca88b895b71ce2712edf8f5e6d90ff8f30c2e6475097\n",
            "  Stored in directory: /root/.cache/pip/wheels/80/ab/86/ec93f37613f012ba3e65c2bbd67e5c54cbc00d237574100c24\n",
            "Successfully built pynverse\n",
            "Installing collected packages: pynverse\n",
            "Successfully installed pynverse-0.1.4.4\n"
          ],
          "name": "stdout"
        }
      ]
    },
    {
      "cell_type": "code",
      "metadata": {
        "id": "lxByqIEn917l"
      },
      "source": [
        "import pandas as pd\n",
        "import numpy as np\n",
        "import matplotlib.pyplot as plt\n",
        "import scipy.stats\n",
        "import matplotlib\n",
        "import pickle\n",
        "\n",
        "import datetime\n",
        "import time\n",
        "from datetime import date\n",
        "\n",
        "import matplotlib.dates as mdates\n",
        "from matplotlib.dates import DateFormatter\n",
        "import seaborn as sns\n",
        "\n",
        "from numpy import log,exp\n",
        "from numpy.random import multinomial\n",
        "from scipy.stats import uniform, gamma, gengamma, poisson, nbinom, expon\n",
        "from scipy.integrate import quad\n",
        "\n",
        "\n",
        "from mpl_toolkits.mplot3d.axes3d import Axes3D, get_test_data\n",
        "from matplotlib import cm\n",
        "from matplotlib.ticker import LinearLocator, FormatStrFormatter\n",
        "\n",
        "\n",
        "from pynverse import inversefunc\n",
        "\n",
        "tilyvoa = pd.read_csv(\"/content/drive/My Drive/data/tilyvoafaritra.csv\")\n",
        "\n",
        "mdg_databe = pd.read_csv(\"/content/drive/My Drive/data/databe mdg.csv\")\n",
        "\n",
        "#tilyvoa.set_index('Daty', inplace=True)\n",
        "\n",
        "tilyvoafar = tilyvoa.groupby('Faritra')\n",
        "\n",
        "tilyvoamdg = tilyvoafar.get_group('Madagasikara')\n",
        "tilyvoamdg.set_index('Daty', inplace=True)\n",
        "tilyvoamdg.index = pd.to_datetime(tilyvoamdg.index)\n",
        "\n",
        "tilyvoaanala = tilyvoafar.get_group('Analamanga')\n",
        "tilyvoaanala.set_index('Daty', inplace=True)\n",
        "tilyvoaanala.index = pd.to_datetime(tilyvoaanala.index)\n",
        "\n",
        "tilyvoaatsi = tilyvoafar.get_group('Atsinanana')\n",
        "tilyvoaatsi.set_index('Daty', inplace=True)\n",
        "tilyvoaatsi.index = pd.to_datetime(tilyvoaatsi.index)\n",
        "\n",
        "tilyvoaalao = tilyvoafar.get_group('Alaotra')\n",
        "tilyvoaalao.set_index('Daty', inplace=True)\n",
        "tilyvoaalao.index = pd.to_datetime(tilyvoaalao.index)\n",
        "\n",
        "tilyvoamania = tilyvoafar.get_group('Mania')\n",
        "tilyvoamania.set_index('Daty', inplace=True)\n",
        "tilyvoamania.index = pd.to_datetime(tilyvoamania.index)\n",
        "\n",
        "tilyvoajiro = tilyvoafar.get_group('Analanjirofo')\n",
        "tilyvoajiro.set_index('Daty', inplace=True)\n",
        "tilyvoajiro.index = pd.to_datetime(tilyvoajiro.index)\n",
        "\n",
        "tilyvoanosy = tilyvoafar.get_group('Anosy')\n",
        "tilyvoanosy.set_index('Daty', inplace=True)\n",
        "tilyvoanosy.index = pd.to_datetime(tilyvoanosy.index)\n",
        "\n",
        "tilyvoaandro = tilyvoafar.get_group('Androy')\n",
        "tilyvoaandro.set_index('Daty', inplace=True)\n",
        "tilyvoaandro.index = pd.to_datetime(tilyvoaandro.index)\n",
        "\n",
        "tilyvoaatsim = tilyvoafar.get_group('Atsimoandrefana')\n",
        "tilyvoaatsim.set_index('Daty', inplace=True)\n",
        "tilyvoaatsim.index = pd.to_datetime(tilyvoaatsim.index)\n",
        "\n",
        "tilyvoaatsitsi = tilyvoafar.get_group('AtsimoAtsinanana')\n",
        "tilyvoaatsitsi.set_index('Daty', inplace=True)\n",
        "tilyvoaatsitsi.index = pd.to_datetime(tilyvoaatsitsi.index)\n",
        "\n",
        "tilyvoabe = tilyvoafar.get_group('Betsiboka')\n",
        "tilyvoabe.set_index('Daty', inplace=True)\n",
        "tilyvoabe.index = pd.to_datetime(tilyvoabe.index)\n",
        "\n",
        "tilyvoaboe = tilyvoafar.get_group('Boeny')\n",
        "tilyvoaboe.set_index('Daty', inplace=True)\n",
        "tilyvoaboe.index = pd.to_datetime(tilyvoaboe.index)\n",
        "\n",
        "tilyvoabon = tilyvoafar.get_group('Bongolava')\n",
        "tilyvoabon.set_index('Daty', inplace=True)\n",
        "tilyvoabon.index = pd.to_datetime(tilyvoabon.index)\n",
        "\n",
        "tilyvoadia = tilyvoafar.get_group('Diana')\n",
        "tilyvoadia.set_index('Daty', inplace=True)\n",
        "tilyvoadia.index = pd.to_datetime(tilyvoadia.index)\n",
        "\n",
        "tilyvoatsiatr = tilyvoafar.get_group('Matsiatra')\n",
        "tilyvoatsiatr.set_index('Daty', inplace=True)\n",
        "tilyvoatsiatr.index = pd.to_datetime(tilyvoatsiatr.index)\n",
        "\n",
        "tilyvoahoro = tilyvoafar.get_group('Ihorombe')\n",
        "tilyvoahoro.set_index('Daty', inplace=True)\n",
        "tilyvoahoro.index = pd.to_datetime(tilyvoahoro.index)\n",
        "\n",
        "tilyvoatasy = tilyvoafar.get_group('Itasy')\n",
        "tilyvoatasy.set_index('Daty', inplace=True)\n",
        "tilyvoatasy.index = pd.to_datetime(tilyvoatasy.index)\n",
        "\n",
        "tilyvoamel = tilyvoafar.get_group('Melaky')\n",
        "tilyvoamel.set_index('Daty', inplace=True)\n",
        "tilyvoamel.index = pd.to_datetime(tilyvoamel.index)\n",
        "\n",
        "tilyvoamena = tilyvoafar.get_group('Menabe')\n",
        "tilyvoamena.set_index('Daty', inplace=True)\n",
        "tilyvoamena.index = pd.to_datetime(tilyvoamena.index)\n",
        "\n",
        "tilyvoasava = tilyvoafar.get_group('Sava')\n",
        "tilyvoasava.set_index('Daty', inplace=True)\n",
        "tilyvoasava.index = pd.to_datetime(tilyvoasava.index)\n",
        "\n",
        "tilyvoasofi = tilyvoafar.get_group('Sofia')\n",
        "tilyvoasofi.set_index('Daty', inplace=True)\n",
        "tilyvoasofi.index = pd.to_datetime(tilyvoasofi.index)\n",
        "\n",
        "tilyvoakara = tilyvoafar.get_group('Vakinakaratra')\n",
        "tilyvoakara.set_index('Daty', inplace=True)\n",
        "tilyvoakara.index = pd.to_datetime(tilyvoakara.index)\n",
        "\n",
        "tilyvoavavy = tilyvoafar.get_group('Vatovavy')\n",
        "tilyvoavavy.set_index('Daty', inplace=True)\n",
        "tilyvoavavy.index = pd.to_datetime(tilyvoavavy.index)\n",
        "\n",
        "path_to_save = '/content/drive/My Drive/sary/'\n",
        "path_data = '/content/drive/My Drive/data/'"
      ],
      "execution_count": 3,
      "outputs": []
    },
    {
      "cell_type": "code",
      "metadata": {
        "id": "pjR3t1mZ992G"
      },
      "source": [
        "# Voa vaovao (observed incidence)\n",
        "Ivaoatsim = tilyvoaatsim['Voatomb']\n",
        "\n",
        "dIvao = pd.DataFrame(data =Ivaoatsim)\n",
        "\n",
        "daty_data_manom = datetime.date(2020,8,7)\n",
        "daty_data_mifar = datetime.date(2020,10,7)\n",
        "\n",
        "datyt = daty_data_mifar\n",
        "\n",
        "format_date = lambda date_py: '{}-{}-{}'.format(date_py.year, date_py.month, date_py.day)\n",
        "\n",
        "\n",
        "# 0/ Discretization of the serial interval distribution\n",
        "\n",
        "#Tombana mialoha (prior distributions)\n",
        "#si_sh = 1/(0.62**2) # Report 13\n",
        "#si_sc = 6.5/si_sh\n",
        "\n",
        "si_sh = (6.48**2)/(3.83**2) # Jereo Imperial Covid-19 COVID-19 response team: Short-term forecasts\n",
        "si_sc = 6.48/si_sh\n",
        "\n",
        "def discr_si(t):\n",
        "  if t == 0:\n",
        "    discrsi = 0\n",
        "  elif t == 1:\n",
        "    discrsi = gengamma.cdf(3/2, si_sh, 1, loc = 0, scale = si_sc)\n",
        "  else:\n",
        "    discrsi = gengamma.cdf(t+1/2, si_sh, 1, loc = 0, scale = si_sc) - gengamma.cdf(t-1/2, si_sh, 1, loc = 0, scale = si_sc)\n",
        "  return discrsi\n",
        "\n",
        "# 1/ The total incidence over a generic window (t-k+1,t)\n",
        "# Ireh(t,k) = sum(i = 0 to k-1) Ivao(t - i))\n",
        "\n",
        "def Ireh(t,k):\n",
        "  Irehv = 0\n",
        "  if k - 1 > (t - daty_data_manom).days:\n",
        "    for i in range((t - daty_data_manom).days + 1):\n",
        "      Irehv = Irehv + dIvao['Voatomb'].loc[format_date(t - datetime.timedelta(days = i))]\n",
        "  else:\n",
        "    for i in range(k):\n",
        "      Irehv = Irehv + dIvao['Voatomb'].loc[format_date(t - datetime.timedelta(days = i))]\n",
        "  return Irehv\n",
        "\n",
        "# 2/ Tool to compute the total infectiousness over a generic window (t-k+1,t)\n",
        "# Isi(t,k) = sum(i=0 to k-1) Ivao(t - i)*discr_si(i)\n",
        "\n",
        "# The definition of Isi(t,k) does not include the term Ivao(t) for i = 0 (because discr_si(0) =0)\n",
        "# so we can start the sum from i = 1; but it includes the last term Ivao(t - k + 1)*discr_si(k - 1) for i = k-1. \n",
        "\n",
        "def Isi(t,k):\n",
        "  Ivaosi = 0\n",
        "  if k - 1 > (t - daty_data_manom).days:\n",
        "    for i in range(1,(t - daty_data_manom).days + 1):\n",
        "      Ivaosi = Ivaosi + dIvao['Voatomb'].loc[format_date(t - datetime.timedelta(days = i))]*discr_si(i)\n",
        "  else:\n",
        "    for i in range(1,k):\n",
        "      Ivaosi = Ivaosi + dIvao['Voatomb'].loc[format_date(t - datetime.timedelta(days = i))]*discr_si(i)\n",
        "  return Ivaosi\n",
        "\n",
        "# The total infectiousness before t\n",
        "\n",
        "# lsi(t) := sum(i=0 to t-1) Ivao(t - i)*discr_si(i)\n",
        "\n",
        "def lsi(t):\n",
        "  return Isi(t, (t - daty_data_manom).days +1)\n",
        "\n",
        "  # for checking, take for example t = daty_data_manom + datetime.timedelta(days = 3)\n",
        "\n",
        "# 3/ The sum of total infectiousness before t over a generic window (t-k+1,t)\n",
        "# tlsi(t) := sum(i=t-k+1 to t)lsi(i)\n",
        "\n",
        "def tlsi(t,k):\n",
        "  tlsi = 0\n",
        "  if k - 1 > (t - daty_data_manom).days:\n",
        "    for i in range((t - daty_data_manom).days + 1):\n",
        "      tlsi = tlsi + lsi(t - datetime.timedelta(days = i))\n",
        "  else:\n",
        "    for i in range(k):\n",
        "      tlsi = tlsi + lsi(t - datetime.timedelta(days = i))\n",
        "  return tlsi\n",
        "\n",
        "# 4/ The shape parameters of the posterior predictive negative binomial of I(t+1)\n",
        "# pnb(t,k) = lsi(t+1)*Gamma_post_scale(R(t,k))/(1 + lsi(t+1)*Gamma_post_scale(R(t,k)))\n",
        "\n",
        "def pnb(t,k):\n",
        "  return lsi(t+datetime.timedelta(days = 1))/(1/si_sc + tlsi(t,k) + lsi(t+datetime.timedelta(days = 1)))\n",
        "\n",
        "# pnb(t,k) dia ny taha herjika hoan'ny NB hoan'ny I(t+1).\n",
        "\n",
        "# 5/ Use the pmf of the posterior predictive negative binomial to compute\n",
        "# each additive contribution at time s then for-loop for s in the time interval\n",
        "\n",
        "def lpr(t,k):\n",
        "  return -np.log(nbinom.pmf(dIvao['Voatomb'].loc[format_date(t + datetime.timedelta(days = 1))], si_sh + Ireh(t,k), pnb(t,k)))\n"
      ],
      "execution_count": 37,
      "outputs": []
    },
    {
      "cell_type": "markdown",
      "metadata": {
        "id": "iGs-NO_yM5qb"
      },
      "source": [
        "# Fifidianana ireo taha mialoha (prior parameters)"
      ]
    },
    {
      "cell_type": "code",
      "metadata": {
        "id": "Yd5XWal3M0Jx"
      },
      "source": [
        "  #shape\n",
        "kk=2\n",
        "def func_sh(t):\n",
        "    def Rtpsand_sh(a):\n",
        "      return a + Ireh(t,kk)\n",
        "    return Rtpsand_sh\n",
        "  # Scale\n",
        "def func_sc(t):\n",
        "    def Rtpsand_sc(b):\n",
        "      return 1/(1/b + tlsi(t,kk))\n",
        "    return Rtpsand_sc\n",
        "\n",
        "def funcsh_inv(t):\n",
        "    def sh_invex(x):\n",
        "      return (x + Ireh(t,kk))/x\n",
        "    return inversefunc(sh_invex, domain=[0.01, 1e+11])\n"
      ],
      "execution_count": 6,
      "outputs": []
    },
    {
      "cell_type": "code",
      "metadata": {
        "id": "ooXaFKxeNjlT",
        "outputId": "8fc57d36-b2e8-46ef-ab35-84ceda7523cd",
        "colab": {
          "base_uri": "https://localhost:8080/",
          "height": 535
        }
      },
      "source": [
        "# Variation of R(datyab) with rapport to the prior parameters\n",
        "\n",
        "datyab = daty_data_mifar\n",
        "\n",
        "fig = plt.figure(figsize=(7,7))\n",
        "ax = fig.gca(projection='3d')\n",
        "\n",
        "# Make data.\n",
        "X = np.linspace(0.1,5,100)\n",
        "Y = np.linspace(0.1,5,100)\n",
        "X, Y = np.meshgrid(X, Y)\n",
        "Z = func_sh(datyab)(X)*func_sc(datyab)(Y)\n",
        "W = X*Y\n",
        "# Plot the surface.\n",
        "surf = ax.plot_surface(X, Y, Z, cmap=cm.coolwarm,\n",
        "                       linewidth=0, antialiased=False)\n",
        "#surf = ax.plot_surface(X, Y, W, cmap=cm.coolwarm,\n",
        " #                      linewidth=0, antialiased=False)\n",
        "\n",
        "# Customize the z axis.\n",
        "ax.set_zlim(0.1, 2)\n",
        "ax.zaxis.set_major_locator(LinearLocator(10))\n",
        "ax.zaxis.set_major_formatter(FormatStrFormatter('%.02f'))\n",
        "\n",
        "ax.set(xlabel ='bika a', ylabel = \"taha b\", zlabel = 'R(t=07/10)')\n",
        "\n",
        "# Add a color bar which maps values to colors.\n",
        "fig.colorbar(surf, shrink=0.5, aspect=5)\n",
        "\n",
        "plt.savefig(path_to_save+'Rt710_atsim.eps')\n",
        "\n",
        "plt.show()"
      ],
      "execution_count": 8,
      "outputs": [
        {
          "output_type": "stream",
          "text": [
            "The PostScript backend does not support transparency; partially transparent artists will be rendered opaque.\n",
            "The PostScript backend does not support transparency; partially transparent artists will be rendered opaque.\n",
            "The PostScript backend does not support transparency; partially transparent artists will be rendered opaque.\n",
            "The PostScript backend does not support transparency; partially transparent artists will be rendered opaque.\n",
            "The PostScript backend does not support transparency; partially transparent artists will be rendered opaque.\n",
            "The PostScript backend does not support transparency; partially transparent artists will be rendered opaque.\n"
          ],
          "name": "stderr"
        },
        {
          "output_type": "display_data",
          "data": {
            "image/png": "[encoded data removed]",
            "text/plain": [
              "<Figure size 504x504 with 2 Axes>"
            ]
          },
          "metadata": {
            "tags": [],
            "needs_background": "light"
          }
        }
      ]
    },
    {
      "cell_type": "code",
      "metadata": {
        "id": "Rf4diAnHNspM",
        "outputId": "38d52fb4-cb6b-45b8-c2c9-d8f1b7962cf5",
        "colab": {
          "base_uri": "https://localhost:8080/",
          "height": 318
        }
      },
      "source": [
        "# R(t) when equality between the prior and the posterior\n",
        "\n",
        "# 100 linearly spaced numbers\n",
        "x = np.linspace(0.1,5,100)\n",
        "\n",
        "fig = plt.figure()\n",
        "ax = fig.add_subplot(1, 1, 1)\n",
        "\n",
        "# plot the function\n",
        "plt.plot(x, x*funcsh_inv(datyab)(x/func_sc(datyab)(x)), 'blue')\n",
        "\n",
        "ax.set_ylim(0,3)\n",
        "ax.set(xlabel ='taha', ylabel = \"R(t)\")\n",
        "\n",
        "\n",
        "# show the plot\n",
        "plt.show()\n",
        "\n",
        "print('taha* = 1')\n",
        "print('R(t=',datyab,') =', funcsh_inv(datyab)(1/func_sc(datyab)(1)), '= bika*')\n"
      ],
      "execution_count": 9,
      "outputs": [
        {
          "output_type": "display_data",
          "data": {
            "image/png": "[encoded data removed]",
            "text/plain": [
              "<Figure size 432x288 with 1 Axes>"
            ]
          },
          "metadata": {
            "tags": [],
            "needs_background": "light"
          }
        },
        {
          "output_type": "stream",
          "text": [
            "taha* = 1\n",
            "R(t= 2020-10-07 ) = 0.9471569334811522 = bika*\n"
          ],
          "name": "stdout"
        }
      ]
    },
    {
      "cell_type": "markdown",
      "metadata": {
        "id": "yLvrlZ4f7Hlq"
      },
      "source": [
        "# Fanombanana ny R(t) (estimation of Rt)"
      ]
    },
    {
      "cell_type": "markdown",
      "metadata": {
        "id": "VFnTnEDDEYsk"
      },
      "source": [
        "### Fomba mifidy a sy b"
      ]
    },
    {
      "cell_type": "code",
      "metadata": {
        "id": "UeYe08R8EdDQ",
        "outputId": "0df0da7f-2936-49a2-de00-7301fbffe8c7",
        "colab": {
          "base_uri": "https://localhost:8080/",
          "height": 139
        }
      },
      "source": [
        "# Prior Gamma distribution of Rt\n",
        "\n",
        "Rtpr_sh = 1 # shape\n",
        "Rtpr_sc = 1 # scale\n",
        "\n",
        "# Posterior distribution for Rt\n",
        "\n",
        "# Shape parameter :\n",
        "def Rtps_sh(t):\n",
        "   return Rtpr_sh + Ireh(t,kk)\n",
        "\n",
        "# Scale\n",
        "def Rtps_sc(t):\n",
        "  return 1/(1/Rtpr_sc + tlsi(t,kk))\n",
        "\n",
        "# mean\n",
        "def Rt_salan(t):\n",
        "  return Rtps_sh(t)*Rtps_sc(t)\n",
        "\n",
        "# 75th and 25th percentiles\n",
        "\n",
        "def perc75(t):\n",
        "  return gengamma.ppf(0.75, Rtps_sh(t), 1, loc = 0, scale = Rtps_sc(t))\n",
        "\n",
        "def perc25(t):\n",
        "  return gengamma.ppf(0.25, Rtps_sh(t), 1, loc = 0, scale = Rtps_sc(t))\n",
        "\n",
        "\n",
        "def Rtps_sal(t):\n",
        "  return dIvao['Voatomb'].loc[format_date(t)]/lsi(t)\n",
        "\n",
        "\n",
        "daty_oh1 = datetime.date(2020,7,18)\n",
        "\n",
        "print(\"Kajy mivantana ny R hoan'ny\", daty_data_mifar, ':', Rtps_sal(daty_data_mifar))\n",
        "\n",
        "print(\"Salan'isa R hoan'ny\", daty_oh1, ':', Rt_salan(daty_oh1))\n",
        "print(\"Kartily @ 75% R hoan'ny\", daty_oh1, ':', perc75(daty_oh1))\n",
        "print(\"Kartily @ 25% R hoan'ny\", daty_oh1, ':', perc25(daty_oh1))\n",
        "\n",
        "\n",
        "print(\"Salan'isa R hoan'ny\", daty_data_mifar, ':', Rt_salan(daty_data_mifar))\n",
        "print(\"Kartily @ 75% R hoan'ny\", daty_data_mifar, ':', perc75(daty_data_mifar))\n",
        "print(\"Kartily @ 25% R hoan'ny\", daty_data_mifar, ':', perc25(daty_data_mifar))"
      ],
      "execution_count": 12,
      "outputs": [
        {
          "output_type": "stream",
          "text": [
            "Kajy mivantana ny R hoan'ny 2020-10-07 : 1.0385258344586763\n",
            "Salan'isa R hoan'ny 2020-07-18 : 1.0\n",
            "Kartily @ 75% R hoan'ny 2020-07-18 : 1.3862943611198906\n",
            "Kartily @ 25% R hoan'ny 2020-07-18 : 0.2876820724517809\n",
            "Salan'isa R hoan'ny 2020-10-07 : 0.955572833211369\n",
            "Kartily @ 75% R hoan'ny 2020-10-07 : 1.1821553705085266\n",
            "Kartily @ 25% R hoan'ny 2020-10-07 : 0.671960310681697\n"
          ],
          "name": "stdout"
        }
      ]
    },
    {
      "cell_type": "code",
      "metadata": {
        "id": "41E0HLdODGRx",
        "outputId": "cb785765-e5f0-462e-f1f8-1f0af32f09b0",
        "colab": {
          "base_uri": "https://localhost:8080/",
          "height": 191
        }
      },
      "source": [
        "rt_atsim_lst = []\n",
        "\n",
        "daty_oh2 = datetime.date(2020,10,7)\n",
        "for i in range(10):\n",
        "  t = daty_oh2 - datetime.timedelta(days = i)\n",
        "  rt_amboar = Rt_salan(t)\n",
        "  rt_atsim_lst.append((t,Rt_salan(t)))\n",
        "\n",
        "rt_atsim_lst"
      ],
      "execution_count": 13,
      "outputs": [
        {
          "output_type": "execute_result",
          "data": {
            "text/plain": [
              "[(datetime.date(2020, 10, 7), 0.955572833211369),\n",
              " (datetime.date(2020, 10, 6), 0.594845268109242),\n",
              " (datetime.date(2020, 10, 5), 4.794525170538011),\n",
              " (datetime.date(2020, 10, 4), 7.50401412529513),\n",
              " (datetime.date(2020, 10, 3), 2.4394468477773894),\n",
              " (datetime.date(2020, 10, 2), 4.173970909035479),\n",
              " (datetime.date(2020, 10, 1), 3.267727356046022),\n",
              " (datetime.date(2020, 9, 30), 1.3069322752906476),\n",
              " (datetime.date(2020, 9, 29), 1.2717524808928988),\n",
              " (datetime.date(2020, 9, 28), 0.6076998048601485)]"
            ]
          },
          "metadata": {
            "tags": []
          },
          "execution_count": 13
        }
      ]
    },
    {
      "cell_type": "code",
      "metadata": {
        "id": "O-h4ykNcnxXb"
      },
      "source": [
        "# Plotting \n",
        "\n",
        "np.random.seed(12345)\n",
        "\n",
        "daty_data_mifar9 = daty_data_mifar - datetime.timedelta(days = 9)\n",
        "\n",
        "formatf_date = lambda date_py: '{}/{}'.format(date_py.day, date_py.month)\n",
        "\n",
        "daty_lst = []\n",
        "\n",
        "data_Rt_lst = []\n",
        "\n",
        "for i in range(round(((daty_data_mifar - daty_data_mifar9).days)+1)):\n",
        "  t = daty_data_mifar9 + datetime.timedelta(days = i)\n",
        "  data_amboar = [gengamma.rvs( func_sh(t)(Rt_salan(t)), 1, loc = 0, scale = func_sc(t)(1)) for j in range(1000)]\n",
        "  daty_lst.append(formatf_date(t))\n",
        "  data_Rt_lst.append(data_amboar)\n"
      ],
      "execution_count": 17,
      "outputs": []
    },
    {
      "cell_type": "code",
      "metadata": {
        "id": "sqLqYm6FyreD"
      },
      "source": [
        "Rtdata = pd.DataFrame(columns =['daty10','rt10'])\n",
        "for i in range(10):\n",
        "    Rtdata.loc[i] = [daty_lst[i],data_Rt_lst[i]]\n",
        "\n",
        "Rtdata = Rtdata.explode('rt10')\n",
        "Rtdata['rt10'] = Rtdata['rt10'].astype('float')"
      ],
      "execution_count": 18,
      "outputs": []
    },
    {
      "cell_type": "code",
      "metadata": {
        "id": "lfHVYgX8sVGI",
        "outputId": "7020d756-e4ed-4e96-946d-17427b5e0848",
        "colab": {
          "base_uri": "https://localhost:8080/",
          "height": 661
        }
      },
      "source": [
        "# Plotting the last 10 days\n",
        "\n",
        "\n",
        "fig, ax = plt.subplots(figsize=(10, 10))\n",
        "\n",
        "sns.boxplot(x = \"daty10\", y = \"rt10\", data = Rtdata, color='white', width=0.2, showfliers=False, ax=ax)\n",
        "ax.axhline(y=1, color='b', linestyle='dashed', label =\"R = 1\")\n",
        "\n",
        "ax.set(xlabel ='Andro', ylabel = \"R hoan'Atsimo Andrefana\")\n",
        "ax.legend(loc= 'best')\n",
        "\n",
        "plt.savefig(path_to_save+'Rt71010_atsim.png')\n",
        "plt.savefig(path_to_save+'Rt71010_atsim.eps')\n",
        "plt.show()"
      ],
      "execution_count": 19,
      "outputs": [
        {
          "output_type": "stream",
          "text": [
            "The PostScript backend does not support transparency; partially transparent artists will be rendered opaque.\n",
            "The PostScript backend does not support transparency; partially transparent artists will be rendered opaque.\n"
          ],
          "name": "stderr"
        },
        {
          "output_type": "display_data",
          "data": {
            "image/png": "[encoded data removed]",
            "text/plain": [
              "<Figure size 720x720 with 1 Axes>"
            ]
          },
          "metadata": {
            "tags": [],
            "needs_background": "light"
          }
        }
      ]
    },
    {
      "cell_type": "markdown",
      "metadata": {
        "id": "mZw1y75wN-bJ"
      },
      "source": [
        "# Jeritodika ny herinandro"
      ]
    },
    {
      "cell_type": "code",
      "metadata": {
        "id": "zAXOfqomjrFr"
      },
      "source": [
        "daty_ambaj = datetime.date(2020,10,7)\n",
        "daty_amboj = datetime.date(2020,10,2)\n",
        "\n",
        "daty_data_mifarj = datetime.date(2020,9,30)"
      ],
      "execution_count": 23,
      "outputs": []
    },
    {
      "cell_type": "code",
      "metadata": {
        "id": "tTC4k9Lp-M3x",
        "outputId": "210d6ab2-09e5-4420-d292-18cd73b4be05",
        "colab": {
          "base_uri": "https://localhost:8080/",
          "height": 121
        }
      },
      "source": [
        "daty_oh1 = daty_ambaj\n",
        "\n",
        "print(\"Tombana ambany: R \",daty_oh1,':',  Rt_salan(daty_oh1))\n",
        "print(\"75%-kartily R :\",':', perc75(daty_oh1))\n",
        "print(\"25%-kartily R :\", perc25(daty_oh1))\n",
        "\n",
        "daty_oh2 = daty_amboj\n",
        "\n",
        "print(\"Tombana ambony: R\", daty_oh2,':', Rt_salan(daty_oh2))\n",
        "print(\"75%-kartily R :\",':', perc75(daty_oh2))\n",
        "print(\"25%-kartily R :\", perc25(daty_oh2))\n"
      ],
      "execution_count": 24,
      "outputs": [
        {
          "output_type": "stream",
          "text": [
            "Tombana ambany: R  2020-10-07 : 0.955572833211369\n",
            "75%-kartily R : : 1.1821553705085266\n",
            "25%-kartily R : 0.671960310681697\n",
            "Tombana ambony: R 2020-10-02 : 4.173970909035479\n",
            "75%-kartily R : : 5.103255920114023\n",
            "25%-kartily R : 3.0306945789186135\n"
          ],
          "name": "stdout"
        }
      ]
    },
    {
      "cell_type": "markdown",
      "metadata": {
        "id": "l3kwgvqCjywa"
      },
      "source": [
        "### Ambany"
      ]
    },
    {
      "cell_type": "code",
      "metadata": {
        "id": "LUSXPgMGjwZS"
      },
      "source": [
        "# Computing Ivao(daty_mifarj + i) for i in range(1,8)\n",
        "\n",
        "daty_m1j = daty_data_mifarj + datetime.timedelta(days = 1)\n",
        "\n",
        "#Rt_amba_hitsiny = (Rt_salan(datetime.date(2020,7,20))- Rt_salan(daty_ambaj))/2\n",
        "\n",
        "Rt_amba_hitsiny = 0\n",
        "Rt_vinaj = Rt_salan(daty_ambaj) + Rt_amba_hitsiny\n",
        "\n",
        "Iv = int(Rt_vinaj*lsi(daty_m1j))\n",
        "\n",
        "dIvao.loc[pd.to_datetime(daty_m1j)] =[Iv]\n",
        "\n",
        "for i in range(1,8):\n",
        " tj = daty_m1j + datetime.timedelta(days = i)\n",
        " Ivv = int(Rt_vinaj*lsi(tj))\n",
        " dIvao.loc[pd.to_datetime(tj)] = [Ivv]"
      ],
      "execution_count": 25,
      "outputs": []
    },
    {
      "cell_type": "code",
      "metadata": {
        "id": "HBTIuzExyezq",
        "outputId": "30dde21b-3606-4e3f-fbcd-b1c2965a12a1",
        "colab": {
          "base_uri": "https://localhost:8080/",
          "height": 34
        }
      },
      "source": [
        "Rt_vinaj"
      ],
      "execution_count": null,
      "outputs": [
        {
          "output_type": "execute_result",
          "data": {
            "text/plain": [
              "0.73591609814785"
            ]
          },
          "metadata": {
            "tags": []
          },
          "execution_count": 48
        }
      ]
    },
    {
      "cell_type": "code",
      "metadata": {
        "id": "7cbMbwU0j5sF"
      },
      "source": [
        "# Sampling\n",
        "\n",
        "np.random.seed(12345)\n",
        "\n",
        "formatf_date = lambda date_py: '{}/{}'.format(date_py.day, date_py.month)\n",
        "\n",
        "daty_j_lst = []\n",
        "\n",
        "data_baj = []\n",
        "\n",
        "\n",
        "for i in range(1,8):\n",
        "  t = daty_data_mifarj + datetime.timedelta(days = i)\n",
        "  daty = formatf_date(t)\n",
        "  datyy = format_date(t)\n",
        "  data_amboar = [ poisson.rvs(dIvao.loc[datyy]) for j in range(600)]\n",
        "  daty_j_lst.append(daty)\n",
        "  data_baj.append(data_amboar)\n"
      ],
      "execution_count": 26,
      "outputs": []
    },
    {
      "cell_type": "markdown",
      "metadata": {
        "id": "I8h6TUy7j7Lx"
      },
      "source": [
        "###Ambony"
      ]
    },
    {
      "cell_type": "code",
      "metadata": {
        "id": "B9tJ_UVCj_BJ"
      },
      "source": [
        "# Computing Ivao(daty_mifarj + i) for i in range(1,8)\n",
        "\n",
        "daty_m1j = daty_data_mifarj + datetime.timedelta(days = 1)\n",
        "\n",
        "#Rt_ambo_hitsiny = (Rt_salan(datetime.date(2020,7,22))- Rt_salan(daty_amboj))/2\n",
        "\n",
        "Rt_ambo_hitsiny = 0\n",
        "Rt_vinaj = Rt_salan(daty_amboj) + Rt_ambo_hitsiny\n",
        "\n",
        "Iv = int(Rt_vinaj*lsi(daty_m1j))\n",
        "\n",
        "dIvao.loc[pd.to_datetime(daty_m1j)] =[Iv]\n",
        "\n",
        "for i in range(1,8):\n",
        " tj = daty_m1j + datetime.timedelta(days = i)\n",
        " Ivv = int(Rt_vinaj*lsi(tj))\n",
        " dIvao.loc[pd.to_datetime(tj)] = [Ivv]"
      ],
      "execution_count": 28,
      "outputs": []
    },
    {
      "cell_type": "code",
      "metadata": {
        "id": "k59brFsghy6L",
        "outputId": "26bf213b-7d36-488d-b89e-2ab63e1a7067",
        "colab": {
          "base_uri": "https://localhost:8080/",
          "height": 34
        }
      },
      "source": [
        "Rt_vinaj"
      ],
      "execution_count": null,
      "outputs": [
        {
          "output_type": "execute_result",
          "data": {
            "text/plain": [
              "1.1966131051310571"
            ]
          },
          "metadata": {
            "tags": []
          },
          "execution_count": 41
        }
      ]
    },
    {
      "cell_type": "code",
      "metadata": {
        "id": "twGUJ6xHkFJ4"
      },
      "source": [
        "# Sampling \n",
        "\n",
        "np.random.seed(12345)\n",
        "\n",
        "formatf_date = lambda date_py: '{}/{}'.format(date_py.day, date_py.month)\n",
        "\n",
        "daty_j_lst = []\n",
        "\n",
        "data_boj = []\n",
        "\n",
        "\n",
        "for i in range(1,8):\n",
        "  t = daty_data_mifarj + datetime.timedelta(days = i)\n",
        "  daty = formatf_date(t)\n",
        "  datyy = format_date(t)\n",
        "  data_amboar = [ poisson.rvs(dIvao.loc[datyy]) for j in range(600)]\n",
        "  daty_j_lst.append(daty)\n",
        "  data_boj.append(data_amboar)\n"
      ],
      "execution_count": 29,
      "outputs": []
    },
    {
      "cell_type": "code",
      "metadata": {
        "id": "H93EqpMky4wU"
      },
      "source": [
        "Rtdataj = pd.DataFrame(columns =['datyj','rtbaj','rtboj'])\n",
        "for i in range(7):\n",
        "    Rtdataj.loc[i] = [daty_j_lst[i],data_baj[i], data_boj[i]]\n",
        "\n",
        "Rtdataj = Rtdataj.explode('rtbaj')\n",
        "Rtdataj = Rtdataj.explode('rtboj')\n",
        "Rtdataj['rtbaj'] = Rtdataj['rtbaj'].astype('float')\n",
        "Rtdataj['rtboj'] = Rtdataj['rtboj'].astype('float')"
      ],
      "execution_count": 30,
      "outputs": []
    },
    {
      "cell_type": "markdown",
      "metadata": {
        "id": "0NsQ0mgVkIOq"
      },
      "source": [
        "### Sary"
      ]
    },
    {
      "cell_type": "code",
      "metadata": {
        "id": "H1piiKtFOUx-",
        "outputId": "ff6bb624-f575-4eb3-c952-8b6e90b71f90",
        "colab": {
          "base_uri": "https://localhost:8080/",
          "height": 389
        }
      },
      "source": [
        "# Plotting the evaluation of the last 7 days\n",
        "\n",
        "fig, ax = plt.subplots(figsize=(10,5))\n",
        "box = sns.boxplot(x = \"datyj\", y = 'rtbaj', data = Rtdataj, color='white', width=0.1, showfliers=False, ax=ax)\n",
        "box = sns.boxplot(x = \"datyj\", y = 'rtboj', data = Rtdataj, color='grey', width=0.1, showfliers=False, ax=ax)\n",
        "ax.plot(daty_j_lst, dIvao.loc[pd.to_datetime(daty_m1j):pd.to_datetime(daty_m1j + datetime.timedelta(days = 6))], marker =\"o\",ls = 'None', color='blue',label=\"Voa vaovao voatily\")\n",
        "ax.set(xlabel = 'Andro teo aloha', ylabel=\"Tombana voa vaovao\")\n",
        "\n",
        "plt.legend(loc= 'best')\n",
        "\n",
        "plt.savefig(path_to_save+'Iv110j_atsim.eps')\n",
        "plt.savefig(path_to_save+'Iv110j_atsim.png')\n",
        "\n",
        "plt.show()"
      ],
      "execution_count": 32,
      "outputs": [
        {
          "output_type": "stream",
          "text": [
            "The PostScript backend does not support transparency; partially transparent artists will be rendered opaque.\n",
            "The PostScript backend does not support transparency; partially transparent artists will be rendered opaque.\n"
          ],
          "name": "stderr"
        },
        {
          "output_type": "display_data",
          "data": {
            "image/png": "[encoded data removed]",
            "text/plain": [
              "<Figure size 720x360 with 1 Axes>"
            ]
          },
          "metadata": {
            "tags": [],
            "needs_background": "light"
          }
        }
      ]
    },
    {
      "cell_type": "markdown",
      "metadata": {
        "id": "2_xHtije77fQ"
      },
      "source": [
        "# Ny 7 andro manaraka"
      ]
    },
    {
      "cell_type": "code",
      "metadata": {
        "id": "yGyytt4BOA35"
      },
      "source": [
        "# Choice of R(t) for the forecasting\n",
        "\n",
        "# Dates for which R(t) is minimum and maximum during the last 10 days\n",
        "\n",
        "daty_amba = datetime.date(2020,10,7)\n",
        "daty_ambo = datetime.date(2020,10,2)"
      ],
      "execution_count": 33,
      "outputs": []
    },
    {
      "cell_type": "markdown",
      "metadata": {
        "id": "PIIOOSiCkqR6"
      },
      "source": [
        "### Vinavina ambany"
      ]
    },
    {
      "cell_type": "code",
      "metadata": {
        "id": "EEH2A5F2NBXD"
      },
      "source": [
        "# Computing Ivao(daty_mifar + i) for i in range(1,8)\n",
        "\n",
        "daty_m1 = daty_data_mifar + datetime.timedelta(days = 1)\n",
        "\n",
        "Iv = int(Rt_salan(daty_amba)*lsi(daty_m1))\n",
        "\n",
        "dIvao.loc[pd.to_datetime(daty_m1)] =[Iv]\n",
        "\n",
        "for i in range(1,8):\n",
        " errt = daty_m1 + datetime.timedelta(days = i)\n",
        " Ivv = int(Rt_salan(daty_amba)*lsi(errt))\n",
        " dIvao.loc[pd.to_datetime(errt)] =[Ivv]\n"
      ],
      "execution_count": 34,
      "outputs": []
    },
    {
      "cell_type": "code",
      "metadata": {
        "id": "XFYxPSwaqHeo"
      },
      "source": [
        "# Sampling\n",
        "\n",
        "np.random.seed(12345)\n",
        "\n",
        "formatf_date = lambda date_py: '{}/{}'.format(date_py.day, date_py.month)\n",
        "\n",
        "daty_hoav_lst = []\n",
        "\n",
        "data_amba_hoav = []\n",
        "\n",
        "Ivv_dat = []\n",
        "\n",
        "for i in range(1,8):\n",
        "  t = daty_data_mifar + datetime.timedelta(days = i)\n",
        "  daty = formatf_date(t)\n",
        "  datyy = format_date(t)\n",
        "  data_amboar = [ poisson.rvs(dIvao.loc[datyy]) for j in range(600)]\n",
        "  daty_hoav_lst.append(daty)\n",
        "  data_amba_hoav.append(data_amboar)"
      ],
      "execution_count": 35,
      "outputs": []
    },
    {
      "cell_type": "code",
      "metadata": {
        "id": "g_TCgsNEkOv5",
        "outputId": "9c4d3716-7f04-4afd-9605-3801b40cebb7",
        "colab": {
          "base_uri": "https://localhost:8080/",
          "height": 156
        }
      },
      "source": [
        "print('Vinavina ambany')\n",
        "\n",
        "daty_oh = datetime.date(2020,10,10)\n",
        "\n",
        "print(\"Notombanana avy amin'ny R(\", daty_amba, ')', Rt_salan(daty_amba)) \n",
        "print(\"Vinavina R hoan'ny\", daty_oh, ':', Rt_salan(daty_oh))\n",
        "print(\"Vinavina kartily @ 75% R hoan'ny\",daty_oh, ':', perc75(daty_oh))\n",
        "print(\"Vinavina kartily @ 25% R hoan'ny\", daty_oh, ':', perc25(daty_oh))\n",
        "print(\"Vinavina isan'ny voa vaovao hoan'ny\", daty_oh, ':', dIvao['Voatomb'].loc[format_date(daty_oh)])\n",
        "\n",
        "print(\"Vinavina kartily @ 75% R hoan'ny\", daty_oh, ':', poisson.ppf(0.95, dIvao.loc[format_date(daty_oh)]))\n",
        "print(\"Vinavina kartily @ 25% R hoan'ny\", daty_oh, ':', poisson.ppf(0.25, dIvao.loc[format_date(daty_oh)]))"
      ],
      "execution_count": 36,
      "outputs": [
        {
          "output_type": "stream",
          "text": [
            "Vinavina ambany\n",
            "Notombanana avy amin'ny R( 2020-10-07 ) 0.955572833211369\n",
            "Vinavina R hoan'ny 2020-10-10 : 0.9242180094962957\n",
            "Vinavina kartily @ 75% R hoan'ny 2020-10-10 : 1.1299841640553894\n",
            "Vinavina kartily @ 25% R hoan'ny 2020-10-10 : 0.6710690065079145\n",
            "Vinavina isan'ny voa vaovao hoan'ny 2020-10-10 : 3.0\n",
            "Vinavina kartily @ 75% R hoan'ny 2020-10-10 : [6.]\n",
            "Vinavina kartily @ 25% R hoan'ny 2020-10-10 : [2.]\n"
          ],
          "name": "stdout"
        }
      ]
    },
    {
      "cell_type": "markdown",
      "metadata": {
        "id": "IfgzL1jZkkDl"
      },
      "source": [
        "### Vinavina ambony"
      ]
    },
    {
      "cell_type": "code",
      "metadata": {
        "id": "31c50QPrkXLo"
      },
      "source": [
        "# Computing Ivao(daty_mifar + i) for i in range(1,8)\n",
        "\n",
        "daty_m1 = daty_data_mifar + datetime.timedelta(days = 1)\n",
        "\n",
        "Iv = int(Rt_salan(daty_ambo)*lsi(daty_m1))\n",
        "\n",
        "dIvao.loc[pd.to_datetime(daty_m1)] =[Iv]\n",
        "\n",
        "for i in range(1,8):\n",
        " errt = daty_m1 + datetime.timedelta(days = i)\n",
        " Ivv = int(Rt_salan(daty_ambo)*lsi(errt))\n",
        " dIvao.loc[pd.to_datetime(errt)] =[Ivv]\n"
      ],
      "execution_count": 38,
      "outputs": []
    },
    {
      "cell_type": "code",
      "metadata": {
        "id": "yoJDYAEukyFG"
      },
      "source": [
        "# Sampling\n",
        "\n",
        "np.random.seed(12345)\n",
        "\n",
        "formatf_date = lambda date_py: '{}/{}'.format(date_py.day, date_py.month)\n",
        "\n",
        "daty_hoav_lst = []\n",
        "\n",
        "data_ambo_hoav = []\n",
        "\n",
        "Ivv_dat = []\n",
        "\n",
        "for i in range(1,8):\n",
        "  t = daty_data_mifar + datetime.timedelta(days = i)\n",
        "  daty = formatf_date(t)\n",
        "  datyy = format_date(t)\n",
        "  data_amboar = [ poisson.rvs(dIvao.loc[datyy]) for j in range(600)]\n",
        "  daty_hoav_lst.append(daty)\n",
        "  data_ambo_hoav.append(data_amboar)"
      ],
      "execution_count": 39,
      "outputs": []
    },
    {
      "cell_type": "code",
      "metadata": {
        "id": "0Ss5C4eZk7cB",
        "outputId": "c4c1da25-0e8f-43b2-9d6e-43b19b7aa7dd",
        "colab": {
          "base_uri": "https://localhost:8080/",
          "height": 156
        }
      },
      "source": [
        "print('Vinavina ambony')\n",
        "\n",
        "daty_oh = datetime.date(2020,10,10)\n",
        "\n",
        "print(\"Notombanana avy amin'ny R(\", daty_ambo, ')', Rt_salan(daty_ambo)) \n",
        "print(\"Vinavina R hoan'ny\", daty_oh, ':', Rt_salan(daty_oh))\n",
        "print(\"Vinavina kartily @ 75% R hoan'ny\",daty_oh, ':', perc75(daty_oh))\n",
        "print(\"Vinavina kartily @ 25% R hoan'ny\", daty_oh, ':', perc25(daty_oh))\n",
        "print(\"Vinavina isan'ny voa vaovao hoan'ny\", daty_oh, ':', dIvao['Voatomb'].loc[format_date(daty_oh)])\n",
        "\n",
        "print(\"Vinavina kartily @ 75% R hoan'ny\", daty_oh, ':', poisson.ppf(0.95, dIvao.loc[format_date(daty_oh)]))\n",
        "print(\"Vinavina kartily @ 25% R hoan'ny\", daty_oh, ':', poisson.ppf(0.25, dIvao.loc[format_date(daty_oh)]))"
      ],
      "execution_count": 40,
      "outputs": [
        {
          "output_type": "stream",
          "text": [
            "Vinavina ambony\n",
            "Notombanana avy amin'ny R( 2020-10-02 ) 4.173970909035479\n",
            "Vinavina R hoan'ny 2020-10-10 : 3.7992622601768784\n",
            "Vinavina kartily @ 75% R hoan'ny 2020-10-10 : 4.210486547606081\n",
            "Vinavina kartily @ 25% R hoan'ny 2020-10-10 : 3.3486876649099884\n",
            "Vinavina isan'ny voa vaovao hoan'ny 2020-10-10 : 19.0\n",
            "Vinavina kartily @ 75% R hoan'ny 2020-10-10 : [26.]\n",
            "Vinavina kartily @ 25% R hoan'ny 2020-10-10 : [16.]\n"
          ],
          "name": "stdout"
        }
      ]
    },
    {
      "cell_type": "code",
      "metadata": {
        "id": "T85ya-U6zavQ"
      },
      "source": [
        "Rtdatah = pd.DataFrame(columns =['datyh','rtbah','rtboh'])\n",
        "for i in range(7):\n",
        "    Rtdatah.loc[i] = [daty_hoav_lst[i],data_amba_hoav[i], data_ambo_hoav[i]]\n",
        "\n",
        "Rtdatah = Rtdatah.explode('rtbah')\n",
        "Rtdatah = Rtdatah.explode('rtboh')\n",
        "Rtdatah['rtbah'] = Rtdatah['rtbah'].astype('float')\n",
        "Rtdatah['rtboh'] = Rtdatah['rtboh'].astype('float')"
      ],
      "execution_count": 41,
      "outputs": []
    },
    {
      "cell_type": "markdown",
      "metadata": {
        "id": "qvg2QeQQk98i"
      },
      "source": [
        "### Sary"
      ]
    },
    {
      "cell_type": "code",
      "metadata": {
        "id": "M-lWnPSMqR5E",
        "outputId": "5fd4d8e8-64a0-4cd1-fee7-8152f5716b54",
        "colab": {
          "base_uri": "https://localhost:8080/",
          "height": 334
        }
      },
      "source": [
        "# Plotting boundaries for the next 7 days\n",
        "\n",
        "fig, ax = plt.subplots(figsize=(10,5))\n",
        "box = sns.boxplot(x = 'datyh', y = 'rtbah', data = Rtdatah, color='white', width=0.1, showfliers=False, ax=ax)\n",
        "box = sns.boxplot(x = 'datyh', y = 'rtboh', data = Rtdatah, color='grey', width=0.1, showfliers=False, ax=ax)\n",
        "\n",
        "ax.set_xlabel('Andro any aoriana')\n",
        "ax.set_ylabel(\"Vinavina isan'ny voa vaovao\")\n",
        "\n",
        "plt.savefig(path_to_save+'Iv710hoav_atsim.eps')\n",
        "plt.savefig(path_to_save+'Iv710hoav_atsim.png')\n",
        "\n",
        "plt.show()"
      ],
      "execution_count": 42,
      "outputs": [
        {
          "output_type": "display_data",
          "data": {
            "image/png": "[encoded data removed]",
            "text/plain": [
              "<Figure size 720x360 with 1 Axes>"
            ]
          },
          "metadata": {
            "tags": [],
            "needs_background": "light"
          }
        }
      ]
    },
    {
      "cell_type": "markdown",
      "metadata": {
        "id": "pRktJCmVR1y7"
      },
      "source": [
        "## Vinavina lavitra "
      ]
    },
    {
      "cell_type": "code",
      "metadata": {
        "id": "m9Y_WGpiR1CZ"
      },
      "source": [
        "# Choice of R(t) for the forecasting\n",
        "\n",
        "# Dates for which R(t) is minimum and maximum during the last 10 days\n",
        "\n",
        "daty_amba = datetime.date(2020,7,25)\n",
        "daty_ambo = datetime.date(2020,7,23)\n"
      ],
      "execution_count": null,
      "outputs": []
    },
    {
      "cell_type": "markdown",
      "metadata": {
        "id": "ffjIx9uGR_Xp"
      },
      "source": [
        "### Lavitra ambany"
      ]
    },
    {
      "cell_type": "code",
      "metadata": {
        "id": "XtCyMUGWR7rz"
      },
      "source": [
        "# Computing Ivao(daty_mifar + i) for i in range(1,8)\n",
        "\n",
        "daty_m1 = daty_data_mifar + datetime.timedelta(days = 1)\n",
        "\n",
        "Iv = int(Rt_salan(daty_amba)*lsi(daty_m1))\n",
        "\n",
        "dIvao.loc[pd.to_datetime(daty_m1)] =[Iv]\n",
        "\n",
        "for i in range(1,200):\n",
        " errt = daty_m1 + datetime.timedelta(days = i)\n",
        " Ivv = int(Rt_salan(daty_amba)*lsi(errt))\n",
        " dIvao.loc[pd.to_datetime(errt)] =[Ivv]\n"
      ],
      "execution_count": null,
      "outputs": []
    },
    {
      "cell_type": "code",
      "metadata": {
        "id": "y1Fdu2RuSEkP"
      },
      "source": [
        "# Sampling\n",
        "\n",
        "np.random.seed(12345)\n",
        "\n",
        "formatf_date = lambda date_py: '{}/{}'.format(date_py.day, str(date_py.month))\n",
        "\n",
        "daty_hoav_lst = []\n",
        "\n",
        "data_amba_hoav = []\n",
        "\n",
        "Ivv_dat = []\n",
        "\n",
        "for i in range(1,200):\n",
        "  t = daty_data_mifar + datetime.timedelta(days = i)\n",
        "  daty = formatf_date(t)\n",
        "  datyy = format_date(t)\n",
        "  data_amboar = [ poisson.rvs(dIvao.loc[datyy]) for j in range(600)]\n",
        "  daty_hoav_lst.append(daty)\n",
        "  data_amba_hoav.append(data_amboar)"
      ],
      "execution_count": null,
      "outputs": []
    },
    {
      "cell_type": "code",
      "metadata": {
        "id": "3-EsRWk5Sc3y"
      },
      "source": [
        "print('Vinavina hafa ambany')\n",
        "\n",
        "daty_oh = datetime.date(2020,8,4) \n",
        "\n",
        "Ireh_mifar = 7422\n",
        "\n",
        "print(\"Notombanana avy amin'ny R(\", daty_amba, ')', Rt_salan(daty_amba)) \n",
        "print(\"Vinavina R hoan'ny\", daty_oh, ':', Rt_salan(daty_oh))\n",
        "print(\"Vinavina kartily @ 75% R hoan'ny\",daty_oh, ':', perc75(daty_oh))\n",
        "print(\"Vinavina kartily @ 25% R hoan'ny\", daty_oh, ':', perc25(daty_oh))\n",
        "print(\"Vinavina isan'ny voa vaovao hoan'ny\", daty_oh, ':', dIvao['Voatomb'].loc[format_date(daty_oh)])\n",
        "\n",
        "print(\"Vinavina kartily @ 75% R hoan'ny\", daty_oh, ':', poisson.ppf(0.95, dIvao.loc[format_date(daty_oh)]))\n",
        "print(\"Vinavina kartily @ 25% R hoan'ny\", daty_oh, ':', poisson.ppf(0.25, dIvao.loc[format_date(daty_oh)]))\n",
        "\n",
        "print(\"Isan'ny voa rehetra hatr@\", daty_oh, ':', Ireh_mifar + Ireh(daty_oh,(daty_oh - daty_data_mifar).days))"
      ],
      "execution_count": null,
      "outputs": []
    },
    {
      "cell_type": "markdown",
      "metadata": {
        "id": "har7HEOaSPUl"
      },
      "source": [
        "### Lavitra ambony"
      ]
    },
    {
      "cell_type": "code",
      "metadata": {
        "id": "E1K67J2YSRPT"
      },
      "source": [
        "# Computing Ivao(daty_mifar + i) for i in range(1,8)\n",
        "\n",
        "daty_m1 = daty_data_mifar + datetime.timedelta(days = 1)\n",
        "\n",
        "Iv = int(Rt_salan(daty_ambo)*lsi(daty_m1))\n",
        "\n",
        "dIvao.loc[pd.to_datetime(daty_m1)] =[Iv]\n",
        "\n",
        "for i in range(1,200):\n",
        " errt = daty_m1 + datetime.timedelta(days = i)\n",
        " Ivv = int(Rt_salan(daty_ambo)*lsi(errt))\n",
        " dIvao.loc[pd.to_datetime(errt)] =[Ivv]\n"
      ],
      "execution_count": null,
      "outputs": []
    },
    {
      "cell_type": "code",
      "metadata": {
        "id": "6fQWy__MSZJD"
      },
      "source": [
        "# Sampling\n",
        "\n",
        "np.random.seed(12345)\n",
        "\n",
        "formatf_date = lambda date_py: '{}/{}'.format(date_py.day, str(date_py.month))\n",
        "\n",
        "daty_hoav_lst = []\n",
        "\n",
        "data_ambo_hoav = []\n",
        "\n",
        "Ivv_dat = []\n",
        "\n",
        "for i in range(1,200):\n",
        "  t = daty_data_mifar + datetime.timedelta(days = i)\n",
        "  daty = formatf_date(t)\n",
        "  datyy = format_date(t)\n",
        "  data_amboar = [ poisson.rvs(dIvao.loc[datyy]) for j in range(600)]\n",
        "  daty_hoav_lst.append(daty)\n",
        "  data_ambo_hoav.append(data_amboar)"
      ],
      "execution_count": null,
      "outputs": []
    },
    {
      "cell_type": "code",
      "metadata": {
        "id": "7X04fa8eStKo"
      },
      "source": [
        "print('Vinavina ambony')\n",
        "\n",
        "daty_oh = datetime.date(2020,12,22)\n",
        "\n",
        "print(\"Notombanana avy amin'ny R(\", daty_ambo, ')', Rt_salan(daty_ambo)) \n",
        "print(\"Vinavina R hoan'ny\", daty_oh, ':', Rt_salan(daty_oh))\n",
        "print(\"Vinavina kartily @ 75% R hoan'ny\",daty_oh, ':', perc75(daty_oh))\n",
        "print(\"Vinavina kartily @ 25% R hoan'ny\", daty_oh, ':', perc25(daty_oh))\n",
        "print(\"Vinavina isan'ny voa vaovao hoan'ny\", daty_oh, ':', dIvao['Voatomb'].loc[format_date(daty_oh)])\n",
        "\n",
        "print(\"Vinavina kartily @ 75% R hoan'ny\", daty_oh, ':', poisson.ppf(0.95, dIvao.loc[format_date(daty_oh)]))\n",
        "print(\"Vinavina kartily @ 25% R hoan'ny\", daty_oh, ':', poisson.ppf(0.25, dIvao.loc[format_date(daty_oh)]))\n",
        "\n",
        "print(\"Isan'ny voa rehetra hatr@\", daty_oh, ':', Ireh_mifar + Ireh(daty_oh,(daty_oh - daty_data_mifar).days))"
      ],
      "execution_count": null,
      "outputs": []
    },
    {
      "cell_type": "markdown",
      "metadata": {
        "id": "uf0HJX5CSu5R"
      },
      "source": [
        "## Sary"
      ]
    },
    {
      "cell_type": "code",
      "metadata": {
        "id": "J4vt9Q07SxNk"
      },
      "source": [
        "# Plotting boundaries for the next 7 days\n",
        "\n",
        "fig, ax = plt.subplots(figsize=(30,15))\n",
        "box = sns.boxplot(daty_hoav_lst, data_amba_hoav, color='white', width=0.1, showfliers=False, ax=ax)\n",
        "box = sns.boxplot(daty_hoav_lst, data_ambo_hoav, color='grey', width=0.1, showfliers=False, ax=ax)\n",
        "\n",
        "ax.set_xlabel('Andro any aoriana')\n",
        "ax.set_ylabel(\"Vinavina isan'ny voa vaovao\")\n",
        "\n",
        "plt.savefig(path_to_save+'Iv167ahoav_ant.eps')\n",
        "plt.savefig(path_to_save+'Iv167ahoav_ant.png')\n",
        "\n",
        "plt.show()"
      ],
      "execution_count": null,
      "outputs": []
    },
    {
      "cell_type": "code",
      "metadata": {
        "id": "151VAsJTS0Fb"
      },
      "source": [
        "# Plotting boundaries for the next 7 days\n",
        "\n",
        "fig, ax = plt.subplots(figsize=(10,5))\n",
        "box = sns.boxplot(daty_hoav_lst[70:80], data_amba_hoav[70:80], color='white', width=0.1, showfliers=False, ax=ax)\n",
        "box = sns.boxplot(daty_hoav_lst[70:80], data_ambo_hoav[70:80], color='grey', width=0.1, showfliers=False, ax=ax)\n",
        "\n",
        "ax.set_xlabel('Andro any aoriana')\n",
        "ax.set_ylabel(\"Vinavina isan'ny voa vaovao\")\n",
        "\n",
        "plt.savefig(path_to_save+'Iv1677080hoav_ant.eps')\n",
        "plt.savefig(path_to_save+'Iv1677080hoav_ant.png')\n",
        "\n",
        "plt.show()"
      ],
      "execution_count": null,
      "outputs": []
    }
  ]
}