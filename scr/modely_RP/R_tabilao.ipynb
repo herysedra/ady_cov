{
  "nbformat": 4,
  "nbformat_minor": 0,
  "metadata": {
    "colab": {
      "name": "R_tabilao.ipynb",
      "provenance": [],
      "collapsed_sections": [],
      "authorship_tag": "ABX9TyMoinufx9MK4Srq+H1Cq5KJ",
      "include_colab_link": true
    },
    "kernelspec": {
      "name": "python3",
      "display_name": "Python 3"
    }
  },
  "cells": [
    {
      "cell_type": "markdown",
      "metadata": {
        "id": "view-in-github",
        "colab_type": "text"
      },
      "source": [
        "<a href=\"https://colab.research.google.com/github/herysedra/ady_cov/blob/master/scr/modely_RP/R_tabilao.ipynb\" target=\"_parent\"><img src=\"https://colab.research.google.com/assets/colab-badge.svg\" alt=\"Open In Colab\"/></a>"
      ]
    },
    {
      "cell_type": "code",
      "metadata": {
        "id": "mTm94BlPJ3Ht",
        "colab_type": "code",
        "outputId": "ddf7ea91-95b5-453a-ec7f-e70178c6a8fc",
        "colab": {
          "base_uri": "https://localhost:8080/",
          "height": 124
        }
      },
      "source": [
        "from google.colab import drive\n",
        "drive.mount('/content/drive')"
      ],
      "execution_count": 5,
      "outputs": [
        {
          "output_type": "stream",
          "text": [
            "Go to this URL in a browser: https://accounts.google.com/o/oauth2/auth?client_id=947318989803-6bn6qk8qdgf4n4g3pfee6491hc0brc4i.apps.googleusercontent.com&redirect_uri=urn%3aietf%3awg%3aoauth%3a2.0%3aoob&response_type=code&scope=email%20https%3a%2f%2fwww.googleapis.com%2fauth%2fdocs.test%20https%3a%2f%2fwww.googleapis.com%2fauth%2fdrive%20https%3a%2f%2fwww.googleapis.com%2fauth%2fdrive.photos.readonly%20https%3a%2f%2fwww.googleapis.com%2fauth%2fpeopleapi.readonly\n",
            "\n",
            "Enter your authorization code:\n",
            "··········\n",
            "Mounted at /content/drive\n"
          ],
          "name": "stdout"
        }
      ]
    },
    {
      "cell_type": "code",
      "metadata": {
        "id": "vwFyQogh6edn",
        "colab_type": "code",
        "colab": {
          "base_uri": "https://localhost:8080/",
          "height": 228
        },
        "outputId": "2537e90c-b383-42a8-acfc-a5035b8326c6"
      },
      "source": [
        "!pip install pynverse"
      ],
      "execution_count": 4,
      "outputs": [
        {
          "output_type": "stream",
          "text": [
            "Collecting pynverse\n",
            "  Downloading https://files.pythonhosted.org/packages/88/f8/fb90087055b1502def9b6e835e80fa548996bf1439a81583e592f388f4c9/pynverse-0.1.4.4.tar.gz\n",
            "Requirement already satisfied: scipy>=0.11 in /usr/local/lib/python3.6/dist-packages (from pynverse) (1.4.1)\n",
            "Requirement already satisfied: numpy>=1.6 in /usr/local/lib/python3.6/dist-packages (from pynverse) (1.18.4)\n",
            "Building wheels for collected packages: pynverse\n",
            "  Building wheel for pynverse (setup.py) ... \u001b[?25l\u001b[?25hdone\n",
            "  Created wheel for pynverse: filename=pynverse-0.1.4.4-cp36-none-any.whl size=6350 sha256=2662c23ab57a656fe56abd70d7b63ae58b9de3376120040138c397724090eaf1\n",
            "  Stored in directory: /root/.cache/pip/wheels/80/ab/86/ec93f37613f012ba3e65c2bbd67e5c54cbc00d237574100c24\n",
            "Successfully built pynverse\n",
            "Installing collected packages: pynverse\n",
            "Successfully installed pynverse-0.1.4.4\n"
          ],
          "name": "stdout"
        }
      ]
    },
    {
      "cell_type": "code",
      "metadata": {
        "id": "nw40APzqKCGS",
        "colab_type": "code",
        "colab": {}
      },
      "source": [
        "import pandas as pd\n",
        "import numpy as np\n",
        "import matplotlib.pyplot as plt\n",
        "import scipy.stats\n",
        "import matplotlib\n",
        "import pickle\n",
        "\n",
        "import datetime\n",
        "import time\n",
        "from datetime import date\n",
        "\n",
        "import matplotlib.dates as mdates\n",
        "from matplotlib.dates import DateFormatter\n",
        "import seaborn as sns\n",
        "\n",
        "from numpy import log,exp\n",
        "from numpy.random import multinomial\n",
        "from scipy.stats import uniform, gamma, gengamma, poisson, nbinom, expon\n",
        "from scipy.integrate import quad\n",
        "\n",
        "from mpl_toolkits.mplot3d.axes3d import Axes3D, get_test_data\n",
        "from matplotlib import cm\n",
        "from matplotlib.ticker import LinearLocator, FormatStrFormatter\n",
        "\n",
        "from pynverse import inversefunc\n",
        "\n",
        "tilyvoa = pd.read_csv(\"/content/drive/My Drive/data/tilyvoa.csv\")\n",
        "\n",
        "mdg_databe = pd.read_csv(\"/content/drive/My Drive/data/databe mdg.csv\")\n",
        "\n",
        "#tilyvoa.set_index('Daty', inplace=True)\n",
        "\n",
        "tilyvoafar = tilyvoa.groupby('Faritra')\n",
        "tilyvoamdg = tilyvoafar.get_group('Madagasikara')\n",
        "tilyvoamdg.set_index('Daty', inplace=True)\n",
        "\n",
        "tilyvoamdg.index = pd.to_datetime(tilyvoamdg.index)\n",
        "\n",
        "tilyvoatana = tilyvoafar.get_group('Antananarivo')\n",
        "tilyvoatana.set_index('Daty', inplace=True)\n",
        "\n",
        "tilyvoatana.index = pd.to_datetime(tilyvoatana.index)\n",
        "\n",
        "tilyvoatoa = tilyvoafar.get_group('Toamasina')\n",
        "tilyvoatoa.set_index('Daty', inplace=True)\n",
        "\n",
        "tilyvoatoa.index = pd.to_datetime(tilyvoatoa.index)\n",
        "\n",
        "\n",
        "path_to_save = '/content/drive/My Drive/sary/'\n",
        "path_data = '/content/drive/My Drive/data/'"
      ],
      "execution_count": 0,
      "outputs": []
    },
    {
      "cell_type": "code",
      "metadata": {
        "id": "7qbUH3RDKLZQ",
        "colab_type": "code",
        "colab": {}
      },
      "source": [
        "# Voa vaovao (observed incidence)\n",
        "Ivao = tilyvoamdg['Voatomb']\n",
        "\n",
        "dIvao = pd.DataFrame(data =Ivao)\n",
        "\n",
        "dIvao['Datint'] = range(len(Ivao))\n",
        "\n",
        "\n",
        "# Hoan'ny taha sorisoritry ny fifindrana (infectioness profile distribution)\n",
        "\n",
        "daty_data_manom = datetime.date(2020,4,1)\n",
        "daty_data_mifar = datetime.date(2020,6,5)\n",
        "\n",
        "datyt = daty_data_mifar - datetime.timedelta(days = 1)\n",
        "\n",
        "format_date = lambda date_py: '{}-{}-{}'.format(date_py.year, date_py.month, date_py.day)\n",
        "datyf_data_manom = format_date(daty_data_manom)\n",
        "datyf_data_mifar = format_date(daty_data_mifar)\n",
        "\n",
        "# Discretization of the serial interval distribution\n",
        "\n",
        "#Tombana mialoha (prior distributions)\n",
        "#si_sh = 1/(0.62**2) # Report 13\n",
        "#si_sc = 6.5/si_sh\n",
        "\n",
        "si_sh = (6.48**2)/(3.83**2) # Planning tool: Short-term forecasts\n",
        "si_sc = 6.48/si_sh\n",
        "\n",
        "def discr_si(t):\n",
        "  if t == 0:\n",
        "    discrsi = 0\n",
        "  elif t == 1:\n",
        "    discrsi = gengamma.cdf(3/2, si_sh, 1, loc = 0, scale = si_sc)\n",
        "  else:\n",
        "    discrsi = gengamma.cdf(t+1/2, si_sh, 1, loc = 0, scale = si_sc) - gengamma.cdf(t-1/2, si_sh, 1, loc = 0, scale = si_sc)\n",
        "  return discrsi\n",
        "\n",
        "#discr_si1 = gengamma.cdf(3/2, si_sh, 1, loc = 0, scale = si_sc)\n",
        "\n",
        "# 1 The total incidence over a generic window (t-k+1,t)\n",
        "# Ireh(t,k) = sum(i = 0 to k-1) Ivao(t - i))\n",
        "\n",
        "def Ireh(t,k):\n",
        "  Irehv = 0\n",
        "  for i in range(k):\n",
        "    Irehv = Irehv + dIvao['Voatomb'].loc[format_date(t - datetime.timedelta(days = i))]\n",
        "  return Irehv\n",
        "\n",
        "# 2 Tool to compute the total infectiousness over a generic window (t-k+1,t)\n",
        "# Isi(t,k) = sum(i=0 to k-1) Ivao(t - i)*discr_si(i)\n",
        "\n",
        "# The definition of Isi(t,k) does not include the term Ivao(t) for i = 0 (because discr_si(0) =0) \n",
        "# but include the last term Ivao(t - k + 1)*discr_si(k - 1) for i = k-1. \n",
        "\n",
        "def Isi(t,k):\n",
        "  Ivaosi = 0\n",
        "  for i in range(k):\n",
        "    Ivaosi = Ivaosi + dIvao['Voatomb'].loc[format_date(t - datetime.timedelta(days = i))]*discr_si(i)\n",
        "  return Ivaosi\n",
        "\n",
        "# The total infectiousness before t\n",
        "\n",
        "# lsi(t) := sum(i=0 to t-1) Ivao(t - i)*discr_si(i)\n",
        "\n",
        "def lsi(t):\n",
        "  return Isi(t, (t - daty_data_manom).days +1)\n",
        "\n",
        "  # for checking, take for example t = daty_data_manom + datetime.timedelta(days = 3)\n",
        "\n",
        "# 3 The sum of total infectiousness before t over a generic window (t-k+1,t)\n",
        "\n",
        "def tlsi(t,k):\n",
        "  tlsi = 0\n",
        "  for i in range(k):\n",
        "    tlsi = tlsi + lsi(t - datetime.timedelta(days = k))\n",
        "  return tlsi\n",
        "\n",
        "# 4 The shape parameters of the posterior predictive negative binomial of I(t+1)\n",
        "\n",
        "# pnb(t,k) = Isi(t+1, t - daty_data_manom + 2)*(1/si_sc + Isi(t,k))/(1 + si(t+1, t - daty_data_manom + 2)*(1/si_sc + Isi(t,k)))\n",
        "\n",
        "def pnb(t,k):\n",
        "  return lsi(t+datetime.timedelta(days = 1))*(1/si_sc + tlsi(t,k))/(1 + lsi(t+datetime.timedelta(days = 1))*(1/si_sc + tlsi(t,k)))\n",
        "\n",
        "# pnb(t,k) dia ny taha herjika hoan'ny NB hoan'ny I(t+1).\n",
        "\n",
        "# 5 Use the pmf of the posterior predictive negative binomial to compute\n",
        "# each additive contribution at time s then for-loop for s in the time interval\n",
        "\n",
        "def lpr(t,k):\n",
        "  return -np.log(nbinom.pmf(dIvao['Voatomb'].loc[format_date(t + datetime.timedelta(days = 1))], si_sh + Ireh(t,k), pnb(t,k)))\n"
      ],
      "execution_count": 0,
      "outputs": []
    },
    {
      "cell_type": "code",
      "metadata": {
        "id": "v5Q0nJQpKheR",
        "colab_type": "code",
        "outputId": "66bbd4f1-f4d9-4c25-cf5a-8e2ac01d7770",
        "colab": {
          "base_uri": "https://localhost:8080/",
          "height": 141
        }
      },
      "source": [
        "# APE9_part1 \n",
        "\n",
        "# for i in range(8):\n",
        "# t = t_mif - i - 1\n",
        "# k = 9\n",
        "\n",
        "APEt91 = []\n",
        "Prt91 = []\n",
        "\n",
        "APE91 = 0\n",
        "\n",
        "for i in range(round(((daty_data_mifar - daty_data_manom).days + 1)/2) - 1):\n",
        "  t = daty_data_mifar - datetime.timedelta(days = i+1) \n",
        "  k = round(((daty_data_mifar - daty_data_manom).days + 1)/2)\n",
        "  APE91 = APE91 + lpr(t,k)\n",
        "  APEt91.append((lpr(t,k),t))\n",
        "  Prt91.append(expon.pdf(lpr(t,k)))\n",
        "\n",
        "print('For k = 9, APE91 =', APE91)\n",
        "print('APEt91 =', APEt91)\n",
        "print('Prt91 =', Prt91)\n",
        "\n",
        "# APE9_part2 \n",
        "\n",
        "# for i in range(9):\n",
        "# t = t_mif - 1 - 9 + 1 - i\n",
        "# k = t_mif - t - 2*i\n",
        "APEt92 = []\n",
        "Prt92 = []\n",
        "\n",
        "APE92 = 0\n",
        "for i in range(round(((daty_data_mifar - daty_data_manom).days + 1)/2)-1):\n",
        "  t = daty_data_mifar - datetime.timedelta(days = 1) - datetime.timedelta(days = ((daty_data_mifar - daty_data_manom).days + 1)/2) + datetime.timedelta(days = 1) - datetime.timedelta(days = i)\n",
        "  k = (daty_data_mifar - t - datetime.timedelta(days = 2*i)).days\n",
        "  APE92 = APE92 + lpr(t,k) \n",
        "  APEt92.append((lpr(t,k) ,t,k))\n",
        "  Prt92.append(expon.pdf(lpr(t,k)))\n",
        "\n",
        "print('For k = 9, APE92 =', APE92)\n",
        "print('APEt92=', APEt92)\n",
        "print('Prt92=', Prt92)\n",
        "\n",
        "# For t_man such that Ivao(t_man) = Ivao(t_man + 1) = 0, lsi(t_man + 1) = tlsi(t_man + 1, 2) = Ireh(t_man + 1, 2) = 0\n",
        "# so that pnb(t_man + 1, 2) = 0 and "
      ],
      "execution_count": 8,
      "outputs": [
        {
          "output_type": "stream",
          "text": [
            "For k = 9, APE91 = 3214.944481870216\n",
            "APEt91 = [(43.69252444726611, datetime.date(2020, 6, 4)), (161.31738925794204, datetime.date(2020, 6, 3)), (230.36549104828242, datetime.date(2020, 6, 2)), (49.83456359262556, datetime.date(2020, 6, 1)), (113.61903145219975, datetime.date(2020, 5, 31)), (96.22647827214911, datetime.date(2020, 5, 30)), (221.99041879721167, datetime.date(2020, 5, 29)), (150.08694248099073, datetime.date(2020, 5, 28)), (170.43167519567032, datetime.date(2020, 5, 27)), (94.87571354531117, datetime.date(2020, 5, 26)), (192.00141381694235, datetime.date(2020, 5, 25)), (53.353369434917425, datetime.date(2020, 5, 24)), (175.74551291926275, datetime.date(2020, 5, 23)), (183.66288476525847, datetime.date(2020, 5, 22)), (201.9047590762397, datetime.date(2020, 5, 21)), (153.59979307793293, datetime.date(2020, 5, 20)), (219.8286236102796, datetime.date(2020, 5, 19)), (11.765537517594762, datetime.date(2020, 5, 18)), (74.11558742761665, datetime.date(2020, 5, 17)), (88.12621881170132, datetime.date(2020, 5, 16)), (219.58241753942053, datetime.date(2020, 5, 15)), (26.753283570050918, datetime.date(2020, 5, 14)), (69.43484212630531, datetime.date(2020, 5, 13)), (76.0426430602471, datetime.date(2020, 5, 12)), (16.032549879889416, datetime.date(2020, 5, 11)), (47.90524684016983, datetime.date(2020, 5, 10)), (3.183309229472763, datetime.date(2020, 5, 9)), (2.581063807692681, datetime.date(2020, 5, 8)), (8.702750322059636, datetime.date(2020, 5, 7)), (1.8564215356076694, datetime.date(2020, 5, 6)), (1.9586967266829767, datetime.date(2020, 5, 5)), (54.36732868522341, datetime.date(2020, 5, 4))]\n",
            "Prt91 = [1.0582243051573183e-19, 8.724649929893129e-71, 8.985420722417668e-101, 2.2757472346017362e-22, 4.527741262084938e-50, 1.6194646531326885e-42, 3.8974996151646195e-97, 6.577624465131454e-66, 9.60426027696023e-75, 6.251743347410842e-42, 4.1195090537810695e-84, 6.744132023455604e-24, 4.7281747556648236e-77, 1.7227514178410717e-80, 2.060047636886509e-88, 1.9609090224055897e-67, 3.3856479875195915e-96, 7.767691689386195e-06, 6.486484089659437e-33, 5.336659071132876e-39, 4.330796126331734e-96, 2.4054513221216134e-12, 6.995700573086699e-31, 9.442776914305254e-34, 1.0893114191510582e-07, 1.5668075048263834e-21, 0.041448266096885136, 0.0756934379154811, 0.00016612827582978063, 0.15623069724833685, 0.14104211762001145, 2.4466348422860454e-24]\n",
            "For k = 9, APE92 = 1385.1782495716907\n",
            "APEt92= [(78.81482405524756, datetime.date(2020, 5, 3), 33), (59.05012224989405, datetime.date(2020, 5, 2), 32), (86.31360395707839, datetime.date(2020, 5, 1), 31), (81.58054376306812, datetime.date(2020, 4, 30), 30), (90.56402817389578, datetime.date(2020, 4, 29), 29), (90.24858852561098, datetime.date(2020, 4, 28), 28), (92.93939115886607, datetime.date(2020, 4, 27), 27), (81.40800236932071, datetime.date(2020, 4, 26), 26), (81.37419749331889, datetime.date(2020, 4, 25), 25), (72.57478931444183, datetime.date(2020, 4, 24), 24), (62.40559386687279, datetime.date(2020, 4, 23), 23), (57.21641868046169, datetime.date(2020, 4, 22), 22), (50.035524692227284, datetime.date(2020, 4, 21), 21), (44.55617610364949, datetime.date(2020, 4, 20), 20), (40.731070399127425, datetime.date(2020, 4, 19), 19), (38.47802407433589, datetime.date(2020, 4, 18), 18), (33.65594231514486, datetime.date(2020, 4, 17), 17), (29.560217568877768, datetime.date(2020, 4, 16), 16), (18.55343642256732, datetime.date(2020, 4, 15), 15), (22.793939220367907, datetime.date(2020, 4, 14), 14), (20.27084624681727, datetime.date(2020, 4, 13), 13), (18.264812728966415, datetime.date(2020, 4, 12), 12), (19.593669342648493, datetime.date(2020, 4, 11), 11), (19.485121092528743, datetime.date(2020, 4, 10), 10), (6.574529372096306, datetime.date(2020, 4, 9), 9), (16.693957462685674, datetime.date(2020, 4, 8), 8), (15.763767209895754, datetime.date(2020, 4, 7), 7), (9.180700493527084, datetime.date(2020, 4, 6), 6), (7.47907127212825, datetime.date(2020, 4, 5), 5), (8.116387838226904, datetime.date(2020, 4, 4), 4), (17.38402644012516, datetime.date(2020, 4, 3), 3), (13.516925667669307, datetime.date(2020, 4, 2), 2)]\n",
            "Prt92= [5.904142360415935e-35, 2.263902667321788e-26, 3.2694755072084383e-38, 3.715523504706835e-36, 4.661678357583026e-40, 6.390517136539898e-40, 4.3344626825570145e-41, 4.415234638800589e-36, 4.567042565843567e-36, 3.0280948559851885e-32, 7.89941524379417e-28, 1.4165277694812843e-25, 1.8614343633847903e-22, 4.4616816932605666e-20, 2.045129831499593e-18, 1.9462851542572832e-17, 2.41774207982878e-15, 1.4526487876321035e-13, 8.75679013084305e-09, 1.2610083889436007e-10, 1.5721114526547145e-09, 1.1686719457270864e-08, 3.0944076370538545e-09, 3.4492083619803213e-09, 0.0013954625074538763, 5.6222013205788805e-08, 1.425223211442333e-07, 0.00010300835118791485, 0.0005647817005827243, 0.0002986053254686875, 2.8197671308490825e-08, 1.3479499602097393e-06]\n"
          ],
          "name": "stdout"
        }
      ]
    },
    {
      "cell_type": "code",
      "metadata": {
        "id": "u0DV0KxJK99i",
        "colab_type": "code",
        "outputId": "54696fcb-cca5-4df3-fe2c-7250435e9b1b",
        "colab": {
          "base_uri": "https://localhost:8080/",
          "height": 72
        }
      },
      "source": [
        "# APEk part 1 for k =/= 9\n",
        "\n",
        "# for i in range(t_mif - t_man -j)\n",
        "\n",
        "APEk1 = []\n",
        "for j in range(2,9):\n",
        "  APEj1 = 0\n",
        "  for i in range(round(((daty_data_mifar - daty_data_manom).days) - j)):\n",
        "    t = daty_data_mifar - datetime.timedelta(days = i+1) \n",
        "    k = j\n",
        "    APEj1 = APEj1 + lpr(t,k)\n",
        "  APEk1.append(APEj1)\n",
        "\n",
        "print('APEk1 =', APEk1)\n",
        "\n",
        "# APEk part 2 for k =/= 9\n",
        "\n",
        "Prk2 = []\n",
        "\n",
        "APEk2 = []\n",
        "\n",
        "for j in range(2,9):\n",
        "  APEj2 = 0\n",
        "  for i in range(j-1):\n",
        "    t = daty_data_manom + datetime.timedelta(days = j - i - 1)\n",
        "    k = j - i\n",
        "    APEj2 = APEj2 + lpr(t,k)\n",
        "  APEk2.append(APEj2)\n",
        "\n",
        "print('APEk2 =', APEk2)"
      ],
      "execution_count": 9,
      "outputs": [
        {
          "output_type": "stream",
          "text": [
            "APEk1 = [4132.823704520315, 4128.762045738607, 4086.0998611050827, 4042.4790863032517, 3986.1976461193804, 3921.81668873378, 3846.934332205393]\n",
            "APEk2 = [13.516925667669307, 30.900952107794467, 39.01733994602137, 46.496411218149625, 55.67711171167671, 71.44087892157246, 88.13483638425814]\n"
          ],
          "name": "stdout"
        }
      ]
    },
    {
      "cell_type": "code",
      "metadata": {
        "id": "3yw05_HnLrPp",
        "colab_type": "code",
        "outputId": "7cd72d91-0dcc-4411-d5ac-b5248ce3e818",
        "colab": {
          "base_uri": "https://localhost:8080/",
          "height": 72
        }
      },
      "source": [
        "# APEk for k = 2,...,8\n",
        "\n",
        "APEk = [x + y for x, y in zip(APEk1, APEk2)]\n",
        "\n",
        "# APE9\n",
        "APE9 = APE91 + APE92\n",
        "\n",
        "print('APE9 =', APE9)\n",
        "print('APEk =', APEk)"
      ],
      "execution_count": 10,
      "outputs": [
        {
          "output_type": "stream",
          "text": [
            "APE9 = 4600.122731441907\n",
            "APEk = [4146.340630187984, 4159.662997846402, 4125.1172010511045, 4088.9754975214014, 4041.874757831057, 3993.257567655353, 3935.069168589651]\n"
          ],
          "name": "stdout"
        }
      ]
    },
    {
      "cell_type": "code",
      "metadata": {
        "id": "WDx0ksJcL1E2",
        "colab_type": "code",
        "outputId": "3ef5ac02-3ac3-4279-aa7e-26c4b04e3bb4",
        "colab": {
          "base_uri": "https://localhost:8080/",
          "height": 89
        }
      },
      "source": [
        "# Prior Gamma distribution of Rt\n",
        "\n",
        "Rtpr_sh = 0.1 # shape\n",
        "Rtpr_sc = 0.1 # scale\n",
        "\n",
        "# Posterior distribution for Rt\n",
        "\n",
        "# Shape parameter :\n",
        "def Rtps_sh(t):\n",
        "   return Rtpr_sh + Ireh(t,8)\n",
        "\n",
        "# Scale\n",
        "def Rtps_sc(t):\n",
        "  return 1/(1/Rtpr_sc + tlsi(t,8))\n",
        "\n",
        "# mean\n",
        "def Rtps_salan(t):\n",
        "  return Rtps_sh(t)*Rtps_sc(t)\n",
        "\n",
        "print(\"Salan'isa R hoan'ny\", datyt, ':', Rtps_salan(datyt))\n",
        "\n",
        "# The 95th and 5th percentiles of Rt\n",
        "\n",
        "def perc95(t):\n",
        "  return gengamma.ppf(0.95, Rtps_sh(t), 1, loc = 0, scale = Rtps_sc(t))\n",
        "\n",
        "def perc05(t):\n",
        "  return gengamma.ppf(0.05, Rtps_sh(t), 1, loc = 0, scale = Rtps_sc(t))\n",
        "\n",
        "def Rtps_sal(t):\n",
        "  return dIvao['Voatomb'].loc[format_date(t)]/lsi(t)\n",
        "\n",
        "print(\"Salan'isa R hoan'ny\", datyt, ':', Rtps_sal(datyt))\n",
        "\n",
        "sal_Rt = []\n",
        "\n",
        "for i in range(round(((daty_data_mifar - daty_data_manom).days) - 1)):\n",
        "  t = daty_data_manom + datetime.timedelta(days = i+1)\n",
        "  sal_Rt.append(Rtps_sal(t))\n",
        "\n",
        "print(sal_Rt)\n"
      ],
      "execution_count": 11,
      "outputs": [
        {
          "output_type": "stream",
          "text": [
            "Salan'isa R hoan'ny 2020-06-04 : 1.3645048132332775\n",
            "Salan'isa R hoan'ny 2020-06-04 : 1.2899130570593746\n",
            "[53.256847466316856, 10.66164095428925, 0.9909931553400698, 4.055282043376579, 4.08568270994384, 2.739726961416723, 0.6192822978018055, 0.2689876857037221, 2.310922198393247, 0.24418410109684097, 0.239920126691579, 0.4939101561543066, 0.5262146917063841, 0.5705136370400189, 1.8656381215024023, 0.6436945369960159, 0.32653698635091033, 0.0, 0.0, 0.0, 0.0, 0.0, 0.7291187072646956, 0.8980849161628417, 1.0553729492182238, 3.4933739056398005, 0.0, 0.0, 0.0, 4.574587035994357, 3.2573195857696655, 12.854632537132684, 0.0, 0.8381532639844691, 2.4895687848752677, 0.9410780709174675, 1.7305231233486709, 0.5352530918914943, 0.516203117661004, 3.892606848584887, 1.4308696711938929, 4.262207530448934, 3.1621315776842005, 1.1249858661848848, 5.374119114335724, 1.98205568528583, 1.373901645326583, 0.2622620983514971, 2.7690879370429182, 1.9305010526461484, 2.2043954819604044, 1.8138210866700728, 1.5676631715668576, 0.5430079668195816, 1.5085891451146456, 0.8562762437347297, 1.417517788642137, 1.3183992489854122, 1.8215219296447274, 0.917037364430333, 0.9829787006479556, 0.5033759979473551, 1.6746446926247351, 1.2899130570593746]\n"
          ],
          "name": "stdout"
        }
      ]
    },
    {
      "cell_type": "code",
      "metadata": {
        "id": "J_EUilHGMBT5",
        "colab_type": "code",
        "outputId": "8b6c72bf-c130-4510-ae5e-215b582cc103",
        "colab": {
          "base_uri": "https://localhost:8080/",
          "height": 955
        }
      },
      "source": [
        "# Plotting\n",
        "\n",
        "formatf_date = lambda date_py: '{}/{}'.format(date_py.day, date_py.month)\n",
        "\n",
        "daty_lst = []\n",
        "\n",
        "salan_Rt = []\n",
        "perc95_lst = []\n",
        "perc05_lst = []\n",
        "\n",
        "salan_Rt_dat = []\n",
        "salan_Rt_perc_dat = []\n",
        "\n",
        "for i in range(round(((daty_data_mifar - daty_data_manom).days) - 1-10)):\n",
        "  t = daty_data_manom + datetime.timedelta(days = i+1+10)\n",
        "  daty = formatf_date(t)\n",
        "  daty_lst.append(daty)\n",
        "  salan_Rt.append(Rtps_salan(t))\n",
        "  perc95_lst.append(perc95(t))\n",
        "  perc05_lst.append(perc05(t))\n",
        "  salan_Rt_dat.append((Rtps_salan(t),t))\n",
        "  salan_Rt_perc_dat.append((perc95(t),Rtps_salan(t),perc05(t),t))\n",
        "\n",
        "salan_Rt_dat"
      ],
      "execution_count": 12,
      "outputs": [
        {
          "output_type": "execute_result",
          "data": {
            "text/plain": [
              "[(1.9421548121903218, datetime.date(2020, 4, 12)),\n",
              " (1.4242264778380958, datetime.date(2020, 4, 13)),\n",
              " (0.978006285869579, datetime.date(2020, 4, 14)),\n",
              " (0.6603155256670573, datetime.date(2020, 4, 15)),\n",
              " (0.6725013483776445, datetime.date(2020, 4, 16)),\n",
              " (0.6315873420673509, datetime.date(2020, 4, 17)),\n",
              " (0.4154883066880769, datetime.date(2020, 4, 18)),\n",
              " (0.37650104263506046, datetime.date(2020, 4, 19)),\n",
              " (0.34837232399458073, datetime.date(2020, 4, 20)),\n",
              " (0.309001941969883, datetime.date(2020, 4, 21)),\n",
              " (0.2747127606974255, datetime.date(2020, 4, 22)),\n",
              " (0.23919103793994959, datetime.date(2020, 4, 23)),\n",
              " (0.11475444899243609, datetime.date(2020, 4, 24)),\n",
              " (0.08893603972309322, datetime.date(2020, 4, 25)),\n",
              " (0.08985631807498477, datetime.date(2020, 4, 26)),\n",
              " (0.180816330486306, datetime.date(2020, 4, 27)),\n",
              " (0.1905154159613157, datetime.date(2020, 4, 28)),\n",
              " (0.20669907106523255, datetime.date(2020, 4, 29)),\n",
              " (0.22923796971133267, datetime.date(2020, 4, 30)),\n",
              " (0.42648268210104456, datetime.date(2020, 5, 1)),\n",
              " (0.5769556226072408, datetime.date(2020, 5, 2)),\n",
              " (1.3274914099481712, datetime.date(2020, 5, 3)),\n",
              " (1.3708558210292017, datetime.date(2020, 5, 4)),\n",
              " (1.3692824944138466, datetime.date(2020, 5, 5)),\n",
              " (1.7511934811786047, datetime.date(2020, 5, 6)),\n",
              " (1.8842788592941142, datetime.date(2020, 5, 7)),\n",
              " (2.2316374731898563, datetime.date(2020, 5, 8)),\n",
              " (2.182973555375267, datetime.date(2020, 5, 9)),\n",
              " (2.0785326913838684, datetime.date(2020, 5, 10)),\n",
              " (1.9825988461533575, datetime.date(2020, 5, 11)),\n",
              " (1.7971878091582032, datetime.date(2020, 5, 12)),\n",
              " (2.100407927012798, datetime.date(2020, 5, 13)),\n",
              " (2.2188810573575517, datetime.date(2020, 5, 14)),\n",
              " (2.1716678786800214, datetime.date(2020, 5, 15)),\n",
              " (3.0765335460256007, datetime.date(2020, 5, 16)),\n",
              " (3.386609905361774, datetime.date(2020, 5, 17)),\n",
              " (3.685765814615547, datetime.date(2020, 5, 18)),\n",
              " (3.431496322048023, datetime.date(2020, 5, 19)),\n",
              " (4.112889077035096, datetime.date(2020, 5, 20)),\n",
              " (4.061908224426589, datetime.date(2020, 5, 21)),\n",
              " (3.926977166992989, datetime.date(2020, 5, 22)),\n",
              " (3.738996592633957, datetime.date(2020, 5, 23)),\n",
              " (3.1706354211051146, datetime.date(2020, 5, 24)),\n",
              " (2.512650726705447, datetime.date(2020, 5, 25)),\n",
              " (2.3003023138428995, datetime.date(2020, 5, 26)),\n",
              " (2.167172334355889, datetime.date(2020, 5, 27)),\n",
              " (2.0363310381016717, datetime.date(2020, 5, 28)),\n",
              " (1.9423965880572704, datetime.date(2020, 5, 29)),\n",
              " (1.867488944853109, datetime.date(2020, 5, 30)),\n",
              " (1.6205070372808044, datetime.date(2020, 5, 31)),\n",
              " (1.4309474928395578, datetime.date(2020, 6, 1)),\n",
              " (1.3121710133518134, datetime.date(2020, 6, 2)),\n",
              " (1.323713536688989, datetime.date(2020, 6, 3)),\n",
              " (1.3645048132332775, datetime.date(2020, 6, 4))]"
            ]
          },
          "metadata": {
            "tags": []
          },
          "execution_count": 12
        }
      ]
    },
    {
      "cell_type": "code",
      "metadata": {
        "id": "pX10g9eeXH7l",
        "colab_type": "code",
        "outputId": "2e2af771-5e2d-4b37-b5f1-0c5a4ba2a900",
        "colab": {
          "base_uri": "https://localhost:8080/",
          "height": 801
        }
      },
      "source": [
        "# Plotting\n",
        "\n",
        "fig, ax = plt.subplots(figsize=(12, 12))\n",
        "\n",
        "ax.plot(daty_lst, salan_Rt, 'b',  marker =\"+\",ls = 'None')\n",
        "#ax.plot(daty_lst, sal_Rt, 'green',  marker =9,ls = 'None')\n",
        "ax.axhline(y=1, color='b', linestyle='dashed', label =\"R = 1\")\n",
        "ax.fill_between(daty_lst, perc05_lst, perc95_lst, alpha=0.08, color=\"tab:red\")\n",
        "\n",
        "ax.set(xlabel ='Andro', ylabel = \"R\")\n",
        "ax.legend(loc= 'best')\n",
        "\n",
        "plt.savefig(path_to_save+'R_2_4_2_6.eps')\n",
        "plt.show()"
      ],
      "execution_count": 13,
      "outputs": [
        {
          "output_type": "stream",
          "text": [
            "The PostScript backend does not support transparency; partially transparent artists will be rendered opaque.\n",
            "The PostScript backend does not support transparency; partially transparent artists will be rendered opaque.\n",
            "The PostScript backend does not support transparency; partially transparent artists will be rendered opaque.\n",
            "The PostScript backend does not support transparency; partially transparent artists will be rendered opaque.\n",
            "The PostScript backend does not support transparency; partially transparent artists will be rendered opaque.\n"
          ],
          "name": "stderr"
        },
        {
          "output_type": "display_data",
          "data": {
            "image/png": "[encoded data removed]",
            "text/plain": [
              "<Figure size 864x864 with 1 Axes>"
            ]
          },
          "metadata": {
            "tags": [],
            "needs_background": "light"
          }
        }
      ]
    },
    {
      "cell_type": "code",
      "metadata": {
        "id": "rQR-tjOWk5qg",
        "colab_type": "code",
        "colab": {}
      },
      "source": [
        "  #shape\n",
        "def func_sh(t):\n",
        "    def Rtpsand_sh(a):\n",
        "      return a + Ireh(t,8)\n",
        "    return Rtpsand_sh\n",
        "  # Scale\n",
        "def func_sc(t):\n",
        "    def Rtpsand_sc(b):\n",
        "      return 1/(1/b + tlsi(t,8))\n",
        "    return Rtpsand_sc\n",
        "\n",
        "def funcsh_inv(t):\n",
        "    def sh_invex(x):\n",
        "      return (x + Ireh(t,8))/x\n",
        "    return inversefunc(sh_invex)\n",
        "\n",
        "def Rt_salan(t):\n",
        "    ffunc_sh = func_sh(t)\n",
        "    ffunc_sc = func_sc(t)\n",
        "    ffuncsh_inv = funcsh_inv(t)\n",
        "    return ffuncsh_inv(1/ffunc_sc(1))\n",
        "\n",
        "# The 95th and 5th percentiles of Rt\n",
        "\n",
        "def perc95(t):\n",
        "    return gengamma.ppf(0.95, func_sh(t)(Rt_salan(t)), 1, loc = 0, scale = func_sc(t)(1))\n",
        "\n",
        "def perc05(t):\n",
        "    return gengamma.ppf(0.05, func_sh(t)(Rt_salan(t)), 1, loc = 0, scale = func_sc(t)(1))\n"
      ],
      "execution_count": 0,
      "outputs": []
    },
    {
      "cell_type": "code",
      "metadata": {
        "id": "O8NMPP76S_zA",
        "colab_type": "code",
        "colab": {
          "base_uri": "https://localhost:8080/",
          "height": 1000
        },
        "outputId": "246ed4ef-7286-4789-bb15-c2209bb15575"
      },
      "source": [
        "# Plotting\n",
        "\n",
        "formatf_date = lambda date_py: '{}/{}'.format(date_py.day, date_py.month)\n",
        "\n",
        "daty_lst = []\n",
        "salan_Rt_lst = []\n",
        "perc95_lst = []\n",
        "perc05_lst = []\n",
        "\n",
        "\n",
        "for i in range(round(((daty_data_mifar - daty_data_manom).days) - 1 -12)):\n",
        "  t = daty_data_manom + datetime.timedelta(days = i+1 +12)\n",
        "  daty = formatf_date(t)\n",
        "  daty_lst.append(daty)\n",
        "  perc95_lst.append(perc95(t))\n",
        "  perc05_lst.append(perc05(t))\n",
        "  salan_Rt_lst.append(Rt_salan(t))"
      ],
      "execution_count": 15,
      "outputs": [
        {
          "output_type": "stream",
          "text": [
            "/usr/local/lib/python3.6/dist-packages/ipykernel_launcher.py:14: RuntimeWarning: divide by zero encountered in double_scalars\n",
            "  \n",
            "/usr/local/lib/python3.6/dist-packages/ipykernel_launcher.py:14: RuntimeWarning: divide by zero encountered in double_scalars\n",
            "  \n",
            "/usr/local/lib/python3.6/dist-packages/ipykernel_launcher.py:14: RuntimeWarning: divide by zero encountered in double_scalars\n",
            "  \n",
            "/usr/local/lib/python3.6/dist-packages/ipykernel_launcher.py:14: RuntimeWarning: divide by zero encountered in double_scalars\n",
            "  \n",
            "/usr/local/lib/python3.6/dist-packages/ipykernel_launcher.py:14: RuntimeWarning: divide by zero encountered in double_scalars\n",
            "  \n",
            "/usr/local/lib/python3.6/dist-packages/ipykernel_launcher.py:14: RuntimeWarning: divide by zero encountered in double_scalars\n",
            "  \n",
            "/usr/local/lib/python3.6/dist-packages/ipykernel_launcher.py:14: RuntimeWarning: divide by zero encountered in double_scalars\n",
            "  \n",
            "/usr/local/lib/python3.6/dist-packages/ipykernel_launcher.py:14: RuntimeWarning: divide by zero encountered in double_scalars\n",
            "  \n",
            "/usr/local/lib/python3.6/dist-packages/ipykernel_launcher.py:14: RuntimeWarning: divide by zero encountered in double_scalars\n",
            "  \n",
            "/usr/local/lib/python3.6/dist-packages/ipykernel_launcher.py:14: RuntimeWarning: divide by zero encountered in double_scalars\n",
            "  \n",
            "/usr/local/lib/python3.6/dist-packages/ipykernel_launcher.py:14: RuntimeWarning: divide by zero encountered in double_scalars\n",
            "  \n",
            "/usr/local/lib/python3.6/dist-packages/ipykernel_launcher.py:14: RuntimeWarning: divide by zero encountered in double_scalars\n",
            "  \n",
            "/usr/local/lib/python3.6/dist-packages/ipykernel_launcher.py:14: RuntimeWarning: divide by zero encountered in double_scalars\n",
            "  \n",
            "/usr/local/lib/python3.6/dist-packages/ipykernel_launcher.py:14: RuntimeWarning: divide by zero encountered in double_scalars\n",
            "  \n",
            "/usr/local/lib/python3.6/dist-packages/ipykernel_launcher.py:14: RuntimeWarning: divide by zero encountered in double_scalars\n",
            "  \n",
            "/usr/local/lib/python3.6/dist-packages/ipykernel_launcher.py:14: RuntimeWarning: divide by zero encountered in double_scalars\n",
            "  \n",
            "/usr/local/lib/python3.6/dist-packages/ipykernel_launcher.py:14: RuntimeWarning: divide by zero encountered in double_scalars\n",
            "  \n",
            "/usr/local/lib/python3.6/dist-packages/ipykernel_launcher.py:14: RuntimeWarning: divide by zero encountered in double_scalars\n",
            "  \n",
            "/usr/local/lib/python3.6/dist-packages/ipykernel_launcher.py:14: RuntimeWarning: divide by zero encountered in double_scalars\n",
            "  \n",
            "/usr/local/lib/python3.6/dist-packages/ipykernel_launcher.py:14: RuntimeWarning: divide by zero encountered in double_scalars\n",
            "  \n",
            "/usr/local/lib/python3.6/dist-packages/ipykernel_launcher.py:14: RuntimeWarning: divide by zero encountered in double_scalars\n",
            "  \n",
            "/usr/local/lib/python3.6/dist-packages/ipykernel_launcher.py:14: RuntimeWarning: divide by zero encountered in double_scalars\n",
            "  \n",
            "/usr/local/lib/python3.6/dist-packages/ipykernel_launcher.py:14: RuntimeWarning: divide by zero encountered in double_scalars\n",
            "  \n",
            "/usr/local/lib/python3.6/dist-packages/ipykernel_launcher.py:14: RuntimeWarning: divide by zero encountered in double_scalars\n",
            "  \n",
            "/usr/local/lib/python3.6/dist-packages/ipykernel_launcher.py:14: RuntimeWarning: divide by zero encountered in double_scalars\n",
            "  \n",
            "/usr/local/lib/python3.6/dist-packages/ipykernel_launcher.py:14: RuntimeWarning: divide by zero encountered in double_scalars\n",
            "  \n",
            "/usr/local/lib/python3.6/dist-packages/ipykernel_launcher.py:14: RuntimeWarning: divide by zero encountered in double_scalars\n",
            "  \n",
            "/usr/local/lib/python3.6/dist-packages/ipykernel_launcher.py:14: RuntimeWarning: divide by zero encountered in double_scalars\n",
            "  \n",
            "/usr/local/lib/python3.6/dist-packages/ipykernel_launcher.py:14: RuntimeWarning: divide by zero encountered in double_scalars\n",
            "  \n",
            "/usr/local/lib/python3.6/dist-packages/ipykernel_launcher.py:14: RuntimeWarning: divide by zero encountered in double_scalars\n",
            "  \n",
            "/usr/local/lib/python3.6/dist-packages/ipykernel_launcher.py:14: RuntimeWarning: divide by zero encountered in double_scalars\n",
            "  \n",
            "/usr/local/lib/python3.6/dist-packages/ipykernel_launcher.py:14: RuntimeWarning: divide by zero encountered in double_scalars\n",
            "  \n",
            "/usr/local/lib/python3.6/dist-packages/ipykernel_launcher.py:14: RuntimeWarning: divide by zero encountered in double_scalars\n",
            "  \n",
            "/usr/local/lib/python3.6/dist-packages/ipykernel_launcher.py:14: RuntimeWarning: divide by zero encountered in double_scalars\n",
            "  \n",
            "/usr/local/lib/python3.6/dist-packages/ipykernel_launcher.py:14: RuntimeWarning: divide by zero encountered in double_scalars\n",
            "  \n",
            "/usr/local/lib/python3.6/dist-packages/ipykernel_launcher.py:14: RuntimeWarning: divide by zero encountered in double_scalars\n",
            "  \n",
            "/usr/local/lib/python3.6/dist-packages/ipykernel_launcher.py:14: RuntimeWarning: divide by zero encountered in double_scalars\n",
            "  \n",
            "/usr/local/lib/python3.6/dist-packages/ipykernel_launcher.py:14: RuntimeWarning: divide by zero encountered in double_scalars\n",
            "  \n",
            "/usr/local/lib/python3.6/dist-packages/ipykernel_launcher.py:14: RuntimeWarning: divide by zero encountered in double_scalars\n",
            "  \n",
            "/usr/local/lib/python3.6/dist-packages/ipykernel_launcher.py:14: RuntimeWarning: divide by zero encountered in double_scalars\n",
            "  \n",
            "/usr/local/lib/python3.6/dist-packages/ipykernel_launcher.py:14: RuntimeWarning: divide by zero encountered in double_scalars\n",
            "  \n",
            "/usr/local/lib/python3.6/dist-packages/ipykernel_launcher.py:14: RuntimeWarning: divide by zero encountered in double_scalars\n",
            "  \n",
            "/usr/local/lib/python3.6/dist-packages/ipykernel_launcher.py:14: RuntimeWarning: divide by zero encountered in double_scalars\n",
            "  \n",
            "/usr/local/lib/python3.6/dist-packages/ipykernel_launcher.py:14: RuntimeWarning: divide by zero encountered in double_scalars\n",
            "  \n",
            "/usr/local/lib/python3.6/dist-packages/ipykernel_launcher.py:14: RuntimeWarning: divide by zero encountered in double_scalars\n",
            "  \n",
            "/usr/local/lib/python3.6/dist-packages/ipykernel_launcher.py:14: RuntimeWarning: divide by zero encountered in double_scalars\n",
            "  \n",
            "/usr/local/lib/python3.6/dist-packages/ipykernel_launcher.py:14: RuntimeWarning: divide by zero encountered in double_scalars\n",
            "  \n",
            "/usr/local/lib/python3.6/dist-packages/ipykernel_launcher.py:14: RuntimeWarning: divide by zero encountered in double_scalars\n",
            "  \n",
            "/usr/local/lib/python3.6/dist-packages/ipykernel_launcher.py:14: RuntimeWarning: divide by zero encountered in double_scalars\n",
            "  \n",
            "/usr/local/lib/python3.6/dist-packages/ipykernel_launcher.py:14: RuntimeWarning: divide by zero encountered in double_scalars\n",
            "  \n",
            "/usr/local/lib/python3.6/dist-packages/ipykernel_launcher.py:14: RuntimeWarning: divide by zero encountered in double_scalars\n",
            "  \n",
            "/usr/local/lib/python3.6/dist-packages/ipykernel_launcher.py:14: RuntimeWarning: divide by zero encountered in double_scalars\n",
            "  \n",
            "/usr/local/lib/python3.6/dist-packages/ipykernel_launcher.py:14: RuntimeWarning: divide by zero encountered in double_scalars\n",
            "  \n",
            "/usr/local/lib/python3.6/dist-packages/ipykernel_launcher.py:14: RuntimeWarning: divide by zero encountered in double_scalars\n",
            "  \n",
            "/usr/local/lib/python3.6/dist-packages/ipykernel_launcher.py:14: RuntimeWarning: divide by zero encountered in double_scalars\n",
            "  \n",
            "/usr/local/lib/python3.6/dist-packages/ipykernel_launcher.py:14: RuntimeWarning: divide by zero encountered in double_scalars\n",
            "  \n",
            "/usr/local/lib/python3.6/dist-packages/ipykernel_launcher.py:14: RuntimeWarning: divide by zero encountered in double_scalars\n",
            "  \n",
            "/usr/local/lib/python3.6/dist-packages/ipykernel_launcher.py:14: RuntimeWarning: divide by zero encountered in double_scalars\n",
            "  \n",
            "/usr/local/lib/python3.6/dist-packages/ipykernel_launcher.py:14: RuntimeWarning: divide by zero encountered in double_scalars\n",
            "  \n",
            "/usr/local/lib/python3.6/dist-packages/ipykernel_launcher.py:14: RuntimeWarning: divide by zero encountered in double_scalars\n",
            "  \n",
            "/usr/local/lib/python3.6/dist-packages/ipykernel_launcher.py:14: RuntimeWarning: divide by zero encountered in double_scalars\n",
            "  \n",
            "/usr/local/lib/python3.6/dist-packages/ipykernel_launcher.py:14: RuntimeWarning: divide by zero encountered in double_scalars\n",
            "  \n",
            "/usr/local/lib/python3.6/dist-packages/ipykernel_launcher.py:14: RuntimeWarning: divide by zero encountered in double_scalars\n",
            "  \n",
            "/usr/local/lib/python3.6/dist-packages/ipykernel_launcher.py:14: RuntimeWarning: divide by zero encountered in double_scalars\n",
            "  \n",
            "/usr/local/lib/python3.6/dist-packages/ipykernel_launcher.py:14: RuntimeWarning: divide by zero encountered in double_scalars\n",
            "  \n",
            "/usr/local/lib/python3.6/dist-packages/ipykernel_launcher.py:14: RuntimeWarning: divide by zero encountered in double_scalars\n",
            "  \n",
            "/usr/local/lib/python3.6/dist-packages/ipykernel_launcher.py:14: RuntimeWarning: divide by zero encountered in double_scalars\n",
            "  \n",
            "/usr/local/lib/python3.6/dist-packages/ipykernel_launcher.py:14: RuntimeWarning: divide by zero encountered in double_scalars\n",
            "  \n",
            "/usr/local/lib/python3.6/dist-packages/ipykernel_launcher.py:14: RuntimeWarning: divide by zero encountered in double_scalars\n",
            "  \n",
            "/usr/local/lib/python3.6/dist-packages/ipykernel_launcher.py:14: RuntimeWarning: divide by zero encountered in double_scalars\n",
            "  \n",
            "/usr/local/lib/python3.6/dist-packages/ipykernel_launcher.py:14: RuntimeWarning: divide by zero encountered in double_scalars\n",
            "  \n",
            "/usr/local/lib/python3.6/dist-packages/ipykernel_launcher.py:14: RuntimeWarning: divide by zero encountered in double_scalars\n",
            "  \n",
            "/usr/local/lib/python3.6/dist-packages/ipykernel_launcher.py:14: RuntimeWarning: divide by zero encountered in double_scalars\n",
            "  \n",
            "/usr/local/lib/python3.6/dist-packages/ipykernel_launcher.py:14: RuntimeWarning: divide by zero encountered in double_scalars\n",
            "  \n",
            "/usr/local/lib/python3.6/dist-packages/ipykernel_launcher.py:14: RuntimeWarning: divide by zero encountered in double_scalars\n",
            "  \n",
            "/usr/local/lib/python3.6/dist-packages/ipykernel_launcher.py:14: RuntimeWarning: divide by zero encountered in double_scalars\n",
            "  \n",
            "/usr/local/lib/python3.6/dist-packages/ipykernel_launcher.py:14: RuntimeWarning: divide by zero encountered in double_scalars\n",
            "  \n",
            "/usr/local/lib/python3.6/dist-packages/ipykernel_launcher.py:14: RuntimeWarning: divide by zero encountered in double_scalars\n",
            "  \n",
            "/usr/local/lib/python3.6/dist-packages/ipykernel_launcher.py:14: RuntimeWarning: divide by zero encountered in double_scalars\n",
            "  \n",
            "/usr/local/lib/python3.6/dist-packages/ipykernel_launcher.py:14: RuntimeWarning: divide by zero encountered in double_scalars\n",
            "  \n",
            "/usr/local/lib/python3.6/dist-packages/ipykernel_launcher.py:14: RuntimeWarning: divide by zero encountered in double_scalars\n",
            "  \n",
            "/usr/local/lib/python3.6/dist-packages/ipykernel_launcher.py:14: RuntimeWarning: divide by zero encountered in double_scalars\n",
            "  \n",
            "/usr/local/lib/python3.6/dist-packages/ipykernel_launcher.py:14: RuntimeWarning: divide by zero encountered in double_scalars\n",
            "  \n",
            "/usr/local/lib/python3.6/dist-packages/ipykernel_launcher.py:14: RuntimeWarning: divide by zero encountered in double_scalars\n",
            "  \n",
            "/usr/local/lib/python3.6/dist-packages/ipykernel_launcher.py:14: RuntimeWarning: divide by zero encountered in double_scalars\n",
            "  \n",
            "/usr/local/lib/python3.6/dist-packages/ipykernel_launcher.py:14: RuntimeWarning: divide by zero encountered in double_scalars\n",
            "  \n",
            "/usr/local/lib/python3.6/dist-packages/ipykernel_launcher.py:14: RuntimeWarning: divide by zero encountered in double_scalars\n",
            "  \n",
            "/usr/local/lib/python3.6/dist-packages/ipykernel_launcher.py:14: RuntimeWarning: divide by zero encountered in double_scalars\n",
            "  \n",
            "/usr/local/lib/python3.6/dist-packages/ipykernel_launcher.py:14: RuntimeWarning: divide by zero encountered in double_scalars\n",
            "  \n",
            "/usr/local/lib/python3.6/dist-packages/ipykernel_launcher.py:14: RuntimeWarning: divide by zero encountered in double_scalars\n",
            "  \n",
            "/usr/local/lib/python3.6/dist-packages/ipykernel_launcher.py:14: RuntimeWarning: divide by zero encountered in double_scalars\n",
            "  \n",
            "/usr/local/lib/python3.6/dist-packages/ipykernel_launcher.py:14: RuntimeWarning: divide by zero encountered in double_scalars\n",
            "  \n",
            "/usr/local/lib/python3.6/dist-packages/ipykernel_launcher.py:14: RuntimeWarning: divide by zero encountered in double_scalars\n",
            "  \n",
            "/usr/local/lib/python3.6/dist-packages/ipykernel_launcher.py:14: RuntimeWarning: divide by zero encountered in double_scalars\n",
            "  \n",
            "/usr/local/lib/python3.6/dist-packages/ipykernel_launcher.py:14: RuntimeWarning: divide by zero encountered in double_scalars\n",
            "  \n",
            "/usr/local/lib/python3.6/dist-packages/ipykernel_launcher.py:14: RuntimeWarning: divide by zero encountered in double_scalars\n",
            "  \n",
            "/usr/local/lib/python3.6/dist-packages/ipykernel_launcher.py:14: RuntimeWarning: divide by zero encountered in double_scalars\n",
            "  \n",
            "/usr/local/lib/python3.6/dist-packages/ipykernel_launcher.py:14: RuntimeWarning: divide by zero encountered in double_scalars\n",
            "  \n",
            "/usr/local/lib/python3.6/dist-packages/ipykernel_launcher.py:14: RuntimeWarning: divide by zero encountered in double_scalars\n",
            "  \n",
            "/usr/local/lib/python3.6/dist-packages/ipykernel_launcher.py:14: RuntimeWarning: divide by zero encountered in double_scalars\n",
            "  \n",
            "/usr/local/lib/python3.6/dist-packages/ipykernel_launcher.py:14: RuntimeWarning: divide by zero encountered in double_scalars\n",
            "  \n",
            "/usr/local/lib/python3.6/dist-packages/ipykernel_launcher.py:14: RuntimeWarning: divide by zero encountered in double_scalars\n",
            "  \n",
            "/usr/local/lib/python3.6/dist-packages/ipykernel_launcher.py:14: RuntimeWarning: divide by zero encountered in double_scalars\n",
            "  \n",
            "/usr/local/lib/python3.6/dist-packages/ipykernel_launcher.py:14: RuntimeWarning: divide by zero encountered in double_scalars\n",
            "  \n",
            "/usr/local/lib/python3.6/dist-packages/ipykernel_launcher.py:14: RuntimeWarning: divide by zero encountered in double_scalars\n",
            "  \n",
            "/usr/local/lib/python3.6/dist-packages/ipykernel_launcher.py:14: RuntimeWarning: divide by zero encountered in double_scalars\n",
            "  \n",
            "/usr/local/lib/python3.6/dist-packages/ipykernel_launcher.py:14: RuntimeWarning: divide by zero encountered in double_scalars\n",
            "  \n",
            "/usr/local/lib/python3.6/dist-packages/ipykernel_launcher.py:14: RuntimeWarning: divide by zero encountered in double_scalars\n",
            "  \n",
            "/usr/local/lib/python3.6/dist-packages/ipykernel_launcher.py:14: RuntimeWarning: divide by zero encountered in double_scalars\n",
            "  \n",
            "/usr/local/lib/python3.6/dist-packages/ipykernel_launcher.py:14: RuntimeWarning: divide by zero encountered in double_scalars\n",
            "  \n",
            "/usr/local/lib/python3.6/dist-packages/ipykernel_launcher.py:14: RuntimeWarning: divide by zero encountered in double_scalars\n",
            "  \n",
            "/usr/local/lib/python3.6/dist-packages/ipykernel_launcher.py:14: RuntimeWarning: divide by zero encountered in double_scalars\n",
            "  \n",
            "/usr/local/lib/python3.6/dist-packages/ipykernel_launcher.py:14: RuntimeWarning: divide by zero encountered in double_scalars\n",
            "  \n",
            "/usr/local/lib/python3.6/dist-packages/ipykernel_launcher.py:14: RuntimeWarning: divide by zero encountered in double_scalars\n",
            "  \n",
            "/usr/local/lib/python3.6/dist-packages/ipykernel_launcher.py:14: RuntimeWarning: divide by zero encountered in double_scalars\n",
            "  \n",
            "/usr/local/lib/python3.6/dist-packages/ipykernel_launcher.py:14: RuntimeWarning: divide by zero encountered in double_scalars\n",
            "  \n",
            "/usr/local/lib/python3.6/dist-packages/ipykernel_launcher.py:14: RuntimeWarning: divide by zero encountered in double_scalars\n",
            "  \n",
            "/usr/local/lib/python3.6/dist-packages/ipykernel_launcher.py:14: RuntimeWarning: divide by zero encountered in double_scalars\n",
            "  \n",
            "/usr/local/lib/python3.6/dist-packages/ipykernel_launcher.py:14: RuntimeWarning: divide by zero encountered in double_scalars\n",
            "  \n",
            "/usr/local/lib/python3.6/dist-packages/ipykernel_launcher.py:14: RuntimeWarning: divide by zero encountered in double_scalars\n",
            "  \n",
            "/usr/local/lib/python3.6/dist-packages/ipykernel_launcher.py:14: RuntimeWarning: divide by zero encountered in double_scalars\n",
            "  \n",
            "/usr/local/lib/python3.6/dist-packages/ipykernel_launcher.py:14: RuntimeWarning: divide by zero encountered in double_scalars\n",
            "  \n",
            "/usr/local/lib/python3.6/dist-packages/ipykernel_launcher.py:14: RuntimeWarning: divide by zero encountered in double_scalars\n",
            "  \n",
            "/usr/local/lib/python3.6/dist-packages/ipykernel_launcher.py:14: RuntimeWarning: divide by zero encountered in double_scalars\n",
            "  \n",
            "/usr/local/lib/python3.6/dist-packages/ipykernel_launcher.py:14: RuntimeWarning: divide by zero encountered in double_scalars\n",
            "  \n",
            "/usr/local/lib/python3.6/dist-packages/ipykernel_launcher.py:14: RuntimeWarning: divide by zero encountered in double_scalars\n",
            "  \n",
            "/usr/local/lib/python3.6/dist-packages/ipykernel_launcher.py:14: RuntimeWarning: divide by zero encountered in double_scalars\n",
            "  \n",
            "/usr/local/lib/python3.6/dist-packages/ipykernel_launcher.py:14: RuntimeWarning: divide by zero encountered in double_scalars\n",
            "  \n",
            "/usr/local/lib/python3.6/dist-packages/ipykernel_launcher.py:14: RuntimeWarning: divide by zero encountered in double_scalars\n",
            "  \n",
            "/usr/local/lib/python3.6/dist-packages/ipykernel_launcher.py:14: RuntimeWarning: divide by zero encountered in double_scalars\n",
            "  \n",
            "/usr/local/lib/python3.6/dist-packages/ipykernel_launcher.py:14: RuntimeWarning: divide by zero encountered in double_scalars\n",
            "  \n",
            "/usr/local/lib/python3.6/dist-packages/ipykernel_launcher.py:14: RuntimeWarning: divide by zero encountered in double_scalars\n",
            "  \n",
            "/usr/local/lib/python3.6/dist-packages/ipykernel_launcher.py:14: RuntimeWarning: divide by zero encountered in double_scalars\n",
            "  \n",
            "/usr/local/lib/python3.6/dist-packages/ipykernel_launcher.py:14: RuntimeWarning: divide by zero encountered in double_scalars\n",
            "  \n",
            "/usr/local/lib/python3.6/dist-packages/ipykernel_launcher.py:14: RuntimeWarning: divide by zero encountered in double_scalars\n",
            "  \n",
            "/usr/local/lib/python3.6/dist-packages/ipykernel_launcher.py:14: RuntimeWarning: divide by zero encountered in double_scalars\n",
            "  \n",
            "/usr/local/lib/python3.6/dist-packages/ipykernel_launcher.py:14: RuntimeWarning: divide by zero encountered in double_scalars\n",
            "  \n",
            "/usr/local/lib/python3.6/dist-packages/ipykernel_launcher.py:14: RuntimeWarning: divide by zero encountered in double_scalars\n",
            "  \n",
            "/usr/local/lib/python3.6/dist-packages/ipykernel_launcher.py:14: RuntimeWarning: divide by zero encountered in double_scalars\n",
            "  \n",
            "/usr/local/lib/python3.6/dist-packages/ipykernel_launcher.py:14: RuntimeWarning: divide by zero encountered in double_scalars\n",
            "  \n",
            "/usr/local/lib/python3.6/dist-packages/ipykernel_launcher.py:14: RuntimeWarning: divide by zero encountered in double_scalars\n",
            "  \n",
            "/usr/local/lib/python3.6/dist-packages/ipykernel_launcher.py:14: RuntimeWarning: divide by zero encountered in double_scalars\n",
            "  \n",
            "/usr/local/lib/python3.6/dist-packages/ipykernel_launcher.py:14: RuntimeWarning: divide by zero encountered in double_scalars\n",
            "  \n",
            "/usr/local/lib/python3.6/dist-packages/ipykernel_launcher.py:14: RuntimeWarning: divide by zero encountered in double_scalars\n",
            "  \n",
            "/usr/local/lib/python3.6/dist-packages/ipykernel_launcher.py:14: RuntimeWarning: divide by zero encountered in double_scalars\n",
            "  \n",
            "/usr/local/lib/python3.6/dist-packages/ipykernel_launcher.py:14: RuntimeWarning: divide by zero encountered in double_scalars\n",
            "  \n",
            "/usr/local/lib/python3.6/dist-packages/ipykernel_launcher.py:14: RuntimeWarning: divide by zero encountered in double_scalars\n",
            "  \n",
            "/usr/local/lib/python3.6/dist-packages/ipykernel_launcher.py:14: RuntimeWarning: divide by zero encountered in double_scalars\n",
            "  \n",
            "/usr/local/lib/python3.6/dist-packages/ipykernel_launcher.py:14: RuntimeWarning: divide by zero encountered in double_scalars\n",
            "  \n",
            "/usr/local/lib/python3.6/dist-packages/ipykernel_launcher.py:14: RuntimeWarning: divide by zero encountered in double_scalars\n",
            "  \n",
            "/usr/local/lib/python3.6/dist-packages/ipykernel_launcher.py:14: RuntimeWarning: divide by zero encountered in double_scalars\n",
            "  \n",
            "/usr/local/lib/python3.6/dist-packages/ipykernel_launcher.py:14: RuntimeWarning: divide by zero encountered in double_scalars\n",
            "  \n",
            "/usr/local/lib/python3.6/dist-packages/ipykernel_launcher.py:14: RuntimeWarning: divide by zero encountered in double_scalars\n",
            "  \n",
            "/usr/local/lib/python3.6/dist-packages/ipykernel_launcher.py:14: RuntimeWarning: divide by zero encountered in double_scalars\n",
            "  \n",
            "/usr/local/lib/python3.6/dist-packages/ipykernel_launcher.py:14: RuntimeWarning: divide by zero encountered in double_scalars\n",
            "  \n",
            "/usr/local/lib/python3.6/dist-packages/ipykernel_launcher.py:14: RuntimeWarning: divide by zero encountered in double_scalars\n",
            "  \n"
          ],
          "name": "stderr"
        }
      ]
    },
    {
      "cell_type": "code",
      "metadata": {
        "id": "xWCmVJfNVEmV",
        "colab_type": "code",
        "colab": {
          "base_uri": "https://localhost:8080/",
          "height": 803
        },
        "outputId": "90ee6310-9eb6-4802-ecb2-0c1943b5aa77"
      },
      "source": [
        "# Plotting\n",
        "\n",
        "fig, ax = plt.subplots(figsize=(12, 12))\n",
        "\n",
        "ax.plot(daty_lst, salan_Rt_lst, 'b',  marker =\"+\",ls = 'None')\n",
        "#ax.plot(daty_lst, sal_Rt, 'green',  marker =9,ls = 'None')\n",
        "ax.axhline(y=1, color='b', linestyle='dashed', label =\"R = 1\")\n",
        "ax.fill_between(daty_lst, perc05_lst, perc95_lst, alpha=0.08, color=\"tab:red\")\n",
        "\n",
        "ax.set(xlabel ='Andro', ylabel = \"R\")\n",
        "ax.legend(loc= 'best')\n",
        "\n",
        "plt.savefig(path_to_save+'R_2_4_2_6.eps')\n",
        "plt.show()"
      ],
      "execution_count": 16,
      "outputs": [
        {
          "output_type": "stream",
          "text": [
            "The PostScript backend does not support transparency; partially transparent artists will be rendered opaque.\n",
            "The PostScript backend does not support transparency; partially transparent artists will be rendered opaque.\n",
            "The PostScript backend does not support transparency; partially transparent artists will be rendered opaque.\n",
            "The PostScript backend does not support transparency; partially transparent artists will be rendered opaque.\n",
            "The PostScript backend does not support transparency; partially transparent artists will be rendered opaque.\n"
          ],
          "name": "stderr"
        },
        {
          "output_type": "display_data",
          "data": {
            "image/png": "[encoded data removed]",
            "text/plain": [
              "<Figure size 864x864 with 1 Axes>"
            ]
          },
          "metadata": {
            "tags": [],
            "needs_background": "light"
          }
        }
      ]
    },
    {
      "cell_type": "code",
      "metadata": {
        "id": "B7I0hfMBDGnv",
        "colab_type": "code",
        "colab": {
          "base_uri": "https://localhost:8080/",
          "height": 515
        },
        "outputId": "4d6ecf91-f48c-43c3-ecd7-1e9949276ee1"
      },
      "source": [
        "datyab = datetime.date(2020, 6, 4)\n",
        "\n",
        "fig = plt.figure(figsize=(7,7))\n",
        "ax = fig.gca(projection='3d')\n",
        "\n",
        "# Make data.\n",
        "X = np.linspace(0.1,5,100)\n",
        "Y = np.linspace(0.1,5,100)\n",
        "X, Y = np.meshgrid(X, Y)\n",
        "Z = func_sh(datyab)(X)*func_sc(datyab)(Y)\n",
        "W = X*Y\n",
        "# Plot the surface.\n",
        "surf = ax.plot_surface(X, Y, Z, cmap=cm.coolwarm,\n",
        "                       linewidth=0, antialiased=False)\n",
        "#surf = ax.plot_surface(X, Y, W, cmap=cm.coolwarm,\n",
        " #                      linewidth=0, antialiased=False)\n",
        "\n",
        "# Customize the z axis.\n",
        "ax.set_zlim(1.35, 1.45)\n",
        "ax.zaxis.set_major_locator(LinearLocator(10))\n",
        "ax.zaxis.set_major_formatter(FormatStrFormatter('%.02f'))\n",
        "\n",
        "ax.set(xlabel ='bika a', ylabel = \"taha b\", zlabel = 'R(t=4/06)')\n",
        "\n",
        "# Add a color bar which maps values to colors.\n",
        "fig.colorbar(surf, shrink=0.5, aspect=5)\n",
        "\n",
        "plt.savefig(path_to_save+'Rtmena64.eps')\n",
        "\n",
        "plt.show()"
      ],
      "execution_count": 17,
      "outputs": [
        {
          "output_type": "stream",
          "text": [
            "The PostScript backend does not support transparency; partially transparent artists will be rendered opaque.\n",
            "The PostScript backend does not support transparency; partially transparent artists will be rendered opaque.\n",
            "The PostScript backend does not support transparency; partially transparent artists will be rendered opaque.\n",
            "The PostScript backend does not support transparency; partially transparent artists will be rendered opaque.\n",
            "The PostScript backend does not support transparency; partially transparent artists will be rendered opaque.\n",
            "The PostScript backend does not support transparency; partially transparent artists will be rendered opaque.\n"
          ],
          "name": "stderr"
        },
        {
          "output_type": "display_data",
          "data": {
            "image/png": "[encoded data removed]",
            "text/plain": [
              "<Figure size 504x504 with 2 Axes>"
            ]
          },
          "metadata": {
            "tags": [],
            "needs_background": "light"
          }
        }
      ]
    },
    {
      "cell_type": "code",
      "metadata": {
        "id": "ch4xdAxMoyUO",
        "colab_type": "code",
        "colab": {
          "base_uri": "https://localhost:8080/",
          "height": 279
        },
        "outputId": "b85977cf-f45e-47f6-f9ff-237214f8008c"
      },
      "source": [
        "# Variation of discr_si1 with rapport to the shape parameter a\n",
        "\n",
        "# 100 linearly spaced numbers\n",
        "x = np.linspace(0.1,5,100)\n",
        "\n",
        "fig = plt.figure()\n",
        "ax = fig.add_subplot(1, 1, 1)\n",
        "\n",
        "# plot the functions\n",
        "plt.plot(x, func_sh(datyab)(0.1)*func_sc(datyab)(x), 'k', label =\"bika = 0.1\")\n",
        "plt.plot(x, func_sh(datyab)(1)*func_sc(datyab)(x), 'maroon', label= 'bika = 1')\n",
        "plt.plot(x, func_sh(datyab)(1)*func_sc(datyab)(x), 'grey', label= 'bika = 50')\n",
        "\n",
        "ax.set(xlabel ='taha', ylabel = \"Rt\")\n",
        "ax.legend(loc= 'lower right')\n",
        "\n",
        "# show the plot\n",
        "plt.show()"
      ],
      "execution_count": 18,
      "outputs": [
        {
          "output_type": "display_data",
          "data": {
            "image/png": "[encoded data removed]",
            "text/plain": [
              "<Figure size 432x288 with 1 Axes>"
            ]
          },
          "metadata": {
            "tags": [],
            "needs_background": "light"
          }
        }
      ]
    },
    {
      "cell_type": "code",
      "metadata": {
        "id": "sGtIf_7FHk_q",
        "colab_type": "code",
        "colab": {
          "base_uri": "https://localhost:8080/",
          "height": 34
        },
        "outputId": "43b11f8c-f7c8-4336-87ae-46553443896a"
      },
      "source": [
        "func_sh(datyab)(0.1)*func_sc(datyab)(0.6)"
      ],
      "execution_count": 19,
      "outputs": [
        {
          "output_type": "execute_result",
          "data": {
            "text/plain": [
              "1.410996444648768"
            ]
          },
          "metadata": {
            "tags": []
          },
          "execution_count": 19
        }
      ]
    },
    {
      "cell_type": "code",
      "metadata": {
        "id": "xccAVzKYqAFI",
        "colab_type": "code",
        "colab": {
          "base_uri": "https://localhost:8080/",
          "height": 279
        },
        "outputId": "410bb9d2-8b42-42c9-bce4-212fe53908b6"
      },
      "source": [
        "# Variation of R(t) with rapport to the shape prior parameter a\n",
        "\n",
        "# 100 linearly spaced numbers\n",
        "x = np.linspace(0.1,5,100)\n",
        "\n",
        "fig = plt.figure()\n",
        "ax = fig.add_subplot(1, 1, 1)\n",
        "\n",
        "# plot the functions\n",
        "plt.plot(x, func_sh(datyab)(x)*func_sc(datyab)(0.1), 'green', label =\"taha = 0.1\")\n",
        "plt.plot(x, func_sh(datyab)(x)*func_sc(datyab)(1), 'lime',  label =\"taha = 1\")\n",
        "plt.plot(x, func_sh(datyab)(x)*func_sc(datyab)(5), 'greenyellow', label =\"taha = 5\")\n",
        "\n",
        "ax.set(xlabel ='bika', ylabel = \"Rt\")\n",
        "ax.legend(loc= 'upper left')\n",
        "\n",
        "\n",
        "# show the plot\n",
        "plt.show()"
      ],
      "execution_count": 20,
      "outputs": [
        {
          "output_type": "display_data",
          "data": {
            "image/png": "[encoded data removed]",
            "text/plain": [
              "<Figure size 432x288 with 1 Axes>"
            ]
          },
          "metadata": {
            "tags": [],
            "needs_background": "light"
          }
        }
      ]
    },
    {
      "cell_type": "code",
      "metadata": {
        "id": "fRzPBRsGqxD7",
        "colab_type": "code",
        "colab": {
          "base_uri": "https://localhost:8080/",
          "height": 338
        },
        "outputId": "a7b04321-64a4-4eb1-dc16-f0d656aaa505"
      },
      "source": [
        "# Curve of (shape, scale) for which the prior mean is equal to the posterior mean\n",
        "\n",
        "# 100 linearly spaced numbers\n",
        "x = np.linspace(0.1,6,100)\n",
        "\n",
        "fig = plt.figure()\n",
        "ax = fig.add_subplot(1, 1, 1)\n",
        "\n",
        "# plot the functions\n",
        "plt.plot(x, funcsh_inv(datyab)(x/func_sc(datyab)(x)), 'blue')\n",
        "\n",
        "ax.set_ylim(0.1, 7)\n",
        "ax.set(xlabel ='taha', ylabel = \"bika\")\n",
        "\n",
        "\n",
        "\n",
        "# show the plot\n",
        "plt.show()"
      ],
      "execution_count": 21,
      "outputs": [
        {
          "output_type": "stream",
          "text": [
            "/usr/local/lib/python3.6/dist-packages/ipykernel_launcher.py:14: RuntimeWarning: divide by zero encountered in double_scalars\n",
            "  \n"
          ],
          "name": "stderr"
        },
        {
          "output_type": "display_data",
          "data": {
            "image/png": "[encoded data removed]",
            "text/plain": [
              "<Figure size 432x288 with 1 Axes>"
            ]
          },
          "metadata": {
            "tags": [],
            "needs_background": "light"
          }
        }
      ]
    },
    {
      "cell_type": "code",
      "metadata": {
        "id": "oJCHHcLT62Kr",
        "colab_type": "code",
        "colab": {
          "base_uri": "https://localhost:8080/",
          "height": 407
        },
        "outputId": "cd898846-7f9f-4cc4-b74c-1b71e880d52d"
      },
      "source": [
        "# Variation of R(t) with rapport to the shape prior parameter a\n",
        "\n",
        "# 100 linearly spaced numbers\n",
        "x = np.linspace(0.1,6,100)\n",
        "\n",
        "fig = plt.figure()\n",
        "ax = fig.add_subplot(1, 1, 1)\n",
        "\n",
        "# plot the functions\n",
        "plt.plot(x, x*funcsh_inv(datyab)(x/func_sc(datyab)(x)), 'blue')\n",
        "\n",
        "ax.set_ylim(1, 3)\n",
        "ax.set(xlabel ='taha', ylabel = \"R(t)\")\n",
        "\n",
        "\n",
        "# show the plot\n",
        "plt.show()\n",
        "\n",
        "print('taha* = 1')\n",
        "print('R(t=',datyab,') =', funcsh_inv(datyab)(1/func_sc(datyab)(1)), '= bika*')\n"
      ],
      "execution_count": 24,
      "outputs": [
        {
          "output_type": "stream",
          "text": [
            "/usr/local/lib/python3.6/dist-packages/ipykernel_launcher.py:14: RuntimeWarning: divide by zero encountered in double_scalars\n",
            "  \n"
          ],
          "name": "stderr"
        },
        {
          "output_type": "display_data",
          "data": {
            "image/png": "[encoded data removed]",
            "text/plain": [
              "<Figure size 432x288 with 1 Axes>"
            ]
          },
          "metadata": {
            "tags": [],
            "needs_background": "light"
          }
        },
        {
          "output_type": "stream",
          "text": [
            "taha* = 1\n"
          ],
          "name": "stdout"
        },
        {
          "output_type": "stream",
          "text": [
            "/usr/local/lib/python3.6/dist-packages/ipykernel_launcher.py:14: RuntimeWarning: divide by zero encountered in double_scalars\n",
            "  \n"
          ],
          "name": "stderr"
        },
        {
          "output_type": "stream",
          "text": [
            "R(t= 2020-06-04 ) = 1.4202658910147765 = bika*\n"
          ],
          "name": "stdout"
        }
      ]
    },
    {
      "cell_type": "code",
      "metadata": {
        "id": "JVCzXcCycStq",
        "colab_type": "code",
        "colab": {}
      },
      "source": [
        "# Various data:\n",
        "\n",
        "R_2_31 = [(1.31, datetime.date(2020, 5, 2)),\n",
        " (2.6100000000000003, datetime.date(2020, 5, 3)),\n",
        " (2.5100000000000002, datetime.date(2020, 5, 4)),\n",
        " (2.6100000000000003, datetime.date(2020, 5, 5)),\n",
        " (3.0100000000000002, datetime.date(2020, 5, 6)),\n",
        " (3.0100000000000002, datetime.date(2020, 5, 7)),\n",
        " (3.0100000000000002, datetime.date(2020, 5, 8)),\n",
        " (4.11, datetime.date(2020, 5, 9)),\n",
        " (3.91, datetime.date(2020, 5, 10)),\n",
        " (4.3767780913779, datetime.date(2020, 5, 11)),\n",
        " (2.9949761573723, datetime.date(2020, 5, 12)),\n",
        " (2.8361687501387802, datetime.date(2020, 5, 13)),\n",
        " (2.7958206100022545, datetime.date(2020, 5, 14)),\n",
        " (2.4796399001797464, datetime.date(2020, 5, 15)),\n",
        " (3.443033307137812, datetime.date(2020, 5, 16)),\n",
        " (3.8554240895233494, datetime.date(2020, 5, 17)),\n",
        " (4.115043463524598, datetime.date(2020, 5, 18)),\n",
        " (3.932100438170955, datetime.date(2020, 5, 19)),\n",
        " (4.506062261092727, datetime.date(2020, 5, 20)),\n",
        " (4.523619207285901, datetime.date(2020, 5, 21)),\n",
        " (4.458931264645666, datetime.date(2020, 5, 22)),\n",
        " (4.059657244369418, datetime.date(2020, 5, 23)),\n",
        " (3.756070312290585, datetime.date(2020, 5, 24)),\n",
        " (2.9652459166049185, datetime.date(2020, 5, 25)),\n",
        " (2.5824590922225963, datetime.date(2020, 5, 26)),\n",
        " (2.2148959445368077, datetime.date(2020, 5, 27)),\n",
        " (2.220846438801185, datetime.date(2020, 5, 28)),\n",
        " (2.1107872360180178, datetime.date(2020, 5, 29)),\n",
        " (2.091565444288094, datetime.date(2020, 5, 30)),\n",
        " (1.833162667249601, datetime.date(2020, 5, 31))]\n",
        "\n",
        "R_2_31_y, R_2_31_x = [lis[0] for lis in R_2_31], [lis[1].strftime('%d/%m') for lis in R_2_31]\n",
        "\n",
        " # From 09/05 to 25/05 data:\n",
        "\n",
        "R_10_25 = [(3.91, datetime.date(2020, 5, 10)),\n",
        " (5.11, datetime.date(2020, 5, 11)),\n",
        " (4.3100000000000005, datetime.date(2020, 5, 12)),\n",
        " (6.3100000000000005, datetime.date(2020, 5, 13)),\n",
        " (7.909999999999999, datetime.date(2020, 5, 14)),\n",
        " (8.01, datetime.date(2020, 5, 15)),\n",
        " (12.51, datetime.date(2020, 5, 16)),\n",
        " (14.61, datetime.date(2020, 5, 17)),\n",
        " (15.309999999999999, datetime.date(2020, 5, 18)),\n",
        " (10.618232327556617, datetime.date(2020, 5, 19)),\n",
        " (9.513276075841821, datetime.date(2020, 5, 20)),\n",
        " (7.362649508668455, datetime.date(2020, 5, 21)),\n",
        " (6.197022747127988, datetime.date(2020, 5, 22)),\n",
        " (4.992872807945991, datetime.date(2020, 5, 23)),\n",
        " (4.275090873096726, datetime.date(2020, 5, 24)),\n",
        " (3.233281463506283, datetime.date(2020, 5, 25))]\n",
        "\n",
        "R_10_25_y, R_10_25_x = [lis[0] for lis in R_10_25], [lis[1].strftime('%d/%m') for lis in R_10_25]\n",
        "\n",
        "# From 01/05 to 19/05 data:\n",
        "\n",
        "R_2_19 = [(1.31, datetime.date(2020, 5, 2)),\n",
        " (2.6100000000000003, datetime.date(2020, 5, 3)),\n",
        " (2.5100000000000002, datetime.date(2020, 5, 4)),\n",
        " (2.6100000000000003, datetime.date(2020, 5, 5)),\n",
        " (3.0100000000000002, datetime.date(2020, 5, 6)),\n",
        " (3.0100000000000002, datetime.date(2020, 5, 7)),\n",
        " (3.0100000000000002, datetime.date(2020, 5, 8)),\n",
        " (4.11, datetime.date(2020, 5, 9)),\n",
        " (3.91, datetime.date(2020, 5, 10)),\n",
        " (4.3767780913779, datetime.date(2020, 5, 11)),\n",
        " (2.9949761573723, datetime.date(2020, 5, 12)),\n",
        " (2.8361687501387802, datetime.date(2020, 5, 13)),\n",
        " (2.7958206100022545, datetime.date(2020, 5, 14)),\n",
        " (2.4796399001797464, datetime.date(2020, 5, 15)),\n",
        " (3.443033307137812, datetime.date(2020, 5, 16)),\n",
        " (3.8554240895233494, datetime.date(2020, 5, 17)),\n",
        " (4.115043463524598, datetime.date(2020, 5, 18)),\n",
        " (3.932100438170955, datetime.date(2020, 5, 19))]\n",
        "\n",
        "R_2_19_y, R_2_19_x = [lis[0] for lis in R_2_19], [lis[1].strftime('%d/%m') for lis in R_2_19]\n",
        "\n",
        "R_10_31 = [(3.91, datetime.date(2020, 5, 10)),\n",
        " (5.11, datetime.date(2020, 5, 11)),\n",
        " (4.3100000000000005, datetime.date(2020, 5, 12)),\n",
        " (6.3100000000000005, datetime.date(2020, 5, 13)),\n",
        " (7.909999999999999, datetime.date(2020, 5, 14)),\n",
        " (8.01, datetime.date(2020, 5, 15)),\n",
        " (12.51, datetime.date(2020, 5, 16)),\n",
        " (14.61, datetime.date(2020, 5, 17)),\n",
        " (15.309999999999999, datetime.date(2020, 5, 18)),\n",
        " (10.618232327556617, datetime.date(2020, 5, 19)),\n",
        " (9.513276075841821, datetime.date(2020, 5, 20)),\n",
        " (7.362649508668455, datetime.date(2020, 5, 21)),\n",
        " (6.197022747127988, datetime.date(2020, 5, 22)),\n",
        " (4.992872807945991, datetime.date(2020, 5, 23)),\n",
        " (4.275090873096726, datetime.date(2020, 5, 24)),\n",
        " (3.233281463506283, datetime.date(2020, 5, 25)),\n",
        " (2.7206403054222768, datetime.date(2020, 5, 26)),\n",
        " (2.288389746558919, datetime.date(2020, 5, 27)),\n",
        " (2.2691088110182944, datetime.date(2020, 5, 28)),\n",
        " (2.1434017543805823, datetime.date(2020, 5, 29)),\n",
        " (2.1134368053296915, datetime.date(2020, 5, 30)),\n",
        " (1.8458912408196377, datetime.date(2020, 5, 31))]\n",
        "\n",
        "R_10_31_y, R_10_31_x = [lis[0] for lis in R_10_31], [lis[1].strftime('%d/%m') for lis in R_10_31]\n",
        "\n",
        "R_7_31 = [(3.0100000000000002, datetime.date(2020, 5, 7)),\n",
        " (3.0100000000000002, datetime.date(2020, 5, 8)),\n",
        " (4.11, datetime.date(2020, 5, 9)),\n",
        " (3.91, datetime.date(2020, 5, 10)),\n",
        " (5.11, datetime.date(2020, 5, 11)),\n",
        " (4.3100000000000005, datetime.date(2020, 5, 12)),\n",
        " (6.3100000000000005, datetime.date(2020, 5, 13)),\n",
        " (7.909999999999999, datetime.date(2020, 5, 14)),\n",
        " (8.01, datetime.date(2020, 5, 15)),\n",
        " (9.673905010104543, datetime.date(2020, 5, 16)),\n",
        " (9.434895735664094, datetime.date(2020, 5, 17)),\n",
        " (8.974298673063291, datetime.date(2020, 5, 18)),\n",
        " (7.0099335144792745, datetime.date(2020, 5, 19)),\n",
        " (6.939586014386592, datetime.date(2020, 5, 20)),\n",
        " (6.015102147422691, datetime.date(2020, 5, 21)),\n",
        " (5.406879378262122, datetime.date(2020, 5, 22)),\n",
        " (4.582893339447319, datetime.date(2020, 5, 23)),\n",
        " (4.050773071225689, datetime.date(2020, 5, 24)),\n",
        " (3.1176406204779346, datetime.date(2020, 5, 25)),\n",
        " (2.6610622450079715, datetime.date(2020, 5, 26)),\n",
        " (2.2565445560473574, datetime.date(2020, 5, 27)),\n",
        " (2.2480410974263254, datetime.date(2020, 5, 28)),\n",
        " (2.1290451490594084, datetime.date(2020, 5, 29)),\n",
        " (2.10373627776952, datetime.date(2020, 5, 30)),\n",
        " (1.84020545154637, datetime.date(2020, 5, 31))]\n",
        "\n",
        "R_7_31_y, R_7_31_x = [lis[0] for lis in R_7_31], [lis[1].strftime('%d/%m') for lis in R_7_31]\n",
        "\n",
        "R_2_4_31 = [(0.5781973392314133, datetime.date(2020, 5, 2)),\n",
        " (1.3184590290396834, datetime.date(2020, 5, 3)),\n",
        " (1.3512680351076947, datetime.date(2020, 5, 4)),\n",
        " (1.344500398714285, datetime.date(2020, 5, 5)),\n",
        " (1.7062116375196226, datetime.date(2020, 5, 6)),\n",
        " (1.6852474600242138, datetime.date(2020, 5, 7)),\n",
        " (1.7069016867267914, datetime.date(2020, 5, 8)),\n",
        " (2.184284745638741, datetime.date(2020, 5, 9)),\n",
        " (2.0519422972465433, datetime.date(2020, 5, 10)),\n",
        " (1.9472619231628072, datetime.date(2020, 5, 11)),\n",
        " (1.7161797156095633, datetime.date(2020, 5, 12)),\n",
        " (2.0604533787741683, datetime.date(2020, 5, 13)),\n",
        " (2.2183050630370245, datetime.date(2020, 5, 14)),\n",
        " (2.257005270959137, datetime.date(2020, 5, 15)),\n",
        " (3.4374353406476006, datetime.date(2020, 5, 16)),\n",
        " (3.81675228868498, datetime.date(2020, 5, 17)),\n",
        " (4.074149824078764, datetime.date(2020, 5, 18)),\n",
        " (3.657175383889672, datetime.date(2020, 5, 19)),\n",
        " (4.11796997695598, datetime.date(2020, 5, 20)),\n",
        " (3.977195312211916, datetime.date(2020, 5, 21)),\n",
        " (3.7669496445559503, datetime.date(2020, 5, 22)),\n",
        " (3.586784224574516, datetime.date(2020, 5, 23)),\n",
        " (3.0927317700251917, datetime.date(2020, 5, 24)),\n",
        " (2.421778657174041, datetime.date(2020, 5, 25)),\n",
        " (2.2455364451162585, datetime.date(2020, 5, 26)),\n",
        " (2.146484864394198, datetime.date(2020, 5, 27)),\n",
        " (2.0525876628550908, datetime.date(2020, 5, 28)),\n",
        " (1.9384632694480761, datetime.date(2020, 5, 29)),\n",
        " (1.856738763910415, datetime.date(2020, 5, 30)),\n",
        " (1.6063228647801786, datetime.date(2020, 5, 31))]\n",
        "\n",
        "R_2_4_31_y, R_2_4_31_x = [lis[0] for lis in R_2_4_31], [lis[1].strftime('%d/%m') for lis in R_2_4_31]\n",
        "\n",
        "R_2_4_2_6 = [(0.5781973392314133, datetime.date(2020, 5, 2)),\n",
        " (1.3184590290396834, datetime.date(2020, 5, 3)),\n",
        " (1.3512680351076947, datetime.date(2020, 5, 4)),\n",
        " (1.344500398714285, datetime.date(2020, 5, 5)),\n",
        " (1.7062116375196226, datetime.date(2020, 5, 6)),\n",
        " (1.6852474600242136, datetime.date(2020, 5, 7)),\n",
        " (1.7069016867267914, datetime.date(2020, 5, 8)),\n",
        " (2.184284745638741, datetime.date(2020, 5, 9)),\n",
        " (2.0519422972465433, datetime.date(2020, 5, 10)),\n",
        " (1.947261923162807, datetime.date(2020, 5, 11)),\n",
        " (1.7161797156095633, datetime.date(2020, 5, 12)),\n",
        " (2.0604533787741683, datetime.date(2020, 5, 13)),\n",
        " (2.2183050630370245, datetime.date(2020, 5, 14)),\n",
        " (2.257005270959137, datetime.date(2020, 5, 15)),\n",
        " (3.4374353406476006, datetime.date(2020, 5, 16)),\n",
        " (3.81675228868498, datetime.date(2020, 5, 17)),\n",
        " (4.074149824078764, datetime.date(2020, 5, 18)),\n",
        " (3.657175383889672, datetime.date(2020, 5, 19)),\n",
        " (4.1179699769559805, datetime.date(2020, 5, 20)),\n",
        " (3.977195312211916, datetime.date(2020, 5, 21)),\n",
        " (3.7669496445559503, datetime.date(2020, 5, 22)),\n",
        " (3.586784224574516, datetime.date(2020, 5, 23)),\n",
        " (3.0927317700251917, datetime.date(2020, 5, 24)),\n",
        " (2.4217786571740416, datetime.date(2020, 5, 25)),\n",
        " (2.2455364451162585, datetime.date(2020, 5, 26)),\n",
        " (2.146484864394198, datetime.date(2020, 5, 27)),\n",
        " (2.0525876628550908, datetime.date(2020, 5, 28)),\n",
        " (1.9384632694480761, datetime.date(2020, 5, 29)),\n",
        " (1.856738763910415, datetime.date(2020, 5, 30)),\n",
        " (1.6063228647801786, datetime.date(2020, 5, 31)),\n",
        " (1.4211868982553981, datetime.date(2020, 6, 1)),\n",
        " (1.3082125033617817, datetime.date(2020, 6, 2))]\n",
        "\n",
        "R_2_4_2_6_y, R_2_4_2_6_x = [lis[0] for lis in R_2_4_2_6], [lis[1].strftime('%d/%m') for lis in R_2_4_2_6]\n"
      ],
      "execution_count": 0,
      "outputs": []
    },
    {
      "cell_type": "code",
      "metadata": {
        "id": "D9GZEU7Nh4NZ",
        "colab_type": "code",
        "outputId": "d4337c00-31f9-48d1-f786-904937e836ed",
        "colab": {
          "base_uri": "https://localhost:8080/",
          "height": 749
        }
      },
      "source": [
        "plt.figure(figsize=(12, 12))\n",
        "\n",
        "\n",
        "# this is the order to follow for plotting\n",
        "plt.plot(R_2_4_2_6_x, R_2_4_2_6_y, marker = \"^\", ls = 'None', color = 'olive', label='Tombana R_2_4_2_6')\n",
        "plt.plot(R_2_31_x, R_2_31_y, marker = \"o\", ls = 'None', color = 'green', label='Tombana R_2_31')\n",
        "plt.plot(R_2_4_31_x, R_2_4_31_y, marker = 8, ls = 'None', color = 'brown', label='Tombana R_2_4_31')\n",
        "plt.plot(R_7_31_x, R_7_31_y, marker =9,ls = 'None', color='blue',label='Tombana R_7_31')\n",
        "#plt.plot(R_10_31_x, R_10_31_y, marker =9,ls = 'None', color='blue',label='Tombana R_10_31')\n",
        "#plt.plot(R_10_25_x, R_10_25_y, marker =8,ls = 'None', color='red',label='Tombana R_10_25')\n",
        "plt.plot(R_2_19_x, R_2_19_y, marker = \"+\", ls = 'None', color='orange', label='Tombana R_2_19')\n",
        "\n",
        "plt.xlabel('Andro')\n",
        "plt.ylabel(\"R\")\n",
        "plt.legend(loc= 'best')\n",
        "\n",
        "plt.savefig(path_to_save+'mampitahaR.eps')"
      ],
      "execution_count": 0,
      "outputs": [
        {
          "output_type": "stream",
          "text": [
            "The PostScript backend does not support transparency; partially transparent artists will be rendered opaque.\n",
            "The PostScript backend does not support transparency; partially transparent artists will be rendered opaque.\n"
          ],
          "name": "stderr"
        },
        {
          "output_type": "display_data",
          "data": {
            "image/png": "[encoded data removed]",
            "text/plain": [
              "<Figure size 864x864 with 1 Axes>"
            ]
          },
          "metadata": {
            "tags": [],
            "needs_background": "light"
          }
        }
      ]
    }
  ]
}