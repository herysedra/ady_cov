{
  "nbformat": 4,
  "nbformat_minor": 0,
  "metadata": {
    "colab": {
      "name": "R_tabilao.ipynb",
      "provenance": [],
      "collapsed_sections": [],
      "authorship_tag": "ABX9TyPk1aDAc0AtXowHbd8I4xIx",
      "include_colab_link": true
    },
    "kernelspec": {
      "name": "python3",
      "display_name": "Python 3"
    }
  },
  "cells": [
    {
      "cell_type": "markdown",
      "metadata": {
        "id": "view-in-github",
        "colab_type": "text"
      },
      "source": [
        "<a href=\"https://colab.research.google.com/github/herysedra/ady_cov/blob/master/scr/modely_RP/R_tabilao.ipynb\" target=\"_parent\"><img src=\"https://colab.research.google.com/assets/colab-badge.svg\" alt=\"Open In Colab\"/></a>"
      ]
    },
    {
      "cell_type": "code",
      "metadata": {
        "id": "mTm94BlPJ3Ht",
        "colab_type": "code",
        "outputId": "ffdb338d-5423-496e-86bf-b9995b4a76ae",
        "colab": {
          "base_uri": "https://localhost:8080/",
          "height": 34
        }
      },
      "source": [
        "from google.colab import drive\n",
        "drive.mount('/content/drive')"
      ],
      "execution_count": 82,
      "outputs": [
        {
          "output_type": "stream",
          "text": [
            "Drive already mounted at /content/drive; to attempt to forcibly remount, call drive.mount(\"/content/drive\", force_remount=True).\n"
          ],
          "name": "stdout"
        }
      ]
    },
    {
      "cell_type": "code",
      "metadata": {
        "id": "nw40APzqKCGS",
        "colab_type": "code",
        "colab": {}
      },
      "source": [
        "import pandas as pd\n",
        "import numpy as np\n",
        "import matplotlib.pyplot as plt\n",
        "import scipy.stats\n",
        "import matplotlib\n",
        "import pickle\n",
        "\n",
        "import datetime\n",
        "import time\n",
        "from datetime import date\n",
        "\n",
        "import matplotlib.dates as mdates\n",
        "from matplotlib.dates import DateFormatter\n",
        "import seaborn as sns\n",
        "\n",
        "from numpy import log,exp\n",
        "from numpy.random import multinomial\n",
        "from scipy.stats import uniform, gamma, gengamma, poisson, nbinom, expon\n",
        "from scipy.integrate import quad\n",
        "\n",
        "tilyvoa = pd.read_csv(\"/content/drive/My Drive/data/tilyvoa.csv\")\n",
        "\n",
        "mdg_databe = pd.read_csv(\"/content/drive/My Drive/data/databe mdg.csv\")\n",
        "\n",
        "#tilyvoa.set_index('Daty', inplace=True)\n",
        "\n",
        "tilyvoafar = tilyvoa.groupby('Faritra')\n",
        "tilyvoamdg = tilyvoafar.get_group('Madagasikara')\n",
        "tilyvoamdg.set_index('Daty', inplace=True)\n",
        "\n",
        "tilyvoamdg.index = pd.to_datetime(tilyvoamdg.index)\n",
        "\n",
        "tilyvoatana = tilyvoafar.get_group('Antananarivo')\n",
        "tilyvoatana.set_index('Daty', inplace=True)\n",
        "\n",
        "tilyvoatana.index = pd.to_datetime(tilyvoatana.index)\n",
        "\n",
        "tilyvoatoa = tilyvoafar.get_group('Toamasina')\n",
        "tilyvoatoa.set_index('Daty', inplace=True)\n",
        "\n",
        "tilyvoatoa.index = pd.to_datetime(tilyvoatoa.index)\n",
        "\n",
        "\n",
        "path_to_save = '/content/drive/My Drive/sary/'\n",
        "path_data = '/content/drive/My Drive/data/'"
      ],
      "execution_count": 0,
      "outputs": []
    },
    {
      "cell_type": "code",
      "metadata": {
        "id": "7qbUH3RDKLZQ",
        "colab_type": "code",
        "colab": {}
      },
      "source": [
        "# Voa vaovao (observed incidence)\n",
        "Ivao = tilyvoamdg['Voatomb']\n",
        "\n",
        "dIvao = pd.DataFrame(data =Ivao)\n",
        "\n",
        "dIvao['Datint'] = range(len(Ivao))\n",
        "\n",
        "\n",
        "# Hoan'ny taha sorisoritry ny fifindrana (infectioness profile distribution)\n",
        "\n",
        "daty_data_manom = datetime.date(2020,4,1)\n",
        "daty_data_mifar = datetime.date(2020,6,3)\n",
        "\n",
        "datyt = daty_data_mifar - datetime.timedelta(days = 1)\n",
        "\n",
        "format_date = lambda date_py: '{}-{}-{}'.format(date_py.year, date_py.month, date_py.day)\n",
        "datyf_data_manom = format_date(daty_data_manom)\n",
        "datyf_data_mifar = format_date(daty_data_mifar)\n",
        "\n",
        "# Discretization of the serial interval distribution\n",
        "\n",
        "#Tombana mialoha (prior distributions)\n",
        "si_sh = 1/(0.62**2) # Report 13\n",
        "si_sc = 6.5/si_sh\n",
        "\n",
        "def discr_si(t):\n",
        "  if t == 0:\n",
        "    discrsi = 0\n",
        "  elif t == 1:\n",
        "    discrsi = gengamma.cdf(3/2, si_sh, 1, loc = 0, scale = si_sc)\n",
        "  else:\n",
        "    discrsi = gengamma.cdf(t+1/2, si_sh, 1, loc = 0, scale = si_sc) - gengamma.cdf(t-1/2, si_sh, 1, loc = 0, scale = si_sc)\n",
        "  return discrsi\n",
        "\n",
        "#discr_si1 = gengamma.cdf(3/2, si_sh, 1, loc = 0, scale = si_sc)\n",
        "\n",
        "# 1 The total incidence over a generic window (t-k+1,t)\n",
        "# Ireh(t,k) = sum(i = 0 to k-1) Ivao(t - i))\n",
        "\n",
        "def Ireh(t,k):\n",
        "  Irehv = 0\n",
        "  for i in range(k):\n",
        "    Irehv = Irehv + dIvao['Voatomb'].loc[format_date(t - datetime.timedelta(days = i))]\n",
        "  return Irehv\n",
        "\n",
        "# 2 Tool to compute the total infectiousness over a generic window (t-k+1,t)\n",
        "# Isi(t,k) = sum(i=0 to k-1) Ivao(t - i)*discr_si(i)\n",
        "\n",
        "# The definition of Isi(t,k) does not include the term Ivao(t) for i = 0 (because discr_si(0) =0) \n",
        "# but include the last term Ivao(t - k + 1)*discr_si(k - 1) for i = k-1. \n",
        "\n",
        "def Isi(t,k):\n",
        "  Ivaosi = 0\n",
        "  for i in range(k):\n",
        "    Ivaosi = Ivaosi + dIvao['Voatomb'].loc[format_date(t - datetime.timedelta(days = i))]*discr_si(i)\n",
        "  return Ivaosi\n",
        "\n",
        "# The total infectiousness before t\n",
        "\n",
        "# lsi(t) := um(i=0 to t-1) Ivao(t - i)*discr_si(i)\n",
        "\n",
        "def lsi(t):\n",
        "  return Isi(t, (t - daty_data_manom).days +1)\n",
        "\n",
        "  # for checking, take for example t = daty_data_manom + datetime.timedelta(days = 3)\n",
        "\n",
        "# 3 The sum of total infectiousness before t over a generic window (t-k+1,t)\n",
        "\n",
        "def tlsi(t,k):\n",
        "  tlsi = 0\n",
        "  for i in range(k):\n",
        "    tlsi = tlsi + lsi(t - datetime.timedelta(days = k))\n",
        "  return tlsi\n",
        "\n",
        "# 4 The shape parameters of the posterior predictive negative binomial of I(t+1)\n",
        "\n",
        "# pnb(t,k) = Isi(t+1, t - daty_data_manom + 2)*(1/si_sc + Isi(t,k))/(1 + si(t+1, t - daty_data_manom + 2)*(1/si_sc + Isi(t,k)))\n",
        "\n",
        "def pnb(t,k):\n",
        "  return lsi(t+datetime.timedelta(days = 1))*(1/si_sc + tlsi(t,k))/(1 + lsi(t+datetime.timedelta(days = 1))*(1/si_sc + tlsi(t,k)))\n",
        "\n",
        "# pnb(t,k) dia ny taha herjika hoan'ny NB hoan'ny I(t+1).\n",
        "\n",
        "# 5 Use the pmf of the posterior predictive negative binomial to compute\n",
        "# each additive contribution at time s then for-loop for s in the time interval\n",
        "\n",
        "def lpr(t,k):\n",
        "  return -np.log(nbinom.pmf(dIvao['Voatomb'].loc[format_date(t + datetime.timedelta(days = 1))], si_sh + Ireh(t,k), pnb(t,k)))\n"
      ],
      "execution_count": 0,
      "outputs": []
    },
    {
      "cell_type": "code",
      "metadata": {
        "id": "v5Q0nJQpKheR",
        "colab_type": "code",
        "outputId": "70847a4b-19f0-4902-8411-118aa76b01b4",
        "colab": {
          "base_uri": "https://localhost:8080/",
          "height": 141
        }
      },
      "source": [
        "# APE9_part1 \n",
        "\n",
        "# for i in range(8):\n",
        "# t = t_mif - i - 1\n",
        "# k = 9\n",
        "\n",
        "APEt91 = []\n",
        "Prt91 = []\n",
        "\n",
        "APE91 = 0\n",
        "\n",
        "for i in range(round(((daty_data_mifar - daty_data_manom).days + 1)/2) - 1):\n",
        "  t = daty_data_mifar - datetime.timedelta(days = i+1) \n",
        "  k = round(((daty_data_mifar - daty_data_manom).days + 1)/2)\n",
        "  APE91 = APE91 + lpr(t,k)\n",
        "  APEt91.append((lpr(t,k),t))\n",
        "  Prt91.append(expon.pdf(lpr(t,k)))\n",
        "\n",
        "print('For k = 9, APE91 =', APE91)\n",
        "print('APEt91 =', APEt91)\n",
        "print('Prt91 =', Prt91)\n",
        "\n",
        "# APE9_part2 \n",
        "\n",
        "# for i in range(9):\n",
        "# t = t_mif - 1 - 9 + 1 - i\n",
        "# k = t_mif - t - 2*i\n",
        "APEt92 = []\n",
        "Prt92 = []\n",
        "\n",
        "APE92 = 0\n",
        "for i in range(round(((daty_data_mifar - daty_data_manom).days + 1)/2)-1):\n",
        "  t = daty_data_mifar - datetime.timedelta(days = 1) - datetime.timedelta(days = ((daty_data_mifar - daty_data_manom).days + 1)/2) + datetime.timedelta(days = 1) - datetime.timedelta(days = i)\n",
        "  k = (daty_data_mifar - t - datetime.timedelta(days = 2*i)).days\n",
        "  APE92 = APE92 + lpr(t,k) \n",
        "  APEt92.append((lpr(t,k) ,t,k))\n",
        "  Prt92.append(expon.pdf(lpr(t,k)))\n",
        "\n",
        "print('For k = 9, APE92 =', APE92)\n",
        "print('APEt92=', APEt92)\n",
        "print('Prt92=', Prt92)\n",
        "\n",
        "# For t_man such that Ivao(t_man) = Ivao(t_man + 1) = 0, lsi(t_man + 1) = tlsi(t_man + 1, 2) = Ireh(t_man + 1, 2) = 0\n",
        "# so that pnb(t_man + 1, 2) = 0 and "
      ],
      "execution_count": 91,
      "outputs": [
        {
          "output_type": "stream",
          "text": [
            "For k = 9, APE91 = 2998.3585247344436\n",
            "APEt91 = [(223.59127784593224, datetime.date(2020, 6, 2)), (49.356191956722114, datetime.date(2020, 6, 1)), (115.63666218876472, datetime.date(2020, 5, 31)), (98.66702246948938, datetime.date(2020, 5, 30)), (217.15841005391175, datetime.date(2020, 5, 29)), (143.41857287551392, datetime.date(2020, 5, 28)), (160.41706549800077, datetime.date(2020, 5, 27)), (88.2430276722167, datetime.date(2020, 5, 26)), (181.3855281262155, datetime.date(2020, 5, 25)), (50.36010701770405, datetime.date(2020, 5, 24)), (169.63356798020976, datetime.date(2020, 5, 23)), (179.50542552643867, datetime.date(2020, 5, 22)), (199.52284212950082, datetime.date(2020, 5, 21)), (152.4888454808861, datetime.date(2020, 5, 20)), (217.1482541013233, datetime.date(2020, 5, 19)), (11.415894023519723, datetime.date(2020, 5, 18)), (72.4526038662288, datetime.date(2020, 5, 17)), (86.80505516216361, datetime.date(2020, 5, 16)), (217.84501268098165, datetime.date(2020, 5, 15)), (26.979039373540335, datetime.date(2020, 5, 14)), (70.68267735838116, datetime.date(2020, 5, 13)), (78.21989241937814, datetime.date(2020, 5, 12)), (16.696218983703634, datetime.date(2020, 5, 11)), (50.19220882696275, datetime.date(2020, 5, 10)), (3.5269706673536314, datetime.date(2020, 5, 9)), (28.23210338022828, datetime.date(2020, 5, 8)), (0.5115442205842774, datetime.date(2020, 5, 7)), (0.7838372071247348, datetime.date(2020, 5, 6)), (6.513186429243181, datetime.date(2020, 5, 5)), (3.780371307322879, datetime.date(2020, 5, 4)), (77.1891079048984, datetime.date(2020, 5, 3))]\n",
            "Prt91 = [7.862159132300132e-98, 3.6717929652158513e-22, 6.020543598099136e-51, 1.4107712339046731e-43, 4.889909423543975e-95, 5.177322253384086e-63, 2.1466124857720133e-70, 4.748320395421456e-39, 1.6798327255183954e-79, 1.3454991079070592e-22, 2.1334254945818047e-74, 1.1009921491893313e-78, 2.230132411316318e-87, 5.955741723023958e-67, 4.939824148571432e-95, 1.1018950182540478e-05, 3.421637061774706e-32, 2.0000623830732497e-38, 2.4610083232237862e-95, 1.9193407014116025e-12, 2.008645319462706e-31, 1.0703661031390528e-34, 5.609500960603673e-08, 1.5914781188815017e-22, 0.02939382480475762, 5.482179981475258e-13, 0.5995689967863438, 0.45665038300151817, 0.0014837443362361786, 0.022814218765716612, 3.0005189495727115e-34]\n",
            "For k = 9, APE92 = 1379.9214661307105\n",
            "APEt92= [(61.852815453019915, datetime.date(2020, 5, 2), 32), (89.76446337943293, datetime.date(2020, 5, 1), 31), (86.5451851529653, datetime.date(2020, 4, 30), 30), (94.65162355806999, datetime.date(2020, 4, 29), 29), (93.10018001274082, datetime.date(2020, 4, 28), 28), (94.60189813177591, datetime.date(2020, 4, 27), 27), (83.84573351205322, datetime.date(2020, 4, 26), 26), (84.29259448079361, datetime.date(2020, 4, 25), 25), (76.19089462680817, datetime.date(2020, 4, 24), 24), (66.5296076049059, datetime.date(2020, 4, 23), 23), (61.34212016778536, datetime.date(2020, 4, 22), 22), (53.962219276684294, datetime.date(2020, 4, 21), 21), (48.161966892649176, datetime.date(2020, 4, 20), 20), (43.94632257150125, datetime.date(2020, 4, 19), 19), (41.299922268501795, datetime.date(2020, 4, 18), 18), (36.16436813161987, datetime.date(2020, 4, 17), 17), (31.95783867228918, datetime.date(2020, 4, 16), 16), (20.86293021835679, datetime.date(2020, 4, 15), 15), (25.24438745027188, datetime.date(2020, 4, 14), 14), (22.576601511309757, datetime.date(2020, 4, 13), 13), (20.3787438793638, datetime.date(2020, 4, 12), 12), (21.580763028178694, datetime.date(2020, 4, 11), 11), (21.342071316864732, datetime.date(2020, 4, 10), 10), (7.749589542325939, datetime.date(2020, 4, 9), 9), (18.177374894277875, datetime.date(2020, 4, 8), 8), (16.94927579262999, datetime.date(2020, 4, 7), 7), (10.006859899246468, datetime.date(2020, 4, 6), 6), (8.138717437248669, datetime.date(2020, 4, 5), 5), (8.604407686649694, datetime.date(2020, 4, 4), 4), (17.321743070956654, datetime.date(2020, 4, 3), 3), (12.778246509432757, datetime.date(2020, 4, 2), 2)]\n",
            "Prt92= [1.3729779374862362e-27, 1.0370241811386303e-39, 2.5936039132503864e-38, 7.822078778469891e-42, 3.690672903189431e-41, 8.220867789329897e-42, 3.857097388552484e-37, 2.4671261222804798e-37, 8.141696186194216e-34, 1.2780814571604936e-29, 2.2879983286997145e-27, 3.668647095128209e-24, 1.2120583865716418e-21, 8.210216458808293e-20, 1.1579016045667528e-18, 1.967951898052516e-16, 1.3209519218742124e-14, 8.696500571513084e-10, 1.0876817241231879e-11, 1.5671354812438788e-10, 1.4113150899046098e-09, 4.242225025485207e-10, 5.385874069716718e-10, 0.0004309193784467592, 1.2754586630857041e-08, 4.355349899188435e-08, 4.508955659996238e-05, 0.00029201148121232867, 0.00018329609877026936, 3.000976311812474e-08, 2.8214869932097132e-06]\n"
          ],
          "name": "stdout"
        }
      ]
    },
    {
      "cell_type": "code",
      "metadata": {
        "id": "u0DV0KxJK99i",
        "colab_type": "code",
        "outputId": "fa241c24-5ca9-4cf2-83ca-6408bb8187c1",
        "colab": {
          "base_uri": "https://localhost:8080/",
          "height": 72
        }
      },
      "source": [
        "# APEk part 1 for k =/= 9\n",
        "\n",
        "# for i in range(t_mif - t_man -j)\n",
        "\n",
        "APEk1 = []\n",
        "for j in range(2,9):\n",
        "  APEj1 = 0\n",
        "  for i in range(round(((daty_data_mifar - daty_data_manom).days) - j)):\n",
        "    t = daty_data_mifar - datetime.timedelta(days = i+1) \n",
        "    k = j\n",
        "    APEj1 = APEj1 + lpr(t,k)\n",
        "  APEk1.append(APEj1)\n",
        "\n",
        "print('APEk1 =', APEk1)\n",
        "\n",
        "# APEk part 2 for k =/= 9\n",
        "\n",
        "Prk2 = []\n",
        "\n",
        "APEk2 = []\n",
        "\n",
        "for j in range(2,9):\n",
        "  APEj2 = 0\n",
        "  for i in range(j-1):\n",
        "    t = daty_data_manom + datetime.timedelta(days = j - i - 1)\n",
        "    k = j - i\n",
        "    APEj2 = APEj2 + lpr(t,k)\n",
        "  APEk2.append(APEj2)\n",
        "\n",
        "print('APEk2 =', APEk2)"
      ],
      "execution_count": 92,
      "outputs": [
        {
          "output_type": "stream",
          "text": [
            "APEk1 = [3748.5734468526803, 3735.5449681368223, 3691.525699980399, 3654.7945759538584, 3597.5168294725604, 3533.6577350509287, 3460.3039957153615]\n",
            "APEk2 = [12.778246509432757, 30.099989580389412, 38.704397267039106, 46.84311470428777, 56.84997460353424, 73.79925039616424, 91.97662529044212]\n"
          ],
          "name": "stdout"
        }
      ]
    },
    {
      "cell_type": "code",
      "metadata": {
        "id": "3yw05_HnLrPp",
        "colab_type": "code",
        "outputId": "d1b801a1-5b4a-490a-f233-d8d07d213804",
        "colab": {
          "base_uri": "https://localhost:8080/",
          "height": 72
        }
      },
      "source": [
        "# APEk for k = 2,...,8\n",
        "\n",
        "APEk = [x + y for x, y in zip(APEk1, APEk2)]\n",
        "\n",
        "# APE9\n",
        "APE9 = APE91 + APE92\n",
        "\n",
        "print('APE9 =', APE9)\n",
        "print('APEk =', APEk)"
      ],
      "execution_count": 93,
      "outputs": [
        {
          "output_type": "stream",
          "text": [
            "APE9 = 4378.279990865154\n",
            "APEk = [3761.351693362113, 3765.6449577172116, 3730.230097247438, 3701.6376906581463, 3654.3668040760945, 3607.456985447093, 3552.2806210058034]\n"
          ],
          "name": "stdout"
        }
      ]
    },
    {
      "cell_type": "code",
      "metadata": {
        "id": "WDx0ksJcL1E2",
        "colab_type": "code",
        "outputId": "6721ce78-6177-47cd-f5dc-d05d180714ae",
        "colab": {
          "base_uri": "https://localhost:8080/",
          "height": 34
        }
      },
      "source": [
        "# Prior Gamma distribution of Rt\n",
        "\n",
        "Rtpr_sh = 0.1 # shape\n",
        "Rtpr_sc =  0.1 # scale\n",
        "\n",
        "# Posterior distribution for Rt\n",
        "\n",
        "# Shape parameter :\n",
        "def Rtps_sh(t):\n",
        "   return Rtpr_sh + Ireh(t,8)\n",
        "\n",
        "# Scale\n",
        "def Rtps_sc(t):\n",
        "  return 1/(1/Rtpr_sc + tlsi(t,8))\n",
        "\n",
        "# mean\n",
        "def Rtps_salan(t):\n",
        "  return Rtps_sh(t)*Rtps_sc(t)\n",
        "\n",
        "print(\"Salan'isa R hoan'ny\", datyt, ':', Rtps_salan(datyt))"
      ],
      "execution_count": 94,
      "outputs": [
        {
          "output_type": "stream",
          "text": [
            "Salan'isa R hoan'ny 2020-06-02 : 1.3082125033617817\n"
          ],
          "name": "stdout"
        }
      ]
    },
    {
      "cell_type": "code",
      "metadata": {
        "id": "rE7lRPrpM3hU",
        "colab_type": "code",
        "colab": {}
      },
      "source": [
        "# The 95th and 5th percentiles of Rt\n",
        "\n",
        "def perc95(t):\n",
        "  return gengamma.ppf(0.95, Rtps_sh(t), 1, loc = 0, scale = Rtps_sc(t))\n",
        "\n",
        "def perc05(t):\n",
        "  return gengamma.ppf(0.05, Rtps_sh(t), 1, loc = 0, scale = Rtps_sc(t))\n",
        "\n"
      ],
      "execution_count": 0,
      "outputs": []
    },
    {
      "cell_type": "code",
      "metadata": {
        "id": "J_EUilHGMBT5",
        "colab_type": "code",
        "outputId": "685f72df-4274-4a64-9d8a-8a1ce03685e9",
        "colab": {
          "base_uri": "https://localhost:8080/",
          "height": 1000
        }
      },
      "source": [
        "# Plotting\n",
        "\n",
        "formatf_date = lambda date_py: '{}/{}'.format(date_py.day, date_py.month)\n",
        "\n",
        "daty_lst = []\n",
        "\n",
        "salan_Rt = []\n",
        "perc95_lst = []\n",
        "perc05_lst = []\n",
        "\n",
        "salan_Rt_dat = []\n",
        "salan_Rt_perc_dat = []\n",
        "\n",
        "for i in range(round(((daty_data_mifar - daty_data_manom).days) - 1)):\n",
        "  t = daty_data_manom + datetime.timedelta(days = i+1)\n",
        "  daty = formatf_date(t)\n",
        "  daty_lst.append(daty)\n",
        "  salan_Rt.append(Rtps_salan(t))\n",
        "  perc95_lst.append(perc95(t))\n",
        "  perc05_lst.append(perc05(t))\n",
        "  salan_Rt_dat.append((Rtps_salan(t),t))\n",
        "  salan_Rt_perc_dat.append((perc95(t),Rtps_salan(t),perc05(t),t))\n",
        "\n",
        "salan_Rt_dat"
      ],
      "execution_count": 101,
      "outputs": [
        {
          "output_type": "execute_result",
          "data": {
            "text/plain": [
              "[(4.11, datetime.date(2020, 4, 2)),\n",
              " (4.41, datetime.date(2020, 4, 3)),\n",
              " (2.91, datetime.date(2020, 4, 4)),\n",
              " (2.6100000000000003, datetime.date(2020, 4, 5)),\n",
              " (3.2100000000000004, datetime.date(2020, 4, 6)),\n",
              " (3.7100000000000004, datetime.date(2020, 4, 7)),\n",
              " (3.8100000000000005, datetime.date(2020, 4, 8)),\n",
              " (3.6100000000000003, datetime.date(2020, 4, 9)),\n",
              " (3.517187607461698, datetime.date(2020, 4, 10)),\n",
              " (2.4505657913403365, datetime.date(2020, 4, 11)),\n",
              " (1.8740037079655145, datetime.date(2020, 4, 12)),\n",
              " (1.40736200872761, datetime.date(2020, 4, 13)),\n",
              " (0.9694790366700133, datetime.date(2020, 4, 14)),\n",
              " (0.6526879545710255, datetime.date(2020, 4, 15)),\n",
              " (0.6665806080619446, datetime.date(2020, 4, 16)),\n",
              " (0.6345177513997077, datetime.date(2020, 4, 17)),\n",
              " (0.4223769211919991, datetime.date(2020, 4, 18)),\n",
              " (0.37951187039147793, datetime.date(2020, 4, 19)),\n",
              " (0.35276905602416364, datetime.date(2020, 4, 20)),\n",
              " (0.31429410701580324, datetime.date(2020, 4, 21)),\n",
              " (0.2794038495401873, datetime.date(2020, 4, 22)),\n",
              " (0.24257525163031923, datetime.date(2020, 4, 23)),\n",
              " (0.11588173517586753, datetime.date(2020, 4, 24)),\n",
              " (0.08865912120672015, datetime.date(2020, 4, 25)),\n",
              " (0.08948772574269571, datetime.date(2020, 4, 26)),\n",
              " (0.18081849133025202, datetime.date(2020, 4, 27)),\n",
              " (0.19164824355090432, datetime.date(2020, 4, 28)),\n",
              " (0.20862373316559682, datetime.date(2020, 4, 29)),\n",
              " (0.2313899744720107, datetime.date(2020, 4, 30)),\n",
              " (0.4293266873116341, datetime.date(2020, 5, 1)),\n",
              " (0.5781973392314133, datetime.date(2020, 5, 2)),\n",
              " (1.3184590290396834, datetime.date(2020, 5, 3)),\n",
              " (1.3512680351076947, datetime.date(2020, 5, 4)),\n",
              " (1.344500398714285, datetime.date(2020, 5, 5)),\n",
              " (1.7062116375196226, datetime.date(2020, 5, 6)),\n",
              " (1.6852474600242136, datetime.date(2020, 5, 7)),\n",
              " (1.7069016867267914, datetime.date(2020, 5, 8)),\n",
              " (2.184284745638741, datetime.date(2020, 5, 9)),\n",
              " (2.0519422972465433, datetime.date(2020, 5, 10)),\n",
              " (1.947261923162807, datetime.date(2020, 5, 11)),\n",
              " (1.7161797156095633, datetime.date(2020, 5, 12)),\n",
              " (2.0604533787741683, datetime.date(2020, 5, 13)),\n",
              " (2.2183050630370245, datetime.date(2020, 5, 14)),\n",
              " (2.257005270959137, datetime.date(2020, 5, 15)),\n",
              " (3.4374353406476006, datetime.date(2020, 5, 16)),\n",
              " (3.81675228868498, datetime.date(2020, 5, 17)),\n",
              " (4.074149824078764, datetime.date(2020, 5, 18)),\n",
              " (3.657175383889672, datetime.date(2020, 5, 19)),\n",
              " (4.1179699769559805, datetime.date(2020, 5, 20)),\n",
              " (3.977195312211916, datetime.date(2020, 5, 21)),\n",
              " (3.7669496445559503, datetime.date(2020, 5, 22)),\n",
              " (3.586784224574516, datetime.date(2020, 5, 23)),\n",
              " (3.0927317700251917, datetime.date(2020, 5, 24)),\n",
              " (2.4217786571740416, datetime.date(2020, 5, 25)),\n",
              " (2.2455364451162585, datetime.date(2020, 5, 26)),\n",
              " (2.146484864394198, datetime.date(2020, 5, 27)),\n",
              " (2.0525876628550908, datetime.date(2020, 5, 28)),\n",
              " (1.9384632694480761, datetime.date(2020, 5, 29)),\n",
              " (1.856738763910415, datetime.date(2020, 5, 30)),\n",
              " (1.6063228647801786, datetime.date(2020, 5, 31)),\n",
              " (1.4211868982553981, datetime.date(2020, 6, 1)),\n",
              " (1.3082125033617817, datetime.date(2020, 6, 2))]"
            ]
          },
          "metadata": {
            "tags": []
          },
          "execution_count": 101
        }
      ]
    },
    {
      "cell_type": "code",
      "metadata": {
        "id": "h7f8wzauMFlP",
        "colab_type": "code",
        "outputId": "a66b3443-b4a1-4f48-c7c0-ed579b4d00eb",
        "colab": {
          "base_uri": "https://localhost:8080/",
          "height": 752
        }
      },
      "source": [
        "# Plotting\n",
        "\n",
        "fig = plt.figure(figsize=(12, 12))\n",
        "\n",
        "plt.plot(daty_lst, salan_Rt, 'b',  marker =\"+\",ls = 'None')\n",
        "plt.fill_between(daty_lst, perc05_lst, perc95_lst, alpha=0.08, color=\"tab:red\")\n",
        "\n",
        "\n",
        "plt.savefig(path_to_save+'R_2_4_2_6.eps')\n",
        "plt.show()"
      ],
      "execution_count": 97,
      "outputs": [
        {
          "output_type": "stream",
          "text": [
            "The PostScript backend does not support transparency; partially transparent artists will be rendered opaque.\n",
            "The PostScript backend does not support transparency; partially transparent artists will be rendered opaque.\n",
            "The PostScript backend does not support transparency; partially transparent artists will be rendered opaque.\n"
          ],
          "name": "stderr"
        },
        {
          "output_type": "display_data",
          "data": {
            "image/png": "[encoded data removed]",
            "text/plain": [
              "<Figure size 864x864 with 1 Axes>"
            ]
          },
          "metadata": {
            "tags": [],
            "needs_background": "light"
          }
        }
      ]
    },
    {
      "cell_type": "code",
      "metadata": {
        "id": "JVCzXcCycStq",
        "colab_type": "code",
        "colab": {}
      },
      "source": [
        "# From 01/05 to 01/06 data:\n",
        "\n",
        "R_2_31 = [(1.31, datetime.date(2020, 5, 2)),\n",
        " (2.6100000000000003, datetime.date(2020, 5, 3)),\n",
        " (2.5100000000000002, datetime.date(2020, 5, 4)),\n",
        " (2.6100000000000003, datetime.date(2020, 5, 5)),\n",
        " (3.0100000000000002, datetime.date(2020, 5, 6)),\n",
        " (3.0100000000000002, datetime.date(2020, 5, 7)),\n",
        " (3.0100000000000002, datetime.date(2020, 5, 8)),\n",
        " (4.11, datetime.date(2020, 5, 9)),\n",
        " (3.91, datetime.date(2020, 5, 10)),\n",
        " (4.3767780913779, datetime.date(2020, 5, 11)),\n",
        " (2.9949761573723, datetime.date(2020, 5, 12)),\n",
        " (2.8361687501387802, datetime.date(2020, 5, 13)),\n",
        " (2.7958206100022545, datetime.date(2020, 5, 14)),\n",
        " (2.4796399001797464, datetime.date(2020, 5, 15)),\n",
        " (3.443033307137812, datetime.date(2020, 5, 16)),\n",
        " (3.8554240895233494, datetime.date(2020, 5, 17)),\n",
        " (4.115043463524598, datetime.date(2020, 5, 18)),\n",
        " (3.932100438170955, datetime.date(2020, 5, 19)),\n",
        " (4.506062261092727, datetime.date(2020, 5, 20)),\n",
        " (4.523619207285901, datetime.date(2020, 5, 21)),\n",
        " (4.458931264645666, datetime.date(2020, 5, 22)),\n",
        " (4.059657244369418, datetime.date(2020, 5, 23)),\n",
        " (3.756070312290585, datetime.date(2020, 5, 24)),\n",
        " (2.9652459166049185, datetime.date(2020, 5, 25)),\n",
        " (2.5824590922225963, datetime.date(2020, 5, 26)),\n",
        " (2.2148959445368077, datetime.date(2020, 5, 27)),\n",
        " (2.220846438801185, datetime.date(2020, 5, 28)),\n",
        " (2.1107872360180178, datetime.date(2020, 5, 29)),\n",
        " (2.091565444288094, datetime.date(2020, 5, 30)),\n",
        " (1.833162667249601, datetime.date(2020, 5, 31))]\n",
        "\n",
        "R_2_31_y, R_2_31_x = [lis[0] for lis in R_2_31], [lis[1].strftime('%d/%m') for lis in R_2_31]\n",
        "\n",
        " # From 09/05 to 25/05 data:\n",
        "\n",
        "R_10_25 = [(3.91, datetime.date(2020, 5, 10)),\n",
        " (5.11, datetime.date(2020, 5, 11)),\n",
        " (4.3100000000000005, datetime.date(2020, 5, 12)),\n",
        " (6.3100000000000005, datetime.date(2020, 5, 13)),\n",
        " (7.909999999999999, datetime.date(2020, 5, 14)),\n",
        " (8.01, datetime.date(2020, 5, 15)),\n",
        " (12.51, datetime.date(2020, 5, 16)),\n",
        " (14.61, datetime.date(2020, 5, 17)),\n",
        " (15.309999999999999, datetime.date(2020, 5, 18)),\n",
        " (10.618232327556617, datetime.date(2020, 5, 19)),\n",
        " (9.513276075841821, datetime.date(2020, 5, 20)),\n",
        " (7.362649508668455, datetime.date(2020, 5, 21)),\n",
        " (6.197022747127988, datetime.date(2020, 5, 22)),\n",
        " (4.992872807945991, datetime.date(2020, 5, 23)),\n",
        " (4.275090873096726, datetime.date(2020, 5, 24)),\n",
        " (3.233281463506283, datetime.date(2020, 5, 25))]\n",
        "\n",
        "R_10_25_y, R_10_25_x = [lis[0] for lis in R_10_25], [lis[1].strftime('%d/%m') for lis in R_10_25]\n",
        "\n",
        "# From 01/05 to 19/05 data:\n",
        "\n",
        "R_2_19 = [(1.31, datetime.date(2020, 5, 2)),\n",
        " (2.6100000000000003, datetime.date(2020, 5, 3)),\n",
        " (2.5100000000000002, datetime.date(2020, 5, 4)),\n",
        " (2.6100000000000003, datetime.date(2020, 5, 5)),\n",
        " (3.0100000000000002, datetime.date(2020, 5, 6)),\n",
        " (3.0100000000000002, datetime.date(2020, 5, 7)),\n",
        " (3.0100000000000002, datetime.date(2020, 5, 8)),\n",
        " (4.11, datetime.date(2020, 5, 9)),\n",
        " (3.91, datetime.date(2020, 5, 10)),\n",
        " (4.3767780913779, datetime.date(2020, 5, 11)),\n",
        " (2.9949761573723, datetime.date(2020, 5, 12)),\n",
        " (2.8361687501387802, datetime.date(2020, 5, 13)),\n",
        " (2.7958206100022545, datetime.date(2020, 5, 14)),\n",
        " (2.4796399001797464, datetime.date(2020, 5, 15)),\n",
        " (3.443033307137812, datetime.date(2020, 5, 16)),\n",
        " (3.8554240895233494, datetime.date(2020, 5, 17)),\n",
        " (4.115043463524598, datetime.date(2020, 5, 18)),\n",
        " (3.932100438170955, datetime.date(2020, 5, 19))]\n",
        "\n",
        "R_2_19_y, R_2_19_x = [lis[0] for lis in R_2_19], [lis[1].strftime('%d/%m') for lis in R_2_19]\n",
        "\n",
        "R_10_31 = [(3.91, datetime.date(2020, 5, 10)),\n",
        " (5.11, datetime.date(2020, 5, 11)),\n",
        " (4.3100000000000005, datetime.date(2020, 5, 12)),\n",
        " (6.3100000000000005, datetime.date(2020, 5, 13)),\n",
        " (7.909999999999999, datetime.date(2020, 5, 14)),\n",
        " (8.01, datetime.date(2020, 5, 15)),\n",
        " (12.51, datetime.date(2020, 5, 16)),\n",
        " (14.61, datetime.date(2020, 5, 17)),\n",
        " (15.309999999999999, datetime.date(2020, 5, 18)),\n",
        " (10.618232327556617, datetime.date(2020, 5, 19)),\n",
        " (9.513276075841821, datetime.date(2020, 5, 20)),\n",
        " (7.362649508668455, datetime.date(2020, 5, 21)),\n",
        " (6.197022747127988, datetime.date(2020, 5, 22)),\n",
        " (4.992872807945991, datetime.date(2020, 5, 23)),\n",
        " (4.275090873096726, datetime.date(2020, 5, 24)),\n",
        " (3.233281463506283, datetime.date(2020, 5, 25)),\n",
        " (2.7206403054222768, datetime.date(2020, 5, 26)),\n",
        " (2.288389746558919, datetime.date(2020, 5, 27)),\n",
        " (2.2691088110182944, datetime.date(2020, 5, 28)),\n",
        " (2.1434017543805823, datetime.date(2020, 5, 29)),\n",
        " (2.1134368053296915, datetime.date(2020, 5, 30)),\n",
        " (1.8458912408196377, datetime.date(2020, 5, 31))]\n",
        "\n",
        "R_10_31_y, R_10_31_x = [lis[0] for lis in R_10_31], [lis[1].strftime('%d/%m') for lis in R_10_31]\n",
        "\n",
        "R_7_31 = [(3.0100000000000002, datetime.date(2020, 5, 7)),\n",
        " (3.0100000000000002, datetime.date(2020, 5, 8)),\n",
        " (4.11, datetime.date(2020, 5, 9)),\n",
        " (3.91, datetime.date(2020, 5, 10)),\n",
        " (5.11, datetime.date(2020, 5, 11)),\n",
        " (4.3100000000000005, datetime.date(2020, 5, 12)),\n",
        " (6.3100000000000005, datetime.date(2020, 5, 13)),\n",
        " (7.909999999999999, datetime.date(2020, 5, 14)),\n",
        " (8.01, datetime.date(2020, 5, 15)),\n",
        " (9.673905010104543, datetime.date(2020, 5, 16)),\n",
        " (9.434895735664094, datetime.date(2020, 5, 17)),\n",
        " (8.974298673063291, datetime.date(2020, 5, 18)),\n",
        " (7.0099335144792745, datetime.date(2020, 5, 19)),\n",
        " (6.939586014386592, datetime.date(2020, 5, 20)),\n",
        " (6.015102147422691, datetime.date(2020, 5, 21)),\n",
        " (5.406879378262122, datetime.date(2020, 5, 22)),\n",
        " (4.582893339447319, datetime.date(2020, 5, 23)),\n",
        " (4.050773071225689, datetime.date(2020, 5, 24)),\n",
        " (3.1176406204779346, datetime.date(2020, 5, 25)),\n",
        " (2.6610622450079715, datetime.date(2020, 5, 26)),\n",
        " (2.2565445560473574, datetime.date(2020, 5, 27)),\n",
        " (2.2480410974263254, datetime.date(2020, 5, 28)),\n",
        " (2.1290451490594084, datetime.date(2020, 5, 29)),\n",
        " (2.10373627776952, datetime.date(2020, 5, 30)),\n",
        " (1.84020545154637, datetime.date(2020, 5, 31))]\n",
        "\n",
        "R_7_31_y, R_7_31_x = [lis[0] for lis in R_7_31], [lis[1].strftime('%d/%m') for lis in R_7_31]\n",
        "\n",
        "R_2_4_31 = [(0.5781973392314133, datetime.date(2020, 5, 2)),\n",
        " (1.3184590290396834, datetime.date(2020, 5, 3)),\n",
        " (1.3512680351076947, datetime.date(2020, 5, 4)),\n",
        " (1.344500398714285, datetime.date(2020, 5, 5)),\n",
        " (1.7062116375196226, datetime.date(2020, 5, 6)),\n",
        " (1.6852474600242138, datetime.date(2020, 5, 7)),\n",
        " (1.7069016867267914, datetime.date(2020, 5, 8)),\n",
        " (2.184284745638741, datetime.date(2020, 5, 9)),\n",
        " (2.0519422972465433, datetime.date(2020, 5, 10)),\n",
        " (1.9472619231628072, datetime.date(2020, 5, 11)),\n",
        " (1.7161797156095633, datetime.date(2020, 5, 12)),\n",
        " (2.0604533787741683, datetime.date(2020, 5, 13)),\n",
        " (2.2183050630370245, datetime.date(2020, 5, 14)),\n",
        " (2.257005270959137, datetime.date(2020, 5, 15)),\n",
        " (3.4374353406476006, datetime.date(2020, 5, 16)),\n",
        " (3.81675228868498, datetime.date(2020, 5, 17)),\n",
        " (4.074149824078764, datetime.date(2020, 5, 18)),\n",
        " (3.657175383889672, datetime.date(2020, 5, 19)),\n",
        " (4.11796997695598, datetime.date(2020, 5, 20)),\n",
        " (3.977195312211916, datetime.date(2020, 5, 21)),\n",
        " (3.7669496445559503, datetime.date(2020, 5, 22)),\n",
        " (3.586784224574516, datetime.date(2020, 5, 23)),\n",
        " (3.0927317700251917, datetime.date(2020, 5, 24)),\n",
        " (2.421778657174041, datetime.date(2020, 5, 25)),\n",
        " (2.2455364451162585, datetime.date(2020, 5, 26)),\n",
        " (2.146484864394198, datetime.date(2020, 5, 27)),\n",
        " (2.0525876628550908, datetime.date(2020, 5, 28)),\n",
        " (1.9384632694480761, datetime.date(2020, 5, 29)),\n",
        " (1.856738763910415, datetime.date(2020, 5, 30)),\n",
        " (1.6063228647801786, datetime.date(2020, 5, 31))]\n",
        "\n",
        "R_2_4_31_y, R_2_4_31_x = [lis[0] for lis in R_2_4_31], [lis[1].strftime('%d/%m') for lis in R_2_4_31]\n",
        "\n",
        "R_2_4_2_6 = [(0.5781973392314133, datetime.date(2020, 5, 2)),\n",
        " (1.3184590290396834, datetime.date(2020, 5, 3)),\n",
        " (1.3512680351076947, datetime.date(2020, 5, 4)),\n",
        " (1.344500398714285, datetime.date(2020, 5, 5)),\n",
        " (1.7062116375196226, datetime.date(2020, 5, 6)),\n",
        " (1.6852474600242136, datetime.date(2020, 5, 7)),\n",
        " (1.7069016867267914, datetime.date(2020, 5, 8)),\n",
        " (2.184284745638741, datetime.date(2020, 5, 9)),\n",
        " (2.0519422972465433, datetime.date(2020, 5, 10)),\n",
        " (1.947261923162807, datetime.date(2020, 5, 11)),\n",
        " (1.7161797156095633, datetime.date(2020, 5, 12)),\n",
        " (2.0604533787741683, datetime.date(2020, 5, 13)),\n",
        " (2.2183050630370245, datetime.date(2020, 5, 14)),\n",
        " (2.257005270959137, datetime.date(2020, 5, 15)),\n",
        " (3.4374353406476006, datetime.date(2020, 5, 16)),\n",
        " (3.81675228868498, datetime.date(2020, 5, 17)),\n",
        " (4.074149824078764, datetime.date(2020, 5, 18)),\n",
        " (3.657175383889672, datetime.date(2020, 5, 19)),\n",
        " (4.1179699769559805, datetime.date(2020, 5, 20)),\n",
        " (3.977195312211916, datetime.date(2020, 5, 21)),\n",
        " (3.7669496445559503, datetime.date(2020, 5, 22)),\n",
        " (3.586784224574516, datetime.date(2020, 5, 23)),\n",
        " (3.0927317700251917, datetime.date(2020, 5, 24)),\n",
        " (2.4217786571740416, datetime.date(2020, 5, 25)),\n",
        " (2.2455364451162585, datetime.date(2020, 5, 26)),\n",
        " (2.146484864394198, datetime.date(2020, 5, 27)),\n",
        " (2.0525876628550908, datetime.date(2020, 5, 28)),\n",
        " (1.9384632694480761, datetime.date(2020, 5, 29)),\n",
        " (1.856738763910415, datetime.date(2020, 5, 30)),\n",
        " (1.6063228647801786, datetime.date(2020, 5, 31)),\n",
        " (1.4211868982553981, datetime.date(2020, 6, 1)),\n",
        " (1.3082125033617817, datetime.date(2020, 6, 2))]\n",
        "\n",
        "R_2_4_2_6_y, R_2_4_2_6_x = [lis[0] for lis in R_2_4_2_6], [lis[1].strftime('%d/%m') for lis in R_2_4_2_6]\n"
      ],
      "execution_count": 0,
      "outputs": []
    },
    {
      "cell_type": "code",
      "metadata": {
        "id": "D9GZEU7Nh4NZ",
        "colab_type": "code",
        "outputId": "d4337c00-31f9-48d1-f786-904937e836ed",
        "colab": {
          "base_uri": "https://localhost:8080/",
          "height": 749
        }
      },
      "source": [
        "plt.figure(figsize=(12, 12))\n",
        "\n",
        "\n",
        "# this is the order to follow for plotting\n",
        "plt.plot(R_2_4_2_6_x, R_2_4_2_6_y, marker = \"^\", ls = 'None', color = 'olive', label='Tombana R_2_4_2_6')\n",
        "plt.plot(R_2_31_x, R_2_31_y, marker = \"o\", ls = 'None', color = 'green', label='Tombana R_2_31')\n",
        "plt.plot(R_2_4_31_x, R_2_4_31_y, marker = 8, ls = 'None', color = 'brown', label='Tombana R_2_4_31')\n",
        "plt.plot(R_7_31_x, R_7_31_y, marker =9,ls = 'None', color='blue',label='Tombana R_7_31')\n",
        "#plt.plot(R_10_31_x, R_10_31_y, marker =9,ls = 'None', color='blue',label='Tombana R_10_31')\n",
        "#plt.plot(R_10_25_x, R_10_25_y, marker =8,ls = 'None', color='red',label='Tombana R_10_25')\n",
        "plt.plot(R_2_19_x, R_2_19_y, marker = \"+\", ls = 'None', color='orange', label='Tombana R_2_19')\n",
        "\n",
        "plt.xlabel('Andro')\n",
        "plt.ylabel(\"R\")\n",
        "plt.legend(loc= 'best')\n",
        "\n",
        "plt.savefig(path_to_save+'mampitahaR.eps')"
      ],
      "execution_count": 112,
      "outputs": [
        {
          "output_type": "stream",
          "text": [
            "The PostScript backend does not support transparency; partially transparent artists will be rendered opaque.\n",
            "The PostScript backend does not support transparency; partially transparent artists will be rendered opaque.\n"
          ],
          "name": "stderr"
        },
        {
          "output_type": "display_data",
          "data": {
            "image/png": "[encoded data removed]",
            "text/plain": [
              "<Figure size 864x864 with 1 Axes>"
            ]
          },
          "metadata": {
            "tags": [],
            "needs_background": "light"
          }
        }
      ]
    }
  ]
}