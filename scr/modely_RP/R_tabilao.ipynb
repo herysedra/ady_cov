{
  "nbformat": 4,
  "nbformat_minor": 0,
  "metadata": {
    "colab": {
      "name": "R_tabilao.ipynb",
      "provenance": [],
      "collapsed_sections": [],
      "authorship_tag": "ABX9TyPCib296kd1I1zxHGRu6WI4",
      "include_colab_link": true
    },
    "kernelspec": {
      "name": "python3",
      "display_name": "Python 3"
    }
  },
  "cells": [
    {
      "cell_type": "markdown",
      "metadata": {
        "id": "view-in-github",
        "colab_type": "text"
      },
      "source": [
        "<a href=\"https://colab.research.google.com/github/herysedra/ady_cov/blob/master/scr/modely_RP/R_tabilao.ipynb\" target=\"_parent\"><img src=\"https://colab.research.google.com/assets/colab-badge.svg\" alt=\"Open In Colab\"/></a>"
      ]
    },
    {
      "cell_type": "code",
      "metadata": {
        "id": "mTm94BlPJ3Ht",
        "colab_type": "code",
        "colab": {
          "base_uri": "https://localhost:8080/",
          "height": 34
        },
        "outputId": "571c30c7-cb13-44d0-a3c6-65a2a8ef733d"
      },
      "source": [
        "from google.colab import drive\n",
        "drive.mount('/content/drive')"
      ],
      "execution_count": 1,
      "outputs": [
        {
          "output_type": "stream",
          "text": [
            "Mounted at /content/drive\n"
          ],
          "name": "stdout"
        }
      ]
    },
    {
      "cell_type": "code",
      "metadata": {
        "id": "vwFyQogh6edn",
        "colab_type": "code",
        "colab": {
          "base_uri": "https://localhost:8080/",
          "height": 228
        },
        "outputId": "eaded883-f98b-4ed7-d6d7-e197fa5b899e"
      },
      "source": [
        "!pip install pynverse"
      ],
      "execution_count": 3,
      "outputs": [
        {
          "output_type": "stream",
          "text": [
            "Collecting pynverse\n",
            "  Downloading https://files.pythonhosted.org/packages/88/f8/fb90087055b1502def9b6e835e80fa548996bf1439a81583e592f388f4c9/pynverse-0.1.4.4.tar.gz\n",
            "Requirement already satisfied: scipy>=0.11 in /usr/local/lib/python3.6/dist-packages (from pynverse) (1.4.1)\n",
            "Requirement already satisfied: numpy>=1.6 in /usr/local/lib/python3.6/dist-packages (from pynverse) (1.18.5)\n",
            "Building wheels for collected packages: pynverse\n",
            "  Building wheel for pynverse (setup.py) ... \u001b[?25l\u001b[?25hdone\n",
            "  Created wheel for pynverse: filename=pynverse-0.1.4.4-cp36-none-any.whl size=6350 sha256=15fd0740bc6aa3dfd3f1c55a3a76d41148740036a65b2f3be99383911215ebd3\n",
            "  Stored in directory: /root/.cache/pip/wheels/80/ab/86/ec93f37613f012ba3e65c2bbd67e5c54cbc00d237574100c24\n",
            "Successfully built pynverse\n",
            "Installing collected packages: pynverse\n",
            "Successfully installed pynverse-0.1.4.4\n"
          ],
          "name": "stdout"
        }
      ]
    },
    {
      "cell_type": "code",
      "metadata": {
        "id": "nw40APzqKCGS",
        "colab_type": "code",
        "colab": {}
      },
      "source": [
        "import pandas as pd\n",
        "import numpy as np\n",
        "import matplotlib.pyplot as plt\n",
        "import scipy.stats\n",
        "import matplotlib\n",
        "import pickle\n",
        "\n",
        "import datetime\n",
        "import time\n",
        "from datetime import date\n",
        "\n",
        "import matplotlib.dates as mdates\n",
        "from matplotlib.dates import DateFormatter\n",
        "import seaborn as sns\n",
        "\n",
        "from numpy import log,exp\n",
        "from numpy.random import multinomial\n",
        "from scipy.stats import uniform, gamma, gengamma, poisson, nbinom, expon\n",
        "from scipy.integrate import quad\n",
        "\n",
        "from mpl_toolkits.mplot3d.axes3d import Axes3D, get_test_data\n",
        "from matplotlib import cm\n",
        "from matplotlib.ticker import LinearLocator, FormatStrFormatter\n",
        "\n",
        "from pynverse import inversefunc\n",
        "\n",
        "tilyvoa = pd.read_csv(\"/content/drive/My Drive/data/tilyvoafaritra.csv\")\n",
        "\n",
        "mdg_databe = pd.read_csv(\"/content/drive/My Drive/data/databe mdg.csv\")\n",
        "\n",
        "#tilyvoa.set_index('Daty', inplace=True)\n",
        "\n",
        "tilyvoafar = tilyvoa.groupby('Faritra')\n",
        "tilyvoamdg = tilyvoafar.get_group('Madagasikara')\n",
        "tilyvoamdg.set_index('Daty', inplace=True)\n",
        "\n",
        "tilyvoamdg.index = pd.to_datetime(tilyvoamdg.index)\n",
        "\n",
        "tilyvoatana = tilyvoafar.get_group('Antananarivo')\n",
        "tilyvoatana.set_index('Daty', inplace=True)\n",
        "\n",
        "tilyvoatana.index = pd.to_datetime(tilyvoatana.index)\n",
        "\n",
        "tilyvoatoa = tilyvoafar.get_group('Toamasina')\n",
        "tilyvoatoa.set_index('Daty', inplace=True)\n",
        "\n",
        "tilyvoatoa.index = pd.to_datetime(tilyvoatoa.index)\n",
        "\n",
        "\n",
        "path_to_save = '/content/drive/My Drive/sary/'\n",
        "path_data = '/content/drive/My Drive/data/'"
      ],
      "execution_count": 4,
      "outputs": []
    },
    {
      "cell_type": "code",
      "metadata": {
        "id": "7qbUH3RDKLZQ",
        "colab_type": "code",
        "colab": {}
      },
      "source": [
        "# Voa vaovao (observed incidence)\n",
        "Ivao = tilyvoamdg['Voatomb']\n",
        "\n",
        "dIvao = pd.DataFrame(data =Ivao)\n",
        "\n",
        "\n",
        "# Hoan'ny taha sorisoritry ny fifindrana (infectioness profile distribution)\n",
        "\n",
        "daty_data_manom = datetime.date(2020,3,18)\n",
        "daty_data_mifar = datetime.date(2020,5,18)\n",
        "\n",
        "datyt = daty_data_mifar - datetime.timedelta(days = 1)\n",
        "\n",
        "format_date = lambda date_py: '{}-{}-{}'.format(date_py.year, date_py.month, date_py.day)\n",
        "datyf_data_manom = format_date(daty_data_manom)\n",
        "datyf_data_mifar = format_date(daty_data_mifar)\n",
        "\n",
        "# 0/ Discretization of the serial interval distribution\n",
        "\n",
        "#Tombana mialoha (prior distributions)\n",
        "#si_sh = 1/(0.62**2) # Report 13\n",
        "#si_sc = 6.5/si_sh\n",
        "\n",
        "si_sh = (6.48**2)/(3.83**2) # Jereo Imperial Covid-19 COVID-19 response team: Short-term forecasts\n",
        "si_sc = 6.48/si_sh\n",
        "\n",
        "def discr_si(t):\n",
        "  if t == 0:\n",
        "    discrsi = 0\n",
        "  elif t == 1:\n",
        "    discrsi = gengamma.cdf(3/2, si_sh, 1, loc = 0, scale = si_sc)\n",
        "  else:\n",
        "    discrsi = gengamma.cdf(t+1/2, si_sh, 1, loc = 0, scale = si_sc) - gengamma.cdf(t-1/2, si_sh, 1, loc = 0, scale = si_sc)\n",
        "  return discrsi\n",
        "\n",
        "# 1/ The total incidence over a generic window (t-k+1,t)\n",
        "# Ireh(t,k) = sum(i = 0 to k-1) Ivao(t - i))\n",
        "\n",
        "def Ireh(t,k):\n",
        "  Irehv = 0\n",
        "  if k - 1 > (t - daty_data_manom).days:\n",
        "    for i in range((t - daty_data_manom).days + 1):\n",
        "      Irehv = Irehv + dIvao['Voatomb'].loc[format_date(t - datetime.timedelta(days = i))]\n",
        "  else:\n",
        "    for i in range(k):\n",
        "      Irehv = Irehv + dIvao['Voatomb'].loc[format_date(t - datetime.timedelta(days = i))]\n",
        "  return Irehv\n",
        "\n",
        "# 2/ Tool to compute the total infectiousness over a generic window (t-k+1,t)\n",
        "# Isi(t,k) = sum(i=0 to k-1) Ivao(t - i)*discr_si(i)\n",
        "\n",
        "# The definition of Isi(t,k) does not include the term Ivao(t) for i = 0 (because discr_si(0) =0)\n",
        "# so we can start the sum from i = 1; but it includes the last term Ivao(t - k + 1)*discr_si(k - 1) for i = k-1. \n",
        "\n",
        "def Isi(t,k):\n",
        "  Ivaosi = 0\n",
        "  if k - 1 > (t - daty_data_manom).days:\n",
        "    for i in range(1,(t - daty_data_manom).days + 1):\n",
        "      Ivaosi = Ivaosi + dIvao['Voatomb'].loc[format_date(t - datetime.timedelta(days = i))]*discr_si(i)\n",
        "  else:\n",
        "    for i in range(1,k):\n",
        "      Ivaosi = Ivaosi + dIvao['Voatomb'].loc[format_date(t - datetime.timedelta(days = i))]*discr_si(i)\n",
        "  return Ivaosi\n",
        "\n",
        "# The total infectiousness before t\n",
        "\n",
        "# lsi(t) := sum(i=0 to t-1) Ivao(t - i)*discr_si(i)\n",
        "\n",
        "def lsi(t):\n",
        "  return Isi(t, (t - daty_data_manom).days +1)\n",
        "\n",
        "  # for checking, take for example t = daty_data_manom + datetime.timedelta(days = 3)\n",
        "\n",
        "# 3/ The sum of total infectiousness before t over a generic window (t-k+1,t)\n",
        "# tlsi(t) := sum(i=t-k+1 to t)lsi(i)\n",
        "\n",
        "def tlsi(t,k):\n",
        "  tlsi = 0\n",
        "  if k - 1 > (t - daty_data_manom).days:\n",
        "    for i in range((t - daty_data_manom).days + 1):\n",
        "      tlsi = tlsi + lsi(t - datetime.timedelta(days = i))\n",
        "  else:\n",
        "    for i in range(k):\n",
        "      tlsi = tlsi + lsi(t - datetime.timedelta(days = i))\n",
        "  return tlsi\n",
        "\n",
        "# 4/ The shape parameters of the posterior predictive negative binomial of I(t+1)\n",
        "# pnb(t,k) = lsi(t+1)*Gamma_post_scale(R(t,k))/(1 + lsi(t+1)*Gamma_post_scale(R(t,k)))\n",
        "\n",
        "def pnb(t,k):\n",
        "  return lsi(t+datetime.timedelta(days = 1))/(1/si_sc + tlsi(t,k) + lsi(t+datetime.timedelta(days = 1)))\n",
        "\n",
        "# pnb(t,k) dia ny taha herjika hoan'ny NB hoan'ny I(t+1).\n",
        "\n",
        "# 5/ Use the pmf of the posterior predictive negative binomial to compute\n",
        "# each additive contribution at time s then for-loop for s in the time interval\n",
        "\n",
        "def lpr(t,k):\n",
        "  return -np.log(nbinom.pmf(dIvao['Voatomb'].loc[format_date(t + datetime.timedelta(days = 1))], si_sh + Ireh(t,k), pnb(t,k)))\n"
      ],
      "execution_count": 226,
      "outputs": []
    },
    {
      "cell_type": "code",
      "metadata": {
        "id": "v5Q0nJQpKheR",
        "colab_type": "code",
        "colab": {
          "base_uri": "https://localhost:8080/",
          "height": 141
        },
        "outputId": "8bb8d462-9479-4609-96fd-392a4ac5a28d"
      },
      "source": [
        "# 6/ Computation of the Accumulated Predictive Error\n",
        "\n",
        "# APE9_part1 \n",
        "\n",
        "# for i in range(8):\n",
        "# t = t_mif - i - 1\n",
        "# k = 9\n",
        "\n",
        "APEt91 = []\n",
        "Prt91 = []\n",
        "\n",
        "APE91 = 0\n",
        "\n",
        "for i in range(round(((daty_data_mifar - daty_data_manom).days + 1)/2) - 1):\n",
        "  t = daty_data_mifar - datetime.timedelta(days = i+1) \n",
        "  k = round(((daty_data_mifar - daty_data_manom).days + 1)/2)\n",
        "  APE91 = APE91 + lpr(t,k)\n",
        "  APEt91.append((lpr(t,k),t))\n",
        "  Prt91.append(expon.pdf(lpr(t,k)))\n",
        "\n",
        "print('For k = 9, APE91 =', APE91)\n",
        "print('APEt91 =', APEt91)\n",
        "print('Prt91 =', Prt91)\n",
        "\n",
        "# APE9_part2 \n",
        "\n",
        "# for i in range(9):\n",
        "# t = t_mif - 1 - 9 + 1 - i\n",
        "# k = t_mif - t - 2*i\n",
        "APEt92 = []\n",
        "Prt92 = []\n",
        "\n",
        "APE92 = 0\n",
        "for i in range(round(((daty_data_mifar - daty_data_manom).days + 1)/2)-1):\n",
        "  t = daty_data_mifar - datetime.timedelta(days = 1) - datetime.timedelta(days = ((daty_data_mifar - daty_data_manom).days + 1)/2) + datetime.timedelta(days = 1) - datetime.timedelta(days = i)\n",
        "  k = (daty_data_mifar - t - datetime.timedelta(days = 2*i)).days\n",
        "  APE92 = APE92 + lpr(t,k) \n",
        "  APEt92.append((lpr(t,k) ,t,k))\n",
        "  Prt92.append(expon.pdf(lpr(t,k)))\n",
        "\n",
        "print('For k = 9, APE92 =', APE92)\n",
        "print('APEt92=', APEt92)\n",
        "print('Prt92=', Prt92)\n",
        "\n",
        "# For t_man such that Ivao(t_man) = Ivao(t_man + 1) = 0, lsi(t_man + 1) = tlsi(t_man + 1, 2) = Ireh(t_man + 1, 2) = 0\n",
        "# so that pnb(t_man + 1, 2) = 0 and "
      ],
      "execution_count": 10,
      "outputs": [
        {
          "output_type": "stream",
          "text": [
            "For k = 9, APE91 = 10161.179872856668\n",
            "APEt91 = [(339.24776769530746, datetime.date(2020, 5, 17)), (322.60405717544523, datetime.date(2020, 5, 16)), (217.21941422255964, datetime.date(2020, 5, 15)), (281.9542152924287, datetime.date(2020, 5, 14)), (242.00393975754864, datetime.date(2020, 5, 13)), (206.58693535948706, datetime.date(2020, 5, 12)), (229.98634266293703, datetime.date(2020, 5, 11)), (200.96016905002213, datetime.date(2020, 5, 10)), (228.3109410349002, datetime.date(2020, 5, 9)), (231.6705041133591, datetime.date(2020, 5, 8)), (229.48747303832556, datetime.date(2020, 5, 7)), (261.1603404265613, datetime.date(2020, 5, 6)), (258.14279118092634, datetime.date(2020, 5, 5)), (283.65916984608043, datetime.date(2020, 5, 4)), (338.4176468522817, datetime.date(2020, 5, 3)), (309.40486917846437, datetime.date(2020, 5, 2)), (350.9701738214772, datetime.date(2020, 5, 1)), (341.0723781089018, datetime.date(2020, 4, 30)), (361.90915564786667, datetime.date(2020, 4, 29)), (373.04997261840253, datetime.date(2020, 4, 28)), (421.7922692204918, datetime.date(2020, 4, 27)), (478.06870279212615, datetime.date(2020, 4, 26)), (481.6238958909582, datetime.date(2020, 4, 25)), (484.6429549147952, datetime.date(2020, 4, 24)), (458.84005886630143, datetime.date(2020, 4, 23)), (452.91840535483936, datetime.date(2020, 4, 22)), (435.0992451869618, datetime.date(2020, 4, 21)), (453.9088990878987, datetime.date(2020, 4, 20)), (444.1456151059098, datetime.date(2020, 4, 19)), (442.3215693531, datetime.date(2020, 4, 18))]\n",
            "Prt91 = [4.6405183242476385e-148, 7.849430149313415e-141, 4.600521248076745e-95, 3.538670691821234e-123, 7.925457920179831e-106, 1.9073655752014004e-90, 1.31280574439712e-100, 5.297945656594763e-88, 7.01161643617809e-100, 2.4365674816003267e-101, 2.1620054955126086e-100, 3.797565390748942e-114, 7.762654321130236e-113, 6.4326184877893315e-124, 1.0643473749398766e-147, 4.2381140710587236e-135, 3.763485063147264e-153, 7.484249511732328e-149, 6.681142762798255e-158, 9.692937617181405e-163, 6.575745070905352e-184, 2.3845169106459505e-208, 6.813961286727648e-210, 3.3284266236595184e-211, 5.349268018137963e-200, 1.995426805366719e-197, 1.0934495118409797e-189, 7.410880994770073e-198, 1.2882798023528021e-193, 7.983313850526957e-193]\n",
            "For k = 9, APE92 = 5075.720935566138\n",
            "APEt92= [(426.01794409421706, datetime.date(2020, 4, 17), 31), (408.7271238950467, datetime.date(2020, 4, 16), 30), (366.43434365588195, datetime.date(2020, 4, 15), 29), (358.1435148234469, datetime.date(2020, 4, 14), 28), (337.0845173040797, datetime.date(2020, 4, 13), 27), (317.4186908077098, datetime.date(2020, 4, 12), 26), (307.3862298951773, datetime.date(2020, 4, 11), 25), (296.7869193044796, datetime.date(2020, 4, 10), 24), (242.03591485640663, datetime.date(2020, 4, 9), 23), (255.23367385516534, datetime.date(2020, 4, 8), 22), (242.96285556131502, datetime.date(2020, 4, 7), 21), (209.4154270339234, datetime.date(2020, 4, 6), 20), (183.08230265174245, datetime.date(2020, 4, 5), 19), (165.68732314565258, datetime.date(2020, 4, 4), 18), (169.27962223759718, datetime.date(2020, 4, 3), 17), (137.85727574856895, datetime.date(2020, 4, 2), 16), (113.1114756655746, datetime.date(2020, 4, 1), 15), (103.636264974927, datetime.date(2020, 3, 31), 14), (97.95544982810164, datetime.date(2020, 3, 30), 13), (84.39373664310462, datetime.date(2020, 3, 29), 12), (78.1892469505824, datetime.date(2020, 3, 28), 11), (51.55820447904365, datetime.date(2020, 3, 27), 10), (22.74404263595755, datetime.date(2020, 3, 26), 9), (32.53692929714434, datetime.date(2020, 3, 25), 8), (17.29069643357024, datetime.date(2020, 3, 24), 7), (21.440920684580764, datetime.date(2020, 3, 23), 6), (9.605318400605173, datetime.date(2020, 3, 22), 5), (10.20316042777541, datetime.date(2020, 3, 21), 4), (2.7069122567180885, datetime.date(2020, 3, 20), 3), (6.794898018042811, datetime.date(2020, 3, 19), 2)]\n",
            "Prt92= [9.610759024825404e-186, 3.1050277666114523e-178, 7.237466564754212e-160, 2.885677430392858e-156, 4.036957709312708e-147, 1.402213452319472e-138, 3.1904837977204503e-134, 1.2796130042045894e-129, 7.676049301699736e-106, 1.4237175835669316e-111, 3.0378933434044284e-106, 1.1272898943265705e-91, 3.0786918655242707e-80, 1.1038494269475969e-72, 3.0394441216026662e-74, 1.3469325623087657e-60, 7.521600773521031e-50, 9.802616136931557e-46, 2.8740125967279216e-43, 2.229799782201484e-37, 1.1036757623722815e-34, 4.060282935853621e-23, 1.3255245845892596e-10, 7.402717020591334e-15, 3.0956079308381725e-08, 4.878951037168002e-10, 6.736948410855598e-05, 3.705303001534604e-05, 0.06674257280589951, 0.0011194721291435704]\n"
          ],
          "name": "stdout"
        }
      ]
    },
    {
      "cell_type": "code",
      "metadata": {
        "id": "u0DV0KxJK99i",
        "colab_type": "code",
        "colab": {
          "base_uri": "https://localhost:8080/",
          "height": 72
        },
        "outputId": "44e023fd-d06a-4e81-ccbc-1cb0914b1785"
      },
      "source": [
        "# APEk part 1 for k =/= 9\n",
        "\n",
        "# for i in range(t_mif - t_man -j)\n",
        "\n",
        "APEk1 = []\n",
        "#APEt21 = []\n",
        "for j in range(2,9):\n",
        "  APEj1 = 0\n",
        "  for i in range(round(((daty_data_mifar - daty_data_manom).days) - j)):\n",
        "    t = daty_data_mifar - datetime.timedelta(days = i+1) \n",
        "    k = j\n",
        "    APEj1 = APEj1 + lpr(t,k)\n",
        "   # APEt21.append(lpr(t,k))\n",
        "  APEk1.append(APEj1)\n",
        "\n",
        "print('APEk1 =', APEk1)\n",
        "#print('APEt21 =', APEt21)\n",
        "\n",
        "# APEk part 2 for k =/= 9\n",
        "\n",
        "Prk2 = []\n",
        "\n",
        "APEk2 = []\n",
        "\n",
        "for j in range(2,9):\n",
        "  APEj2 = 0\n",
        "  for i in range(j-1):\n",
        "    t = daty_data_manom + datetime.timedelta(days = j - i - 1)\n",
        "    k = j - i\n",
        "    APEj2 = APEj2 + lpr(t,k)\n",
        "  APEk2.append(APEj2)\n",
        "\n",
        "print('APEk2 =', APEk2)"
      ],
      "execution_count": 11,
      "outputs": [
        {
          "output_type": "stream",
          "text": [
            "APEk1 = [453.9086298271318, 809.9903619695335, 1226.579078708242, 1664.3436812348116, 2099.1744198018864, 2559.4207198149675, 2996.996511381186]\n",
            "APEk2 = [6.794898018042811, 9.5018102747609, 19.70497070253631, 29.310289103141482, 50.751209787722246, 68.04190622129249, 100.57883551843683]\n"
          ],
          "name": "stdout"
        }
      ]
    },
    {
      "cell_type": "code",
      "metadata": {
        "id": "3yw05_HnLrPp",
        "colab_type": "code",
        "colab": {
          "base_uri": "https://localhost:8080/",
          "height": 106
        },
        "outputId": "594c2d40-0b72-4916-c7ff-9b05ed181706"
      },
      "source": [
        "# APEk for k = 2,...,8\n",
        "\n",
        "APEk = [x + y for x, y in zip(APEk1, APEk2)]\n",
        "\n",
        "# APE9\n",
        "APE9 = APE91 + APE92\n",
        "\n",
        "APE = APEk + [APE9]\n",
        "kk = APE.index(min(APE)) +2\n",
        "print('APE9 =', APE9)\n",
        "print('APEk =', APEk)\n",
        "print('APE =', APE)\n",
        "print(kk)\n"
      ],
      "execution_count": 12,
      "outputs": [
        {
          "output_type": "stream",
          "text": [
            "APE9 = 15236.900808422806\n",
            "APEk = [460.7035278451746, 819.4921722442945, 1246.2840494107782, 1693.653970337953, 2149.9256295896084, 2627.46262603626, 3097.5753468996227]\n",
            "APE = [460.7035278451746, 819.4921722442945, 1246.2840494107782, 1693.653970337953, 2149.9256295896084, 2627.46262603626, 3097.5753468996227, 15236.900808422806]\n",
            "2\n"
          ],
          "name": "stdout"
        }
      ]
    },
    {
      "cell_type": "markdown",
      "metadata": {
        "id": "sm8piqajcz_G",
        "colab_type": "text"
      },
      "source": [
        "# Choice of the prior hyperparameters"
      ]
    },
    {
      "cell_type": "code",
      "metadata": {
        "id": "wIFgBDX65AGg",
        "colab_type": "code",
        "colab": {}
      },
      "source": [
        "kk = 2\n",
        "\n",
        "  #shape\n",
        "def func_sh(t):\n",
        "    def Rtpsand_sh(a):\n",
        "      return a + Ireh(t,kk)\n",
        "    return Rtpsand_sh\n",
        "  # Scale\n",
        "def func_sc(t):\n",
        "    def Rtpsand_sc(b):\n",
        "      return 1/(1/b + tlsi(t,kk))\n",
        "    return Rtpsand_sc\n",
        "\n",
        "def funcsh_inv(t):\n",
        "    def sh_invex(x):\n",
        "      return (x + Ireh(t,kk))/x\n",
        "    return inversefunc(sh_invex, domain=[0.01, 1e+11])\n"
      ],
      "execution_count": 13,
      "outputs": []
    },
    {
      "cell_type": "code",
      "metadata": {
        "id": "OSIi9pAE5Swu",
        "colab_type": "code",
        "colab": {
          "base_uri": "https://localhost:8080/",
          "height": 535
        },
        "outputId": "27abdb76-1204-4dec-8be9-c7e4f7bf7f7b"
      },
      "source": [
        "# Variation of R(datyab) with rapport to the prior parameters\n",
        "\n",
        "datyab = daty_data_mifar\n",
        "\n",
        "fig = plt.figure(figsize=(7,7))\n",
        "ax = fig.gca(projection='3d')\n",
        "\n",
        "# Make data.\n",
        "X = np.linspace(0.1,5,100)\n",
        "Y = np.linspace(0.1,5,100)\n",
        "X, Y = np.meshgrid(X, Y)\n",
        "Z = func_sh(datyab)(X)*func_sc(datyab)(Y)\n",
        "W = X*Y\n",
        "# Plot the surface.\n",
        "surf = ax.plot_surface(X, Y, Z, cmap=cm.coolwarm,\n",
        "                       linewidth=0, antialiased=False)\n",
        "#surf = ax.plot_surface(X, Y, W, cmap=cm.coolwarm,\n",
        " #                      linewidth=0, antialiased=False)\n",
        "\n",
        "# Customize the z axis.\n",
        "ax.set_zlim(0.7, 2)\n",
        "ax.zaxis.set_major_locator(LinearLocator(10))\n",
        "ax.zaxis.set_major_formatter(FormatStrFormatter('%.02f'))\n",
        "\n",
        "ax.set(xlabel ='bika a', ylabel = \"taha b\", zlabel = 'R(t=15/09)')\n",
        "\n",
        "# Add a color bar which maps values to colors.\n",
        "fig.colorbar(surf, shrink=0.5, aspect=5)\n",
        "\n",
        "plt.savefig(path_to_save+'Rt159_mdg.eps')\n",
        "\n",
        "plt.show()"
      ],
      "execution_count": 15,
      "outputs": [
        {
          "output_type": "stream",
          "text": [
            "The PostScript backend does not support transparency; partially transparent artists will be rendered opaque.\n",
            "The PostScript backend does not support transparency; partially transparent artists will be rendered opaque.\n",
            "The PostScript backend does not support transparency; partially transparent artists will be rendered opaque.\n",
            "The PostScript backend does not support transparency; partially transparent artists will be rendered opaque.\n",
            "The PostScript backend does not support transparency; partially transparent artists will be rendered opaque.\n",
            "The PostScript backend does not support transparency; partially transparent artists will be rendered opaque.\n"
          ],
          "name": "stderr"
        },
        {
          "output_type": "display_data",
          "data": {
            "image/png": "[encoded data removed]",
            "text/plain": [
              "<Figure size 504x504 with 2 Axes>"
            ]
          },
          "metadata": {
            "tags": [],
            "needs_background": "light"
          }
        }
      ]
    },
    {
      "cell_type": "code",
      "metadata": {
        "id": "kKAZ3YCicDQm",
        "colab_type": "code",
        "colab": {
          "base_uri": "https://localhost:8080/",
          "height": 318
        },
        "outputId": "21554d97-b9c4-45a4-f4df-39f1a397974e"
      },
      "source": [
        "# R(t) when equality between the prior and the posterior\n",
        "\n",
        "# 100 linearly spaced numbers\n",
        "x = np.linspace(0.1,60,100)\n",
        "\n",
        "fig = plt.figure()\n",
        "ax = fig.add_subplot(1, 1, 1)\n",
        "\n",
        "# plot the function\n",
        "plt.plot(x, x*funcsh_inv(datyab)(x/func_sc(datyab)(x)), 'blue')\n",
        "\n",
        "ax.set_ylim(0,3)\n",
        "ax.set(xlabel ='taha', ylabel = \"R(t)\")\n",
        "\n",
        "\n",
        "# show the plot\n",
        "plt.show()\n",
        "\n",
        "print('taha* = 1')\n",
        "print('R(t=',datyab,') =', funcsh_inv(datyab)(1/func_sc(datyab)(1)), '= bika*')\n"
      ],
      "execution_count": 16,
      "outputs": [
        {
          "output_type": "display_data",
          "data": {
            "image/png": "[encoded data removed]",
            "text/plain": [
              "<Figure size 432x288 with 1 Axes>"
            ]
          },
          "metadata": {
            "tags": [],
            "needs_background": "light"
          }
        },
        {
          "output_type": "stream",
          "text": [
            "taha* = 1\n",
            "R(t= 2020-05-18 ) = 1.645817101181874 = bika*\n"
          ],
          "name": "stdout"
        }
      ]
    },
    {
      "cell_type": "markdown",
      "metadata": {
        "id": "LFCbJbnH6LDb",
        "colab_type": "text"
      },
      "source": [
        "# Direct computation of R(t)"
      ]
    },
    {
      "cell_type": "code",
      "metadata": {
        "id": "rQR-tjOWk5qg",
        "colab_type": "code",
        "colab": {
          "base_uri": "https://localhost:8080/",
          "height": 139
        },
        "outputId": "ff21d498-33ef-4863-ce94-61df218e2b5d"
      },
      "source": [
        "#shape\n",
        "def func_sh(t):\n",
        "    def Rtpsand_sh(a):\n",
        "      return a + Ireh(t,kk)\n",
        "    return Rtpsand_sh\n",
        "\n",
        "# Scale\n",
        "def func_sc(t):\n",
        "    def Rtpsand_sc(b):\n",
        "      return 1/(1/b + tlsi(t,kk))\n",
        "    return Rtpsand_sc\n",
        "\n",
        "\n",
        "def funcsh_inv(t):\n",
        "    def sh_invex(x):\n",
        "      return (x + Ireh(t,kk))/x\n",
        "    return inversefunc(sh_invex, domain=[1e-11, 1e+11])\n",
        "\n",
        "def Rt_salan(t):\n",
        "    ffunc_sh = func_sh(t)\n",
        "    ffunc_sc = func_sc(t)\n",
        "    ffuncsh_inv = funcsh_inv(t)\n",
        "    return ffuncsh_inv(1/ffunc_sc(1))\n",
        "\n",
        "# The 95th and 5th percentiles of Rt\n",
        "\n",
        "def perc75(t):\n",
        "    return gengamma.ppf(0.75, func_sh(t)(Rt_salan(t)), 1, loc = 0, scale = func_sc(t)(1))\n",
        "\n",
        "def perc25(t):\n",
        "    return gengamma.ppf(0.25, func_sh(t)(Rt_salan(t)), 1, loc = 0, scale = func_sc(t)(1))\n",
        "\n",
        "def Rtps_sal(t):\n",
        "  return dIvao['Voatomb'].loc[format_date(t)]/lsi(t)\n",
        "\n",
        "\n",
        "print(\"Kajy mivantana ny R hoan'ny\", daty_data_mifar, ':', Rtps_sal(daty_data_mifar))\n",
        "\n",
        "daty_oh1 = datetime.date(2020,5,14)\n",
        "print(\"Salan'isa R hoan'ny\", daty_oh1, ':', Rt_salan(daty_oh1))\n",
        "print(\"Kartily @ 75% R hoan'ny\", daty_oh1, ':', perc75(daty_oh1))\n",
        "print(\"Kartily @ 25% R hoan'ny\", daty_oh1, ':', perc25(daty_oh1))\n",
        "\n",
        "print(\"Salan'isa R hoan'ny\", daty_data_mifar, ':', Rt_salan(daty_data_mifar))\n",
        "print(\"Kartily @ 75% R hoan'ny\", daty_data_mifar, ':', perc75(daty_data_mifar))\n",
        "print(\"Kartily @ 25% R hoan'ny\", daty_data_mifar, ':', perc25(daty_data_mifar))\n"
      ],
      "execution_count": 85,
      "outputs": [
        {
          "output_type": "stream",
          "text": [
            "Kajy mivantana ny R hoan'ny 2020-05-18 : 1.3739015964589485\n",
            "Salan'isa R hoan'ny 2020-05-14 : 3.65920386018574\n",
            "Kartily @ 75% R hoan'ny 2020-05-14 : 4.023996358011888\n",
            "Kartily @ 25% R hoan'ny 2020-05-14 : 3.2625576055375394\n",
            "Salan'isa R hoan'ny 2020-05-18 : 1.6458170997210504\n",
            "Kartily @ 75% R hoan'ny 2020-05-18 : 1.811815831302775\n",
            "Kartily @ 25% R hoan'ny 2020-05-18 : 1.465134918279395\n"
          ],
          "name": "stdout"
        }
      ]
    },
    {
      "cell_type": "markdown",
      "metadata": {
        "id": "iesUHBBYgJeF",
        "colab_type": "text"
      },
      "source": [
        "### Fomba mifidy a sy b"
      ]
    },
    {
      "cell_type": "code",
      "metadata": {
        "id": "qmyClaSOgZ18",
        "colab_type": "code",
        "colab": {}
      },
      "source": [
        "daty_data_mifar = datetime.date(2020,5,5)"
      ],
      "execution_count": 91,
      "outputs": []
    },
    {
      "cell_type": "code",
      "metadata": {
        "id": "FOeHLykjPL1H",
        "colab_type": "code",
        "colab": {
          "base_uri": "https://localhost:8080/",
          "height": 139
        },
        "outputId": "6a3f6b35-bf16-4611-e4bd-02eb9ef878c1"
      },
      "source": [
        "# Prior Gamma distribution of Rt\n",
        "\n",
        "Rtpr_sh = 2.2 # shape\n",
        "Rtpr_sc = 2.2 # scale\n",
        "\n",
        "# Posterior distribution for Rt\n",
        "\n",
        "# Shape parameter :\n",
        "def Rtps_sh(t):\n",
        "   return Rtpr_sh + Ireh(t,kk)\n",
        "\n",
        "# Scale\n",
        "def Rtps_sc(t):\n",
        "  return 1/(1/Rtpr_sc + tlsi(t,kk))\n",
        "\n",
        "# mean\n",
        "def Rt_salan(t):\n",
        "  return Rtps_sh(t)*Rtps_sc(t)\n",
        "\n",
        "# 75th and 25th percentiles\n",
        "\n",
        "def perc75(t):\n",
        "  return gengamma.ppf(0.75, Rtps_sh(t), 1, loc = 0, scale = Rtps_sc(t))\n",
        "\n",
        "def perc25(t):\n",
        "  return gengamma.ppf(0.25, Rtps_sh(t), 1, loc = 0, scale = Rtps_sc(t))\n",
        "\n",
        "\n",
        "def Rtps_sal(t):\n",
        "  return dIvao['Voatomb'].loc[format_date(t)]/lsi(t)\n",
        "\n",
        "\n",
        "daty_oh1 = datetime.date(2020,4,15)\n",
        "\n",
        "print(\"Kajy mivantana ny R hoan'ny\", daty_data_mifar, ':', Rtps_sal(daty_data_mifar))\n",
        "\n",
        "print(\"Salan'isa R hoan'ny\", daty_oh1, ':', Rt_salan(daty_oh1))\n",
        "print(\"Kartily @ 75% R hoan'ny\", daty_oh1, ':', perc75(daty_oh1))\n",
        "print(\"Kartily @ 25% R hoan'ny\", daty_oh1, ':', perc25(daty_oh1))\n",
        "\n",
        "\n",
        "print(\"Salan'isa R hoan'ny\", daty_data_mifar, ':', Rt_salan(daty_data_mifar))\n",
        "print(\"Kartily @ 75% R hoan'ny\", daty_data_mifar, ':', perc75(daty_data_mifar))\n",
        "print(\"Kartily @ 25% R hoan'ny\", daty_data_mifar, ':', perc25(daty_data_mifar))"
      ],
      "execution_count": 92,
      "outputs": [
        {
          "output_type": "stream",
          "text": [
            "Kajy mivantana ny R hoan'ny 2020-05-05 : 0.8381237575868923\n",
            "Salan'isa R hoan'ny 2020-04-15 : 0.7648758989305915\n",
            "Kartily @ 75% R hoan'ny 2020-04-15 : 0.9438510114593817\n",
            "Kartily @ 25% R hoan'ny 2020-04-15 : 0.5417023685465239\n",
            "Salan'isa R hoan'ny 2020-05-05 : 0.9152936621490948\n",
            "Kartily @ 75% R hoan'ny 2020-05-05 : 1.1646134838792588\n",
            "Kartily @ 25% R hoan'ny 2020-05-05 : 0.5884648250749243\n"
          ],
          "name": "stdout"
        }
      ]
    },
    {
      "cell_type": "code",
      "metadata": {
        "id": "YV8fK-qnoBcd",
        "colab_type": "code",
        "colab": {
          "base_uri": "https://localhost:8080/",
          "height": 1000
        },
        "outputId": "224dff86-cc73-4cda-d68a-18d10a6cfb03"
      },
      "source": [
        "rt_mdg_lst = []\n",
        "\n",
        "daty_oh2 = datetime.date(2020,5,5)\n",
        "for i in range(15):\n",
        "  t = daty_oh2 - datetime.timedelta(days = i)\n",
        "  rt_amboar = Rt_salan(t)\n",
        "  rt_mdg_lst.append((t,Rt_salan(t),perc75(t), perc25(t)))\n",
        "\n",
        "rt_mdg_lst"
      ],
      "execution_count": 93,
      "outputs": [
        {
          "output_type": "execute_result",
          "data": {
            "text/plain": [
              "[(datetime.date(2020, 5, 5),\n",
              "  0.9152936621490948,\n",
              "  1.1646134838792588,\n",
              "  0.5884648250749243),\n",
              " (datetime.date(2020, 5, 4),\n",
              "  4.921477974792547,\n",
              "  5.68202258250682,\n",
              "  4.051117638335308),\n",
              " (datetime.date(2020, 5, 3),\n",
              "  7.78871601494999,\n",
              "  8.902878129393397,\n",
              "  6.5277930227735315),\n",
              " (datetime.date(2020, 5, 2),\n",
              "  4.087771733670621,\n",
              "  4.898758208900261,\n",
              "  3.116834395663789),\n",
              " (datetime.date(2020, 5, 1),\n",
              "  2.7312474939987936,\n",
              "  3.3703385259764778,\n",
              "  1.9343310969197678),\n",
              " (datetime.date(2020, 4, 30),\n",
              "  0.9394108094577611,\n",
              "  1.2564697560653584,\n",
              "  0.4738323946322178),\n",
              " (datetime.date(2020, 4, 29),\n",
              "  0.9561016299312282,\n",
              "  1.2787938670056327,\n",
              "  0.48225113045439166),\n",
              " (datetime.date(2020, 4, 28),\n",
              "  2.347663299483778,\n",
              "  2.9369529747281535,\n",
              "  1.5970940681994186),\n",
              " (datetime.date(2020, 4, 27),\n",
              "  2.736816577108198,\n",
              "  3.377210731955332,\n",
              "  1.9382752472259996),\n",
              " (datetime.date(2020, 4, 26),\n",
              "  1.6652079767230001,\n",
              "  2.118799401059332,\n",
              "  1.0706031968306664),\n",
              " (datetime.date(2020, 4, 25),\n",
              "  1.424105564829855,\n",
              "  1.8120223179237682,\n",
              "  0.9155925215609293),\n",
              " (datetime.date(2020, 4, 24),\n",
              "  0.9013150807714516,\n",
              "  1.171896193168605,\n",
              "  0.5312943069021424),\n",
              " (datetime.date(2020, 4, 23),\n",
              "  0.516265615343291,\n",
              "  0.6905095462439251,\n",
              "  0.2604008494703041),\n",
              " (datetime.date(2020, 4, 22),\n",
              "  0.4400823935626222,\n",
              "  0.5886138546856367,\n",
              "  0.2219745528557614),\n",
              " (datetime.date(2020, 4, 21),\n",
              "  0.38677863859840333,\n",
              "  0.5173196399257297,\n",
              "  0.19508850300057243)]"
            ]
          },
          "metadata": {
            "tags": []
          },
          "execution_count": 93
        }
      ]
    },
    {
      "cell_type": "code",
      "metadata": {
        "id": "wFgs0JhcNuTQ",
        "colab_type": "code",
        "colab": {
          "base_uri": "https://localhost:8080/",
          "height": 34
        },
        "outputId": "17e55dd1-3fd6-4979-d2d5-e6c0e1fab01f"
      },
      "source": [
        "rt_mdg_lst[0]"
      ],
      "execution_count": null,
      "outputs": [
        {
          "output_type": "execute_result",
          "data": {
            "text/plain": [
              "(datetime.date(2020, 8, 1), array(0.79088277))"
            ]
          },
          "metadata": {
            "tags": []
          },
          "execution_count": 15
        }
      ]
    },
    {
      "cell_type": "code",
      "metadata": {
        "id": "6I2v8asYqGNm",
        "colab_type": "code",
        "colab": {}
      },
      "source": [
        "# MRC results \n",
        "\n",
        "r_mdg197 = 1.41\n",
        "r_mdg177 = 1.45\n",
        "r_mdg147 = 1.32\n",
        "r_mdg137 = 1.3\n",
        "r_mdg107 = 1.31\n",
        "r_mdg067 = 1.49\n",
        "r_mdg037 = 1.47\n",
        "r_mdg027 = 1.42\n",
        "r_mdg017 = 1.36\n",
        "r_mdg256 = 1.89\n",
        "r_mdg226 = 1.45\n",
        "r_mdg206 = 1.26\n",
        "r_mdg186 = 1.41\n",
        "r_mdg166 = 1.33\n",
        "r_mdg156 = 1.07\n",
        "r_mdg146 = 0.9\n",
        "r_mdg136 = 1.13\n",
        "r_mdg086 = 1.92\n",
        "r_mdg056 = 2.01\n",
        "r_mdg036 = 2.02\n",
        "r_mdg016 = 2.1\n",
        "r_mdg315 = 2.11\n",
        "r_mdg305 = 2.15"
      ],
      "execution_count": null,
      "outputs": []
    },
    {
      "cell_type": "code",
      "metadata": {
        "id": "QBhle4cYtV7v",
        "colab_type": "code",
        "colab": {
          "base_uri": "https://localhost:8080/",
          "height": 156
        },
        "outputId": "ce427d93-7e8f-41b4-e04b-d727cc2fd8eb"
      },
      "source": [
        "elan_mdg197 = r_mdg197 - rt_mdg_lst[13][1]\n",
        "elan_mdg177 = r_mdg177 - rt_mdg_lst[15][1]\n",
        "elan_mdg147 = r_mdg147 - rt_mdg_lst[18][1]\n",
        "elan_mdg137 = r_mdg137 - rt_mdg_lst[19][1]\n",
        "elan_mdg107 = r_mdg107 - rt_mdg_lst[22][1]\n",
        "elan_mdg067 = r_mdg067 - rt_mdg_lst[26][1]\n",
        "\n",
        "elan_mdg037 = r_mdg037 - rt_mdg_lst[29][1]\n",
        "elan_mdg027 = r_mdg027 - rt_mdg_lst[30][1]\n",
        "\n",
        "print('197',elan_mdg197,rt_mdg_lst[13])\n",
        "print('177',elan_mdg177,rt_mdg_lst[15])\n",
        "print('147',elan_mdg147,rt_mdg_lst[18])\n",
        "print('137',elan_mdg137,rt_mdg_lst[19])\n",
        "print('107',elan_mdg107,rt_mdg_lst[22])\n",
        "print('067',elan_mdg067,rt_mdg_lst[26])\n",
        "print('037',elan_mdg037,rt_mdg_lst[29])\n",
        "print('027',elan_mdg027,rt_mdg_lst[30])\n"
      ],
      "execution_count": null,
      "outputs": [
        {
          "output_type": "stream",
          "text": [
            "197 0.419455061247609 (datetime.date(2020, 7, 19), array(0.99054494))\n",
            "177 -0.1871532063543382 (datetime.date(2020, 7, 17), array(1.63715321))\n",
            "147 0.2888645811130286 (datetime.date(2020, 7, 14), array(1.03113542))\n",
            "137 0.10662777467567519 (datetime.date(2020, 7, 13), array(1.19337223))\n",
            "107 -0.49561986597109975 (datetime.date(2020, 7, 10), array(1.80561987))\n",
            "067 -1.2955358652333515 (datetime.date(2020, 7, 6), array(2.78553587))\n",
            "037 -0.5726881910960302 (datetime.date(2020, 7, 3), array(2.04268819))\n",
            "027 0.028270813347863744 (datetime.date(2020, 7, 2), array(1.39172919))\n"
          ],
          "name": "stdout"
        }
      ]
    },
    {
      "cell_type": "code",
      "metadata": {
        "id": "foSta6sC6GiD",
        "colab_type": "code",
        "colab": {}
      },
      "source": [
        "037 -0.5726098483113142 (datetime.date(2020, 7, 3), array(2.04260985))\n",
        "027 0.02835208638426856 (datetime.date(2020, 7, 2), array(1.39164791))\n",
        "256 0.8021534559475563 (datetime.date(2020, 6, 25), array(1.08784654))\n",
        "226 -0.5014916536325702 (datetime.date(2020, 6, 22), array(1.95149165))\n",
        "206 -0.361306138560324 (datetime.date(2020, 6, 20), array(1.62130614))\n",
        "186 -0.02162642793571723 (datetime.date(2020, 6, 18), array(1.43162643))\n",
        "166 0.6492157941416283 (datetime.date(2020, 6, 16), array(0.68078421))\n",
        "156 0.526489774932504 (datetime.date(2020, 6, 15), array(0.54351023))\n",
        "146 0.32353315210354017 (datetime.date(2020, 6, 14), array(0.57646685))\n",
        "136 0.4749572987988042 (datetime.date(2020, 6, 13), array(0.6550427))\n",
        "086 1.0543351102904648 (datetime.date(2020, 6, 8), array(0.86566489))\n",
        "056 1.139592276201465 (datetime.date(2020, 6, 5), array(0.87040772))\n",
        "036 0.931962123621884 (datetime.date(2020, 6, 3), array(1.08803788))\n",
        "016 1.1491939416892416 (datetime.date(2020, 6, 1), array(0.95080606))\n",
        "315 0.7537546213260404 (datetime.date(2020, 5, 31), array(1.35624538))\n",
        "305 0.5758312750280978 (datetime.date(2020, 5, 30), array(1.57416872))"
      ],
      "execution_count": null,
      "outputs": []
    },
    {
      "cell_type": "code",
      "metadata": {
        "id": "O8NMPP76S_zA",
        "colab_type": "code",
        "colab": {}
      },
      "source": [
        "# Plotting everything except the first 7 days\n",
        "\n",
        "np.random.seed(12345)\n",
        "\n",
        "\n",
        "daty_data_mifar9 = daty_data_mifar - datetime.timedelta(days = 20)\n",
        "\n",
        "formatf_date = lambda date_py: '{}/{}'.format(date_py.day, str(date_py.month)[0:1])\n",
        "\n",
        "daty_lst = []\n",
        "\n",
        "data_Rt_lst = []\n",
        "\n",
        "for i in range(round(((daty_data_mifar - daty_data_mifar9).days)+1)):\n",
        "  t = daty_data_mifar9 + datetime.timedelta(days = i)\n",
        "  data_amboar = [gengamma.rvs( func_sh(t)(Rt_salan(t)), 1, loc = 0, scale = func_sc(t)(1)) for j in range(1000)]\n",
        "  daty_lst.append(formatf_date(t))\n",
        "  data_Rt_lst.append(data_amboar)"
      ],
      "execution_count": 75,
      "outputs": []
    },
    {
      "cell_type": "code",
      "metadata": {
        "id": "xWCmVJfNVEmV",
        "colab_type": "code",
        "colab": {
          "base_uri": "https://localhost:8080/",
          "height": 769
        },
        "outputId": "13441a87-1c68-4e26-c22a-482759ba5a29"
      },
      "source": [
        "# Plotting everything except the first 7 days\n",
        "\n",
        "\n",
        "fig, ax = plt.subplots(figsize=(12, 12))\n",
        "\n",
        "sns.boxplot(daty_lst, data_Rt_lst, color='white', width=0.2, showfliers=False, ax=ax)\n",
        "ax.axhline(y=1, color='b', linestyle='dashed', label =\"R = 1\")\n",
        "\n",
        "ax.set(xlabel ='Andro', ylabel = \"R hoan'i Madagasikara\")\n",
        "ax.legend(loc= 'best')\n",
        "\n",
        "\n",
        "plt.savefig(path_to_save+'Rt84_mdg.eps')\n",
        "plt.savefig(path_to_save+'Rt84_mdg.png')\n",
        "\n",
        "plt.show()"
      ],
      "execution_count": 76,
      "outputs": [
        {
          "output_type": "stream",
          "text": [
            "The PostScript backend does not support transparency; partially transparent artists will be rendered opaque.\n",
            "The PostScript backend does not support transparency; partially transparent artists will be rendered opaque.\n"
          ],
          "name": "stderr"
        },
        {
          "output_type": "display_data",
          "data": {
            "image/png": "[encoded data removed]",
            "text/plain": [
              "<Figure size 864x864 with 1 Axes>"
            ]
          },
          "metadata": {
            "tags": [],
            "needs_background": "light"
          }
        }
      ]
    },
    {
      "cell_type": "code",
      "metadata": {
        "id": "hDGstuvevzq8",
        "colab_type": "code",
        "colab": {
          "base_uri": "https://localhost:8080/",
          "height": 661
        },
        "outputId": "a39b82a5-791a-4c9b-ee63-ccf1f1251252"
      },
      "source": [
        "# Plotting the last 10 days\n",
        "\n",
        "\n",
        "fig, ax = plt.subplots(figsize=(10, 10))\n",
        "\n",
        "sns.boxplot(daty_lst[len(daty_lst)-15:len(daty_lst)], data_Rt_lst[len(daty_lst)-15:len(daty_lst)], color='white', width=0.2, showfliers=False, ax=ax)\n",
        "ax.axhline(y=1, color='b', linestyle='dashed', label =\"R = 1\")\n",
        "\n",
        "ax.set(xlabel ='Andro', ylabel = \"R hoan'Madagasikara\")\n",
        "ax.legend(loc= 'best')\n",
        "\n",
        "plt.savefig(path_to_save+'Rt8410_mdg.png')\n",
        "plt.savefig(path_to_save+'Rt8410_mdg.eps')\n",
        "plt.show()"
      ],
      "execution_count": 77,
      "outputs": [
        {
          "output_type": "stream",
          "text": [
            "The PostScript backend does not support transparency; partially transparent artists will be rendered opaque.\n",
            "The PostScript backend does not support transparency; partially transparent artists will be rendered opaque.\n"
          ],
          "name": "stderr"
        },
        {
          "output_type": "display_data",
          "data": {
            "image/png": "[encoded data removed]",
            "text/plain": [
              "<Figure size 720x720 with 1 Axes>"
            ]
          },
          "metadata": {
            "tags": [],
            "needs_background": "light"
          }
        }
      ]
    },
    {
      "cell_type": "markdown",
      "metadata": {
        "id": "wNMgOs2BRPpn",
        "colab_type": "text"
      },
      "source": [
        "# Jeritodika ny herinandro"
      ]
    },
    {
      "cell_type": "code",
      "metadata": {
        "id": "tWu7Rmccu6QX",
        "colab_type": "code",
        "colab": {}
      },
      "source": [
        "daty_ambaj = datetime.date(2020,5,1)\n",
        "daty_amboj = datetime.date(2020,5,4)\n",
        "\n",
        "daty_data_mifarj = datetime.date(2020,4,30)"
      ],
      "execution_count": 219,
      "outputs": []
    },
    {
      "cell_type": "code",
      "metadata": {
        "id": "t2ewk96Eu_F3",
        "colab_type": "code",
        "colab": {
          "base_uri": "https://localhost:8080/",
          "height": 121
        },
        "outputId": "fb589465-c4e2-4a3e-f0f8-87c7c785344c"
      },
      "source": [
        "daty_oh1 = daty_ambaj\n",
        "\n",
        "print(\"Tombana ambany: R \",daty_oh1,':',  Rt_salan(daty_oh1))\n",
        "print(\"75%-kartily R :\",':', perc75(daty_oh1))\n",
        "print(\"25%-kartily R :\", perc25(daty_oh1))\n",
        "\n",
        "daty_oh2 = daty_amboj\n",
        "\n",
        "print(\"Tombana ambony: R\", daty_oh2,':', Rt_salan(daty_oh2))\n",
        "print(\"75%-kartily R :\",':', perc75(daty_oh2))\n",
        "print(\"25%-kartily R :\", perc25(daty_oh2))\n"
      ],
      "execution_count": 220,
      "outputs": [
        {
          "output_type": "stream",
          "text": [
            "Tombana ambany: R  2020-05-01 : 2.7312474939987936\n",
            "75%-kartily R : : 3.3703385259764778\n",
            "25%-kartily R : 1.9343310969197678\n",
            "Tombana ambony: R 2020-05-04 : 4.921477974792547\n",
            "75%-kartily R : : 5.68202258250682\n",
            "25%-kartily R : 4.051117638335308\n"
          ],
          "name": "stdout"
        }
      ]
    },
    {
      "cell_type": "markdown",
      "metadata": {
        "id": "P8He_8dCvFmt",
        "colab_type": "text"
      },
      "source": [
        "Ambany"
      ]
    },
    {
      "cell_type": "code",
      "metadata": {
        "id": "h8q9uzQWvCBw",
        "colab_type": "code",
        "colab": {}
      },
      "source": [
        "# Computing Ivao(daty_mifarj + i) for i in range(1,8)\n",
        "\n",
        "daty_m1j = daty_data_mifarj + datetime.timedelta(days = 1)\n",
        "\n",
        "Rt_amba_hitsiny = 0\n",
        "Rt_vinaj = Rt_salan(daty_ambaj) + Rt_amba_hitsiny\n",
        "\n",
        "Iv = int(Rt_vinaj*lsi(daty_m1j))\n",
        "\n",
        "dIvao.loc[pd.to_datetime(daty_m1j)] =[Iv]\n",
        "\n",
        "for i in range(1,8):\n",
        " tj = daty_m1j + datetime.timedelta(days = i)\n",
        " Ivv = int(Rt_vinaj*lsi(tj))\n",
        " dIvao.loc[pd.to_datetime(tj)] = [Ivv]"
      ],
      "execution_count": 221,
      "outputs": []
    },
    {
      "cell_type": "code",
      "metadata": {
        "id": "HTKwqjfmvNkO",
        "colab_type": "code",
        "colab": {}
      },
      "source": [
        "# Sampling\n",
        "\n",
        "np.random.seed(12345)\n",
        "\n",
        "formatf_date = lambda date_py: '{}/{}'.format(date_py.day, str(date_py.month)[0:1])\n",
        "\n",
        "daty_j_lst = []\n",
        "\n",
        "data_baj = []\n",
        "\n",
        "\n",
        "for i in range(1,8):\n",
        "  t = daty_data_mifarj + datetime.timedelta(days = i)\n",
        "  daty = formatf_date(t)\n",
        "  datyy = format_date(t)\n",
        "  data_amboar = [ poisson.rvs(dIvao.loc[datyy]) for j in range(600)]\n",
        "  daty_j_lst.append(daty)\n",
        "  data_baj.append(data_amboar)\n"
      ],
      "execution_count": 222,
      "outputs": []
    },
    {
      "cell_type": "markdown",
      "metadata": {
        "id": "h-KtRiCpvaFr",
        "colab_type": "text"
      },
      "source": [
        "Ambony"
      ]
    },
    {
      "cell_type": "code",
      "metadata": {
        "id": "fts2haQzvTr2",
        "colab_type": "code",
        "colab": {}
      },
      "source": [
        "# Computing Ivao(daty_mifarj + i) for i in range(1,8)\n",
        "\n",
        "daty_m1j = daty_data_mifarj + datetime.timedelta(days = 1)\n",
        "\n",
        "# Rt_ambo_hitsiny = (Rt_salan(daty_ambaj)- Rt_salan(daty_amboj))/2\n",
        "\n",
        "Rt_ambo_hitsiny = 0\n",
        "Rt_vinaj = Rt_salan(daty_amboj) + Rt_ambo_hitsiny\n",
        "\n",
        "Iv = int(Rt_vinaj*lsi(daty_m1j))\n",
        "\n",
        "dIvao.loc[pd.to_datetime(daty_m1j)] =[Iv]\n",
        "\n",
        "for i in range(1,8):\n",
        " tj = daty_m1j + datetime.timedelta(days = i)\n",
        " Ivv = int(Rt_vinaj*lsi(tj))\n",
        " dIvao.loc[pd.to_datetime(tj)] = [Ivv]"
      ],
      "execution_count": 224,
      "outputs": []
    },
    {
      "cell_type": "code",
      "metadata": {
        "id": "wxysGFoEvcIO",
        "colab_type": "code",
        "colab": {}
      },
      "source": [
        "# Sampling \n",
        "\n",
        "np.random.seed(12345)\n",
        "\n",
        "formatf_date = lambda date_py: '{}/{}'.format(date_py.day, str(date_py.month)[0:1])\n",
        "\n",
        "daty_j_lst = []\n",
        "\n",
        "data_boj = []\n",
        "\n",
        "\n",
        "for i in range(1,8):\n",
        "  t = daty_data_mifarj + datetime.timedelta(days = i)\n",
        "  daty = formatf_date(t)\n",
        "  datyy = format_date(t)\n",
        "  data_amboar = [ poisson.rvs(dIvao.loc[datyy]) for j in range(600)]\n",
        "  daty_j_lst.append(daty)\n",
        "  data_boj.append(data_amboar)\n"
      ],
      "execution_count": 225,
      "outputs": []
    },
    {
      "cell_type": "markdown",
      "metadata": {
        "id": "XDQzLbjBvhq5",
        "colab_type": "text"
      },
      "source": [
        "Sary"
      ]
    },
    {
      "cell_type": "code",
      "metadata": {
        "id": "kY3QqP0zvhAu",
        "colab_type": "code",
        "colab": {
          "base_uri": "https://localhost:8080/",
          "height": 389
        },
        "outputId": "92629d1f-f3c4-4aa3-f23c-1eb5088870c2"
      },
      "source": [
        "# Plotting the evaluation of the last 7 days\n",
        "\n",
        "fig, ax = plt.subplots(figsize=(10,5))\n",
        "box = sns.boxplot(daty_j_lst, data_baj, color='white', width=0.1, showfliers=False, ax=ax)\n",
        "box = sns.boxplot(daty_j_lst, data_boj, color='grey', width=0.1, showfliers=False, ax=ax)\n",
        "ax.plot(daty_j_lst, dIvao.loc[pd.to_datetime(daty_m1j):pd.to_datetime(daty_m1j + datetime.timedelta(days = 6))], marker =\"o\",ls = 'None', color='blue',label=\"Voa vaovao voatily\")\n",
        "ax.set(xlabel = 'Andro teo aloha', ylabel=\"Tombana voa vaovao\")\n",
        "\n",
        "plt.legend(loc= 'best')\n",
        "\n",
        "plt.savefig(path_to_save+'Iv15j_mdg.eps')\n",
        "plt.savefig(path_to_save+'Iv15j_mdg.png')\n",
        "\n",
        "plt.show()"
      ],
      "execution_count": 227,
      "outputs": [
        {
          "output_type": "stream",
          "text": [
            "The PostScript backend does not support transparency; partially transparent artists will be rendered opaque.\n",
            "The PostScript backend does not support transparency; partially transparent artists will be rendered opaque.\n"
          ],
          "name": "stderr"
        },
        {
          "output_type": "display_data",
          "data": {
            "image/png": "[encoded data removed]",
            "text/plain": [
              "<Figure size 720x360 with 1 Axes>"
            ]
          },
          "metadata": {
            "tags": [],
            "needs_background": "light"
          }
        }
      ]
    },
    {
      "cell_type": "markdown",
      "metadata": {
        "id": "ZqeJNOCoBksa",
        "colab_type": "text"
      },
      "source": [
        "## Andro 7 manaraka"
      ]
    },
    {
      "cell_type": "code",
      "metadata": {
        "id": "OdO2UkPDvqT4",
        "colab_type": "code",
        "colab": {}
      },
      "source": [
        "# Choice of R(t) for the forecasting\n",
        "\n",
        "# Dates for which R(t) is minimum and maximum during the last 10 days\n",
        "\n",
        "daty_amba = datetime.date(2020,7,31)\n",
        "daty_ambo = datetime.date(2020,7,28)"
      ],
      "execution_count": null,
      "outputs": []
    },
    {
      "cell_type": "code",
      "metadata": {
        "id": "oor4EWeqvs6u",
        "colab_type": "code",
        "colab": {}
      },
      "source": [
        "# Computing Ivao(daty_mifar + i) for i in range(1,8)\n",
        "\n",
        "daty_m1 = daty_data_mifar + datetime.timedelta(days = 1)\n",
        "\n",
        "Iv = int(Rt_salan(daty_amba)*lsi(daty_m1))\n",
        "\n",
        "dIvao.loc[pd.to_datetime(daty_m1)] =[Iv]\n",
        "\n",
        "for i in range(1,8):\n",
        " errt = daty_m1 + datetime.timedelta(days = i)\n",
        " Ivv = int(Rt_salan(daty_amba)*lsi(errt))\n",
        " dIvao.loc[pd.to_datetime(errt)] =[Ivv]\n"
      ],
      "execution_count": null,
      "outputs": []
    },
    {
      "cell_type": "markdown",
      "metadata": {
        "id": "qMlBra9CocMd",
        "colab_type": "text"
      },
      "source": [
        "## Vinavina hafa"
      ]
    },
    {
      "cell_type": "code",
      "metadata": {
        "id": "Km8Na_cDowO3",
        "colab_type": "code",
        "colab": {}
      },
      "source": [
        "# Choice of R(t) for the forecasting\n",
        "\n",
        "# Dates for which R(t) is minimum and maximum during the last 10 days\n",
        "\n",
        "daty_amba = datetime.date(2020,6,15)\n",
        "daty_ambo = datetime.date(2020,6,11)\n"
      ],
      "execution_count": null,
      "outputs": []
    },
    {
      "cell_type": "markdown",
      "metadata": {
        "id": "1FWgxVvl3PxZ",
        "colab_type": "text"
      },
      "source": [
        "### Hafa ambany"
      ]
    },
    {
      "cell_type": "code",
      "metadata": {
        "id": "-W25cJ1svxWp",
        "colab_type": "code",
        "colab": {}
      },
      "source": [
        "# Computing Ivao(daty_mifar + i) for i in range(1,8)\n",
        "\n",
        "daty_m1 = daty_data_mifar + datetime.timedelta(days = 1)\n",
        "\n",
        "Iv = int(Rt_salan(daty_amba)*lsi(daty_m1))\n",
        "\n",
        "dIvao.loc[pd.to_datetime(daty_m1)] =[Iv]\n",
        "\n",
        "for i in range(1,200):\n",
        " errt = daty_m1 + datetime.timedelta(days = i)\n",
        " Ivv = int(Rt_salan(daty_amba)*lsi(errt))\n",
        " dIvao.loc[pd.to_datetime(errt)] =[Ivv]\n"
      ],
      "execution_count": null,
      "outputs": []
    },
    {
      "cell_type": "code",
      "metadata": {
        "id": "uHAkj0w8o1Uf",
        "colab_type": "code",
        "colab": {}
      },
      "source": [
        "# Sampling\n",
        "\n",
        "np.random.seed(12345)\n",
        "\n",
        "formatf_date = lambda date_py: '{}/{}'.format(date_py.day, str(date_py.month))\n",
        "\n",
        "daty_hoav_lst = []\n",
        "\n",
        "data_amba_hoav = []\n",
        "\n",
        "Ivv_dat = []\n",
        "\n",
        "for i in range(1,200):\n",
        "  t = daty_data_mifar + datetime.timedelta(days = i)\n",
        "  daty = formatf_date(t)\n",
        "  datyy = format_date(t)\n",
        "  data_amboar = [ poisson.rvs(dIvao.loc[datyy]) for j in range(600)]\n",
        "  daty_hoav_lst.append(daty)\n",
        "  data_amba_hoav.append(data_amboar)"
      ],
      "execution_count": null,
      "outputs": []
    },
    {
      "cell_type": "code",
      "metadata": {
        "id": "UhBhf1SZp2Og",
        "colab_type": "code",
        "colab": {
          "base_uri": "https://localhost:8080/",
          "height": 173
        },
        "outputId": "0f981e7f-4264-4209-c8e6-a0377bbf92b1"
      },
      "source": [
        "print('Vinavina hafa ambany')\n",
        "\n",
        "daty_oh = datetime.date(2020,9,13) \n",
        "\n",
        "Ireh_mifar = 6089\n",
        "\n",
        "print(\"Notombanana avy amin'ny R(\", daty_amba, ')', Rt_salan(daty_amba)) \n",
        "print(\"Vinavina R hoan'ny\", daty_oh, ':', Rt_salan(daty_oh))\n",
        "print(\"Vinavina kartily @ 75% R hoan'ny\",daty_oh, ':', perc75(daty_oh))\n",
        "print(\"Vinavina kartily @ 25% R hoan'ny\", daty_oh, ':', perc25(daty_oh))\n",
        "print(\"Vinavina isan'ny voa vaovao hoan'ny\", daty_oh, ':', dIvao['Voatomb'].loc[format_date(daty_oh)])\n",
        "\n",
        "print(\"Vinavina kartily @ 75% R hoan'ny\", daty_oh, ':', poisson.ppf(0.95, dIvao.loc[format_date(daty_oh)]))\n",
        "print(\"Vinavina kartily @ 25% R hoan'ny\", daty_oh, ':', poisson.ppf(0.25, dIvao.loc[format_date(daty_oh)]))\n",
        "\n",
        "print(\"Isan'ny voa rehetra hatr@\", daty_oh, ':', Ireh_mifar + Ireh(daty_oh,(daty_oh - daty_data_mifar).days))"
      ],
      "execution_count": null,
      "outputs": [
        {
          "output_type": "stream",
          "text": [
            "Vinavina hafa ambany\n",
            "Notombanana avy amin'ny R( 2020-06-15 ) 0.543510225067496\n",
            "Vinavina R hoan'ny 2020-09-13 : 0.2829119815637407\n",
            "Vinavina kartily @ 75% R hoan'ny 2020-09-13 : 0.39006751921805327\n",
            "Vinavina kartily @ 25% R hoan'ny 2020-09-13 : 0.10187573291040768\n",
            "Vinavina isan'ny voa vaovao hoan'ny 2020-09-13 : 0.0\n",
            "Vinavina kartily @ 75% R hoan'ny 2020-09-13 : [0.]\n",
            "Vinavina kartily @ 25% R hoan'ny 2020-09-13 : [0.]\n",
            "Isan'ny voa rehetra hatr@ 2020-09-13 : 8320.0\n"
          ],
          "name": "stdout"
        }
      ]
    },
    {
      "cell_type": "markdown",
      "metadata": {
        "id": "OTLM-YmW3VV_",
        "colab_type": "text"
      },
      "source": [
        "### Hafa ambony"
      ]
    },
    {
      "cell_type": "code",
      "metadata": {
        "id": "RTzyK7nW3MwD",
        "colab_type": "code",
        "colab": {}
      },
      "source": [
        "# Computing Ivao(daty_mifar + i) for i in range(1,8)\n",
        "\n",
        "daty_m1 = daty_data_mifar + datetime.timedelta(days = 1)\n",
        "\n",
        "Iv = int(Rt_salan(daty_ambo)*lsi(daty_m1))\n",
        "\n",
        "dIvao.loc[pd.to_datetime(daty_m1)] =[Iv]\n",
        "\n",
        "for i in range(1,200):\n",
        " errt = daty_m1 + datetime.timedelta(days = i)\n",
        " Ivv = int(Rt_salan(daty_ambo)*lsi(errt))\n",
        " dIvao.loc[pd.to_datetime(errt)] =[Ivv]\n"
      ],
      "execution_count": null,
      "outputs": []
    },
    {
      "cell_type": "code",
      "metadata": {
        "id": "0ETaPvGY4WFe",
        "colab_type": "code",
        "colab": {}
      },
      "source": [
        "# Sampling\n",
        "\n",
        "np.random.seed(12345)\n",
        "\n",
        "formatf_date = lambda date_py: '{}/{}'.format(date_py.day, str(date_py.month))\n",
        "\n",
        "daty_hoav_lst = []\n",
        "\n",
        "data_ambo_hoav = []\n",
        "\n",
        "Ivv_dat = []\n",
        "\n",
        "for i in range(1,200):\n",
        "  t = daty_data_mifar + datetime.timedelta(days = i)\n",
        "  daty = formatf_date(t)\n",
        "  datyy = format_date(t)\n",
        "  data_amboar = [ poisson.rvs(dIvao.loc[datyy]) for j in range(600)]\n",
        "  daty_hoav_lst.append(daty)\n",
        "  data_ambo_hoav.append(data_amboar)"
      ],
      "execution_count": null,
      "outputs": []
    },
    {
      "cell_type": "code",
      "metadata": {
        "id": "zw7L8y9w4ZV9",
        "colab_type": "code",
        "colab": {
          "base_uri": "https://localhost:8080/",
          "height": 173
        },
        "outputId": "8612f298-985f-4835-b9c0-afd3a2465546"
      },
      "source": [
        "print('Vinavina ambony')\n",
        "\n",
        "daty_oh = datetime.date(2020,9,16)\n",
        "\n",
        "print(\"Notombanana avy amin'ny R(\", daty_ambo, ')', Rt_salan(daty_ambo)) \n",
        "print(\"Vinavina R hoan'ny\", daty_oh, ':', Rt_salan(daty_oh))\n",
        "print(\"Vinavina kartily @ 75% R hoan'ny\",daty_oh, ':', perc75(daty_oh))\n",
        "print(\"Vinavina kartily @ 25% R hoan'ny\", daty_oh, ':', perc25(daty_oh))\n",
        "print(\"Vinavina isan'ny voa vaovao hoan'ny\", daty_oh, ':', dIvao['Voatomb'].loc[format_date(daty_oh)])\n",
        "\n",
        "print(\"Vinavina kartily @ 75% R hoan'ny\", daty_oh, ':', poisson.ppf(0.95, dIvao.loc[format_date(daty_oh)]))\n",
        "print(\"Vinavina kartily @ 25% R hoan'ny\", daty_oh, ':', poisson.ppf(0.25, dIvao.loc[format_date(daty_oh)]))\n",
        "\n",
        "print(\"Isan'ny voa rehetra hatr@\", daty_oh, ':', Ireh_mifar + Ireh(daty_oh,(daty_oh - daty_data_mifar).days))"
      ],
      "execution_count": null,
      "outputs": [
        {
          "output_type": "stream",
          "text": [
            "Vinavina ambony\n",
            "Notombanana avy amin'ny R( 2020-06-11 ) 0.8446466465307488\n",
            "Vinavina R hoan'ny 2020-09-16 : 0.8373441188029643\n",
            "Vinavina kartily @ 75% R hoan'ny 2020-09-16 : 0.8897603570083598\n",
            "Vinavina kartily @ 25% R hoan'ny 2020-09-16 : 0.7821597886958924\n",
            "Vinavina isan'ny voa vaovao hoan'ny 2020-09-16 : 54.0\n",
            "Vinavina kartily @ 75% R hoan'ny 2020-09-16 : [66.]\n",
            "Vinavina kartily @ 25% R hoan'ny 2020-09-16 : [49.]\n",
            "Isan'ny voa rehetra hatr@ 2020-09-16 : 14280.0\n"
          ],
          "name": "stdout"
        }
      ]
    },
    {
      "cell_type": "markdown",
      "metadata": {
        "id": "0YLgznnw4cjz",
        "colab_type": "text"
      },
      "source": [
        "### Sary"
      ]
    },
    {
      "cell_type": "code",
      "metadata": {
        "id": "iSLMx6w04eU5",
        "colab_type": "code",
        "colab": {
          "base_uri": "https://localhost:8080/",
          "height": 349
        },
        "outputId": "73cbd5cc-32d9-4195-a954-902be875cf4b"
      },
      "source": [
        "# Plotting boundaries for the next 7 days\n",
        "\n",
        "fig, ax = plt.subplots(figsize=(30,15))\n",
        "box = sns.boxplot(daty_hoav_lst, data_amba_hoav, color='white', width=0.1, showfliers=False, ax=ax)\n",
        "box = sns.boxplot(daty_hoav_lst, data_ambo_hoav, color='grey', width=0.1, showfliers=False, ax=ax)\n",
        "\n",
        "ax.set_xlabel('Andro any aoriana')\n",
        "ax.set_ylabel(\"Vinavina isan'ny voa vaovao\")\n",
        "\n",
        "plt.savefig(path_to_save+'Iv167ahoav_mdg.eps')\n",
        "plt.savefig(path_to_save+'Iv167ahoav_mdg.png')\n",
        "\n",
        "plt.show()"
      ],
      "execution_count": null,
      "outputs": [
        {
          "output_type": "display_data",
          "data": {
            "image/png": "[encoded data removed]",
            "text/plain": [
              "<Figure size 2160x1080 with 1 Axes>"
            ]
          },
          "metadata": {
            "tags": [],
            "needs_background": "light"
          }
        }
      ]
    },
    {
      "cell_type": "code",
      "metadata": {
        "id": "2uN3no3MBnE9",
        "colab_type": "code",
        "colab": {
          "base_uri": "https://localhost:8080/",
          "height": 275
        },
        "outputId": "c96c7685-65cb-45d0-b164-9d7c5bca1b96"
      },
      "source": [
        "# Plotting boundaries for the next 7 days\n",
        "\n",
        "fig, ax = plt.subplots(figsize=(14,5))\n",
        "box = sns.boxplot(daty_hoav_lst[143:171], data_amba_hoav[143:171], color='white', width=0.1, showfliers=False, ax=ax)\n",
        "box = sns.boxplot(daty_hoav_lst[143:171], data_ambo_hoav[143:171], color='grey', width=0.1, showfliers=False, ax=ax)\n",
        "\n",
        "ax.set_xlabel('Andro any aoriana')\n",
        "ax.set_ylabel(\"Vinavina isan'ny voa vaovao\")\n",
        "\n",
        "plt.savefig(path_to_save+'Iv167a31hoav_mdg.eps')\n",
        "plt.savefig(path_to_save+'Iv167a31hoav_mdg.png')\n",
        "\n",
        "plt.show()"
      ],
      "execution_count": null,
      "outputs": [
        {
          "output_type": "display_data",
          "data": {
            "image/png": "[encoded data removed]",
            "text/plain": [
              "<Figure size 1008x360 with 1 Axes>"
            ]
          },
          "metadata": {
            "tags": [],
            "needs_background": "light"
          }
        }
      ]
    }
  ]
}