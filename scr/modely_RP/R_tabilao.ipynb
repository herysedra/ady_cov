{
  "nbformat": 4,
  "nbformat_minor": 0,
  "metadata": {
    "colab": {
      "name": "R_tabilao.ipynb",
      "provenance": [],
      "authorship_tag": "ABX9TyNu8PK2tlXwAv0rClP/T98I",
      "include_colab_link": true
    },
    "kernelspec": {
      "name": "python3",
      "display_name": "Python 3"
    }
  },
  "cells": [
    {
      "cell_type": "markdown",
      "metadata": {
        "id": "view-in-github",
        "colab_type": "text"
      },
      "source": [
        "<a href=\"https://colab.research.google.com/github/herysedra/ady_cov/blob/master/scr/modely_RP/R_tabilao.ipynb\" target=\"_parent\"><img src=\"https://colab.research.google.com/assets/colab-badge.svg\" alt=\"Open In Colab\"/></a>"
      ]
    },
    {
      "cell_type": "code",
      "metadata": {
        "id": "mTm94BlPJ3Ht",
        "colab_type": "code",
        "outputId": "2daa2966-bd54-4404-a308-48ffdf4c0ef9",
        "colab": {
          "base_uri": "https://localhost:8080/",
          "height": 124
        }
      },
      "source": [
        "from google.colab import drive\n",
        "drive.mount('/content/drive')"
      ],
      "execution_count": 0,
      "outputs": [
        {
          "output_type": "stream",
          "text": [
            "Go to this URL in a browser: https://accounts.google.com/o/oauth2/auth?client_id=947318989803-6bn6qk8qdgf4n4g3pfee6491hc0brc4i.apps.googleusercontent.com&redirect_uri=urn%3aietf%3awg%3aoauth%3a2.0%3aoob&response_type=code&scope=email%20https%3a%2f%2fwww.googleapis.com%2fauth%2fdocs.test%20https%3a%2f%2fwww.googleapis.com%2fauth%2fdrive%20https%3a%2f%2fwww.googleapis.com%2fauth%2fdrive.photos.readonly%20https%3a%2f%2fwww.googleapis.com%2fauth%2fpeopleapi.readonly\n",
            "\n",
            "Enter your authorization code:\n",
            "··········\n",
            "Mounted at /content/drive\n"
          ],
          "name": "stdout"
        }
      ]
    },
    {
      "cell_type": "code",
      "metadata": {
        "id": "nw40APzqKCGS",
        "colab_type": "code",
        "outputId": "0b8be6a5-baca-4254-81fd-18fd26130f8a",
        "colab": {
          "base_uri": "https://localhost:8080/",
          "height": 72
        }
      },
      "source": [
        "import pandas as pd\n",
        "import numpy as np\n",
        "import matplotlib.pyplot as plt\n",
        "import scipy.stats\n",
        "import matplotlib\n",
        "import pickle\n",
        "\n",
        "import datetime\n",
        "import time\n",
        "from datetime import date\n",
        "\n",
        "import matplotlib.dates as mdates\n",
        "from matplotlib.dates import DateFormatter\n",
        "import seaborn as sns\n",
        "\n",
        "from numpy import log,exp\n",
        "from numpy.random import multinomial\n",
        "from scipy.stats import uniform, gamma, gengamma, poisson, nbinom, expon\n",
        "from scipy.integrate import quad\n",
        "\n",
        "tilyvoa = pd.read_csv(\"/content/drive/My Drive/data/tilyvoa.csv\")\n",
        "\n",
        "mdg_databe = pd.read_csv(\"/content/drive/My Drive/data/databe mdg.csv\")\n",
        "\n",
        "#tilyvoa.set_index('Daty', inplace=True)\n",
        "\n",
        "tilyvoafar = tilyvoa.groupby('Faritra')\n",
        "tilyvoamdg = tilyvoafar.get_group('Madagasikara')\n",
        "tilyvoamdg.set_index('Daty', inplace=True)\n",
        "\n",
        "tilyvoamdg.index = pd.to_datetime(tilyvoamdg.index)\n",
        "\n",
        "tilyvoatana = tilyvoafar.get_group('Antananarivo')\n",
        "tilyvoatana.set_index('Daty', inplace=True)\n",
        "\n",
        "tilyvoatana.index = pd.to_datetime(tilyvoatana.index)\n",
        "\n",
        "tilyvoatoa = tilyvoafar.get_group('Toamasina')\n",
        "tilyvoatoa.set_index('Daty', inplace=True)\n",
        "\n",
        "tilyvoatoa.index = pd.to_datetime(tilyvoatoa.index)\n",
        "\n",
        "\n",
        "path_to_save = '/content/drive/My Drive/sary/'\n",
        "path_data = '/content/drive/My Drive/data/'"
      ],
      "execution_count": 0,
      "outputs": [
        {
          "output_type": "stream",
          "text": [
            "/usr/local/lib/python3.6/dist-packages/statsmodels/tools/_testing.py:19: FutureWarning: pandas.util.testing is deprecated. Use the functions in the public API at pandas.testing instead.\n",
            "  import pandas.util.testing as tm\n"
          ],
          "name": "stderr"
        }
      ]
    },
    {
      "cell_type": "code",
      "metadata": {
        "id": "7qbUH3RDKLZQ",
        "colab_type": "code",
        "colab": {}
      },
      "source": [
        "# Voa vaovao (observed incidence)\n",
        "Ivao = tilyvoamdg['Voatomb']\n",
        "\n",
        "dIvao = pd.DataFrame(data =Ivao)\n",
        "\n",
        "dIvao['Datint'] = range(len(Ivao))\n",
        "\n",
        "\n",
        "# Hoan'ny taha sorisoritry ny fifindrana (infectioness profile distribution)\n",
        "\n",
        "daty_data_manom = datetime.date(2020,5,1)\n",
        "daty_data_mifar = datetime.date(2020,6,1)\n",
        "\n",
        "datyt = daty_data_mifar - datetime.timedelta(days = 1)\n",
        "\n",
        "format_date = lambda date_py: '{}-{}-{}'.format(date_py.year, date_py.month, date_py.day)\n",
        "datyf_data_manom = format_date(daty_data_manom)\n",
        "datyf_data_mifar = format_date(daty_data_mifar)\n",
        "\n",
        "# Discretization of the serial interval distribution\n",
        "\n",
        "#Tombana mialoha (prior distributions)\n",
        "si_sh = 1/(0.62**2) # Report 13\n",
        "si_sc = 6.5/si_sh\n",
        "\n",
        "def discr_si(t):\n",
        "  if t == 0:\n",
        "    discrsi = 0\n",
        "  elif t == 1:\n",
        "    discrsi = gengamma.cdf(3/2, si_sh, 1, loc = 0, scale = si_sc)\n",
        "  else:\n",
        "    discrsi = gengamma.cdf(t+1/2, si_sh, 1, loc = 0, scale = si_sc) - gengamma.cdf(t-1/2, si_sh, 1, loc = 0, scale = si_sc)\n",
        "  return discrsi\n",
        "\n",
        "#discr_si1 = gengamma.cdf(3/2, si_sh, 1, loc = 0, scale = si_sc)\n",
        "\n",
        "# 1 The total incidence over a generic window (t-k+1,t)\n",
        "# Ireh(t,k) = sum(i = 0 to k-1) Ivao(t - i))\n",
        "\n",
        "def Ireh(t,k):\n",
        "  Irehv = 0\n",
        "  for i in range(k):\n",
        "    Irehv = Irehv + dIvao['Voatomb'].loc[format_date(t - datetime.timedelta(days = i))]\n",
        "  return Irehv\n",
        "\n",
        "# 2 Tool to compute the total infectiousness over a generic window (t-k+1,t)\n",
        "# Isi(t,k) = sum(i=0 to k-1) Ivao(t - i)*discr_si(i)\n",
        "\n",
        "# The definition of Isi(t,k) does not include the term Ivao(t) for i = 0 (because discr_si(0) =0) \n",
        "# but include the last term Ivao(t - k + 1)*discr_si(k - 1) for i = k-1. \n",
        "\n",
        "def Isi(t,k):\n",
        "  Ivaosi = 0\n",
        "  for i in range(k):\n",
        "    Ivaosi = Ivaosi + dIvao['Voatomb'].loc[format_date(t - datetime.timedelta(days = i))]*discr_si(i)\n",
        "  return Ivaosi\n",
        "\n",
        "# The total infectiousness before t\n",
        "\n",
        "# lsi(t) := um(i=0 to t-1) Ivao(t - i)*discr_si(i)\n",
        "\n",
        "def lsi(t):\n",
        "  return Isi(t, (t - daty_data_manom).days +1)\n",
        "\n",
        "  # for checking, take for example t = daty_data_manom + datetime.timedelta(days = 3)\n",
        "\n",
        "# 3 The sum of total infectiousness before t over a generic window (t-k+1,t)\n",
        "\n",
        "def tlsi(t,k):\n",
        "  tlsi = 0\n",
        "  for i in range(k):\n",
        "    tlsi = tlsi + lsi(t - datetime.timedelta(days = k))\n",
        "  return tlsi\n",
        "\n",
        "# 4 The shape parameters of the posterior predictive negative binomial of I(t+1)\n",
        "\n",
        "# pnb(t,k) = Isi(t+1, t - daty_data_manom + 2)*(1/si_sc + Isi(t,k))/(1 + si(t+1, t - daty_data_manom + 2)*(1/si_sc + Isi(t,k)))\n",
        "\n",
        "def pnb(t,k):\n",
        "  return lsi(t+datetime.timedelta(days = 1))*(1/si_sc + tlsi(t,k))/(1 + lsi(t+datetime.timedelta(days = 1))*(1/si_sc + tlsi(t,k)))\n",
        "\n",
        "# pnb(t,k) dia mikajy ny taha herjika hoan'ny NB hoan'ny I(t+1).\n",
        "\n",
        "# 5 Use the pmf of the posterior predictive negative binomial to compute\n",
        "# each additive contribution at time s then for-loop for s in the time interval\n",
        "\n",
        "def lpr(t,k):\n",
        "  return -np.log(nbinom.pmf(dIvao['Voatomb'].loc[format_date(t + datetime.timedelta(days = 1))], si_sh + Ireh(t,k), pnb(t,k)))\n"
      ],
      "execution_count": 0,
      "outputs": []
    },
    {
      "cell_type": "code",
      "metadata": {
        "id": "v5Q0nJQpKheR",
        "colab_type": "code",
        "outputId": "2dc57348-0567-43b4-f65f-cd636bea5481",
        "colab": {
          "base_uri": "https://localhost:8080/",
          "height": 141
        }
      },
      "source": [
        "# APE9_part1 \n",
        "\n",
        "# for i in range(8):\n",
        "# t = t_mif - i - 1\n",
        "# k = 9\n",
        "\n",
        "APEt91 = []\n",
        "Prt91 = []\n",
        "\n",
        "APE91 = 0\n",
        "\n",
        "for i in range(round(((daty_data_mifar - daty_data_manom).days + 1)/2) - 1):\n",
        "  t = daty_data_mifar - datetime.timedelta(days = i+1) \n",
        "  k = round(((daty_data_mifar - daty_data_manom).days + 1)/2)\n",
        "  APE91 = APE91 + lpr(t,k)\n",
        "  APEt91.append((lpr(t,k),t))\n",
        "  Prt91.append(expon.pdf(lpr(t,k)))\n",
        "\n",
        "print('For k = 9, APE91 =', APE91)\n",
        "print('APEt91 =', APEt91)\n",
        "print('Prt91 =', Prt91)\n",
        "\n",
        "# APE9_part2 \n",
        "\n",
        "# for i in range(9):\n",
        "# t = t_mif - 1 - 9 + 1 - i\n",
        "# k = t_mif - t - 2*i\n",
        "APEt92 = []\n",
        "Prt92 = []\n",
        "\n",
        "APE92 = 0\n",
        "for i in range(round(((daty_data_mifar - daty_data_manom).days + 1)/2)-1):\n",
        "  t = daty_data_mifar - datetime.timedelta(days = 1) - datetime.timedelta(days = ((daty_data_mifar - daty_data_manom).days + 1)/2) + datetime.timedelta(days = 1) - datetime.timedelta(days = i)\n",
        "  k = (daty_data_mifar - t - datetime.timedelta(days = 2*i)).days\n",
        "  APE92 = APE92 + lpr(t,k) \n",
        "  APEt92.append((lpr(t,k) ,t,k))\n",
        "  Prt92.append(expon.pdf(lpr(t,k)))\n",
        "\n",
        "print('For k = 9, APE92 =', APE92)\n",
        "print('APEt92=', APEt92)\n",
        "print('Prt92=', Prt92)"
      ],
      "execution_count": 0,
      "outputs": [
        {
          "output_type": "stream",
          "text": [
            "For k = 9, APE91 = 1971.6660295233137\n",
            "APEt91 = [(169.09972174675184, datetime.date(2020, 5, 31)), (139.79282600391196, datetime.date(2020, 5, 30)), (283.8817695883372, datetime.date(2020, 5, 29)), (179.48551580522212, datetime.date(2020, 5, 28)), (184.3975104562419, datetime.date(2020, 5, 27)), (95.55329915878465, datetime.date(2020, 5, 26)), (181.41897066360656, datetime.date(2020, 5, 25)), (47.63663799941492, datetime.date(2020, 5, 24)), (154.28678539127148, datetime.date(2020, 5, 23)), (152.699147202274, datetime.date(2020, 5, 22)), (158.35935894291748, datetime.date(2020, 5, 21)), (105.73526939355722, datetime.date(2020, 5, 20)), (111.91377040594483, datetime.date(2020, 5, 19)), (1.6599197129583079, datetime.date(2020, 5, 18)), (5.7455270521193675, datetime.date(2020, 5, 17))]\n",
            "Prt91 = [3.63851319323415e-74, 1.944227388760461e-61, 5.1488940442497395e-124, 1.123132266370185e-78, 8.263779721540661e-81, 3.1748955906372164e-42, 1.6245838374034272e-79, 2.049608815962833e-21, 9.865076876755408e-68, 4.826174034123446e-67, 1.6803674230035397e-69, 1.201589044030754e-46, 2.4915354095096282e-49, 0.19015424641057843, 0.003197049096018831]\n",
            "For k = 9, APE92 = 177.38673182260436\n",
            "APEt92= [(5.4952571098007255, datetime.date(2020, 5, 16), 16), (4.547006291364951, datetime.date(2020, 5, 15), 15), (14.472661260364307, datetime.date(2020, 5, 14), 14), (6.718995410890468, datetime.date(2020, 5, 13), 13), (5.157806262453732, datetime.date(2020, 5, 12), 12), (16.270259201875863, datetime.date(2020, 5, 11), 11), (6.353822430599765, datetime.date(2020, 5, 10), 10), (19.53481078204251, datetime.date(2020, 5, 9), 9), (6.006652664930005, datetime.date(2020, 5, 8), 8), (19.27397554911666, datetime.date(2020, 5, 7), 7), (20.124998484403122, datetime.date(2020, 5, 6), 6), (7.742578855506709, datetime.date(2020, 5, 5), 5), (14.440925010319525, datetime.date(2020, 5, 4), 4), (24.601676639610016, datetime.date(2020, 5, 3), 3), (6.6453058693260205, datetime.date(2020, 5, 2), 2)]\n",
            "Prt92= [0.0041062005853999715, 0.010598886915336623, 5.18326097780618e-07, 0.0012077508981306866, 0.005754309293862539, 8.588478039075201e-08, 0.001740083061153779, 3.28200676826554e-09, 0.0024623165998004207, 4.260090004307274e-09, 1.8189644443677903e-09, 0.0004339510338295262, 5.350396341240452e-07, 2.0683669509232116e-11, 0.0013001106934576539]\n"
          ],
          "name": "stdout"
        }
      ]
    },
    {
      "cell_type": "code",
      "metadata": {
        "id": "u0DV0KxJK99i",
        "colab_type": "code",
        "outputId": "98d05903-9857-44c1-9118-84eca4cc0d53",
        "colab": {
          "base_uri": "https://localhost:8080/",
          "height": 72
        }
      },
      "source": [
        "# APEk part 1 for k =/= 9\n",
        "\n",
        "# for i in range(t_mif - t_man -j)\n",
        "\n",
        "APEk1 = []\n",
        "for j in range(2,9):\n",
        "  APEj1 = 0\n",
        "  for i in range(round(((daty_data_mifar - daty_data_manom).days) - j)):\n",
        "    t = daty_data_mifar - datetime.timedelta(days = i+1) \n",
        "    k = j\n",
        "    APEj1 = APEj1 + lpr(t,k)\n",
        "  APEk1.append(APEj1)\n",
        "\n",
        "print('APEk1 =', APEk1)\n",
        "\n",
        "# APEk part 2 for k =/= 9\n",
        "\n",
        "Prk2 = []\n",
        "\n",
        "APEk2 = []\n",
        "\n",
        "for j in range(2,9):\n",
        "  APEj2 = 0\n",
        "  for i in range(j-1):\n",
        "    t = daty_data_manom + datetime.timedelta(days = j - i - 1)\n",
        "    k = j - i\n",
        "    APEj2 = APEj2 + lpr(t,k)\n",
        "  APEk2.append(APEj2)\n",
        "\n",
        "print('APEk2 =', APEk2)"
      ],
      "execution_count": 0,
      "outputs": [
        {
          "output_type": "stream",
          "text": [
            "APEk1 = [3132.727352661837, 3119.215919108667, 3083.1451534885264, 3046.977020836216, 2975.0480802481175, 2894.332642793991, 2827.4872257319207]\n",
            "APEk2 = [6.6453058693260205, 31.246982508936036, 45.68790751925556, 53.43048637476227, 73.55548485916539, 92.82946040828205, 98.83611307321206]\n"
          ],
          "name": "stdout"
        }
      ]
    },
    {
      "cell_type": "code",
      "metadata": {
        "id": "3yw05_HnLrPp",
        "colab_type": "code",
        "outputId": "3d81bc05-cb0e-409f-ac01-f3228ffb022d",
        "colab": {
          "base_uri": "https://localhost:8080/",
          "height": 72
        }
      },
      "source": [
        "# APEk for k = 2,...,8\n",
        "\n",
        "APEk = [x + y for x, y in zip(APEk1, APEk2)]\n",
        "\n",
        "# APE9\n",
        "APE9 = APE91 + APE92\n",
        "\n",
        "print('APE9 =', APE9)\n",
        "print('APEk =', APEk)"
      ],
      "execution_count": 0,
      "outputs": [
        {
          "output_type": "stream",
          "text": [
            "APE9 = 2149.052761345918\n",
            "APEk = [3139.372658531163, 3150.462901617603, 3128.833061007782, 3100.407507210978, 3048.603565107283, 2987.162103202273, 2926.3233388051326]\n"
          ],
          "name": "stdout"
        }
      ]
    },
    {
      "cell_type": "code",
      "metadata": {
        "id": "WDx0ksJcL1E2",
        "colab_type": "code",
        "outputId": "34077107-cd92-4d1c-a960-906f3af3eb32",
        "colab": {
          "base_uri": "https://localhost:8080/",
          "height": 34
        }
      },
      "source": [
        "# Prior Gamma distribution of Rt\n",
        "\n",
        "Rtpr_sh = 0.1 # shape\n",
        "Rtpr_sc =  0.1 # scale\n",
        "\n",
        "# Posterior distribution for Rt\n",
        "\n",
        "# Shape parameter :\n",
        "def Rtps_sh(t):\n",
        "   return Rtpr_sh + Ireh(t,9)\n",
        "\n",
        "# Scale\n",
        "def Rtps_sc(t):\n",
        "  return 1/Rtpr_sc + tlsi(t,9)\n",
        "\n",
        "# mean\n",
        "def Rtps_salan(t):\n",
        "  return Rtps_sh(t)/Rtps_sc(t)\n",
        "\n",
        "print(\"Salan'isa R hoan'ny\", datyt, ':', Rtps_salan(datyt))"
      ],
      "execution_count": 0,
      "outputs": [
        {
          "output_type": "stream",
          "text": [
            "Salan'isa R hoan'ny 2020-05-31 : 1.833162667249601\n"
          ],
          "name": "stdout"
        }
      ]
    },
    {
      "cell_type": "code",
      "metadata": {
        "id": "J_EUilHGMBT5",
        "colab_type": "code",
        "outputId": "78182042-26e0-4962-f6a0-7b1943487c32",
        "colab": {
          "base_uri": "https://localhost:8080/",
          "height": 538
        }
      },
      "source": [
        "# Plotting\n",
        "\n",
        "formatf_date = lambda date_py: '{}/{}'.format(date_py.day, date_py.month)\n",
        "\n",
        "salan_Rt = []\n",
        "daty_lst = []\n",
        "salan_Rt_dat = []\n",
        "\n",
        "for i in range(round(((daty_data_mifar - daty_data_manom).days) - 1)):\n",
        "  t = daty_data_manom + datetime.timedelta(days = i+1)\n",
        "  daty = formatf_date(t)\n",
        "  daty_lst.append(daty)\n",
        "  salan_Rt.append(Rtps_salan(t))\n",
        "  salan_Rt_dat.append((Rtps_salan(t),t))\n",
        "\n",
        "salan_Rt_dat"
      ],
      "execution_count": 0,
      "outputs": [
        {
          "output_type": "execute_result",
          "data": {
            "text/plain": [
              "[(1.31, datetime.date(2020, 5, 2)),\n",
              " (2.6100000000000003, datetime.date(2020, 5, 3)),\n",
              " (2.5100000000000002, datetime.date(2020, 5, 4)),\n",
              " (2.6100000000000003, datetime.date(2020, 5, 5)),\n",
              " (3.0100000000000002, datetime.date(2020, 5, 6)),\n",
              " (3.0100000000000002, datetime.date(2020, 5, 7)),\n",
              " (3.0100000000000002, datetime.date(2020, 5, 8)),\n",
              " (4.11, datetime.date(2020, 5, 9)),\n",
              " (3.91, datetime.date(2020, 5, 10)),\n",
              " (4.3767780913779, datetime.date(2020, 5, 11)),\n",
              " (2.9949761573723, datetime.date(2020, 5, 12)),\n",
              " (2.8361687501387802, datetime.date(2020, 5, 13)),\n",
              " (2.7958206100022545, datetime.date(2020, 5, 14)),\n",
              " (2.4796399001797464, datetime.date(2020, 5, 15)),\n",
              " (3.443033307137812, datetime.date(2020, 5, 16)),\n",
              " (3.8554240895233494, datetime.date(2020, 5, 17)),\n",
              " (4.115043463524598, datetime.date(2020, 5, 18)),\n",
              " (3.932100438170955, datetime.date(2020, 5, 19)),\n",
              " (4.506062261092727, datetime.date(2020, 5, 20)),\n",
              " (4.523619207285901, datetime.date(2020, 5, 21)),\n",
              " (4.458931264645666, datetime.date(2020, 5, 22)),\n",
              " (4.059657244369418, datetime.date(2020, 5, 23)),\n",
              " (3.756070312290585, datetime.date(2020, 5, 24)),\n",
              " (2.9652459166049185, datetime.date(2020, 5, 25)),\n",
              " (2.5824590922225963, datetime.date(2020, 5, 26)),\n",
              " (2.2148959445368077, datetime.date(2020, 5, 27)),\n",
              " (2.220846438801185, datetime.date(2020, 5, 28)),\n",
              " (2.1107872360180178, datetime.date(2020, 5, 29)),\n",
              " (2.091565444288094, datetime.date(2020, 5, 30)),\n",
              " (1.833162667249601, datetime.date(2020, 5, 31))]"
            ]
          },
          "metadata": {
            "tags": []
          },
          "execution_count": 8
        }
      ]
    },
    {
      "cell_type": "code",
      "metadata": {
        "id": "h7f8wzauMFlP",
        "colab_type": "code",
        "outputId": "33839fdb-d350-443e-f846-fbc5645f46c3",
        "colab": {
          "base_uri": "https://localhost:8080/",
          "height": 700
        }
      },
      "source": [
        "# Plotting\n",
        "\n",
        "fig = plt.figure(figsize=(12, 12))\n",
        "\n",
        "plt.plot(daty_lst, salan_Rt, 'b',  marker =\"+\",ls = 'None')\n",
        "plt.savefig(path_to_save+'R_9_25.eps')\n",
        "plt.show()"
      ],
      "execution_count": 0,
      "outputs": [
        {
          "output_type": "display_data",
          "data": {
            "image/png": "[encoded data removed]",
            "text/plain": [
              "<Figure size 864x864 with 1 Axes>"
            ]
          },
          "metadata": {
            "tags": [],
            "needs_background": "light"
          }
        }
      ]
    },
    {
      "cell_type": "code",
      "metadata": {
        "id": "JVCzXcCycStq",
        "colab_type": "code",
        "colab": {}
      },
      "source": [
        "# From 01/05 to 01/06 data:\n",
        "\n",
        "R_1_31 = [(1.31, datetime.date(2020, 5, 2)),\n",
        " (2.6100000000000003, datetime.date(2020, 5, 3)),\n",
        " (2.5100000000000002, datetime.date(2020, 5, 4)),\n",
        " (2.6100000000000003, datetime.date(2020, 5, 5)),\n",
        " (3.0100000000000002, datetime.date(2020, 5, 6)),\n",
        " (3.0100000000000002, datetime.date(2020, 5, 7)),\n",
        " (3.0100000000000002, datetime.date(2020, 5, 8)),\n",
        " (4.11, datetime.date(2020, 5, 9)),\n",
        " (3.91, datetime.date(2020, 5, 10)),\n",
        " (4.3767780913779, datetime.date(2020, 5, 11)),\n",
        " (2.9949761573723, datetime.date(2020, 5, 12)),\n",
        " (2.8361687501387802, datetime.date(2020, 5, 13)),\n",
        " (2.7958206100022545, datetime.date(2020, 5, 14)),\n",
        " (2.4796399001797464, datetime.date(2020, 5, 15)),\n",
        " (3.443033307137812, datetime.date(2020, 5, 16)),\n",
        " (3.8554240895233494, datetime.date(2020, 5, 17)),\n",
        " (4.115043463524598, datetime.date(2020, 5, 18)),\n",
        " (3.932100438170955, datetime.date(2020, 5, 19)),\n",
        " (4.506062261092727, datetime.date(2020, 5, 20)),\n",
        " (4.523619207285901, datetime.date(2020, 5, 21)),\n",
        " (4.458931264645666, datetime.date(2020, 5, 22)),\n",
        " (4.059657244369418, datetime.date(2020, 5, 23)),\n",
        " (3.756070312290585, datetime.date(2020, 5, 24)),\n",
        " (2.9652459166049185, datetime.date(2020, 5, 25)),\n",
        " (2.5824590922225963, datetime.date(2020, 5, 26)),\n",
        " (2.2148959445368077, datetime.date(2020, 5, 27)),\n",
        " (2.220846438801185, datetime.date(2020, 5, 28)),\n",
        " (2.1107872360180178, datetime.date(2020, 5, 29)),\n",
        " (2.091565444288094, datetime.date(2020, 5, 30)),\n",
        " (1.833162667249601, datetime.date(2020, 5, 31))]\n",
        "\n",
        "R_1_31_y, R_1_31_x = [lis[0] for lis in R_1_31], [lis[1].strftime('%d/%m') for lis in R_1_31]\n",
        "\n",
        " # From 09/05 to 25/05 data:\n",
        "\n",
        "R_9_25 = [(3.91, datetime.date(2020, 5, 10)),\n",
        " (5.11, datetime.date(2020, 5, 11)),\n",
        " (4.3100000000000005, datetime.date(2020, 5, 12)),\n",
        " (6.3100000000000005, datetime.date(2020, 5, 13)),\n",
        " (7.909999999999999, datetime.date(2020, 5, 14)),\n",
        " (8.01, datetime.date(2020, 5, 15)),\n",
        " (12.51, datetime.date(2020, 5, 16)),\n",
        " (14.61, datetime.date(2020, 5, 17)),\n",
        " (15.309999999999999, datetime.date(2020, 5, 18)),\n",
        " (10.618232327556617, datetime.date(2020, 5, 19)),\n",
        " (9.513276075841821, datetime.date(2020, 5, 20)),\n",
        " (7.362649508668455, datetime.date(2020, 5, 21)),\n",
        " (6.197022747127988, datetime.date(2020, 5, 22)),\n",
        " (4.992872807945991, datetime.date(2020, 5, 23)),\n",
        " (4.275090873096726, datetime.date(2020, 5, 24)),\n",
        " (3.233281463506283, datetime.date(2020, 5, 25))]\n",
        "\n",
        "R_9_25_y, R_9_25_x = [lis[0] for lis in R_9_25], [lis[1].strftime('%d/%m') for lis in R_9_25]\n",
        "\n",
        "# From 01/05 to 19/05 data:\n",
        "\n",
        "R_1_19 = [(1.31, datetime.date(2020, 5, 2)),\n",
        " (2.6100000000000003, datetime.date(2020, 5, 3)),\n",
        " (2.5100000000000002, datetime.date(2020, 5, 4)),\n",
        " (2.6100000000000003, datetime.date(2020, 5, 5)),\n",
        " (3.0100000000000002, datetime.date(2020, 5, 6)),\n",
        " (3.0100000000000002, datetime.date(2020, 5, 7)),\n",
        " (3.0100000000000002, datetime.date(2020, 5, 8)),\n",
        " (4.11, datetime.date(2020, 5, 9)),\n",
        " (3.91, datetime.date(2020, 5, 10)),\n",
        " (4.3767780913779, datetime.date(2020, 5, 11)),\n",
        " (2.9949761573723, datetime.date(2020, 5, 12)),\n",
        " (2.8361687501387802, datetime.date(2020, 5, 13)),\n",
        " (2.7958206100022545, datetime.date(2020, 5, 14)),\n",
        " (2.4796399001797464, datetime.date(2020, 5, 15)),\n",
        " (3.443033307137812, datetime.date(2020, 5, 16)),\n",
        " (3.8554240895233494, datetime.date(2020, 5, 17)),\n",
        " (4.115043463524598, datetime.date(2020, 5, 18)),\n",
        " (3.932100438170955, datetime.date(2020, 5, 19))]\n",
        "\n",
        "R_1_19_y, R_1_19_x = [lis[0] for lis in R_1_19], [lis[1].strftime('%d/%m') for lis in R_1_19]\n"
      ],
      "execution_count": 0,
      "outputs": []
    },
    {
      "cell_type": "code",
      "metadata": {
        "id": "D9GZEU7Nh4NZ",
        "colab_type": "code",
        "outputId": "80c9e781-ece5-478f-e1e8-d414a5afa449",
        "colab": {
          "base_uri": "https://localhost:8080/",
          "height": 753
        }
      },
      "source": [
        "plt.figure(figsize=(12, 12))\n",
        "\n",
        "\n",
        "# this is the order to follow for plotting\n",
        "plt.plot(R_1_31_x, R_1_31_y, \"o\", ls = 'None', color = 'green', label='Tombana R_1_31')\n",
        "plt.plot(R_9_25_x, R_9_25_y, marker =\"d\",ls = 'None', color='red',label='Tombana R_9_25')\n",
        "plt.plot(R_1_19_x, R_1_19_y, marker = \"+\", ls = 'None', color='yellow', label='Tombana R_1_19')\n",
        "\n",
        "plt.xlabel('Andro')\n",
        "plt.ylabel(\"R\")\n",
        "plt.legend(loc= 'best')\n",
        "\n",
        "plt.savefig(path_to_save+'mampitahaR.eps')"
      ],
      "execution_count": 0,
      "outputs": [
        {
          "output_type": "stream",
          "text": [
            "The PostScript backend does not support transparency; partially transparent artists will be rendered opaque.\n",
            "The PostScript backend does not support transparency; partially transparent artists will be rendered opaque.\n"
          ],
          "name": "stderr"
        },
        {
          "output_type": "display_data",
          "data": {
            "image/png": "[encoded data removed]",
            "text/plain": [
              "<Figure size 864x864 with 1 Axes>"
            ]
          },
          "metadata": {
            "tags": [],
            "needs_background": "light"
          }
        }
      ]
    }
  ]
}