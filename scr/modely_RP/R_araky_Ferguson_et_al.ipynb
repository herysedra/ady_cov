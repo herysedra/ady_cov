{
  "nbformat": 4,
  "nbformat_minor": 0,
  "metadata": {
    "colab": {
      "name": "R araky Ferguson et al.ipynb",
      "provenance": [],
      "collapsed_sections": [],
      "authorship_tag": "ABX9TyOfCVAzcWw0uNLNyK6RktMP",
      "include_colab_link": true
    },
    "kernelspec": {
      "name": "python3",
      "display_name": "Python 3"
    }
  },
  "cells": [
    {
      "cell_type": "markdown",
      "metadata": {
        "id": "view-in-github",
        "colab_type": "text"
      },
      "source": [
        "<a href=\"https://colab.research.google.com/github/herysedra/ady_cov/blob/master/scr/modely_RP/R_araky_Ferguson_et_al.ipynb\" target=\"_parent\"><img src=\"https://colab.research.google.com/assets/colab-badge.svg\" alt=\"Open In Colab\"/></a>"
      ]
    },
    {
      "cell_type": "code",
      "metadata": {
        "id": "nb7OhNH5srqb",
        "colab_type": "code",
        "outputId": "2d0693ce-33de-402e-af3a-a5b3fa09c74a",
        "colab": {
          "base_uri": "https://localhost:8080/",
          "height": 124
        }
      },
      "source": [
        "from google.colab import drive\n",
        "drive.mount('/content/drive')"
      ],
      "execution_count": 0,
      "outputs": [
        {
          "output_type": "stream",
          "text": [
            "Go to this URL in a browser: https://accounts.google.com/o/oauth2/auth?client_id=947318989803-6bn6qk8qdgf4n4g3pfee6491hc0brc4i.apps.googleusercontent.com&redirect_uri=urn%3aietf%3awg%3aoauth%3a2.0%3aoob&response_type=code&scope=email%20https%3a%2f%2fwww.googleapis.com%2fauth%2fdocs.test%20https%3a%2f%2fwww.googleapis.com%2fauth%2fdrive%20https%3a%2f%2fwww.googleapis.com%2fauth%2fdrive.photos.readonly%20https%3a%2f%2fwww.googleapis.com%2fauth%2fpeopleapi.readonly\n",
            "\n",
            "Enter your authorization code:\n",
            "··········\n",
            "Mounted at /content/drive\n"
          ],
          "name": "stdout"
        }
      ]
    },
    {
      "cell_type": "code",
      "metadata": {
        "id": "KW4K1emYjl1V",
        "colab_type": "code",
        "colab": {}
      },
      "source": [
        "import pandas as pd\n",
        "import numpy as np\n",
        "import matplotlib.pyplot as plt\n",
        "import scipy.stats\n",
        "import matplotlib\n",
        "import pickle\n",
        "\n",
        "import datetime\n",
        "import time\n",
        "from datetime import date\n",
        "\n",
        "import matplotlib.dates as mdates\n",
        "from matplotlib.dates import DateFormatter\n",
        "import seaborn as sns\n",
        "\n",
        "from numpy import log,exp\n",
        "from numpy.random import multinomial\n",
        "from scipy.stats import uniform, gamma, poisson, nbinom\n",
        "from scipy.integrate import quad\n",
        "\n",
        "tilyvoa = pd.read_csv(\"/content/drive/My Drive/data/tilyvoa.csv\")\n",
        "\n",
        "mdg_databe = pd.read_csv(\"/content/drive/My Drive/data/databe mdg.csv\")\n",
        "\n",
        "#tilyvoa.set_index('Daty', inplace=True)\n",
        "\n",
        "tilyvoafar = tilyvoa.groupby('Faritra')\n",
        "tilyvoamdg = tilyvoafar.get_group('Madagasikara')\n",
        "tilyvoamdg.set_index('Daty', inplace=True)\n",
        "\n",
        "tilyvoamdg.index = pd.to_datetime(tilyvoamdg.index)\n",
        "\n",
        "tilyvoatana = tilyvoafar.get_group('Antananarivo')\n",
        "tilyvoatana.set_index('Daty', inplace=True)\n",
        "\n",
        "tilyvoatana.index = pd.to_datetime(tilyvoatana.index)\n",
        "\n",
        "tilyvoatoa = tilyvoafar.get_group('Toamasina')\n",
        "tilyvoatoa.set_index('Daty', inplace=True)\n",
        "\n",
        "tilyvoatoa.index = pd.to_datetime(tilyvoatoa.index)\n",
        "\n",
        "\n",
        "path_to_save = '/content/drive/My Drive/sary/'\n",
        "path_data = '/content/drive/My Drive/data/'"
      ],
      "execution_count": 0,
      "outputs": []
    },
    {
      "cell_type": "code",
      "metadata": {
        "id": "ViRAbHDLkO0C",
        "colab_type": "code",
        "outputId": "a5b0077a-d058-42ac-e6ce-f926e5835d5c",
        "colab": {
          "base_uri": "https://localhost:8080/",
          "height": 243
        }
      },
      "source": [
        "# Voa vaovao (observed incidence)\n",
        "Ivao = tilyvoamdg['Voatomb']\n",
        "Ivao"
      ],
      "execution_count": 0,
      "outputs": [
        {
          "output_type": "execute_result",
          "data": {
            "text/plain": [
              "Daty\n",
              "2020-03-18     0.0\n",
              "2020-03-19     3.0\n",
              "2020-03-20     2.0\n",
              "2020-03-21    10.0\n",
              "2020-03-22     1.0\n",
              "              ... \n",
              "2020-05-23    40.0\n",
              "2020-05-24    39.0\n",
              "2020-05-25    15.0\n",
              "2020-05-26    44.0\n",
              "2020-05-27     NaN\n",
              "Name: Voatomb, Length: 71, dtype: float64"
            ]
          },
          "metadata": {
            "tags": []
          },
          "execution_count": 21
        }
      ]
    },
    {
      "cell_type": "markdown",
      "metadata": {
        "id": "uU3RkCEY4HB2",
        "colab_type": "text"
      },
      "source": [
        "# Fakàna santionany (sampling)"
      ]
    },
    {
      "cell_type": "code",
      "metadata": {
        "id": "GyaV0N4WtM70",
        "colab_type": "code",
        "colab": {}
      },
      "source": [
        "# Fakàna mivantana\n",
        "E=5200\n",
        "BURN_IN=200\n",
        "\n",
        "#Tombana mialoha (prior distributions)\n",
        "\n",
        "# Hoan'ny taha sorisoritry ny fifindrana (infectioness profile distribution)\n",
        "\n",
        "daty_data_manom = datetime.date(2020,5,1)\n",
        "daty_data_mifar = datetime.date(2020,5,20)\n",
        "\n",
        "format_date = lambda date_py: '{}-{}-{}'.format(date_py.year, date_py.month, date_py.day)\n",
        "datyf_data_manom = format_date(daty_data_manom)\n",
        "datyf_data_mifar = format_date(daty_data_mifar)\n",
        "\n",
        "# Discretization of the serial interval distribution\n",
        "si_sh = 1/(0.62**2) # Report 13\n",
        "si_sc = 6.5/si_sh\n",
        "\n",
        "def discr_si(t):\n",
        "  return gengamma.cdf(t+1/2, shape = si_sh, scale = si_sc) - gengamma.cdf(t-1/2, shape = si_sh, scale = si_sc)\n",
        "\n",
        "discr_si1 = gengamma.cdf(3/2, shape = si_sh, scale = si_sc)\n",
        "\n",
        "# Specification of time-windows\n",
        "\n",
        "# Posterior distribution for Rt\n",
        "\n",
        "# Computation of the shape\n",
        "# def rtpos_sh(t):\n"
      ],
      "execution_count": 0,
      "outputs": []
    },
    {
      "cell_type": "code",
      "metadata": {
        "id": "xRqqe1MAk-CY",
        "colab_type": "code",
        "outputId": "d38697ae-df27-403e-eb66-f84a4ac98a5b",
        "colab": {
          "base_uri": "https://localhost:8080/",
          "height": 69
        }
      },
      "source": [
        "dIvao = pd.DataFrame(data =Ivao)\n",
        "\n",
        "dIvao['Datint'] = range(len(Ivao))\n",
        "\n",
        "dIvao['Voatomb'].loc[dIvao.index == datyf_data_manom]\n",
        "dIvao['Voatomb'].loc[datyf_data_manom]"
      ],
      "execution_count": 0,
      "outputs": [
        {
          "output_type": "execute_result",
          "data": {
            "text/plain": [
              "Daty\n",
              "2020-03-21    10.0\n",
              "Name: Voatomb, dtype: float64"
            ]
          },
          "metadata": {
            "tags": []
          },
          "execution_count": 54
        }
      ]
    },
    {
      "cell_type": "code",
      "metadata": {
        "id": "R9wZprkb5B4k",
        "colab_type": "code",
        "colab": {}
      },
      "source": [
        "# convoluted product of I(t-s) and si(s)\n",
        "\n",
        "# construction of I(t) with t an integer\n",
        "# construction o I(daty) for daty in range((daty_data_mifar - daty_data_manom).days +1)\n",
        "\n",
        "\n",
        "\n",
        "def contrib(s):\n",
        "  Ivaosi = dIvao['Voatomb'].loc[datyf_data_manom]*discr_si(k)\n",
        "  for i in range(k,t+1)\n",
        "    Ivaosi = Ivaosi + Ivao[k]*discr_si(k)"
      ],
      "execution_count": 0,
      "outputs": []
    }
  ]
}