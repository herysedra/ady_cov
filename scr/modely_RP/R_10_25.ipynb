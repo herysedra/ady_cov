{
  "nbformat": 4,
  "nbformat_minor": 0,
  "metadata": {
    "colab": {
      "name": "R_10_25.ipynb",
      "provenance": [],
      "collapsed_sections": [],
      "authorship_tag": "ABX9TyPHL5c1i7DXXtnJKPgKsBRl",
      "include_colab_link": true
    },
    "kernelspec": {
      "name": "python3",
      "display_name": "Python 3"
    }
  },
  "cells": [
    {
      "cell_type": "markdown",
      "metadata": {
        "id": "view-in-github",
        "colab_type": "text"
      },
      "source": [
        "<a href=\"https://colab.research.google.com/github/herysedra/ady_cov/blob/master/scr/modely_RP/R_10_25.ipynb\" target=\"_parent\"><img src=\"https://colab.research.google.com/assets/colab-badge.svg\" alt=\"Open In Colab\"/></a>"
      ]
    },
    {
      "cell_type": "code",
      "metadata": {
        "id": "JUBirRarA9aO",
        "colab_type": "code",
        "outputId": "9a7453b6-e686-4cfb-c4e5-f412621f5c2e",
        "colab": {
          "base_uri": "https://localhost:8080/",
          "height": 124
        }
      },
      "source": [
        "from google.colab import drive\n",
        "drive.mount('/content/drive')"
      ],
      "execution_count": 1,
      "outputs": [
        {
          "output_type": "stream",
          "text": [
            "Go to this URL in a browser: https://accounts.google.com/o/oauth2/auth?client_id=947318989803-6bn6qk8qdgf4n4g3pfee6491hc0brc4i.apps.googleusercontent.com&redirect_uri=urn%3aietf%3awg%3aoauth%3a2.0%3aoob&response_type=code&scope=email%20https%3a%2f%2fwww.googleapis.com%2fauth%2fdocs.test%20https%3a%2f%2fwww.googleapis.com%2fauth%2fdrive%20https%3a%2f%2fwww.googleapis.com%2fauth%2fdrive.photos.readonly%20https%3a%2f%2fwww.googleapis.com%2fauth%2fpeopleapi.readonly\n",
            "\n",
            "Enter your authorization code:\n",
            "··········\n",
            "Mounted at /content/drive\n"
          ],
          "name": "stdout"
        }
      ]
    },
    {
      "cell_type": "code",
      "metadata": {
        "id": "xc5Mht4IBVz2",
        "colab_type": "code",
        "colab": {
          "base_uri": "https://localhost:8080/",
          "height": 72
        },
        "outputId": "09164237-2921-459a-897e-cbf3daa3f399"
      },
      "source": [
        "import pandas as pd\n",
        "import numpy as np\n",
        "import matplotlib.pyplot as plt\n",
        "import scipy.stats\n",
        "import matplotlib\n",
        "import pickle\n",
        "\n",
        "import datetime\n",
        "import time\n",
        "from datetime import date\n",
        "\n",
        "import matplotlib.dates as mdates\n",
        "from matplotlib.dates import DateFormatter\n",
        "import seaborn as sns\n",
        "\n",
        "from numpy import log,exp\n",
        "from numpy.random import multinomial\n",
        "from scipy.stats import uniform, gamma, gengamma, poisson, nbinom, expon\n",
        "from scipy.integrate import quad\n",
        "\n",
        "tilyvoa = pd.read_csv(\"/content/drive/My Drive/data/tilyvoa.csv\")\n",
        "\n",
        "mdg_databe = pd.read_csv(\"/content/drive/My Drive/data/databe mdg.csv\")\n",
        "\n",
        "#tilyvoa.set_index('Daty', inplace=True)\n",
        "\n",
        "tilyvoafar = tilyvoa.groupby('Faritra')\n",
        "tilyvoamdg = tilyvoafar.get_group('Madagasikara')\n",
        "tilyvoamdg.set_index('Daty', inplace=True)\n",
        "\n",
        "tilyvoamdg.index = pd.to_datetime(tilyvoamdg.index)\n",
        "\n",
        "tilyvoatana = tilyvoafar.get_group('Antananarivo')\n",
        "tilyvoatana.set_index('Daty', inplace=True)\n",
        "\n",
        "tilyvoatana.index = pd.to_datetime(tilyvoatana.index)\n",
        "\n",
        "tilyvoatoa = tilyvoafar.get_group('Toamasina')\n",
        "tilyvoatoa.set_index('Daty', inplace=True)\n",
        "\n",
        "tilyvoatoa.index = pd.to_datetime(tilyvoatoa.index)\n",
        "\n",
        "\n",
        "path_to_save = '/content/drive/My Drive/sary/'\n",
        "path_data = '/content/drive/My Drive/data/'"
      ],
      "execution_count": 2,
      "outputs": [
        {
          "output_type": "stream",
          "text": [
            "/usr/local/lib/python3.6/dist-packages/statsmodels/tools/_testing.py:19: FutureWarning: pandas.util.testing is deprecated. Use the functions in the public API at pandas.testing instead.\n",
            "  import pandas.util.testing as tm\n"
          ],
          "name": "stderr"
        }
      ]
    },
    {
      "cell_type": "code",
      "metadata": {
        "id": "Ciy2BtCFBoCw",
        "colab_type": "code",
        "colab": {}
      },
      "source": [
        "# Voa vaovao (observed incidence)\n",
        "Ivao = tilyvoamdg['Voatomb']\n",
        "\n",
        "dIvao = pd.DataFrame(data =Ivao)\n",
        "\n",
        "dIvao['Datint'] = range(len(Ivao))\n",
        "\n",
        "\n",
        "# Hoan'ny taha sorisoritry ny fifindrana (infectioness profile distribution)\n",
        "\n",
        "daty_data_manom = datetime.date(2020,5,9)\n",
        "daty_data_mifar = datetime.date(2020,5,26)\n",
        "\n",
        "datyt = daty_data_mifar - datetime.timedelta(days = 1)\n",
        "\n",
        "format_date = lambda date_py: '{}-{}-{}'.format(date_py.year, date_py.month, date_py.day)\n",
        "datyf_data_manom = format_date(daty_data_manom)\n",
        "datyf_data_mifar = format_date(daty_data_mifar)\n",
        "\n",
        "# Discretization of the serial interval distribution\n",
        "\n",
        "#Tombana mialoha (prior distributions)\n",
        "#si_sh = 1/(0.62**2) # Report 13\n",
        "#si_sc = 6.5/si_sh\n",
        "\n",
        "si_sh = (6.48**2)/(3.83**2) # Planning tool: Short-term forecasts\n",
        "si_sc = 6.48/si_sh\n",
        "\n",
        "\n",
        "def discr_si(t):\n",
        "  if t == 0:\n",
        "    discrsi = 0\n",
        "  elif t == 1:\n",
        "    discrsi = gengamma.cdf(3/2, si_sh, 1, loc = 0, scale = si_sc)\n",
        "  else:\n",
        "    discrsi = gengamma.cdf(t+1/2, si_sh, 1, loc = 0, scale = si_sc) - gengamma.cdf(t-1/2, si_sh, 1, loc = 0, scale = si_sc)\n",
        "  return discrsi\n",
        "\n",
        "#discr_si1 = gengamma.cdf(3/2, si_sh, 1, loc = 0, scale = si_sc)\n",
        "\n",
        "# 1 The total incidence over a generic window (t-k+1,t)\n",
        "# Ireh(t,k) = sum(i = 0 to k-1) Ivao(t - i))\n",
        "\n",
        "def Ireh(t,k):\n",
        "  Irehv = 0\n",
        "  for i in range(k):\n",
        "    Irehv = Irehv + dIvao['Voatomb'].loc[format_date(t - datetime.timedelta(days = i))]\n",
        "  return Irehv\n",
        "\n",
        "# 2 Tool to compute the total infectiousness over a generic window (t-k+1,t)\n",
        "# Isi(t,k) = sum(i=0 to k-1) Ivao(t - i)*discr_si(i)\n",
        "\n",
        "# The definition of Isi(t,k) does not include the term Ivao(t) for i = 0 (because discr_si(0) =0) \n",
        "# but include the last term Ivao(t - k + 1)*discr_si(k - 1) for i = k-1. \n",
        "\n",
        "def Isi(t,k):\n",
        "  Ivaosi = 0\n",
        "  for i in range(k):\n",
        "    Ivaosi = Ivaosi + dIvao['Voatomb'].loc[format_date(t - datetime.timedelta(days = i))]*discr_si(i)\n",
        "  return Ivaosi\n",
        "\n",
        "# The total infectiousness before t\n",
        "\n",
        "# lsi(t) := um(i=0 to t-1) Ivao(t - i)*discr_si(i)\n",
        "\n",
        "def lsi(t):\n",
        "  return Isi(t, (t - daty_data_manom).days +1)\n",
        "\n",
        "  # for checking, take for example t = daty_data_manom + datetime.timedelta(days = 3)\n",
        "\n",
        "# 3 The sum of total infectiousness before t over a generic window (t-k+1,t)\n",
        "\n",
        "def tlsi(t,k):\n",
        "  tlsi = 0\n",
        "  for i in range(k):\n",
        "    tlsi = tlsi + lsi(t - datetime.timedelta(days = k))\n",
        "  return tlsi\n",
        "\n",
        "# 4 The shape parameters of the posterior predictive negative binomial of I(t+1)\n",
        "\n",
        "# pnb(t,k) = Isi(t+1, t - daty_data_manom + 2)*(1/si_sc + Isi(t,k))/(1 + si(t+1, t - daty_data_manom + 2)*(1/si_sc + Isi(t,k)))\n",
        "\n",
        "def pnb(t,k):\n",
        "  return lsi(t+datetime.timedelta(days = 1))*(1/si_sc + tlsi(t,k))/(1 + lsi(t+datetime.timedelta(days = 1))*(1/si_sc + tlsi(t,k)))\n",
        "\n",
        "# pnb(t,k) dia mikajy ny taha herjika hoan'ny NB hoan'ny I(t+1).\n",
        "\n",
        "# 5 Use the pmf of the posterior predictive negative binomial to compute\n",
        "# each additive contribution at time s then for-loop for s in the time interval\n",
        "\n",
        "def lpr(t,k):\n",
        "  return -np.log(nbinom.pmf(dIvao['Voatomb'].loc[format_date(t + datetime.timedelta(days = 1))], si_sh + Ireh(t,k), pnb(t,k)))\n"
      ],
      "execution_count": 0,
      "outputs": []
    },
    {
      "cell_type": "code",
      "metadata": {
        "id": "U0tFN2pvCkiT",
        "colab_type": "code",
        "outputId": "b62574a1-a2d7-4d71-868d-32b29b0f9f24",
        "colab": {
          "base_uri": "https://localhost:8080/",
          "height": 141
        }
      },
      "source": [
        "# APE9_part1 \n",
        "\n",
        "# for i in range(8):\n",
        "# t = t_mif - i - 1\n",
        "# k = 9\n",
        "\n",
        "APEt91 = []\n",
        "Prt91 = []\n",
        "\n",
        "APE91 = 0\n",
        "\n",
        "for i in range(round(((daty_data_mifar - daty_data_manom).days + 1)/2) - 1):\n",
        "  t = daty_data_mifar - datetime.timedelta(days = i+1) \n",
        "  k = round(((daty_data_mifar - daty_data_manom).days + 1)/2)\n",
        "  APE91 = APE91 + lpr(t,k)\n",
        "  APEt91.append((lpr(t,k),t))\n",
        "  Prt91.append(expon.pdf(lpr(t,k)))\n",
        "\n",
        "print('For k = 9, APE91 =', APE91)\n",
        "print('APEt91 =', APEt91)\n",
        "print('Prt91 =', Prt91)\n",
        "\n",
        "# APE9_part2 \n",
        "\n",
        "# for i in range(9):\n",
        "# t = t_mif - 1 - 9 + 1 - i\n",
        "# k = t_mif - t - 2*i\n",
        "APEt92 = []\n",
        "Prt92 = []\n",
        "\n",
        "APE92 = 0\n",
        "for i in range(round(((daty_data_mifar - daty_data_manom).days + 1)/2)-1):\n",
        "  t = daty_data_mifar - datetime.timedelta(days = 1) - datetime.timedelta(days = ((daty_data_mifar - daty_data_manom).days + 1)/2) + datetime.timedelta(days = 1) - datetime.timedelta(days = i)\n",
        "  k = (daty_data_mifar - t - datetime.timedelta(days = 2*i)).days\n",
        "  APE92 = APE92 + lpr(t,k) \n",
        "  APEt92.append((lpr(t,k) ,t,k))\n",
        "  Prt92.append(expon.pdf(lpr(t,k)))\n",
        "\n",
        "print('For k = 9, APE92 =', APE92)\n",
        "print('APEt92=', APEt92)\n",
        "print('Prt92=', Prt92)"
      ],
      "execution_count": 7,
      "outputs": [
        {
          "output_type": "stream",
          "text": [
            "For k = 9, APE91 = 732.0185801822297\n",
            "APEt91 = [(207.504697534463, datetime.date(2020, 5, 25)), (50.37368602842332, datetime.date(2020, 5, 24)), (146.35795412484075, datetime.date(2020, 5, 23)), (127.13452951732944, datetime.date(2020, 5, 22)), (109.54287505080116, datetime.date(2020, 5, 21)), (41.748474797474984, datetime.date(2020, 5, 20)), (35.93300328323204, datetime.date(2020, 5, 19)), (13.423359845664947, datetime.date(2020, 5, 18))]\n",
            "Prt91 = [7.618244236528508e-91, 1.327352049491507e-22, 2.7387232010533045e-64, 6.111887775376667e-56, 2.6676806191233124e-48, 7.393801169861095e-19, 2.4802471306619853e-16, 1.480160773026277e-06]\n",
            "For k = 9, APE92 = 57.125906967189415\n",
            "APEt92= [(3.572919968013867, datetime.date(2020, 5, 17), 9), (3.3968670033351565, datetime.date(2020, 5, 16), 8), (8.141364427294548, datetime.date(2020, 5, 15), 7), (9.867252325792006, datetime.date(2020, 5, 14), 6), (4.84850084060324, datetime.date(2020, 5, 13), 5), (4.177287250483859, datetime.date(2020, 5, 12), 4), (16.205320023110037, datetime.date(2020, 5, 11), 3), (6.916395128556711, datetime.date(2020, 5, 10), 2)]\n",
            "Prt92= [0.028073759402812135, 0.033477992265463136, 0.00029123955182369513, 5.184498621763213e-05, 0.007840122336444459, 0.015340064927595038, 9.164714418931241e-08, 0.000991397366667726]\n"
          ],
          "name": "stdout"
        }
      ]
    },
    {
      "cell_type": "code",
      "metadata": {
        "id": "BU-PqFZcCxr0",
        "colab_type": "code",
        "outputId": "4ce8cdb6-2103-4c71-9c1c-44c4620cf451",
        "colab": {
          "base_uri": "https://localhost:8080/",
          "height": 72
        }
      },
      "source": [
        "# APEk part 1 for k =/= 9\n",
        "\n",
        "# for i in range(t_mif - t_man -j)\n",
        "\n",
        "APEk1 = []\n",
        "for j in range(2,9):\n",
        "  APEj1 = 0\n",
        "  for i in range(round(((daty_data_mifar - daty_data_manom).days) - j)):\n",
        "    t = daty_data_mifar - datetime.timedelta(days = i+1) \n",
        "    k = j\n",
        "    APEj1 = APEj1 + lpr(t,k)\n",
        "  APEk1.append(APEj1)\n",
        "\n",
        "print('APEk1 =', APEk1)\n",
        "\n",
        "# APEk part 2 for k =/= 9\n",
        "\n",
        "Prk2 = []\n",
        "\n",
        "APEk2 = []\n",
        "\n",
        "for j in range(2,9):\n",
        "  APEj2 = 0\n",
        "  for i in range(j-1):\n",
        "    t = daty_data_manom + datetime.timedelta(days = j - i - 1)\n",
        "    k = j - i\n",
        "    APEj2 = APEj2 + lpr(t,k)\n",
        "  APEk2.append(APEj2)\n",
        "\n",
        "print('APEk2 =', APEk2)"
      ],
      "execution_count": 8,
      "outputs": [
        {
          "output_type": "stream",
          "text": [
            "APEk1 = [1494.690641395493, 1421.2136614060641, 1322.2456488114597, 1225.7352883554145, 1107.2975752228226, 1002.0183837133259, 871.0481466956976]\n",
            "APEk2 = [6.916395128556711, 23.12171515166675, 27.29900240215061, 32.14750324275384, 42.014755568545844, 50.15611999584039, 53.55298699917555]\n"
          ],
          "name": "stdout"
        }
      ]
    },
    {
      "cell_type": "code",
      "metadata": {
        "id": "uRO9Xx3pDUIg",
        "colab_type": "code",
        "outputId": "7616c48e-f931-4410-c28e-5f85fe78da2f",
        "colab": {
          "base_uri": "https://localhost:8080/",
          "height": 72
        }
      },
      "source": [
        "# APEk for k = 2,...,8\n",
        "\n",
        "APEk = [x + y for x, y in zip(APEk1, APEk2)]\n",
        "\n",
        "# APE9\n",
        "APE9 = APE91 + APE92\n",
        "\n",
        "print('APE9 =', APE9)\n",
        "print('APEk =', APEk)"
      ],
      "execution_count": 9,
      "outputs": [
        {
          "output_type": "stream",
          "text": [
            "APE9 = 789.1444871494191\n",
            "APEk = [1501.6070365240498, 1444.3353765577308, 1349.5446512136102, 1257.8827915981683, 1149.3123307913684, 1052.1745037091662, 924.6011336948732]\n"
          ],
          "name": "stdout"
        }
      ]
    },
    {
      "cell_type": "code",
      "metadata": {
        "id": "WkFfuOPCGWZ7",
        "colab_type": "code",
        "outputId": "5b24bf32-3458-4d71-e4e2-94b0b9ea7425",
        "colab": {
          "base_uri": "https://localhost:8080/",
          "height": 781
        }
      },
      "source": [
        "# Prior Gamma distribution of Rt\n",
        "\n",
        "Rtpr_sh = 0.1 # shape\n",
        "Rtpr_sc =  0.1 # scale\n",
        "\n",
        "# Posterior distribution for Rt\n",
        "\n",
        "# Shape parameter :\n",
        "def Rtps_sh(t):\n",
        "   return Rtpr_sh + Ireh(t,9)\n",
        "\n",
        "# Scale\n",
        "def Rtps_sc(t):\n",
        "  return 1/(1/Rtpr_sc + tlsi(t,9))\n",
        "\n",
        "# mean\n",
        "def Rtps_salan(t):\n",
        "  return Rtps_sh(t)*Rtps_sc(t)\n",
        "\n",
        "print(\"Salan'isa R hoan'ny\", datyt, ':', Rtps_salan(datyt))\n",
        "\n",
        "# 95th and 5th percentiles\n",
        "\n",
        "def perc95(t):\n",
        "  return gengamma.ppf(0.95, Rtps_sh(t), 1, loc = 0, scale = Rtps_sc(t))\n",
        "\n",
        "def perc05(t):\n",
        "  return gengamma.ppf(0.05, Rtps_sh(t), 1, loc = 0, scale = Rtps_sc(t))\n",
        "\n",
        "\n",
        "# for plotting\n",
        "\n",
        "formatf_date = lambda date_py: '{}/{}'.format(date_py.day, date_py.month)\n",
        "\n",
        "daty_lst = []\n",
        "\n",
        "salan_Rt = []\n",
        "perc95_lst = []\n",
        "perc05_lst = []\n",
        "\n",
        "salan_Rt_dat = []\n",
        "salan_Rt_perc_dat = []\n",
        "\n",
        "for i in range(round(((daty_data_mifar - daty_data_manom).days) - 1)):\n",
        "  t = daty_data_manom + datetime.timedelta(days = i+1)\n",
        "  daty = formatf_date(t)\n",
        "  daty_lst.append(daty)\n",
        "  salan_Rt.append(Rtps_salan(t))\n",
        "  perc95_lst.append(perc95(t))\n",
        "  perc05_lst.append(perc05(t))\n",
        "  salan_Rt_dat.append((Rtps_salan(t),t))\n",
        "  salan_Rt_perc_dat.append((perc95(t),Rtps_salan(t),perc05(t),t))\n",
        "\n",
        "salan_Rt_perc_dat"
      ],
      "execution_count": 10,
      "outputs": [
        {
          "output_type": "stream",
          "text": [
            "Salan'isa R hoan'ny 2020-05-25 : 3.583629688418945\n"
          ],
          "name": "stdout"
        },
        {
          "output_type": "execute_result",
          "data": {
            "text/plain": [
              "[(4.992166663846674, 3.91, 2.9413773420805533, datetime.date(2020, 5, 10)),\n",
              " (6.339861271705853, 5.11, 3.9937203467836215, datetime.date(2020, 5, 11)),\n",
              " (5.443651734325651,\n",
              "  4.3100000000000005,\n",
              "  3.2899071584026176,\n",
              "  datetime.date(2020, 5, 12)),\n",
              " (7.670932918031564,\n",
              "  6.3100000000000005,\n",
              "  5.062671914411912,\n",
              "  datetime.date(2020, 5, 13)),\n",
              " (9.427511055602324, 7.91, 6.506113715685868, datetime.date(2020, 5, 14)),\n",
              " (9.536743454277362, 8.01, 6.596882297354921, datetime.date(2020, 5, 15)),\n",
              " (14.082596143862368, 12.21, 10.451056233235619, datetime.date(2020, 5, 16)),\n",
              " (15.691108382393152, 13.71, 11.842549538551975, datetime.date(2020, 5, 17)),\n",
              " (17.40048261551094, 15.31, 13.33318001830643, datetime.date(2020, 5, 18)),\n",
              " (16.498495651229593,\n",
              "  14.527954696959263,\n",
              "  12.663880097138275,\n",
              "  datetime.date(2020, 5, 19)),\n",
              " (17.139138847781346,\n",
              "  15.249809741975955,\n",
              "  13.454129470538556,\n",
              "  datetime.date(2020, 5, 20)),\n",
              " (12.822020804717075,\n",
              "  11.496671173251302,\n",
              "  10.23264826665223,\n",
              "  datetime.date(2020, 5, 21)),\n",
              " (9.628554870491126,\n",
              "  8.679053483302464,\n",
              "  7.771339776636968,\n",
              "  datetime.date(2020, 5, 22)),\n",
              " (7.032440357936659,\n",
              "  6.366854514352627,\n",
              "  5.729311208793387,\n",
              "  datetime.date(2020, 5, 23)),\n",
              " (5.5362560221160715,\n",
              "  5.039072955811505,\n",
              "  4.561704828396555,\n",
              "  datetime.date(2020, 5, 24)),\n",
              " (3.957521251220233,\n",
              "  3.583629688418945,\n",
              "  3.22546116350767,\n",
              "  datetime.date(2020, 5, 25))]"
            ]
          },
          "metadata": {
            "tags": []
          },
          "execution_count": 10
        }
      ]
    },
    {
      "cell_type": "code",
      "metadata": {
        "id": "vh4oSzCqGfrX",
        "colab_type": "code",
        "outputId": "6465fa26-5c3a-4595-d23b-dd7e8da9ead7",
        "colab": {
          "base_uri": "https://localhost:8080/",
          "height": 664
        }
      },
      "source": [
        "# Plotting\n",
        "\n",
        "fig = plt.figure(figsize=(10, 10))\n",
        "\n",
        "plt.plot(daty_lst, salan_Rt, 'b',  marker =\"+\",ls = 'None')\n",
        "plt.fill_between(daty_lst, perc05_lst, perc95_lst, alpha=0.08, color=\"tab:red\")\n",
        "\n",
        "plt.savefig(path_to_save+'R_10_25.eps')\n",
        "plt.show()"
      ],
      "execution_count": 11,
      "outputs": [
        {
          "output_type": "stream",
          "text": [
            "The PostScript backend does not support transparency; partially transparent artists will be rendered opaque.\n",
            "The PostScript backend does not support transparency; partially transparent artists will be rendered opaque.\n",
            "The PostScript backend does not support transparency; partially transparent artists will be rendered opaque.\n"
          ],
          "name": "stderr"
        },
        {
          "output_type": "display_data",
          "data": {
            "image/png": "[encoded data removed]",
            "text/plain": [
              "<Figure size 720x720 with 1 Axes>"
            ]
          },
          "metadata": {
            "tags": [],
            "needs_background": "light"
          }
        }
      ]
    }
  ]
}