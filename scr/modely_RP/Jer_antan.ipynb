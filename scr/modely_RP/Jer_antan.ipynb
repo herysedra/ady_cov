{
  "nbformat": 4,
  "nbformat_minor": 0,
  "metadata": {
    "colab": {
      "name": "Jer_antan.ipynb",
      "provenance": [],
      "authorship_tag": "ABX9TyP62YXAsEkYXz8ZpL9GwtFT",
      "include_colab_link": true
    },
    "kernelspec": {
      "name": "python3",
      "display_name": "Python 3"
    }
  },
  "cells": [
    {
      "cell_type": "markdown",
      "metadata": {
        "id": "view-in-github",
        "colab_type": "text"
      },
      "source": [
        "<a href=\"https://colab.research.google.com/github/herysedra/ady_cov/blob/master/scr/modely_RP/Jer_antan.ipynb\" target=\"_parent\"><img src=\"https://colab.research.google.com/assets/colab-badge.svg\" alt=\"Open In Colab\"/></a>"
      ]
    },
    {
      "cell_type": "code",
      "metadata": {
        "id": "zxbKn28Z_UZa",
        "colab_type": "code",
        "colab": {
          "base_uri": "https://localhost:8080/",
          "height": 124
        },
        "outputId": "46d16749-831f-4138-9b26-bfa4240f5c4c"
      },
      "source": [
        "from google.colab import drive\n",
        "drive.mount('/content/drive')"
      ],
      "execution_count": 1,
      "outputs": [
        {
          "output_type": "stream",
          "text": [
            "Go to this URL in a browser: https://accounts.google.com/o/oauth2/auth?client_id=947318989803-6bn6qk8qdgf4n4g3pfee6491hc0brc4i.apps.googleusercontent.com&redirect_uri=urn%3aietf%3awg%3aoauth%3a2.0%3aoob&response_type=code&scope=email%20https%3a%2f%2fwww.googleapis.com%2fauth%2fdocs.test%20https%3a%2f%2fwww.googleapis.com%2fauth%2fdrive%20https%3a%2f%2fwww.googleapis.com%2fauth%2fdrive.photos.readonly%20https%3a%2f%2fwww.googleapis.com%2fauth%2fpeopleapi.readonly\n",
            "\n",
            "Enter your authorization code:\n",
            "··········\n",
            "Mounted at /content/drive\n"
          ],
          "name": "stdout"
        }
      ]
    },
    {
      "cell_type": "code",
      "metadata": {
        "id": "evoQWG3yHBty",
        "colab_type": "code",
        "colab": {
          "base_uri": "https://localhost:8080/",
          "height": 228
        },
        "outputId": "f1b99d69-1b7d-4ccf-f06c-231c6284f303"
      },
      "source": [
        "!pip install pynverse"
      ],
      "execution_count": 2,
      "outputs": [
        {
          "output_type": "stream",
          "text": [
            "Collecting pynverse\n",
            "  Downloading https://files.pythonhosted.org/packages/88/f8/fb90087055b1502def9b6e835e80fa548996bf1439a81583e592f388f4c9/pynverse-0.1.4.4.tar.gz\n",
            "Requirement already satisfied: scipy>=0.11 in /usr/local/lib/python3.6/dist-packages (from pynverse) (1.4.1)\n",
            "Requirement already satisfied: numpy>=1.6 in /usr/local/lib/python3.6/dist-packages (from pynverse) (1.18.5)\n",
            "Building wheels for collected packages: pynverse\n",
            "  Building wheel for pynverse (setup.py) ... \u001b[?25l\u001b[?25hdone\n",
            "  Created wheel for pynverse: filename=pynverse-0.1.4.4-cp36-none-any.whl size=6350 sha256=bc422500d46a849ac1f24b9e9eb4cabf9df33ea0f004d56ac947018f8eafa094\n",
            "  Stored in directory: /root/.cache/pip/wheels/80/ab/86/ec93f37613f012ba3e65c2bbd67e5c54cbc00d237574100c24\n",
            "Successfully built pynverse\n",
            "Installing collected packages: pynverse\n",
            "Successfully installed pynverse-0.1.4.4\n"
          ],
          "name": "stdout"
        }
      ]
    },
    {
      "cell_type": "code",
      "metadata": {
        "id": "W2utO1vXHK1E",
        "colab_type": "code",
        "colab": {
          "base_uri": "https://localhost:8080/",
          "height": 72
        },
        "outputId": "bf3d1ce5-a483-439b-c0f3-66b18bcf1135"
      },
      "source": [
        "import pandas as pd\n",
        "import numpy as np\n",
        "import matplotlib.pyplot as plt\n",
        "import scipy.stats\n",
        "import matplotlib\n",
        "import pickle\n",
        "\n",
        "import datetime\n",
        "import time\n",
        "from datetime import date\n",
        "\n",
        "import matplotlib.dates as mdates\n",
        "from matplotlib.dates import DateFormatter\n",
        "import seaborn as sns\n",
        "\n",
        "from numpy import log,exp\n",
        "from numpy.random import multinomial\n",
        "from scipy.stats import uniform, gamma, gengamma, poisson, nbinom, expon\n",
        "from scipy.integrate import quad\n",
        "\n",
        "\n",
        "from mpl_toolkits.mplot3d.axes3d import Axes3D, get_test_data\n",
        "from matplotlib import cm\n",
        "from matplotlib.ticker import LinearLocator, FormatStrFormatter\n",
        "\n",
        "from pynverse import inversefunc\n",
        "\n",
        "tilyvoa = pd.read_csv(\"/content/drive/My Drive/data/tilyvoa.csv\")\n",
        "\n",
        "mdg_databe = pd.read_csv(\"/content/drive/My Drive/data/databe mdg.csv\")\n",
        "\n",
        "#tilyvoa.set_index('Daty', inplace=True)\n",
        "\n",
        "tilyvoafar = tilyvoa.groupby('Faritra')\n",
        "\n",
        "tilyvoamdg = tilyvoafar.get_group('Madagasikara')\n",
        "tilyvoamdg.set_index('Daty', inplace=True)\n",
        "tilyvoamdg.index = pd.to_datetime(tilyvoamdg.index)\n",
        "\n",
        "tilyvoatana = tilyvoafar.get_group('Antananarivo')\n",
        "tilyvoatana.set_index('Daty', inplace=True)\n",
        "tilyvoatana.index = pd.to_datetime(tilyvoatana.index)\n",
        "\n",
        "\n",
        "path_to_save = '/content/drive/My Drive/sary/'\n",
        "path_data = '/content/drive/My Drive/data/'"
      ],
      "execution_count": 3,
      "outputs": [
        {
          "output_type": "stream",
          "text": [
            "/usr/local/lib/python3.6/dist-packages/statsmodels/tools/_testing.py:19: FutureWarning: pandas.util.testing is deprecated. Use the functions in the public API at pandas.testing instead.\n",
            "  import pandas.util.testing as tm\n"
          ],
          "name": "stderr"
        }
      ]
    },
    {
      "cell_type": "code",
      "metadata": {
        "id": "543CfYuVHOqK",
        "colab_type": "code",
        "colab": {}
      },
      "source": [
        "# Voa vaovao (observed incidence)\n",
        "Ivaotana = tilyvoatana['Voatomb']\n",
        "\n",
        "dIvao = pd.DataFrame(data =Ivaotana)\n",
        "\n",
        "# Hoan'ny taha sorisoritry ny fifindrana (infectioness profile distribution)\n",
        "\n",
        "daty_data_manom = datetime.date(2020,6,1)\n",
        "daty_data_mifar = datetime.date(2020,6,27)\n",
        "\n",
        "datyt = daty_data_mifar \n",
        "\n",
        "format_date = lambda date_py: '{}-{}-{}'.format(date_py.year, date_py.month, date_py.day)\n",
        "\n",
        "\n",
        "# Discretization of the serial interval distribution\n",
        "\n",
        "#Tombana mialoha (prior distributions)\n",
        "#si_sh = 1/(0.62**2) # Report 13\n",
        "#si_sc = 6.5/si_sh\n",
        "\n",
        "si_sh = (6.48**2)/(3.83**2) # Planning tool: Short-term forecasts\n",
        "si_sc = 6.48/si_sh\n",
        "\n",
        "def discr_si(t):\n",
        "  if t == 0:\n",
        "    discrsi = 0\n",
        "  elif t == 1:\n",
        "    discrsi = gengamma.cdf(3/2, si_sh, 1, loc = 0, scale = si_sc)\n",
        "  else:\n",
        "    discrsi = gengamma.cdf(t+1/2, si_sh, 1, loc = 0, scale = si_sc) - gengamma.cdf(t-1/2, si_sh, 1, loc = 0, scale = si_sc)\n",
        "  return discrsi\n",
        "\n",
        "#discr_si1 = gengamma.cdf(3/2, si_sh, 1, loc = 0, scale = si_sc)\n",
        "\n",
        "# 1/ The total incidence over a generic window (t-k+1,t)\n",
        "# Ireh(t,k) = sum(i = 0 to k-1) Ivao(t - i))\n",
        "\n",
        "def Ireh(t,k):\n",
        "  Irehv = 0\n",
        "  if k - 1 > (t - daty_data_manom).days:\n",
        "    for i in range((t - daty_data_manom).days + 1):\n",
        "      Irehv = Irehv + dIvao['Voatomb'].loc[format_date(t - datetime.timedelta(days = i))]\n",
        "  else:\n",
        "    for i in range(k):\n",
        "      Irehv = Irehv + dIvao['Voatomb'].loc[format_date(t - datetime.timedelta(days = i))]\n",
        "  return Irehv\n",
        "\n",
        "# 2/ Tool to compute the total infectiousness over a generic window (t-k+1,t)\n",
        "# Isi(t,k) = sum(i=0 to k-1) Ivao(t - i)*discr_si(i)\n",
        "\n",
        "# The definition of Isi(t,k) does not include the term Ivao(t) for i = 0 (because discr_si(0) =0) \n",
        "# so we can start the sum from i = 1; but it includes the last term Ivao(t - k + 1)*discr_si(k - 1) for i = k-1. \n",
        "\n",
        "def Isi(t,k):\n",
        "  Ivaosi = 0\n",
        "  if k - 1 > (t - daty_data_manom).days:\n",
        "    for i in range(1, (t - daty_data_manom).days + 1):\n",
        "      Ivaosi = Ivaosi + dIvao['Voatomb'].loc[format_date(t - datetime.timedelta(days = i))]*discr_si(i)\n",
        "  else:\n",
        "    for i in range(1, k):\n",
        "      Ivaosi = Ivaosi + dIvao['Voatomb'].loc[format_date(t - datetime.timedelta(days = i))]*discr_si(i)\n",
        "  return Ivaosi\n",
        "\n",
        "# The total infectiousness before t\n",
        "\n",
        "# lsi(t) := sum(i=0 to t-1) Ivao(t - i)*discr_si(i)\n",
        "\n",
        "def lsi(t):\n",
        "  return Isi(t, (t - daty_data_manom).days +1)\n",
        "\n",
        "  # for checking, take for example t = daty_data_manom + datetime.timedelta(days = 3)\n",
        "\n",
        "# 3/ The sum of total infectiousness before t over a generic window (t-k+1,t)\n",
        "# tlsi(t) := sum(i=t-k+1 to t)lsi(i)\n",
        "\n",
        "def tlsi(t,k):\n",
        "  tlsi = 0\n",
        "  if k - 1 > (t - daty_data_manom).days:\n",
        "    for i in range((t - daty_data_manom).days + 1):\n",
        "      tlsi = tlsi + lsi(t - datetime.timedelta(days = i))\n",
        "  else:\n",
        "    for i in range(k):\n",
        "      tlsi = tlsi + lsi(t - datetime.timedelta(days = i))\n",
        "  return tlsi\n",
        "\n",
        "# 4/ The shape parameters of the posterior predictive negative binomial of I(t+1)\n",
        "# pnb(t,k) = lsi(t+1)*Gamma_post_scale(R(t,k))/(1 + lsi(t+1)*Gamma_post_scale(R(t,k)))\n",
        "\n",
        "def pnb(t,k):\n",
        "  return lsi(t+datetime.timedelta(days = 1))/(1/si_sc + tlsi(t,k) + lsi(t+datetime.timedelta(days = 1)))\n",
        "\n",
        "# pnb(t,k) dia ny taha herjika hoan'ny NB hoan'ny I(t+1).\n",
        "\n",
        "# 5/ Use the pmf of the posterior predictive negative binomial to compute\n",
        "# each additive contribution at time s then for-loop for s in the time interval\n",
        "\n",
        "def lpr(t,k):\n",
        "  return -np.log(nbinom.pmf(dIvao['Voatomb'].loc[format_date(t + datetime.timedelta(days = 1))], si_sh + Ireh(t,k), pnb(t,k)))\n"
      ],
      "execution_count": 113,
      "outputs": []
    },
    {
      "cell_type": "code",
      "metadata": {
        "id": "_vQV5HsaHagC",
        "colab_type": "code",
        "colab": {
          "base_uri": "https://localhost:8080/",
          "height": 141
        },
        "outputId": "02489f21-06b7-44af-898b-0e2f3d68e714"
      },
      "source": [
        "# 6/ Computation of the Accumulated Predictive Error\n",
        "\n",
        "# APE9_part1 \n",
        "\n",
        "# for i in range(8):\n",
        "# t = t_mif - i - 1\n",
        "# k = 9\n",
        "\n",
        "APEt91 = []\n",
        "Prt91 = []\n",
        "\n",
        "APE91 = 0\n",
        "\n",
        "for i in range(round(((daty_data_mifar - daty_data_manom).days + 1)/2) - 1):\n",
        "  t = daty_data_mifar - datetime.timedelta(days = i+1) \n",
        "  k = round(((daty_data_mifar - daty_data_manom).days + 1)/2)\n",
        "  APE91 = APE91 + lpr(t,k)\n",
        "  APEt91.append((lpr(t,k),t))\n",
        "  Prt91.append(expon.pdf(lpr(t,k)))\n",
        "\n",
        "print('For k = 9, APE91 =', APE91)\n",
        "print('APEt91 =', APEt91)\n",
        "print('Prt91 =', Prt91)\n",
        "\n",
        "# APE9_part2 \n",
        "\n",
        "# for i in range(9):\n",
        "# t = t_mif - 1 - 9 + 1 - i\n",
        "# k = t_mif - t - 2*i\n",
        "APEt92 = []\n",
        "Prt92 = []\n",
        "\n",
        "APE92 = 0\n",
        "for i in range(round(((daty_data_mifar - daty_data_manom).days + 1)/2)-1):\n",
        "  t = daty_data_mifar - datetime.timedelta(days = 1) - datetime.timedelta(days = ((daty_data_mifar - daty_data_manom).days + 1)/2) + datetime.timedelta(days = 1) - datetime.timedelta(days = i)\n",
        "  k = (daty_data_mifar - t - datetime.timedelta(days = 2*i)).days\n",
        "  APE92 = APE92 + lpr(t,k) \n",
        "  APEt92.append((lpr(t,k) ,t,k))\n",
        "  Prt92.append(expon.pdf(lpr(t,k)))\n",
        "\n",
        "print('For k = 9, APE92 =', APE92)\n",
        "print('APEt92=', APEt92)\n",
        "print('Prt92=', Prt92)\n",
        "\n",
        "# For t_man such that Ivao(t_man) = Ivao(t_man + 1) = 0, lsi(t_man + 1) = tlsi(t_man + 1, 2) = Ireh(t_man + 1, 2) = 0\n",
        "# so that pnb(t_man + 1, 2) = 0 and "
      ],
      "execution_count": 20,
      "outputs": [
        {
          "output_type": "stream",
          "text": [
            "For k = 9, APE91 = 6753.097392059886\n",
            "APEt91 = [(731.2222165625177, datetime.date(2020, 6, 26)), (737.1050900425095, datetime.date(2020, 6, 25)), (698.264687642937, datetime.date(2020, 6, 24)), (651.976043304248, datetime.date(2020, 6, 23)), (447.46080344453867, datetime.date(2020, 6, 22)), (618.3117024080616, datetime.date(2020, 6, 21)), (433.90192471536585, datetime.date(2020, 6, 20)), (450.51620102512055, datetime.date(2020, 6, 19)), (426.2772875281689, datetime.date(2020, 6, 18)), (512.3070269349704, datetime.date(2020, 6, 17)), (364.7448620922102, datetime.date(2020, 6, 16)), (338.36012348792053, datetime.date(2020, 6, 15)), (342.6494228713177, datetime.date(2020, 6, 14))]\n",
            "Prt91 = [2.717855e-318, 7.574e-321, 5.591125604390801e-304, 7.086014877906335e-284, 4.679960591620722e-195, 2.9555584191511646e-269, 3.62066554268243e-189, 2.2044481417239003e-196, 7.415257995574412e-186, 3.2202171742518067e-223, 3.920298088292646e-159, 1.1273674023077694e-147, 1.5461314691274077e-149]\n",
            "For k = 9, APE92 = 1542.0246772900157\n",
            "APEt92= [(332.28391832775935, datetime.date(2020, 6, 14), 13), (299.20742673026973, datetime.date(2020, 6, 13), 12), (238.56898358038288, datetime.date(2020, 6, 12), 11), (177.183875056826, datetime.date(2020, 6, 11), 10), (146.61873902315548, datetime.date(2020, 6, 10), 9), (132.06675273654, datetime.date(2020, 6, 9), 8), (117.92678682753065, datetime.date(2020, 6, 8), 7), (33.03402820761228, datetime.date(2020, 6, 7), 6), (33.85473593360052, datetime.date(2020, 6, 6), 5), (5.532269793708178, datetime.date(2020, 6, 5), 4), (11.311278991245224, datetime.date(2020, 6, 4), 3), (7.650210571236627, datetime.date(2020, 6, 3), 2), (6.785671510149021, datetime.date(2020, 6, 2), 1)]\n",
            "Prt92= [4.908263220784544e-145, 1.1372753512775494e-130, 2.4592737702100596e-104, 1.1220721431213027e-77, 2.110040050238325e-64, 4.4069491931127894e-58, 6.096031636952824e-52, 4.5030195699858285e-15, 1.9818692426608686e-15, 0.003956997320600157, 1.223415422153646e-05, 0.0004759438983745482, 0.001129848743927109]\n"
          ],
          "name": "stdout"
        }
      ]
    },
    {
      "cell_type": "code",
      "metadata": {
        "id": "QFiLAo6aHrir",
        "colab_type": "code",
        "colab": {
          "base_uri": "https://localhost:8080/",
          "height": 72
        },
        "outputId": "8df2f190-3f9d-4f29-af8b-26a19d3e10b1"
      },
      "source": [
        "# APEk part 1 for k =/= 9\n",
        "\n",
        "# for i in range(t_mif - t_man -j)\n",
        "\n",
        "APEk1 = []\n",
        "#APEt21 = []\n",
        "for j in range(2,9):\n",
        "  APEj1 = 0\n",
        "  for i in range(round(((daty_data_mifar - daty_data_manom).days) - j)):\n",
        "    t = daty_data_mifar - datetime.timedelta(days = i+1) \n",
        "    k = j\n",
        "    APEj1 = APEj1 + lpr(t,k)\n",
        "   # APEt21.append(lpr(t,k))\n",
        "  APEk1.append(APEj1)\n",
        "\n",
        "print('APEk1 =', APEk1)\n",
        "#print('APEt21 =', APEt21)\n",
        "\n",
        "# APEk part 2 for k =/= 9\n",
        "\n",
        "Prk2 = []\n",
        "\n",
        "APEk2 = []\n",
        "\n",
        "for j in range(2,9):\n",
        "  APEj2 = 0\n",
        "  for i in range(j-1):\n",
        "    t = daty_data_manom + datetime.timedelta(days = j - i - 1)\n",
        "    k = j - i\n",
        "    APEj2 = APEj2 + lpr(t,k)\n",
        "  APEk2.append(APEj2)\n",
        "\n",
        "print('APEk2 =', APEk2)"
      ],
      "execution_count": 21,
      "outputs": [
        {
          "output_type": "stream",
          "text": [
            "APEk1 = [464.85473711500003, 1074.940746521299, 1804.505981863573, 2550.846636918215, 3291.1393128830127, 3965.3626674063016, 4500.958555596877]\n",
            "APEk2 = [3.85835745139366, 13.596115135726341, 27.574718673333194, 34.73353516224446, 72.53677678280911, 109.27117371667555, 232.88445212703985]\n"
          ],
          "name": "stdout"
        }
      ]
    },
    {
      "cell_type": "code",
      "metadata": {
        "id": "yoGi1QXMHw9J",
        "colab_type": "code",
        "colab": {
          "base_uri": "https://localhost:8080/",
          "height": 106
        },
        "outputId": "36e31811-f784-4aad-a843-6c0c5e8efee2"
      },
      "source": [
        "# APEk for k = 2,...,8\n",
        "\n",
        "APEk = [x + y for x, y in zip(APEk1, APEk2)]\n",
        "\n",
        "# APE9\n",
        "APE9 = APE91 + APE92\n",
        "\n",
        "APE = APEk + [APE9]\n",
        "kk = APE.index(min(APE)) +2\n",
        "print('APE9 =', APE9)\n",
        "print('APEk =', APEk)\n",
        "print('APE =', APE)\n",
        "print(kk)\n"
      ],
      "execution_count": 22,
      "outputs": [
        {
          "output_type": "stream",
          "text": [
            "APE9 = 8295.122069349902\n",
            "APEk = [468.7130945663937, 1088.5368616570254, 1832.080700536906, 2585.5801720804598, 3363.676089665822, 4074.633841122977, 4733.843007723917]\n",
            "APE = [468.7130945663937, 1088.5368616570254, 1832.080700536906, 2585.5801720804598, 3363.676089665822, 4074.633841122977, 4733.843007723917, 8295.122069349902]\n",
            "2\n"
          ],
          "name": "stdout"
        }
      ]
    },
    {
      "cell_type": "code",
      "metadata": {
        "id": "LMA7HzxEHz_l",
        "colab_type": "code",
        "colab": {}
      },
      "source": [
        "#shape\n",
        "def func_sh(t):\n",
        "    def Rtpsand_sh(a):\n",
        "      return a + Ireh(t,kk)\n",
        "    return Rtpsand_sh\n",
        "\n",
        "# Scale\n",
        "def func_sc(t):\n",
        "    def Rtpsand_sc(b):\n",
        "      return 1/(1/b + tlsi(t,kk))\n",
        "    return Rtpsand_sc\n",
        "\n",
        "\n",
        "def funcsh_inv(t):\n",
        "    def sh_invex(x):\n",
        "      return (x + Ireh(t,kk))/x\n",
        "    return inversefunc(sh_invex, domain=[1e-11, 1e+11])\n",
        "\n",
        "def Rt_salan(t):\n",
        "    ffunc_sh = func_sh(t)\n",
        "    ffunc_sc = func_sc(t)\n",
        "    ffuncsh_inv = funcsh_inv(t)\n",
        "    return ffuncsh_inv(1/ffunc_sc(1))\n",
        "\n",
        "# The 95th and 5th percentiles of Rt\n",
        "\n",
        "def perc75(t):\n",
        "    return gengamma.ppf(0.75, func_sh(t)(Rt_salan(t)), 1, loc = 0, scale = func_sc(t)(1))\n",
        "\n",
        "def perc25(t):\n",
        "    return gengamma.ppf(0.25, func_sh(t)(Rt_salan(t)), 1, loc = 0, scale = func_sc(t)(1))\n",
        "\n",
        "def Rtps_sal(t):\n",
        "  return dIvao['Voatomb'].loc[format_date(t)]/lsi(t)"
      ],
      "execution_count": 23,
      "outputs": []
    },
    {
      "cell_type": "code",
      "metadata": {
        "id": "wI8wRQuSIBIl",
        "colab_type": "code",
        "colab": {}
      },
      "source": [
        "# Plotting everything except the first 7 days\n",
        "\n",
        "np.random.seed(12345)\n",
        "\n",
        "formatf_date = lambda date_py: '{}/{}'.format(date_py.day, str(date_py.month)[0:1])\n",
        "\n",
        "daty_lst = []\n",
        "\n",
        "data_Rt_lst = []\n",
        "\n",
        "for i in range(round(((daty_data_mifar - daty_data_manom).days) -7)):\n",
        "  t = daty_data_manom + datetime.timedelta(days = i+1 +7)\n",
        "  data_amboar = [gengamma.rvs( func_sh(t)(Rt_salan(t)), 1, loc = 0, scale = func_sc(t)(1)) for j in range(100)]\n",
        "  daty_lst.append(formatf_date(t))\n",
        "  data_Rt_lst.append(data_amboar)\n"
      ],
      "execution_count": 24,
      "outputs": []
    },
    {
      "cell_type": "code",
      "metadata": {
        "id": "xGkXXp-UIJez",
        "colab_type": "code",
        "colab": {
          "base_uri": "https://localhost:8080/",
          "height": 769
        },
        "outputId": "6d8879ce-e994-4575-d5cd-b792ef7d25a3"
      },
      "source": [
        "# Plotting everything except the first 7 days\n",
        "\n",
        "\n",
        "fig, ax = plt.subplots(figsize=(12, 12))\n",
        "\n",
        "sns.boxplot(daty_lst, data_Rt_lst, color='white', width=0.2, showfliers=False, ax=ax)\n",
        "ax.axhline(y=1, color='b', linestyle='dashed', label =\"R = 1\")\n",
        "\n",
        "ax.set(xlabel ='Andro', ylabel = \"R hoan'Antananarivo\")\n",
        "ax.legend(loc= 'best')\n",
        "\n",
        "plt.savefig(path_to_save+'Rt96276_anta.png')\n",
        "plt.savefig(path_to_save+'Rt96276_anta.eps')\n",
        "plt.show()"
      ],
      "execution_count": 26,
      "outputs": [
        {
          "output_type": "stream",
          "text": [
            "The PostScript backend does not support transparency; partially transparent artists will be rendered opaque.\n",
            "The PostScript backend does not support transparency; partially transparent artists will be rendered opaque.\n"
          ],
          "name": "stderr"
        },
        {
          "output_type": "display_data",
          "data": {
            "image/png": "[encoded data removed]",
            "text/plain": [
              "<Figure size 864x864 with 1 Axes>"
            ]
          },
          "metadata": {
            "tags": [],
            "needs_background": "light"
          }
        }
      ]
    },
    {
      "cell_type": "markdown",
      "metadata": {
        "id": "o5Ujc4ibIWis",
        "colab_type": "text"
      },
      "source": [
        "## Herinandro voalohany"
      ]
    },
    {
      "cell_type": "code",
      "metadata": {
        "id": "1Wj3_eprIZGW",
        "colab_type": "code",
        "colab": {}
      },
      "source": [
        "daty_ambaj = datetime.date(2020,6,14)\n",
        "daty_amboj = datetime.date(2020,6,17)\n",
        "\n",
        "daty_data_mifarj = datetime.date(2020,6,13)"
      ],
      "execution_count": 106,
      "outputs": []
    },
    {
      "cell_type": "code",
      "metadata": {
        "id": "KxYK5RtdIb-a",
        "colab_type": "code",
        "colab": {
          "base_uri": "https://localhost:8080/",
          "height": 121
        },
        "outputId": "eb17a2fe-bdb6-482e-e5fc-44e55170c55e"
      },
      "source": [
        "daty_oh1 = daty_ambaj\n",
        "\n",
        "print(\"Tombana ambany: R \",daty_oh1,':',  Rt_salan(daty_oh1))\n",
        "print(\"75%-kartily R :\",':', perc75(daty_oh1))\n",
        "print(\"25%-kartily R :\", perc25(daty_oh1))\n",
        "\n",
        "daty_oh2 = daty_amboj\n",
        "\n",
        "print(\"Tombana ambony: R\", daty_oh2,':', Rt_salan(daty_oh2))\n",
        "print(\"75%-kartily R :\",':', perc75(daty_oh2))\n",
        "print(\"25%-kartily R :\", perc25(daty_oh2))\n"
      ],
      "execution_count": 107,
      "outputs": [
        {
          "output_type": "stream",
          "text": [
            "Tombana ambany: R  2020-06-14 : 0.6876876474163751\n",
            "75%-kartily R : : 0.7872828799175844\n",
            "25%-kartily R : 0.5747808866018158\n",
            "Tombana ambony: R 2020-06-17 : 2.4797044117300278\n",
            "75%-kartily R : : 2.6819367707980324\n",
            "25%-kartily R : 2.2632961790093638\n"
          ],
          "name": "stdout"
        }
      ]
    },
    {
      "cell_type": "markdown",
      "metadata": {
        "id": "_nY3AQJ4IfZ4",
        "colab_type": "text"
      },
      "source": [
        "### Manaikaky avy aty ambany"
      ]
    },
    {
      "cell_type": "code",
      "metadata": {
        "id": "8MDgOt8oIeq-",
        "colab_type": "code",
        "colab": {}
      },
      "source": [
        "# Computing Ivao(daty_mifarj + i) for i in a given range\n",
        "\n",
        "daty_m1j = daty_data_mifarj + datetime.timedelta(days = 1)\n",
        "\n",
        "Rt_amba_hitsiny = 0\n",
        "Rt_vinaj = Rt_salan(daty_ambaj) + Rt_amba_hitsiny\n",
        "\n",
        "Iv = int(Rt_vinaj*lsi(daty_m1j))\n",
        "\n",
        "dIvao.loc[pd.to_datetime(daty_m1j)] =[Iv]\n",
        "\n",
        "for i in range(1,8):\n",
        " tj = daty_m1j + datetime.timedelta(days = i)\n",
        " Ivv = int(Rt_vinaj*lsi(tj))\n",
        " dIvao.loc[pd.to_datetime(tj)] = [Ivv]"
      ],
      "execution_count": 108,
      "outputs": []
    },
    {
      "cell_type": "code",
      "metadata": {
        "id": "OTKWLvnkIkoq",
        "colab_type": "code",
        "colab": {}
      },
      "source": [
        "# Sampling\n",
        "\n",
        "np.random.seed(12345)\n",
        "\n",
        "formatf_date = lambda date_py: '{}/{}'.format(date_py.day, str(date_py.month)[0:1])\n",
        "\n",
        "daty_j_lst = []\n",
        "\n",
        "data_baj = []\n",
        "\n",
        "\n",
        "for i in range(1,8):\n",
        "  t = daty_data_mifarj + datetime.timedelta(days = i)\n",
        "  daty = formatf_date(t)\n",
        "  datyy = format_date(t)\n",
        "  data_amboar = [ poisson.rvs(dIvao.loc[datyy]) for j in range(600)]\n",
        "  daty_j_lst.append(daty)\n",
        "  data_baj.append(data_amboar)\n"
      ],
      "execution_count": 109,
      "outputs": []
    },
    {
      "cell_type": "markdown",
      "metadata": {
        "id": "LNNqJIYuIx2L",
        "colab_type": "text"
      },
      "source": [
        "### Manakaiky avy aty ambony"
      ]
    },
    {
      "cell_type": "code",
      "metadata": {
        "id": "2XzmUj-GIxPP",
        "colab_type": "code",
        "colab": {}
      },
      "source": [
        "# Computing Ivao(daty_mifarj + i) for i in a given range\n",
        "\n",
        "daty_m1j = daty_data_mifarj + datetime.timedelta(days = 1)\n",
        "\n",
        "Rt_ambo_hitsiny = (Rt_salan(datetime.date(2020,6,18)) - Rt_salan(daty_amboj))/2\n",
        "Rt_vinaj = Rt_salan(daty_amboj) + Rt_ambo_hitsiny\n",
        "\n",
        "Iv = int(Rt_vinaj*lsi(daty_m1j))\n",
        "\n",
        "dIvao.loc[pd.to_datetime(daty_m1j)] =[Iv]\n",
        "\n",
        "for i in range(1,8):\n",
        " tj = daty_m1j + datetime.timedelta(days = i)\n",
        " Ivv = int(Rt_vinaj*lsi(tj))\n",
        " dIvao.loc[pd.to_datetime(tj)] = [Ivv]"
      ],
      "execution_count": 111,
      "outputs": []
    },
    {
      "cell_type": "code",
      "metadata": {
        "id": "hZ_Lc-XzJAxW",
        "colab_type": "code",
        "colab": {}
      },
      "source": [
        "# Sampling\n",
        "\n",
        "np.random.seed(12345)\n",
        "\n",
        "formatf_date = lambda date_py: '{}/{}'.format(date_py.day, str(date_py.month)[0:1])\n",
        "\n",
        "daty_j_lst = []\n",
        "\n",
        "data_boj = []\n",
        "\n",
        "\n",
        "for i in range(1,8):\n",
        "  t = daty_data_mifarj + datetime.timedelta(days = i)\n",
        "  daty = formatf_date(t)\n",
        "  datyy = format_date(t)\n",
        "  data_amboar = [ poisson.rvs(dIvao.loc[datyy]) for j in range(600)]\n",
        "  daty_j_lst.append(daty)\n",
        "  data_boj.append(data_amboar)\n"
      ],
      "execution_count": 112,
      "outputs": []
    },
    {
      "cell_type": "markdown",
      "metadata": {
        "id": "9M9lH6oyJHfE",
        "colab_type": "text"
      },
      "source": [
        "### Sary"
      ]
    },
    {
      "cell_type": "code",
      "metadata": {
        "id": "iZ7GVe_nJJAk",
        "colab_type": "code",
        "colab": {
          "base_uri": "https://localhost:8080/",
          "height": 391
        },
        "outputId": "5bde7240-71b1-44e5-f517-9959409d5f11"
      },
      "source": [
        "# Plotting\n",
        "\n",
        "fig, ax = plt.subplots(figsize=(10,5))\n",
        "box = sns.boxplot(daty_j_lst, data_baj, color='white', width=0.1, showfliers=False, ax=ax)\n",
        "box = sns.boxplot(daty_j_lst, data_boj, color='grey', width=0.1, showfliers=False, ax=ax)\n",
        "ax.plot(daty_j_lst, dIvao.loc[pd.to_datetime(daty_m1j):pd.to_datetime(daty_m1j + datetime.timedelta(days = 6))], marker =\"o\",ls = 'None', color='blue',label=\"Voa vaovao voatily\")\n",
        "ax.set(xlabel = 'Andro any aoriana', ylabel=\"Vinavina voa vaovao\")\n",
        "\n",
        "plt.legend(loc= 'upper center')\n",
        "\n",
        "plt.savefig(path_to_save+'Iv146206j_anta.eps')\n",
        "plt.savefig(path_to_save+'Iv146206j_anta.png')\n",
        "\n",
        "plt.show()"
      ],
      "execution_count": 114,
      "outputs": [
        {
          "output_type": "stream",
          "text": [
            "The PostScript backend does not support transparency; partially transparent artists will be rendered opaque.\n",
            "The PostScript backend does not support transparency; partially transparent artists will be rendered opaque.\n"
          ],
          "name": "stderr"
        },
        {
          "output_type": "display_data",
          "data": {
            "image/png": "[encoded data removed]",
            "text/plain": [
              "<Figure size 720x360 with 1 Axes>"
            ]
          },
          "metadata": {
            "tags": [],
            "needs_background": "light"
          }
        }
      ]
    },
    {
      "cell_type": "markdown",
      "metadata": {
        "id": "kndQHfEEDPmQ",
        "colab_type": "text"
      },
      "source": [
        "## Herinandro faharoa"
      ]
    },
    {
      "cell_type": "code",
      "metadata": {
        "id": "85RN9AUMC9mv",
        "colab_type": "code",
        "colab": {}
      },
      "source": [
        "daty_ambaj = datetime.date(2020,6,24)\n",
        "daty_amboj = datetime.date(2020,6,21)\n",
        "\n",
        "daty_data_mifarj = datetime.date(2020,6,19)"
      ],
      "execution_count": 99,
      "outputs": []
    },
    {
      "cell_type": "code",
      "metadata": {
        "id": "FHIAd___DOzX",
        "colab_type": "code",
        "colab": {
          "base_uri": "https://localhost:8080/",
          "height": 121
        },
        "outputId": "f0b994ef-b98e-4514-ac5a-55346a8462cf"
      },
      "source": [
        "daty_oh1 = daty_ambaj\n",
        "\n",
        "print(\"Tombana ambany: R \",daty_oh1,':',  Rt_salan(daty_oh1))\n",
        "print(\"75%-kartily R :\",':', perc75(daty_oh1))\n",
        "print(\"25%-kartily R :\", perc25(daty_oh1))\n",
        "\n",
        "daty_oh2 = daty_amboj\n",
        "\n",
        "print(\"Tombana ambony: R\", daty_oh2,':', Rt_salan(daty_oh2))\n",
        "print(\"75%-kartily R :\",':', perc75(daty_oh2))\n",
        "print(\"25%-kartily R :\", perc25(daty_oh2))\n"
      ],
      "execution_count": 100,
      "outputs": [
        {
          "output_type": "stream",
          "text": [
            "Tombana ambany: R  2020-06-24 : 1.8216780964089148\n",
            "75%-kartily R : : 1.9563866003811932\n",
            "25%-kartily R : 1.6784726643511516\n",
            "Tombana ambony: R 2020-06-21 : 1.8124768643487161\n",
            "75%-kartily R : : 1.9658015002416271\n",
            "25%-kartily R : 1.647969619707551\n"
          ],
          "name": "stdout"
        }
      ]
    },
    {
      "cell_type": "markdown",
      "metadata": {
        "id": "Zky7CcmYDdtf",
        "colab_type": "text"
      },
      "source": [
        "### Manakaiky avy aty ambany"
      ]
    },
    {
      "cell_type": "code",
      "metadata": {
        "id": "0Rmk8BIQDg1p",
        "colab_type": "code",
        "colab": {}
      },
      "source": [
        "# Computing Ivao(daty_mifarj + i) for i in a given range\n",
        "\n",
        "daty_m1j = daty_data_mifarj + datetime.timedelta(days = 1)\n",
        "\n",
        "Rt_amba_hitsiny = (Rt_salan(datetime.date(2020,6,25)) - Rt_salan(daty_ambaj))/2\n",
        "Rt_vinaj = Rt_salan(daty_ambaj) + Rt_amba_hitsiny\n",
        "\n",
        "Iv = int(Rt_vinaj*lsi(daty_m1j))\n",
        "\n",
        "dIvao.loc[pd.to_datetime(daty_m1j)] =[Iv]\n",
        "\n",
        "for i in range(1,9):\n",
        " tj = daty_m1j + datetime.timedelta(days = i)\n",
        " Ivv = int(Rt_vinaj*lsi(tj))\n",
        " dIvao.loc[pd.to_datetime(tj)] = [Ivv]"
      ],
      "execution_count": 101,
      "outputs": []
    },
    {
      "cell_type": "code",
      "metadata": {
        "id": "rWWPQTYCDiHd",
        "colab_type": "code",
        "colab": {}
      },
      "source": [
        "# Sampling\n",
        "\n",
        "np.random.seed(12345)\n",
        "\n",
        "formatf_date = lambda date_py: '{}/{}'.format(date_py.day, str(date_py.month)[0:1])\n",
        "\n",
        "daty_j_lst = []\n",
        "\n",
        "data_baj = []\n",
        "\n",
        "\n",
        "for i in range(1,9):\n",
        "  t = daty_data_mifarj + datetime.timedelta(days = i)\n",
        "  daty = formatf_date(t)\n",
        "  datyy = format_date(t)\n",
        "  data_amboar = [ poisson.rvs(dIvao.loc[datyy]) for j in range(600)]\n",
        "  daty_j_lst.append(daty)\n",
        "  data_baj.append(data_amboar)\n"
      ],
      "execution_count": 102,
      "outputs": []
    },
    {
      "cell_type": "markdown",
      "metadata": {
        "id": "cMBy53icDpQo",
        "colab_type": "text"
      },
      "source": [
        "### Manakaiky avy aty ambony"
      ]
    },
    {
      "cell_type": "code",
      "metadata": {
        "id": "M6KmUU2dDsEx",
        "colab_type": "code",
        "colab": {}
      },
      "source": [
        "# Computing Ivao(daty_mifarj + i) for i in a given range\n",
        "\n",
        "daty_m1j = daty_data_mifarj + datetime.timedelta(days = 1)\n",
        "\n",
        "Rt_ambo_hitsiny = 0-0.5\n",
        "Rt_vinaj = Rt_salan(daty_amboj) + Rt_ambo_hitsiny\n",
        "\n",
        "Iv = int(Rt_vinaj*lsi(daty_m1j))\n",
        "\n",
        "dIvao.loc[pd.to_datetime(daty_m1j)] =[Iv]\n",
        "\n",
        "for i in range(1,9):\n",
        " tj = daty_m1j + datetime.timedelta(days = i)\n",
        " Ivv = int(Rt_vinaj*lsi(tj))\n",
        " dIvao.loc[pd.to_datetime(tj)] = [Ivv]"
      ],
      "execution_count": 77,
      "outputs": []
    },
    {
      "cell_type": "code",
      "metadata": {
        "id": "t3xNPZAKDv1H",
        "colab_type": "code",
        "colab": {}
      },
      "source": [
        "# Sampling\n",
        "\n",
        "np.random.seed(12345)\n",
        "\n",
        "formatf_date = lambda date_py: '{}/{}'.format(date_py.day, str(date_py.month)[0:1])\n",
        "\n",
        "daty_j_lst = []\n",
        "\n",
        "data_boj = []\n",
        "\n",
        "\n",
        "for i in range(1,9):\n",
        "  t = daty_data_mifarj + datetime.timedelta(days = i)\n",
        "  daty = formatf_date(t)\n",
        "  datyy = format_date(t)\n",
        "  data_amboar = [ poisson.rvs(dIvao.loc[datyy]) for j in range(600)]\n",
        "  daty_j_lst.append(daty)\n",
        "  data_boj.append(data_amboar)\n"
      ],
      "execution_count": 78,
      "outputs": []
    },
    {
      "cell_type": "markdown",
      "metadata": {
        "id": "4BeD7iAODx7w",
        "colab_type": "text"
      },
      "source": [
        "### Sary"
      ]
    },
    {
      "cell_type": "code",
      "metadata": {
        "id": "X0gjdWm1Dxap",
        "colab_type": "code",
        "colab": {
          "base_uri": "https://localhost:8080/",
          "height": 389
        },
        "outputId": "a89ba2a9-fc5c-4496-8bc3-d4e13d3c5ef0"
      },
      "source": [
        "# Plotting\n",
        "\n",
        "fig, ax = plt.subplots(figsize=(10,5))\n",
        "box = sns.boxplot(daty_j_lst, data_baj, color='white', width=0.1, showfliers=False, ax=ax)\n",
        "box = sns.boxplot(daty_j_lst, data_boj, color='grey', width=0.1, showfliers=False, ax=ax)\n",
        "ax.plot(daty_j_lst, dIvao.loc[pd.to_datetime(daty_m1j):pd.to_datetime(daty_m1j + datetime.timedelta(days = 7))], marker =\"o\",ls = 'None', color='blue',label=\"Voa vaovao voatily\")\n",
        "ax.set(xlabel = 'Andro any aoriana', ylabel=\"Vinavina voa vaovao\")\n",
        "\n",
        "plt.legend(loc= 'upper center')\n",
        "\n",
        "plt.savefig(path_to_save+'Iv206276j_anta.eps')\n",
        "plt.savefig(path_to_save+'Iv206276j_anta.png')\n",
        "\n",
        "plt.show()"
      ],
      "execution_count": 104,
      "outputs": [
        {
          "output_type": "stream",
          "text": [
            "The PostScript backend does not support transparency; partially transparent artists will be rendered opaque.\n",
            "The PostScript backend does not support transparency; partially transparent artists will be rendered opaque.\n"
          ],
          "name": "stderr"
        },
        {
          "output_type": "display_data",
          "data": {
            "image/png": "[encoded data removed]",
            "text/plain": [
              "<Figure size 720x360 with 1 Axes>"
            ]
          },
          "metadata": {
            "tags": [],
            "needs_background": "light"
          }
        }
      ]
    }
  ]
}