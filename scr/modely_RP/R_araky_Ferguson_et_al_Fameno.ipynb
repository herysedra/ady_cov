{
  "nbformat": 4,
  "nbformat_minor": 0,
  "metadata": {
    "colab": {
      "name": "R araky Ferguson et al Fameno.ipynb",
      "provenance": [],
      "collapsed_sections": [],
      "authorship_tag": "ABX9TyMoup4wNVkLZT/lTtBCsWah",
      "include_colab_link": true
    },
    "kernelspec": {
      "name": "python3",
      "display_name": "Python 3"
    }
  },
  "cells": [
    {
      "cell_type": "markdown",
      "metadata": {
        "id": "view-in-github",
        "colab_type": "text"
      },
      "source": [
        "<a href=\"https://colab.research.google.com/github/herysedra/ady_cov/blob/master/scr/modely_RP/R_araky_Ferguson_et_al_Fameno.ipynb\" target=\"_parent\"><img src=\"https://colab.research.google.com/assets/colab-badge.svg\" alt=\"Open In Colab\"/></a>"
      ]
    },
    {
      "cell_type": "code",
      "metadata": {
        "id": "h3ixerRsljdL",
        "colab_type": "code",
        "outputId": "a20c94e7-1c7d-4043-b91c-3cc24365b042",
        "colab": {
          "base_uri": "https://localhost:8080/",
          "height": 124
        }
      },
      "source": [
        "from google.colab import drive\n",
        "drive.mount('/content/drive')"
      ],
      "execution_count": 1,
      "outputs": [
        {
          "output_type": "stream",
          "text": [
            "Go to this URL in a browser: https://accounts.google.com/o/oauth2/auth?client_id=947318989803-6bn6qk8qdgf4n4g3pfee6491hc0brc4i.apps.googleusercontent.com&redirect_uri=urn%3aietf%3awg%3aoauth%3a2.0%3aoob&response_type=code&scope=email%20https%3a%2f%2fwww.googleapis.com%2fauth%2fdocs.test%20https%3a%2f%2fwww.googleapis.com%2fauth%2fdrive%20https%3a%2f%2fwww.googleapis.com%2fauth%2fdrive.photos.readonly%20https%3a%2f%2fwww.googleapis.com%2fauth%2fpeopleapi.readonly\n",
            "\n",
            "Enter your authorization code:\n",
            "··········\n",
            "Mounted at /content/drive\n"
          ],
          "name": "stdout"
        }
      ]
    },
    {
      "cell_type": "code",
      "metadata": {
        "id": "i4GLotHNlyXN",
        "colab_type": "code",
        "colab": {
          "base_uri": "https://localhost:8080/",
          "height": 72
        },
        "outputId": "e808de6d-28a9-480b-fbf0-45fd37b012f8"
      },
      "source": [
        "import pandas as pd\n",
        "import numpy as np\n",
        "import matplotlib.pyplot as plt\n",
        "import scipy.stats\n",
        "import matplotlib\n",
        "import pickle\n",
        "\n",
        "import datetime\n",
        "import time\n",
        "from datetime import date\n",
        "\n",
        "import matplotlib.dates as mdates\n",
        "from matplotlib.dates import DateFormatter\n",
        "import seaborn as sns\n",
        "\n",
        "from numpy import log,exp\n",
        "from numpy.random import multinomial\n",
        "from scipy.stats import uniform, gamma, gengamma, poisson, nbinom, expon\n",
        "from scipy.integrate import quad\n",
        "\n",
        "tilyvoa = pd.read_csv(\"/content/drive/My Drive/data/tilyvoa.csv\")\n",
        "\n",
        "mdg_databe = pd.read_csv(\"/content/drive/My Drive/data/databe mdg.csv\")\n",
        "\n",
        "#tilyvoa.set_index('Daty', inplace=True)\n",
        "\n",
        "tilyvoafar = tilyvoa.groupby('Faritra')\n",
        "tilyvoamdg = tilyvoafar.get_group('Madagasikara')\n",
        "tilyvoamdg.set_index('Daty', inplace=True)\n",
        "\n",
        "tilyvoamdg.index = pd.to_datetime(tilyvoamdg.index)\n",
        "\n",
        "tilyvoatana = tilyvoafar.get_group('Antananarivo')\n",
        "tilyvoatana.set_index('Daty', inplace=True)\n",
        "\n",
        "tilyvoatana.index = pd.to_datetime(tilyvoatana.index)\n",
        "\n",
        "tilyvoatoa = tilyvoafar.get_group('Toamasina')\n",
        "tilyvoatoa.set_index('Daty', inplace=True)\n",
        "\n",
        "tilyvoatoa.index = pd.to_datetime(tilyvoatoa.index)\n",
        "\n",
        "\n",
        "path_to_save = '/content/drive/My Drive/sary/'\n",
        "path_data = '/content/drive/My Drive/data/'"
      ],
      "execution_count": 2,
      "outputs": [
        {
          "output_type": "stream",
          "text": [
            "/usr/local/lib/python3.6/dist-packages/statsmodels/tools/_testing.py:19: FutureWarning: pandas.util.testing is deprecated. Use the functions in the public API at pandas.testing instead.\n",
            "  import pandas.util.testing as tm\n"
          ],
          "name": "stderr"
        }
      ]
    },
    {
      "cell_type": "code",
      "metadata": {
        "id": "F5U2Kp92l7r5",
        "colab_type": "code",
        "outputId": "0a116b2a-d4ca-4e52-ec0f-a738ab9a692e",
        "colab": {
          "base_uri": "https://localhost:8080/",
          "height": 243
        }
      },
      "source": [
        "# Voa vaovao (observed incidence)\n",
        "Ivao = tilyvoamdg['Voatomb']\n",
        "Ivao"
      ],
      "execution_count": 3,
      "outputs": [
        {
          "output_type": "execute_result",
          "data": {
            "text/plain": [
              "Daty\n",
              "2020-03-18     0.0\n",
              "2020-03-19     3.0\n",
              "2020-03-20     2.0\n",
              "2020-03-21    10.0\n",
              "2020-03-22     1.0\n",
              "              ... \n",
              "2020-05-29    42.0\n",
              "2020-05-30    60.0\n",
              "2020-05-31    32.0\n",
              "2020-06-01    36.0\n",
              "2020-06-02    19.0\n",
              "Name: Voatomb, Length: 77, dtype: float64"
            ]
          },
          "metadata": {
            "tags": []
          },
          "execution_count": 3
        }
      ]
    },
    {
      "cell_type": "code",
      "metadata": {
        "id": "8AjPA5mQmFdw",
        "colab_type": "code",
        "colab": {}
      },
      "source": [
        "# Fakàna mivantana\n",
        "E=5200\n",
        "BURN_IN=200\n",
        "\n",
        "#Tombana mialoha (prior distributions)\n",
        "\n",
        "# Hoan'ny taha sorisoritry ny fifindrana (infectioness profile distribution)\n",
        "\n",
        "daty_data_manom = datetime.date(2020,5,9)\n",
        "daty_data_mifar = datetime.date(2020,5,26)\n",
        "\n",
        "format_date = lambda date_py: '{}-{}-{}'.format(date_py.year, date_py.month, date_py.day)\n",
        "datyf_data_manom = format_date(daty_data_manom)\n",
        "datyf_data_mifar = format_date(daty_data_mifar)\n",
        "\n",
        "# Discretization of the serial interval distribution\n",
        "si_sh = 1/(0.62**2) # Report 13\n",
        "si_sc = 6.5/si_sh\n",
        "\n",
        "def discr_si(t):\n",
        "  if t == 0:\n",
        "    discrsi = 0\n",
        "  elif t == 1:\n",
        "    discrsi = gengamma.cdf(3/2, si_sh, 1, loc = 0, scale = si_sc)\n",
        "  else:\n",
        "    discrsi = gengamma.cdf(t+1/2, si_sh, 1, loc = 0, scale = si_sc) - gengamma.cdf(t-1/2, si_sh, 1, loc = 0, scale = si_sc)\n",
        "  return discrsi\n",
        "\n",
        "#discr_si1 = gengamma.cdf(3/2, si_sh, 1, loc = 0, scale = si_sc)\n",
        "\n",
        "# Specification of time-windows\n",
        "# 1 The total incidence over a generic window (t-k+1,t)\n",
        "# 2 The total infectiousness over a generic window (t-k+1,t)\n",
        "\n",
        "# 3 The scale of the posterior Gamma of R(t,k)\n",
        "\n",
        "# 4 The shape parameters of the posterior predictive negative binomial of I(t+1)\n",
        "# 5 Use the pmf of the posterior predictive negative binomial to compute\n",
        "# each additive contribution at time s then for-loop for s in the time interval\n",
        "\n",
        "# Posterior distribution for Rt\n"
      ],
      "execution_count": 0,
      "outputs": []
    },
    {
      "cell_type": "code",
      "metadata": {
        "id": "7nEgXnm7mGdD",
        "colab_type": "code",
        "outputId": "d08ff41a-07ac-4b96-d966-6cf1357168b0",
        "colab": {
          "base_uri": "https://localhost:8080/",
          "height": 121
        }
      },
      "source": [
        "1/(0.62**2)\n",
        "mlk = gengamma.cdf(2+1/2, si_sh, 1, loc = 0, scale = si_sc)\n",
        "lkm = gengamma.cdf(2-1/2, si_sh, 1, loc = 0, scale = si_sc)\n",
        "print('mlk =', mlk)\n",
        "print('lkm =', lkm)\n",
        "print('mlk - lkm =', mlk - lkm)\n",
        "\n",
        "print('discr_si(2) =', discr_si(2))\n",
        "print('discr_si(0) =', discr_si(0))\n",
        "print('discr_si(1) =', discr_si(1))\n",
        "\n"
      ],
      "execution_count": 5,
      "outputs": [
        {
          "output_type": "stream",
          "text": [
            "mlk = 0.13359942723435544\n",
            "lkm = 0.04653485923726771\n",
            "mlk - lkm = 0.08706456799708773\n",
            "discr_si(2) = 0.08706456799708773\n",
            "discr_si(0) = 0\n",
            "discr_si(1) = 0.04653485923726771\n"
          ],
          "name": "stdout"
        }
      ]
    },
    {
      "cell_type": "code",
      "metadata": {
        "id": "Ib6KDv5fmLfS",
        "colab_type": "code",
        "outputId": "8316bb3b-89eb-4430-83a7-6713c88632ee",
        "colab": {
          "base_uri": "https://localhost:8080/",
          "height": 265
        }
      },
      "source": [
        "# Variation of discr_si1 with rapport to the shape parameter a\n",
        "\n",
        "# 100 linearly spaced numbers\n",
        "x = np.linspace(0,5,100)\n",
        "\n",
        "# the function\n",
        "def discr_si1f(a):\n",
        "  return gengamma.cdf(3/2, a, 1, loc = 0, scale = 1)\n",
        "\n",
        "fig = plt.figure()\n",
        "ax = fig.add_subplot(1, 1, 1)\n",
        "\n",
        "\n",
        "# plot the functions\n",
        "plt.plot(x, discr_si1f(x), 'b')\n",
        "\n",
        "\n",
        "\n",
        "\n",
        "# show the plot\n",
        "plt.show()"
      ],
      "execution_count": 6,
      "outputs": [
        {
          "output_type": "display_data",
          "data": {
            "image/png": "[encoded data removed]",
            "text/plain": [
              "<Figure size 432x288 with 1 Axes>"
            ]
          },
          "metadata": {
            "tags": [],
            "needs_background": "light"
          }
        }
      ]
    },
    {
      "cell_type": "code",
      "metadata": {
        "id": "Lo_N1E9tB6yw",
        "colab_type": "code",
        "outputId": "6fb33c86-e7e2-43b2-c10d-dbc3c9fe1a11",
        "colab": {
          "base_uri": "https://localhost:8080/",
          "height": 364
        }
      },
      "source": [
        "discr_si_lst = []\n",
        "for i in range(20):\n",
        "  discr_si_lst.append(discr_si(i))\n",
        "\n",
        "discr_si_lst"
      ],
      "execution_count": 7,
      "outputs": [
        {
          "output_type": "execute_result",
          "data": {
            "text/plain": [
              "[0,\n",
              " 0.04653485923726771,\n",
              " 0.08706456799708773,\n",
              " 0.1120607764381733,\n",
              " 0.11934593229534449,\n",
              " 0.11454033566501248,\n",
              " 0.10292237624521244,\n",
              " 0.08837543531019798,\n",
              " 0.07340392972354359,\n",
              " 0.059441261522055866,\n",
              " 0.0471811528841255,\n",
              " 0.036848747972925255,\n",
              " 0.028397304891685793,\n",
              " 0.021640276815890203,\n",
              " 0.016334404377011058,\n",
              " 0.012228465410722977,\n",
              " 0.009089308888731606,\n",
              " 0.0067136371140041895,\n",
              " 0.004931350622852548,\n",
              " 0.0036042672430812717]"
            ]
          },
          "metadata": {
            "tags": []
          },
          "execution_count": 7
        }
      ]
    },
    {
      "cell_type": "code",
      "metadata": {
        "id": "myISqFWkq23S",
        "colab_type": "code",
        "outputId": "df0eb01a-0eb2-4e39-b5c8-2d7432743691",
        "colab": {
          "base_uri": "https://localhost:8080/",
          "height": 265
        }
      },
      "source": [
        "# 100 linearly spaced numbers\n",
        "x = [ i for i in range(20)]\n",
        "\n",
        "\n",
        "# setting the axes at the centre\n",
        "fig = plt.figure()\n",
        "ax = fig.add_subplot(1, 1, 1)\n",
        "\n",
        "\n",
        "# plot the functions\n",
        "plt.plot(x,discr_si1f(x), 'b')\n",
        "plt.plot(x, gengamma.pdf(x, si_sh, 1, loc = 0, scale = si_sc), 'r')\n",
        "plt.plot(x, gengamma.pdf(x, 6.5, 1, loc = 0, scale = 0.62), 'g')\n",
        "\n",
        "# show the plot\n",
        "plt.show()"
      ],
      "execution_count": 8,
      "outputs": [
        {
          "output_type": "display_data",
          "data": {
            "image/png": "[encoded data removed]",
            "text/plain": [
              "<Figure size 432x288 with 1 Axes>"
            ]
          },
          "metadata": {
            "tags": [],
            "needs_background": "light"
          }
        }
      ]
    },
    {
      "cell_type": "code",
      "metadata": {
        "id": "kbw92OLETRHg",
        "colab_type": "code",
        "outputId": "27fd380c-9a77-469b-b8ac-9d99c0a28fa8",
        "colab": {
          "base_uri": "https://localhost:8080/",
          "height": 265
        }
      },
      "source": [
        "# 100 linearly spaced numbers\n",
        "x = [ i for i in range(20)]\n",
        "\n",
        "\n",
        "# setting the axes at the centre\n",
        "fig = plt.figure()\n",
        "ax = fig.add_subplot(1, 1, 1)\n",
        "\n",
        "\n",
        "# plot the functions\n",
        "plt.plot(x, discr_si_lst, 'b',  marker =\"+\",ls = 'None')\n",
        "plt.plot(x, gengamma.pdf(x, si_sh, 1, loc = 0, scale = si_sc), 'r')\n",
        "plt.plot(x, gengamma.pdf(x, 6.5, 1, loc = 0, scale = 0.62), 'g')\n",
        "\n",
        "# show the plot\n",
        "plt.show()"
      ],
      "execution_count": 9,
      "outputs": [
        {
          "output_type": "display_data",
          "data": {
            "image/png": "[encoded data removed]",
            "text/plain": [
              "<Figure size 432x288 with 1 Axes>"
            ]
          },
          "metadata": {
            "tags": [],
            "needs_background": "light"
          }
        }
      ]
    },
    {
      "cell_type": "code",
      "metadata": {
        "id": "fqjgIGzymYV7",
        "colab_type": "code",
        "outputId": "39daa96e-bfca-4352-9664-5357f597051e",
        "colab": {
          "base_uri": "https://localhost:8080/",
          "height": 455
        }
      },
      "source": [
        "# construction of I(t) with t an integer\n",
        "# construction of I(daty) for daty in range((daty_data_mifar - daty_data_manom).days +1)\n",
        "\n",
        "dIvao = pd.DataFrame(data =Ivao)\n",
        "\n",
        "dIvao['Datint'] = range(len(Ivao))\n",
        "\n",
        "dIvao['Voatomb'].loc[dIvao.index == datyf_data_manom]\n",
        "dIvao['Voatomb'].loc[datyf_data_manom]\n",
        "dIvao"
      ],
      "execution_count": 10,
      "outputs": [
        {
          "output_type": "execute_result",
          "data": {
            "text/html": [
              "<div>\n",
              "<style scoped>\n",
              "    .dataframe tbody tr th:only-of-type {\n",
              "        vertical-align: middle;\n",
              "    }\n",
              "\n",
              "    .dataframe tbody tr th {\n",
              "        vertical-align: top;\n",
              "    }\n",
              "\n",
              "    .dataframe thead th {\n",
              "        text-align: right;\n",
              "    }\n",
              "</style>\n",
              "<table border=\"1\" class=\"dataframe\">\n",
              "  <thead>\n",
              "    <tr style=\"text-align: right;\">\n",
              "      <th></th>\n",
              "      <th>Voatomb</th>\n",
              "      <th>Datint</th>\n",
              "    </tr>\n",
              "    <tr>\n",
              "      <th>Daty</th>\n",
              "      <th></th>\n",
              "      <th></th>\n",
              "    </tr>\n",
              "  </thead>\n",
              "  <tbody>\n",
              "    <tr>\n",
              "      <th>2020-03-18</th>\n",
              "      <td>0.0</td>\n",
              "      <td>0</td>\n",
              "    </tr>\n",
              "    <tr>\n",
              "      <th>2020-03-19</th>\n",
              "      <td>3.0</td>\n",
              "      <td>1</td>\n",
              "    </tr>\n",
              "    <tr>\n",
              "      <th>2020-03-20</th>\n",
              "      <td>2.0</td>\n",
              "      <td>2</td>\n",
              "    </tr>\n",
              "    <tr>\n",
              "      <th>2020-03-21</th>\n",
              "      <td>10.0</td>\n",
              "      <td>3</td>\n",
              "    </tr>\n",
              "    <tr>\n",
              "      <th>2020-03-22</th>\n",
              "      <td>1.0</td>\n",
              "      <td>4</td>\n",
              "    </tr>\n",
              "    <tr>\n",
              "      <th>...</th>\n",
              "      <td>...</td>\n",
              "      <td>...</td>\n",
              "    </tr>\n",
              "    <tr>\n",
              "      <th>2020-05-29</th>\n",
              "      <td>42.0</td>\n",
              "      <td>72</td>\n",
              "    </tr>\n",
              "    <tr>\n",
              "      <th>2020-05-30</th>\n",
              "      <td>60.0</td>\n",
              "      <td>73</td>\n",
              "    </tr>\n",
              "    <tr>\n",
              "      <th>2020-05-31</th>\n",
              "      <td>32.0</td>\n",
              "      <td>74</td>\n",
              "    </tr>\n",
              "    <tr>\n",
              "      <th>2020-06-01</th>\n",
              "      <td>36.0</td>\n",
              "      <td>75</td>\n",
              "    </tr>\n",
              "    <tr>\n",
              "      <th>2020-06-02</th>\n",
              "      <td>19.0</td>\n",
              "      <td>76</td>\n",
              "    </tr>\n",
              "  </tbody>\n",
              "</table>\n",
              "<p>77 rows × 2 columns</p>\n",
              "</div>"
            ],
            "text/plain": [
              "            Voatomb  Datint\n",
              "Daty                       \n",
              "2020-03-18      0.0       0\n",
              "2020-03-19      3.0       1\n",
              "2020-03-20      2.0       2\n",
              "2020-03-21     10.0       3\n",
              "2020-03-22      1.0       4\n",
              "...             ...     ...\n",
              "2020-05-29     42.0      72\n",
              "2020-05-30     60.0      73\n",
              "2020-05-31     32.0      74\n",
              "2020-06-01     36.0      75\n",
              "2020-06-02     19.0      76\n",
              "\n",
              "[77 rows x 2 columns]"
            ]
          },
          "metadata": {
            "tags": []
          },
          "execution_count": 10
        }
      ]
    },
    {
      "cell_type": "code",
      "metadata": {
        "id": "l_ZxZk1YvFSw",
        "colab_type": "code",
        "outputId": "2185f22b-062a-4940-b8f6-ed53b41dacee",
        "colab": {
          "base_uri": "https://localhost:8080/",
          "height": 34
        }
      },
      "source": [
        "def f(t):\n",
        "  rt = dIvao['Voatomb'].loc[t]\n",
        "  return rt\n",
        "\n",
        "datyt = datetime.date(2020,5,23)\n",
        "datytf = format_date(datyt)\n",
        "\n",
        "f(datytf)"
      ],
      "execution_count": 11,
      "outputs": [
        {
          "output_type": "execute_result",
          "data": {
            "text/plain": [
              "40.0"
            ]
          },
          "metadata": {
            "tags": []
          },
          "execution_count": 11
        }
      ]
    },
    {
      "cell_type": "code",
      "metadata": {
        "id": "ZR1f8gFpg0Wu",
        "colab_type": "code",
        "outputId": "affb61c8-ec91-43eb-a3b1-35e2f803d6f9",
        "colab": {
          "base_uri": "https://localhost:8080/",
          "height": 69
        }
      },
      "source": [
        "def f(daty):\n",
        "  andr0 = dIvao['Voatomb'].loc[dIvao.index == daty]\n",
        "  return andr0\n",
        "\n",
        "datyt = datetime.date(2020,5,20)\n",
        "datytf = format_date(datyt)\n",
        "\n",
        "de = datyt.strftime(\"%Y-%m-%d\")\n",
        "f(datytf)"
      ],
      "execution_count": 12,
      "outputs": [
        {
          "output_type": "execute_result",
          "data": {
            "text/plain": [
              "Daty\n",
              "2020-05-20    45.0\n",
              "Name: Voatomb, dtype: float64"
            ]
          },
          "metadata": {
            "tags": []
          },
          "execution_count": 12
        }
      ]
    },
    {
      "cell_type": "code",
      "metadata": {
        "id": "Siw3YjI0o_Ff",
        "colab_type": "code",
        "outputId": "c99ced6b-d4c4-4a32-be52-b0552f888ff3",
        "colab": {
          "base_uri": "https://localhost:8080/",
          "height": 34
        }
      },
      "source": [
        "def andr(t):\n",
        "  tf = format_date(t)\n",
        "  andr = dIvao['Voatomb'].loc[tf]\n",
        "#  tf1 = format_date(t - datetime.timedelta(days = 1))\n",
        "#  for i in range(k):\n",
        "#   Irehv = Irehv + dIvao['Voatomb'].loc[tf1]\n",
        "  return andr\n",
        "\n",
        "datyt = datetime.date(2020,5,30)\n",
        "\n",
        "#andr('2020-5-30')\n",
        "datyt"
      ],
      "execution_count": 13,
      "outputs": [
        {
          "output_type": "execute_result",
          "data": {
            "text/plain": [
              "datetime.date(2020, 5, 30)"
            ]
          },
          "metadata": {
            "tags": []
          },
          "execution_count": 13
        }
      ]
    },
    {
      "cell_type": "code",
      "metadata": {
        "id": "CgBtAhS8nzC6",
        "colab_type": "code",
        "outputId": "d9374efd-00a4-47fa-c9ee-660060b85c2e",
        "colab": {
          "base_uri": "https://localhost:8080/",
          "height": 69
        }
      },
      "source": [
        "# 1 The total incidence over a generic window (t-k+1,t)\n",
        "# Ireh(t,k) = sum(i = 0 to k-1) Ivao(t - i))\n",
        "\n",
        "datyt = datetime.date(2020,5,20)\n",
        "\n",
        "def Ireh(t,k):\n",
        "  Irehv = 0\n",
        "  for i in range(k):\n",
        "    Irehv = Irehv + dIvao['Voatomb'].loc[format_date(t - datetime.timedelta(days = i))]\n",
        "  return Irehv\n",
        "\n",
        "  \n",
        "datyt = datetime.date(2020,5,20)\n",
        "print('Ivao(datyt) =', dIvao['Voatomb'].loc[format_date(datyt)])\n",
        "print('Ivao(datyt - 1 andro) =', dIvao['Voatomb'].loc[format_date(datyt - datetime.timedelta(days = 1))])\n",
        "print('Ireh(datyt,2) =', Ireh(datyt,2))"
      ],
      "execution_count": 14,
      "outputs": [
        {
          "output_type": "stream",
          "text": [
            "Ivao(datyt) = 45.0\n",
            "Ivao(datyt - 1 andro) = 4.0\n",
            "Ireh(datyt,2) = 49.0\n"
          ],
          "name": "stdout"
        }
      ]
    },
    {
      "cell_type": "code",
      "metadata": {
        "id": "GmQjBMTL8wrx",
        "colab_type": "code",
        "colab": {}
      },
      "source": [
        "# 2 Tool to compute the total infectiousness over a generic window (t-k+1,t)\n",
        "# Isi(t,k) = sum(i=0 to k-1) Ivao(t - i)*discr_si(i)\n",
        "\n",
        "# The definition of Isi(t,k) does not include the term Ivao(t) for i = 0 (because discr_si(0) =0) \n",
        "# but include the last term Ivao(t - k + 1)*discr_si(k - 1) for i = k-1. \n",
        "\n",
        "def Isi(t,k):\n",
        "  Ivaosi = 0\n",
        "  for i in range(k):\n",
        "    Ivaosi = Ivaosi + dIvao['Voatomb'].loc[format_date(t - datetime.timedelta(days = i))]*discr_si(i)\n",
        "  return Ivaosi\n"
      ],
      "execution_count": 0,
      "outputs": []
    },
    {
      "cell_type": "code",
      "metadata": {
        "id": "h4Hc4EzVw3L1",
        "colab_type": "code",
        "outputId": "b43d4240-cfa7-4fd7-e5d0-442a52164c8f",
        "colab": {
          "base_uri": "https://localhost:8080/",
          "height": 173
        }
      },
      "source": [
        "print('Ivao(datyt) =', dIvao['Voatomb'].loc[datytf])\n",
        "print('discr_si(1) =', discr_si(1))\n",
        "print('Ivao(datyt - 1 andro) =', dIvao['Voatomb'].loc[format_date(datyt - datetime.timedelta(days = 1))])\n",
        "print('Ivao(datyt - 1 andro)*discr_si(1) =', dIvao['Voatomb'].loc[format_date(datyt - datetime.timedelta(days = 1))]*discr_si(1))\n",
        "print('discr_si(2) =', discr_si(2))\n",
        "print('Ivao(datyt - 2 andro) =', dIvao['Voatomb'].loc[format_date(datyt - datetime.timedelta(days = 2))])\n",
        "print('Ivao(datyt - 2 andro)*discr_si(2) =', dIvao['Voatomb'].loc[format_date(datyt - datetime.timedelta(days = 2))]*discr_si(2))\n",
        "print('sum =',dIvao['Voatomb'].loc[format_date(datyt - datetime.timedelta(days = 1))]*discr_si(1) + dIvao['Voatomb'].loc[format_date(datyt - datetime.timedelta(days = 2))]*discr_si(2))\n",
        "print('Isi(datyt,3) =', Isi(datyt,3))"
      ],
      "execution_count": 16,
      "outputs": [
        {
          "output_type": "stream",
          "text": [
            "Ivao(datyt) = 45.0\n",
            "discr_si(1) = 0.04653485923726771\n",
            "Ivao(datyt - 1 andro) = 4.0\n",
            "Ivao(datyt - 1 andro)*discr_si(1) = 0.18613943694907084\n",
            "discr_si(2) = 0.08706456799708773\n",
            "Ivao(datyt - 2 andro) = 18.0\n",
            "Ivao(datyt - 2 andro)*discr_si(2) = 1.567162223947579\n",
            "sum = 1.7533016608966498\n",
            "Isi(datyt,3) = 1.7533016608966498\n"
          ],
          "name": "stdout"
        }
      ]
    },
    {
      "cell_type": "code",
      "metadata": {
        "id": "Mu_o41ucXW5s",
        "colab_type": "code",
        "colab": {}
      },
      "source": [
        "# The total infectiousness before t\n",
        "\n",
        "# lsi(t) := um(i=0 to t-1) Ivao(t - i)*discr_si(i)\n",
        "\n",
        "def lsi(t):\n",
        "  return Isi(t, (t - daty_data_manom).days +1)\n",
        "\n",
        "  # for checking, take for example t = daty_data_manom + datetime.timedelta(days = 3)"
      ],
      "execution_count": 0,
      "outputs": []
    },
    {
      "cell_type": "code",
      "metadata": {
        "id": "QNTmf8Jad5rP",
        "colab_type": "code",
        "colab": {}
      },
      "source": [
        "# 3 The sum of total infectiousness before t over a generic window (t-k+1,t)\n",
        "\n",
        "def tlsi(t,k):\n",
        "  tlsi = 0\n",
        "  for i in range(k):\n",
        "    tlsi = tlsi + lsi(t - datetime.timedelta(days = k))\n",
        "  return tlsi"
      ],
      "execution_count": 0,
      "outputs": []
    },
    {
      "cell_type": "code",
      "metadata": {
        "id": "Baw9PX3A-ni8",
        "colab_type": "code",
        "colab": {}
      },
      "source": [
        "# 4 The shape parameters of the posterior predictive negative binomial of I(t+1)\n",
        "\n",
        "# pnb(t,k) = Isi(t+1, t - daty_data_manom + 2)*(1/si_sc + Isi(t,k))/(1 + si(t+1, t - daty_data_manom + 2)*(1/si_sc + Isi(t,k)))\n",
        "\n",
        "def pnb(t,k):\n",
        "  return lsi(t+datetime.timedelta(days = 1))*(1/si_sc + tlsi(t,k))/(1 + lsi(t+datetime.timedelta(days = 1))*(1/si_sc + tlsi(t,k)))\n",
        "\n",
        "# pnb(t,k) dia mikajy ny taha herjika hoan'ny NB hoan'ny I(t+1)."
      ],
      "execution_count": 0,
      "outputs": []
    },
    {
      "cell_type": "code",
      "metadata": {
        "id": "pNlKzXOkHLvQ",
        "colab_type": "code",
        "colab": {}
      },
      "source": [
        "# 5 Use the pmf of the posterior predictive negative binomial to compute\n",
        "# each additive contribution at time s then for-loop for s in the time interval\n",
        "\n",
        "def lpr(t,k):\n",
        "  return -np.log(nbinom.pmf(dIvao['Voatomb'].loc[format_date(t + datetime.timedelta(days = 1))], si_sh + Ireh(t,k), pnb(t,k)))\n"
      ],
      "execution_count": 0,
      "outputs": []
    },
    {
      "cell_type": "code",
      "metadata": {
        "id": "Zw58K502WFXt",
        "colab_type": "code",
        "outputId": "97f3129b-70a4-4ab9-ab89-b3fdeffcddca",
        "colab": {
          "base_uri": "https://localhost:8080/",
          "height": 52
        }
      },
      "source": [
        "tyty = round(((daty_data_mifar - daty_data_manom).days + 1)/2)\n",
        "aat = 2*datetime.timedelta(days = 3*4)\n",
        "print(tyty)\n",
        "print(aat)"
      ],
      "execution_count": 21,
      "outputs": [
        {
          "output_type": "stream",
          "text": [
            "9\n",
            "24 days, 0:00:00\n"
          ],
          "name": "stdout"
        }
      ]
    },
    {
      "cell_type": "code",
      "metadata": {
        "id": "QZVxAvYAomrI",
        "colab_type": "code",
        "outputId": "5c489077-604a-4947-edff-b11f8df04b95",
        "colab": {
          "base_uri": "https://localhost:8080/",
          "height": 89
        }
      },
      "source": [
        "# APE9_part2 \n",
        "\n",
        "# for i in range(9):\n",
        "# t = t_mif - 1 - 9 + 1 - i\n",
        "# k = t_mif - t - 2*i\n",
        "APEt92 = []\n",
        "Prt92 = []\n",
        "\n",
        "APE92 = 0\n",
        "for i in range(round(((daty_data_mifar - daty_data_manom).days + 1)/2)-1):\n",
        "  t = daty_data_mifar - datetime.timedelta(days = 1) - datetime.timedelta(days = ((daty_data_mifar - daty_data_manom).days + 1)/2) + datetime.timedelta(days = 1) - datetime.timedelta(days = i)\n",
        "  k = (daty_data_mifar - t - datetime.timedelta(days = 2*i)).days\n",
        "  APE92 = APE92 + lpr(t,k) \n",
        "  APEt92.append((lpr(t,k) ,t,k))\n",
        "  Prt92.append(expon.pdf(lpr(t,k)))\n",
        "\n",
        "print('For k = 9, APE92 =', APE92)\n",
        "print('APEt92=', APEt92)\n",
        "print('Prt92=', Prt92)"
      ],
      "execution_count": 22,
      "outputs": [
        {
          "output_type": "stream",
          "text": [
            "For k = 9, APE92 = 52.74080741188091\n",
            "APEt92= [(4.373195549086329, datetime.date(2020, 5, 17), 9), (3.924942668146567, datetime.date(2020, 5, 16), 8), (6.891798574695045, datetime.date(2020, 5, 15), 7), (10.487220075588368, datetime.date(2020, 5, 14), 6), (4.578988352911644, datetime.date(2020, 5, 13), 5), (3.61176117329061, datetime.date(2020, 5, 12), 4), (13.203969862865474, datetime.date(2020, 5, 11), 3), (5.668931155296871, datetime.date(2020, 5, 10), 2)]\n",
            "Prt92= [0.012610877433303849, 0.01974326875723659, 0.0010160846923426164, 2.7890621416664002e-05, 0.010265275881737083, 0.027004245805350154, 1.8432691278937493e-06, 0.0034515524788131034]\n"
          ],
          "name": "stdout"
        }
      ]
    },
    {
      "cell_type": "code",
      "metadata": {
        "id": "7zEvlR3KtN_R",
        "colab_type": "code",
        "outputId": "6d39c37b-0e5b-41c5-d8fd-be1b818718a9",
        "colab": {
          "base_uri": "https://localhost:8080/",
          "height": 89
        }
      },
      "source": [
        "# APE9_part1 \n",
        "\n",
        "# for i in range(8):\n",
        "# t = t_mif - i - 1\n",
        "# k = 9\n",
        "\n",
        "APEt91 = []\n",
        "Prt91 = []\n",
        "\n",
        "APE91 = 0\n",
        "\n",
        "for i in range(round(((daty_data_mifar - daty_data_manom).days + 1)/2) - 1):\n",
        "  t = daty_data_mifar - datetime.timedelta(days = i+1) \n",
        "  k = round(((daty_data_mifar - daty_data_manom).days + 1)/2)\n",
        "  APE91 = APE91 + lpr(t,k)\n",
        "  APEt91.append((lpr(t,k),t))\n",
        "  Prt91.append(expon.pdf(lpr(t,k)))\n",
        "\n",
        "print('For k = 9, APE91 =', APE91)\n",
        "print('APEt91 =', APEt91)\n",
        "print('Prt91 =', Prt91)"
      ],
      "execution_count": 23,
      "outputs": [
        {
          "output_type": "stream",
          "text": [
            "For k = 9, APE91 = 906.9082999033016\n",
            "APEt91 = [(212.3622681326409, datetime.date(2020, 5, 25)), (53.31522757552295, datetime.date(2020, 5, 24)), (158.60743906145217, datetime.date(2020, 5, 23)), (146.5798641000907, datetime.date(2020, 5, 22)), (142.29134253955488, datetime.date(2020, 5, 21)), (84.09332498391527, datetime.date(2020, 5, 20)), (95.01502164578028, datetime.date(2020, 5, 19)), (14.643811864344372, datetime.date(2020, 5, 18))]\n",
            "Prt91 = [5.9188697840050625e-93, 7.006334415282353e-24, 1.3111863723620912e-69, 2.193682967255155e-64, 1.5982882712117506e-62, 3.0111541893232748e-37, 5.438766343016269e-42, 4.36790629941746e-07]\n"
          ],
          "name": "stdout"
        }
      ]
    },
    {
      "cell_type": "code",
      "metadata": {
        "id": "mxHZFkLMYPCR",
        "colab_type": "code",
        "outputId": "912b3cee-5981-45c6-9868-e69cc7d29347",
        "colab": {
          "base_uri": "https://localhost:8080/",
          "height": 69
        }
      },
      "source": [
        "print('For k = 9, APE9 =', APE91+ APE92)\n",
        "print('For k = 9, Pr9 =', sum(Prt91) + sum(Prt92))\n",
        "print('For k = 9, Pr9 =/= expon.pdf(APE91 + APE92) =', expon.pdf(APE91+ APE92))"
      ],
      "execution_count": 24,
      "outputs": [
        {
          "output_type": "stream",
          "text": [
            "For k = 9, APE9 = 959.6491073151825\n",
            "For k = 9, Pr9 = 0.07412147572995788\n",
            "For k = 9, Pr9 =/= expon.pdf(APE91 + APE92) = 0.0\n"
          ],
          "name": "stdout"
        }
      ]
    },
    {
      "cell_type": "code",
      "metadata": {
        "id": "_qmcl2HzQibq",
        "colab_type": "code",
        "outputId": "f2d5bc7e-d666-4966-cab2-6416fdbfb76d",
        "colab": {
          "base_uri": "https://localhost:8080/",
          "height": 54
        }
      },
      "source": [
        "# APEk part 1 for k =/= 9\n",
        "\n",
        "# for i in range(t_mif - t_man -j)\n",
        "\n",
        "#APEtk1 = []\n",
        "#Prk1 = []\n",
        "\n",
        "APEk1 = []\n",
        "for j in range(2,9):\n",
        "  APEj1 = 0\n",
        "  for i in range(round(((daty_data_mifar - daty_data_manom).days) - j)):\n",
        "    t = daty_data_mifar - datetime.timedelta(days = i+1) \n",
        "    k = j\n",
        "    APEj1 = APEj1 + lpr(t,k)\n",
        "  APEk1.append(APEj1)\n",
        "#  APEtk1.append((APEj1,t))\n",
        "#  Prk1.append(expon.pdf(APEj1))\n",
        "\n",
        "print('APEk1 =', APEk1)\n",
        "# print('APEtk1 =', APEtk1)\n",
        "# print('Prk1 =', Prk1) "
      ],
      "execution_count": 25,
      "outputs": [
        {
          "output_type": "stream",
          "text": [
            "APEk1 = [1563.3940971017407, 1501.693447494386, 1421.0444263712452, 1345.037748646395, 1200.5663227648163, 1101.278904538523, 998.2789450559962]\n"
          ],
          "name": "stdout"
        }
      ]
    },
    {
      "cell_type": "code",
      "metadata": {
        "id": "kNPVBvaLl4Fz",
        "colab_type": "code",
        "outputId": "04006f6e-61a4-468d-a210-7d51f3ccd10a",
        "colab": {
          "base_uri": "https://localhost:8080/",
          "height": 89
        }
      },
      "source": [
        "# APE2 part 1\n",
        "\n",
        "APEt21 = []\n",
        "Prt21 = []\n",
        "\n",
        "APE21 = 0\n",
        "for i in range(round(((daty_data_mifar - daty_data_manom).days) - 2)):\n",
        "    t = daty_data_mifar - datetime.timedelta(days = i+1) \n",
        "    k = 2\n",
        "    APE21 = APE21 + lpr(t,k)\n",
        "    APEt21.append((lpr(t,k),t))\n",
        "    Prt21.append(expon.pdf(lpr(t,k)))\n",
        "\n",
        "print('APE21 =', APE21)\n",
        "print('APEt21 =', APEt21)\n",
        "print('Prt21 =', Prt21) \n",
        "# print('Pr21 =', sum(Prt21))"
      ],
      "execution_count": 26,
      "outputs": [
        {
          "output_type": "stream",
          "text": [
            "APE21 = 1563.3940971017407\n",
            "APEt21 = [(249.43894449152197, datetime.date(2020, 5, 25)), (65.63288597135403, datetime.date(2020, 5, 24)), (190.14676069853383, datetime.date(2020, 5, 23)), (189.57789966858815, datetime.date(2020, 5, 22)), (197.59154401385297, datetime.date(2020, 5, 21)), (154.06399883292175, datetime.date(2020, 5, 20)), (220.1441878303376, datetime.date(2020, 5, 19)), (10.247370654978, datetime.date(2020, 5, 18)), (51.3134355099703, datetime.date(2020, 5, 17)), (55.20993362054983, datetime.date(2020, 5, 16)), (133.1461568763462, datetime.date(2020, 5, 15)), (9.022187131190435, datetime.date(2020, 5, 14)), (19.487914593567083, datetime.date(2020, 5, 13)), (11.341566147748313, datetime.date(2020, 5, 12)), (7.029311060280009, datetime.date(2020, 5, 11))]\n",
            "Prt21 = [4.677812774595068e-109, 3.1332842182966805e-29, 2.6321526775595174e-83, 4.6490507078921055e-83, 1.5384477962806174e-86, 1.2326944677829774e-67, 2.4694145471283396e-96, 3.545059024770225e-05, 5.186305681060396e-23, 1.0534901572430527e-24, 1.4974722460429183e-58, 0.00012070184656363657, 3.4395864405206452e-09, 1.1869171521838902e-05, 0.0008855416553082838]\n"
          ],
          "name": "stdout"
        }
      ]
    },
    {
      "cell_type": "code",
      "metadata": {
        "id": "gsx1BHhHnEkl",
        "colab_type": "code",
        "outputId": "91bcd271-643e-45d8-8a34-8319243cb6ed",
        "colab": {
          "base_uri": "https://localhost:8080/",
          "height": 89
        }
      },
      "source": [
        "# APE7 part 1\n",
        "\n",
        "APEt71 = []\n",
        "Prt71 = []\n",
        "\n",
        "APE71 = 0\n",
        "for i in range(round(((daty_data_mifar - daty_data_manom).days) - 7)):\n",
        "    t = daty_data_mifar - datetime.timedelta(days = i+1) \n",
        "    k = 7\n",
        "    APE71 = APE71 + lpr(t,k)\n",
        "    APEt71.append((APE71,t))\n",
        "    Prt71.append(expon.pdf(APE71))\n",
        "\n",
        "print('APE71 =', APE71)\n",
        "print('APEt71 =', APEt71)\n",
        "print('Prt71 =', Prt71) \n",
        "# print('Pr71 =', sum(Prt71))"
      ],
      "execution_count": 27,
      "outputs": [
        {
          "output_type": "stream",
          "text": [
            "APE71 = 1101.278904538523\n",
            "APEt71 = [(230.16627814022502, datetime.date(2020, 5, 25)), (290.6561186857625, datetime.date(2020, 5, 24)), (467.7658848769395, datetime.date(2020, 5, 23)), (636.8792812172462, datetime.date(2020, 5, 22)), (809.1276124044479, datetime.date(2020, 5, 21)), (924.7730099505872, datetime.date(2020, 5, 20)), (1073.408417170186, datetime.date(2020, 5, 19)), (1077.0733783738658, datetime.date(2020, 5, 18)), (1097.9670157463117, datetime.date(2020, 5, 17)), (1101.278904538523, datetime.date(2020, 5, 16))]\n",
            "Prt71 = [1.0966182861677241e-100, 5.883713584101622e-127, 7.10979985653523e-204, 2.5517758845805057e-277, 0.0, 0.0, 0.0, 0.0, 0.0, 0.0]\n"
          ],
          "name": "stdout"
        }
      ]
    },
    {
      "cell_type": "code",
      "metadata": {
        "id": "VZLfAFISYSsb",
        "colab_type": "code",
        "outputId": "d152e229-62ee-4fa1-c1eb-666b988a1c28",
        "colab": {
          "base_uri": "https://localhost:8080/",
          "height": 54
        }
      },
      "source": [
        "# APEk part 2\n",
        "\n",
        "Prk2 = []\n",
        "\n",
        "APEk2 = []\n",
        "\n",
        "for j in range(2,9):\n",
        "  APEj2 = 0\n",
        "  for i in range(j-1):\n",
        "    t = daty_data_manom + datetime.timedelta(days = j - i - 1)\n",
        "    k = j - i\n",
        "    APEj2 = APEj2 + lpr(t,k)\n",
        "  APEk2.append(APEj2)\n",
        "#  Prk2.append(expon.pdf(APEj2))\n",
        " \n",
        "\n",
        "print('APEk2 =', APEk2)\n",
        "#print('Prk2 =', Prk2) "
      ],
      "execution_count": 28,
      "outputs": [
        {
          "output_type": "stream",
          "text": [
            "APEk2 = [5.668931155296871, 18.872901018162345, 22.484662191452955, 27.0636505443646, 37.55087061995297, 44.44266919464802, 48.367611862794575]\n"
          ],
          "name": "stdout"
        }
      ]
    },
    {
      "cell_type": "code",
      "metadata": {
        "id": "IEhjE4emworX",
        "colab_type": "code",
        "outputId": "9bacc60f-989b-4b9f-846c-be30efa92385",
        "colab": {
          "base_uri": "https://localhost:8080/",
          "height": 69
        }
      },
      "source": [
        "# APE2 part 2\n",
        "\n",
        "APEt22 = []\n",
        "Prt22 = []\n",
        "\n",
        "APE22 = 0\n",
        "for i in range(2-1):\n",
        "    t = daty_data_manom + datetime.timedelta(days = 2-i-1)\n",
        "    k = 2 - i\n",
        "    APE22 = APE22 + lpr(t,k)\n",
        "    APEt22.append((APE22,t))\n",
        "    Prt22.append(expon.pdf(APE22))\n",
        "\n",
        "print('APE22 =', APE22)\n",
        "print('APEt22 =', APEt22)\n",
        "print('Prt22 =', Prt22) "
      ],
      "execution_count": 29,
      "outputs": [
        {
          "output_type": "stream",
          "text": [
            "APE22 = 5.668931155296871\n",
            "APEt22 = [(5.668931155296871, datetime.date(2020, 5, 10))]\n",
            "Prt22 = [0.0034515524788131034]\n"
          ],
          "name": "stdout"
        }
      ]
    },
    {
      "cell_type": "code",
      "metadata": {
        "id": "DkkdLm3_9e8x",
        "colab_type": "code",
        "outputId": "128a7afb-65d6-428c-f53d-e9b97aa30441",
        "colab": {
          "base_uri": "https://localhost:8080/",
          "height": 104
        }
      },
      "source": [
        "# lpr(daty_data_manom,1)?\n",
        "print(lpr(daty_data_manom,1))\n",
        "print(Ireh(daty_data_manom,1))\n",
        "print(dIvao['Voatomb'].loc[format_date(daty_data_manom)])\n",
        "print(pnb(daty_data_manom,1))\n",
        "print(Isi(daty_data_manom,1))"
      ],
      "execution_count": 30,
      "outputs": [
        {
          "output_type": "stream",
          "text": [
            "19.87309263209375\n",
            "11.0\n",
            "11.0\n",
            "0.1700336374000661\n",
            "0.0\n"
          ],
          "name": "stdout"
        }
      ]
    },
    {
      "cell_type": "code",
      "metadata": {
        "id": "hM8K15XkEESe",
        "colab_type": "code",
        "outputId": "e4f304e9-648f-4562-dcea-0ddb100083d6",
        "colab": {
          "base_uri": "https://localhost:8080/",
          "height": 89
        }
      },
      "source": [
        "# AP2 in a single part. The treatment in a single part is only possible for k = 2.\n",
        "\n",
        "APEt2 = []\n",
        "Prt2 = []\n",
        "\n",
        "APE2 = 0\n",
        "for i in range(round(((daty_data_mifar - daty_data_manom).days) - 1)):\n",
        "    t = daty_data_mifar - datetime.timedelta(days = i+1) \n",
        "    k = 2\n",
        "    APE2 = APE2 + lpr(t,k)\n",
        "    APEt2.append((lpr(t,k),t))\n",
        "    Prt2.append(expon.pdf(lpr(t,k)))\n",
        "\n",
        "print('APE2 =', APE2)\n",
        "print('APEt2 =', APEt2)\n",
        "print('Prt2 =', Prt2) \n",
        "# print('Pr2 =', sum(Prt2))"
      ],
      "execution_count": 31,
      "outputs": [
        {
          "output_type": "stream",
          "text": [
            "APE2 = 1569.0630282570376\n",
            "APEt2 = [(249.43894449152197, datetime.date(2020, 5, 25)), (65.63288597135403, datetime.date(2020, 5, 24)), (190.14676069853383, datetime.date(2020, 5, 23)), (189.57789966858815, datetime.date(2020, 5, 22)), (197.59154401385297, datetime.date(2020, 5, 21)), (154.06399883292175, datetime.date(2020, 5, 20)), (220.1441878303376, datetime.date(2020, 5, 19)), (10.247370654978, datetime.date(2020, 5, 18)), (51.3134355099703, datetime.date(2020, 5, 17)), (55.20993362054983, datetime.date(2020, 5, 16)), (133.1461568763462, datetime.date(2020, 5, 15)), (9.022187131190435, datetime.date(2020, 5, 14)), (19.487914593567083, datetime.date(2020, 5, 13)), (11.341566147748313, datetime.date(2020, 5, 12)), (7.029311060280009, datetime.date(2020, 5, 11)), (5.668931155296871, datetime.date(2020, 5, 10))]\n",
            "Prt2 = [4.677812774595068e-109, 3.1332842182966805e-29, 2.6321526775595174e-83, 4.6490507078921055e-83, 1.5384477962806174e-86, 1.2326944677829774e-67, 2.4694145471283396e-96, 3.545059024770225e-05, 5.186305681060396e-23, 1.0534901572430527e-24, 1.4974722460429183e-58, 0.00012070184656363657, 3.4395864405206452e-09, 1.1869171521838902e-05, 0.0008855416553082838, 0.0034515524788131034]\n"
          ],
          "name": "stdout"
        }
      ]
    },
    {
      "cell_type": "code",
      "metadata": {
        "id": "jwR6k6tQqTg-",
        "colab_type": "code",
        "outputId": "d7414c11-8342-4031-e159-62bb2b110d21",
        "colab": {
          "base_uri": "https://localhost:8080/",
          "height": 72
        }
      },
      "source": [
        "# APEk for k = 2,...,8\n",
        "\n",
        "APEk = [x + y for x, y in zip(APEk1, APEk2)]\n",
        "\n",
        "# APE9\n",
        "APE9 = APE91 + APE92\n",
        "\n",
        "print('APE9 =', APE9)\n",
        "print('APEk =', APEk)\n",
        "\n",
        "# Probability\n",
        "\n",
        "# Prk = [x + y for x, y in zip(Prk1, Prk2)]\n",
        "\n",
        "#Pr9 = sum(Prt91) + sum(Prt92)\n",
        "\n",
        "\n",
        "#print('Pr9 =', Pr9)\n",
        "#print('Prk =', Prk)\n"
      ],
      "execution_count": 32,
      "outputs": [
        {
          "output_type": "stream",
          "text": [
            "APE9 = 959.6491073151825\n",
            "APEk = [1569.0630282570376, 1520.5663485125483, 1443.5290885626982, 1372.1013991907596, 1238.1171933847693, 1145.721573733171, 1046.6465569187908]\n"
          ],
          "name": "stdout"
        }
      ]
    },
    {
      "cell_type": "code",
      "metadata": {
        "id": "w2iXpcn2shOA",
        "colab_type": "code",
        "outputId": "8845dff1-0602-4557-8d60-3a525726d6fa",
        "colab": {
          "base_uri": "https://localhost:8080/",
          "height": 34
        }
      },
      "source": [
        "# Prior Gamma distribution of Rt\n",
        "\n",
        "Rtpr_sh = 0.1 # shape\n",
        "Rtpr_sc =  0.1 # scale\n",
        "\n",
        "# Posterior distribution for Rt\n",
        "\n",
        "# Shape parameter :\n",
        "def Rtps_sh(t):\n",
        "   return Rtpr_sh + Ireh(t,9)\n",
        "\n",
        "# Scale\n",
        "def Rtps_sc(t):\n",
        "  return 1/(1/Rtpr_sc + tlsi(t,9))\n",
        "\n",
        "# mean\n",
        "def Rtps_salan(t):\n",
        "  return Rtps_sh(t)*Rtps_sc(t)\n",
        "\n",
        "print(\"Salan'isa R hoan'ny\", datyt, ':', Rtps_salan(datyt))"
      ],
      "execution_count": 33,
      "outputs": [
        {
          "output_type": "stream",
          "text": [
            "Salan'isa R hoan'ny 2020-05-20 : 9.513276075841821\n"
          ],
          "name": "stdout"
        }
      ]
    },
    {
      "cell_type": "code",
      "metadata": {
        "id": "D8kQrYu46328",
        "colab_type": "code",
        "outputId": "7aa5832b-5e63-4b8a-eca2-2d552649967a",
        "colab": {
          "base_uri": "https://localhost:8080/",
          "height": 295
        }
      },
      "source": [
        "# Plotting\n",
        "\n",
        "formatf_date = lambda date_py: '{}/{}'.format(date_py.day, date_py.month)\n",
        "\n",
        "salan_Rt = []\n",
        "daty_lst = []\n",
        "\n",
        "for i in range(round(((daty_data_mifar - daty_data_manom).days) - 1)):\n",
        "  t = daty_data_manom + datetime.timedelta(days = i+1)\n",
        "  daty = formatf_date(t)\n",
        "  daty_lst.append(daty)\n",
        "  salan_Rt.append(Rtps_salan(t))\n",
        "\n",
        "salan_Rt"
      ],
      "execution_count": 34,
      "outputs": [
        {
          "output_type": "execute_result",
          "data": {
            "text/plain": [
              "[3.91,\n",
              " 5.11,\n",
              " 4.3100000000000005,\n",
              " 6.3100000000000005,\n",
              " 7.91,\n",
              " 8.01,\n",
              " 12.51,\n",
              " 14.61,\n",
              " 15.31,\n",
              " 10.618232327556617,\n",
              " 9.513276075841821,\n",
              " 7.362649508668455,\n",
              " 6.197022747127988,\n",
              " 4.992872807945991,\n",
              " 4.275090873096726,\n",
              " 3.233281463506283]"
            ]
          },
          "metadata": {
            "tags": []
          },
          "execution_count": 34
        }
      ]
    },
    {
      "cell_type": "code",
      "metadata": {
        "id": "V0__nRbPUuYw",
        "colab_type": "code",
        "outputId": "c9262b43-f12a-4076-9fa5-0eb76bd2143e",
        "colab": {
          "base_uri": "https://localhost:8080/",
          "height": 700
        }
      },
      "source": [
        "# Plotting\n",
        "\n",
        "fig = plt.figure(figsize=(12, 12))\n",
        "\n",
        "plt.plot(daty_lst, salan_Rt, 'b',  marker =\"+\",ls = 'None')\n",
        "\n",
        "plt.show()"
      ],
      "execution_count": 35,
      "outputs": [
        {
          "output_type": "display_data",
          "data": {
            "image/png": "[encoded data removed]",
            "text/plain": [
              "<Figure size 864x864 with 1 Axes>"
            ]
          },
          "metadata": {
            "tags": [],
            "needs_background": "light"
          }
        }
      ]
    }
  ]
}