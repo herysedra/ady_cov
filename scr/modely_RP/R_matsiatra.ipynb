{
  "nbformat": 4,
  "nbformat_minor": 0,
  "metadata": {
    "colab": {
      "name": "R_matsiatra.ipynb",
      "provenance": [],
      "collapsed_sections": [],
      "authorship_tag": "ABX9TyNpFJxBcRwo17d/wr2QbGBQ",
      "include_colab_link": true
    },
    "kernelspec": {
      "name": "python3",
      "display_name": "Python 3"
    }
  },
  "cells": [
    {
      "cell_type": "markdown",
      "metadata": {
        "id": "view-in-github",
        "colab_type": "text"
      },
      "source": [
        "<a href=\"https://colab.research.google.com/github/tabilaocov/ady_cov.github.io/blob/master/scr/modely_RP/R_matsiatra.ipynb\" target=\"_parent\"><img src=\"https://colab.research.google.com/assets/colab-badge.svg\" alt=\"Open In Colab\"/></a>"
      ]
    },
    {
      "cell_type": "code",
      "metadata": {
        "id": "uADxd4dd9SRS",
        "colab": {
          "base_uri": "https://localhost:8080/"
        },
        "outputId": "6fe33f92-54cc-4790-aae5-c05c88543fba"
      },
      "source": [
        "from google.colab import drive\n",
        "drive.mount('/content/drive')"
      ],
      "execution_count": 1,
      "outputs": [
        {
          "output_type": "stream",
          "text": [
            "Mounted at /content/drive\n"
          ],
          "name": "stdout"
        }
      ]
    },
    {
      "cell_type": "code",
      "metadata": {
        "id": "yxGXOwpCIOej",
        "colab": {
          "base_uri": "https://localhost:8080/"
        },
        "outputId": "589934ae-8fd8-4332-e44d-2e84a3cb100b"
      },
      "source": [
        "!pip install pynverse"
      ],
      "execution_count": 2,
      "outputs": [
        {
          "output_type": "stream",
          "text": [
            "Collecting pynverse\n",
            "  Downloading https://files.pythonhosted.org/packages/88/f8/fb90087055b1502def9b6e835e80fa548996bf1439a81583e592f388f4c9/pynverse-0.1.4.4.tar.gz\n",
            "Requirement already satisfied: scipy>=0.11 in /usr/local/lib/python3.7/dist-packages (from pynverse) (1.4.1)\n",
            "Requirement already satisfied: numpy>=1.6 in /usr/local/lib/python3.7/dist-packages (from pynverse) (1.19.5)\n",
            "Building wheels for collected packages: pynverse\n",
            "  Building wheel for pynverse (setup.py) ... \u001b[?25l\u001b[?25hdone\n",
            "  Created wheel for pynverse: filename=pynverse-0.1.4.4-cp37-none-any.whl size=6365 sha256=abff7aa3f0236624ee56a73182f52fa4a244dc61938206bc7cff815540e05c1e\n",
            "  Stored in directory: /root/.cache/pip/wheels/80/ab/86/ec93f37613f012ba3e65c2bbd67e5c54cbc00d237574100c24\n",
            "Successfully built pynverse\n",
            "Installing collected packages: pynverse\n",
            "Successfully installed pynverse-0.1.4.4\n"
          ],
          "name": "stdout"
        }
      ]
    },
    {
      "cell_type": "code",
      "metadata": {
        "id": "lxByqIEn917l"
      },
      "source": [
        "import pandas as pd\n",
        "import numpy as np\n",
        "import matplotlib.pyplot as plt\n",
        "import scipy.stats\n",
        "import matplotlib\n",
        "import pickle\n",
        "\n",
        "import datetime\n",
        "import time\n",
        "from datetime import date\n",
        "\n",
        "import matplotlib.dates as mdates\n",
        "from matplotlib.dates import DateFormatter\n",
        "import seaborn as sns\n",
        "\n",
        "from numpy import log,exp\n",
        "from numpy.random import multinomial\n",
        "from scipy.stats import uniform, gamma, gengamma, poisson, nbinom, expon\n",
        "from scipy.integrate import quad\n",
        "\n",
        "\n",
        "from mpl_toolkits.mplot3d.axes3d import Axes3D, get_test_data\n",
        "from matplotlib import cm\n",
        "from matplotlib.ticker import LinearLocator, FormatStrFormatter\n",
        "\n",
        "\n",
        "from pynverse import inversefunc\n",
        "\n",
        "tilyvoa = pd.read_csv(\"/content/drive/My Drive/data/tilyvoafaritra.csv\")\n",
        "\n",
        "mdg_databe = pd.read_csv(\"/content/drive/My Drive/data/databemdg.csv\")\n",
        "\n",
        "#tilyvoa.set_index('Daty', inplace=True)\n",
        "\n",
        "tilyvoafar = tilyvoa.groupby('Faritra')\n",
        "\n",
        "tilyvoamdg = tilyvoafar.get_group('Madagasikara')\n",
        "tilyvoamdg.set_index('Daty', inplace=True)\n",
        "tilyvoamdg.index = pd.to_datetime(tilyvoamdg.index)\n",
        "\n",
        "tilyvoaanala = tilyvoafar.get_group('Analamanga')\n",
        "tilyvoaanala.set_index('Daty', inplace=True)\n",
        "tilyvoaanala.index = pd.to_datetime(tilyvoaanala.index)\n",
        "\n",
        "tilyvoaatsi = tilyvoafar.get_group('Atsinanana')\n",
        "tilyvoaatsi.set_index('Daty', inplace=True)\n",
        "tilyvoaatsi.index = pd.to_datetime(tilyvoaatsi.index)\n",
        "\n",
        "tilyvoaalao = tilyvoafar.get_group('Alaotra')\n",
        "tilyvoaalao.set_index('Daty', inplace=True)\n",
        "tilyvoaalao.index = pd.to_datetime(tilyvoaalao.index)\n",
        "\n",
        "tilyvoamania = tilyvoafar.get_group('Mania')\n",
        "tilyvoamania.set_index('Daty', inplace=True)\n",
        "tilyvoamania.index = pd.to_datetime(tilyvoamania.index)\n",
        "\n",
        "tilyvoajiro = tilyvoafar.get_group('Analanjirofo')\n",
        "tilyvoajiro.set_index('Daty', inplace=True)\n",
        "tilyvoajiro.index = pd.to_datetime(tilyvoajiro.index)\n",
        "\n",
        "tilyvoanosy = tilyvoafar.get_group('Anosy')\n",
        "tilyvoanosy.set_index('Daty', inplace=True)\n",
        "tilyvoanosy.index = pd.to_datetime(tilyvoanosy.index)\n",
        "\n",
        "tilyvoaandro = tilyvoafar.get_group('Androy')\n",
        "tilyvoaandro.set_index('Daty', inplace=True)\n",
        "tilyvoaandro.index = pd.to_datetime(tilyvoaandro.index)\n",
        "\n",
        "tilyvoaatsim = tilyvoafar.get_group('Atsimoandrefana')\n",
        "tilyvoaatsim.set_index('Daty', inplace=True)\n",
        "tilyvoaatsim.index = pd.to_datetime(tilyvoaatsim.index)\n",
        "\n",
        "tilyvoaatsitsi = tilyvoafar.get_group('AtsimoAtsinanana')\n",
        "tilyvoaatsitsi.set_index('Daty', inplace=True)\n",
        "tilyvoaatsitsi.index = pd.to_datetime(tilyvoaatsitsi.index)\n",
        "\n",
        "tilyvoabe = tilyvoafar.get_group('Betsiboka')\n",
        "tilyvoabe.set_index('Daty', inplace=True)\n",
        "tilyvoabe.index = pd.to_datetime(tilyvoabe.index)\n",
        "\n",
        "tilyvoaboe = tilyvoafar.get_group('Boeny')\n",
        "tilyvoaboe.set_index('Daty', inplace=True)\n",
        "tilyvoaboe.index = pd.to_datetime(tilyvoaboe.index)\n",
        "\n",
        "tilyvoabon = tilyvoafar.get_group('Bongolava')\n",
        "tilyvoabon.set_index('Daty', inplace=True)\n",
        "tilyvoabon.index = pd.to_datetime(tilyvoabon.index)\n",
        "\n",
        "tilyvoadia = tilyvoafar.get_group('Diana')\n",
        "tilyvoadia.set_index('Daty', inplace=True)\n",
        "tilyvoadia.index = pd.to_datetime(tilyvoadia.index)\n",
        "\n",
        "tilyvoatsiatr = tilyvoafar.get_group('Matsiatra')\n",
        "tilyvoatsiatr.set_index('Daty', inplace=True)\n",
        "tilyvoatsiatr.index = pd.to_datetime(tilyvoatsiatr.index)\n",
        "\n",
        "tilyvoahoro = tilyvoafar.get_group('Ihorombe')\n",
        "tilyvoahoro.set_index('Daty', inplace=True)\n",
        "tilyvoahoro.index = pd.to_datetime(tilyvoahoro.index)\n",
        "\n",
        "tilyvoatasy = tilyvoafar.get_group('Itasy')\n",
        "tilyvoatasy.set_index('Daty', inplace=True)\n",
        "tilyvoatasy.index = pd.to_datetime(tilyvoatasy.index)\n",
        "\n",
        "tilyvoamel = tilyvoafar.get_group('Melaky')\n",
        "tilyvoamel.set_index('Daty', inplace=True)\n",
        "tilyvoamel.index = pd.to_datetime(tilyvoamel.index)\n",
        "\n",
        "tilyvoamena = tilyvoafar.get_group('Menabe')\n",
        "tilyvoamena.set_index('Daty', inplace=True)\n",
        "tilyvoamena.index = pd.to_datetime(tilyvoamena.index)\n",
        "\n",
        "tilyvoasava = tilyvoafar.get_group('Sava')\n",
        "tilyvoasava.set_index('Daty', inplace=True)\n",
        "tilyvoasava.index = pd.to_datetime(tilyvoasava.index)\n",
        "\n",
        "tilyvoasofi = tilyvoafar.get_group('Sofia')\n",
        "tilyvoasofi.set_index('Daty', inplace=True)\n",
        "tilyvoasofi.index = pd.to_datetime(tilyvoasofi.index)\n",
        "\n",
        "tilyvoakara = tilyvoafar.get_group('Vakinakaratra')\n",
        "tilyvoakara.set_index('Daty', inplace=True)\n",
        "tilyvoakara.index = pd.to_datetime(tilyvoakara.index)\n",
        "\n",
        "tilyvoavavy = tilyvoafar.get_group('Vatovavy')\n",
        "tilyvoavavy.set_index('Daty', inplace=True)\n",
        "tilyvoavavy.index = pd.to_datetime(tilyvoavavy.index)\n",
        "\n",
        "path_to_save = '/content/drive/My Drive/sary/'\n",
        "path_data = '/content/drive/My Drive/data/'"
      ],
      "execution_count": 3,
      "outputs": []
    },
    {
      "cell_type": "code",
      "metadata": {
        "id": "yvbDzVFjCm6j"
      },
      "source": [
        "daty_data_manom = datetime.date(2021,4,21)\n",
        "daty_data_mifar = datetime.date(2021,6,26)\n",
        "\n",
        "datyt = daty_data_mifar\n",
        "\n",
        "format_date = lambda date_py: '{}-{}-{}'.format(date_py.year, date_py.month, date_py.day)\n",
        "\n",
        "formatff_date = lambda date_py: '{}/{}/{}'.format(date_py.day, date_py.month, str(date_py.year)[2:4])\n",
        "\n",
        "formatfff_date = lambda date_py: '{}'.format(date_py.day)"
      ],
      "execution_count": 4,
      "outputs": []
    },
    {
      "cell_type": "markdown",
      "metadata": {
        "id": "6w4Y6P7U4GqN"
      },
      "source": [
        "# Miainga amin'ireo isan'ny voa vaovao isan'andro"
      ]
    },
    {
      "cell_type": "code",
      "metadata": {
        "id": "pjR3t1mZ992G"
      },
      "source": [
        "# Voa vaovao (observed incidence)\n",
        "Ivaomats = tilyvoatsiatr['Voatomb']\n",
        "\n",
        "dIvao = pd.DataFrame(data =Ivaomats)\n",
        "\n",
        "\n",
        "# 0/ Discretization of the serial interval distribution\n",
        "\n",
        "#Tombana mialoha (prior distributions)\n",
        "#si_sh = 1/(0.62**2) # Report 13\n",
        "#si_sc = 6.5/si_sh\n",
        "\n",
        "si_sh = (6.48**2)/(3.83**2) # Jereo Imperial Covid-19 COVID-19 response team: Short-term forecasts\n",
        "si_sc = 6.48/si_sh\n",
        "\n",
        "def discr_si(t):\n",
        "  if t == 0:\n",
        "    discrsi = 0\n",
        "  elif t == 1:\n",
        "    discrsi = gengamma.cdf(3/2, si_sh, 1, loc = 0, scale = si_sc)\n",
        "  else:\n",
        "    discrsi = gengamma.cdf(t+1/2, si_sh, 1, loc = 0, scale = si_sc) - gengamma.cdf(t-1/2, si_sh, 1, loc = 0, scale = si_sc)\n",
        "  return discrsi\n",
        "\n",
        "# 1/ The total incidence over a generic window (t-k+1,t)\n",
        "# Ireh(t,k) = sum(i = 0 to k-1) Ivao(t - i))\n",
        "\n",
        "def Ireh(t,k):\n",
        "  Irehv = 0\n",
        "  if k - 1 > (t - daty_data_manom).days:\n",
        "    for i in range((t - daty_data_manom).days + 1):\n",
        "      Irehv = Irehv + dIvao['Voatomb'].loc[format_date(t - datetime.timedelta(days = i))]\n",
        "  else:\n",
        "    for i in range(k):\n",
        "      Irehv = Irehv + dIvao['Voatomb'].loc[format_date(t - datetime.timedelta(days = i))]\n",
        "  return Irehv\n",
        "\n",
        "# 2/ Tool to compute the total infectiousness over a generic window (t-k+1,t)\n",
        "# Isi(t,k) = sum(i=0 to k-1) Ivao(t - i)*discr_si(i)\n",
        "\n",
        "# The definition of Isi(t,k) does not include the term Ivao(t) for i = 0 (because discr_si(0) =0)\n",
        "# so we can start the sum from i = 1; but it includes the last term Ivao(t - k + 1)*discr_si(k - 1) for i = k-1. \n",
        "\n",
        "def Isi(t,k):\n",
        "  Ivaosi = 0\n",
        "  if k - 1 > (t - daty_data_manom).days:\n",
        "    for i in range(1,(t - daty_data_manom).days + 1):\n",
        "      Ivaosi = Ivaosi + dIvao['Voatomb'].loc[format_date(t - datetime.timedelta(days = i))]*discr_si(i)\n",
        "  else:\n",
        "    for i in range(1,k):\n",
        "      Ivaosi = Ivaosi + dIvao['Voatomb'].loc[format_date(t - datetime.timedelta(days = i))]*discr_si(i)\n",
        "  return Ivaosi\n",
        "\n",
        "# The total infectiousness before t\n",
        "\n",
        "# lsi(t) := sum(i=0 to t-1) Ivao(t - i)*discr_si(i)\n",
        "\n",
        "def lsi(t):\n",
        "  return Isi(t, (t - daty_data_manom).days +1)\n",
        "\n",
        "  # for checking, take for example t = daty_data_manom + datetime.timedelta(days = 3)\n",
        "\n",
        "# 3/ The sum of total infectiousness before t over a generic window (t-k+1,t)\n",
        "# tlsi(t) := sum(i=t-k+1 to t)lsi(i)\n",
        "\n",
        "def tlsi(t,k):\n",
        "  tlsi = 0\n",
        "  if k - 1 > (t - daty_data_manom).days:\n",
        "    for i in range((t - daty_data_manom).days + 1):\n",
        "      tlsi = tlsi + lsi(t - datetime.timedelta(days = i))\n",
        "  else:\n",
        "    for i in range(k):\n",
        "      tlsi = tlsi + lsi(t - datetime.timedelta(days = i))\n",
        "  return tlsi\n",
        "\n",
        "# 4/ The shape parameters of the posterior predictive negative binomial of I(t+1)\n",
        "# pnb(t,k) = lsi(t+1)*Gamma_post_scale(R(t,k))/(1 + lsi(t+1)*Gamma_post_scale(R(t,k)))\n",
        "\n",
        "def pnb(t,k):\n",
        "  return lsi(t+datetime.timedelta(days = 1))/(1/si_sc + tlsi(t,k) + lsi(t+datetime.timedelta(days = 1)))\n",
        "\n",
        "# pnb(t,k) dia ny taha herjika hoan'ny NB hoan'ny I(t+1).\n",
        "\n",
        "# 5/ Use the pmf of the posterior predictive negative binomial to compute\n",
        "# each additive contribution at time s then for-loop for s in the time interval\n",
        "\n",
        "def lpr(t,k):\n",
        "  return -np.log(nbinom.pmf(dIvao['Voatomb'].loc[format_date(t + datetime.timedelta(days = 1))], si_sh + Ireh(t,k), pnb(t,k)))\n"
      ],
      "execution_count": 54,
      "outputs": []
    },
    {
      "cell_type": "markdown",
      "metadata": {
        "id": "iGs-NO_yM5qb"
      },
      "source": [
        "# Fifidianana ireo taha mialoha (prior parameters)"
      ]
    },
    {
      "cell_type": "code",
      "metadata": {
        "id": "Yd5XWal3M0Jx"
      },
      "source": [
        "  #shape\n",
        "kk=2\n",
        "def func_sh(t):\n",
        "    def Rtpsand_sh(a):\n",
        "      return a + Ireh(t,kk)\n",
        "    return Rtpsand_sh\n",
        "  # Scale\n",
        "def func_sc(t):\n",
        "    def Rtpsand_sc(b):\n",
        "      return 1/(1/b + tlsi(t,kk))\n",
        "    return Rtpsand_sc\n",
        "\n",
        "def funcsh_inv(t):\n",
        "    def sh_invex(x):\n",
        "      return (x + Ireh(t,kk))/x\n",
        "    return inversefunc(sh_invex, domain=[0.01, 1e+11])\n"
      ],
      "execution_count": 6,
      "outputs": []
    },
    {
      "cell_type": "code",
      "metadata": {
        "id": "ooXaFKxeNjlT",
        "colab": {
          "base_uri": "https://localhost:8080/",
          "height": 411
        },
        "outputId": "ea9d6e8b-822a-483a-dd85-95932e7b45db"
      },
      "source": [
        "# Variation of R(datyab) with rapport to the prior parameters\n",
        "\n",
        "datyab = daty_data_mifar\n",
        "\n",
        "fig = plt.figure(figsize=(7,7))\n",
        "ax = fig.gca(projection='3d')\n",
        "\n",
        "# Make data.\n",
        "X = np.linspace(0.1,5,100)\n",
        "Y = np.linspace(0.1,5,100)\n",
        "X, Y = np.meshgrid(X, Y)\n",
        "Z = func_sh(datyab)(X)*func_sc(datyab)(Y)\n",
        "W = X*Y\n",
        "# Plot the surface.\n",
        "surf = ax.plot_surface(X, Y, Z, cmap=cm.coolwarm,\n",
        "                       linewidth=0, antialiased=False)\n",
        "#surf = ax.plot_surface(X, Y, W, cmap=cm.coolwarm,\n",
        " #                      linewidth=0, antialiased=False)\n",
        "\n",
        "# Customize the z axis.\n",
        "ax.set_zlim(0.1, 2)\n",
        "ax.zaxis.set_major_locator(LinearLocator(10))\n",
        "ax.zaxis.set_major_formatter(FormatStrFormatter('%.02f'))\n",
        "\n",
        "ax.set(xlabel ='bika a', ylabel = \"taha b\", zlabel = 'R(t)')\n",
        "\n",
        "# Add a color bar which maps values to colors.\n",
        "fig.colorbar(surf, shrink=0.5, aspect=5)\n",
        "\n",
        "#plt.savefig(path_to_save+'Rt22521_matsia.eps')\n",
        "\n",
        "plt.show()"
      ],
      "execution_count": 7,
      "outputs": [
        {
          "output_type": "display_data",
          "data": {
            "image/png": "[encoded data removed]",
            "text/plain": [
              "<Figure size 504x504 with 2 Axes>"
            ]
          },
          "metadata": {
            "tags": [],
            "needs_background": "light"
          }
        }
      ]
    },
    {
      "cell_type": "code",
      "metadata": {
        "id": "Rf4diAnHNspM",
        "colab": {
          "base_uri": "https://localhost:8080/",
          "height": 318
        },
        "outputId": "484a38a8-6c0d-44f2-df09-c81ecdffaec8"
      },
      "source": [
        "# R(t) when equality between the prior and the posterior\n",
        "\n",
        "# 100 linearly spaced numbers\n",
        "x = np.linspace(0.1,5,100)\n",
        "\n",
        "fig = plt.figure()\n",
        "ax = fig.add_subplot(1, 1, 1)\n",
        "\n",
        "# plot the function\n",
        "plt.plot(x, x*funcsh_inv(datyab)(x/func_sc(datyab)(x)), 'blue')\n",
        "\n",
        "ax.set_ylim(0,3)\n",
        "ax.set(xlabel ='taha', ylabel = \"R(t)\")\n",
        "\n",
        "\n",
        "# show the plot\n",
        "plt.show()\n",
        "\n",
        "print('taha* = 1')\n",
        "print('R(t=',datyab,') =', funcsh_inv(datyab)(1/func_sc(datyab)(1)), '= bika*')\n"
      ],
      "execution_count": 8,
      "outputs": [
        {
          "output_type": "display_data",
          "data": {
            "image/png": "[encoded data removed]",
            "text/plain": [
              "<Figure size 432x288 with 1 Axes>"
            ]
          },
          "metadata": {
            "tags": [],
            "needs_background": "light"
          }
        },
        {
          "output_type": "stream",
          "text": [
            "taha* = 1\n",
            "R(t= 2021-06-26 ) = 1.3506060683259085 = bika*\n"
          ],
          "name": "stdout"
        }
      ]
    },
    {
      "cell_type": "markdown",
      "metadata": {
        "id": "yLvrlZ4f7Hlq"
      },
      "source": [
        "# Fanombanana ny R(t) (estimation of Rt)"
      ]
    },
    {
      "cell_type": "markdown",
      "metadata": {
        "id": "MtTDEr3RQuy7"
      },
      "source": [
        "## Fomba mifidy a sy b"
      ]
    },
    {
      "cell_type": "code",
      "metadata": {
        "id": "CchGPo8WQqA0",
        "colab": {
          "base_uri": "https://localhost:8080/"
        },
        "outputId": "c76c46aa-8ea2-4c45-a79b-3bd70539677b"
      },
      "source": [
        "# Prior Gamma distribution of Rt\n",
        "\n",
        "Rtpr_sh = 1.35 # shape\n",
        "Rtpr_sc = 1 # scale\n",
        "\n",
        "# Posterior distribution for Rt\n",
        "\n",
        "# Shape parameter :\n",
        "def Rtps_sh(t):\n",
        "   return Rtpr_sh + Ireh(t,kk)\n",
        "\n",
        "# Scale\n",
        "def Rtps_sc(t):\n",
        "  return 1/(1/Rtpr_sc + tlsi(t,kk))\n",
        "\n",
        "# mean\n",
        "def Rt_salan(t):\n",
        "  return Rtps_sh(t)*Rtps_sc(t)\n",
        "\n",
        "# 75th and 25th percentiles\n",
        "\n",
        "def perc75(t):\n",
        "  return gengamma.ppf(0.75, Rtps_sh(t), 1, loc = 0, scale = Rtps_sc(t))\n",
        "\n",
        "def perc25(t):\n",
        "  return gengamma.ppf(0.25, Rtps_sh(t), 1, loc = 0, scale = Rtps_sc(t))\n",
        "\n",
        "\n",
        "def Rtps_sal(t):\n",
        "  return dIvao['Voatomb'].loc[format_date(t)]/lsi(t)\n",
        "\n",
        "\n",
        "daty_oh1 = datetime.date(2021,5,1)\n",
        "\n",
        "print(\"Kajy mivantana ny R hoan'ny\", daty_data_mifar, ':', Rtps_sal(daty_data_mifar))\n",
        "\n",
        "print(\"Salan'isa R hoan'ny\", daty_oh1, ':', Rt_salan(daty_oh1))\n",
        "print(\"Kartily @ 75% R hoan'ny\", daty_oh1, ':', perc75(daty_oh1))\n",
        "print(\"Kartily @ 25% R hoan'ny\", daty_oh1, ':', perc25(daty_oh1))\n",
        "\n",
        "print('R(',formatff_date(daty_data_mifar),')', ' = ', np.round(Rt_salan(daty_data_mifar),5), ' (75\\%-kartily: ', np.round(perc75(daty_data_mifar),5), ' ; 25\\%-kartily: ', np.round(perc25(daty_data_mifar),5),')', sep = '' )"
      ],
      "execution_count": 9,
      "outputs": [
        {
          "output_type": "stream",
          "text": [
            "Kajy mivantana ny R hoan'ny 2021-06-26 : 0.9020109289230659\n",
            "Salan'isa R hoan'ny 2021-05-01 : 2.2398829482280336\n",
            "Kartily @ 75% R hoan'ny 2021-05-01 : 2.5945453524066395\n",
            "Kartily @ 25% R hoan'ny 2021-05-01 : 1.832488791782682\n",
            "R(26/6/21) = 1.35053 (75\\%-kartily: 1.60517 ; 25\\%-kartily: 1.04886)\n"
          ],
          "name": "stdout"
        }
      ]
    },
    {
      "cell_type": "code",
      "metadata": {
        "id": "zOu8czV7RPkC",
        "colab": {
          "base_uri": "https://localhost:8080/"
        },
        "outputId": "8a14dc13-bf6e-4deb-df8a-a6aba45bbc8b"
      },
      "source": [
        "rt_mats_lst = []\n",
        "\n",
        "daty_oh2 = daty_data_mifar\n",
        "for i in range(10):\n",
        "  t = daty_oh2 - datetime.timedelta(days = i)\n",
        "  rt_amboar = Rt_salan(t)\n",
        "  rt_mats_lst.append((t,Rt_salan(t)))\n",
        "\n",
        "rt_mats_lst"
      ],
      "execution_count": 10,
      "outputs": [
        {
          "output_type": "execute_result",
          "data": {
            "text/plain": [
              "[(datetime.date(2021, 6, 26), 1.3505269853374828),\n",
              " (datetime.date(2021, 6, 25), 1.0776387237178024),\n",
              " (datetime.date(2021, 6, 24), 0.5605328802787345),\n",
              " (datetime.date(2021, 6, 23), 1.101310085873424),\n",
              " (datetime.date(2021, 6, 22), 1.2617550718726191),\n",
              " (datetime.date(2021, 6, 21), 1.4103256163291376),\n",
              " (datetime.date(2021, 6, 20), 1.2658639944589856),\n",
              " (datetime.date(2021, 6, 19), 0.5871057288198451),\n",
              " (datetime.date(2021, 6, 18), 0.7396257843956582),\n",
              " (datetime.date(2021, 6, 17), 1.6051660259441045)]"
            ]
          },
          "metadata": {
            "tags": []
          },
          "execution_count": 10
        }
      ]
    },
    {
      "cell_type": "code",
      "metadata": {
        "id": "O-h4ykNcnxXb"
      },
      "source": [
        "# Plotting \n",
        "\n",
        "np.random.seed(12345)\n",
        "\n",
        "daty_data_mifar9 = daty_data_mifar - datetime.timedelta(days = 9)\n",
        "\n",
        "formatf_date = lambda date_py: '{}/{}'.format(date_py.day, date_py.month)\n",
        "\n",
        "daty_lst = []\n",
        "\n",
        "data_Rt_lst = []\n",
        "\n",
        "for i in range(round(((daty_data_mifar - daty_data_mifar9).days)+1)):\n",
        "  t = daty_data_mifar9 + datetime.timedelta(days = i)\n",
        "  data_amboar = [gengamma.rvs( func_sh(t)(Rt_salan(t)), 1, loc = 0, scale = func_sc(t)(1)) for j in range(1000)]\n",
        "  daty_lst.append(formatf_date(t))\n",
        "  data_Rt_lst.append(data_amboar)\n"
      ],
      "execution_count": 11,
      "outputs": []
    },
    {
      "cell_type": "code",
      "metadata": {
        "id": "UCgqjHWXr46i"
      },
      "source": [
        "Rtdata = pd.DataFrame(columns =['daty10','rt10'])\n",
        "for i in range(10):\n",
        "    Rtdata.loc[i] = [daty_lst[i],data_Rt_lst[i]]\n",
        "\n",
        "Rtdata = Rtdata.explode('rt10')\n",
        "Rtdata['rt10'] = Rtdata['rt10'].astype('float')"
      ],
      "execution_count": 12,
      "outputs": []
    },
    {
      "cell_type": "code",
      "metadata": {
        "id": "lfHVYgX8sVGI",
        "colab": {
          "base_uri": "https://localhost:8080/",
          "height": 661
        },
        "outputId": "09a63159-c717-42c7-830e-0769998263b6"
      },
      "source": [
        "# Plotting the last 10 days\n",
        "\n",
        "\n",
        "fig, ax = plt.subplots(figsize=(10, 10))\n",
        "\n",
        "sns.boxplot(x = \"daty10\", y = \"rt10\", data = Rtdata, color='white', width=0.2, showfliers=False, ax=ax)\n",
        "ax.axhline(y=1, color='b', linestyle='dashed', label =\"R = 1\")\n",
        "\n",
        "ax.set(xlabel ='Andro', ylabel = \"R hoan'i Matsiatra ambony\")\n",
        "ax.legend(loc= 'best')\n",
        "\n",
        "plt.savefig(path_to_save+'Rt2662110_matsia.png')\n",
        "plt.savefig(path_to_save+'Rt2662110_matsia.eps')\n",
        "plt.show()"
      ],
      "execution_count": 13,
      "outputs": [
        {
          "output_type": "stream",
          "text": [
            "The PostScript backend does not support transparency; partially transparent artists will be rendered opaque.\n",
            "The PostScript backend does not support transparency; partially transparent artists will be rendered opaque.\n"
          ],
          "name": "stderr"
        },
        {
          "output_type": "display_data",
          "data": {
            "image/png": "[encoded data removed]",
            "text/plain": [
              "<Figure size 720x720 with 1 Axes>"
            ]
          },
          "metadata": {
            "tags": [],
            "needs_background": "light"
          }
        }
      ]
    },
    {
      "cell_type": "markdown",
      "metadata": {
        "id": "mZw1y75wN-bJ"
      },
      "source": [
        "# Jeritodika ny herinandro"
      ]
    },
    {
      "cell_type": "code",
      "metadata": {
        "id": "zAXOfqomjrFr"
      },
      "source": [
        "daty_ambaj = datetime.date(2021,6,24)\n",
        "daty_amboj = datetime.date(2021,6,21)\n",
        "\n",
        "daty_data_mifarj = datetime.date(2021,6,19)"
      ],
      "execution_count": 14,
      "outputs": []
    },
    {
      "cell_type": "code",
      "metadata": {
        "colab": {
          "base_uri": "https://localhost:8080/"
        },
        "id": "kV3mwFqag9Hy",
        "outputId": "a8470454-af94-4b5a-f20b-0e2932db26ef"
      },
      "source": [
        "daty_oh1 = daty_ambaj\n",
        "\n",
        "print('Tombana ambany: R(',formatff_date(daty_oh1),')', ' = \\\\textbf{', np.round(Rt_salan(daty_oh1),5), '} (75\\%-kartily: ', np.round(perc75(daty_oh1),5), ' ; 25\\%-kartily: ', np.round(perc25(daty_oh1),5),\") raisina hoan'ny \",formatfff_date(daty_data_mifarj + datetime.timedelta(days = 1)),'-',formatff_date(daty_data_mifar), sep = '')\n",
        "\n",
        "daty_oh2 = daty_amboj\n",
        "\n",
        "print('Tombana ambony: R(',formatff_date(daty_oh2),')', ' = \\\\textbf{', np.round(Rt_salan(daty_oh2),5), '} (75\\%-kartily: ', np.round(perc75(daty_oh2),5), ' ; 25\\%-kartily: ', np.round(perc25(daty_oh2),5),\") raisina hoan'ny \",formatfff_date(daty_data_mifarj + datetime.timedelta(days = 1)),'-',formatff_date(daty_data_mifar), sep = '' )"
      ],
      "execution_count": 15,
      "outputs": [
        {
          "output_type": "stream",
          "text": [
            "Tombana ambany: R(24/6/21) = \\textbf{0.56053} (75\\%-kartily: 0.71123 ; 25\\%-kartily: 0.36397) raisina hoan'ny 20-26/6/21\n",
            "Tombana ambony: R(21/6/21) = \\textbf{1.41033} (75\\%-kartily: 1.67624 ; 25\\%-kartily: 1.09531) raisina hoan'ny 20-26/6/21\n"
          ],
          "name": "stdout"
        }
      ]
    },
    {
      "cell_type": "markdown",
      "metadata": {
        "id": "l3kwgvqCjywa"
      },
      "source": [
        "### Ambany"
      ]
    },
    {
      "cell_type": "code",
      "metadata": {
        "id": "LUSXPgMGjwZS"
      },
      "source": [
        "# Computing Ivao(daty_mifarj + i) for i in range(1,8)\n",
        "\n",
        "daty_m1j = daty_data_mifarj + datetime.timedelta(days = 1)\n",
        "\n",
        "#Rt_amba_hitsiny = (Rt_salan(datetime.date(2020,7,20))- Rt_salan(daty_ambaj))/2\n",
        "\n",
        "Rt_amba_hitsiny = 0\n",
        "Rt_vibaj = Rt_salan(daty_ambaj) + Rt_amba_hitsiny\n",
        "\n",
        "Iv = int(Rt_vibaj*lsi(daty_m1j))\n",
        "\n",
        "dIvao.loc[pd.to_datetime(daty_m1j)] =[Iv]\n",
        "\n",
        "for i in range(1,8):\n",
        " tj = daty_m1j + datetime.timedelta(days = i)\n",
        " Ivv = int(Rt_vibaj*lsi(tj))\n",
        " dIvao.loc[pd.to_datetime(tj)] = [Ivv]"
      ],
      "execution_count": 16,
      "outputs": []
    },
    {
      "cell_type": "code",
      "metadata": {
        "id": "HBTIuzExyezq",
        "colab": {
          "base_uri": "https://localhost:8080/",
          "height": 34
        },
        "outputId": "30dde21b-3606-4e3f-fbcd-b1c2965a12a1"
      },
      "source": [
        "Rt_vibaj"
      ],
      "execution_count": null,
      "outputs": [
        {
          "output_type": "execute_result",
          "data": {
            "text/plain": [
              "0.73591609814785"
            ]
          },
          "metadata": {
            "tags": []
          },
          "execution_count": 48
        }
      ]
    },
    {
      "cell_type": "code",
      "metadata": {
        "id": "7cbMbwU0j5sF"
      },
      "source": [
        "# Sampling\n",
        "\n",
        "np.random.seed(12345)\n",
        "\n",
        "formatf_date = lambda date_py: '{}/{}'.format(date_py.day, date_py.month)\n",
        "\n",
        "daty_j_lst = []\n",
        "\n",
        "data_baj = []\n",
        "\n",
        "\n",
        "for i in range(1,8):\n",
        "  t = daty_data_mifarj + datetime.timedelta(days = i)\n",
        "  daty = formatf_date(t)\n",
        "  datyy = format_date(t)\n",
        "  data_amboar = [ poisson.rvs(dIvao.loc[datyy]) for j in range(600)]\n",
        "  daty_j_lst.append(daty)\n",
        "  data_baj.append(data_amboar)\n"
      ],
      "execution_count": 17,
      "outputs": []
    },
    {
      "cell_type": "markdown",
      "metadata": {
        "id": "I8h6TUy7j7Lx"
      },
      "source": [
        "###Ambony"
      ]
    },
    {
      "cell_type": "code",
      "metadata": {
        "id": "B9tJ_UVCj_BJ"
      },
      "source": [
        "# Computing Ivao(daty_mifarj + i) for i in range(1,8)\n",
        "\n",
        "daty_m1j = daty_data_mifarj + datetime.timedelta(days = 1)\n",
        "\n",
        "#Rt_ambo_hitsiny = (Rt_salan(datetime.date(2020,7,22))- Rt_salan(daty_amboj))/2\n",
        "\n",
        "Rt_ambo_hitsiny = 0\n",
        "Rt_viboj = Rt_salan(daty_amboj) + Rt_ambo_hitsiny\n",
        "\n",
        "Iv = int(Rt_viboj*lsi(daty_m1j))\n",
        "\n",
        "dIvao.loc[pd.to_datetime(daty_m1j)] =[Iv]\n",
        "\n",
        "for i in range(1,8):\n",
        " tj = daty_m1j + datetime.timedelta(days = i)\n",
        " Ivv = int(Rt_viboj*lsi(tj))\n",
        " dIvao.loc[pd.to_datetime(tj)] = [Ivv]"
      ],
      "execution_count": 19,
      "outputs": []
    },
    {
      "cell_type": "code",
      "metadata": {
        "id": "k59brFsghy6L",
        "colab": {
          "base_uri": "https://localhost:8080/",
          "height": 34
        },
        "outputId": "ee2fa137-4f77-42c5-8f2b-d49e2d333234"
      },
      "source": [
        "Rt_viboj"
      ],
      "execution_count": null,
      "outputs": [
        {
          "output_type": "execute_result",
          "data": {
            "text/plain": [
              "1.191500886277069"
            ]
          },
          "metadata": {
            "tags": []
          },
          "execution_count": 26
        }
      ]
    },
    {
      "cell_type": "code",
      "metadata": {
        "id": "twGUJ6xHkFJ4"
      },
      "source": [
        "# Sampling \n",
        "\n",
        "np.random.seed(12345)\n",
        "\n",
        "formatf_date = lambda date_py: '{}/{}'.format(date_py.day, date_py.month)\n",
        "\n",
        "daty_j_lst = []\n",
        "\n",
        "data_boj = []\n",
        "\n",
        "\n",
        "for i in range(1,8):\n",
        "  t = daty_data_mifarj + datetime.timedelta(days = i)\n",
        "  daty = formatf_date(t)\n",
        "  datyy = format_date(t)\n",
        "  data_amboar = [ poisson.rvs(dIvao.loc[datyy]) for j in range(600)]\n",
        "  daty_j_lst.append(daty)\n",
        "  data_boj.append(data_amboar)\n"
      ],
      "execution_count": 20,
      "outputs": []
    },
    {
      "cell_type": "code",
      "metadata": {
        "id": "br7Q70EbvMnG"
      },
      "source": [
        "Rtdataj = pd.DataFrame(columns =['datyj','rtbaj','rtboj'])\n",
        "for i in range(7):\n",
        "    Rtdataj.loc[i] = [daty_j_lst[i],data_baj[i], data_boj[i]]\n",
        "\n",
        "Rtdataj = Rtdataj.explode('rtbaj')\n",
        "Rtdataj = Rtdataj.explode('rtboj')\n",
        "Rtdataj['rtbaj'] = Rtdataj['rtbaj'].astype('float')\n",
        "Rtdataj['rtboj'] = Rtdataj['rtboj'].astype('float')"
      ],
      "execution_count": 22,
      "outputs": []
    },
    {
      "cell_type": "markdown",
      "metadata": {
        "id": "0NsQ0mgVkIOq"
      },
      "source": [
        "### Sary"
      ]
    },
    {
      "cell_type": "code",
      "metadata": {
        "id": "H1piiKtFOUx-",
        "colab": {
          "base_uri": "https://localhost:8080/",
          "height": 405
        },
        "outputId": "547522bf-9376-4ba5-aca3-8e396beb0ebd"
      },
      "source": [
        "# Plotting the evaluation of the last 7 days\n",
        "\n",
        "fig, ax = plt.subplots(figsize=(10,5))\n",
        "box = sns.boxplot(x = \"datyj\", y = 'rtbaj', data = Rtdataj, color='white', width=0.1, showfliers=False, ax=ax)\n",
        "box = sns.boxplot(x = \"datyj\", y = 'rtboj', data = Rtdataj, color='grey', width=0.1, showfliers=False, ax=ax)\n",
        "ax.plot(daty_j_lst, dIvao.loc[pd.to_datetime(daty_m1j):pd.to_datetime(daty_m1j + datetime.timedelta(days = 6))], marker =\"o\",ls = 'None', color='blue',label=\"Voa vaovao voatily\")\n",
        "ax.set(xlabel = 'Andro teo aloha', ylabel=\"Tombana voa vaovao\", title = 'Tombana ambany R = %f sy tombana ambony R = %f' % (round(Rt_vibaj,5),round(Rt_viboj,5)))\n",
        "\n",
        "plt.legend(loc= 'best')\n",
        "\n",
        "plt.savefig(path_to_save+'Iv20621j_matsia.eps')\n",
        "plt.savefig(path_to_save+'Iv20621j_matsia.png')\n",
        "\n",
        "plt.show()"
      ],
      "execution_count": 24,
      "outputs": [
        {
          "output_type": "stream",
          "text": [
            "The PostScript backend does not support transparency; partially transparent artists will be rendered opaque.\n",
            "The PostScript backend does not support transparency; partially transparent artists will be rendered opaque.\n"
          ],
          "name": "stderr"
        },
        {
          "output_type": "display_data",
          "data": {
            "image/png": "[encoded data removed]",
            "text/plain": [
              "<Figure size 720x360 with 1 Axes>"
            ]
          },
          "metadata": {
            "tags": [],
            "needs_background": "light"
          }
        }
      ]
    },
    {
      "cell_type": "markdown",
      "metadata": {
        "id": "2_xHtije77fQ"
      },
      "source": [
        "# Ny 7 andro manaraka"
      ]
    },
    {
      "cell_type": "code",
      "metadata": {
        "id": "yGyytt4BOA35"
      },
      "source": [
        "# Choice of R(t) for the forecasting\n",
        "\n",
        "# Dates for which R(t) is minimum and maximum during the last 10 days\n",
        "\n",
        "daty_amba = daty_ambaj\n",
        "daty_ambo = daty_amboj"
      ],
      "execution_count": 25,
      "outputs": []
    },
    {
      "cell_type": "markdown",
      "metadata": {
        "id": "PIIOOSiCkqR6"
      },
      "source": [
        "### Vinavina ambany"
      ]
    },
    {
      "cell_type": "code",
      "metadata": {
        "id": "EEH2A5F2NBXD"
      },
      "source": [
        "# Computing Ivao(daty_mifar + i) for i in range(1,8)\n",
        "\n",
        "daty_m1 = daty_data_mifar + datetime.timedelta(days = 1)\n",
        "\n",
        "Iv = int(Rt_salan(daty_amba)*lsi(daty_m1))\n",
        "\n",
        "dIvao.loc[pd.to_datetime(daty_m1)] =[Iv]\n",
        "\n",
        "for i in range(1,8):\n",
        " errt = daty_m1 + datetime.timedelta(days = i)\n",
        " Ivv = int(Rt_salan(daty_amba)*lsi(errt))\n",
        " dIvao.loc[pd.to_datetime(errt)] =[Ivv]\n"
      ],
      "execution_count": 26,
      "outputs": []
    },
    {
      "cell_type": "code",
      "metadata": {
        "id": "XFYxPSwaqHeo"
      },
      "source": [
        "# Sampling\n",
        "\n",
        "np.random.seed(12345)\n",
        "\n",
        "formatf_date = lambda date_py: '{}/{}'.format(date_py.day, date_py.month)\n",
        "\n",
        "daty_hoav_lst = []\n",
        "\n",
        "data_amba_hoav = []\n",
        "\n",
        "Ivv_dat = []\n",
        "\n",
        "for i in range(1,8):\n",
        "  t = daty_data_mifar + datetime.timedelta(days = i)\n",
        "  daty = formatf_date(t)\n",
        "  datyy = format_date(t)\n",
        "  data_amboar = [ poisson.rvs(dIvao.loc[datyy]) for j in range(600)]\n",
        "  daty_hoav_lst.append(daty)\n",
        "  data_amba_hoav.append(data_amboar)"
      ],
      "execution_count": 27,
      "outputs": []
    },
    {
      "cell_type": "code",
      "metadata": {
        "id": "Cdubp0zBDJkI",
        "colab": {
          "base_uri": "https://localhost:8080/"
        },
        "outputId": "912aeb61-736a-4349-e0fc-744453652fe0"
      },
      "source": [
        "print('Vinavina ambany')\n",
        "\n",
        "daty_oh = daty_data_mifar + datetime.timedelta(days = 2)\n",
        "\n",
        "print(\"notombanana avy amin'ny R(\", formatff_date(daty_amba), ') = ', np.round(Rt_salan(daty_amba),5), \". \\\\\\\\\", sep = '') \n",
        "\n",
        "\n",
        "print('Ohatra, R(', formatff_date(daty_oh),') = ', np.round(Rt_salan(daty_oh),5), \". Isan'ny voa vaovao @ \", formatff_date(daty_oh), ' = ',  int(dIvao['Voatomb'].loc[format_date(daty_oh)]), ' (75\\%-kartily: ', int(poisson.ppf(0.75, dIvao['Voatomb'].loc[format_date(daty_oh)])), ' ; 25\\%-kartily: ', int(poisson.ppf(0.25, dIvao['Voatomb'].loc[format_date(daty_oh)])), ')', sep = '')"
      ],
      "execution_count": 28,
      "outputs": [
        {
          "output_type": "stream",
          "text": [
            "Vinavina ambany\n",
            "notombanana avy amin'ny R(24/6/21) = 0.56053. \\\\\n",
            "Ohatra, R(28/6/21) = 0.4395. Isan'ny voa vaovao @ 28/6/21 = 1 (75\\%-kartily: 2 ; 25\\%-kartily: 0)\n"
          ],
          "name": "stdout"
        }
      ]
    },
    {
      "cell_type": "markdown",
      "metadata": {
        "id": "IfgzL1jZkkDl"
      },
      "source": [
        "### Vinavina ambony"
      ]
    },
    {
      "cell_type": "code",
      "metadata": {
        "id": "31c50QPrkXLo"
      },
      "source": [
        "# Computing Ivao(daty_mifar + i) for i in range(1,8)\n",
        "\n",
        "daty_m1 = daty_data_mifar + datetime.timedelta(days = 1)\n",
        "\n",
        "Iv = int(Rt_salan(daty_ambo)*lsi(daty_m1))\n",
        "\n",
        "dIvao.loc[pd.to_datetime(daty_m1)] =[Iv]\n",
        "\n",
        "for i in range(1,8):\n",
        " errt = daty_m1 + datetime.timedelta(days = i)\n",
        " Ivv = int(Rt_salan(daty_ambo)*lsi(errt))\n",
        " dIvao.loc[pd.to_datetime(errt)] =[Ivv]\n"
      ],
      "execution_count": 30,
      "outputs": []
    },
    {
      "cell_type": "code",
      "metadata": {
        "id": "yoJDYAEukyFG"
      },
      "source": [
        "# Sampling\n",
        "\n",
        "np.random.seed(12345)\n",
        "\n",
        "formatf_date = lambda date_py: '{}/{}'.format(date_py.day, date_py.month)\n",
        "\n",
        "daty_hoav_lst = []\n",
        "\n",
        "data_ambo_hoav = []\n",
        "\n",
        "Ivv_dat = []\n",
        "\n",
        "for i in range(1,8):\n",
        "  t = daty_data_mifar + datetime.timedelta(days = i)\n",
        "  daty = formatf_date(t)\n",
        "  datyy = format_date(t)\n",
        "  data_amboar = [ poisson.rvs(dIvao.loc[datyy]) for j in range(600)]\n",
        "  daty_hoav_lst.append(daty)\n",
        "  data_ambo_hoav.append(data_amboar)"
      ],
      "execution_count": 31,
      "outputs": []
    },
    {
      "cell_type": "code",
      "metadata": {
        "id": "8l4m9nUpDMkY",
        "colab": {
          "base_uri": "https://localhost:8080/"
        },
        "outputId": "f6400b3a-e201-4cc0-973e-f8fe48547233"
      },
      "source": [
        "print('Vinavina ambony')\n",
        "\n",
        "daty_oh = daty_data_mifar + datetime.timedelta(days = 2)\n",
        "\n",
        "\n",
        "print(\"notombanana avy amin'ny R(\", formatff_date(daty_ambo), ') = ', np.round(Rt_salan(daty_ambo),5), \". \\\\\\\\\", sep = '') \n",
        "\n",
        "\n",
        "print('Ohatra, R(', formatff_date(daty_oh),') = ', np.round(Rt_salan(daty_oh),5), \". Isan'ny voa vaovao @ \", formatff_date(daty_oh), ' = \\\\textbf{',  int(dIvao['Voatomb'].loc[format_date(daty_oh)]), '} (75\\%-kartily: \\\\textbf{', int(poisson.ppf(0.75, dIvao['Voatomb'].loc[format_date(daty_oh)])), '} ; 25\\%-kartily: \\\\textbf{', int(poisson.ppf(0.25, dIvao['Voatomb'].loc[format_date(daty_oh)])), '})', sep = '')"
      ],
      "execution_count": 32,
      "outputs": [
        {
          "output_type": "stream",
          "text": [
            "Vinavina ambony\n",
            "notombanana avy amin'ny R(21/6/21) = 1.41033. \\\\\n",
            "Ohatra, R(28/6/21) = 1.2088. Isan'ny voa vaovao @ 28/6/21 = \\textbf{4} (75\\%-kartily: \\textbf{5} ; 25\\%-kartily: \\textbf{3})\n"
          ],
          "name": "stdout"
        }
      ]
    },
    {
      "cell_type": "code",
      "metadata": {
        "id": "ra3hYg7fw2gv"
      },
      "source": [
        "Rtdatah = pd.DataFrame(columns =['datyh','rtbah','rtboh'])\n",
        "for i in range(7):\n",
        "    Rtdatah.loc[i] = [daty_hoav_lst[i],data_amba_hoav[i], data_ambo_hoav[i]]\n",
        "\n",
        "Rtdatah = Rtdatah.explode('rtbah')\n",
        "Rtdatah = Rtdatah.explode('rtboh')\n",
        "Rtdatah['rtbah'] = Rtdatah['rtbah'].astype('float')\n",
        "Rtdatah['rtboh'] = Rtdatah['rtboh'].astype('float')"
      ],
      "execution_count": 33,
      "outputs": []
    },
    {
      "cell_type": "markdown",
      "metadata": {
        "id": "qvg2QeQQk98i"
      },
      "source": [
        "### Sary"
      ]
    },
    {
      "cell_type": "code",
      "metadata": {
        "id": "M-lWnPSMqR5E",
        "colab": {
          "base_uri": "https://localhost:8080/",
          "height": 350
        },
        "outputId": "55f3da17-dadc-4e2f-9b84-1799b5da7ae9"
      },
      "source": [
        "# Plotting boundaries for the next 7 days\n",
        "\n",
        "fig, ax = plt.subplots(figsize=(10,5))\n",
        "box = sns.boxplot(x = 'datyh', y = 'rtbah', data = Rtdatah, color='white', width=0.1, showfliers=False, ax=ax)\n",
        "box = sns.boxplot(x = 'datyh', y = 'rtboh', data = Rtdatah, color='grey', width=0.1, showfliers=False, ax=ax)\n",
        "\n",
        "ax.set_title('Tombana ambany R = %f sy tombana ambony R = %f' % (np.round(Rt_salan(daty_amba),5),np.round(Rt_salan(daty_ambo),5)))\n",
        "ax.set_xlabel('Andro any aoriana')\n",
        "ax.set_ylabel(\"Vinavina isan'ny voa vaovao\")\n",
        "\n",
        "plt.savefig(path_to_save+'Iv26621hoav_matsia.eps')\n",
        "plt.savefig(path_to_save+'Iv26621hoav_matsia.png')\n",
        "\n",
        "plt.show()"
      ],
      "execution_count": 34,
      "outputs": [
        {
          "output_type": "display_data",
          "data": {
            "image/png": "[encoded data removed]",
            "text/plain": [
              "<Figure size 720x360 with 1 Axes>"
            ]
          },
          "metadata": {
            "tags": [],
            "needs_background": "light"
          }
        }
      ]
    },
    {
      "cell_type": "markdown",
      "metadata": {
        "id": "6d4ciWbP5S7W"
      },
      "source": [
        "## Miainga @ salan'isa 7 andro mifanarakaraka"
      ]
    },
    {
      "cell_type": "code",
      "metadata": {
        "colab": {
          "base_uri": "https://localhost:8080/"
        },
        "id": "cOe3UQEpiDOR",
        "outputId": "e86c261c-ae84-4ccf-f0fa-8323d4062daf"
      },
      "source": [
        "for i in range((daty_data_mifar - daty_data_manom).days +1):\n",
        "  sitr = 0\n",
        "  for j in range(7):\n",
        "    sitr = sitr + tilyvoatsiatr.loc[format_date(daty_data_manom + datetime.timedelta(days = i) - datetime.timedelta(days = j)),'Voatomb']\n",
        "  tilyvoatsiatr.loc[format_date(daty_data_manom + datetime.timedelta(days = i)),'Voatomb_7'] = np.round(sitr/7,1)"
      ],
      "execution_count": 36,
      "outputs": [
        {
          "output_type": "stream",
          "text": [
            "/usr/local/lib/python3.7/dist-packages/pandas/core/indexing.py:1596: SettingWithCopyWarning: \n",
            "A value is trying to be set on a copy of a slice from a DataFrame.\n",
            "Try using .loc[row_indexer,col_indexer] = value instead\n",
            "\n",
            "See the caveats in the documentation: https://pandas.pydata.org/pandas-docs/stable/user_guide/indexing.html#returning-a-view-versus-a-copy\n",
            "  self.obj[key] = _infer_fill_value(value)\n",
            "/usr/local/lib/python3.7/dist-packages/pandas/core/indexing.py:1763: SettingWithCopyWarning: \n",
            "A value is trying to be set on a copy of a slice from a DataFrame.\n",
            "Try using .loc[row_indexer,col_indexer] = value instead\n",
            "\n",
            "See the caveats in the documentation: https://pandas.pydata.org/pandas-docs/stable/user_guide/indexing.html#returning-a-view-versus-a-copy\n",
            "  isetter(loc, value)\n"
          ],
          "name": "stderr"
        }
      ]
    },
    {
      "cell_type": "code",
      "metadata": {
        "id": "LHMyxAaj5Dju"
      },
      "source": [
        "# Voa vaovao (observed incidence)\n",
        "Ivaomats = tilyvoatsiatr['Voatomb_7']\n",
        "\n",
        "dIvao = pd.DataFrame(data =Ivaomats)\n",
        "\n",
        "\n",
        "# 0/ Discretization of the serial interval distribution\n",
        "\n",
        "#Tombana mialoha (prior distributions)\n",
        "#si_sh = 1/(0.62**2) # Report 13\n",
        "#si_sc = 6.5/si_sh\n",
        "\n",
        "si_sh = (6.48**2)/(3.83**2) # Jereo Imperial Covid-19 COVID-19 response team: Short-term forecasts\n",
        "si_sc = 6.48/si_sh\n",
        "\n",
        "def discr_si(t):\n",
        "  if t == 0:\n",
        "    discrsi = 0\n",
        "  elif t == 1:\n",
        "    discrsi = gengamma.cdf(3/2, si_sh, 1, loc = 0, scale = si_sc)\n",
        "  else:\n",
        "    discrsi = gengamma.cdf(t+1/2, si_sh, 1, loc = 0, scale = si_sc) - gengamma.cdf(t-1/2, si_sh, 1, loc = 0, scale = si_sc)\n",
        "  return discrsi\n",
        "\n",
        "# 1/ The total incidence over a generic window (t-k+1,t)\n",
        "# Ireh(t,k) = sum(i = 0 to k-1) Ivao(t - i))\n",
        "\n",
        "def Ireh(t,k):\n",
        "  Irehv = 0\n",
        "  if k - 1 > (t - daty_data_manom).days:\n",
        "    for i in range((t - daty_data_manom).days + 1):\n",
        "      Irehv = Irehv + dIvao['Voatomb_7'].loc[format_date(t - datetime.timedelta(days = i))]\n",
        "  else:\n",
        "    for i in range(k):\n",
        "      Irehv = Irehv + dIvao['Voatomb_7'].loc[format_date(t - datetime.timedelta(days = i))]\n",
        "  return Irehv\n",
        "\n",
        "# 2/ Tool to compute the total infectiousness over a generic window (t-k+1,t)\n",
        "# Isi(t,k) = sum(i=0 to k-1) Ivao(t - i)*discr_si(i)\n",
        "\n",
        "# The definition of Isi(t,k) does not include the term Ivao(t) for i = 0 (because discr_si(0) =0)\n",
        "# so we can start the sum from i = 1; but it includes the last term Ivao(t - k + 1)*discr_si(k - 1) for i = k-1. \n",
        "\n",
        "def Isi(t,k):\n",
        "  Ivaosi = 0\n",
        "  if k - 1 > (t - daty_data_manom).days:\n",
        "    for i in range(1,(t - daty_data_manom).days + 1):\n",
        "      Ivaosi = Ivaosi + dIvao['Voatomb_7'].loc[format_date(t - datetime.timedelta(days = i))]*discr_si(i)\n",
        "  else:\n",
        "    for i in range(1,k):\n",
        "      Ivaosi = Ivaosi + dIvao['Voatomb_7'].loc[format_date(t - datetime.timedelta(days = i))]*discr_si(i)\n",
        "  return Ivaosi\n",
        "\n",
        "# The total infectiousness before t\n",
        "\n",
        "# lsi(t) := sum(i=0 to t-1) Ivao(t - i)*discr_si(i)\n",
        "\n",
        "def lsi(t):\n",
        "  return Isi(t, (t - daty_data_manom).days +1)\n",
        "\n",
        "  # for checking, take for example t = daty_data_manom + datetime.timedelta(days = 3)\n",
        "\n",
        "# 3/ The sum of total infectiousness before t over a generic window (t-k+1,t)\n",
        "# tlsi(t) := sum(i=t-k+1 to t)lsi(i)\n",
        "\n",
        "def tlsi(t,k):\n",
        "  tlsi = 0\n",
        "  if k - 1 > (t - daty_data_manom).days:\n",
        "    for i in range((t - daty_data_manom).days + 1):\n",
        "      tlsi = tlsi + lsi(t - datetime.timedelta(days = i))\n",
        "  else:\n",
        "    for i in range(k):\n",
        "      tlsi = tlsi + lsi(t - datetime.timedelta(days = i))\n",
        "  return tlsi\n",
        "\n",
        "# 4/ The shape parameters of the posterior predictive negative binomial of I(t+1)\n",
        "# pnb(t,k) = lsi(t+1)*Gamma_post_scale(R(t,k))/(1 + lsi(t+1)*Gamma_post_scale(R(t,k)))\n",
        "\n",
        "def pnb(t,k):\n",
        "  return lsi(t+datetime.timedelta(days = 1))/(1/si_sc + tlsi(t,k) + lsi(t+datetime.timedelta(days = 1)))\n",
        "\n",
        "# pnb(t,k) dia ny taha herjika hoan'ny NB hoan'ny I(t+1).\n",
        "\n",
        "# 5/ Use the pmf of the posterior predictive negative binomial to compute\n",
        "# each additive contribution at time s then for-loop for s in the time interval\n",
        "\n",
        "def lpr(t,k):\n",
        "  return -np.log(nbinom.pmf(dIvao['Voatomb_7'].loc[format_date(t + datetime.timedelta(days = 1))], si_sh + Ireh(t,k), pnb(t,k)))\n"
      ],
      "execution_count": 61,
      "outputs": []
    },
    {
      "cell_type": "markdown",
      "metadata": {
        "id": "0ZaWd2_D5Djy"
      },
      "source": [
        "# Fifidianana ireo taha mialoha (prior parameters) [7]"
      ]
    },
    {
      "cell_type": "code",
      "metadata": {
        "id": "nR8l7A3-5Djz"
      },
      "source": [
        "  #shape\n",
        "kk=2\n",
        "def func_sh(t):\n",
        "    def Rtpsand_sh(a):\n",
        "      return a + Ireh(t,kk)\n",
        "    return Rtpsand_sh\n",
        "  # Scale\n",
        "def func_sc(t):\n",
        "    def Rtpsand_sc(b):\n",
        "      return 1/(1/b + tlsi(t,kk))\n",
        "    return Rtpsand_sc\n",
        "\n",
        "def funcsh_inv(t):\n",
        "    def sh_invex(x):\n",
        "      return (x + Ireh(t,kk))/x\n",
        "    return inversefunc(sh_invex, domain=[0.01, 1e+11])\n"
      ],
      "execution_count": 38,
      "outputs": []
    },
    {
      "cell_type": "code",
      "metadata": {
        "colab": {
          "base_uri": "https://localhost:8080/",
          "height": 411
        },
        "id": "EwYI5HVk5Dj1",
        "outputId": "7af74ca9-bcf3-4f23-ab28-639e944dbbd7"
      },
      "source": [
        "# Variation of R(datyab) with rapport to the prior parameters\n",
        "\n",
        "datyab = daty_data_mifar\n",
        "\n",
        "fig = plt.figure(figsize=(7,7))\n",
        "ax = fig.gca(projection='3d')\n",
        "\n",
        "# Make data.\n",
        "X = np.linspace(0.1,5,100)\n",
        "Y = np.linspace(0.1,5,100)\n",
        "X, Y = np.meshgrid(X, Y)\n",
        "Z = func_sh(datyab)(X)*func_sc(datyab)(Y)\n",
        "W = X*Y\n",
        "# Plot the surface.\n",
        "surf = ax.plot_surface(X, Y, Z, cmap=cm.coolwarm,\n",
        "                       linewidth=0, antialiased=False)\n",
        "#surf = ax.plot_surface(X, Y, W, cmap=cm.coolwarm,\n",
        " #                      linewidth=0, antialiased=False)\n",
        "\n",
        "# Customize the z axis.\n",
        "ax.set_zlim(0.1, 2)\n",
        "ax.zaxis.set_major_locator(LinearLocator(10))\n",
        "ax.zaxis.set_major_formatter(FormatStrFormatter('%.02f'))\n",
        "\n",
        "ax.set(xlabel ='bika a', ylabel = \"taha b\", zlabel = 'R(t)')\n",
        "\n",
        "# Add a color bar which maps values to colors.\n",
        "fig.colorbar(surf, shrink=0.5, aspect=5)\n",
        "\n",
        "#plt.savefig(path_to_save+'Rt215217_matsia.eps')\n",
        "\n",
        "plt.show()"
      ],
      "execution_count": 39,
      "outputs": [
        {
          "output_type": "display_data",
          "data": {
            "image/png": "[encoded data removed]",
            "text/plain": [
              "<Figure size 504x504 with 2 Axes>"
            ]
          },
          "metadata": {
            "tags": [],
            "needs_background": "light"
          }
        }
      ]
    },
    {
      "cell_type": "code",
      "metadata": {
        "colab": {
          "base_uri": "https://localhost:8080/",
          "height": 318
        },
        "id": "XfS-ATO05Dj3",
        "outputId": "71721254-ff5c-443d-a3aa-bf7351b67223"
      },
      "source": [
        "# R(t) when equality between the prior and the posterior\n",
        "\n",
        "# 100 linearly spaced numbers\n",
        "x = np.linspace(0.1,5,100)\n",
        "\n",
        "fig = plt.figure()\n",
        "ax = fig.add_subplot(1, 1, 1)\n",
        "\n",
        "# plot the function\n",
        "plt.plot(x, x*funcsh_inv(datyab)(x/func_sc(datyab)(x)), 'blue')\n",
        "\n",
        "ax.set_ylim(0,3)\n",
        "ax.set(xlabel ='taha', ylabel = \"R(t)\")\n",
        "\n",
        "\n",
        "# show the plot\n",
        "plt.show()\n",
        "\n",
        "print('taha* = 1')\n",
        "print('R(t=',datyab,') =', funcsh_inv(datyab)(1/func_sc(datyab)(1)), '= bika*')\n"
      ],
      "execution_count": 40,
      "outputs": [
        {
          "output_type": "display_data",
          "data": {
            "image/png": "[encoded data removed]",
            "text/plain": [
              "<Figure size 432x288 with 1 Axes>"
            ]
          },
          "metadata": {
            "tags": [],
            "needs_background": "light"
          }
        },
        {
          "output_type": "stream",
          "text": [
            "taha* = 1\n",
            "R(t= 2021-06-26 ) = 1.1108166486997517 = bika*\n"
          ],
          "name": "stdout"
        }
      ]
    },
    {
      "cell_type": "markdown",
      "metadata": {
        "id": "9-uTKH465Dj4"
      },
      "source": [
        "# Fanombanana ny R(t) (estimation of Rt) [7]"
      ]
    },
    {
      "cell_type": "markdown",
      "metadata": {
        "id": "hpejT1oJ5Dj6"
      },
      "source": [
        "## Fomba mifidy a sy b [7]"
      ]
    },
    {
      "cell_type": "code",
      "metadata": {
        "colab": {
          "base_uri": "https://localhost:8080/"
        },
        "id": "qMN9eLD-5Dj7",
        "outputId": "2b901b54-8f5c-40b8-ea91-1aaf464868ac"
      },
      "source": [
        "# Prior Gamma distribution of Rt\n",
        "\n",
        "Rtpr_sh = 1.11 # shape\n",
        "Rtpr_sc = 1 # scale\n",
        "\n",
        "# Posterior distribution for Rt\n",
        "\n",
        "# Shape parameter :\n",
        "def Rtps_sh(t):\n",
        "   return Rtpr_sh + Ireh(t,kk)\n",
        "\n",
        "# Scale\n",
        "def Rtps_sc(t):\n",
        "  return 1/(1/Rtpr_sc + tlsi(t,kk))\n",
        "\n",
        "# mean\n",
        "def Rt_salan(t):\n",
        "  return Rtps_sh(t)*Rtps_sc(t)\n",
        "\n",
        "# 75th and 25th percentiles\n",
        "\n",
        "def perc75(t):\n",
        "  return gengamma.ppf(0.75, Rtps_sh(t), 1, loc = 0, scale = Rtps_sc(t))\n",
        "\n",
        "def perc25(t):\n",
        "  return gengamma.ppf(0.25, Rtps_sh(t), 1, loc = 0, scale = Rtps_sc(t))\n",
        "\n",
        "\n",
        "def Rtps_sal(t):\n",
        "  return dIvao['Voatomb_7'].loc[format_date(t)]/lsi(t)\n",
        "\n",
        "\n",
        "daty_oh1 = datetime.date(2021,5,1)\n",
        "\n",
        "print(\"Kajy mivantana ny R hoan'ny\", daty_data_mifar, ':', Rtps_sal(daty_data_mifar))\n",
        "\n",
        "print(\"Salan'isa R hoan'ny\", daty_oh1, ':', Rt_salan(daty_oh1))\n",
        "print(\"Kartily @ 75% R hoan'ny\", daty_oh1, ':', perc75(daty_oh1))\n",
        "print(\"Kartily @ 25% R hoan'ny\", daty_oh1, ':', perc25(daty_oh1))\n",
        "\n",
        "print('R(',formatff_date(daty_data_mifar),')', ' = ', np.round(Rt_salan(daty_data_mifar),5), ' (75\\%-kartily: ', np.round(perc75(daty_data_mifar),5), ' ; 25\\%-kartily: ', np.round(perc25(daty_data_mifar),5),')', sep = '' )"
      ],
      "execution_count": 41,
      "outputs": [
        {
          "output_type": "stream",
          "text": [
            "Kajy mivantana ny R hoan'ny 2021-06-26 : 1.1232810374445732\n",
            "Salan'isa R hoan'ny 2021-05-01 : 1.2588248658634174\n",
            "Kartily @ 75% R hoan'ny 2021-05-01 : 1.4820175506566517\n",
            "Kartily @ 25% R hoan'ny 2021-05-01 : 0.9974997507729881\n",
            "R(26/6/21) = 1.11071 (75\\%-kartily: 1.33968 ; 25\\%-kartily: 0.83424)\n"
          ],
          "name": "stdout"
        }
      ]
    },
    {
      "cell_type": "code",
      "metadata": {
        "colab": {
          "base_uri": "https://localhost:8080/"
        },
        "id": "FVmD50Te5Dj9",
        "outputId": "8fa8b220-d54f-431a-9898-12f410664ed0"
      },
      "source": [
        "rt_mats_lst = []\n",
        "\n",
        "daty_oh2 = daty_data_mifar\n",
        "for i in range(17):\n",
        "  t = daty_oh2 - datetime.timedelta(days = i)\n",
        "  rt_amboar = Rt_salan(t)\n",
        "  rt_mats_lst.append((t,Rt_salan(t)))\n",
        "\n",
        "rt_mats_lst"
      ],
      "execution_count": 42,
      "outputs": [
        {
          "output_type": "execute_result",
          "data": {
            "text/plain": [
              "[(datetime.date(2021, 6, 26), 1.110708793994568),\n",
              " (datetime.date(2021, 6, 25), 1.0102715587489668),\n",
              " (datetime.date(2021, 6, 24), 0.9533947102716182),\n",
              " (datetime.date(2021, 6, 23), 1.1024065572353074),\n",
              " (datetime.date(2021, 6, 22), 1.218373044653879),\n",
              " (datetime.date(2021, 6, 21), 1.1381972219316239),\n",
              " (datetime.date(2021, 6, 20), 0.9901360318024929),\n",
              " (datetime.date(2021, 6, 19), 0.9015706110698134),\n",
              " (datetime.date(2021, 6, 18), 0.8572407064687637),\n",
              " (datetime.date(2021, 6, 17), 0.7622118692650925),\n",
              " (datetime.date(2021, 6, 16), 0.6734774865189694),\n",
              " (datetime.date(2021, 6, 15), 0.6158686815982432),\n",
              " (datetime.date(2021, 6, 14), 0.5695383110176687),\n",
              " (datetime.date(2021, 6, 13), 0.6665677536573066),\n",
              " (datetime.date(2021, 6, 12), 0.7430752692141941),\n",
              " (datetime.date(2021, 6, 11), 0.8681856829402322),\n",
              " (datetime.date(2021, 6, 10), 1.052453051558034)]"
            ]
          },
          "metadata": {
            "tags": []
          },
          "execution_count": 42
        }
      ]
    },
    {
      "cell_type": "code",
      "metadata": {
        "id": "jRFnKqXb5Dj-"
      },
      "source": [
        "# Plotting \n",
        "\n",
        "np.random.seed(12345)\n",
        "\n",
        "daty_data_mifar9 = daty_data_mifar - datetime.timedelta(days = 9)\n",
        "\n",
        "formatf_date = lambda date_py: '{}/{}'.format(date_py.day, date_py.month)\n",
        "\n",
        "daty_lst = []\n",
        "\n",
        "data_Rt_lst = []\n",
        "\n",
        "for i in range(round(((daty_data_mifar - daty_data_mifar9).days)+1)):\n",
        "  t = daty_data_mifar9 + datetime.timedelta(days = i)\n",
        "  data_amboar = [gengamma.rvs( func_sh(t)(Rt_salan(t)), 1, loc = 0, scale = func_sc(t)(1)) for j in range(1000)]\n",
        "  daty_lst.append(formatf_date(t))\n",
        "  data_Rt_lst.append(data_amboar)\n"
      ],
      "execution_count": 43,
      "outputs": []
    },
    {
      "cell_type": "code",
      "metadata": {
        "id": "aLYhxA075Dj_"
      },
      "source": [
        "Rtdata = pd.DataFrame(columns =['daty10','rt10'])\n",
        "for i in range(10):\n",
        "    Rtdata.loc[i] = [daty_lst[i],data_Rt_lst[i]]\n",
        "\n",
        "Rtdata = Rtdata.explode('rt10')\n",
        "Rtdata['rt10'] = Rtdata['rt10'].astype('float')"
      ],
      "execution_count": 44,
      "outputs": []
    },
    {
      "cell_type": "code",
      "metadata": {
        "colab": {
          "base_uri": "https://localhost:8080/",
          "height": 661
        },
        "id": "S9m_IJlx5DkA",
        "outputId": "46cbf9f0-6023-47ae-a530-338610b73d7d"
      },
      "source": [
        "# Plotting the last 10 days\n",
        "\n",
        "\n",
        "fig, ax = plt.subplots(figsize=(10, 10))\n",
        "\n",
        "sns.boxplot(x = \"daty10\", y = \"rt10\", data = Rtdata, color='white', width=0.2, showfliers=False, ax=ax)\n",
        "ax.axhline(y=1, color='b', linestyle='dashed', label =\"R = 1\")\n",
        "\n",
        "ax.set(xlabel ='Andro', ylabel = \"R hoan'i Matsiatra ambony\")\n",
        "ax.legend(loc= 'best')\n",
        "\n",
        "plt.savefig(path_to_save+'Rt26621107_matsia.png')\n",
        "plt.savefig(path_to_save+'Rt26621107_matsia.eps')\n",
        "plt.show()"
      ],
      "execution_count": 45,
      "outputs": [
        {
          "output_type": "stream",
          "text": [
            "The PostScript backend does not support transparency; partially transparent artists will be rendered opaque.\n",
            "The PostScript backend does not support transparency; partially transparent artists will be rendered opaque.\n"
          ],
          "name": "stderr"
        },
        {
          "output_type": "display_data",
          "data": {
            "image/png": "[encoded data removed]",
            "text/plain": [
              "<Figure size 720x720 with 1 Axes>"
            ]
          },
          "metadata": {
            "tags": [],
            "needs_background": "light"
          }
        }
      ]
    },
    {
      "cell_type": "markdown",
      "metadata": {
        "id": "LAaOsQmS5DkC"
      },
      "source": [
        "# Jeritodika ny herinandro [7]"
      ]
    },
    {
      "cell_type": "code",
      "metadata": {
        "id": "0G4ekuwP5DkD"
      },
      "source": [
        "daty_ambaj = datetime.date(2021,6,24)\n",
        "daty_amboj = datetime.date(2021,6,21)\n",
        "\n",
        "daty_data_mifarj = datetime.date(2021,6,19)"
      ],
      "execution_count": 46,
      "outputs": []
    },
    {
      "cell_type": "code",
      "metadata": {
        "colab": {
          "base_uri": "https://localhost:8080/"
        },
        "id": "2Wxd5T52inEn",
        "outputId": "3098ecd5-ce09-4204-a6b2-7ae373cce371"
      },
      "source": [
        "daty_oh1 = daty_ambaj\n",
        "\n",
        "print('Tombana ambany: R(',formatff_date(daty_oh1),')', ' = \\\\textbf{', np.round(Rt_salan(daty_oh1),5), '} (75\\%-kartily: ', np.round(perc75(daty_oh1),5), ' ; 25\\%-kartily: ', np.round(perc25(daty_oh1),5),\") raisina hoan'ny \",formatfff_date(daty_data_mifarj + datetime.timedelta(days = 1)),'-',formatff_date(daty_data_mifar), sep = '')\n",
        "\n",
        "daty_oh2 = daty_amboj\n",
        "\n",
        "print('Tombana ambony: R(',formatff_date(daty_oh2),')', ' = \\\\textbf{', np.round(Rt_salan(daty_oh2),5), '} (75\\%-kartily: ', np.round(perc75(daty_oh2),5), ' ; 25\\%-kartily: ', np.round(perc25(daty_oh2),5),\") raisina hoan'ny \",formatfff_date(daty_data_mifarj + datetime.timedelta(days = 1)),'-',formatff_date(daty_data_mifar), sep = '' )"
      ],
      "execution_count": 47,
      "outputs": [
        {
          "output_type": "stream",
          "text": [
            "Tombana ambany: R(24/6/21) = \\textbf{0.95339} (75\\%-kartily: 1.16429 ; 25\\%-kartily: 0.69437) raisina hoan'ny 20-26/6/21\n",
            "Tombana ambony: R(21/6/21) = \\textbf{1.1382} (75\\%-kartily: 1.37283 ; 25\\%-kartily: 0.85489) raisina hoan'ny 20-26/6/21\n"
          ],
          "name": "stdout"
        }
      ]
    },
    {
      "cell_type": "markdown",
      "metadata": {
        "id": "RXExDaPz5DkE"
      },
      "source": [
        "### Ambany [7]"
      ]
    },
    {
      "cell_type": "code",
      "metadata": {
        "id": "KWjmLw095DkF"
      },
      "source": [
        "# Computing Ivao(daty_mifarj + i) for i in range(1,8)\n",
        "\n",
        "daty_m1j = daty_data_mifarj + datetime.timedelta(days = 1)\n",
        "\n",
        "#Rt_amba_hitsiny = (Rt_salan(datetime.date(2020,7,20))- Rt_salan(daty_ambaj))/2\n",
        "\n",
        "Rt_amba_hitsiny = 0\n",
        "Rt_vibaj = Rt_salan(daty_ambaj) + Rt_amba_hitsiny\n",
        "\n",
        "Iv = int(Rt_vibaj*lsi(daty_m1j))\n",
        "\n",
        "dIvao.loc[pd.to_datetime(daty_m1j)] =[Iv]\n",
        "\n",
        "for i in range(1,8):\n",
        " tj = daty_m1j + datetime.timedelta(days = i)\n",
        " Ivv = int(Rt_vibaj*lsi(tj))\n",
        " dIvao.loc[pd.to_datetime(tj)] = [Ivv]"
      ],
      "execution_count": 48,
      "outputs": []
    },
    {
      "cell_type": "code",
      "metadata": {
        "colab": {
          "base_uri": "https://localhost:8080/",
          "height": 34
        },
        "id": "yDe0__Di5DkG",
        "outputId": "30dde21b-3606-4e3f-fbcd-b1c2965a12a1"
      },
      "source": [
        "Rt_vibaj"
      ],
      "execution_count": null,
      "outputs": [
        {
          "output_type": "execute_result",
          "data": {
            "text/plain": [
              "0.73591609814785"
            ]
          },
          "metadata": {
            "tags": []
          },
          "execution_count": 48
        }
      ]
    },
    {
      "cell_type": "code",
      "metadata": {
        "id": "64DzOXVJ5DkG"
      },
      "source": [
        "# Sampling\n",
        "\n",
        "np.random.seed(12345)\n",
        "\n",
        "formatf_date = lambda date_py: '{}/{}'.format(date_py.day, date_py.month)\n",
        "\n",
        "daty_j_lst = []\n",
        "\n",
        "data_baj = []\n",
        "\n",
        "\n",
        "for i in range(1,8):\n",
        "  t = daty_data_mifarj + datetime.timedelta(days = i)\n",
        "  daty = formatf_date(t)\n",
        "  datyy = format_date(t)\n",
        "  data_amboar = [ poisson.rvs(dIvao.loc[datyy]) for j in range(600)]\n",
        "  daty_j_lst.append(daty)\n",
        "  data_baj.append(data_amboar)\n"
      ],
      "execution_count": 49,
      "outputs": []
    },
    {
      "cell_type": "markdown",
      "metadata": {
        "id": "3dICqcsv5DkI"
      },
      "source": [
        "###Ambony"
      ]
    },
    {
      "cell_type": "code",
      "metadata": {
        "id": "HhQrcE7u5DkJ"
      },
      "source": [
        "# Computing Ivao(daty_mifarj + i) for i in range(1,8)\n",
        "\n",
        "daty_m1j = daty_data_mifarj + datetime.timedelta(days = 1)\n",
        "\n",
        "#Rt_ambo_hitsiny = (Rt_salan(datetime.date(2020,7,22))- Rt_salan(daty_amboj))/2\n",
        "\n",
        "Rt_ambo_hitsiny = 0\n",
        "Rt_viboj = Rt_salan(daty_amboj) + Rt_ambo_hitsiny\n",
        "\n",
        "Iv = int(Rt_viboj*lsi(daty_m1j))\n",
        "\n",
        "dIvao.loc[pd.to_datetime(daty_m1j)] =[Iv]\n",
        "\n",
        "for i in range(1,8):\n",
        " tj = daty_m1j + datetime.timedelta(days = i)\n",
        " Ivv = int(Rt_viboj*lsi(tj))\n",
        " dIvao.loc[pd.to_datetime(tj)] = [Ivv]"
      ],
      "execution_count": 51,
      "outputs": []
    },
    {
      "cell_type": "code",
      "metadata": {
        "colab": {
          "base_uri": "https://localhost:8080/",
          "height": 34
        },
        "id": "yQq3-EOQ5DkJ",
        "outputId": "ee2fa137-4f77-42c5-8f2b-d49e2d333234"
      },
      "source": [
        "Rt_viboj"
      ],
      "execution_count": null,
      "outputs": [
        {
          "output_type": "execute_result",
          "data": {
            "text/plain": [
              "1.191500886277069"
            ]
          },
          "metadata": {
            "tags": []
          },
          "execution_count": 26
        }
      ]
    },
    {
      "cell_type": "code",
      "metadata": {
        "id": "Zbdq3Xp95DkK"
      },
      "source": [
        "# Sampling \n",
        "\n",
        "np.random.seed(12345)\n",
        "\n",
        "formatf_date = lambda date_py: '{}/{}'.format(date_py.day, date_py.month)\n",
        "\n",
        "daty_j_lst = []\n",
        "\n",
        "data_boj = []\n",
        "\n",
        "\n",
        "for i in range(1,8):\n",
        "  t = daty_data_mifarj + datetime.timedelta(days = i)\n",
        "  daty = formatf_date(t)\n",
        "  datyy = format_date(t)\n",
        "  data_amboar = [ poisson.rvs(dIvao.loc[datyy]) for j in range(600)]\n",
        "  daty_j_lst.append(daty)\n",
        "  data_boj.append(data_amboar)\n"
      ],
      "execution_count": 52,
      "outputs": []
    },
    {
      "cell_type": "code",
      "metadata": {
        "id": "n8wjb4e65DkL"
      },
      "source": [
        "Rtdataj = pd.DataFrame(columns =['datyj','rtbaj','rtboj'])\n",
        "for i in range(7):\n",
        "    Rtdataj.loc[i] = [daty_j_lst[i],data_baj[i], data_boj[i]]\n",
        "\n",
        "Rtdataj = Rtdataj.explode('rtbaj')\n",
        "Rtdataj = Rtdataj.explode('rtboj')\n",
        "Rtdataj['rtbaj'] = Rtdataj['rtbaj'].astype('float')\n",
        "Rtdataj['rtboj'] = Rtdataj['rtboj'].astype('float')"
      ],
      "execution_count": 53,
      "outputs": []
    },
    {
      "cell_type": "markdown",
      "metadata": {
        "id": "7fOnNLXz5DkL"
      },
      "source": [
        "### Sary"
      ]
    },
    {
      "cell_type": "code",
      "metadata": {
        "colab": {
          "base_uri": "https://localhost:8080/",
          "height": 405
        },
        "id": "BG6o1V7v5DkM",
        "outputId": "f9a3ea64-73b2-49b8-c9e4-c6f4519feac9"
      },
      "source": [
        "# Plotting the evaluation of the last 7 days\n",
        "\n",
        "fig, ax = plt.subplots(figsize=(10,5))\n",
        "box = sns.boxplot(x = \"datyj\", y = 'rtbaj', data = Rtdataj, color='white', width=0.1, showfliers=False, ax=ax)\n",
        "box = sns.boxplot(x = \"datyj\", y = 'rtboj', data = Rtdataj, color='grey', width=0.1, showfliers=False, ax=ax)\n",
        "ax.plot(daty_j_lst, dIvao.loc[pd.to_datetime(daty_m1j):pd.to_datetime(daty_m1j + datetime.timedelta(days = 6))], marker =\"o\",ls = 'None', color='blue',label=\"Voa vaovao voatily\")\n",
        "ax.set(xlabel = 'Andro teo aloha', ylabel=\"Tombana voa vaovao\", title = 'Tombana ambany R = %f sy tombana ambony R = %f' % (round(Rt_vibaj,5),round(Rt_viboj,5)))\n",
        "\n",
        "\n",
        "plt.legend(loc= 'best')\n",
        "\n",
        "plt.savefig(path_to_save+'Iv206217j_matsia.eps')\n",
        "plt.savefig(path_to_save+'Iv206217j_matsia.png')\n",
        "\n",
        "plt.show()"
      ],
      "execution_count": 55,
      "outputs": [
        {
          "output_type": "stream",
          "text": [
            "The PostScript backend does not support transparency; partially transparent artists will be rendered opaque.\n",
            "The PostScript backend does not support transparency; partially transparent artists will be rendered opaque.\n"
          ],
          "name": "stderr"
        },
        {
          "output_type": "display_data",
          "data": {
            "image/png": "[encoded data removed]",
            "text/plain": [
              "<Figure size 720x360 with 1 Axes>"
            ]
          },
          "metadata": {
            "tags": [],
            "needs_background": "light"
          }
        }
      ]
    },
    {
      "cell_type": "markdown",
      "metadata": {
        "id": "yWO8I0GF5DkN"
      },
      "source": [
        "# Ny 7 andro manaraka [7]"
      ]
    },
    {
      "cell_type": "code",
      "metadata": {
        "id": "9iC3Fwq55DkN"
      },
      "source": [
        "# Choice of R(t) for the forecasting\n",
        "\n",
        "# Dates for which R(t) is minimum and maximum during the last 10 days\n",
        "\n",
        "daty_amba = daty_ambaj\n",
        "daty_ambo = daty_amboj"
      ],
      "execution_count": 57,
      "outputs": []
    },
    {
      "cell_type": "markdown",
      "metadata": {
        "id": "GyGSU_6K5DkO"
      },
      "source": [
        "### Vinavina ambany [7]"
      ]
    },
    {
      "cell_type": "code",
      "metadata": {
        "id": "ENgeFWpD5DkO"
      },
      "source": [
        "# Computing Ivao(daty_mifar + i) for i in range(1,8)\n",
        "\n",
        "daty_m1 = daty_data_mifar + datetime.timedelta(days = 1)\n",
        "\n",
        "Iv = int(Rt_salan(daty_amba)*lsi(daty_m1))\n",
        "\n",
        "dIvao.loc[pd.to_datetime(daty_m1)] =[Iv]\n",
        "\n",
        "for i in range(1,8):\n",
        " errt = daty_m1 + datetime.timedelta(days = i)\n",
        " Ivv = int(Rt_salan(daty_amba)*lsi(errt))\n",
        " dIvao.loc[pd.to_datetime(errt)] =[Ivv]\n"
      ],
      "execution_count": 58,
      "outputs": []
    },
    {
      "cell_type": "code",
      "metadata": {
        "id": "uH0Ll8Kp5DkO"
      },
      "source": [
        "# Sampling\n",
        "\n",
        "np.random.seed(12345)\n",
        "\n",
        "formatf_date = lambda date_py: '{}/{}'.format(date_py.day, date_py.month)\n",
        "\n",
        "daty_hoav_lst = []\n",
        "\n",
        "data_amba_hoav = []\n",
        "\n",
        "Ivv_dat = []\n",
        "\n",
        "for i in range(1,8):\n",
        "  t = daty_data_mifar + datetime.timedelta(days = i)\n",
        "  daty = formatf_date(t)\n",
        "  datyy = format_date(t)\n",
        "  data_amboar = [ poisson.rvs(dIvao.loc[datyy]) for j in range(600)]\n",
        "  daty_hoav_lst.append(daty)\n",
        "  data_amba_hoav.append(data_amboar)"
      ],
      "execution_count": 59,
      "outputs": []
    },
    {
      "cell_type": "code",
      "metadata": {
        "id": "ZzQO4WgMDCDr",
        "colab": {
          "base_uri": "https://localhost:8080/"
        },
        "outputId": "86f9e7a8-c8cf-48cd-df97-bcc01d11afbe"
      },
      "source": [
        "print('Vinavina ambany')\n",
        "\n",
        "daty_oh = daty_data_mifar + datetime.timedelta(days = 2)\n",
        "\n",
        "print(\"notombanana avy amin'ny R(\", formatff_date(daty_amba), ') = ', np.round(Rt_salan(daty_amba),5), \". \\\\\\\\\", sep = '') \n",
        "\n",
        "\n",
        "print('Ohatra, R(', formatff_date(daty_oh),') = ', np.round(Rt_salan(daty_oh),5), \". Isan'ny voa vaovao @ \", formatff_date(daty_oh), ' = ',  int(dIvao['Voatomb_7'].loc[format_date(daty_oh)]), ' (75\\%-kartily: ', int(poisson.ppf(0.75, dIvao['Voatomb_7'].loc[format_date(daty_oh)])), ' ; 25\\%-kartily: ', int(poisson.ppf(0.25, dIvao['Voatomb_7'].loc[format_date(daty_oh)])), ')', sep = '')"
      ],
      "execution_count": 60,
      "outputs": [
        {
          "output_type": "stream",
          "text": [
            "Vinavina ambany\n",
            "notombanana avy amin'ny R(24/6/21) = 0.95339. \\\\\n",
            "Ohatra, R(28/6/21) = 0.92868. Isan'ny voa vaovao @ 28/6/21 = 3 (75\\%-kartily: 4 ; 25\\%-kartily: 2)\n"
          ],
          "name": "stdout"
        }
      ]
    },
    {
      "cell_type": "markdown",
      "metadata": {
        "id": "TG9sTU_g5DkQ"
      },
      "source": [
        "### Vinavina ambony [7]"
      ]
    },
    {
      "cell_type": "code",
      "metadata": {
        "id": "AXygV19d5DkQ"
      },
      "source": [
        "# Computing Ivao(daty_mifar + i) for i in range(1,8)\n",
        "\n",
        "daty_m1 = daty_data_mifar + datetime.timedelta(days = 1)\n",
        "\n",
        "Iv = int(Rt_salan(daty_ambo)*lsi(daty_m1))\n",
        "\n",
        "dIvao.loc[pd.to_datetime(daty_m1)] =[Iv]\n",
        "\n",
        "for i in range(1,8):\n",
        " errt = daty_m1 + datetime.timedelta(days = i)\n",
        " Ivv = int(Rt_salan(daty_ambo)*lsi(errt))\n",
        " dIvao.loc[pd.to_datetime(errt)] =[Ivv]\n"
      ],
      "execution_count": 62,
      "outputs": []
    },
    {
      "cell_type": "code",
      "metadata": {
        "id": "TivMHXua5DkR"
      },
      "source": [
        "# Sampling\n",
        "\n",
        "np.random.seed(12345)\n",
        "\n",
        "formatf_date = lambda date_py: '{}/{}'.format(date_py.day, date_py.month)\n",
        "\n",
        "daty_hoav_lst = []\n",
        "\n",
        "data_ambo_hoav = []\n",
        "\n",
        "Ivv_dat = []\n",
        "\n",
        "for i in range(1,8):\n",
        "  t = daty_data_mifar + datetime.timedelta(days = i)\n",
        "  daty = formatf_date(t)\n",
        "  datyy = format_date(t)\n",
        "  data_amboar = [ poisson.rvs(dIvao.loc[datyy]) for j in range(600)]\n",
        "  daty_hoav_lst.append(daty)\n",
        "  data_ambo_hoav.append(data_amboar)"
      ],
      "execution_count": 63,
      "outputs": []
    },
    {
      "cell_type": "code",
      "metadata": {
        "id": "IuDY8sCqDUBF",
        "colab": {
          "base_uri": "https://localhost:8080/"
        },
        "outputId": "fe30f2cc-540a-4f8c-c75b-d2a722aad5d0"
      },
      "source": [
        "print('Vinavina ambony')\n",
        "\n",
        "daty_oh = daty_data_mifar + datetime.timedelta(days = 2)\n",
        "\n",
        "\n",
        "print(\"notombanana avy amin'ny R(\", formatff_date(daty_ambo), ') = ', np.round(Rt_salan(daty_ambo),5), \". \\\\\\\\\", sep = '') \n",
        "\n",
        "\n",
        "print('Ohatra, R(', formatff_date(daty_oh),') = ', np.round(Rt_salan(daty_oh),5), \". Isan'ny voa vaovao @ \", formatff_date(daty_oh), ' = \\\\textbf{',  int(dIvao['Voatomb_7'].loc[format_date(daty_oh)]), '} (75\\%-kartily: \\\\textbf{', int(poisson.ppf(0.75, dIvao['Voatomb_7'].loc[format_date(daty_oh)])), '} ; 25\\%-kartily: \\\\textbf{', int(poisson.ppf(0.25, dIvao['Voatomb_7'].loc[format_date(daty_oh)])), '})', sep = '')"
      ],
      "execution_count": 64,
      "outputs": [
        {
          "output_type": "stream",
          "text": [
            "Vinavina ambony\n",
            "notombanana avy amin'ny R(21/6/21) = 1.1382. \\\\\n",
            "Ohatra, R(28/6/21) = 0.92868. Isan'ny voa vaovao @ 28/6/21 = \\textbf{3} (75\\%-kartily: \\textbf{4} ; 25\\%-kartily: \\textbf{2})\n"
          ],
          "name": "stdout"
        }
      ]
    },
    {
      "cell_type": "code",
      "metadata": {
        "id": "VUCBWdGe5DkS"
      },
      "source": [
        "Rtdatah = pd.DataFrame(columns =['datyh','rtbah','rtboh'])\n",
        "for i in range(7):\n",
        "    Rtdatah.loc[i] = [daty_hoav_lst[i],data_amba_hoav[i], data_ambo_hoav[i]]\n",
        "\n",
        "Rtdatah = Rtdatah.explode('rtbah')\n",
        "Rtdatah = Rtdatah.explode('rtboh')\n",
        "Rtdatah['rtbah'] = Rtdatah['rtbah'].astype('float')\n",
        "Rtdatah['rtboh'] = Rtdatah['rtboh'].astype('float')"
      ],
      "execution_count": 65,
      "outputs": []
    },
    {
      "cell_type": "markdown",
      "metadata": {
        "id": "C0ZVHxd05DkS"
      },
      "source": [
        "### Sary [7]"
      ]
    },
    {
      "cell_type": "code",
      "metadata": {
        "colab": {
          "base_uri": "https://localhost:8080/",
          "height": 350
        },
        "id": "CVSeRx7g5DkU",
        "outputId": "d4931e87-39ea-46bf-c596-95b8257b0620"
      },
      "source": [
        "# Plotting boundaries for the next 7 days\n",
        "\n",
        "fig, ax = plt.subplots(figsize=(10,5))\n",
        "box = sns.boxplot(x = 'datyh', y = 'rtbah', data = Rtdatah, color='white', width=0.1, showfliers=False, ax=ax)\n",
        "box = sns.boxplot(x = 'datyh', y = 'rtboh', data = Rtdatah, color='grey', width=0.1, showfliers=False, ax=ax)\n",
        "\n",
        "ax.set_title('Tombana ambany R = %f sy tombana ambony R = %f' % (np.round(Rt_salan(daty_amba),5),np.round(Rt_salan(daty_ambo),5)))\n",
        "ax.set_xlabel('Andro any aoriana')\n",
        "ax.set_ylabel(\"Vinavina isan'ny voa vaovao\")\n",
        "\n",
        "plt.savefig(path_to_save+'Iv266217hoav_matsia.eps')\n",
        "plt.savefig(path_to_save+'Iv266217hoav_matsia.png')\n",
        "\n",
        "plt.show()"
      ],
      "execution_count": 66,
      "outputs": [
        {
          "output_type": "display_data",
          "data": {
            "image/png": "[encoded data removed]",
            "text/plain": [
              "<Figure size 720x360 with 1 Axes>"
            ]
          },
          "metadata": {
            "tags": [],
            "needs_background": "light"
          }
        }
      ]
    }
  ]
}