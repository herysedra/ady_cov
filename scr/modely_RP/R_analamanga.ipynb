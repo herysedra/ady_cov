{
  "nbformat": 4,
  "nbformat_minor": 0,
  "metadata": {
    "colab": {
      "name": "R_analamanga.ipynb",
      "provenance": [],
      "collapsed_sections": [],
      "authorship_tag": "ABX9TyMIPUun9sI9lrY5votqlva1",
      "include_colab_link": true
    },
    "kernelspec": {
      "name": "python3",
      "display_name": "Python 3"
    }
  },
  "cells": [
    {
      "cell_type": "markdown",
      "metadata": {
        "id": "view-in-github",
        "colab_type": "text"
      },
      "source": [
        "<a href=\"https://colab.research.google.com/github/herysedra/ady_cov/blob/master/scr/modely_RP/R_analamanga.ipynb\" target=\"_parent\"><img src=\"https://colab.research.google.com/assets/colab-badge.svg\" alt=\"Open In Colab\"/></a>"
      ]
    },
    {
      "cell_type": "code",
      "metadata": {
        "id": "uADxd4dd9SRS",
        "colab_type": "code",
        "colab": {
          "base_uri": "https://localhost:8080/",
          "height": 34
        },
        "outputId": "b22519f8-4a90-4502-9614-81d32737e061"
      },
      "source": [
        "from google.colab import drive\n",
        "drive.mount('/content/drive')"
      ],
      "execution_count": 1,
      "outputs": [
        {
          "output_type": "stream",
          "text": [
            "Mounted at /content/drive\n"
          ],
          "name": "stdout"
        }
      ]
    },
    {
      "cell_type": "code",
      "metadata": {
        "id": "yxGXOwpCIOej",
        "colab_type": "code",
        "colab": {
          "base_uri": "https://localhost:8080/",
          "height": 228
        },
        "outputId": "0bf5530f-96bb-48c6-9ca5-51fb1562ea20"
      },
      "source": [
        "!pip install pynverse"
      ],
      "execution_count": 2,
      "outputs": [
        {
          "output_type": "stream",
          "text": [
            "Collecting pynverse\n",
            "  Downloading https://files.pythonhosted.org/packages/88/f8/fb90087055b1502def9b6e835e80fa548996bf1439a81583e592f388f4c9/pynverse-0.1.4.4.tar.gz\n",
            "Requirement already satisfied: scipy>=0.11 in /usr/local/lib/python3.6/dist-packages (from pynverse) (1.4.1)\n",
            "Requirement already satisfied: numpy>=1.6 in /usr/local/lib/python3.6/dist-packages (from pynverse) (1.18.5)\n",
            "Building wheels for collected packages: pynverse\n",
            "  Building wheel for pynverse (setup.py) ... \u001b[?25l\u001b[?25hdone\n",
            "  Created wheel for pynverse: filename=pynverse-0.1.4.4-cp36-none-any.whl size=6350 sha256=5bafe3c8c15e4fb68ada6e5b27fcc3636659b597fe61c2aa030649f348b1a437\n",
            "  Stored in directory: /root/.cache/pip/wheels/80/ab/86/ec93f37613f012ba3e65c2bbd67e5c54cbc00d237574100c24\n",
            "Successfully built pynverse\n",
            "Installing collected packages: pynverse\n",
            "Successfully installed pynverse-0.1.4.4\n"
          ],
          "name": "stdout"
        }
      ]
    },
    {
      "cell_type": "code",
      "metadata": {
        "id": "lxByqIEn917l",
        "colab_type": "code",
        "colab": {
          "base_uri": "https://localhost:8080/",
          "height": 72
        },
        "outputId": "df70772e-5d20-467d-ced6-3bfad80fa349"
      },
      "source": [
        "import pandas as pd\n",
        "import numpy as np\n",
        "import matplotlib.pyplot as plt\n",
        "import scipy.stats\n",
        "import matplotlib\n",
        "import pickle\n",
        "\n",
        "import datetime\n",
        "import time\n",
        "from datetime import date\n",
        "\n",
        "import matplotlib.dates as mdates\n",
        "from matplotlib.dates import DateFormatter\n",
        "import seaborn as sns\n",
        "\n",
        "from numpy import log,exp\n",
        "from numpy.random import multinomial\n",
        "from scipy.stats import uniform, gamma, gengamma, poisson, nbinom, expon\n",
        "from scipy.integrate import quad\n",
        "\n",
        "\n",
        "from mpl_toolkits.mplot3d.axes3d import Axes3D, get_test_data\n",
        "from matplotlib import cm\n",
        "from matplotlib.ticker import LinearLocator, FormatStrFormatter\n",
        "\n",
        "\n",
        "from pynverse import inversefunc\n",
        "\n",
        "tilyvoa = pd.read_csv(\"/content/drive/My Drive/data/tilyvoafaritra.csv\")\n",
        "\n",
        "mdg_databe = pd.read_csv(\"/content/drive/My Drive/data/databe mdg.csv\")\n",
        "\n",
        "#tilyvoa.set_index('Daty', inplace=True)\n",
        "\n",
        "tilyvoafar = tilyvoa.groupby('Faritra')\n",
        "\n",
        "tilyvoamdg = tilyvoafar.get_group('Madagasikara')\n",
        "tilyvoamdg.set_index('Daty', inplace=True)\n",
        "tilyvoamdg.index = pd.to_datetime(tilyvoamdg.index)\n",
        "\n",
        "tilyvoaanala = tilyvoafar.get_group('Analamanga')\n",
        "tilyvoaanala.set_index('Daty', inplace=True)\n",
        "tilyvoaanala.index = pd.to_datetime(tilyvoaanala.index)\n",
        "\n",
        "tilyvoaatsi = tilyvoafar.get_group('Atsinanana')\n",
        "tilyvoaatsi.set_index('Daty', inplace=True)\n",
        "tilyvoaatsi.index = pd.to_datetime(tilyvoaatsi.index)\n",
        "\n",
        "tilyvoaalao = tilyvoafar.get_group('Alaotra')\n",
        "tilyvoaalao.set_index('Daty', inplace=True)\n",
        "tilyvoaalao.index = pd.to_datetime(tilyvoaalao.index)\n",
        "\n",
        "tilyvoamania = tilyvoafar.get_group('Mania')\n",
        "tilyvoamania.set_index('Daty', inplace=True)\n",
        "tilyvoamania.index = pd.to_datetime(tilyvoamania.index)\n",
        "\n",
        "tilyvoajiro = tilyvoafar.get_group('Analanjirofo')\n",
        "tilyvoajiro.set_index('Daty', inplace=True)\n",
        "tilyvoajiro.index = pd.to_datetime(tilyvoajiro.index)\n",
        "\n",
        "tilyvoanosy = tilyvoafar.get_group('Anosy')\n",
        "tilyvoanosy.set_index('Daty', inplace=True)\n",
        "tilyvoanosy.index = pd.to_datetime(tilyvoanosy.index)\n",
        "\n",
        "tilyvoaandro = tilyvoafar.get_group('Androy')\n",
        "tilyvoaandro.set_index('Daty', inplace=True)\n",
        "tilyvoaandro.index = pd.to_datetime(tilyvoaandro.index)\n",
        "\n",
        "tilyvoaatsim = tilyvoafar.get_group('Atsimoandrefana')\n",
        "tilyvoaatsim.set_index('Daty', inplace=True)\n",
        "tilyvoaatsim.index = pd.to_datetime(tilyvoaatsim.index)\n",
        "\n",
        "tilyvoaatsitsi = tilyvoafar.get_group('AtsimoAtsinanana')\n",
        "tilyvoaatsitsi.set_index('Daty', inplace=True)\n",
        "tilyvoaatsitsi.index = pd.to_datetime(tilyvoaatsitsi.index)\n",
        "\n",
        "tilyvoabe = tilyvoafar.get_group('Betsiboka')\n",
        "tilyvoabe.set_index('Daty', inplace=True)\n",
        "tilyvoabe.index = pd.to_datetime(tilyvoabe.index)\n",
        "\n",
        "tilyvoaboe = tilyvoafar.get_group('Boeny')\n",
        "tilyvoaboe.set_index('Daty', inplace=True)\n",
        "tilyvoaboe.index = pd.to_datetime(tilyvoaboe.index)\n",
        "\n",
        "tilyvoabon = tilyvoafar.get_group('Bongolava')\n",
        "tilyvoabon.set_index('Daty', inplace=True)\n",
        "tilyvoabon.index = pd.to_datetime(tilyvoabon.index)\n",
        "\n",
        "tilyvoadia = tilyvoafar.get_group('Diana')\n",
        "tilyvoadia.set_index('Daty', inplace=True)\n",
        "tilyvoadia.index = pd.to_datetime(tilyvoadia.index)\n",
        "\n",
        "tilyvoatsiatr = tilyvoafar.get_group('Matsiatra')\n",
        "tilyvoatsiatr.set_index('Daty', inplace=True)\n",
        "tilyvoatsiatr.index = pd.to_datetime(tilyvoatsiatr.index)\n",
        "\n",
        "tilyvoahoro = tilyvoafar.get_group('Ihorombe')\n",
        "tilyvoahoro.set_index('Daty', inplace=True)\n",
        "tilyvoahoro.index = pd.to_datetime(tilyvoahoro.index)\n",
        "\n",
        "tilyvoatasy = tilyvoafar.get_group('Itasy')\n",
        "tilyvoatasy.set_index('Daty', inplace=True)\n",
        "tilyvoatasy.index = pd.to_datetime(tilyvoatasy.index)\n",
        "\n",
        "tilyvoamel = tilyvoafar.get_group('Melaky')\n",
        "tilyvoamel.set_index('Daty', inplace=True)\n",
        "tilyvoamel.index = pd.to_datetime(tilyvoamel.index)\n",
        "\n",
        "tilyvoamena = tilyvoafar.get_group('Menabe')\n",
        "tilyvoamena.set_index('Daty', inplace=True)\n",
        "tilyvoamena.index = pd.to_datetime(tilyvoamena.index)\n",
        "\n",
        "tilyvoasava = tilyvoafar.get_group('Sava')\n",
        "tilyvoasava.set_index('Daty', inplace=True)\n",
        "tilyvoasava.index = pd.to_datetime(tilyvoasava.index)\n",
        "\n",
        "tilyvoasofi = tilyvoafar.get_group('Sofia')\n",
        "tilyvoasofi.set_index('Daty', inplace=True)\n",
        "tilyvoasofi.index = pd.to_datetime(tilyvoasofi.index)\n",
        "\n",
        "tilyvoakara = tilyvoafar.get_group('Vakinakaratra')\n",
        "tilyvoakara.set_index('Daty', inplace=True)\n",
        "tilyvoakara.index = pd.to_datetime(tilyvoakara.index)\n",
        "\n",
        "tilyvoavavy = tilyvoafar.get_group('Vatovavy')\n",
        "tilyvoavavy.set_index('Daty', inplace=True)\n",
        "tilyvoavavy.index = pd.to_datetime(tilyvoavavy.index)\n",
        "\n",
        "path_to_save = '/content/drive/My Drive/sary/'\n",
        "path_data = '/content/drive/My Drive/data/'"
      ],
      "execution_count": 3,
      "outputs": [
        {
          "output_type": "stream",
          "text": [
            "/usr/local/lib/python3.6/dist-packages/statsmodels/tools/_testing.py:19: FutureWarning: pandas.util.testing is deprecated. Use the functions in the public API at pandas.testing instead.\n",
            "  import pandas.util.testing as tm\n"
          ],
          "name": "stderr"
        }
      ]
    },
    {
      "cell_type": "markdown",
      "metadata": {
        "id": "DjXrLB1JnUeB",
        "colab_type": "text"
      },
      "source": [
        "## Analamanga"
      ]
    },
    {
      "cell_type": "code",
      "metadata": {
        "id": "pjR3t1mZ992G",
        "colab_type": "code",
        "colab": {}
      },
      "source": [
        "# Voa vaovao (observed incidence)\n",
        "Ivaoanala = tilyvoaanala['Voatomb']\n",
        "\n",
        "dIvao = pd.DataFrame(data =Ivaoanala)\n",
        "\n",
        "daty_data_manom = datetime.date(2020,8,18)\n",
        "daty_data_mifar = datetime.date(2020,9,18)\n",
        "\n",
        "datyt = daty_data_mifar\n",
        "\n",
        "format_date = lambda date_py: '{}-{}-{}'.format(date_py.year, date_py.month, date_py.day)\n",
        "\n",
        "\n",
        "# 0/ Discretization of the serial interval distribution\n",
        "\n",
        "#Tombana mialoha (prior distributions)\n",
        "#si_sh = 1/(0.62**2) # Report 13\n",
        "#si_sc = 6.5/si_sh\n",
        "\n",
        "si_sh = (6.48**2)/(3.83**2) # Jereo Imperial Covid-19 COVID-19 response team: Short-term forecasts\n",
        "si_sc = 6.48/si_sh\n",
        "\n",
        "def discr_si(t):\n",
        "  if t == 0:\n",
        "    discrsi = 0\n",
        "  elif t == 1:\n",
        "    discrsi = gengamma.cdf(3/2, si_sh, 1, loc = 0, scale = si_sc)\n",
        "  else:\n",
        "    discrsi = gengamma.cdf(t+1/2, si_sh, 1, loc = 0, scale = si_sc) - gengamma.cdf(t-1/2, si_sh, 1, loc = 0, scale = si_sc)\n",
        "  return discrsi\n",
        "\n",
        "# 1/ The total incidence over a generic window (t-k+1,t)\n",
        "# Ireh(t,k) = sum(i = 0 to k-1) Ivao(t - i))\n",
        "\n",
        "def Ireh(t,k):\n",
        "  Irehv = 0\n",
        "  if k - 1 > (t - daty_data_manom).days:\n",
        "    for i in range((t - daty_data_manom).days + 1):\n",
        "      Irehv = Irehv + dIvao['Voatomb'].loc[format_date(t - datetime.timedelta(days = i))]\n",
        "  else:\n",
        "    for i in range(k):\n",
        "      Irehv = Irehv + dIvao['Voatomb'].loc[format_date(t - datetime.timedelta(days = i))]\n",
        "  return Irehv\n",
        "\n",
        "# 2/ Tool to compute the total infectiousness over a generic window (t-k+1,t)\n",
        "# Isi(t,k) = sum(i=0 to k-1) Ivao(t - i)*discr_si(i)\n",
        "\n",
        "# The definition of Isi(t,k) does not include the term Ivao(t) for i = 0 (because discr_si(0) =0)\n",
        "# so we can start the sum from i = 1; but it includes the last term Ivao(t - k + 1)*discr_si(k - 1) for i = k-1. \n",
        "\n",
        "def Isi(t,k):\n",
        "  Ivaosi = 0\n",
        "  if k - 1 > (t - daty_data_manom).days:\n",
        "    for i in range(1,(t - daty_data_manom).days + 1):\n",
        "      Ivaosi = Ivaosi + dIvao['Voatomb'].loc[format_date(t - datetime.timedelta(days = i))]*discr_si(i)\n",
        "  else:\n",
        "    for i in range(1,k):\n",
        "      Ivaosi = Ivaosi + dIvao['Voatomb'].loc[format_date(t - datetime.timedelta(days = i))]*discr_si(i)\n",
        "  return Ivaosi\n",
        "\n",
        "# The total infectiousness before t\n",
        "\n",
        "# lsi(t) := sum(i=0 to t-1) Ivao(t - i)*discr_si(i)\n",
        "\n",
        "def lsi(t):\n",
        "  return Isi(t, (t - daty_data_manom).days +1)\n",
        "\n",
        "  # for checking, take for example t = daty_data_manom + datetime.timedelta(days = 3)\n",
        "\n",
        "# 3/ The sum of total infectiousness before t over a generic window (t-k+1,t)\n",
        "# tlsi(t) := sum(i=t-k+1 to t)lsi(i)\n",
        "\n",
        "def tlsi(t,k):\n",
        "  tlsi = 0\n",
        "  if k - 1 > (t - daty_data_manom).days:\n",
        "    for i in range((t - daty_data_manom).days + 1):\n",
        "      tlsi = tlsi + lsi(t - datetime.timedelta(days = i))\n",
        "  else:\n",
        "    for i in range(k):\n",
        "      tlsi = tlsi + lsi(t - datetime.timedelta(days = i))\n",
        "  return tlsi\n",
        "\n",
        "# 4/ The shape parameters of the posterior predictive negative binomial of I(t+1)\n",
        "# pnb(t,k) = lsi(t+1)*Gamma_post_scale(R(t,k))/(1 + lsi(t+1)*Gamma_post_scale(R(t,k)))\n",
        "\n",
        "def pnb(t,k):\n",
        "  return lsi(t+datetime.timedelta(days = 1))/(1/si_sc + tlsi(t,k) + lsi(t+datetime.timedelta(days = 1)))\n",
        "\n",
        "# pnb(t,k) dia ny taha herjika hoan'ny NB hoan'ny I(t+1).\n",
        "\n",
        "# 5/ Use the pmf of the posterior predictive negative binomial to compute\n",
        "# each additive contribution at time s then for-loop for s in the time interval\n",
        "\n",
        "def lpr(t,k):\n",
        "  return -np.log(nbinom.pmf(dIvao['Voatomb'].loc[format_date(t + datetime.timedelta(days = 1))], si_sh + Ireh(t,k), pnb(t,k)))\n"
      ],
      "execution_count": 31,
      "outputs": []
    },
    {
      "cell_type": "markdown",
      "metadata": {
        "id": "iGs-NO_yM5qb",
        "colab_type": "text"
      },
      "source": [
        "# Fifidianana ireo taha mialoha (prior parameters)"
      ]
    },
    {
      "cell_type": "code",
      "metadata": {
        "id": "Yd5XWal3M0Jx",
        "colab_type": "code",
        "colab": {}
      },
      "source": [
        "  #shape\n",
        "kk=2\n",
        "def func_sh(t):\n",
        "    def Rtpsand_sh(a):\n",
        "      return a + Ireh(t,kk)\n",
        "    return Rtpsand_sh\n",
        "  # Scale\n",
        "def func_sc(t):\n",
        "    def Rtpsand_sc(b):\n",
        "      return 1/(1/b + tlsi(t,kk))\n",
        "    return Rtpsand_sc\n",
        "\n",
        "def funcsh_inv(t):\n",
        "    def sh_invex(x):\n",
        "      return (x + Ireh(t,kk))/x\n",
        "    return inversefunc(sh_invex, domain=[0.01, 1e+11])\n"
      ],
      "execution_count": 5,
      "outputs": []
    },
    {
      "cell_type": "code",
      "metadata": {
        "id": "ooXaFKxeNjlT",
        "colab_type": "code",
        "colab": {
          "base_uri": "https://localhost:8080/",
          "height": 535
        },
        "outputId": "8d1635db-aef9-4fe3-c0a8-515829aa1f8c"
      },
      "source": [
        "# Variation of R(datyab) with rapport to the prior parameters\n",
        "\n",
        "datyab = daty_data_mifar\n",
        "\n",
        "fig = plt.figure(figsize=(7,7))\n",
        "ax = fig.gca(projection='3d')\n",
        "\n",
        "# Make data.\n",
        "X = np.linspace(0.1,5,100)\n",
        "Y = np.linspace(0.1,5,100)\n",
        "X, Y = np.meshgrid(X, Y)\n",
        "Z = func_sh(datyab)(X)*func_sc(datyab)(Y)\n",
        "W = X*Y\n",
        "# Plot the surface.\n",
        "surf = ax.plot_surface(X, Y, Z, cmap=cm.coolwarm,\n",
        "                       linewidth=0, antialiased=False)\n",
        "#surf = ax.plot_surface(X, Y, W, cmap=cm.coolwarm,\n",
        " #                      linewidth=0, antialiased=False)\n",
        "\n",
        "# Customize the z axis.\n",
        "ax.set_zlim(0.4, 1.2)\n",
        "ax.zaxis.set_major_locator(LinearLocator(10))\n",
        "ax.zaxis.set_major_formatter(FormatStrFormatter('%.02f'))\n",
        "\n",
        "ax.set(xlabel ='bika a', ylabel = \"taha b\", zlabel = 'R(t=18/09)')\n",
        "\n",
        "# Add a color bar which maps values to colors.\n",
        "fig.colorbar(surf, shrink=0.5, aspect=5)\n",
        "\n",
        "plt.savefig(path_to_save+'Rt189_anala.eps')\n",
        "\n",
        "plt.show()"
      ],
      "execution_count": 6,
      "outputs": [
        {
          "output_type": "stream",
          "text": [
            "The PostScript backend does not support transparency; partially transparent artists will be rendered opaque.\n",
            "The PostScript backend does not support transparency; partially transparent artists will be rendered opaque.\n",
            "The PostScript backend does not support transparency; partially transparent artists will be rendered opaque.\n",
            "The PostScript backend does not support transparency; partially transparent artists will be rendered opaque.\n",
            "The PostScript backend does not support transparency; partially transparent artists will be rendered opaque.\n",
            "The PostScript backend does not support transparency; partially transparent artists will be rendered opaque.\n"
          ],
          "name": "stderr"
        },
        {
          "output_type": "display_data",
          "data": {
            "image/png": "[encoded data removed]",
            "text/plain": [
              "<Figure size 504x504 with 2 Axes>"
            ]
          },
          "metadata": {
            "tags": [],
            "needs_background": "light"
          }
        }
      ]
    },
    {
      "cell_type": "code",
      "metadata": {
        "id": "Rf4diAnHNspM",
        "colab_type": "code",
        "colab": {
          "base_uri": "https://localhost:8080/",
          "height": 318
        },
        "outputId": "a8862b8e-7049-4fa8-fb4c-a86d02ea232c"
      },
      "source": [
        "# R(t) when equality between the prior and the posterior\n",
        "\n",
        "# 100 linearly spaced numbers\n",
        "x = np.linspace(0.1,5,100)\n",
        "\n",
        "fig = plt.figure()\n",
        "ax = fig.add_subplot(1, 1, 1)\n",
        "\n",
        "# plot the function\n",
        "plt.plot(x, x*funcsh_inv(datyab)(x/func_sc(datyab)(x)), 'blue')\n",
        "\n",
        "ax.set_ylim(0,3)\n",
        "ax.set(xlabel ='taha', ylabel = \"R(t)\")\n",
        "\n",
        "\n",
        "# show the plot\n",
        "plt.show()\n",
        "\n",
        "print('taha* = 1')\n",
        "print('R(t=',datyab,') =', funcsh_inv(datyab)(1/func_sc(datyab)(1)), '= bika*')\n"
      ],
      "execution_count": 7,
      "outputs": [
        {
          "output_type": "display_data",
          "data": {
            "image/png": "[encoded data removed]",
            "text/plain": [
              "<Figure size 432x288 with 1 Axes>"
            ]
          },
          "metadata": {
            "tags": [],
            "needs_background": "light"
          }
        },
        {
          "output_type": "stream",
          "text": [
            "taha* = 1\n",
            "R(t= 2020-09-18 ) = 0.982716742540102 = bika*\n"
          ],
          "name": "stdout"
        }
      ]
    },
    {
      "cell_type": "markdown",
      "metadata": {
        "id": "yLvrlZ4f7Hlq",
        "colab_type": "text"
      },
      "source": [
        "# Fanombanana ny R(t) (estimation of Rt)"
      ]
    },
    {
      "cell_type": "markdown",
      "metadata": {
        "id": "zV1s4AHHW25_",
        "colab_type": "text"
      },
      "source": [
        "### Fomba mahazatra"
      ]
    },
    {
      "cell_type": "code",
      "metadata": {
        "id": "Vj840O4-OeCd",
        "colab_type": "code",
        "colab": {}
      },
      "source": [
        "#shape\n",
        "def func_sh(t):\n",
        "    def Rtpsand_sh(a):\n",
        "      return a + Ireh(t,kk)\n",
        "    return Rtpsand_sh\n",
        "\n",
        "# Scale\n",
        "def func_sc(t):\n",
        "    def Rtpsand_sc(b):\n",
        "      return 1/(1/b + tlsi(t,kk))\n",
        "    return Rtpsand_sc\n",
        "\n",
        "\n",
        "def funcsh_inv(t):\n",
        "    def sh_invex(x):\n",
        "      return (x + Ireh(t,kk))/x\n",
        "    return inversefunc(sh_invex, domain=[1e-11, 1e+11])\n",
        "\n",
        "# Rt\n",
        "def Rt_salan(t):\n",
        "    ffunc_sh = func_sh(t)\n",
        "    ffunc_sc = func_sc(t)\n",
        "    ffuncsh_inv = funcsh_inv(t)\n",
        "    return ffuncsh_inv(1/ffunc_sc(1))\n",
        "\n",
        "# The 75th and 25th percentiles of Rt\n",
        "\n",
        "def perc75(t):\n",
        "    return gengamma.ppf(0.75, func_sh(t)(Rt_salan(t)), 1, loc = 0, scale = func_sc(t)(1))\n",
        "\n",
        "def perc25(t):\n",
        "    return gengamma.ppf(0.25, func_sh(t)(Rt_salan(t)), 1, loc = 0, scale = func_sc(t)(1))\n",
        "\n",
        "\n",
        "def Rtps_sal(t):\n",
        "  return dIvao['Voatomb'].loc[format_date(t)]/lsi(t)\n",
        "\n",
        "print(\"Kajy mivantana ny R hoan'ny\", daty_data_mifar, ':', Rtps_sal(daty_data_mifar))\n",
        "\n",
        "daty_oh1 = datetime.date(2020,7,19)\n",
        "print(\"Salan'isa R hoan'ny\", daty_oh1, ':', Rt_salan(daty_oh1))\n",
        "print(\"Kartily @ 75% R hoan'ny\", daty_oh1, ':', perc75(daty_oh1))\n",
        "print(\"Kartily @ 25% R hoan'ny\", daty_oh1, ':', perc25(daty_oh1))\n",
        "\n",
        "print(\"Salan'isa R hoan'ny\", daty_data_mifar, ':', Rt_salan(daty_data_mifar))\n",
        "print(\"Kartily @ 75% R hoan'ny\", daty_data_mifar, ':', perc75(daty_data_mifar))\n",
        "print(\"Kartily @ 25% R hoan'ny\", daty_data_mifar, ':', perc25(daty_data_mifar))\n"
      ],
      "execution_count": null,
      "outputs": []
    },
    {
      "cell_type": "code",
      "metadata": {
        "id": "41E0HLdODGRx",
        "colab_type": "code",
        "colab": {
          "base_uri": "https://localhost:8080/",
          "height": 573
        },
        "outputId": "7221b4bb-a23b-4dbe-d677-899739891243"
      },
      "source": [
        "rt_anala_lst = []\n",
        "\n",
        "daty_oh2 = datetime.date(2020,8,24)\n",
        "for i in range(32):\n",
        "  t = daty_oh2 - datetime.timedelta(days = i)\n",
        "  rt_amboar = Rt_salan(t)\n",
        "  rt_anala_lst.append((t,Rt_salan(t)))\n",
        "\n",
        "rt_anala_lst"
      ],
      "execution_count": null,
      "outputs": [
        {
          "output_type": "execute_result",
          "data": {
            "text/plain": [
              "[(datetime.date(2020, 8, 24), array(0.56351745)),\n",
              " (datetime.date(2020, 8, 23), array(0.35121681)),\n",
              " (datetime.date(2020, 8, 22), array(0.47528719)),\n",
              " (datetime.date(2020, 8, 21), array(0.75056613)),\n",
              " (datetime.date(2020, 8, 20), array(0.51314778)),\n",
              " (datetime.date(2020, 8, 19), array(0.26053406)),\n",
              " (datetime.date(2020, 8, 18), array(0.37810592)),\n",
              " (datetime.date(2020, 8, 17), array(0.5782422)),\n",
              " (datetime.date(2020, 8, 16), array(0.50181263)),\n",
              " (datetime.date(2020, 8, 15), array(0.3738086)),\n",
              " (datetime.date(2020, 8, 14), array(0.35081911)),\n",
              " (datetime.date(2020, 8, 13), array(0.23151552)),\n",
              " (datetime.date(2020, 8, 12), array(0.19333473)),\n",
              " (datetime.date(2020, 8, 11), array(0.3648183)),\n",
              " (datetime.date(2020, 8, 10), array(0.55086024)),\n",
              " (datetime.date(2020, 8, 9), array(0.60155738)),\n",
              " (datetime.date(2020, 8, 8), array(0.62171779)),\n",
              " (datetime.date(2020, 8, 7), array(0.87359538)),\n",
              " (datetime.date(2020, 8, 6), array(1.15445602)),\n",
              " (datetime.date(2020, 8, 5), array(0.99543838)),\n",
              " (datetime.date(2020, 8, 4), array(0.63872632)),\n",
              " (datetime.date(2020, 8, 3), array(0.70784444)),\n",
              " (datetime.date(2020, 8, 2), array(1.11639548)),\n",
              " (datetime.date(2020, 8, 1), array(0.65059)),\n",
              " (datetime.date(2020, 7, 31), array(0.78863413)),\n",
              " (datetime.date(2020, 7, 30), array(1.07447284)),\n",
              " (datetime.date(2020, 7, 29), array(1.04506573)),\n",
              " (datetime.date(2020, 7, 28), array(1.48580968)),\n",
              " (datetime.date(2020, 7, 27), array(1.71938659)),\n",
              " (datetime.date(2020, 7, 26), array(1.40193013)),\n",
              " (datetime.date(2020, 7, 25), array(1.49715406)),\n",
              " (datetime.date(2020, 7, 24), array(2.39848191))]"
            ]
          },
          "metadata": {
            "tags": []
          },
          "execution_count": 10
        }
      ]
    },
    {
      "cell_type": "markdown",
      "metadata": {
        "id": "ekd5h5BtcM_d",
        "colab_type": "text"
      },
      "source": [
        "## Fomba mifidy a sy b"
      ]
    },
    {
      "cell_type": "code",
      "metadata": {
        "id": "Wo-pgZq_bDKc",
        "colab_type": "code",
        "colab": {
          "base_uri": "https://localhost:8080/",
          "height": 139
        },
        "outputId": "4cfaed88-a983-463e-f62b-cc01793ff251"
      },
      "source": [
        "# Prior Gamma distribution of Rt\n",
        "\n",
        "Rtpr_sh = 1 # shape\n",
        "Rtpr_sc = 1 # scale\n",
        "\n",
        "# Posterior distribution for Rt\n",
        "\n",
        "# Shape parameter :\n",
        "def Rtps_sh(t):\n",
        "   return Rtpr_sh + Ireh(t,kk)\n",
        "\n",
        "# Scale\n",
        "def Rtps_sc(t):\n",
        "  return 1/(1/Rtpr_sc + tlsi(t,kk))\n",
        "\n",
        "# mean\n",
        "def Rt_salan(t):\n",
        "  return Rtps_sh(t)*Rtps_sc(t)\n",
        "\n",
        "# 75th and 25th percentiles\n",
        "\n",
        "def perc75(t):\n",
        "  return gengamma.ppf(0.75, Rtps_sh(t), 1, loc = 0, scale = Rtps_sc(t))\n",
        "\n",
        "def perc25(t):\n",
        "  return gengamma.ppf(0.25, Rtps_sh(t), 1, loc = 0, scale = Rtps_sc(t))\n",
        "\n",
        "\n",
        "def Rtps_sal(t):\n",
        "  return dIvao['Voatomb'].loc[format_date(t)]/lsi(t)\n",
        "\n",
        "\n",
        "daty_oh1 = datetime.date(2020,7,28)\n",
        "\n",
        "print(\"Kajy mivantana ny R hoan'ny\", daty_data_mifar, ':', Rtps_sal(daty_data_mifar))\n",
        "\n",
        "print(\"Salan'isa R hoan'ny\", daty_oh1, ':', Rt_salan(daty_oh1))\n",
        "print(\"Kartily @ 75% R hoan'ny\", daty_oh1, ':', perc75(daty_oh1))\n",
        "print(\"Kartily @ 25% R hoan'ny\", daty_oh1, ':', perc25(daty_oh1))\n",
        "\n",
        "\n",
        "print(\"Salan'isa R hoan'ny\", daty_data_mifar, ':', Rt_salan(daty_data_mifar))\n",
        "print(\"Kartily @ 75% R hoan'ny\", daty_data_mifar, ':', perc75(daty_data_mifar))\n",
        "print(\"Kartily @ 25% R hoan'ny\", daty_data_mifar, ':', perc25(daty_data_mifar))"
      ],
      "execution_count": 8,
      "outputs": [
        {
          "output_type": "stream",
          "text": [
            "Kajy mivantana ny R hoan'ny 2020-09-18 : 1.594193541328223\n",
            "Salan'isa R hoan'ny 2020-07-28 : 1.0\n",
            "Kartily @ 75% R hoan'ny 2020-07-28 : 1.3862943611198906\n",
            "Kartily @ 25% R hoan'ny 2020-07-28 : 0.2876820724517809\n",
            "Salan'isa R hoan'ny 2020-09-18 : 0.9830943222461358\n",
            "Kartily @ 75% R hoan'ny 2020-09-18 : 1.0775798626188597\n",
            "Kartily @ 25% R hoan'ny 2020-09-18 : 0.880685003178496\n"
          ],
          "name": "stdout"
        }
      ]
    },
    {
      "cell_type": "code",
      "metadata": {
        "id": "gV27D-cF4rAF",
        "colab_type": "code",
        "colab": {
          "base_uri": "https://localhost:8080/",
          "height": 225
        },
        "outputId": "cf295572-aacb-4ed1-9db3-5b886e1c7089"
      },
      "source": [
        "rt_anala_lst = []\n",
        "\n",
        "daty_oh2 = datetime.date(2020,9,18)\n",
        "for i in range(12):\n",
        "  t = daty_oh2 - datetime.timedelta(days = i)\n",
        "  rt_amboar = Rt_salan(t)\n",
        "  rt_anala_lst.append((t,Rt_salan(t)))\n",
        "\n",
        "rt_anala_lst"
      ],
      "execution_count": 9,
      "outputs": [
        {
          "output_type": "execute_result",
          "data": {
            "text/plain": [
              "[(datetime.date(2020, 9, 18), 0.9830943222461358),\n",
              " (datetime.date(2020, 9, 17), 0.7334685403179231),\n",
              " (datetime.date(2020, 9, 16), 0.5873019096331458),\n",
              " (datetime.date(2020, 9, 15), 0.2574976082292324),\n",
              " (datetime.date(2020, 9, 14), 0.3286837110666751),\n",
              " (datetime.date(2020, 9, 13), 0.3711254474165017),\n",
              " (datetime.date(2020, 9, 12), 0.5184607013787106),\n",
              " (datetime.date(2020, 9, 11), 1.0737374354473084),\n",
              " (datetime.date(2020, 9, 10), 1.0458380252472421),\n",
              " (datetime.date(2020, 9, 9), 0.9061806123684419),\n",
              " (datetime.date(2020, 9, 8), 0.8305954055149143),\n",
              " (datetime.date(2020, 9, 7), 0.648458377441352)]"
            ]
          },
          "metadata": {
            "tags": []
          },
          "execution_count": 9
        }
      ]
    },
    {
      "cell_type": "code",
      "metadata": {
        "id": "O-h4ykNcnxXb",
        "colab_type": "code",
        "colab": {}
      },
      "source": [
        "# Plotting \n",
        "\n",
        "np.random.seed(12345)\n",
        "\n",
        "daty_data_mifar9 = daty_data_mifar - datetime.timedelta(days = 9)\n",
        "\n",
        "formatf_date = lambda date_py: '{}/{}'.format(date_py.day, str(date_py.month)[0:1])\n",
        "\n",
        "daty_lst = []\n",
        "\n",
        "data_Rt_lst = []\n",
        "\n",
        "for i in range(round(((daty_data_mifar - daty_data_mifar9).days)+1)):\n",
        "  t = daty_data_mifar9 + datetime.timedelta(days = i)\n",
        "  data_amboar = [gengamma.rvs( func_sh(t)(Rt_salan(t)), 1, loc = 0, scale = func_sc(t)(1)) for j in range(1000)]\n",
        "  daty_lst.append(formatf_date(t))\n",
        "  data_Rt_lst.append(data_amboar)\n"
      ],
      "execution_count": 10,
      "outputs": []
    },
    {
      "cell_type": "code",
      "metadata": {
        "id": "lfHVYgX8sVGI",
        "colab_type": "code",
        "colab": {
          "base_uri": "https://localhost:8080/",
          "height": 661
        },
        "outputId": "bc3e2d45-de5e-444d-ceda-1d62d826b50a"
      },
      "source": [
        "# Plotting the last 10 days\n",
        "\n",
        "\n",
        "fig, ax = plt.subplots(figsize=(10, 10))\n",
        "\n",
        "sns.boxplot(daty_lst, data_Rt_lst, color='white', width=0.2, showfliers=False, ax=ax)\n",
        "ax.axhline(y=1, color='b', linestyle='dashed', label =\"R = 1\")\n",
        "\n",
        "ax.set(xlabel ='Andro', ylabel = \"R hoan'Analamanga\")\n",
        "ax.legend(loc= 'best')\n",
        "\n",
        "plt.savefig(path_to_save+'Rt18910_anala.png')\n",
        "plt.savefig(path_to_save+'Rt18910_anala.eps')\n",
        "plt.show()"
      ],
      "execution_count": 11,
      "outputs": [
        {
          "output_type": "stream",
          "text": [
            "The PostScript backend does not support transparency; partially transparent artists will be rendered opaque.\n",
            "The PostScript backend does not support transparency; partially transparent artists will be rendered opaque.\n"
          ],
          "name": "stderr"
        },
        {
          "output_type": "display_data",
          "data": {
            "image/png": "[encoded data removed]",
            "text/plain": [
              "<Figure size 720x720 with 1 Axes>"
            ]
          },
          "metadata": {
            "tags": [],
            "needs_background": "light"
          }
        }
      ]
    },
    {
      "cell_type": "markdown",
      "metadata": {
        "id": "mZw1y75wN-bJ",
        "colab_type": "text"
      },
      "source": [
        "# Jeritodika ny herinandro"
      ]
    },
    {
      "cell_type": "code",
      "metadata": {
        "id": "zAXOfqomjrFr",
        "colab_type": "code",
        "colab": {}
      },
      "source": [
        "daty_ambaj = datetime.date(2020,9,14)\n",
        "daty_amboj = datetime.date(2020,9,18)\n",
        "\n",
        "daty_data_mifarj = datetime.date(2020,9,11)"
      ],
      "execution_count": 21,
      "outputs": []
    },
    {
      "cell_type": "code",
      "metadata": {
        "id": "tTC4k9Lp-M3x",
        "colab_type": "code",
        "colab": {
          "base_uri": "https://localhost:8080/",
          "height": 121
        },
        "outputId": "8f33e40f-383e-4230-c2c0-7f59a65250aa"
      },
      "source": [
        "daty_oh1 = daty_ambaj\n",
        "\n",
        "print(\"Tombana ambany: R \",daty_oh1,':',  Rt_salan(daty_oh1))\n",
        "print(\"75%-kartily R :\",':', perc75(daty_oh1))\n",
        "print(\"25%-kartily R :\", perc25(daty_oh1))\n",
        "\n",
        "daty_oh2 = daty_amboj\n",
        "\n",
        "print(\"Tombana ambony: R\", daty_oh2,':', Rt_salan(daty_oh2))\n",
        "print(\"75%-kartily R :\",':', perc75(daty_oh2))\n",
        "print(\"25%-kartily R :\", perc25(daty_oh2))\n"
      ],
      "execution_count": 22,
      "outputs": [
        {
          "output_type": "stream",
          "text": [
            "Tombana ambany: R  2020-09-14 : 0.3286837110666751\n",
            "75%-kartily R : : 0.37285353852190634\n",
            "25%-kartily R : 0.2791057392217373\n",
            "Tombana ambony: R 2020-09-18 : 0.9830943222461358\n",
            "75%-kartily R : : 1.0775798626188597\n",
            "25%-kartily R : 0.880685003178496\n"
          ],
          "name": "stdout"
        }
      ]
    },
    {
      "cell_type": "markdown",
      "metadata": {
        "id": "l3kwgvqCjywa",
        "colab_type": "text"
      },
      "source": [
        "### Ambany"
      ]
    },
    {
      "cell_type": "code",
      "metadata": {
        "id": "LUSXPgMGjwZS",
        "colab_type": "code",
        "colab": {}
      },
      "source": [
        "# Computing Ivao(daty_mifarj + i) for i in range(1,8)\n",
        "\n",
        "daty_m1j = daty_data_mifarj + datetime.timedelta(days = 1)\n",
        "\n",
        "#Rt_amba_hitsiny = (Rt_salan(datetime.date(2020,7,20))- Rt_salan(daty_ambaj))/2\n",
        "\n",
        "Rt_amba_hitsiny = 0\n",
        "Rt_vinaj = Rt_salan(daty_ambaj) + Rt_amba_hitsiny\n",
        "\n",
        "Iv = int(Rt_vinaj*lsi(daty_m1j))\n",
        "\n",
        "dIvao.loc[pd.to_datetime(daty_m1j)] =[Iv]\n",
        "\n",
        "for i in range(1,8):\n",
        " tj = daty_m1j + datetime.timedelta(days = i)\n",
        " Ivv = int(Rt_vinaj*lsi(tj))\n",
        " dIvao.loc[pd.to_datetime(tj)] = [Ivv]"
      ],
      "execution_count": 14,
      "outputs": []
    },
    {
      "cell_type": "code",
      "metadata": {
        "id": "HBTIuzExyezq",
        "colab_type": "code",
        "colab": {
          "base_uri": "https://localhost:8080/",
          "height": 34
        },
        "outputId": "30dde21b-3606-4e3f-fbcd-b1c2965a12a1"
      },
      "source": [
        "Rt_vinaj"
      ],
      "execution_count": null,
      "outputs": [
        {
          "output_type": "execute_result",
          "data": {
            "text/plain": [
              "0.73591609814785"
            ]
          },
          "metadata": {
            "tags": []
          },
          "execution_count": 48
        }
      ]
    },
    {
      "cell_type": "code",
      "metadata": {
        "id": "7cbMbwU0j5sF",
        "colab_type": "code",
        "colab": {}
      },
      "source": [
        "# Sampling\n",
        "\n",
        "np.random.seed(12345)\n",
        "\n",
        "formatf_date = lambda date_py: '{}/{}'.format(date_py.day, str(date_py.month)[0:1])\n",
        "\n",
        "daty_j_lst = []\n",
        "\n",
        "data_baj = []\n",
        "\n",
        "\n",
        "for i in range(1,8):\n",
        "  t = daty_data_mifarj + datetime.timedelta(days = i)\n",
        "  daty = formatf_date(t)\n",
        "  datyy = format_date(t)\n",
        "  data_amboar = [ poisson.rvs(dIvao.loc[datyy]) for j in range(600)]\n",
        "  daty_j_lst.append(daty)\n",
        "  data_baj.append(data_amboar)\n"
      ],
      "execution_count": 15,
      "outputs": []
    },
    {
      "cell_type": "markdown",
      "metadata": {
        "id": "I8h6TUy7j7Lx",
        "colab_type": "text"
      },
      "source": [
        "###Ambony"
      ]
    },
    {
      "cell_type": "code",
      "metadata": {
        "id": "B9tJ_UVCj_BJ",
        "colab_type": "code",
        "colab": {}
      },
      "source": [
        "# Computing Ivao(daty_mifarj + i) for i in range(1,8)\n",
        "\n",
        "daty_m1j = daty_data_mifarj + datetime.timedelta(days = 1)\n",
        "\n",
        "#Rt_ambo_hitsiny = (Rt_salan(datetime.date(2020,7,22))- Rt_salan(daty_amboj))/2\n",
        "\n",
        "Rt_ambo_hitsiny = 0\n",
        "\n",
        "Rt_vinaj = Rt_salan(daty_amboj) + Rt_ambo_hitsiny\n",
        "\n",
        "Iv = int(Rt_vinaj*lsi(daty_m1j))\n",
        "\n",
        "dIvao.loc[pd.to_datetime(daty_m1j)] =[Iv]\n",
        "\n",
        "for i in range(1,8):\n",
        " tj = daty_m1j + datetime.timedelta(days = i)\n",
        " Ivv = int(Rt_vinaj*lsi(tj))\n",
        " dIvao.loc[pd.to_datetime(tj)] = [Ivv]"
      ],
      "execution_count": 23,
      "outputs": []
    },
    {
      "cell_type": "code",
      "metadata": {
        "id": "k59brFsghy6L",
        "colab_type": "code",
        "colab": {
          "base_uri": "https://localhost:8080/",
          "height": 34
        },
        "outputId": "cddc150c-fe98-465b-f2db-d97dfdba3555"
      },
      "source": [
        "Rt_vinaj"
      ],
      "execution_count": null,
      "outputs": [
        {
          "output_type": "execute_result",
          "data": {
            "text/plain": [
              "0.678040761733936"
            ]
          },
          "metadata": {
            "tags": []
          },
          "execution_count": 40
        }
      ]
    },
    {
      "cell_type": "code",
      "metadata": {
        "id": "twGUJ6xHkFJ4",
        "colab_type": "code",
        "colab": {}
      },
      "source": [
        "# Sampling \n",
        "\n",
        "np.random.seed(12345)\n",
        "\n",
        "formatf_date = lambda date_py: '{}/{}'.format(date_py.day, str(date_py.month)[0:1])\n",
        "\n",
        "daty_j_lst = []\n",
        "\n",
        "data_boj = []\n",
        "\n",
        "\n",
        "for i in range(1,8):\n",
        "  t = daty_data_mifarj + datetime.timedelta(days = i)\n",
        "  daty = formatf_date(t)\n",
        "  datyy = format_date(t)\n",
        "  data_amboar = [ poisson.rvs(dIvao.loc[datyy]) for j in range(600)]\n",
        "  daty_j_lst.append(daty)\n",
        "  data_boj.append(data_amboar)\n"
      ],
      "execution_count": 24,
      "outputs": []
    },
    {
      "cell_type": "markdown",
      "metadata": {
        "id": "0NsQ0mgVkIOq",
        "colab_type": "text"
      },
      "source": [
        "### Sary"
      ]
    },
    {
      "cell_type": "code",
      "metadata": {
        "id": "H1piiKtFOUx-",
        "colab_type": "code",
        "colab": {
          "base_uri": "https://localhost:8080/",
          "height": 389
        },
        "outputId": "9e2a94cb-9dff-49b1-afbf-c06bd570b3a0"
      },
      "source": [
        "# Plotting the evaluation of the last 7 days\n",
        "\n",
        "fig, ax = plt.subplots(figsize=(10,5))\n",
        "box = sns.boxplot(daty_j_lst, data_baj, color='white', width=0.1, showfliers=False, ax=ax)\n",
        "box = sns.boxplot(daty_j_lst, data_boj, color='grey', width=0.1, showfliers=False, ax=ax)\n",
        "ax.plot(daty_j_lst, dIvao.loc[pd.to_datetime(daty_m1j):pd.to_datetime(daty_m1j + datetime.timedelta(days = 6))], marker =\"o\",ls = 'None', color='blue',label=\"Voa vaovao voatily\")\n",
        "ax.set(xlabel = 'Andro teo aloha', ylabel=\"Tombana voa vaovao\")\n",
        "\n",
        "plt.legend(loc= 'upper center')\n",
        "\n",
        "plt.savefig(path_to_save+'Iv129j_anala.eps')\n",
        "plt.savefig(path_to_save+'Iv129j_anala.png')\n",
        "\n",
        "plt.show()"
      ],
      "execution_count": 26,
      "outputs": [
        {
          "output_type": "stream",
          "text": [
            "The PostScript backend does not support transparency; partially transparent artists will be rendered opaque.\n",
            "The PostScript backend does not support transparency; partially transparent artists will be rendered opaque.\n"
          ],
          "name": "stderr"
        },
        {
          "output_type": "display_data",
          "data": {
            "image/png": "[encoded data removed]",
            "text/plain": [
              "<Figure size 720x360 with 1 Axes>"
            ]
          },
          "metadata": {
            "tags": [],
            "needs_background": "light"
          }
        }
      ]
    },
    {
      "cell_type": "markdown",
      "metadata": {
        "id": "2_xHtije77fQ",
        "colab_type": "text"
      },
      "source": [
        "# Ny 7 andro manaraka"
      ]
    },
    {
      "cell_type": "code",
      "metadata": {
        "id": "yGyytt4BOA35",
        "colab_type": "code",
        "colab": {}
      },
      "source": [
        "# Choice of R(t) for the forecasting\n",
        "\n",
        "# Dates for which R(t) is minimum and maximum during the last 10 days\n",
        "\n",
        "daty_amba = datetime.date(2020,9,18)\n",
        "daty_ambo = datetime.date(2020,9,11)"
      ],
      "execution_count": 27,
      "outputs": []
    },
    {
      "cell_type": "markdown",
      "metadata": {
        "id": "PIIOOSiCkqR6",
        "colab_type": "text"
      },
      "source": [
        "### Vinavina ambany"
      ]
    },
    {
      "cell_type": "code",
      "metadata": {
        "id": "EEH2A5F2NBXD",
        "colab_type": "code",
        "colab": {}
      },
      "source": [
        "# Computing Ivao(daty_mifar + i) for i in range(1,8)\n",
        "\n",
        "daty_m1 = daty_data_mifar + datetime.timedelta(days = 1)\n",
        "\n",
        "Iv = int(Rt_salan(daty_amba)*lsi(daty_m1))\n",
        "\n",
        "dIvao.loc[pd.to_datetime(daty_m1)] =[Iv]\n",
        "\n",
        "for i in range(1,8):\n",
        " errt = daty_m1 + datetime.timedelta(days = i)\n",
        " Ivv = int(Rt_salan(daty_amba)*lsi(errt))\n",
        " dIvao.loc[pd.to_datetime(errt)] =[Ivv]\n"
      ],
      "execution_count": 28,
      "outputs": []
    },
    {
      "cell_type": "code",
      "metadata": {
        "id": "XFYxPSwaqHeo",
        "colab_type": "code",
        "colab": {}
      },
      "source": [
        "# Sampling\n",
        "\n",
        "np.random.seed(12345)\n",
        "\n",
        "formatf_date = lambda date_py: '{}/{}'.format(date_py.day, str(date_py.month)[0:1])\n",
        "\n",
        "daty_hoav_lst = []\n",
        "\n",
        "data_amba_hoav = []\n",
        "\n",
        "Ivv_dat = []\n",
        "\n",
        "for i in range(1,8):\n",
        "  t = daty_data_mifar + datetime.timedelta(days = i)\n",
        "  daty = formatf_date(t)\n",
        "  datyy = format_date(t)\n",
        "  data_amboar = [ poisson.rvs(dIvao.loc[datyy]) for j in range(600)]\n",
        "  daty_hoav_lst.append(daty)\n",
        "  data_amba_hoav.append(data_amboar)"
      ],
      "execution_count": 29,
      "outputs": []
    },
    {
      "cell_type": "code",
      "metadata": {
        "id": "g_TCgsNEkOv5",
        "colab_type": "code",
        "colab": {
          "base_uri": "https://localhost:8080/",
          "height": 156
        },
        "outputId": "69d37924-5fa2-4532-b6ca-956990de7f2e"
      },
      "source": [
        "print('Vinavina ambany')\n",
        "\n",
        "daty_oh = datetime.date(2020,9,20)\n",
        "\n",
        "print(\"Notombanana avy amin'ny R(\", daty_amba, ')', Rt_salan(daty_amba)) \n",
        "print(\"Vinavina R hoan'ny\", daty_oh, ':', Rt_salan(daty_oh))\n",
        "print(\"Vinavina kartily @ 75% R hoan'ny\",daty_oh, ':', perc75(daty_oh))\n",
        "print(\"Vinavina kartily @ 25% R hoan'ny\", daty_oh, ':', perc25(daty_oh))\n",
        "print(\"Vinavina isan'ny voa vaovao hoan'ny\", daty_oh, ':', dIvao['Voatomb'].loc[format_date(daty_oh)])\n",
        "\n",
        "print(\"Vinavina kartily @ 75% R hoan'ny\", daty_oh, ':', poisson.ppf(0.95, dIvao.loc[format_date(daty_oh)]))\n",
        "print(\"Vinavina kartily @ 25% R hoan'ny\", daty_oh, ':', poisson.ppf(0.25, dIvao.loc[format_date(daty_oh)]))"
      ],
      "execution_count": 30,
      "outputs": [
        {
          "output_type": "stream",
          "text": [
            "Vinavina ambany\n",
            "Notombanana avy amin'ny R( 2020-09-18 ) 0.9830943222461358\n",
            "Vinavina R hoan'ny 2020-09-20 : 0.9660925279713679\n",
            "Vinavina kartily @ 75% R hoan'ny 2020-09-20 : 1.0642747938058432\n",
            "Vinavina kartily @ 25% R hoan'ny 2020-09-20 : 0.8591522267633328\n",
            "Vinavina isan'ny voa vaovao hoan'ny 2020-09-20 : 19.0\n",
            "Vinavina kartily @ 75% R hoan'ny 2020-09-20 : [26.]\n",
            "Vinavina kartily @ 25% R hoan'ny 2020-09-20 : [16.]\n"
          ],
          "name": "stdout"
        }
      ]
    },
    {
      "cell_type": "markdown",
      "metadata": {
        "id": "IfgzL1jZkkDl",
        "colab_type": "text"
      },
      "source": [
        "### Vinavina ambony"
      ]
    },
    {
      "cell_type": "code",
      "metadata": {
        "id": "31c50QPrkXLo",
        "colab_type": "code",
        "colab": {}
      },
      "source": [
        "# Computing Ivao(daty_mifar + i) for i in range(1,8)\n",
        "\n",
        "daty_m1 = daty_data_mifar + datetime.timedelta(days = 1)\n",
        "\n",
        "Iv = int(Rt_salan(daty_ambo)*lsi(daty_m1))\n",
        "\n",
        "dIvao.loc[pd.to_datetime(daty_m1)] =[Iv]\n",
        "\n",
        "for i in range(1,8):\n",
        " errt = daty_m1 + datetime.timedelta(days = i)\n",
        " Ivv = int(Rt_salan(daty_ambo)*lsi(errt))\n",
        " dIvao.loc[pd.to_datetime(errt)] =[Ivv]\n"
      ],
      "execution_count": 32,
      "outputs": []
    },
    {
      "cell_type": "code",
      "metadata": {
        "id": "yoJDYAEukyFG",
        "colab_type": "code",
        "colab": {}
      },
      "source": [
        "# Sampling\n",
        "\n",
        "np.random.seed(12345)\n",
        "\n",
        "formatf_date = lambda date_py: '{}/{}'.format(date_py.day, str(date_py.month)[0:1])\n",
        "\n",
        "daty_hoav_lst = []\n",
        "\n",
        "data_ambo_hoav = []\n",
        "\n",
        "Ivv_dat = []\n",
        "\n",
        "for i in range(1,8):\n",
        "  t = daty_data_mifar + datetime.timedelta(days = i)\n",
        "  daty = formatf_date(t)\n",
        "  datyy = format_date(t)\n",
        "  data_amboar = [ poisson.rvs(dIvao.loc[datyy]) for j in range(600)]\n",
        "  daty_hoav_lst.append(daty)\n",
        "  data_ambo_hoav.append(data_amboar)"
      ],
      "execution_count": 33,
      "outputs": []
    },
    {
      "cell_type": "code",
      "metadata": {
        "id": "0Ss5C4eZk7cB",
        "colab_type": "code",
        "colab": {
          "base_uri": "https://localhost:8080/",
          "height": 156
        },
        "outputId": "51846a9a-f23e-4fe0-c015-84436d194343"
      },
      "source": [
        "print('Vinavina ambony')\n",
        "\n",
        "daty_oh = datetime.date(2020,9,20)\n",
        "\n",
        "print(\"Notombanana avy amin'ny R(\", daty_ambo, ')', Rt_salan(daty_ambo)) \n",
        "print(\"Vinavina R hoan'ny\", daty_oh, ':', Rt_salan(daty_oh))\n",
        "print(\"Vinavina kartily @ 75% R hoan'ny\",daty_oh, ':', perc75(daty_oh))\n",
        "print(\"Vinavina kartily @ 25% R hoan'ny\", daty_oh, ':', perc25(daty_oh))\n",
        "print(\"Vinavina isan'ny voa vaovao hoan'ny\", daty_oh, ':', dIvao['Voatomb'].loc[format_date(daty_oh)])\n",
        "\n",
        "print(\"Vinavina kartily @ 75% R hoan'ny\", daty_oh, ':', poisson.ppf(0.95, dIvao.loc[format_date(daty_oh)]))\n",
        "print(\"Vinavina kartily @ 25% R hoan'ny\", daty_oh, ':', poisson.ppf(0.25, dIvao.loc[format_date(daty_oh)]))"
      ],
      "execution_count": 34,
      "outputs": [
        {
          "output_type": "stream",
          "text": [
            "Vinavina ambony\n",
            "Notombanana avy amin'ny R( 2020-09-11 ) 1.0737374354473084\n",
            "Vinavina R hoan'ny 2020-09-20 : 1.0376083438305603\n",
            "Vinavina kartily @ 75% R hoan'ny 2020-09-20 : 1.139508006030394\n",
            "Vinavina kartily @ 25% R hoan'ny 2020-09-20 : 0.9269572955223977\n",
            "Vinavina isan'ny voa vaovao hoan'ny 2020-09-20 : 21.0\n",
            "Vinavina kartily @ 75% R hoan'ny 2020-09-20 : [29.]\n",
            "Vinavina kartily @ 25% R hoan'ny 2020-09-20 : [18.]\n"
          ],
          "name": "stdout"
        }
      ]
    },
    {
      "cell_type": "markdown",
      "metadata": {
        "id": "qvg2QeQQk98i",
        "colab_type": "text"
      },
      "source": [
        "### Sary"
      ]
    },
    {
      "cell_type": "code",
      "metadata": {
        "id": "M-lWnPSMqR5E",
        "colab_type": "code",
        "colab": {
          "base_uri": "https://localhost:8080/",
          "height": 334
        },
        "outputId": "58f63437-9c1c-42bd-dca1-903b4fb51596"
      },
      "source": [
        "# Plotting boundaries for the next 7 days\n",
        "\n",
        "fig, ax = plt.subplots(figsize=(10,5))\n",
        "box = sns.boxplot(daty_hoav_lst, data_amba_hoav, color='white', width=0.1, showfliers=False, ax=ax)\n",
        "box = sns.boxplot(daty_hoav_lst, data_ambo_hoav, color='grey', width=0.1, showfliers=False, ax=ax)\n",
        "\n",
        "ax.set_xlabel('Andro any aoriana')\n",
        "ax.set_ylabel(\"Vinavina isan'ny voa vaovao\")\n",
        "\n",
        "plt.savefig(path_to_save+'Iv189hoav_anala.eps')\n",
        "plt.savefig(path_to_save+'Iv189hoav_anala.png')\n",
        "\n",
        "plt.show()"
      ],
      "execution_count": 35,
      "outputs": [
        {
          "output_type": "display_data",
          "data": {
            "image/png": "[encoded data removed]",
            "text/plain": [
              "<Figure size 720x360 with 1 Axes>"
            ]
          },
          "metadata": {
            "tags": [],
            "needs_background": "light"
          }
        }
      ]
    },
    {
      "cell_type": "markdown",
      "metadata": {
        "id": "pRktJCmVR1y7",
        "colab_type": "text"
      },
      "source": [
        "## Vinavina lavitra "
      ]
    },
    {
      "cell_type": "code",
      "metadata": {
        "id": "m9Y_WGpiR1CZ",
        "colab_type": "code",
        "colab": {}
      },
      "source": [
        "# Choice of R(t) for the forecasting\n",
        "\n",
        "# Dates for which R(t) is minimum and maximum during the last 10 days\n",
        "\n",
        "daty_amba = datetime.date(2020,7,25)\n",
        "daty_ambo = datetime.date(2020,7,23)\n"
      ],
      "execution_count": null,
      "outputs": []
    },
    {
      "cell_type": "markdown",
      "metadata": {
        "id": "ffjIx9uGR_Xp",
        "colab_type": "text"
      },
      "source": [
        "### Lavitra ambany"
      ]
    },
    {
      "cell_type": "code",
      "metadata": {
        "id": "XtCyMUGWR7rz",
        "colab_type": "code",
        "colab": {}
      },
      "source": [
        "# Computing Ivao(daty_mifar + i) for i in range(1,8)\n",
        "\n",
        "daty_m1 = daty_data_mifar + datetime.timedelta(days = 1)\n",
        "\n",
        "Iv = int(Rt_salan(daty_amba)*lsi(daty_m1))\n",
        "\n",
        "dIvao.loc[pd.to_datetime(daty_m1)] =[Iv]\n",
        "\n",
        "for i in range(1,200):\n",
        " errt = daty_m1 + datetime.timedelta(days = i)\n",
        " Ivv = int(Rt_salan(daty_amba)*lsi(errt))\n",
        " dIvao.loc[pd.to_datetime(errt)] =[Ivv]\n"
      ],
      "execution_count": null,
      "outputs": []
    },
    {
      "cell_type": "code",
      "metadata": {
        "id": "y1Fdu2RuSEkP",
        "colab_type": "code",
        "colab": {}
      },
      "source": [
        "# Sampling\n",
        "\n",
        "np.random.seed(12345)\n",
        "\n",
        "formatf_date = lambda date_py: '{}/{}'.format(date_py.day, str(date_py.month))\n",
        "\n",
        "daty_hoav_lst = []\n",
        "\n",
        "data_amba_hoav = []\n",
        "\n",
        "Ivv_dat = []\n",
        "\n",
        "for i in range(1,200):\n",
        "  t = daty_data_mifar + datetime.timedelta(days = i)\n",
        "  daty = formatf_date(t)\n",
        "  datyy = format_date(t)\n",
        "  data_amboar = [ poisson.rvs(dIvao.loc[datyy]) for j in range(600)]\n",
        "  daty_hoav_lst.append(daty)\n",
        "  data_amba_hoav.append(data_amboar)"
      ],
      "execution_count": null,
      "outputs": []
    },
    {
      "cell_type": "code",
      "metadata": {
        "id": "3-EsRWk5Sc3y",
        "colab_type": "code",
        "colab": {}
      },
      "source": [
        "print('Vinavina hafa ambany')\n",
        "\n",
        "daty_oh = datetime.date(2020,8,4) \n",
        "\n",
        "Ireh_mifar = 7422\n",
        "\n",
        "print(\"Notombanana avy amin'ny R(\", daty_amba, ')', Rt_salan(daty_amba)) \n",
        "print(\"Vinavina R hoan'ny\", daty_oh, ':', Rt_salan(daty_oh))\n",
        "print(\"Vinavina kartily @ 75% R hoan'ny\",daty_oh, ':', perc75(daty_oh))\n",
        "print(\"Vinavina kartily @ 25% R hoan'ny\", daty_oh, ':', perc25(daty_oh))\n",
        "print(\"Vinavina isan'ny voa vaovao hoan'ny\", daty_oh, ':', dIvao['Voatomb'].loc[format_date(daty_oh)])\n",
        "\n",
        "print(\"Vinavina kartily @ 75% R hoan'ny\", daty_oh, ':', poisson.ppf(0.95, dIvao.loc[format_date(daty_oh)]))\n",
        "print(\"Vinavina kartily @ 25% R hoan'ny\", daty_oh, ':', poisson.ppf(0.25, dIvao.loc[format_date(daty_oh)]))\n",
        "\n",
        "print(\"Isan'ny voa rehetra hatr@\", daty_oh, ':', Ireh_mifar + Ireh(daty_oh,(daty_oh - daty_data_mifar).days))"
      ],
      "execution_count": null,
      "outputs": []
    },
    {
      "cell_type": "markdown",
      "metadata": {
        "id": "har7HEOaSPUl",
        "colab_type": "text"
      },
      "source": [
        "### Lavitra ambony"
      ]
    },
    {
      "cell_type": "code",
      "metadata": {
        "id": "E1K67J2YSRPT",
        "colab_type": "code",
        "colab": {}
      },
      "source": [
        "# Computing Ivao(daty_mifar + i) for i in range(1,8)\n",
        "\n",
        "daty_m1 = daty_data_mifar + datetime.timedelta(days = 1)\n",
        "\n",
        "Iv = int(Rt_salan(daty_ambo)*lsi(daty_m1))\n",
        "\n",
        "dIvao.loc[pd.to_datetime(daty_m1)] =[Iv]\n",
        "\n",
        "for i in range(1,200):\n",
        " errt = daty_m1 + datetime.timedelta(days = i)\n",
        " Ivv = int(Rt_salan(daty_ambo)*lsi(errt))\n",
        " dIvao.loc[pd.to_datetime(errt)] =[Ivv]\n"
      ],
      "execution_count": null,
      "outputs": []
    },
    {
      "cell_type": "code",
      "metadata": {
        "id": "6fQWy__MSZJD",
        "colab_type": "code",
        "colab": {}
      },
      "source": [
        "# Sampling\n",
        "\n",
        "np.random.seed(12345)\n",
        "\n",
        "formatf_date = lambda date_py: '{}/{}'.format(date_py.day, str(date_py.month))\n",
        "\n",
        "daty_hoav_lst = []\n",
        "\n",
        "data_ambo_hoav = []\n",
        "\n",
        "Ivv_dat = []\n",
        "\n",
        "for i in range(1,200):\n",
        "  t = daty_data_mifar + datetime.timedelta(days = i)\n",
        "  daty = formatf_date(t)\n",
        "  datyy = format_date(t)\n",
        "  data_amboar = [ poisson.rvs(dIvao.loc[datyy]) for j in range(600)]\n",
        "  daty_hoav_lst.append(daty)\n",
        "  data_ambo_hoav.append(data_amboar)"
      ],
      "execution_count": null,
      "outputs": []
    },
    {
      "cell_type": "code",
      "metadata": {
        "id": "7X04fa8eStKo",
        "colab_type": "code",
        "colab": {}
      },
      "source": [
        "print('Vinavina ambony')\n",
        "\n",
        "daty_oh = datetime.date(2020,12,22)\n",
        "\n",
        "print(\"Notombanana avy amin'ny R(\", daty_ambo, ')', Rt_salan(daty_ambo)) \n",
        "print(\"Vinavina R hoan'ny\", daty_oh, ':', Rt_salan(daty_oh))\n",
        "print(\"Vinavina kartily @ 75% R hoan'ny\",daty_oh, ':', perc75(daty_oh))\n",
        "print(\"Vinavina kartily @ 25% R hoan'ny\", daty_oh, ':', perc25(daty_oh))\n",
        "print(\"Vinavina isan'ny voa vaovao hoan'ny\", daty_oh, ':', dIvao['Voatomb'].loc[format_date(daty_oh)])\n",
        "\n",
        "print(\"Vinavina kartily @ 75% R hoan'ny\", daty_oh, ':', poisson.ppf(0.95, dIvao.loc[format_date(daty_oh)]))\n",
        "print(\"Vinavina kartily @ 25% R hoan'ny\", daty_oh, ':', poisson.ppf(0.25, dIvao.loc[format_date(daty_oh)]))\n",
        "\n",
        "print(\"Isan'ny voa rehetra hatr@\", daty_oh, ':', Ireh_mifar + Ireh(daty_oh,(daty_oh - daty_data_mifar).days))"
      ],
      "execution_count": null,
      "outputs": []
    },
    {
      "cell_type": "markdown",
      "metadata": {
        "id": "uf0HJX5CSu5R",
        "colab_type": "text"
      },
      "source": [
        "## Sary"
      ]
    },
    {
      "cell_type": "code",
      "metadata": {
        "id": "J4vt9Q07SxNk",
        "colab_type": "code",
        "colab": {}
      },
      "source": [
        "# Plotting boundaries for the next 7 days\n",
        "\n",
        "fig, ax = plt.subplots(figsize=(30,15))\n",
        "box = sns.boxplot(daty_hoav_lst, data_amba_hoav, color='white', width=0.1, showfliers=False, ax=ax)\n",
        "box = sns.boxplot(daty_hoav_lst, data_ambo_hoav, color='grey', width=0.1, showfliers=False, ax=ax)\n",
        "\n",
        "ax.set_xlabel('Andro any aoriana')\n",
        "ax.set_ylabel(\"Vinavina isan'ny voa vaovao\")\n",
        "\n",
        "plt.savefig(path_to_save+'Iv167ahoav_ant.eps')\n",
        "plt.savefig(path_to_save+'Iv167ahoav_ant.png')\n",
        "\n",
        "plt.show()"
      ],
      "execution_count": null,
      "outputs": []
    },
    {
      "cell_type": "code",
      "metadata": {
        "id": "151VAsJTS0Fb",
        "colab_type": "code",
        "colab": {}
      },
      "source": [
        "# Plotting boundaries for the next 7 days\n",
        "\n",
        "fig, ax = plt.subplots(figsize=(10,5))\n",
        "box = sns.boxplot(daty_hoav_lst[70:80], data_amba_hoav[70:80], color='white', width=0.1, showfliers=False, ax=ax)\n",
        "box = sns.boxplot(daty_hoav_lst[70:80], data_ambo_hoav[70:80], color='grey', width=0.1, showfliers=False, ax=ax)\n",
        "\n",
        "ax.set_xlabel('Andro any aoriana')\n",
        "ax.set_ylabel(\"Vinavina isan'ny voa vaovao\")\n",
        "\n",
        "plt.savefig(path_to_save+'Iv1677080hoav_ant.eps')\n",
        "plt.savefig(path_to_save+'Iv1677080hoav_ant.png')\n",
        "\n",
        "plt.show()"
      ],
      "execution_count": null,
      "outputs": []
    }
  ]
}