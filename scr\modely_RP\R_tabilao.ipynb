{
  "nbformat": 4,
  "nbformat_minor": 0,
  "metadata": {
    "colab": {
      "name": "R_tabilao.ipynb",
      "provenance": [],
      "collapsed_sections": [],
      "authorship_tag": "ABX9TyNxpp3oRsH1EA10inLHjSMT",
      "include_colab_link": true
    },
    "kernelspec": {
      "name": "python3",
      "display_name": "Python 3"
    }
  },
  "cells": [
    {
      "cell_type": "markdown",
      "metadata": {
        "id": "view-in-github",
        "colab_type": "text"
      },
      "source": [
        "<a href=\"https://colab.research.google.com/github/herysedra/ady_cov/blob/master/scr%5Cmodely_RP%5CR_tabilao.ipynb\" target=\"_parent\"><img src=\"https://colab.research.google.com/assets/colab-badge.svg\" alt=\"Open In Colab\"/></a>"
      ]
    },
    {
      "cell_type": "code",
      "metadata": {
        "id": "mTm94BlPJ3Ht",
        "colab_type": "code",
        "colab": {
          "base_uri": "https://localhost:8080/",
          "height": 124
        },
        "outputId": "11e46195-b904-4022-8f73-07b566d094ac"
      },
      "source": [
        "from google.colab import drive\n",
        "drive.mount('/content/drive')"
      ],
      "execution_count": 1,
      "outputs": [
        {
          "output_type": "stream",
          "text": [
            "Go to this URL in a browser: https://accounts.google.com/o/oauth2/auth?client_id=947318989803-6bn6qk8qdgf4n4g3pfee6491hc0brc4i.apps.googleusercontent.com&redirect_uri=urn%3aietf%3awg%3aoauth%3a2.0%3aoob&response_type=code&scope=email%20https%3a%2f%2fwww.googleapis.com%2fauth%2fdocs.test%20https%3a%2f%2fwww.googleapis.com%2fauth%2fdrive%20https%3a%2f%2fwww.googleapis.com%2fauth%2fdrive.photos.readonly%20https%3a%2f%2fwww.googleapis.com%2fauth%2fpeopleapi.readonly\n",
            "\n",
            "Enter your authorization code:\n",
            "··········\n",
            "Mounted at /content/drive\n"
          ],
          "name": "stdout"
        }
      ]
    },
    {
      "cell_type": "code",
      "metadata": {
        "id": "vwFyQogh6edn",
        "colab_type": "code",
        "colab": {
          "base_uri": "https://localhost:8080/",
          "height": 228
        },
        "outputId": "19767651-6ef7-4dc3-bd34-0322f6ecd70f"
      },
      "source": [
        "!pip install pynverse"
      ],
      "execution_count": 2,
      "outputs": [
        {
          "output_type": "stream",
          "text": [
            "Collecting pynverse\n",
            "  Downloading https://files.pythonhosted.org/packages/88/f8/fb90087055b1502def9b6e835e80fa548996bf1439a81583e592f388f4c9/pynverse-0.1.4.4.tar.gz\n",
            "Requirement already satisfied: scipy>=0.11 in /usr/local/lib/python3.6/dist-packages (from pynverse) (1.4.1)\n",
            "Requirement already satisfied: numpy>=1.6 in /usr/local/lib/python3.6/dist-packages (from pynverse) (1.18.5)\n",
            "Building wheels for collected packages: pynverse\n",
            "  Building wheel for pynverse (setup.py) ... \u001b[?25l\u001b[?25hdone\n",
            "  Created wheel for pynverse: filename=pynverse-0.1.4.4-cp36-none-any.whl size=6350 sha256=c045ae896ace2f86ea70fd39ec98998b01065e2bd2db9d78f2a64cb20a7e79c6\n",
            "  Stored in directory: /root/.cache/pip/wheels/80/ab/86/ec93f37613f012ba3e65c2bbd67e5c54cbc00d237574100c24\n",
            "Successfully built pynverse\n",
            "Installing collected packages: pynverse\n",
            "Successfully installed pynverse-0.1.4.4\n"
          ],
          "name": "stdout"
        }
      ]
    },
    {
      "cell_type": "code",
      "metadata": {
        "id": "nw40APzqKCGS",
        "colab_type": "code",
        "colab": {
          "base_uri": "https://localhost:8080/",
          "height": 72
        },
        "outputId": "edafacd6-6356-4c9a-899d-5d4c330f2fb3"
      },
      "source": [
        "import pandas as pd\n",
        "import numpy as np\n",
        "import matplotlib.pyplot as plt\n",
        "import scipy.stats\n",
        "import matplotlib\n",
        "import pickle\n",
        "\n",
        "import datetime\n",
        "import time\n",
        "from datetime import date\n",
        "\n",
        "import matplotlib.dates as mdates\n",
        "from matplotlib.dates import DateFormatter\n",
        "import seaborn as sns\n",
        "\n",
        "from numpy import log,exp\n",
        "from numpy.random import multinomial\n",
        "from scipy.stats import uniform, gamma, gengamma, poisson, nbinom, expon\n",
        "from scipy.integrate import quad\n",
        "\n",
        "from mpl_toolkits.mplot3d.axes3d import Axes3D, get_test_data\n",
        "from matplotlib import cm\n",
        "from matplotlib.ticker import LinearLocator, FormatStrFormatter\n",
        "\n",
        "from pynverse import inversefunc\n",
        "\n",
        "tilyvoa = pd.read_csv(\"/content/drive/My Drive/data/tilyvoa.csv\")\n",
        "\n",
        "mdg_databe = pd.read_csv(\"/content/drive/My Drive/data/databe mdg.csv\")\n",
        "\n",
        "#tilyvoa.set_index('Daty', inplace=True)\n",
        "\n",
        "tilyvoafar = tilyvoa.groupby('Faritra')\n",
        "tilyvoamdg = tilyvoafar.get_group('Madagasikara')\n",
        "tilyvoamdg.set_index('Daty', inplace=True)\n",
        "\n",
        "tilyvoamdg.index = pd.to_datetime(tilyvoamdg.index)\n",
        "\n",
        "tilyvoatana = tilyvoafar.get_group('Antananarivo')\n",
        "tilyvoatana.set_index('Daty', inplace=True)\n",
        "\n",
        "tilyvoatana.index = pd.to_datetime(tilyvoatana.index)\n",
        "\n",
        "tilyvoatoa = tilyvoafar.get_group('Toamasina')\n",
        "tilyvoatoa.set_index('Daty', inplace=True)\n",
        "\n",
        "tilyvoatoa.index = pd.to_datetime(tilyvoatoa.index)\n",
        "\n",
        "\n",
        "path_to_save = '/content/drive/My Drive/sary/'\n",
        "path_data = '/content/drive/My Drive/data/'"
      ],
      "execution_count": 3,
      "outputs": [
        {
          "output_type": "stream",
          "text": [
            "/usr/local/lib/python3.6/dist-packages/statsmodels/tools/_testing.py:19: FutureWarning: pandas.util.testing is deprecated. Use the functions in the public API at pandas.testing instead.\n",
            "  import pandas.util.testing as tm\n"
          ],
          "name": "stderr"
        }
      ]
    },
    {
      "cell_type": "code",
      "metadata": {
        "id": "7qbUH3RDKLZQ",
        "colab_type": "code",
        "colab": {}
      },
      "source": [
        "# Voa vaovao (observed incidence)\n",
        "Ivao = tilyvoamdg['Voatomb']\n",
        "\n",
        "dIvao = pd.DataFrame(data =Ivao)\n",
        "\n",
        "\n",
        "# Hoan'ny taha sorisoritry ny fifindrana (infectioness profile distribution)\n",
        "\n",
        "daty_data_manom = datetime.date(2020,6,1)\n",
        "daty_data_mifar = datetime.date(2020,8,1)\n",
        "\n",
        "datyt = daty_data_mifar - datetime.timedelta(days = 1)\n",
        "\n",
        "format_date = lambda date_py: '{}-{}-{}'.format(date_py.year, date_py.month, date_py.day)\n",
        "datyf_data_manom = format_date(daty_data_manom)\n",
        "datyf_data_mifar = format_date(daty_data_mifar)\n",
        "\n",
        "# Discretization of the serial interval distribution\n",
        "\n",
        "#Tombana mialoha (prior distributions)\n",
        "#si_sh = 1/(0.62**2) # Report 13\n",
        "#si_sc = 6.5/si_sh\n",
        "\n",
        "si_sh = (6.48**2)/(3.83**2) # Planning tool: Short-term forecasts\n",
        "si_sc = 6.48/si_sh\n",
        "\n",
        "def discr_si(t):\n",
        "  if t == 0:\n",
        "    discrsi = 0\n",
        "  elif t == 1:\n",
        "    discrsi = gengamma.cdf(3/2, si_sh, 1, loc = 0, scale = si_sc)\n",
        "  else:\n",
        "    discrsi = gengamma.cdf(t+1/2, si_sh, 1, loc = 0, scale = si_sc) - gengamma.cdf(t-1/2, si_sh, 1, loc = 0, scale = si_sc)\n",
        "  return discrsi\n",
        "\n",
        "#discr_si1 = gengamma.cdf(3/2, si_sh, 1, loc = 0, scale = si_sc)\n",
        "\n",
        "# 1/ The total incidence over a generic window (t-k+1,t)\n",
        "# Ireh(t,k) = sum(i = 0 to k-1) Ivao(t - i))\n",
        "\n",
        "def Ireh(t,k):\n",
        "  Irehv = 0\n",
        "  if k - 1 > (t - daty_data_manom).days:\n",
        "    for i in range((t - daty_data_manom).days + 1):\n",
        "      Irehv = Irehv + dIvao['Voatomb'].loc[format_date(t - datetime.timedelta(days = i))]\n",
        "  else:\n",
        "    for i in range(k):\n",
        "      Irehv = Irehv + dIvao['Voatomb'].loc[format_date(t - datetime.timedelta(days = i))]\n",
        "  return Irehv\n",
        "\n",
        "# 2/ Tool to compute the total infectiousness over a generic window (t-k+1,t)\n",
        "# Isi(t,k) = sum(i=0 to k-1) Ivao(t - i)*discr_si(i)\n",
        "\n",
        "# The definition of Isi(t,k) does not include the term Ivao(t) for i = 0 (because discr_si(0) =0) \n",
        "# so we can start the sum from i = 1; but it includes the last term Ivao(t - k + 1)*discr_si(k - 1) for i = k-1. \n",
        "\n",
        "def Isi(t,k):\n",
        "  Ivaosi = 0\n",
        "  if k - 1 > (t - daty_data_manom).days:\n",
        "    for i in range(1, (t - daty_data_manom).days + 1):\n",
        "      Ivaosi = Ivaosi + dIvao['Voatomb'].loc[format_date(t - datetime.timedelta(days = i))]*discr_si(i)\n",
        "  else:\n",
        "    for i in range(1, k):\n",
        "      Ivaosi = Ivaosi + dIvao['Voatomb'].loc[format_date(t - datetime.timedelta(days = i))]*discr_si(i)\n",
        "  return Ivaosi\n",
        "\n",
        "# The total infectiousness before t\n",
        "\n",
        "# lsi(t) := sum(i=0 to t-1) Ivao(t - i)*discr_si(i)\n",
        "\n",
        "def lsi(t):\n",
        "  return Isi(t, (t - daty_data_manom).days +1)\n",
        "\n",
        "  # for checking, take for example t = daty_data_manom + datetime.timedelta(days = 3)\n",
        "\n",
        "# 3/ The sum of total infectiousness before t over a generic window (t-k+1,t)\n",
        "# tlsi(t) := sum(i=t-k+1 to t)lsi(i)\n",
        "\n",
        "def tlsi(t,k):\n",
        "  tlsi = 0\n",
        "  if k - 1 > (t - daty_data_manom).days:\n",
        "    for i in range((t - daty_data_manom).days + 1):\n",
        "      tlsi = tlsi + lsi(t - datetime.timedelta(days = i))\n",
        "  else:\n",
        "    for i in range(k):\n",
        "      tlsi = tlsi + lsi(t - datetime.timedelta(days = i))\n",
        "  return tlsi\n",
        "\n",
        "# 4/ The shape parameters of the posterior predictive negative binomial of I(t+1)\n",
        "\n",
        "# pnb(t,k) dia ny taha herjika hoan'ny NB hoan'ny I(t+1).\n",
        "# pnb(t,k) = lsi(t+1)*Gamma_post_scale(R(t,k))/(1 + lsi(t+1)*Gamma_post_scale(R(t,k)))\n",
        "\n",
        "def pnb(t,k):\n",
        "  return lsi(t+datetime.timedelta(days = 1))/(1/si_sc + tlsi(t,k) + lsi(t+datetime.timedelta(days = 1)))\n",
        "\n",
        "# 5/ Use the pmf of the posterior predictive negative binomial to compute\n",
        "# each additive contribution at time s then for-loop for s in the time interval\n",
        "\n",
        "def lpr(t,k):\n",
        "  return -np.log(nbinom.pmf(dIvao['Voatomb'].loc[format_date(t + datetime.timedelta(days = 1))], si_sh + Ireh(t,k), pnb(t,k)))\n"
      ],
      "execution_count": 40,
      "outputs": []
    },
    {
      "cell_type": "code",
      "metadata": {
        "id": "v5Q0nJQpKheR",
        "colab_type": "code",
        "colab": {
          "base_uri": "https://localhost:8080/",
          "height": 159
        },
        "outputId": "107dbc2a-ae45-407e-a42a-2ed23e36a5d7"
      },
      "source": [
        "# 6/ Computation of the Accumulated Predictive Error\n",
        "\n",
        "# APE9_part1 \n",
        "\n",
        "# for i in range(8):\n",
        "# t = t_mif - i - 1\n",
        "# k = 9\n",
        "\n",
        "APEt91 = []\n",
        "Prt91 = []\n",
        "\n",
        "APE91 = 0\n",
        "\n",
        "for i in range(round(((daty_data_mifar - daty_data_manom).days + 1)/2) - 1):\n",
        "  t = daty_data_mifar - datetime.timedelta(days = i+1) \n",
        "  k = round(((daty_data_mifar - daty_data_manom).days + 1)/2)\n",
        "  APE91 = APE91 + lpr(t,k)\n",
        "  APEt91.append((lpr(t,k),t))\n",
        "  Prt91.append(expon.pdf(lpr(t,k)))\n",
        "\n",
        "print('For k = 9, APE91 =', APE91)\n",
        "print('APEt91 =', APEt91)\n",
        "print('Prt91 =', Prt91)\n",
        "\n",
        "# APE9_part2 \n",
        "\n",
        "# for i in range(9):\n",
        "# t = t_mif - 1 - 9 + 1 - i\n",
        "# k = t_mif - t - 2*i\n",
        "APEt92 = []\n",
        "Prt92 = []\n",
        "\n",
        "APE92 = 0\n",
        "for i in range(round(((daty_data_mifar - daty_data_manom).days + 1)/2)-1):\n",
        "  t = daty_data_mifar - datetime.timedelta(days = 1) - datetime.timedelta(days = ((daty_data_mifar - daty_data_manom).days + 1)/2) + datetime.timedelta(days = 1) - datetime.timedelta(days = i)\n",
        "  k = (daty_data_mifar - t - datetime.timedelta(days = 2*i)).days\n",
        "  APE92 = APE92 + lpr(t,k) \n",
        "  APEt92.append((lpr(t,k) ,t,k))\n",
        "  Prt92.append(expon.pdf(lpr(t,k)))\n",
        "\n",
        "print('For k = 9, APE92 =', APE92)\n",
        "print('APEt92=', APEt92)\n",
        "print('Prt92=', Prt92)\n",
        "\n",
        "# For t_man such that Ivao(t_man) = Ivao(t_man + 1) = 0, lsi(t_man + 1) = tlsi(t_man + 1, 2) = Ireh(t_man + 1, 2) = 0\n",
        "# so that pnb(t_man + 1, 2) = 0 and "
      ],
      "execution_count": null,
      "outputs": [
        {
          "output_type": "stream",
          "text": [
            "/usr/local/lib/python3.6/dist-packages/ipykernel_launcher.py:101: RuntimeWarning: divide by zero encountered in log\n"
          ],
          "name": "stderr"
        },
        {
          "output_type": "stream",
          "text": [
            "For k = 9, APE91 = inf\n",
            "APEt91 = [(inf, datetime.date(2020, 7, 5)), (inf, datetime.date(2020, 7, 4)), (inf, datetime.date(2020, 7, 3)), (inf, datetime.date(2020, 7, 2)), (inf, datetime.date(2020, 7, 1)), (inf, datetime.date(2020, 6, 30)), (inf, datetime.date(2020, 6, 29)), (inf, datetime.date(2020, 6, 28)), (inf, datetime.date(2020, 6, 27)), (inf, datetime.date(2020, 6, 26)), (inf, datetime.date(2020, 6, 25)), (inf, datetime.date(2020, 6, 24)), (inf, datetime.date(2020, 6, 23)), (inf, datetime.date(2020, 6, 22)), (inf, datetime.date(2020, 6, 21)), (inf, datetime.date(2020, 6, 20)), (inf, datetime.date(2020, 6, 19)), (inf, datetime.date(2020, 6, 18)), (inf, datetime.date(2020, 6, 17)), (inf, datetime.date(2020, 6, 16)), (inf, datetime.date(2020, 6, 15)), (inf, datetime.date(2020, 6, 14)), (inf, datetime.date(2020, 6, 13)), (inf, datetime.date(2020, 6, 12)), (inf, datetime.date(2020, 6, 11)), (inf, datetime.date(2020, 6, 10)), (inf, datetime.date(2020, 6, 9)), (inf, datetime.date(2020, 6, 8)), (inf, datetime.date(2020, 6, 7)), (inf, datetime.date(2020, 6, 6)), (inf, datetime.date(2020, 6, 5)), (inf, datetime.date(2020, 6, 4)), (inf, datetime.date(2020, 6, 3))]\n",
            "Prt91 = [0.0, 0.0, 0.0, 0.0, 0.0, 0.0, 0.0, 0.0, 0.0, 0.0, 0.0, 0.0, 0.0, 0.0, 0.0, 0.0, 0.0, 0.0, 0.0, 0.0, 0.0, 0.0, 0.0, 0.0, 0.0, 0.0, 0.0, 0.0, 0.0, 0.0, 0.0, 0.0, 0.0]\n",
            "For k = 9, APE92 = inf\n",
            "APEt92= [(inf, datetime.date(2020, 6, 3), 33), (inf, datetime.date(2020, 6, 2), 32), (inf, datetime.date(2020, 6, 1), 31), (inf, datetime.date(2020, 5, 31), 30), (inf, datetime.date(2020, 5, 30), 29), (inf, datetime.date(2020, 5, 29), 28), (inf, datetime.date(2020, 5, 28), 27), (inf, datetime.date(2020, 5, 27), 26), (inf, datetime.date(2020, 5, 26), 25), (inf, datetime.date(2020, 5, 25), 24), (inf, datetime.date(2020, 5, 24), 23), (616.0845313268535, datetime.date(2020, 5, 23), 22), (530.9969252676003, datetime.date(2020, 5, 22), 21), (438.63811198694617, datetime.date(2020, 5, 21), 20), (382.16969925994084, datetime.date(2020, 5, 20), 19), (268.8909806527951, datetime.date(2020, 5, 19), 18), (331.2719586297922, datetime.date(2020, 5, 18), 17), (257.1096036108986, datetime.date(2020, 5, 17), 16), (220.19807432038397, datetime.date(2020, 5, 16), 15), (120.56167845999084, datetime.date(2020, 5, 15), 14), (162.44622548299097, datetime.date(2020, 5, 14), 13), (116.8110000094805, datetime.date(2020, 5, 13), 12), (82.64542979767798, datetime.date(2020, 5, 12), 11), (92.11066761930672, datetime.date(2020, 5, 11), 10), (49.66369546281139, datetime.date(2020, 5, 10), 9), (60.748566788231685, datetime.date(2020, 5, 9), 8), (51.57669220142173, datetime.date(2020, 5, 8), 7), (30.788597026952072, datetime.date(2020, 5, 7), 6), (26.96904133178403, datetime.date(2020, 5, 6), 5), (10.978411631997915, datetime.date(2020, 5, 5), 4), (11.072372652088115, datetime.date(2020, 5, 4), 3), (12.192087970610828, datetime.date(2020, 5, 3), 2), (3.5775550940736283, datetime.date(2020, 5, 2), 1)]\n",
            "Prt92= [0.0, 0.0, 0.0, 0.0, 0.0, 0.0, 0.0, 0.0, 0.0, 0.0, 0.0, 2.7408650864490756e-268, 2.4601718716404676e-231, 3.1760579038724047e-191, 1.0612274151713164e-166, 1.66774969130073e-117, 1.3502567524274316e-144, 2.181312597245711e-112, 2.3398682094704625e-96, 4.37248487459964e-53, 2.8216339148385842e-71, 1.86048970106572e-51, 1.2809904273700905e-36, 9.927624188102174e-41, 2.6997969947598688e-22, 4.142215222396066e-27, 3.985907189664285e-23, 4.2528709603792573e-14, 1.938626599845199e-12, 1.7066183389694993e-05, 1.5535658123628853e-05, 5.070414589584509e-06, 0.02794393509745213]\n"
          ],
          "name": "stdout"
        }
      ]
    },
    {
      "cell_type": "code",
      "metadata": {
        "id": "u0DV0KxJK99i",
        "colab_type": "code",
        "colab": {
          "base_uri": "https://localhost:8080/",
          "height": 89
        },
        "outputId": "4a3c0e55-9870-4509-d6b1-38d5711a6daf"
      },
      "source": [
        "# APEk part 1 for k =/= 9\n",
        "\n",
        "# for i in range(t_mif - t_man -j)\n",
        "\n",
        "APEk1 = []\n",
        "#APEt21 = []\n",
        "for j in range(2,9):\n",
        "  APEj1 = 0\n",
        "  for i in range(round(((daty_data_mifar - daty_data_manom).days) - j)):\n",
        "    t = daty_data_mifar - datetime.timedelta(days = i+1) \n",
        "    k = j\n",
        "    APEj1 = APEj1 + lpr(t,k)\n",
        "   # APEt21.append(lpr(t,k))\n",
        "  APEk1.append(APEj1)\n",
        "\n",
        "print('APEk1 =', APEk1)\n",
        "#print('APEt21 =', APEt21)\n",
        "\n",
        "# APEk part 2 for k =/= 9\n",
        "\n",
        "Prk2 = []\n",
        "\n",
        "APEk2 = []\n",
        "\n",
        "for j in range(2,9):\n",
        "  APEj2 = 0\n",
        "  for i in range(j-1):\n",
        "    t = daty_data_manom + datetime.timedelta(days = j - i - 1)\n",
        "    k = j - i\n",
        "    APEj2 = APEj2 + lpr(t,k)\n",
        "  APEk2.append(APEj2)\n",
        "\n",
        "print('APEk2 =', APEk2)"
      ],
      "execution_count": null,
      "outputs": [
        {
          "output_type": "stream",
          "text": [
            "/usr/local/lib/python3.6/dist-packages/ipykernel_launcher.py:101: RuntimeWarning: divide by zero encountered in log\n"
          ],
          "name": "stderr"
        },
        {
          "output_type": "stream",
          "text": [
            "APEk1 = [1901.0970879193835, 5246.1580023556735, 9391.531159659084, 13995.432976173577, inf, inf, inf]\n",
            "APEk2 = [2.697839127258707, 17.34521918646036, 31.109646393598382, 45.004266434333545, 76.34598039790463, 111.95416379774284, 169.42670413085253]\n"
          ],
          "name": "stdout"
        }
      ]
    },
    {
      "cell_type": "code",
      "metadata": {
        "id": "3yw05_HnLrPp",
        "colab_type": "code",
        "colab": {
          "base_uri": "https://localhost:8080/",
          "height": 106
        },
        "outputId": "bb88fa00-b17d-41e8-f6ae-9f71862d3a03"
      },
      "source": [
        "# APEk for k = 2,...,8\n",
        "\n",
        "APEk = [x + y for x, y in zip(APEk1, APEk2)]\n",
        "\n",
        "# APE9\n",
        "APE9 = APE91 + APE92\n",
        "\n",
        "APE = APEk + [APE9]\n",
        "kk = APE.index(min(APE)) +2\n",
        "print('APE9 =', APE9)\n",
        "print('APEk =', APEk)\n",
        "print('APE =', APE)\n",
        "print(kk)\n"
      ],
      "execution_count": null,
      "outputs": [
        {
          "output_type": "stream",
          "text": [
            "APE9 = inf\n",
            "APEk = [1903.7949270466422, 5263.503221542134, 9422.640806052683, 14040.43724260791, inf, inf, inf]\n",
            "APE = [1903.7949270466422, 5263.503221542134, 9422.640806052683, 14040.43724260791, inf, inf, inf, inf]\n",
            "2\n"
          ],
          "name": "stdout"
        }
      ]
    },
    {
      "cell_type": "markdown",
      "metadata": {
        "id": "sm8piqajcz_G",
        "colab_type": "text"
      },
      "source": [
        "# Choice of the prior hyperparameters"
      ]
    },
    {
      "cell_type": "code",
      "metadata": {
        "id": "wIFgBDX65AGg",
        "colab_type": "code",
        "colab": {}
      },
      "source": [
        "kk = 2\n",
        "\n",
        "  #shape\n",
        "def func_sh(t):\n",
        "    def Rtpsand_sh(a):\n",
        "      return a + Ireh(t,kk)\n",
        "    return Rtpsand_sh\n",
        "  # Scale\n",
        "def func_sc(t):\n",
        "    def Rtpsand_sc(b):\n",
        "      return 1/(1/b + tlsi(t,kk))\n",
        "    return Rtpsand_sc\n",
        "\n",
        "def funcsh_inv(t):\n",
        "    def sh_invex(x):\n",
        "      return (x + Ireh(t,kk))/x\n",
        "    return inversefunc(sh_invex, domain=[0.01, 1e+11])\n"
      ],
      "execution_count": 5,
      "outputs": []
    },
    {
      "cell_type": "code",
      "metadata": {
        "id": "OSIi9pAE5Swu",
        "colab_type": "code",
        "colab": {
          "base_uri": "https://localhost:8080/",
          "height": 515
        },
        "outputId": "034eba21-71c6-4497-af26-e5a1040b84bf"
      },
      "source": [
        "# Variation of R(datyab) with rapport to the prior parameters\n",
        "\n",
        "datyab = daty_data_mifar\n",
        "\n",
        "fig = plt.figure(figsize=(7,7))\n",
        "ax = fig.gca(projection='3d')\n",
        "\n",
        "# Make data.\n",
        "X = np.linspace(0.1,5,100)\n",
        "Y = np.linspace(0.1,5,100)\n",
        "X, Y = np.meshgrid(X, Y)\n",
        "Z = func_sh(datyab)(X)*func_sc(datyab)(Y)\n",
        "W = X*Y\n",
        "# Plot the surface.\n",
        "surf = ax.plot_surface(X, Y, Z, cmap=cm.coolwarm,\n",
        "                       linewidth=0, antialiased=False)\n",
        "#surf = ax.plot_surface(X, Y, W, cmap=cm.coolwarm,\n",
        " #                      linewidth=0, antialiased=False)\n",
        "\n",
        "# Customize the z axis.\n",
        "ax.set_zlim(0.7, 0.8)\n",
        "ax.zaxis.set_major_locator(LinearLocator(10))\n",
        "ax.zaxis.set_major_formatter(FormatStrFormatter('%.02f'))\n",
        "\n",
        "ax.set(xlabel ='bika a', ylabel = \"taha b\", zlabel = 'R(t=1/8)')\n",
        "\n",
        "# Add a color bar which maps values to colors.\n",
        "fig.colorbar(surf, shrink=0.5, aspect=5)\n",
        "\n",
        "plt.savefig(path_to_save+'Rt18_mdg.eps')\n",
        "\n",
        "plt.show()"
      ],
      "execution_count": 7,
      "outputs": [
        {
          "output_type": "stream",
          "text": [
            "The PostScript backend does not support transparency; partially transparent artists will be rendered opaque.\n",
            "The PostScript backend does not support transparency; partially transparent artists will be rendered opaque.\n",
            "The PostScript backend does not support transparency; partially transparent artists will be rendered opaque.\n",
            "The PostScript backend does not support transparency; partially transparent artists will be rendered opaque.\n",
            "The PostScript backend does not support transparency; partially transparent artists will be rendered opaque.\n",
            "The PostScript backend does not support transparency; partially transparent artists will be rendered opaque.\n"
          ],
          "name": "stderr"
        },
        {
          "output_type": "display_data",
          "data": {
            "image/png": "[encoded data removed]",
            "text/plain": [
              "<Figure size 504x504 with 2 Axes>"
            ]
          },
          "metadata": {
            "tags": [],
            "needs_background": "light"
          }
        }
      ]
    },
    {
      "cell_type": "code",
      "metadata": {
        "id": "kKAZ3YCicDQm",
        "colab_type": "code",
        "colab": {
          "base_uri": "https://localhost:8080/",
          "height": 318
        },
        "outputId": "91b03bfc-09fa-46f9-b694-f70ea61c2ceb"
      },
      "source": [
        "# R(t) when equality between the prior and the posterior\n",
        "\n",
        "# 100 linearly spaced numbers\n",
        "x = np.linspace(0.1,60,100)\n",
        "\n",
        "fig = plt.figure()\n",
        "ax = fig.add_subplot(1, 1, 1)\n",
        "\n",
        "# plot the function\n",
        "plt.plot(x, x*funcsh_inv(datyab)(x/func_sc(datyab)(x)), 'blue')\n",
        "\n",
        "ax.set_ylim(0,3)\n",
        "ax.set(xlabel ='taha', ylabel = \"R(t)\")\n",
        "\n",
        "\n",
        "# show the plot\n",
        "plt.show()\n",
        "\n",
        "print('taha* = 1')\n",
        "print('R(t=',datyab,') =', funcsh_inv(datyab)(1/func_sc(datyab)(1)), '= bika*')\n"
      ],
      "execution_count": 8,
      "outputs": [
        {
          "output_type": "display_data",
          "data": {
            "image/png": "[encoded data removed]",
            "text/plain": [
              "<Figure size 432x288 with 1 Axes>"
            ]
          },
          "metadata": {
            "tags": [],
            "needs_background": "light"
          }
        },
        {
          "output_type": "stream",
          "text": [
            "taha* = 1\n",
            "R(t= 2020-08-01 ) = 0.7908827749759968 = bika*\n"
          ],
          "name": "stdout"
        }
      ]
    },
    {
      "cell_type": "markdown",
      "metadata": {
        "id": "LFCbJbnH6LDb",
        "colab_type": "text"
      },
      "source": [
        "# Direct computation of R(t)"
      ]
    },
    {
      "cell_type": "code",
      "metadata": {
        "id": "rQR-tjOWk5qg",
        "colab_type": "code",
        "colab": {
          "base_uri": "https://localhost:8080/",
          "height": 139
        },
        "outputId": "5603c548-2cef-4409-8089-8cd48a267c7a"
      },
      "source": [
        "#shape\n",
        "def func_sh(t):\n",
        "    def Rtpsand_sh(a):\n",
        "      return a + Ireh(t,kk)\n",
        "    return Rtpsand_sh\n",
        "\n",
        "# Scale\n",
        "def func_sc(t):\n",
        "    def Rtpsand_sc(b):\n",
        "      return 1/(1/b + tlsi(t,kk))\n",
        "    return Rtpsand_sc\n",
        "\n",
        "\n",
        "def funcsh_inv(t):\n",
        "    def sh_invex(x):\n",
        "      return (x + Ireh(t,kk))/x\n",
        "    return inversefunc(sh_invex, domain=[1e-11, 1e+11])\n",
        "\n",
        "def Rt_salan(t):\n",
        "    ffunc_sh = func_sh(t)\n",
        "    ffunc_sc = func_sc(t)\n",
        "    ffuncsh_inv = funcsh_inv(t)\n",
        "    return ffuncsh_inv(1/ffunc_sc(1))\n",
        "\n",
        "# The 95th and 5th percentiles of Rt\n",
        "\n",
        "def perc75(t):\n",
        "    return gengamma.ppf(0.75, func_sh(t)(Rt_salan(t)), 1, loc = 0, scale = func_sc(t)(1))\n",
        "\n",
        "def perc25(t):\n",
        "    return gengamma.ppf(0.25, func_sh(t)(Rt_salan(t)), 1, loc = 0, scale = func_sc(t)(1))\n",
        "\n",
        "def Rtps_sal(t):\n",
        "  return dIvao['Voatomb'].loc[format_date(t)]/lsi(t)\n",
        "\n",
        "\n",
        "print(\"Kajy mivantana ny R hoan'ny\", daty_data_mifar, ':', Rtps_sal(daty_data_mifar))\n",
        "\n",
        "daty_oh1 = datetime.date(2020,7,20)\n",
        "print(\"Salan'isa R hoan'ny\", daty_oh1, ':', Rt_salan(daty_oh1))\n",
        "print(\"Kartily @ 75% R hoan'ny\", daty_oh1, ':', perc75(daty_oh1))\n",
        "print(\"Kartily @ 25% R hoan'ny\", daty_oh1, ':', perc25(daty_oh1))\n",
        "\n",
        "print(\"Salan'isa R hoan'ny\", daty_data_mifar, ':', Rt_salan(daty_data_mifar))\n",
        "print(\"Kartily @ 75% R hoan'ny\", daty_data_mifar, ':', perc75(daty_data_mifar))\n",
        "print(\"Kartily @ 25% R hoan'ny\", daty_data_mifar, ':', perc25(daty_data_mifar))\n"
      ],
      "execution_count": 9,
      "outputs": [
        {
          "output_type": "stream",
          "text": [
            "Kajy mivantana ny R hoan'ny 2020-08-01 : 1.2290132107016138\n",
            "Salan'isa R hoan'ny 2020-07-20 : 0.49529277514701403\n",
            "Kartily @ 75% R hoan'ny 2020-07-20 : 0.51413052384636\n",
            "Kartily @ 25% R hoan'ny 2020-07-20 : 0.47586412185482785\n",
            "Salan'isa R hoan'ny 2020-08-01 : 0.7908827712927655\n",
            "Kartily @ 75% R hoan'ny 2020-08-01 : 0.81386529797337\n",
            "Kartily @ 25% R hoan'ny 2020-08-01 : 0.7673537565182242\n"
          ],
          "name": "stdout"
        }
      ]
    },
    {
      "cell_type": "code",
      "metadata": {
        "id": "YV8fK-qnoBcd",
        "colab_type": "code",
        "colab": {
          "base_uri": "https://localhost:8080/",
          "height": 573
        },
        "outputId": "8d149ada-0e3b-4003-84ec-c1dac33ad64f"
      },
      "source": [
        "rt_mdg_lst = []\n",
        "\n",
        "daty_oh2 = daty_data_mifar\n",
        "for i in range(32):\n",
        "  t = daty_oh2 - datetime.timedelta(days = i)\n",
        "  rt_amboar = Rt_salan(t)\n",
        "  rt_mdg_lst.append((t,Rt_salan(t)))\n",
        "\n",
        "rt_mdg_lst"
      ],
      "execution_count": 14,
      "outputs": [
        {
          "output_type": "execute_result",
          "data": {
            "text/plain": [
              "[(datetime.date(2020, 8, 1), array(0.79088277)),\n",
              " (datetime.date(2020, 7, 31), array(0.82851654)),\n",
              " (datetime.date(2020, 7, 30), array(0.97739697)),\n",
              " (datetime.date(2020, 7, 29), array(0.96528936)),\n",
              " (datetime.date(2020, 7, 28), array(1.26110022)),\n",
              " (datetime.date(2020, 7, 27), array(1.28033692)),\n",
              " (datetime.date(2020, 7, 26), array(0.85047758)),\n",
              " (datetime.date(2020, 7, 25), array(0.74572485)),\n",
              " (datetime.date(2020, 7, 24), array(0.90830044)),\n",
              " (datetime.date(2020, 7, 23), array(1.14486246)),\n",
              " (datetime.date(2020, 7, 22), array(1.64587504)),\n",
              " (datetime.date(2020, 7, 21), array(1.00411325)),\n",
              " (datetime.date(2020, 7, 20), array(0.49529278)),\n",
              " (datetime.date(2020, 7, 19), array(0.99054494)),\n",
              " (datetime.date(2020, 7, 18), array(1.37056665)),\n",
              " (datetime.date(2020, 7, 17), array(1.63715321)),\n",
              " (datetime.date(2020, 7, 16), array(1.46878651)),\n",
              " (datetime.date(2020, 7, 15), array(1.07102194)),\n",
              " (datetime.date(2020, 7, 14), array(1.03113542)),\n",
              " (datetime.date(2020, 7, 13), array(1.19337223)),\n",
              " (datetime.date(2020, 7, 12), array(1.93034634)),\n",
              " (datetime.date(2020, 7, 11), array(2.34546176)),\n",
              " (datetime.date(2020, 7, 10), array(1.80561987)),\n",
              " (datetime.date(2020, 7, 9), array(1.06416076)),\n",
              " (datetime.date(2020, 7, 8), array(1.25814351)),\n",
              " (datetime.date(2020, 7, 7), array(2.43482159)),\n",
              " (datetime.date(2020, 7, 6), array(2.78553587)),\n",
              " (datetime.date(2020, 7, 5), array(2.11469373)),\n",
              " (datetime.date(2020, 7, 4), array(2.16543259)),\n",
              " (datetime.date(2020, 7, 3), array(2.04268819)),\n",
              " (datetime.date(2020, 7, 2), array(1.39172919)),\n",
              " (datetime.date(2020, 7, 1), array(1.24809619))]"
            ]
          },
          "metadata": {
            "tags": []
          },
          "execution_count": 14
        }
      ]
    },
    {
      "cell_type": "code",
      "metadata": {
        "id": "wFgs0JhcNuTQ",
        "colab_type": "code",
        "colab": {
          "base_uri": "https://localhost:8080/",
          "height": 34
        },
        "outputId": "17e55dd1-3fd6-4979-d2d5-e6c0e1fab01f"
      },
      "source": [
        "rt_mdg_lst[0]"
      ],
      "execution_count": 15,
      "outputs": [
        {
          "output_type": "execute_result",
          "data": {
            "text/plain": [
              "(datetime.date(2020, 8, 1), array(0.79088277))"
            ]
          },
          "metadata": {
            "tags": []
          },
          "execution_count": 15
        }
      ]
    },
    {
      "cell_type": "code",
      "metadata": {
        "id": "6I2v8asYqGNm",
        "colab_type": "code",
        "colab": {}
      },
      "source": [
        "# MRC results \n",
        "\n",
        "r_mdg197 = 1.41\n",
        "r_mdg177 = 1.45\n",
        "r_mdg147 = 1.32\n",
        "r_mdg137 = 1.3\n",
        "r_mdg107 = 1.31\n",
        "r_mdg067 = 1.49\n",
        "r_mdg037 = 1.47\n",
        "r_mdg027 = 1.42\n",
        "r_mdg017 = 1.36\n",
        "r_mdg256 = 1.89\n",
        "r_mdg226 = 1.45\n",
        "r_mdg206 = 1.26\n",
        "r_mdg186 = 1.41\n",
        "r_mdg166 = 1.33\n",
        "r_mdg156 = 1.07\n",
        "r_mdg146 = 0.9\n",
        "r_mdg136 = 1.13\n",
        "r_mdg086 = 1.92\n",
        "r_mdg056 = 2.01\n",
        "r_mdg036 = 2.02\n",
        "r_mdg016 = 2.1\n",
        "r_mdg315 = 2.11\n",
        "r_mdg305 = 2.15"
      ],
      "execution_count": 12,
      "outputs": []
    },
    {
      "cell_type": "code",
      "metadata": {
        "id": "QBhle4cYtV7v",
        "colab_type": "code",
        "colab": {
          "base_uri": "https://localhost:8080/",
          "height": 156
        },
        "outputId": "ce427d93-7e8f-41b4-e04b-d727cc2fd8eb"
      },
      "source": [
        "elan_mdg197 = r_mdg197 - rt_mdg_lst[13][1]\n",
        "elan_mdg177 = r_mdg177 - rt_mdg_lst[15][1]\n",
        "elan_mdg147 = r_mdg147 - rt_mdg_lst[18][1]\n",
        "elan_mdg137 = r_mdg137 - rt_mdg_lst[19][1]\n",
        "elan_mdg107 = r_mdg107 - rt_mdg_lst[22][1]\n",
        "elan_mdg067 = r_mdg067 - rt_mdg_lst[26][1]\n",
        "\n",
        "elan_mdg037 = r_mdg037 - rt_mdg_lst[29][1]\n",
        "elan_mdg027 = r_mdg027 - rt_mdg_lst[30][1]\n",
        "\n",
        "print('197',elan_mdg197,rt_mdg_lst[13])\n",
        "print('177',elan_mdg177,rt_mdg_lst[15])\n",
        "print('147',elan_mdg147,rt_mdg_lst[18])\n",
        "print('137',elan_mdg137,rt_mdg_lst[19])\n",
        "print('107',elan_mdg107,rt_mdg_lst[22])\n",
        "print('067',elan_mdg067,rt_mdg_lst[26])\n",
        "print('037',elan_mdg037,rt_mdg_lst[29])\n",
        "print('027',elan_mdg027,rt_mdg_lst[30])\n"
      ],
      "execution_count": 16,
      "outputs": [
        {
          "output_type": "stream",
          "text": [
            "197 0.419455061247609 (datetime.date(2020, 7, 19), array(0.99054494))\n",
            "177 -0.1871532063543382 (datetime.date(2020, 7, 17), array(1.63715321))\n",
            "147 0.2888645811130286 (datetime.date(2020, 7, 14), array(1.03113542))\n",
            "137 0.10662777467567519 (datetime.date(2020, 7, 13), array(1.19337223))\n",
            "107 -0.49561986597109975 (datetime.date(2020, 7, 10), array(1.80561987))\n",
            "067 -1.2955358652333515 (datetime.date(2020, 7, 6), array(2.78553587))\n",
            "037 -0.5726881910960302 (datetime.date(2020, 7, 3), array(2.04268819))\n",
            "027 0.028270813347863744 (datetime.date(2020, 7, 2), array(1.39172919))\n"
          ],
          "name": "stdout"
        }
      ]
    },
    {
      "cell_type": "code",
      "metadata": {
        "id": "foSta6sC6GiD",
        "colab_type": "code",
        "colab": {}
      },
      "source": [
        "037 -0.5726098483113142 (datetime.date(2020, 7, 3), array(2.04260985))\n",
        "027 0.02835208638426856 (datetime.date(2020, 7, 2), array(1.39164791))\n",
        "256 0.8021534559475563 (datetime.date(2020, 6, 25), array(1.08784654))\n",
        "226 -0.5014916536325702 (datetime.date(2020, 6, 22), array(1.95149165))\n",
        "206 -0.361306138560324 (datetime.date(2020, 6, 20), array(1.62130614))\n",
        "186 -0.02162642793571723 (datetime.date(2020, 6, 18), array(1.43162643))\n",
        "166 0.6492157941416283 (datetime.date(2020, 6, 16), array(0.68078421))\n",
        "156 0.526489774932504 (datetime.date(2020, 6, 15), array(0.54351023))\n",
        "146 0.32353315210354017 (datetime.date(2020, 6, 14), array(0.57646685))\n",
        "136 0.4749572987988042 (datetime.date(2020, 6, 13), array(0.6550427))\n",
        "086 1.0543351102904648 (datetime.date(2020, 6, 8), array(0.86566489))\n",
        "056 1.139592276201465 (datetime.date(2020, 6, 5), array(0.87040772))\n",
        "036 0.931962123621884 (datetime.date(2020, 6, 3), array(1.08803788))\n",
        "016 1.1491939416892416 (datetime.date(2020, 6, 1), array(0.95080606))\n",
        "315 0.7537546213260404 (datetime.date(2020, 5, 31), array(1.35624538))\n",
        "305 0.5758312750280978 (datetime.date(2020, 5, 30), array(1.57416872))"
      ],
      "execution_count": null,
      "outputs": []
    },
    {
      "cell_type": "code",
      "metadata": {
        "id": "O8NMPP76S_zA",
        "colab_type": "code",
        "colab": {}
      },
      "source": [
        "# Plotting everything except the first 7 days\n",
        "\n",
        "np.random.seed(12345)\n",
        "\n",
        "formatf_date = lambda date_py: '{}/{}'.format(date_py.day, str(date_py.month)[0:1])\n",
        "\n",
        "daty_lst = []\n",
        "\n",
        "data_Rt_lst = []\n",
        "\n",
        "for i in range(round(((daty_data_mifar - daty_data_manom).days) -27)):\n",
        "  t = daty_data_manom + datetime.timedelta(days = i+1 +27)\n",
        "  data_amboar = [gengamma.rvs( func_sh(t)(Rt_salan(t)), 1, loc = 0, scale = func_sc(t)(1)) for j in range(1000)]\n",
        "  daty_lst.append(formatf_date(t))\n",
        "  data_Rt_lst.append(data_amboar)\n"
      ],
      "execution_count": 17,
      "outputs": []
    },
    {
      "cell_type": "code",
      "metadata": {
        "id": "xWCmVJfNVEmV",
        "colab_type": "code",
        "colab": {
          "base_uri": "https://localhost:8080/",
          "height": 749
        },
        "outputId": "b5145847-5ac8-4571-8c24-b57caf793c5c"
      },
      "source": [
        "# Plotting everything except the first 7 days\n",
        "\n",
        "\n",
        "fig, ax = plt.subplots(figsize=(12, 12))\n",
        "\n",
        "sns.boxplot(daty_lst, data_Rt_lst, color='white', width=0.2, showfliers=False, ax=ax)\n",
        "ax.axhline(y=1, color='b', linestyle='dashed', label =\"R = 1\")\n",
        "\n",
        "ax.set(xlabel ='Andro', ylabel = \"R hoan'i Madagasikara\")\n",
        "ax.legend(loc= 'best')\n",
        "\n",
        "\n",
        "plt.savefig(path_to_save+'Rt18_mdg.eps')\n",
        "plt.savefig(path_to_save+'Rt18_mdg.png')\n",
        "\n",
        "plt.show()"
      ],
      "execution_count": 18,
      "outputs": [
        {
          "output_type": "stream",
          "text": [
            "The PostScript backend does not support transparency; partially transparent artists will be rendered opaque.\n",
            "The PostScript backend does not support transparency; partially transparent artists will be rendered opaque.\n"
          ],
          "name": "stderr"
        },
        {
          "output_type": "display_data",
          "data": {
            "image/png": "[encoded data removed]",
            "text/plain": [
              "<Figure size 864x864 with 1 Axes>"
            ]
          },
          "metadata": {
            "tags": [],
            "needs_background": "light"
          }
        }
      ]
    },
    {
      "cell_type": "code",
      "metadata": {
        "id": "BjrHDqX_BaGk",
        "colab_type": "code",
        "colab": {
          "base_uri": "https://localhost:8080/",
          "height": 641
        },
        "outputId": "55763b8c-3166-4f43-b62c-6ffb3386e849"
      },
      "source": [
        "# Plotting the last 10 days\n",
        "\n",
        "\n",
        "fig, ax = plt.subplots(figsize=(10, 10))\n",
        "\n",
        "sns.boxplot(daty_lst[len(daty_lst)-10:len(daty_lst)], data_Rt_lst[len(daty_lst)-10:len(daty_lst)], color='white', width=0.2, showfliers=False, ax=ax)\n",
        "ax.axhline(y=1, color='b', linestyle='dashed', label =\"R = 1\")\n",
        "\n",
        "ax.set(xlabel ='Andro', ylabel = \"R hoan'i Madagasikara\")\n",
        "ax.legend(loc= 'best')\n",
        "\n",
        "plt.savefig(path_to_save+'Rt1810_mdg.eps')\n",
        "plt.savefig(path_to_save+'Rt1810_mdg.png')\n",
        "\n",
        "plt.show()"
      ],
      "execution_count": 19,
      "outputs": [
        {
          "output_type": "stream",
          "text": [
            "The PostScript backend does not support transparency; partially transparent artists will be rendered opaque.\n",
            "The PostScript backend does not support transparency; partially transparent artists will be rendered opaque.\n"
          ],
          "name": "stderr"
        },
        {
          "output_type": "display_data",
          "data": {
            "image/png": "[encoded data removed]",
            "text/plain": [
              "<Figure size 720x720 with 1 Axes>"
            ]
          },
          "metadata": {
            "tags": [],
            "needs_background": "light"
          }
        }
      ]
    },
    {
      "cell_type": "markdown",
      "metadata": {
        "id": "wNMgOs2BRPpn",
        "colab_type": "text"
      },
      "source": [
        "# Jeritodika ny herinandro"
      ]
    },
    {
      "cell_type": "code",
      "metadata": {
        "id": "tWu7Rmccu6QX",
        "colab_type": "code",
        "colab": {}
      },
      "source": [
        "daty_ambaj = datetime.date(2020,7,25)\n",
        "daty_amboj = datetime.date(2020,7,28)\n",
        "\n",
        "daty_data_mifarj = datetime.date(2020,7,25)"
      ],
      "execution_count": 30,
      "outputs": []
    },
    {
      "cell_type": "code",
      "metadata": {
        "id": "t2ewk96Eu_F3",
        "colab_type": "code",
        "colab": {
          "base_uri": "https://localhost:8080/",
          "height": 121
        },
        "outputId": "5413ec1f-0249-4254-d5fe-b88e82ca61de"
      },
      "source": [
        "daty_oh1 = daty_ambaj\n",
        "\n",
        "print(\"Tombana ambany: R \",daty_oh1,':',  Rt_salan(daty_oh1))\n",
        "print(\"75%-kartily R :\",':', perc75(daty_oh1))\n",
        "print(\"25%-kartily R :\", perc25(daty_oh1))\n",
        "\n",
        "daty_oh2 = daty_amboj\n",
        "\n",
        "print(\"Tombana ambony: R\", daty_oh2,':', Rt_salan(daty_oh2))\n",
        "print(\"75%-kartily R :\",':', perc75(daty_oh2))\n",
        "print(\"25%-kartily R :\", perc25(daty_oh2))\n"
      ],
      "execution_count": 31,
      "outputs": [
        {
          "output_type": "stream",
          "text": [
            "Tombana ambany: R  2020-07-25 : 0.7457248530403032\n",
            "75%-kartily R : : 0.7682592058594064\n",
            "25%-kartily R : 0.722632734949979\n",
            "Tombana ambony: R 2020-07-28 : 1.2611002174538497\n",
            "75%-kartily R : : 1.290692952830308\n",
            "25%-kartily R : 1.2309419783966196\n"
          ],
          "name": "stdout"
        }
      ]
    },
    {
      "cell_type": "markdown",
      "metadata": {
        "id": "P8He_8dCvFmt",
        "colab_type": "text"
      },
      "source": [
        "Ambany"
      ]
    },
    {
      "cell_type": "code",
      "metadata": {
        "id": "h8q9uzQWvCBw",
        "colab_type": "code",
        "colab": {}
      },
      "source": [
        "# Computing Ivao(daty_mifarj + i) for i in range(1,8)\n",
        "\n",
        "daty_m1j = daty_data_mifarj + datetime.timedelta(days = 1)\n",
        "\n",
        "Rt_amba_hitsiny = 0\n",
        "Rt_vinaj = Rt_salan(daty_ambaj) + Rt_amba_hitsiny\n",
        "\n",
        "Iv = int(Rt_vinaj*lsi(daty_m1j))\n",
        "\n",
        "dIvao.loc[pd.to_datetime(daty_m1j)] =[Iv]\n",
        "\n",
        "for i in range(1,8):\n",
        " tj = daty_m1j + datetime.timedelta(days = i)\n",
        " Ivv = int(Rt_vinaj*lsi(tj))\n",
        " dIvao.loc[pd.to_datetime(tj)] = [Ivv]"
      ],
      "execution_count": 32,
      "outputs": []
    },
    {
      "cell_type": "code",
      "metadata": {
        "id": "HTKwqjfmvNkO",
        "colab_type": "code",
        "colab": {}
      },
      "source": [
        "# Sampling\n",
        "\n",
        "np.random.seed(12345)\n",
        "\n",
        "formatf_date = lambda date_py: '{}/{}'.format(date_py.day, str(date_py.month)[0:1])\n",
        "\n",
        "daty_j_lst = []\n",
        "\n",
        "data_baj = []\n",
        "\n",
        "\n",
        "for i in range(1,8):\n",
        "  t = daty_data_mifarj + datetime.timedelta(days = i)\n",
        "  daty = formatf_date(t)\n",
        "  datyy = format_date(t)\n",
        "  data_amboar = [ poisson.rvs(dIvao.loc[datyy]) for j in range(600)]\n",
        "  daty_j_lst.append(daty)\n",
        "  data_baj.append(data_amboar)\n"
      ],
      "execution_count": 33,
      "outputs": []
    },
    {
      "cell_type": "markdown",
      "metadata": {
        "id": "h-KtRiCpvaFr",
        "colab_type": "text"
      },
      "source": [
        "Ambony"
      ]
    },
    {
      "cell_type": "code",
      "metadata": {
        "id": "fts2haQzvTr2",
        "colab_type": "code",
        "colab": {}
      },
      "source": [
        "# Computing Ivao(daty_mifarj + i) for i in range(1,8)\n",
        "\n",
        "daty_m1j = daty_data_mifarj + datetime.timedelta(days = 1)\n",
        "\n",
        "# Rt_ambo_hitsiny = (Rt_salan(daty_ambaj)- Rt_salan(daty_amboj))/2\n",
        "\n",
        "Rt_ambo_hitsiny = 0\n",
        "Rt_vinaj = Rt_salan(daty_amboj) + Rt_ambo_hitsiny\n",
        "\n",
        "Iv = int(Rt_vinaj*lsi(daty_m1j))\n",
        "\n",
        "dIvao.loc[pd.to_datetime(daty_m1j)] =[Iv]\n",
        "\n",
        "for i in range(1,8):\n",
        " tj = daty_m1j + datetime.timedelta(days = i)\n",
        " Ivv = int(Rt_vinaj*lsi(tj))\n",
        " dIvao.loc[pd.to_datetime(tj)] = [Ivv]"
      ],
      "execution_count": 38,
      "outputs": []
    },
    {
      "cell_type": "code",
      "metadata": {
        "id": "wxysGFoEvcIO",
        "colab_type": "code",
        "colab": {}
      },
      "source": [
        "# Sampling \n",
        "\n",
        "np.random.seed(12345)\n",
        "\n",
        "formatf_date = lambda date_py: '{}/{}'.format(date_py.day, str(date_py.month)[0:1])\n",
        "\n",
        "daty_j_lst = []\n",
        "\n",
        "data_boj = []\n",
        "\n",
        "\n",
        "for i in range(1,8):\n",
        "  t = daty_data_mifarj + datetime.timedelta(days = i)\n",
        "  daty = formatf_date(t)\n",
        "  datyy = format_date(t)\n",
        "  data_amboar = [ poisson.rvs(dIvao.loc[datyy]) for j in range(600)]\n",
        "  daty_j_lst.append(daty)\n",
        "  data_boj.append(data_amboar)\n"
      ],
      "execution_count": 39,
      "outputs": []
    },
    {
      "cell_type": "markdown",
      "metadata": {
        "id": "XDQzLbjBvhq5",
        "colab_type": "text"
      },
      "source": [
        "Sary"
      ]
    },
    {
      "cell_type": "code",
      "metadata": {
        "id": "kY3QqP0zvhAu",
        "colab_type": "code",
        "colab": {
          "base_uri": "https://localhost:8080/",
          "height": 369
        },
        "outputId": "140d6652-7283-4abd-a791-b418011b77e3"
      },
      "source": [
        "# Plotting the evaluation of the last 7 days\n",
        "\n",
        "fig, ax = plt.subplots(figsize=(10,5))\n",
        "box = sns.boxplot(daty_j_lst, data_baj, color='white', width=0.1, showfliers=False, ax=ax)\n",
        "box = sns.boxplot(daty_j_lst, data_boj, color='grey', width=0.1, showfliers=False, ax=ax)\n",
        "ax.plot(daty_j_lst, dIvao.loc[pd.to_datetime(daty_m1j):pd.to_datetime(daty_m1j + datetime.timedelta(days = 6))], marker =\"o\",ls = 'None', color='blue',label=\"Voa vaovao voatily\")\n",
        "ax.set(xlabel = 'Andro teo aloha', ylabel=\"Tombana voa vaovao\")\n",
        "\n",
        "plt.legend(loc= 'best')\n",
        "\n",
        "plt.savefig(path_to_save+'Iv267j_mdg.eps')\n",
        "plt.savefig(path_to_save+'Iv267j_mdg.png')\n",
        "\n",
        "plt.show()"
      ],
      "execution_count": 41,
      "outputs": [
        {
          "output_type": "stream",
          "text": [
            "The PostScript backend does not support transparency; partially transparent artists will be rendered opaque.\n",
            "The PostScript backend does not support transparency; partially transparent artists will be rendered opaque.\n"
          ],
          "name": "stderr"
        },
        {
          "output_type": "display_data",
          "data": {
            "image/png": "[encoded data removed]",
            "text/plain": [
              "<Figure size 720x360 with 1 Axes>"
            ]
          },
          "metadata": {
            "tags": [],
            "needs_background": "light"
          }
        }
      ]
    },
    {
      "cell_type": "markdown",
      "metadata": {
        "id": "ZqeJNOCoBksa",
        "colab_type": "text"
      },
      "source": [
        "## Andro 7 manaraka"
      ]
    },
    {
      "cell_type": "code",
      "metadata": {
        "id": "OdO2UkPDvqT4",
        "colab_type": "code",
        "colab": {}
      },
      "source": [
        "# Choice of R(t) for the forecasting\n",
        "\n",
        "# Dates for which R(t) is minimum and maximum during the last 10 days\n",
        "\n",
        "daty_amba = datetime.date(2020,7,31)\n",
        "daty_ambo = datetime.date(2020,7,28)"
      ],
      "execution_count": 42,
      "outputs": []
    },
    {
      "cell_type": "code",
      "metadata": {
        "id": "oor4EWeqvs6u",
        "colab_type": "code",
        "colab": {}
      },
      "source": [
        "# Computing Ivao(daty_mifar + i) for i in range(1,8)\n",
        "\n",
        "daty_m1 = daty_data_mifar + datetime.timedelta(days = 1)\n",
        "\n",
        "Iv = int(Rt_salan(daty_amba)*lsi(daty_m1))\n",
        "\n",
        "dIvao.loc[pd.to_datetime(daty_m1)] =[Iv]\n",
        "\n",
        "for i in range(1,8):\n",
        " errt = daty_m1 + datetime.timedelta(days = i)\n",
        " Ivv = int(Rt_salan(daty_amba)*lsi(errt))\n",
        " dIvao.loc[pd.to_datetime(errt)] =[Ivv]\n"
      ],
      "execution_count": 43,
      "outputs": []
    },
    {
      "cell_type": "markdown",
      "metadata": {
        "id": "qMlBra9CocMd",
        "colab_type": "text"
      },
      "source": [
        "## Vinavina hafa"
      ]
    },
    {
      "cell_type": "code",
      "metadata": {
        "id": "Km8Na_cDowO3",
        "colab_type": "code",
        "colab": {}
      },
      "source": [
        "# Choice of R(t) for the forecasting\n",
        "\n",
        "# Dates for which R(t) is minimum and maximum during the last 10 days\n",
        "\n",
        "daty_amba = datetime.date(2020,6,15)\n",
        "daty_ambo = datetime.date(2020,6,11)\n"
      ],
      "execution_count": null,
      "outputs": []
    },
    {
      "cell_type": "markdown",
      "metadata": {
        "id": "1FWgxVvl3PxZ",
        "colab_type": "text"
      },
      "source": [
        "### Hafa ambany"
      ]
    },
    {
      "cell_type": "code",
      "metadata": {
        "id": "-W25cJ1svxWp",
        "colab_type": "code",
        "colab": {}
      },
      "source": [
        "# Computing Ivao(daty_mifar + i) for i in range(1,8)\n",
        "\n",
        "daty_m1 = daty_data_mifar + datetime.timedelta(days = 1)\n",
        "\n",
        "Iv = int(Rt_salan(daty_amba)*lsi(daty_m1))\n",
        "\n",
        "dIvao.loc[pd.to_datetime(daty_m1)] =[Iv]\n",
        "\n",
        "for i in range(1,200):\n",
        " errt = daty_m1 + datetime.timedelta(days = i)\n",
        " Ivv = int(Rt_salan(daty_amba)*lsi(errt))\n",
        " dIvao.loc[pd.to_datetime(errt)] =[Ivv]\n"
      ],
      "execution_count": null,
      "outputs": []
    },
    {
      "cell_type": "code",
      "metadata": {
        "id": "uHAkj0w8o1Uf",
        "colab_type": "code",
        "colab": {}
      },
      "source": [
        "# Sampling\n",
        "\n",
        "np.random.seed(12345)\n",
        "\n",
        "formatf_date = lambda date_py: '{}/{}'.format(date_py.day, str(date_py.month))\n",
        "\n",
        "daty_hoav_lst = []\n",
        "\n",
        "data_amba_hoav = []\n",
        "\n",
        "Ivv_dat = []\n",
        "\n",
        "for i in range(1,200):\n",
        "  t = daty_data_mifar + datetime.timedelta(days = i)\n",
        "  daty = formatf_date(t)\n",
        "  datyy = format_date(t)\n",
        "  data_amboar = [ poisson.rvs(dIvao.loc[datyy]) for j in range(600)]\n",
        "  daty_hoav_lst.append(daty)\n",
        "  data_amba_hoav.append(data_amboar)"
      ],
      "execution_count": null,
      "outputs": []
    },
    {
      "cell_type": "code",
      "metadata": {
        "id": "UhBhf1SZp2Og",
        "colab_type": "code",
        "colab": {
          "base_uri": "https://localhost:8080/",
          "height": 173
        },
        "outputId": "0f981e7f-4264-4209-c8e6-a0377bbf92b1"
      },
      "source": [
        "print('Vinavina hafa ambany')\n",
        "\n",
        "daty_oh = datetime.date(2020,9,13) \n",
        "\n",
        "Ireh_mifar = 6089\n",
        "\n",
        "print(\"Notombanana avy amin'ny R(\", daty_amba, ')', Rt_salan(daty_amba)) \n",
        "print(\"Vinavina R hoan'ny\", daty_oh, ':', Rt_salan(daty_oh))\n",
        "print(\"Vinavina kartily @ 75% R hoan'ny\",daty_oh, ':', perc75(daty_oh))\n",
        "print(\"Vinavina kartily @ 25% R hoan'ny\", daty_oh, ':', perc25(daty_oh))\n",
        "print(\"Vinavina isan'ny voa vaovao hoan'ny\", daty_oh, ':', dIvao['Voatomb'].loc[format_date(daty_oh)])\n",
        "\n",
        "print(\"Vinavina kartily @ 75% R hoan'ny\", daty_oh, ':', poisson.ppf(0.95, dIvao.loc[format_date(daty_oh)]))\n",
        "print(\"Vinavina kartily @ 25% R hoan'ny\", daty_oh, ':', poisson.ppf(0.25, dIvao.loc[format_date(daty_oh)]))\n",
        "\n",
        "print(\"Isan'ny voa rehetra hatr@\", daty_oh, ':', Ireh_mifar + Ireh(daty_oh,(daty_oh - daty_data_mifar).days))"
      ],
      "execution_count": null,
      "outputs": [
        {
          "output_type": "stream",
          "text": [
            "Vinavina hafa ambany\n",
            "Notombanana avy amin'ny R( 2020-06-15 ) 0.543510225067496\n",
            "Vinavina R hoan'ny 2020-09-13 : 0.2829119815637407\n",
            "Vinavina kartily @ 75% R hoan'ny 2020-09-13 : 0.39006751921805327\n",
            "Vinavina kartily @ 25% R hoan'ny 2020-09-13 : 0.10187573291040768\n",
            "Vinavina isan'ny voa vaovao hoan'ny 2020-09-13 : 0.0\n",
            "Vinavina kartily @ 75% R hoan'ny 2020-09-13 : [0.]\n",
            "Vinavina kartily @ 25% R hoan'ny 2020-09-13 : [0.]\n",
            "Isan'ny voa rehetra hatr@ 2020-09-13 : 8320.0\n"
          ],
          "name": "stdout"
        }
      ]
    },
    {
      "cell_type": "markdown",
      "metadata": {
        "id": "OTLM-YmW3VV_",
        "colab_type": "text"
      },
      "source": [
        "### Hafa ambony"
      ]
    },
    {
      "cell_type": "code",
      "metadata": {
        "id": "RTzyK7nW3MwD",
        "colab_type": "code",
        "colab": {}
      },
      "source": [
        "# Computing Ivao(daty_mifar + i) for i in range(1,8)\n",
        "\n",
        "daty_m1 = daty_data_mifar + datetime.timedelta(days = 1)\n",
        "\n",
        "Iv = int(Rt_salan(daty_ambo)*lsi(daty_m1))\n",
        "\n",
        "dIvao.loc[pd.to_datetime(daty_m1)] =[Iv]\n",
        "\n",
        "for i in range(1,200):\n",
        " errt = daty_m1 + datetime.timedelta(days = i)\n",
        " Ivv = int(Rt_salan(daty_ambo)*lsi(errt))\n",
        " dIvao.loc[pd.to_datetime(errt)] =[Ivv]\n"
      ],
      "execution_count": null,
      "outputs": []
    },
    {
      "cell_type": "code",
      "metadata": {
        "id": "0ETaPvGY4WFe",
        "colab_type": "code",
        "colab": {}
      },
      "source": [
        "# Sampling\n",
        "\n",
        "np.random.seed(12345)\n",
        "\n",
        "formatf_date = lambda date_py: '{}/{}'.format(date_py.day, str(date_py.month))\n",
        "\n",
        "daty_hoav_lst = []\n",
        "\n",
        "data_ambo_hoav = []\n",
        "\n",
        "Ivv_dat = []\n",
        "\n",
        "for i in range(1,200):\n",
        "  t = daty_data_mifar + datetime.timedelta(days = i)\n",
        "  daty = formatf_date(t)\n",
        "  datyy = format_date(t)\n",
        "  data_amboar = [ poisson.rvs(dIvao.loc[datyy]) for j in range(600)]\n",
        "  daty_hoav_lst.append(daty)\n",
        "  data_ambo_hoav.append(data_amboar)"
      ],
      "execution_count": null,
      "outputs": []
    },
    {
      "cell_type": "code",
      "metadata": {
        "id": "zw7L8y9w4ZV9",
        "colab_type": "code",
        "colab": {
          "base_uri": "https://localhost:8080/",
          "height": 173
        },
        "outputId": "8612f298-985f-4835-b9c0-afd3a2465546"
      },
      "source": [
        "print('Vinavina ambony')\n",
        "\n",
        "daty_oh = datetime.date(2020,9,16)\n",
        "\n",
        "print(\"Notombanana avy amin'ny R(\", daty_ambo, ')', Rt_salan(daty_ambo)) \n",
        "print(\"Vinavina R hoan'ny\", daty_oh, ':', Rt_salan(daty_oh))\n",
        "print(\"Vinavina kartily @ 75% R hoan'ny\",daty_oh, ':', perc75(daty_oh))\n",
        "print(\"Vinavina kartily @ 25% R hoan'ny\", daty_oh, ':', perc25(daty_oh))\n",
        "print(\"Vinavina isan'ny voa vaovao hoan'ny\", daty_oh, ':', dIvao['Voatomb'].loc[format_date(daty_oh)])\n",
        "\n",
        "print(\"Vinavina kartily @ 75% R hoan'ny\", daty_oh, ':', poisson.ppf(0.95, dIvao.loc[format_date(daty_oh)]))\n",
        "print(\"Vinavina kartily @ 25% R hoan'ny\", daty_oh, ':', poisson.ppf(0.25, dIvao.loc[format_date(daty_oh)]))\n",
        "\n",
        "print(\"Isan'ny voa rehetra hatr@\", daty_oh, ':', Ireh_mifar + Ireh(daty_oh,(daty_oh - daty_data_mifar).days))"
      ],
      "execution_count": null,
      "outputs": [
        {
          "output_type": "stream",
          "text": [
            "Vinavina ambony\n",
            "Notombanana avy amin'ny R( 2020-06-11 ) 0.8446466465307488\n",
            "Vinavina R hoan'ny 2020-09-16 : 0.8373441188029643\n",
            "Vinavina kartily @ 75% R hoan'ny 2020-09-16 : 0.8897603570083598\n",
            "Vinavina kartily @ 25% R hoan'ny 2020-09-16 : 0.7821597886958924\n",
            "Vinavina isan'ny voa vaovao hoan'ny 2020-09-16 : 54.0\n",
            "Vinavina kartily @ 75% R hoan'ny 2020-09-16 : [66.]\n",
            "Vinavina kartily @ 25% R hoan'ny 2020-09-16 : [49.]\n",
            "Isan'ny voa rehetra hatr@ 2020-09-16 : 14280.0\n"
          ],
          "name": "stdout"
        }
      ]
    },
    {
      "cell_type": "markdown",
      "metadata": {
        "id": "0YLgznnw4cjz",
        "colab_type": "text"
      },
      "source": [
        "### Sary"
      ]
    },
    {
      "cell_type": "code",
      "metadata": {
        "id": "iSLMx6w04eU5",
        "colab_type": "code",
        "colab": {
          "base_uri": "https://localhost:8080/",
          "height": 349
        },
        "outputId": "73cbd5cc-32d9-4195-a954-902be875cf4b"
      },
      "source": [
        "# Plotting boundaries for the next 7 days\n",
        "\n",
        "fig, ax = plt.subplots(figsize=(30,15))\n",
        "box = sns.boxplot(daty_hoav_lst, data_amba_hoav, color='white', width=0.1, showfliers=False, ax=ax)\n",
        "box = sns.boxplot(daty_hoav_lst, data_ambo_hoav, color='grey', width=0.1, showfliers=False, ax=ax)\n",
        "\n",
        "ax.set_xlabel('Andro any aoriana')\n",
        "ax.set_ylabel(\"Vinavina isan'ny voa vaovao\")\n",
        "\n",
        "plt.savefig(path_to_save+'Iv167ahoav_mdg.eps')\n",
        "plt.savefig(path_to_save+'Iv167ahoav_mdg.png')\n",
        "\n",
        "plt.show()"
      ],
      "execution_count": null,
      "outputs": [
        {
          "output_type": "display_data",
          "data": {
            "image/png": "[encoded data removed]",
            "text/plain": [
              "<Figure size 2160x1080 with 1 Axes>"
            ]
          },
          "metadata": {
            "tags": [],
            "needs_background": "light"
          }
        }
      ]
    },
    {
      "cell_type": "code",
      "metadata": {
        "id": "2uN3no3MBnE9",
        "colab_type": "code",
        "colab": {
          "base_uri": "https://localhost:8080/",
          "height": 275
        },
        "outputId": "c96c7685-65cb-45d0-b164-9d7c5bca1b96"
      },
      "source": [
        "# Plotting boundaries for the next 7 days\n",
        "\n",
        "fig, ax = plt.subplots(figsize=(14,5))\n",
        "box = sns.boxplot(daty_hoav_lst[143:171], data_amba_hoav[143:171], color='white', width=0.1, showfliers=False, ax=ax)\n",
        "box = sns.boxplot(daty_hoav_lst[143:171], data_ambo_hoav[143:171], color='grey', width=0.1, showfliers=False, ax=ax)\n",
        "\n",
        "ax.set_xlabel('Andro any aoriana')\n",
        "ax.set_ylabel(\"Vinavina isan'ny voa vaovao\")\n",
        "\n",
        "plt.savefig(path_to_save+'Iv167a31hoav_mdg.eps')\n",
        "plt.savefig(path_to_save+'Iv167a31hoav_mdg.png')\n",
        "\n",
        "plt.show()"
      ],
      "execution_count": null,
      "outputs": [
        {
          "output_type": "display_data",
          "data": {
            "image/png": "[encoded data removed]",
            "text/plain": [
              "<Figure size 1008x360 with 1 Axes>"
            ]
          },
          "metadata": {
            "tags": [],
            "needs_background": "light"
          }
        }
      ]
    }
  ]
}