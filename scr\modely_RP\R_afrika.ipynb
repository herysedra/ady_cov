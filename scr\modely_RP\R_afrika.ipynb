{
  "nbformat": 4,
  "nbformat_minor": 0,
  "metadata": {
    "colab": {
      "name": "R_afrika",
      "provenance": [],
      "collapsed_sections": [],
      "authorship_tag": "ABX9TyNytnJa/8Tydes5Dc24YAe/",
      "include_colab_link": true
    },
    "kernelspec": {
      "name": "python3",
      "display_name": "Python 3"
    }
  },
  "cells": [
    {
      "cell_type": "markdown",
      "metadata": {
        "id": "view-in-github",
        "colab_type": "text"
      },
      "source": [
        "<a href=\"https://colab.research.google.com/github/herysedra/ady_cov/blob/master/scr%5Cmodely_RP%5CR_afrika.ipynb\" target=\"_parent\"><img src=\"https://colab.research.google.com/assets/colab-badge.svg\" alt=\"Open In Colab\"/></a>"
      ]
    },
    {
      "cell_type": "code",
      "metadata": {
        "id": "x3Husp8bHUzo",
        "colab_type": "code",
        "colab": {
          "base_uri": "https://localhost:8080/",
          "height": 124
        },
        "outputId": "56c1b313-f8bf-4d66-8ce3-2e5367998e42"
      },
      "source": [
        "from google.colab import drive\n",
        "drive.mount('/content/drive')"
      ],
      "execution_count": 1,
      "outputs": [
        {
          "output_type": "stream",
          "text": [
            "Go to this URL in a browser: https://accounts.google.com/o/oauth2/auth?client_id=947318989803-6bn6qk8qdgf4n4g3pfee6491hc0brc4i.apps.googleusercontent.com&redirect_uri=urn%3aietf%3awg%3aoauth%3a2.0%3aoob&response_type=code&scope=email%20https%3a%2f%2fwww.googleapis.com%2fauth%2fdocs.test%20https%3a%2f%2fwww.googleapis.com%2fauth%2fdrive%20https%3a%2f%2fwww.googleapis.com%2fauth%2fdrive.photos.readonly%20https%3a%2f%2fwww.googleapis.com%2fauth%2fpeopleapi.readonly\n",
            "\n",
            "Enter your authorization code:\n",
            "··········\n",
            "Mounted at /content/drive\n"
          ],
          "name": "stdout"
        }
      ]
    },
    {
      "cell_type": "code",
      "metadata": {
        "id": "x8ZWL-d5HeLM",
        "colab_type": "code",
        "colab": {
          "base_uri": "https://localhost:8080/",
          "height": 228
        },
        "outputId": "b01f1b6f-16bf-4378-b090-d8c6689e2a5c"
      },
      "source": [
        "!pip install pynverse"
      ],
      "execution_count": 2,
      "outputs": [
        {
          "output_type": "stream",
          "text": [
            "Collecting pynverse\n",
            "  Downloading https://files.pythonhosted.org/packages/88/f8/fb90087055b1502def9b6e835e80fa548996bf1439a81583e592f388f4c9/pynverse-0.1.4.4.tar.gz\n",
            "Requirement already satisfied: scipy>=0.11 in /usr/local/lib/python3.6/dist-packages (from pynverse) (1.4.1)\n",
            "Requirement already satisfied: numpy>=1.6 in /usr/local/lib/python3.6/dist-packages (from pynverse) (1.18.5)\n",
            "Building wheels for collected packages: pynverse\n",
            "  Building wheel for pynverse (setup.py) ... \u001b[?25l\u001b[?25hdone\n",
            "  Created wheel for pynverse: filename=pynverse-0.1.4.4-cp36-none-any.whl size=6350 sha256=ff35ff6478599dc54244e8b24432e6bf4bb055e38d922c84940b373ceb7ea707\n",
            "  Stored in directory: /root/.cache/pip/wheels/80/ab/86/ec93f37613f012ba3e65c2bbd67e5c54cbc00d237574100c24\n",
            "Successfully built pynverse\n",
            "Installing collected packages: pynverse\n",
            "Successfully installed pynverse-0.1.4.4\n"
          ],
          "name": "stdout"
        }
      ]
    },
    {
      "cell_type": "code",
      "metadata": {
        "id": "gAYHce8AHsgI",
        "colab_type": "code",
        "colab": {
          "base_uri": "https://localhost:8080/",
          "height": 72
        },
        "outputId": "481cc68f-b3a0-45fe-c273-568d0266e1b8"
      },
      "source": [
        "import pandas as pd\n",
        "import numpy as np\n",
        "import matplotlib.pyplot as plt\n",
        "import scipy.stats\n",
        "import matplotlib\n",
        "import pickle\n",
        "\n",
        "import datetime\n",
        "import time\n",
        "from datetime import date\n",
        "\n",
        "import matplotlib.dates as mdates\n",
        "from matplotlib.dates import DateFormatter\n",
        "import seaborn as sns\n",
        "\n",
        "from numpy import log,exp\n",
        "from numpy.random import multinomial\n",
        "from scipy.stats import uniform, gamma, gengamma, poisson, nbinom, expon\n",
        "from scipy.integrate import quad\n",
        "\n",
        "from mpl_toolkits.mplot3d.axes3d import Axes3D, get_test_data\n",
        "from matplotlib import cm\n",
        "from matplotlib.ticker import LinearLocator, FormatStrFormatter\n",
        "\n",
        "from pynverse import inversefunc\n",
        "\n",
        "tilyvoa = pd.read_csv(\"/content/drive/My Drive/data/tilyvoa.csv\")\n",
        "\n",
        "dataw = pd.read_csv(\"/content/drive/My Drive/data/dataw.csv\")\n",
        "\n",
        "\n",
        "tilyvoafar = tilyvoa.groupby('Faritra')\n",
        "tilyvoamdg = tilyvoafar.get_group('Madagasikara')\n",
        "tilyvoamdg.set_index('Daty', inplace=True)\n",
        "tilyvoamdg.index = pd.to_datetime(tilyvoamdg.index)\n",
        "\n",
        "datawcount = dataw.groupby('countriesAndTerritories')\n",
        "\n",
        "datawke = datawcount.get_group('Kenya')\n",
        "datawke.set_index('dateRep', inplace=True)\n",
        "datawke.index = pd.to_datetime(datawke.index, dayfirst =True)\n",
        "\n",
        "datawcod = datawcount.get_group('Democratic_Republic_of_the_Congo')\n",
        "datawcod.set_index('dateRep', inplace=True)\n",
        "datawcod.index = pd.to_datetime(datawcod.index, dayfirst=True)\n",
        "\n",
        "datawsa = datawcount.get_group('South_Africa')\n",
        "datawsa.set_index('dateRep', inplace=True)\n",
        "datawsa.index = pd.to_datetime(datawsa.index, dayfirst=True)\n",
        "\n",
        "dataweg = datawcount.get_group('Egypt')\n",
        "dataweg.set_index('dateRep', inplace=True)\n",
        "dataweg.index = pd.to_datetime(dataweg.index, dayfirst=True)\n",
        "\n",
        "datawng = datawcount.get_group('Nigeria')\n",
        "datawng.set_index('dateRep', inplace=True)\n",
        "datawng.index = pd.to_datetime(datawng.index, dayfirst=True)\n",
        "\n",
        "datawmdg = datawcount.get_group('Madagascar')\n",
        "datawmdg.set_index('dateRep', inplace=True)\n",
        "datawmdg.index = pd.to_datetime(datawmdg.index, dayfirst=True)\n",
        "\n",
        "path_to_save = '/content/drive/My Drive/sary/'\n",
        "path_data = '/content/drive/My Drive/data/'"
      ],
      "execution_count": 3,
      "outputs": [
        {
          "output_type": "stream",
          "text": [
            "/usr/local/lib/python3.6/dist-packages/statsmodels/tools/_testing.py:19: FutureWarning: pandas.util.testing is deprecated. Use the functions in the public API at pandas.testing instead.\n",
            "  import pandas.util.testing as tm\n"
          ],
          "name": "stderr"
        }
      ]
    },
    {
      "cell_type": "markdown",
      "metadata": {
        "id": "YHEQIdTjXbBb",
        "colab_type": "text"
      },
      "source": [
        "# Madagasikara"
      ]
    },
    {
      "cell_type": "code",
      "metadata": {
        "id": "SPSROwzuXe1f",
        "colab_type": "code",
        "colab": {
          "base_uri": "https://localhost:8080/",
          "height": 858
        },
        "outputId": "cd06fe91-7a64-44e4-96c4-6c04a095f4c1"
      },
      "source": [
        "fig, ax = plt.subplots(figsize=(14, 14))\n",
        "\n",
        "ax.bar(datawmdg.index, datawmdg['cases'], width = 0.2, color='black',label=\"Antontan'isa Mdg\")\n",
        "\n",
        "\n",
        "ax.set(xlabel ='Andro', ylabel = \"Isan'ny voa vaovao\")\n",
        "\n",
        "date_form = DateFormatter(\"%d/%-m\")\n",
        "ax.xaxis.set_major_formatter(date_form)\n",
        "\n",
        "ax.xaxis.set_major_locator(mdates.DayLocator(interval=3))\n",
        "ax.legend(loc= 'best')\n",
        "\n",
        "plt.ylim(0,650)\n",
        "plt.savefig(path_to_save+'voavaomdgzao.eps')\n",
        "plt.savefig(path_to_save+'voavaomdgzao.png')\n",
        "\n",
        "plt.show()"
      ],
      "execution_count": 5,
      "outputs": [
        {
          "output_type": "stream",
          "text": [
            "The PostScript backend does not support transparency; partially transparent artists will be rendered opaque.\n",
            "The PostScript backend does not support transparency; partially transparent artists will be rendered opaque.\n"
          ],
          "name": "stderr"
        },
        {
          "output_type": "display_data",
          "data": {
            "image/png": "[encoded data removed]",
            "text/plain": [
              "<Figure size 1008x1008 with 1 Axes>"
            ]
          },
          "metadata": {
            "tags": [],
            "needs_background": "light"
          }
        }
      ]
    },
    {
      "cell_type": "code",
      "metadata": {
        "id": "yO_6gLeHYTT-",
        "colab_type": "code",
        "colab": {}
      },
      "source": [
        "# Voa vaovao (observed incidence)\n",
        "Ivao = datawmdg['cases']\n",
        "\n",
        "dIvao = pd.DataFrame(data =Ivao)\n",
        "\n",
        "dIvao.sort_index(inplace=True)\n",
        "\n",
        "# ireo daty fanombohana sy fiafaran'ny antontan'isa raisina\n",
        "# (Time range of data used for the estimation)\n",
        "\n",
        "daty_data_manom = datetime.date(2020,5,1)\n",
        "daty_data_mifar = datetime.date(2020,8,1)\n",
        "\n",
        "datyt = daty_data_mifar\n",
        "\n",
        "format_date = lambda date_py: '{}-{}-{}'.format(date_py.year, date_py.month, date_py.day)\n",
        "\n",
        "# 0/ Discretization of the serial interval distribution\n",
        "\n",
        "#Tombana mialoha (prior distributions)\n",
        "#si_sh = 1/(0.62**2) # Report 13\n",
        "#si_sc = 6.5/si_sh\n",
        "\n",
        "si_sh = (6.48**2)/(3.83**2) # Jereo Imperial Covid-19 COVID-19 response team: Short-term forecasts\n",
        "si_sc = 6.48/si_sh\n",
        "\n",
        "def discr_si(t):\n",
        "  if t == 0:\n",
        "    discrsi = 0\n",
        "  elif t == 1:\n",
        "    discrsi = gengamma.cdf(3/2, si_sh, 1, loc = 0, scale = si_sc)\n",
        "  else:\n",
        "    discrsi = gengamma.cdf(t+1/2, si_sh, 1, loc = 0, scale = si_sc) - gengamma.cdf(t-1/2, si_sh, 1, loc = 0, scale = si_sc)\n",
        "  return discrsi\n",
        "\n",
        "# 1/ The total incidence over a generic window (t-k+1,t)\n",
        "# Ireh(t,k) = sum(i = 0 to k-1) Ivao(t - i))\n",
        "\n",
        "def Ireh(t,k):\n",
        "  Irehv = 0\n",
        "  if k - 1 > (t - daty_data_manom).days:\n",
        "    for i in range((t - daty_data_manom).days + 1):\n",
        "      Irehv = Irehv + dIvao['cases'].loc[format_date(t - datetime.timedelta(days = i))]\n",
        "  else:\n",
        "    for i in range(k):\n",
        "      Irehv = Irehv + dIvao['cases'].loc[format_date(t - datetime.timedelta(days = i))]\n",
        "  return Irehv\n",
        "\n",
        "# 2/ Tool to compute the total infectiousness over a generic window (t-k+1,t)\n",
        "# Isi(t,k) = sum(i=0 to k-1) Ivao(t - i)*discr_si(i)\n",
        "\n",
        "# The definition of Isi(t,k) does not include the term Ivao(t) for i = 0 (because discr_si(0) =0)\n",
        "# so we can start the sum from i = 1; but it includes the last term Ivao(t - k + 1)*discr_si(k - 1) for i = k-1. \n",
        "\n",
        "def Isi(t,k):\n",
        "  Ivaosi = 0\n",
        "  if k - 1 > (t - daty_data_manom).days:\n",
        "    for i in range(1,(t - daty_data_manom).days + 1):\n",
        "      Ivaosi = Ivaosi + dIvao['cases'].loc[format_date(t - datetime.timedelta(days = i))]*discr_si(i)\n",
        "  else:\n",
        "    for i in range(1,k):\n",
        "      Ivaosi = Ivaosi + dIvao['cases'].loc[format_date(t - datetime.timedelta(days = i))]*discr_si(i)\n",
        "  return Ivaosi\n",
        "\n",
        "# The total infectiousness before t\n",
        "\n",
        "# lsi(t) := sum(i=0 to t-1) Ivao(t - i)*discr_si(i)\n",
        "\n",
        "def lsi(t):\n",
        "  return Isi(t, (t - daty_data_manom).days +1)\n",
        "\n",
        "  # for checking, take for example t = daty_data_manom + datetime.timedelta(days = 3)\n",
        "\n",
        "# 3/ The sum of total infectiousness before t over a generic window (t-k+1,t)\n",
        "# tlsi(t) := sum(i=t-k+1 to t)lsi(i)\n",
        "\n",
        "def tlsi(t,k):\n",
        "  tlsi = 0\n",
        "  if k - 1 > (t - daty_data_manom).days:\n",
        "    for i in range((t - daty_data_manom).days + 1):\n",
        "      tlsi = tlsi + lsi(t - datetime.timedelta(days = i))\n",
        "  else:\n",
        "    for i in range(k):\n",
        "      tlsi = tlsi + lsi(t - datetime.timedelta(days = i))\n",
        "  return tlsi\n",
        "\n",
        "# 4/ The shape parameters of the posterior predictive negative binomial of I(t+1)\n",
        "\n",
        "# pnb(t,k) = lsi(t+1)*Gamma_post_scale(R(t,k))/(1 + lsi(t+1)*Gamma_post_scale(R(t,k)))\n",
        "\n",
        "def pnb(t,k):\n",
        "  return lsi(t+datetime.timedelta(days = 1))/(1/si_sc + tlsi(t,k) + lsi(t+datetime.timedelta(days = 1)))\n",
        "\n",
        "# pnb(t,k) dia ny taha herjika hoan'ny NB hoan'ny I(t+1).\n",
        "\n",
        "# 5/ Use the pmf of the posterior predictive negative binomial to compute\n",
        "# each additive contribution at time s then for-loop for s in the time interval\n",
        "\n",
        "def lpr(t,k):\n",
        "  return -np.log(nbinom.pmf(dIvao['cases'].loc[format_date(t + datetime.timedelta(days = 1))], si_sh + Ireh(t,k), pnb(t,k)))\n"
      ],
      "execution_count": 29,
      "outputs": []
    },
    {
      "cell_type": "code",
      "metadata": {
        "id": "gXpRWmzlYenC",
        "colab_type": "code",
        "colab": {
          "base_uri": "https://localhost:8080/",
          "height": 159
        },
        "outputId": "aa5fe223-fbec-4d57-da9d-2f6818517873"
      },
      "source": [
        "# 6/ Computation of the Accumulated Predictive Error\n",
        "\n",
        "# APE9_part1 \n",
        "\n",
        "APEt91 = []\n",
        "Prt91 = []\n",
        "\n",
        "APE91 = 0\n",
        "\n",
        "for i in range((daty_data_mifar - daty_data_manom).days - 9 + 1):\n",
        "  t = daty_data_mifar - datetime.timedelta(days = i+1) \n",
        "  k = 9\n",
        "  APE91 = APE91 + lpr(t,k)\n",
        "  APEt91.append((lpr(t,k),t))\n",
        "  Prt91.append(expon.pdf(lpr(t,k)))\n",
        "\n",
        "print('For k = 9, APE91 =', APE91)\n",
        "print('APEt91 =', APEt91)\n",
        "print('Prt91 =', Prt91)\n",
        "\n",
        "# APE9_part2 \n",
        "\n",
        "APEt92 = []\n",
        "Prt92 = []\n",
        "\n",
        "APE92 = 0\n",
        "for i in range(7):\n",
        "  t = daty_data_manom - datetime.timedelta(days = i -7)\n",
        "  k = 9 - 1 - i\n",
        "  APE92 = APE92 + lpr(t,k) \n",
        "  APEt92.append((lpr(t,k),t,k))\n",
        "  Prt92.append(expon.pdf(lpr(t,k)))\n",
        "\n",
        "print('For k = 9, APE92 =', APE92)\n",
        "print('APEt92=', APEt92)\n",
        "print('Prt92=', Prt92)\n",
        "\n",
        "# For t_man such that Ivao(t_man) = Ivao(t_man + 1) = 0, we have :\n",
        "# lsi(t_man + 1) = tlsi(t_man + 1, 2) = Ireh(t_man + 1, 2) = 0,\n",
        "# so that pnb(t_man + 1, 2) = 0."
      ],
      "execution_count": null,
      "outputs": [
        {
          "output_type": "stream",
          "text": [
            "/usr/local/lib/python3.6/dist-packages/ipykernel_launcher.py:100: RuntimeWarning: divide by zero encountered in log\n"
          ],
          "name": "stderr"
        },
        {
          "output_type": "stream",
          "text": [
            "For k = 9, APE91 = inf\n",
            "APEt91 = [(inf, datetime.date(2020, 7, 14)), (inf, datetime.date(2020, 7, 13)), (inf, datetime.date(2020, 7, 12)), (inf, datetime.date(2020, 7, 11)), (inf, datetime.date(2020, 7, 10)), (inf, datetime.date(2020, 7, 9)), (inf, datetime.date(2020, 7, 8)), (inf, datetime.date(2020, 7, 7)), (inf, datetime.date(2020, 7, 6)), (inf, datetime.date(2020, 7, 5)), (inf, datetime.date(2020, 7, 4)), (inf, datetime.date(2020, 7, 3)), (inf, datetime.date(2020, 7, 2)), (inf, datetime.date(2020, 7, 1)), (inf, datetime.date(2020, 6, 30)), (inf, datetime.date(2020, 6, 29)), (inf, datetime.date(2020, 6, 28)), (inf, datetime.date(2020, 6, 27)), (626.7442844137327, datetime.date(2020, 6, 26)), (643.8241660716423, datetime.date(2020, 6, 25)), (487.8113753316386, datetime.date(2020, 6, 24)), (332.58271143757975, datetime.date(2020, 6, 23))]\n",
            "Prt91 = [0.0, 0.0, 0.0, 0.0, 0.0, 0.0, 0.0, 0.0, 0.0, 0.0, 0.0, 0.0, 0.0, 0.0, 0.0, 0.0, 0.0, 0.0, 6.433032044222724e-273, 2.4587669063479024e-280, 1.4002690309148632e-212, 3.640521885675104e-145]\n",
            "For k = 9, APE92 = 618.0797898646933\n",
            "APEt92= [(308.58486601463636, datetime.date(2020, 6, 22), 8), (127.21411169754938, datetime.date(2020, 6, 21), 7), (84.96698003210707, datetime.date(2020, 6, 20), 6), (53.5209913324035, datetime.date(2020, 6, 19), 5), (36.62156109300473, datetime.date(2020, 6, 18), 4), (3.878383360257267, datetime.date(2020, 6, 17), 3), (3.2928963347349836, datetime.date(2020, 6, 16), 2)]\n",
            "Prt92= [9.6226677542002e-135, 5.644341337579849e-56, 1.2569251844106531e-37, 5.7033339049077794e-24, 1.2458280321385316e-16, 0.020684237126683703, 0.03714610588415541]\n"
          ],
          "name": "stdout"
        }
      ]
    },
    {
      "cell_type": "code",
      "metadata": {
        "id": "WdLn2HsbYp9h",
        "colab_type": "code",
        "colab": {
          "base_uri": "https://localhost:8080/",
          "height": 89
        },
        "outputId": "c5e73d4a-85bc-4cc8-8899-a59671732148"
      },
      "source": [
        "# APEk part 1 for k =/= 9\n",
        "\n",
        "# for i in range(t_mif - t_man -j)\n",
        "\n",
        "APEk1 = []\n",
        "#APEt21 = []\n",
        "for j in range(2,9):\n",
        "  APEj1 = 0\n",
        "  for i in range(round(((daty_data_mifar - daty_data_manom).days) - j)):\n",
        "    t = daty_data_mifar - datetime.timedelta(days = i+1) \n",
        "    k = j\n",
        "    APEj1 = APEj1 + lpr(t,k)\n",
        "   # APEt21.append(lpr(t,k))\n",
        "  APEk1.append(APEj1)\n",
        "\n",
        "print('APEk1 =', APEk1)\n",
        "#print('APEt21 =', APEt21)\n",
        "\n",
        "# APEk part 2 for k =/= 9\n",
        "\n",
        "Prk2 = []\n",
        "\n",
        "APEk2 = []\n",
        "\n",
        "for j in range(2,9):\n",
        "  APEj2 = 0\n",
        "  for i in range(j-1):\n",
        "    t = daty_data_manom + datetime.timedelta(days = j - i - 1)\n",
        "    k = j - i\n",
        "    APEj2 = APEj2 + lpr(t,k)\n",
        "  APEk2.append(APEj2)\n",
        "\n",
        "print('APEk2 =', APEk2)"
      ],
      "execution_count": null,
      "outputs": [
        {
          "output_type": "stream",
          "text": [
            "/usr/local/lib/python3.6/dist-packages/ipykernel_launcher.py:100: RuntimeWarning: divide by zero encountered in log\n"
          ],
          "name": "stderr"
        },
        {
          "output_type": "stream",
          "text": [
            "APEk1 = [2493.344594030311, inf, inf, inf, inf, inf, inf]\n",
            "APEk2 = [3.2928963347349836, 7.171279694992251, 43.79284078799698, 97.31383212040049, 182.28081215250754, 309.4949238500569, 618.0797898646933]\n"
          ],
          "name": "stdout"
        }
      ]
    },
    {
      "cell_type": "code",
      "metadata": {
        "id": "COn7Zft7YwCn",
        "colab_type": "code",
        "colab": {
          "base_uri": "https://localhost:8080/",
          "height": 86
        },
        "outputId": "e8c12dfe-836d-4043-dd60-bc6098b39242"
      },
      "source": [
        "# APEk for k = 2,...,8\n",
        "\n",
        "APEk = [x + y for x, y in zip(APEk1, APEk2)]\n",
        "\n",
        "# APE9\n",
        "APE9 = APE91 + APE92\n",
        "\n",
        "APE = APEk + [APE9]\n",
        "kk = APE.index(min(APE)) +2\n",
        "print('APE9 =', APE9)\n",
        "print('APEk =', APEk)\n",
        "print('APE =', APE)\n",
        "print(kk)\n"
      ],
      "execution_count": null,
      "outputs": [
        {
          "output_type": "stream",
          "text": [
            "APE9 = inf\n",
            "APEk = [2496.637490365046, inf, inf, inf, inf, inf, inf]\n",
            "APE = [2496.637490365046, inf, inf, inf, inf, inf, inf, inf]\n",
            "2\n"
          ],
          "name": "stdout"
        }
      ]
    },
    {
      "cell_type": "markdown",
      "metadata": {
        "id": "QJNScm9AY2Xv",
        "colab_type": "text"
      },
      "source": [
        "## Fifidianana ireo taha mialoha (prior parameters)"
      ]
    },
    {
      "cell_type": "code",
      "metadata": {
        "id": "0XkGdVjyY3io",
        "colab_type": "code",
        "colab": {}
      },
      "source": [
        "kk=2\n",
        "  #shape\n",
        "def func_sh(t):\n",
        "    def Rtpsand_sh(a):\n",
        "      return a + Ireh(t,kk)\n",
        "    return Rtpsand_sh\n",
        "  # Scale\n",
        "def func_sc(t):\n",
        "    def Rtpsand_sc(b):\n",
        "      return 1/(1/b + tlsi(t,kk))\n",
        "    return Rtpsand_sc\n",
        "\n",
        "def funcsh_inv(t):\n",
        "    def sh_invex(x):\n",
        "      return (x + Ireh(t,kk))/x\n",
        "    return inversefunc(sh_invex, domain=[0.01, 1e+11])\n"
      ],
      "execution_count": 30,
      "outputs": []
    },
    {
      "cell_type": "code",
      "metadata": {
        "id": "eVTtbwk7ZCI9",
        "colab_type": "code",
        "colab": {
          "base_uri": "https://localhost:8080/",
          "height": 515
        },
        "outputId": "2ea99a04-e30a-47ab-a171-77b97c08cbcb"
      },
      "source": [
        "# Variation of R(datyab) with rapport to the prior parameters\n",
        "\n",
        "datyab = daty_data_mifar\n",
        "\n",
        "fig = plt.figure(figsize=(7,7))\n",
        "ax = fig.gca(projection='3d')\n",
        "\n",
        "# Make data.\n",
        "X = np.linspace(0.1,5,100)\n",
        "Y = np.linspace(0.1,5,100)\n",
        "X, Y = np.meshgrid(X, Y)\n",
        "Z = func_sh(datyab)(X)*func_sc(datyab)(Y)\n",
        "W = X*Y\n",
        "# Plot the surface.\n",
        "surf = ax.plot_surface(X, Y, Z, cmap=cm.coolwarm,\n",
        "                       linewidth=0, antialiased=False)\n",
        "#surf = ax.plot_surface(X, Y, W, cmap=cm.coolwarm,\n",
        " #                      linewidth=0, antialiased=False)\n",
        "\n",
        "# Customize the z axis.\n",
        "ax.set_zlim(0.8, 0.85)\n",
        "ax.zaxis.set_major_locator(LinearLocator(10))\n",
        "ax.zaxis.set_major_formatter(FormatStrFormatter('%.02f'))\n",
        "\n",
        "ax.set(xlabel ='bika a', ylabel = \"taha b\", zlabel = 'R(t=31/07)')\n",
        "\n",
        "# Add a color bar which maps values to colors.\n",
        "fig.colorbar(surf, shrink=0.5, aspect=5)\n",
        "\n",
        "plt.savefig(path_to_save+'Rt317_mdg.eps')\n",
        "\n",
        "plt.show()"
      ],
      "execution_count": 31,
      "outputs": [
        {
          "output_type": "stream",
          "text": [
            "The PostScript backend does not support transparency; partially transparent artists will be rendered opaque.\n",
            "The PostScript backend does not support transparency; partially transparent artists will be rendered opaque.\n",
            "The PostScript backend does not support transparency; partially transparent artists will be rendered opaque.\n",
            "The PostScript backend does not support transparency; partially transparent artists will be rendered opaque.\n",
            "The PostScript backend does not support transparency; partially transparent artists will be rendered opaque.\n",
            "The PostScript backend does not support transparency; partially transparent artists will be rendered opaque.\n"
          ],
          "name": "stderr"
        },
        {
          "output_type": "display_data",
          "data": {
            "image/png": "[encoded data removed]",
            "text/plain": [
              "<Figure size 504x504 with 2 Axes>"
            ]
          },
          "metadata": {
            "tags": [],
            "needs_background": "light"
          }
        }
      ]
    },
    {
      "cell_type": "code",
      "metadata": {
        "id": "jHpO0jDnZH-g",
        "colab_type": "code",
        "colab": {
          "base_uri": "https://localhost:8080/",
          "height": 318
        },
        "outputId": "30ea3303-5122-49d3-fdfd-422021cc9ea4"
      },
      "source": [
        "# R(t) when equality between the prior and the posterior\n",
        "\n",
        "# 100 linearly spaced numbers\n",
        "x = np.linspace(0.1,5,100)\n",
        "\n",
        "fig = plt.figure()\n",
        "ax = fig.add_subplot(1, 1, 1)\n",
        "\n",
        "# plot the function\n",
        "plt.plot(x, x*funcsh_inv(datyab)(x/func_sc(datyab)(x)), 'blue')\n",
        "\n",
        "ax.set_ylim(0,2)\n",
        "ax.set(xlabel ='taha', ylabel = \"R(t)\")\n",
        "\n",
        "\n",
        "# show the plot\n",
        "plt.show()\n",
        "\n",
        "print('taha* = 1')\n",
        "print('R(t=',datyab,') =', funcsh_inv(datyab)(1/func_sc(datyab)(1)), '= bika*')\n"
      ],
      "execution_count": 12,
      "outputs": [
        {
          "output_type": "display_data",
          "data": {
            "image/png": "[encoded data removed]",
            "text/plain": [
              "<Figure size 432x288 with 1 Axes>"
            ]
          },
          "metadata": {
            "tags": [],
            "needs_background": "light"
          }
        },
        {
          "output_type": "stream",
          "text": [
            "taha* = 1\n",
            "R(t= 2020-08-01 ) = 0.8241335363989531 = bika*\n"
          ],
          "name": "stdout"
        }
      ]
    },
    {
      "cell_type": "markdown",
      "metadata": {
        "id": "M5VwyRMJZNtT",
        "colab_type": "text"
      },
      "source": [
        "## Fanombanana ny Rt"
      ]
    },
    {
      "cell_type": "code",
      "metadata": {
        "id": "6rVhgGA2ZOlG",
        "colab_type": "code",
        "colab": {
          "base_uri": "https://localhost:8080/",
          "height": 139
        },
        "outputId": "6d206262-8b88-4eef-946d-b2454f5f70e2"
      },
      "source": [
        "#shape\n",
        "def func_sh(t):\n",
        "    def Rtpsand_sh(a):\n",
        "      return a + Ireh(t,kk)\n",
        "    return Rtpsand_sh\n",
        "\n",
        "# Scale\n",
        "def func_sc(t):\n",
        "    def Rtpsand_sc(b):\n",
        "      return 1/(1/b + tlsi(t,kk))\n",
        "    return Rtpsand_sc\n",
        "\n",
        "\n",
        "def funcsh_inv(t):\n",
        "    def sh_invex(x):\n",
        "      return (x + Ireh(t,kk))/x\n",
        "    return inversefunc(sh_invex, domain=[1e-11, 1e+11])\n",
        "\n",
        "def Rt_salan(t):\n",
        "    ffunc_sh = func_sh(t)\n",
        "    ffunc_sc = func_sc(t)\n",
        "    ffuncsh_inv = funcsh_inv(t)\n",
        "    return ffuncsh_inv(1/ffunc_sc(1))\n",
        "\n",
        "# The 95th and 5th percentiles of Rt\n",
        "\n",
        "def perc75(t):\n",
        "    return gengamma.ppf(0.75, func_sh(t)(Rt_salan(t)), 1, loc = 0, scale = func_sc(t)(1))\n",
        "\n",
        "def perc25(t):\n",
        "    return gengamma.ppf(0.25, func_sh(t)(Rt_salan(t)), 1, loc = 0, scale = func_sc(t)(1))\n",
        "\n",
        "\n",
        "def Rtps_sal(t):\n",
        "  return dIvao['cases'].loc[format_date(t)]/lsi(t)\n",
        "\n",
        "print(\"Kajy mivantana ny R hoan'ny\", daty_data_mifar, ':', Rtps_sal(daty_data_mifar))\n",
        "\n",
        "daty_oh1 = datetime.date(2020,7,13)\n",
        "print(\"Salan'isa R hoan'ny\", daty_oh1, ':', Rt_salan(daty_oh1))\n",
        "print(\"Kartily @ 75% R hoan'ny\", daty_oh1, ':', perc75(daty_oh1))\n",
        "print(\"Kartily @ 25% R hoan'ny\", daty_oh1, ':', perc25(daty_oh1))\n",
        "\n",
        "print(\"Salan'isa R hoan'ny\", daty_data_mifar, ':', Rt_salan(daty_data_mifar))\n",
        "print(\"Kartily @ 75% R hoan'ny\", daty_data_mifar, ':', perc75(daty_data_mifar))\n",
        "print(\"Kartily @ 25% R hoan'ny\", daty_data_mifar, ':', perc25(daty_data_mifar))\n"
      ],
      "execution_count": 32,
      "outputs": [
        {
          "output_type": "stream",
          "text": [
            "Kajy mivantana ny R hoan'ny 2020-08-01 : 0.3572107710929749\n",
            "Salan'isa R hoan'ny 2020-07-13 : 1.8891642430004936\n",
            "Kartily @ 75% R hoan'ny 2020-07-13 : 1.935974018844009\n",
            "Kartily @ 25% R hoan'ny 2020-07-13 : 1.841408868886875\n",
            "Salan'isa R hoan'ny 2020-08-01 : 0.8241169986994941\n",
            "Kartily @ 75% R hoan'ny 2020-08-01 : 0.8475005771404881\n",
            "Kartily @ 25% R hoan'ny 2020-08-01 : 0.8001908153091537\n"
          ],
          "name": "stdout"
        }
      ]
    },
    {
      "cell_type": "code",
      "metadata": {
        "id": "nPpEE_xJZaNB",
        "colab_type": "code",
        "colab": {
          "base_uri": "https://localhost:8080/",
          "height": 1000
        },
        "outputId": "99f59bca-1117-4a61-c4cd-a016e51eabbb"
      },
      "source": [
        "rt_mdg_lst = []\n",
        "\n",
        "for i in range(62):\n",
        "  t = datetime.date(2020,8,1) - datetime.timedelta(days = i)\n",
        "  rt_amboar = Rt_salan(t)\n",
        "  rt_mdg_lst.append((t,Rt_salan(t)))\n",
        "\n",
        "rt_mdg_lst"
      ],
      "execution_count": 38,
      "outputs": [
        {
          "output_type": "execute_result",
          "data": {
            "text/plain": [
              "[(datetime.date(2020, 8, 1), array(0.824117)),\n",
              " (datetime.date(2020, 7, 31), array(0.97159885)),\n",
              " (datetime.date(2020, 7, 30), array(0.9593913)),\n",
              " (datetime.date(2020, 7, 29), array(1.25431777)),\n",
              " (datetime.date(2020, 7, 28), array(1.27631814)),\n",
              " (datetime.date(2020, 7, 27), array(0.85131396)),\n",
              " (datetime.date(2020, 7, 26), array(0.75094802)),\n",
              " (datetime.date(2020, 7, 25), array(0.92023976)),\n",
              " (datetime.date(2020, 7, 24), array(1.36081601)),\n",
              " (datetime.date(2020, 7, 23), array(1.65454187)),\n",
              " (datetime.date(2020, 7, 22), array(0.80444444)),\n",
              " (datetime.date(2020, 7, 21), array(0.49331443)),\n",
              " (datetime.date(2020, 7, 20), array(0.98512612)),\n",
              " (datetime.date(2020, 7, 19), array(1.36033714)),\n",
              " (datetime.date(2020, 7, 18), array(1.62094632)),\n",
              " (datetime.date(2020, 7, 17), array(1.45032636)),\n",
              " (datetime.date(2020, 7, 16), array(1.0545577)),\n",
              " (datetime.date(2020, 7, 15), array(1.0122593)),\n",
              " (datetime.date(2020, 7, 14), array(1.1684723)),\n",
              " (datetime.date(2020, 7, 13), array(1.88916424)),\n",
              " (datetime.date(2020, 7, 12), array(2.30782827)),\n",
              " (datetime.date(2020, 7, 11), array(1.80380455)),\n",
              " (datetime.date(2020, 7, 10), array(1.09303731)),\n",
              " (datetime.date(2020, 7, 9), array(1.34381446)),\n",
              " (datetime.date(2020, 7, 8), array(3.76597298)),\n",
              " (datetime.date(2020, 7, 7), array(3.00614278)),\n",
              " (datetime.date(2020, 7, 6), array(1.35296042)),\n",
              " (datetime.date(2020, 7, 5), array(2.20846433)),\n",
              " (datetime.date(2020, 7, 4), array(1.48745799)),\n",
              " (datetime.date(2020, 7, 3), array(1.39162355)),\n",
              " (datetime.date(2020, 7, 2), array(1.24795398)),\n",
              " (datetime.date(2020, 7, 1), array(1.06043619)),\n",
              " (datetime.date(2020, 6, 30), array(1.08439017)),\n",
              " (datetime.date(2020, 6, 29), array(1.34581287)),\n",
              " (datetime.date(2020, 6, 28), array(1.60677297)),\n",
              " (datetime.date(2020, 6, 27), array(1.30125553)),\n",
              " (datetime.date(2020, 6, 26), array(1.0875382)),\n",
              " (datetime.date(2020, 6, 25), array(1.6805533)),\n",
              " (datetime.date(2020, 6, 24), array(1.62987421)),\n",
              " (datetime.date(2020, 6, 23), array(1.94950536)),\n",
              " (datetime.date(2020, 6, 22), array(2.37432927)),\n",
              " (datetime.date(2020, 6, 21), array(1.61790348)),\n",
              " (datetime.date(2020, 6, 20), array(1.07356493)),\n",
              " (datetime.date(2020, 6, 19), array(1.4263148)),\n",
              " (datetime.date(2020, 6, 18), array(1.41017504)),\n",
              " (datetime.date(2020, 6, 17), array(0.67709894)),\n",
              " (datetime.date(2020, 6, 16), array(0.54010794)),\n",
              " (datetime.date(2020, 6, 15), array(0.57235752)),\n",
              " (datetime.date(2020, 6, 14), array(0.649838)),\n",
              " (datetime.date(2020, 6, 13), array(0.88702737)),\n",
              " (datetime.date(2020, 6, 12), array(0.83704418)),\n",
              " (datetime.date(2020, 6, 11), array(0.86895726)),\n",
              " (datetime.date(2020, 6, 10), array(1.09233498)),\n",
              " (datetime.date(2020, 6, 9), array(0.85597221)),\n",
              " (datetime.date(2020, 6, 8), array(0.96795561)),\n",
              " (datetime.date(2020, 6, 7), array(0.87356217)),\n",
              " (datetime.date(2020, 6, 6), array(0.86498361)),\n",
              " (datetime.date(2020, 6, 5), array(1.48102267)),\n",
              " (datetime.date(2020, 6, 4), array(1.09422301)),\n",
              " (datetime.date(2020, 6, 3), array(1.00048981)),\n",
              " (datetime.date(2020, 6, 2), array(0.94369377)),\n",
              " (datetime.date(2020, 6, 1), array(1.0565718))]"
            ]
          },
          "metadata": {
            "tags": []
          },
          "execution_count": 38
        }
      ]
    },
    {
      "cell_type": "code",
      "metadata": {
        "id": "BHqWaTpeZu1F",
        "colab_type": "code",
        "colab": {}
      },
      "source": [
        "# MRC results \n",
        "\n",
        "r_mdg197 = 1.41\n",
        "r_mdg177 = 1.45\n",
        "r_mdg147 = 1.32\n",
        "r_mdg137 = 1.3\n",
        "r_mdg107 = 1.31\n",
        "r_mdg067 = 1.49\n",
        "r_mdg037 = 1.47\n",
        "r_mdg027 = 1.42\n",
        "r_mdg017 = 1.36\n",
        "r_mdg276 = 0.65\n",
        "r_mdg266 = 0.83\n",
        "r_mdg256 = 1.89\n",
        "r_mdg226 = 1.45\n",
        "r_mdg206 = 1.26\n",
        "r_mdg186 = 1.41\n",
        "r_mdg166 = 1.33\n",
        "r_mdg156 = 1.07\n",
        "r_mdg146 = 0.9\n",
        "r_mdg136 = 1.13\n",
        "r_mdg086 = 1.92\n",
        "r_mdg056 = 2.01\n",
        "r_mdg036 = 2.02\n",
        "r_mdg026 = 2.05\n",
        "r_mdg016 = 2.1"
      ],
      "execution_count": 40,
      "outputs": []
    },
    {
      "cell_type": "code",
      "metadata": {
        "id": "VHFJuPR-Z5QY",
        "colab_type": "code",
        "colab": {
          "base_uri": "https://localhost:8080/",
          "height": 416
        },
        "outputId": "e05864ba-b554-426f-9d16-51177f913422"
      },
      "source": [
        "elan_mdg197 = r_mdg197 - rt_mdg_lst[12][1]\n",
        "elan_mdg177 = r_mdg177 - rt_mdg_lst[14][1]\n",
        "elan_mdg147 = r_mdg147 - rt_mdg_lst[17][1]\n",
        "elan_mdg137 = r_mdg137 - rt_mdg_lst[18][1]\n",
        "elan_mdg107 = r_mdg107 - rt_mdg_lst[21][1]\n",
        "elan_mdg067 = r_mdg067 - rt_mdg_lst[25][1]\n",
        "elan_mdg037 = r_mdg037 - rt_mdg_lst[28][1]\n",
        "elan_mdg027 = r_mdg027 - rt_mdg_lst[29][1]\n",
        "elan_mdg017 = r_mdg017 - rt_mdg_lst[30][1]\n",
        "\n",
        "elan_mdg276 = r_mdg276 - rt_mdg_lst[34][1]\n",
        "elan_mdg266 = r_mdg266 - rt_mdg_lst[35][1]\n",
        "elan_mdg256 = r_mdg256 - rt_mdg_lst[36][1]\n",
        "elan_mdg226 = r_mdg226 - rt_mdg_lst[39][1]\n",
        "elan_mdg206 = r_mdg206 - rt_mdg_lst[41][1]\n",
        "elan_mdg186 = r_mdg186 - rt_mdg_lst[43][1]\n",
        "elan_mdg166 = r_mdg166 - rt_mdg_lst[45][1]\n",
        "elan_mdg156 = r_mdg156 - rt_mdg_lst[46][1]\n",
        "elan_mdg146 = r_mdg146 - rt_mdg_lst[47][1]\n",
        "elan_mdg136 = r_mdg136 - rt_mdg_lst[48][1]\n",
        "elan_mdg086 = r_mdg086 - rt_mdg_lst[53][1]\n",
        "elan_mdg056 = r_mdg056 - rt_mdg_lst[56][1]\n",
        "elan_mdg036 = r_mdg036 - rt_mdg_lst[58][1]\n",
        "elan_mdg026 = r_mdg026 - rt_mdg_lst[59][1]\n",
        "elan_mdg016 = r_mdg016 - rt_mdg_lst[60][1]\n",
        "\n",
        "print('197',elan_mdg197,rt_mdg_lst[12])\n",
        "print('177',elan_mdg177,rt_mdg_lst[14])\n",
        "print('147',elan_mdg147,rt_mdg_lst[17])\n",
        "print('137',elan_mdg137,rt_mdg_lst[18])\n",
        "print('107',elan_mdg107,rt_mdg_lst[21])\n",
        "print('067',elan_mdg067,rt_mdg_lst[25])\n",
        "print('037',elan_mdg037,rt_mdg_lst[28])\n",
        "print('027',elan_mdg027,rt_mdg_lst[29])\n",
        "print('017',elan_mdg017,rt_mdg_lst[30])\n",
        "\n",
        "print('276',elan_mdg276,rt_mdg_lst[34])\n",
        "print('266',elan_mdg266,rt_mdg_lst[35])\n",
        "print('256',elan_mdg256,rt_mdg_lst[36])\n",
        "print('226',elan_mdg226,rt_mdg_lst[39])\n",
        "print('206',elan_mdg206,rt_mdg_lst[41])\n",
        "print('186',elan_mdg186,rt_mdg_lst[43])\n",
        "print('166',elan_mdg166,rt_mdg_lst[45])\n",
        "print('156',elan_mdg156,rt_mdg_lst[46])\n",
        "print('146',elan_mdg146,rt_mdg_lst[47])\n",
        "print('136',elan_mdg136,rt_mdg_lst[48])\n",
        "print('086',elan_mdg086,rt_mdg_lst[53])\n",
        "print('056',elan_mdg056,rt_mdg_lst[56])\n",
        "print('036',elan_mdg036,rt_mdg_lst[58])\n",
        "print('026',elan_mdg026,rt_mdg_lst[59])\n",
        "print('016',elan_mdg016,rt_mdg_lst[60])"
      ],
      "execution_count": 41,
      "outputs": [
        {
          "output_type": "stream",
          "text": [
            "197 0.42487387715551894 (datetime.date(2020, 7, 20), array(0.98512612))\n",
            "177 -0.17094631508634395 (datetime.date(2020, 7, 18), array(1.62094632))\n",
            "147 0.30774070375302753 (datetime.date(2020, 7, 15), array(1.0122593))\n",
            "137 0.13152769752867455 (datetime.date(2020, 7, 14), array(1.1684723))\n",
            "107 -0.49380454746483715 (datetime.date(2020, 7, 11), array(1.80380455))\n",
            "067 -1.5161427794051827 (datetime.date(2020, 7, 7), array(3.00614278))\n",
            "037 -0.01745798575349289 (datetime.date(2020, 7, 4), array(1.48745799))\n",
            "027 0.028376446682897072 (datetime.date(2020, 7, 3), array(1.39162355))\n",
            "017 0.11204602357343485 (datetime.date(2020, 7, 2), array(1.24795398))\n",
            "276 -0.9567729676625673 (datetime.date(2020, 6, 28), array(1.60677297))\n",
            "266 -0.47125553397499653 (datetime.date(2020, 6, 27), array(1.30125553))\n",
            "256 0.8024618016825615 (datetime.date(2020, 6, 26), array(1.0875382))\n",
            "226 -0.49950535783681227 (datetime.date(2020, 6, 23), array(1.94950536))\n",
            "206 -0.3579034824011076 (datetime.date(2020, 6, 21), array(1.61790348))\n",
            "186 -0.016314804453328335 (datetime.date(2020, 6, 19), array(1.4263148))\n",
            "166 0.6529010627474833 (datetime.date(2020, 6, 17), array(0.67709894))\n",
            "156 0.5298920592264773 (datetime.date(2020, 6, 16), array(0.54010794))\n",
            "146 0.3276424752155016 (datetime.date(2020, 6, 15), array(0.57235752))\n",
            "136 0.4801620042017436 (datetime.date(2020, 6, 14), array(0.649838))\n",
            "086 1.0640277926231643 (datetime.date(2020, 6, 9), array(0.85597221))\n",
            "056 1.1450163861916212 (datetime.date(2020, 6, 6), array(0.86498361))\n",
            "036 0.9257769948166468 (datetime.date(2020, 6, 4), array(1.09422301))\n",
            "016 1.1563062294813946 (datetime.date(2020, 6, 2), array(0.94369377))\n"
          ],
          "name": "stdout"
        }
      ]
    },
    {
      "cell_type": "code",
      "metadata": {
        "id": "PJPgMoMRaZEo",
        "colab_type": "code",
        "colab": {}
      },
      "source": [
        "# Sampling except the first 7 days\n",
        "\n",
        "np.random.seed(12345)\n",
        "\n",
        "formatf_date = lambda date_py: '{}/{}'.format(date_py.day, str(date_py.month)[0:1])\n",
        "\n",
        "daty_lst = []\n",
        "\n",
        "data_Rt_lst = []\n",
        "\n",
        "for i in range(round(((daty_data_mifar - daty_data_manom).days) -7)):\n",
        "  t = daty_data_manom + datetime.timedelta(days = i+1 +7)\n",
        "  data_amboar = [gengamma.rvs( func_sh(t)(Rt_salan(t)), 1, loc = 0, scale = func_sc(t)(1)) for j in range(400)]\n",
        "  daty_lst.append(formatf_date(t))\n",
        "  data_Rt_lst.append(data_amboar)\n"
      ],
      "execution_count": null,
      "outputs": []
    },
    {
      "cell_type": "code",
      "metadata": {
        "id": "Y_zvk1XjanA4",
        "colab_type": "code",
        "colab": {}
      },
      "source": [
        "# Plotting everything except the first 7 days\n",
        "\n",
        "\n",
        "fig, ax = plt.subplots(figsize=(10, 10))\n",
        "\n",
        "sns.boxplot(daty_lst, data_Rt_lst, color='white', width=0.2, showfliers=False, ax=ax)\n",
        "ax.axhline(y=1, color='b', linestyle='dashed', label =\"R = 1\")\n",
        "\n",
        "ax.set(xlabel ='Andro', ylabel = \"R hoan'i Madagasikara\")\n",
        "ax.legend(loc= 'best')\n",
        "\n",
        "\n",
        "plt.savefig(path_to_save+'Rt205206_mdg.eps')\n",
        "plt.savefig(path_to_save+'Rt205206_mdg.png')\n",
        "plt.show()"
      ],
      "execution_count": null,
      "outputs": []
    },
    {
      "cell_type": "markdown",
      "metadata": {
        "id": "PhUhdKmzD8vu",
        "colab_type": "text"
      },
      "source": [
        "# Kenya"
      ]
    },
    {
      "cell_type": "code",
      "metadata": {
        "id": "iLO71gs2-uEE",
        "colab_type": "code",
        "colab": {
          "base_uri": "https://localhost:8080/",
          "height": 858
        },
        "outputId": "f8fb965b-18a2-418f-9c34-6e50bd448def"
      },
      "source": [
        "fig, ax = plt.subplots(figsize=(14, 14))\n",
        "\n",
        "ax.bar(datawke.index, datawke['cases'], width = 0.2, color='black',label=\"Antontan'isa Kenya\")\n",
        "\n",
        "\n",
        "ax.set(xlabel ='Andro', ylabel = \"Isan'ny voa vaovao\")\n",
        "\n",
        "date_form = DateFormatter(\"%d/%-m\")\n",
        "ax.xaxis.set_major_formatter(date_form)\n",
        "\n",
        "ax.xaxis.set_major_locator(mdates.DayLocator(interval=3))\n",
        "ax.legend(loc= 'best')\n",
        "\n",
        "plt.ylim(0,1050)\n",
        "plt.savefig(path_to_save+'voavaokezao.eps')\n",
        "plt.savefig(path_to_save+'voavaokezao.png')\n",
        "\n",
        "plt.show()"
      ],
      "execution_count": 43,
      "outputs": [
        {
          "output_type": "stream",
          "text": [
            "The PostScript backend does not support transparency; partially transparent artists will be rendered opaque.\n",
            "The PostScript backend does not support transparency; partially transparent artists will be rendered opaque.\n"
          ],
          "name": "stderr"
        },
        {
          "output_type": "display_data",
          "data": {
            "image/png": "[encoded data removed]",
            "text/plain": [
              "<Figure size 1008x1008 with 1 Axes>"
            ]
          },
          "metadata": {
            "tags": [],
            "needs_background": "light"
          }
        }
      ]
    },
    {
      "cell_type": "code",
      "metadata": {
        "id": "YE_SJ2q7Lkk-",
        "colab_type": "code",
        "colab": {}
      },
      "source": [
        "# Voa vaovao (observed incidence)\n",
        "Ivao = datawke['cases']\n",
        "\n",
        "dIvao = pd.DataFrame(data =Ivao)\n",
        "\n",
        "dIvao.sort_index(inplace=True)\n",
        "\n",
        "# ireo daty fanombohana sy fiafaran'ny antontan'isa raisina\n",
        "# (Time range of data used for the estimation)\n",
        "\n",
        "daty_data_manom = datetime.date(2020,4,15)\n",
        "daty_data_mifar = datetime.date(2020,8,1)\n",
        "\n",
        "datyt = daty_data_mifar\n",
        "\n",
        "format_date = lambda date_py: '{}-{}-{}'.format(date_py.year, date_py.month, date_py.day)\n",
        "\n",
        "# 0/ Discretization of the serial interval distribution\n",
        "\n",
        "#Tombana mialoha (prior distributions)\n",
        "#si_sh = 1/(0.62**2) # Report 13\n",
        "#si_sc = 6.5/si_sh\n",
        "\n",
        "si_sh = (6.48**2)/(3.83**2) # Jereo Imperial Covid-19 COVID-19 response team: Short-term forecasts\n",
        "si_sc = 6.48/si_sh\n",
        "\n",
        "def discr_si(t):\n",
        "  if t == 0:\n",
        "    discrsi = 0\n",
        "  elif t == 1:\n",
        "    discrsi = gengamma.cdf(3/2, si_sh, 1, loc = 0, scale = si_sc)\n",
        "  else:\n",
        "    discrsi = gengamma.cdf(t+1/2, si_sh, 1, loc = 0, scale = si_sc) - gengamma.cdf(t-1/2, si_sh, 1, loc = 0, scale = si_sc)\n",
        "  return discrsi\n",
        "\n",
        "# 1/ The total incidence over a generic window (t-k+1,t)\n",
        "# Ireh(t,k) = sum(i = 0 to k-1) Ivao(t - i))\n",
        "\n",
        "def Ireh(t,k):\n",
        "  Irehv = 0\n",
        "  if k - 1 > (t - daty_data_manom).days:\n",
        "    for i in range((t - daty_data_manom).days + 1):\n",
        "      Irehv = Irehv + dIvao['cases'].loc[format_date(t - datetime.timedelta(days = i))]\n",
        "  else:\n",
        "    for i in range(k):\n",
        "      Irehv = Irehv + dIvao['cases'].loc[format_date(t - datetime.timedelta(days = i))]\n",
        "  return Irehv\n",
        "\n",
        "# 2/ Tool to compute the total infectiousness over a generic window (t-k+1,t)\n",
        "# Isi(t,k) = sum(i=0 to k-1) Ivao(t - i)*discr_si(i)\n",
        "\n",
        "# The definition of Isi(t,k) does not include the term Ivao(t) for i = 0 (because discr_si(0) =0)\n",
        "# so we can start the sum from i = 1; but it includes the last term Ivao(t - k + 1)*discr_si(k - 1) for i = k-1. \n",
        "\n",
        "def Isi(t,k):\n",
        "  Ivaosi = 0\n",
        "  if k - 1 > (t - daty_data_manom).days:\n",
        "    for i in range(1,(t - daty_data_manom).days + 1):\n",
        "      Ivaosi = Ivaosi + dIvao['cases'].loc[format_date(t - datetime.timedelta(days = i))]*discr_si(i)\n",
        "  else:\n",
        "    for i in range(1,k):\n",
        "      Ivaosi = Ivaosi + dIvao['cases'].loc[format_date(t - datetime.timedelta(days = i))]*discr_si(i)\n",
        "  return Ivaosi\n",
        "\n",
        "# The total infectiousness before t\n",
        "\n",
        "# lsi(t) := sum(i=0 to t-1) Ivao(t - i)*discr_si(i)\n",
        "\n",
        "def lsi(t):\n",
        "  return Isi(t, (t - daty_data_manom).days +1)\n",
        "\n",
        "  # for checking, take for example t = daty_data_manom + datetime.timedelta(days = 3)\n",
        "\n",
        "# 3/ The sum of total infectiousness before t over a generic window (t-k+1,t)\n",
        "# tlsi(t) := sum(i=t-k+1 to t)lsi(i)\n",
        "\n",
        "def tlsi(t,k):\n",
        "  tlsi = 0\n",
        "  if k - 1 > (t - daty_data_manom).days:\n",
        "    for i in range((t - daty_data_manom).days + 1):\n",
        "      tlsi = tlsi + lsi(t - datetime.timedelta(days = i))\n",
        "  else:\n",
        "    for i in range(k):\n",
        "      tlsi = tlsi + lsi(t - datetime.timedelta(days = i))\n",
        "  return tlsi\n",
        "\n",
        "# 4/ The shape parameters of the posterior predictive negative binomial of I(t+1)\n",
        "\n",
        "# pnb(t,k) = lsi(t+1)*Gamma_post_scale(R(t,k))/(1 + lsi(t+1)*Gamma_post_scale(R(t,k)))\n",
        "\n",
        "def pnb(t,k):\n",
        "  return lsi(t+datetime.timedelta(days = 1))/(1/si_sc + tlsi(t,k) + lsi(t+datetime.timedelta(days = 1)))\n",
        "\n",
        "# pnb(t,k) dia ny taha herjika hoan'ny NB hoan'ny I(t+1).\n",
        "\n",
        "# 5/ Use the pmf of the posterior predictive negative binomial to compute\n",
        "# each additive contribution at time s then for-loop for s in the time interval\n",
        "\n",
        "def lpr(t,k):\n",
        "  return -np.log(nbinom.pmf(dIvao['cases'].loc[format_date(t + datetime.timedelta(days = 1))], si_sh + Ireh(t,k), pnb(t,k)))\n"
      ],
      "execution_count": 45,
      "outputs": []
    },
    {
      "cell_type": "code",
      "metadata": {
        "id": "8FcYWJ85MOqU",
        "colab_type": "code",
        "colab": {
          "base_uri": "https://localhost:8080/",
          "height": 159
        },
        "outputId": "a31f204b-793a-4bd1-ae84-b02336284dbb"
      },
      "source": [
        "# 6/ Computation of the Accumulated Predictive Error\n",
        "\n",
        "# APE9_part1 \n",
        "\n",
        "APEt91 = []\n",
        "Prt91 = []\n",
        "\n",
        "APE91 = 0\n",
        "\n",
        "for i in range((daty_data_mifar - daty_data_manom).days - 9 + 1):\n",
        "  t = daty_data_mifar - datetime.timedelta(days = i+1) \n",
        "  k = 9\n",
        "  APE91 = APE91 + lpr(t,k)\n",
        "  APEt91.append((lpr(t,k),t))\n",
        "  Prt91.append(expon.pdf(lpr(t,k)))\n",
        "\n",
        "print('For k = 9, APE91 =', APE91)\n",
        "print('APEt91 =', APEt91)\n",
        "print('Prt91 =', Prt91)\n",
        "\n",
        "# APE9_part2 \n",
        "\n",
        "APEt92 = []\n",
        "Prt92 = []\n",
        "\n",
        "APE92 = 0\n",
        "for i in range(7):\n",
        "  t = daty_data_manom - datetime.timedelta(days = i -7)\n",
        "  k = 9 - 1 - i\n",
        "  APE92 = APE92 + lpr(t,k) \n",
        "  APEt92.append((lpr(t,k),t,k))\n",
        "  Prt92.append(expon.pdf(lpr(t,k)))\n",
        "\n",
        "print('For k = 9, APE92 =', APE92)\n",
        "print('APEt92=', APEt92)\n",
        "print('Prt92=', Prt92)\n",
        "\n",
        "# For t_man such that Ivao(t_man) = Ivao(t_man + 1) = 0, we have :\n",
        "# lsi(t_man + 1) = tlsi(t_man + 1, 2) = Ireh(t_man + 1, 2) = 0,\n",
        "# so that pnb(t_man + 1, 2) = 0."
      ],
      "execution_count": null,
      "outputs": [
        {
          "output_type": "stream",
          "text": [
            "/usr/local/lib/python3.6/dist-packages/ipykernel_launcher.py:100: RuntimeWarning: divide by zero encountered in log\n"
          ],
          "name": "stderr"
        },
        {
          "output_type": "stream",
          "text": [
            "For k = 9, APE91 = inf\n",
            "APEt91 = [(inf, datetime.date(2020, 7, 6)), (inf, datetime.date(2020, 7, 5)), (inf, datetime.date(2020, 7, 4)), (inf, datetime.date(2020, 7, 3)), (inf, datetime.date(2020, 7, 2)), (inf, datetime.date(2020, 7, 1)), (inf, datetime.date(2020, 6, 30)), (inf, datetime.date(2020, 6, 29)), (inf, datetime.date(2020, 6, 28)), (inf, datetime.date(2020, 6, 27)), (inf, datetime.date(2020, 6, 26)), (inf, datetime.date(2020, 6, 25)), (inf, datetime.date(2020, 6, 24)), (inf, datetime.date(2020, 6, 23)), (inf, datetime.date(2020, 6, 22)), (inf, datetime.date(2020, 6, 21)), (inf, datetime.date(2020, 6, 20)), (inf, datetime.date(2020, 6, 19)), (inf, datetime.date(2020, 6, 18)), (inf, datetime.date(2020, 6, 17)), (inf, datetime.date(2020, 6, 16)), (inf, datetime.date(2020, 6, 15)), (inf, datetime.date(2020, 6, 14)), (inf, datetime.date(2020, 6, 13)), (inf, datetime.date(2020, 6, 12)), (inf, datetime.date(2020, 6, 11)), (inf, datetime.date(2020, 6, 10)), (inf, datetime.date(2020, 6, 9)), (inf, datetime.date(2020, 6, 8)), (inf, datetime.date(2020, 6, 7)), (inf, datetime.date(2020, 6, 6)), (inf, datetime.date(2020, 6, 5)), (inf, datetime.date(2020, 6, 4)), (inf, datetime.date(2020, 6, 3)), (inf, datetime.date(2020, 6, 2)), (inf, datetime.date(2020, 6, 1)), (inf, datetime.date(2020, 5, 31)), (inf, datetime.date(2020, 5, 30)), (inf, datetime.date(2020, 5, 29)), (inf, datetime.date(2020, 5, 28)), (692.0962623697088, datetime.date(2020, 5, 27)), (inf, datetime.date(2020, 5, 26)), (680.0374339905811, datetime.date(2020, 5, 25)), (inf, datetime.date(2020, 5, 24)), (724.1041155089497, datetime.date(2020, 5, 23)), (640.9524844570974, datetime.date(2020, 5, 22)), (499.1923415669903, datetime.date(2020, 5, 21)), (469.1517509919562, datetime.date(2020, 5, 20)), (454.6734279407675, datetime.date(2020, 5, 19)), (529.7263392897868, datetime.date(2020, 5, 18)), (395.38668022942915, datetime.date(2020, 5, 17)), (357.90969760024115, datetime.date(2020, 5, 16)), (446.66396258963545, datetime.date(2020, 5, 15)), (486.6798908749964, datetime.date(2020, 5, 14)), (470.5093163904391, datetime.date(2020, 5, 13)), (497.1869413285873, datetime.date(2020, 5, 12)), (437.5581683127756, datetime.date(2020, 5, 11)), (414.2982229715668, datetime.date(2020, 5, 10)), (360.4545172820899, datetime.date(2020, 5, 9)), (380.3689178225185, datetime.date(2020, 5, 8)), (340.1652230816087, datetime.date(2020, 5, 7)), (253.90044509814487, datetime.date(2020, 5, 6)), (214.7749609842288, datetime.date(2020, 5, 5)), (221.8973283807966, datetime.date(2020, 5, 4)), (195.04411159763907, datetime.date(2020, 5, 3)), (192.26908728079312, datetime.date(2020, 5, 2)), (219.91496538952077, datetime.date(2020, 5, 1)), (195.48322701303124, datetime.date(2020, 4, 30)), (194.64838493950478, datetime.date(2020, 4, 29)), (177.97557843378698, datetime.date(2020, 4, 28)), (190.10890764680443, datetime.date(2020, 4, 27)), (171.04652802942888, datetime.date(2020, 4, 26)), (176.53625583680986, datetime.date(2020, 4, 25)), (138.25637604556204, datetime.date(2020, 4, 24)), (113.60475029525352, datetime.date(2020, 4, 23))]\n",
            "Prt91 = [0.0, 0.0, 0.0, 0.0, 0.0, 0.0, 0.0, 0.0, 0.0, 0.0, 0.0, 0.0, 0.0, 0.0, 0.0, 0.0, 0.0, 0.0, 0.0, 0.0, 0.0, 0.0, 0.0, 0.0, 0.0, 0.0, 0.0, 0.0, 0.0, 0.0, 0.0, 0.0, 0.0, 0.0, 0.0, 0.0, 0.0, 0.0, 0.0, 0.0, 2.6693917073643186e-301, 0.0, 4.6078138970651974e-296, 0.0, 3.354117797e-315, 4.343830177288174e-279, 1.5977934964108836e-217, 1.778211313165287e-204, 3.450159535173925e-198, 8.765444164170585e-231, 1.9308412051453125e-172, 3.6458039619414924e-156, 1.0382591861451153e-194, 4.3411914571848787e-212, 4.575095959859845e-205, 1.1870114457015449e-216, 9.35194599158316e-191, 1.1818650804829938e-180, 2.8614895701612445e-157, 6.425070570735987e-166, 1.8540467480246576e-148, 5.400546889060874e-111, 5.301754254520601e-94, 4.2777434516076887e-97, 1.965253622279583e-85, 3.152073627517271e-84, 3.1055894548754737e-96, 1.2668150189915097e-85, 2.919311979299693e-85, 5.083799015259131e-78, 2.733697454255693e-83, 5.19322008536604e-75, 2.1442639008817323e-77, 9.036885828663338e-61, 4.592866571177864e-50]\n",
            "For k = 9, APE92 = 256.6125051716296\n",
            "APEt92= [(65.8333092430221, datetime.date(2020, 4, 22), 8), (94.1222174852197, datetime.date(2020, 4, 21), 7), (44.94047535156364, datetime.date(2020, 4, 20), 6), (33.533778188240404, datetime.date(2020, 4, 19), 5), (10.174612568896361, datetime.date(2020, 4, 18), 4), (4.956396964706071, datetime.date(2020, 4, 17), 3), (3.0517153699813413, datetime.date(2020, 4, 16), 2)]\n",
            "Prt92= [2.564230551775645e-29, 1.3281291894514407e-41, 3.0380823435044533e-20, 2.7319023736198177e-15, 3.81260581412842e-05, 0.0070382412342351935, 0.04727775595074792]\n"
          ],
          "name": "stdout"
        }
      ]
    },
    {
      "cell_type": "code",
      "metadata": {
        "id": "1jkHE-CbRzlk",
        "colab_type": "code",
        "colab": {
          "base_uri": "https://localhost:8080/",
          "height": 89
        },
        "outputId": "64678c0b-d32e-4c0f-97d8-83163176b2b1"
      },
      "source": [
        "# APEk part 1 for k =/= 9\n",
        "\n",
        "# for i in range(t_mif - t_man -j)\n",
        "\n",
        "APEk1 = []\n",
        "#APEt21 = []\n",
        "for j in range(2,9):\n",
        "  APEj1 = 0\n",
        "  for i in range(round(((daty_data_mifar - daty_data_manom).days) - j)):\n",
        "    t = daty_data_mifar - datetime.timedelta(days = i+1) \n",
        "    k = j\n",
        "    APEj1 = APEj1 + lpr(t,k)\n",
        "   # APEt21.append(lpr(t,k))\n",
        "  APEk1.append(APEj1)\n",
        "\n",
        "print('APEk1 =', APEk1)\n",
        "#print('APEt21 =', APEt21)\n",
        "\n",
        "# APEk part 2 for k =/= 9\n",
        "\n",
        "Prk2 = []\n",
        "\n",
        "APEk2 = []\n",
        "\n",
        "for j in range(2,9):\n",
        "  APEj2 = 0\n",
        "  for i in range(j-1):\n",
        "    t = daty_data_manom + datetime.timedelta(days = j - i - 1)\n",
        "    k = j - i\n",
        "    APEj2 = APEj2 + lpr(t,k)\n",
        "  APEk2.append(APEj2)\n",
        "\n",
        "print('APEk2 =', APEk2)"
      ],
      "execution_count": null,
      "outputs": [
        {
          "output_type": "stream",
          "text": [
            "/usr/local/lib/python3.6/dist-packages/ipykernel_launcher.py:100: RuntimeWarning: divide by zero encountered in log\n"
          ],
          "name": "stderr"
        },
        {
          "output_type": "stream",
          "text": [
            "APEk1 = [5389.584492493537, inf, inf, inf, inf, inf, inf]\n",
            "APEk2 = [3.0517153699813413, 8.008112334687413, 18.182724903583775, 51.71650309182418, 96.65697844338781, 190.77919592860752, 256.6125051716296]\n"
          ],
          "name": "stdout"
        }
      ]
    },
    {
      "cell_type": "code",
      "metadata": {
        "id": "0_wYQN9aYMUN",
        "colab_type": "code",
        "colab": {
          "base_uri": "https://localhost:8080/",
          "height": 86
        },
        "outputId": "49e39bac-cf7d-4b1e-dd52-5fc7cbdb945e"
      },
      "source": [
        "# APEk for k = 2,...,8\n",
        "\n",
        "APEk = [x + y for x, y in zip(APEk1, APEk2)]\n",
        "\n",
        "# APE9\n",
        "APE9 = APE91 + APE92\n",
        "\n",
        "APE = APEk + [APE9]\n",
        "kk = APE.index(min(APE)) +2\n",
        "print('APE9 =', APE9)\n",
        "print('APEk =', APEk)\n",
        "print('APE =', APE)\n",
        "print(kk)\n"
      ],
      "execution_count": null,
      "outputs": [
        {
          "output_type": "stream",
          "text": [
            "APE9 = inf\n",
            "APEk = [5392.636207863518, inf, inf, inf, inf, inf, inf]\n",
            "APE = [5392.636207863518, inf, inf, inf, inf, inf, inf, inf]\n",
            "2\n"
          ],
          "name": "stdout"
        }
      ]
    },
    {
      "cell_type": "markdown",
      "metadata": {
        "id": "cnVFr53qX2j7",
        "colab_type": "text"
      },
      "source": [
        "## Fifidianana ireo taha mialoha (prior parameters)"
      ]
    },
    {
      "cell_type": "code",
      "metadata": {
        "id": "wFKkloQxT7LD",
        "colab_type": "code",
        "colab": {}
      },
      "source": [
        "kk=2\n",
        "  #shape\n",
        "def func_sh(t):\n",
        "    def Rtpsand_sh(a):\n",
        "      return a + Ireh(t,kk)\n",
        "    return Rtpsand_sh\n",
        "  # Scale\n",
        "def func_sc(t):\n",
        "    def Rtpsand_sc(b):\n",
        "      return 1/(1/b + tlsi(t,kk))\n",
        "    return Rtpsand_sc\n",
        "\n",
        "def funcsh_inv(t):\n",
        "    def sh_invex(x):\n",
        "      return (x + Ireh(t,kk))/x\n",
        "    return inversefunc(sh_invex, domain=[0.01, 1e+11])\n"
      ],
      "execution_count": 46,
      "outputs": []
    },
    {
      "cell_type": "code",
      "metadata": {
        "id": "1AqRtgLwX7Lh",
        "colab_type": "code",
        "colab": {
          "base_uri": "https://localhost:8080/",
          "height": 515
        },
        "outputId": "2adb5fc2-75db-4044-891c-299385967832"
      },
      "source": [
        "# Variation of R(datyab) with rapport to the prior parameters\n",
        "\n",
        "datyab = daty_data_mifar\n",
        "\n",
        "fig = plt.figure(figsize=(7,7))\n",
        "ax = fig.gca(projection='3d')\n",
        "\n",
        "# Make data.\n",
        "X = np.linspace(0.1,5,100)\n",
        "Y = np.linspace(0.1,5,100)\n",
        "X, Y = np.meshgrid(X, Y)\n",
        "Z = func_sh(datyab)(X)*func_sc(datyab)(Y)\n",
        "W = X*Y\n",
        "# Plot the surface.\n",
        "surf = ax.plot_surface(X, Y, Z, cmap=cm.coolwarm,\n",
        "                       linewidth=0, antialiased=False)\n",
        "#surf = ax.plot_surface(X, Y, W, cmap=cm.coolwarm,\n",
        " #                      linewidth=0, antialiased=False)\n",
        "\n",
        "# Customize the z axis.\n",
        "ax.set_zlim(1.1, 1.4)\n",
        "ax.zaxis.set_major_locator(LinearLocator(10))\n",
        "ax.zaxis.set_major_formatter(FormatStrFormatter('%.02f'))\n",
        "\n",
        "ax.set(xlabel ='bika a', ylabel = \"taha b\", zlabel = 'R(t=1/08)')\n",
        "\n",
        "# Add a color bar which maps values to colors.\n",
        "fig.colorbar(surf, shrink=0.5, aspect=5)\n",
        "\n",
        "plt.savefig(path_to_save+'Rt18_ke.eps')\n",
        "\n",
        "plt.show()"
      ],
      "execution_count": 47,
      "outputs": [
        {
          "output_type": "stream",
          "text": [
            "The PostScript backend does not support transparency; partially transparent artists will be rendered opaque.\n",
            "The PostScript backend does not support transparency; partially transparent artists will be rendered opaque.\n",
            "The PostScript backend does not support transparency; partially transparent artists will be rendered opaque.\n",
            "The PostScript backend does not support transparency; partially transparent artists will be rendered opaque.\n",
            "The PostScript backend does not support transparency; partially transparent artists will be rendered opaque.\n",
            "The PostScript backend does not support transparency; partially transparent artists will be rendered opaque.\n"
          ],
          "name": "stderr"
        },
        {
          "output_type": "display_data",
          "data": {
            "image/png": "[encoded data removed]",
            "text/plain": [
              "<Figure size 504x504 with 2 Axes>"
            ]
          },
          "metadata": {
            "tags": [],
            "needs_background": "light"
          }
        }
      ]
    },
    {
      "cell_type": "code",
      "metadata": {
        "id": "aRAOAAo8Y3Wq",
        "colab_type": "code",
        "colab": {
          "base_uri": "https://localhost:8080/",
          "height": 318
        },
        "outputId": "45853cb2-8f40-421e-d792-499d97a7e8c0"
      },
      "source": [
        "# R(t) when equality between the prior and the posterior\n",
        "\n",
        "# 100 linearly spaced numbers\n",
        "x = np.linspace(0.1,5,100)\n",
        "\n",
        "fig = plt.figure()\n",
        "ax = fig.add_subplot(1, 1, 1)\n",
        "\n",
        "# plot the function\n",
        "plt.plot(x, x*funcsh_inv(datyab)(x/func_sc(datyab)(x)), 'blue')\n",
        "\n",
        "ax.set_ylim(0,2)\n",
        "ax.set(xlabel ='taha', ylabel = \"R(t)\")\n",
        "\n",
        "\n",
        "# show the plot\n",
        "plt.show()\n",
        "\n",
        "print('taha* = 1')\n",
        "print('R(t=',datyab,') =', funcsh_inv(datyab)(1/func_sc(datyab)(1)), '= bika*')\n"
      ],
      "execution_count": 48,
      "outputs": [
        {
          "output_type": "display_data",
          "data": {
            "image/png": "[encoded data removed]",
            "text/plain": [
              "<Figure size 432x288 with 1 Axes>"
            ]
          },
          "metadata": {
            "tags": [],
            "needs_background": "light"
          }
        },
        {
          "output_type": "stream",
          "text": [
            "taha* = 1\n",
            "R(t= 2020-08-01 ) = 1.2848976930967908 = bika*\n"
          ],
          "name": "stdout"
        }
      ]
    },
    {
      "cell_type": "markdown",
      "metadata": {
        "id": "EwfLf35264Mx",
        "colab_type": "text"
      },
      "source": [
        "## Fanombanana ny Rt"
      ]
    },
    {
      "cell_type": "code",
      "metadata": {
        "id": "G1EVlmug6sgU",
        "colab_type": "code",
        "colab": {
          "base_uri": "https://localhost:8080/",
          "height": 139
        },
        "outputId": "d1e2f105-58b1-4bfb-a483-cba4c64b79cc"
      },
      "source": [
        "#shape\n",
        "def func_sh(t):\n",
        "    def Rtpsand_sh(a):\n",
        "      return a + Ireh(t,kk)\n",
        "    return Rtpsand_sh\n",
        "\n",
        "# Scale\n",
        "def func_sc(t):\n",
        "    def Rtpsand_sc(b):\n",
        "      return 1/(1/b + tlsi(t,kk))\n",
        "    return Rtpsand_sc\n",
        "\n",
        "\n",
        "def funcsh_inv(t):\n",
        "    def sh_invex(x):\n",
        "      return (x + Ireh(t,kk))/x\n",
        "    return inversefunc(sh_invex, domain=[1e-11, 1e+11])\n",
        "\n",
        "def Rt_salan(t):\n",
        "    ffunc_sh = func_sh(t)\n",
        "    ffunc_sc = func_sc(t)\n",
        "    ffuncsh_inv = funcsh_inv(t)\n",
        "    return ffuncsh_inv(1/ffunc_sc(1))\n",
        "\n",
        "# The 95th and 5th percentiles of Rt\n",
        "\n",
        "def perc75(t):\n",
        "    return gengamma.ppf(0.75, func_sh(t)(Rt_salan(t)), 1, loc = 0, scale = func_sc(t)(1))\n",
        "\n",
        "def perc25(t):\n",
        "    return gengamma.ppf(0.25, func_sh(t)(Rt_salan(t)), 1, loc = 0, scale = func_sc(t)(1))\n",
        "\n",
        "\n",
        "def Rtps_sal(t):\n",
        "  return dIvao['cases'].loc[format_date(t)]/lsi(t)\n",
        "\n",
        "print(\"Kajy mivantana ny R hoan'ny\", daty_data_mifar, ':', Rtps_sal(daty_data_mifar))\n",
        "\n",
        "daty_oh1 = datetime.date(2020,6,14)\n",
        "print(\"Salan'isa R hoan'ny\", daty_oh1, ':', Rt_salan(daty_oh1))\n",
        "print(\"Kartily @ 75% R hoan'ny\", daty_oh1, ':', perc75(daty_oh1))\n",
        "print(\"Kartily @ 25% R hoan'ny\", daty_oh1, ':', perc25(daty_oh1))\n",
        "\n",
        "print(\"Salan'isa R hoan'ny\", daty_data_mifar, ':', Rt_salan(daty_data_mifar))\n",
        "print(\"Kartily @ 75% R hoan'ny\", daty_data_mifar, ':', perc75(daty_data_mifar))\n",
        "print(\"Kartily @ 25% R hoan'ny\", daty_data_mifar, ':', perc25(daty_data_mifar))\n"
      ],
      "execution_count": 49,
      "outputs": [
        {
          "output_type": "stream",
          "text": [
            "Kajy mivantana ny R hoan'ny 2020-08-01 : 1.2219741892888865\n",
            "Salan'isa R hoan'ny 2020-06-14 : 1.0259258934377706\n",
            "Kartily @ 75% R hoan'ny 2020-06-14 : 1.0695138989191364\n",
            "Kartily @ 25% R hoan'ny 2020-06-14 : 0.9808044335304209\n",
            "Salan'isa R hoan'ny 2020-08-01 : 1.2848976925316002\n",
            "Kartily @ 75% R hoan'ny 2020-08-01 : 1.3070263972202805\n",
            "Kartily @ 25% R hoan'ny 2020-08-01 : 1.2624602719264184\n"
          ],
          "name": "stdout"
        }
      ]
    },
    {
      "cell_type": "code",
      "metadata": {
        "id": "I2dKIEA3E792",
        "colab_type": "code",
        "colab": {
          "base_uri": "https://localhost:8080/",
          "height": 1000
        },
        "outputId": "27149dff-fa2e-4a03-b06e-a733aeaa2ae7"
      },
      "source": [
        "rt_ke_lst = []\n",
        "\n",
        "for i in range(65):\n",
        "  t = datetime.date(2020,8,1) - datetime.timedelta(days = i)\n",
        "  rt_amboar = Rt_salan(t)\n",
        "  ivao_ke = dIvao['cases'].loc[format_date(t)]\n",
        "  rt_ke_lst.append((t,Rt_salan(t),ivao_ke))\n",
        "\n",
        "rt_ke_lst"
      ],
      "execution_count": 58,
      "outputs": [
        {
          "output_type": "execute_result",
          "data": {
            "text/plain": [
              "[(datetime.date(2020, 8, 1), array(1.28489769), 723),\n",
              " (datetime.date(2020, 7, 31), array(1.14187902), 788),\n",
              " (datetime.date(2020, 7, 30), array(0.9947331), 544),\n",
              " (datetime.date(2020, 7, 29), array(0.86340588), 606),\n",
              " (datetime.date(2020, 7, 28), array(1.21850454), 372),\n",
              " (datetime.date(2020, 7, 27), array(1.27106511), 960),\n",
              " (datetime.date(2020, 7, 26), array(1.0389842), 375),\n",
              " (datetime.date(2020, 7, 25), array(1.53954062), 667),\n",
              " (datetime.date(2020, 7, 24), array(1.56964143), 796),\n",
              " (datetime.date(2020, 7, 23), array(1.16857559), 637),\n",
              " (datetime.date(2020, 7, 22), array(0.96297516), 397),\n",
              " (datetime.date(2020, 7, 21), array(1.28616632), 418),\n",
              " (datetime.date(2020, 7, 20), array(1.73539779), 603),\n",
              " (datetime.date(2020, 7, 19), array(1.5193957), 688),\n",
              " (datetime.date(2020, 7, 18), array(1.19070799), 389),\n",
              " (datetime.date(2020, 7, 17), array(1.35159357), 421),\n",
              " (datetime.date(2020, 7, 16), array(1.51562763), 461),\n",
              " (datetime.date(2020, 7, 15), array(1.10959724), 497),\n",
              " (datetime.date(2020, 7, 14), array(0.95068028), 189),\n",
              " (datetime.date(2020, 7, 13), array(1.16012102), 379),\n",
              " (datetime.date(2020, 7, 12), array(1.40778362), 278),\n",
              " (datetime.date(2020, 7, 11), array(1.80329227), 473),\n",
              " (datetime.date(2020, 7, 10), array(1.44002545), 447),\n",
              " (datetime.date(2020, 7, 9), array(0.92008793), 278),\n",
              " (datetime.date(2020, 7, 8), array(0.74524224), 183),\n",
              " (datetime.date(2020, 7, 7), array(1.05881951), 181),\n",
              " (datetime.date(2020, 7, 6), array(1.61006293), 309),\n",
              " (datetime.date(2020, 7, 5), array(1.54853843), 389),\n",
              " (datetime.date(2020, 7, 4), array(1.30903484), 247),\n",
              " (datetime.date(2020, 7, 3), array(1.51293217), 268),\n",
              " (datetime.date(2020, 7, 2), array(1.29813751), 307),\n",
              " (datetime.date(2020, 7, 1), array(0.81602599), 176),\n",
              " (datetime.date(2020, 6, 30), array(1.09453679), 120),\n",
              " (datetime.date(2020, 6, 29), array(1.63020452), 259),\n",
              " (datetime.date(2020, 6, 28), array(1.3417138), 278),\n",
              " (datetime.date(2020, 6, 27), array(1.05894354), 149),\n",
              " (datetime.date(2020, 6, 26), array(1.43866468), 178),\n",
              " (datetime.date(2020, 6, 25), array(1.37702484), 254),\n",
              " (datetime.date(2020, 6, 24), array(0.72425379), 155),\n",
              " (datetime.date(2020, 6, 23), array(1.10297638), 59),\n",
              " (datetime.date(2020, 6, 22), array(1.28992604), 260),\n",
              " (datetime.date(2020, 6, 21), array(0.80669277), 104),\n",
              " (datetime.date(2020, 6, 20), array(1.26386025), 117),\n",
              " (datetime.date(2020, 6, 19), array(1.58675963), 213),\n",
              " (datetime.date(2020, 6, 18), array(1.29861275), 184),\n",
              " (datetime.date(2020, 6, 17), array(1.10862415), 133),\n",
              " (datetime.date(2020, 6, 16), array(1.14106719), 133),\n",
              " (datetime.date(2020, 6, 15), array(1.22870514), 137),\n",
              " (datetime.date(2020, 6, 14), array(1.02592589), 152),\n",
              " (datetime.date(2020, 6, 13), array(0.89431276), 90),\n",
              " (datetime.date(2020, 6, 12), array(0.96756769), 121),\n",
              " (datetime.date(2020, 6, 11), array(1.01486391), 105),\n",
              " (datetime.date(2020, 6, 10), array(1.0060459), 127),\n",
              " (datetime.date(2020, 6, 9), array(1.24615525), 95),\n",
              " (datetime.date(2020, 6, 8), array(1.46314296), 167),\n",
              " (datetime.date(2020, 6, 7), array(1.34857518), 126),\n",
              " (datetime.date(2020, 6, 6), array(1.37314327), 134),\n",
              " (datetime.date(2020, 6, 5), array(1.32808675), 124),\n",
              " (datetime.date(2020, 6, 4), array(1.05267901), 123),\n",
              " (datetime.date(2020, 6, 3), array(0.7241879), 72),\n",
              " (datetime.date(2020, 6, 2), array(0.78823282), 59),\n",
              " (datetime.date(2020, 6, 1), array(1.45061174), 74),\n",
              " (datetime.date(2020, 5, 31), array(2.09620524), 143),\n",
              " (datetime.date(2020, 5, 30), array(2.46528523), 127),\n",
              " (datetime.date(2020, 5, 29), array(2.71507648), 147)]"
            ]
          },
          "metadata": {
            "tags": []
          },
          "execution_count": 58
        }
      ]
    },
    {
      "cell_type": "code",
      "metadata": {
        "id": "qgRGu4FWHU5Z",
        "colab_type": "code",
        "colab": {}
      },
      "source": [
        "# MRC results \n",
        "\n",
        "r_ke207 = 1.22\n",
        "r_ke187 = 1.22\n",
        "r_ke157 = 1.2\n",
        "r_ke147 = 1.22\n",
        "r_ke117 = 1.18\n",
        "r_ke077 = 1.17\n",
        "r_ke047 = 1.17\n",
        "r_ke037 = 1.18\n",
        "r_ke027 = 1.18\n",
        "\n",
        "r_ke286 = 1.22\n",
        "r_ke276 = 1.18\n",
        "r_ke266 = 1.07\n",
        "r_ke236 = 1.15\n",
        "r_ke216 = 1.1\n",
        "r_ke196 = 1.26\n",
        "r_ke176 = 1.04\n",
        "r_ke166 = 0.71\n",
        "r_ke156 = 0.88\n",
        "r_ke146 = 0.94\n",
        "r_ke096 = 1.33\n",
        "r_ke066 = 1.34\n",
        "r_ke046 = 1.32\n",
        "r_ke036 = 1.27\n",
        "r_ke026 = 1.26\n",
        "r_ke016 = 1.28\n"
      ],
      "execution_count": 55,
      "outputs": []
    },
    {
      "cell_type": "code",
      "metadata": {
        "id": "4oqVmjHvBaNw",
        "colab_type": "code",
        "colab": {
          "base_uri": "https://localhost:8080/",
          "height": 451
        },
        "outputId": "07b22b70-00c6-4352-d2bc-acd664b8789e"
      },
      "source": [
        "elan_ke207 = r_ke207 - rt_ke_lst[12][1]\n",
        "elan_ke187 = r_ke187 - rt_ke_lst[14][1]\n",
        "elan_ke157 = r_ke157 - rt_ke_lst[17][1]\n",
        "elan_ke147 = r_ke147 - rt_ke_lst[18][1]\n",
        "elan_ke117 = r_ke117 - rt_ke_lst[21][1]\n",
        "elan_ke077 = r_ke077 - rt_ke_lst[25][1]\n",
        "elan_ke047 = r_ke047 - rt_ke_lst[28][1]\n",
        "elan_ke037 = r_ke037 - rt_ke_lst[29][1]\n",
        "elan_ke027 = r_ke027 - rt_ke_lst[30][1]\n",
        "\n",
        "elan_ke286 = r_ke286 - rt_ke_lst[34][1]\n",
        "elan_ke276 = r_ke276 - rt_ke_lst[35][1]\n",
        "elan_ke266 = r_ke266 - rt_ke_lst[36][1]\n",
        "elan_ke236 = r_ke236 - rt_ke_lst[39][1]\n",
        "elan_ke216 = r_ke216 - rt_ke_lst[41][1]\n",
        "elan_ke196 = r_ke196 - rt_ke_lst[43][1]\n",
        "elan_ke176 = r_ke176 - rt_ke_lst[45][1]\n",
        "elan_ke166 = r_ke166 - rt_ke_lst[46][1]\n",
        "elan_ke156 = r_ke156 - rt_ke_lst[47][1]\n",
        "elan_ke146 = r_ke146 - rt_ke_lst[48][1]\n",
        "elan_ke096 = r_ke096 - rt_ke_lst[53][1]\n",
        "elan_ke066 = r_ke066 - rt_ke_lst[56][1]\n",
        "elan_ke046 = r_ke046 - rt_ke_lst[58][1]\n",
        "elan_ke036 = r_ke036 - rt_ke_lst[59][1]\n",
        "elan_ke026 = r_ke026 - rt_ke_lst[60][1]\n",
        "elan_ke016 = r_ke016 - rt_ke_lst[61][1]\n",
        "\n",
        "print(elan_ke207,rt_ke_lst[12])\n",
        "print(elan_ke187,rt_ke_lst[14])\n",
        "print(elan_ke157,rt_ke_lst[17])\n",
        "print(elan_ke147,rt_ke_lst[18])\n",
        "print(elan_ke117,rt_ke_lst[21])\n",
        "print(elan_ke077,rt_ke_lst[25])\n",
        "print(elan_ke047,rt_ke_lst[28])\n",
        "print(elan_ke037,rt_ke_lst[29])\n",
        "print(elan_ke027,rt_ke_lst[30])\n",
        "\n",
        "print(elan_ke286,rt_ke_lst[34])\n",
        "print(elan_ke276,rt_ke_lst[35])\n",
        "print(elan_ke266,rt_ke_lst[36])\n",
        "print(elan_ke236,rt_ke_lst[39])\n",
        "print(elan_ke216,rt_ke_lst[41])\n",
        "print(elan_ke196,rt_ke_lst[43])\n",
        "print(elan_ke176,rt_ke_lst[45])\n",
        "print(elan_ke166,rt_ke_lst[46])\n",
        "print(elan_ke156,rt_ke_lst[47])\n",
        "print(elan_ke146,rt_ke_lst[48])\n",
        "print(elan_ke096,rt_ke_lst[53])\n",
        "print(elan_ke066,rt_ke_lst[56])\n",
        "print(elan_ke046,rt_ke_lst[58])\n",
        "print(elan_ke036,rt_ke_lst[59])\n",
        "print(elan_ke026,rt_ke_lst[60])\n",
        "print(elan_ke016,rt_ke_lst[61])"
      ],
      "execution_count": 59,
      "outputs": [
        {
          "output_type": "stream",
          "text": [
            "-0.5153977901524205 (datetime.date(2020, 7, 20), array(1.73539779), 603)\n",
            "0.029292012804695844 (datetime.date(2020, 7, 18), array(1.19070799), 389)\n",
            "0.0904027629603692 (datetime.date(2020, 7, 15), array(1.10959724), 497)\n",
            "0.2693197227754739 (datetime.date(2020, 7, 14), array(0.95068028), 189)\n",
            "-0.623292267485529 (datetime.date(2020, 7, 11), array(1.80329227), 473)\n",
            "0.11118049200888702 (datetime.date(2020, 7, 7), array(1.05881951), 181)\n",
            "-0.13903483785307813 (datetime.date(2020, 7, 4), array(1.30903484), 247)\n",
            "-0.33293216598113107 (datetime.date(2020, 7, 3), array(1.51293217), 268)\n",
            "-0.11813750875133855 (datetime.date(2020, 7, 2), array(1.29813751), 307)\n",
            "-0.12171380094629591 (datetime.date(2020, 6, 28), array(1.3417138), 278)\n",
            "0.12105646420650729 (datetime.date(2020, 6, 27), array(1.05894354), 149)\n",
            "-0.36866468004706365 (datetime.date(2020, 6, 26), array(1.43866468), 178)\n",
            "0.04702362134420346 (datetime.date(2020, 6, 23), array(1.10297638), 59)\n",
            "0.2933072275808717 (datetime.date(2020, 6, 21), array(0.80669277), 104)\n",
            "-0.3267596259834429 (datetime.date(2020, 6, 19), array(1.58675963), 213)\n",
            "-0.06862415021775092 (datetime.date(2020, 6, 17), array(1.10862415), 133)\n",
            "-0.43106719074044575 (datetime.date(2020, 6, 16), array(1.14106719), 133)\n",
            "-0.34870513875518994 (datetime.date(2020, 6, 15), array(1.22870514), 137)\n",
            "-0.08592589343777068 (datetime.date(2020, 6, 14), array(1.02592589), 152)\n",
            "0.08384475130864266 (datetime.date(2020, 6, 9), array(1.24615525), 95)\n",
            "-0.03314326939748646 (datetime.date(2020, 6, 6), array(1.37314327), 134)\n",
            "0.2673209893055233 (datetime.date(2020, 6, 4), array(1.05267901), 123)\n",
            "0.5458121038752664 (datetime.date(2020, 6, 3), array(0.7241879), 72)\n",
            "0.4717671821314 (datetime.date(2020, 6, 2), array(0.78823282), 59)\n",
            "-0.17061174339456997 (datetime.date(2020, 6, 1), array(1.45061174), 74)\n"
          ],
          "name": "stdout"
        }
      ]
    },
    {
      "cell_type": "code",
      "metadata": {
        "id": "eXHXGBC9AHVO",
        "colab_type": "code",
        "colab": {}
      },
      "source": [
        "# Plotting everything except the first 7 days\n",
        "\n",
        "np.random.seed(12345)\n",
        "\n",
        "formatf_date = lambda date_py: '{}/{}'.format(date_py.day, str(date_py.month)[0:1])\n",
        "\n",
        "daty_lst = []\n",
        "\n",
        "data_Rt_lst = []\n",
        "\n",
        "for i in range(round(((daty_data_mifar - daty_data_manom).days) -7)):\n",
        "  t = daty_data_manom + datetime.timedelta(days = i+1 +7)\n",
        "  data_amboar = [gengamma.rvs( func_sh(t)(Rt_salan(t)), 1, loc = 0, scale = func_sc(t)(1)) for j in range(400)]\n",
        "  daty_lst.append(formatf_date(t))\n",
        "  data_Rt_lst.append(data_amboar)\n"
      ],
      "execution_count": null,
      "outputs": []
    },
    {
      "cell_type": "code",
      "metadata": {
        "id": "CdYwU2SuAKFY",
        "colab_type": "code",
        "colab": {
          "base_uri": "https://localhost:8080/",
          "height": 661
        },
        "outputId": "eb19fdb2-892f-4986-b977-1506077c864b"
      },
      "source": [
        "# Plotting everything except the first 7 days\n",
        "\n",
        "\n",
        "fig, ax = plt.subplots(figsize=(10, 10))\n",
        "\n",
        "sns.boxplot(daty_lst, data_Rt_lst, color='white', width=0.2, showfliers=False, ax=ax)\n",
        "ax.axhline(y=1, color='b', linestyle='dashed', label =\"R = 1\")\n",
        "\n",
        "ax.set(xlabel ='Andro', ylabel = \"R hoan'i Kenya\")\n",
        "ax.legend(loc= 'best')\n",
        "\n",
        "\n",
        "plt.savefig(path_to_save+'Rt205206_ke.eps')\n",
        "plt.savefig(path_to_save+'Rt205206_ke.png')\n",
        "plt.show()"
      ],
      "execution_count": null,
      "outputs": [
        {
          "output_type": "stream",
          "text": [
            "The PostScript backend does not support transparency; partially transparent artists will be rendered opaque.\n",
            "The PostScript backend does not support transparency; partially transparent artists will be rendered opaque.\n"
          ],
          "name": "stderr"
        },
        {
          "output_type": "display_data",
          "data": {
            "image/png": "[encoded data removed]",
            "text/plain": [
              "<Figure size 720x720 with 1 Axes>"
            ]
          },
          "metadata": {
            "tags": [],
            "needs_background": "light"
          }
        }
      ]
    },
    {
      "cell_type": "code",
      "metadata": {
        "id": "Ru6DUvFlxXfs",
        "colab_type": "code",
        "colab": {
          "base_uri": "https://localhost:8080/",
          "height": 34
        },
        "outputId": "40122b8a-2aad-44c8-f04d-bf43a294f701"
      },
      "source": [
        "print(\"Mediana R hoan'ny\", daty_lst[17], ':', np.median(data_Rt_lst[17]))"
      ],
      "execution_count": null,
      "outputs": [
        {
          "output_type": "stream",
          "text": [
            "Mediana R hoan'ny 14/6 : 1.0340190177960136\n"
          ],
          "name": "stdout"
        }
      ]
    },
    {
      "cell_type": "markdown",
      "metadata": {
        "id": "DbGzUX8APoKa",
        "colab_type": "text"
      },
      "source": [
        "# Jeritodika ny herinandro"
      ]
    },
    {
      "cell_type": "code",
      "metadata": {
        "id": "NT6fz8vjPsr0",
        "colab_type": "code",
        "colab": {}
      },
      "source": [
        "# Computing Ivao(daty_mifarj + i) for i in range(1,8)\n",
        "\n",
        "daty_data_mifarj = datetime.date(2020,6,15)\n",
        "\n",
        "daty_ambaj = datetime.date(2020,6,13)\n",
        "daty_amboj = datetime.date(2020,6,9)\n",
        "\n",
        "daty_vinaj = daty_amboj\n",
        "\n",
        "daty_m1j = daty_data_mifarj + datetime.timedelta(days = 1)\n",
        "\n",
        "Iv = int(Rt_salan(daty_vinaj)*lsi(daty_m1j))\n",
        "\n",
        "dIvao.loc[pd.to_datetime(daty_m1j)] =[Iv]\n",
        "\n",
        "for i in range(1,8):\n",
        " tj = daty_m1j + datetime.timedelta(days = i)\n",
        " Ivv = int(Rt_salan(daty_vinaj)*lsi(tj))\n",
        " dIvao.loc[pd.to_datetime(tj)] = [Ivv]"
      ],
      "execution_count": null,
      "outputs": []
    },
    {
      "cell_type": "code",
      "metadata": {
        "id": "jjq_TgiTPwSl",
        "colab_type": "code",
        "colab": {}
      },
      "source": [
        "# Plotting the evaluation of the last 7 days\n",
        "\n",
        "np.random.seed(12345)\n",
        "\n",
        "formatf_date = lambda date_py: '{}/{}'.format(date_py.day, str(date_py.month)[0:1])\n",
        "\n",
        "daty_j_lst = []\n",
        "\n",
        "data_boj = []\n",
        "\n",
        "\n",
        "for i in range(1,8):\n",
        "  t = daty_data_mifarj + datetime.timedelta(days = i)\n",
        "  daty = formatf_date(t)\n",
        "  datyy = format_date(t)\n",
        "  data_amboar = [ poisson.rvs(dIvao.loc[datyy]) for j in range(600)]\n",
        "  daty_j_lst.append(daty)\n",
        "  data_boj.append(data_amboar)\n"
      ],
      "execution_count": null,
      "outputs": []
    },
    {
      "cell_type": "code",
      "metadata": {
        "id": "wwtfB-wXP3aP",
        "colab_type": "code",
        "colab": {
          "base_uri": "https://localhost:8080/",
          "height": 389
        },
        "outputId": "2e4fce8c-8f02-4843-a24d-2e6b6e0fc3ec"
      },
      "source": [
        "# Plotting the evaluation of the last 7 days\n",
        "\n",
        "fig, ax = plt.subplots(figsize=(10,5))\n",
        "box = sns.boxplot(daty_j_lst, data_baj, color='white', width=0.2, showfliers=False, ax=ax)\n",
        "box = sns.boxplot(daty_j_lst, data_boj, color='grey', width=0.2, showfliers=False, ax=ax)\n",
        "ax.plot(daty_j_lst, dIvao.loc[pd.to_datetime(daty_m1j):pd.to_datetime(daty_m1j + datetime.timedelta(days = 6))], marker =\"o\",ls = 'None', color='blue',label=\"Voa vaovao voatily\")\n",
        "ax.set(xlabel = 'Andro any aoriana', ylabel=\"Vinavina voa vaovao\")\n",
        "\n",
        "plt.legend(loc= 'best')\n",
        "\n",
        "plt.savefig(path_to_save+'Iv166j_ke.eps')\n",
        "plt.savefig(path_to_save+'Iv166j_ke.png')\n",
        "\n",
        "plt.show()"
      ],
      "execution_count": null,
      "outputs": [
        {
          "output_type": "stream",
          "text": [
            "The PostScript backend does not support transparency; partially transparent artists will be rendered opaque.\n",
            "The PostScript backend does not support transparency; partially transparent artists will be rendered opaque.\n"
          ],
          "name": "stderr"
        },
        {
          "output_type": "display_data",
          "data": {
            "image/png": "[encoded data removed]",
            "text/plain": [
              "<Figure size 720x360 with 1 Axes>"
            ]
          },
          "metadata": {
            "tags": [],
            "needs_background": "light"
          }
        }
      ]
    },
    {
      "cell_type": "markdown",
      "metadata": {
        "id": "t2bZNy-JL8A6",
        "colab_type": "text"
      },
      "source": [
        "# 7 andro manaraka"
      ]
    },
    {
      "cell_type": "code",
      "metadata": {
        "id": "Xj2OtPEDwUgQ",
        "colab_type": "code",
        "colab": {}
      },
      "source": [
        "daty_amba = datetime.date(2020,6,21)\n",
        "daty_ambo = datetime.date(2020,6,19)"
      ],
      "execution_count": null,
      "outputs": []
    },
    {
      "cell_type": "code",
      "metadata": {
        "id": "v_51exI0wg7Z",
        "colab_type": "code",
        "colab": {}
      },
      "source": [
        "# Computing Ivao(daty_mifar + i) for i in range(1,8)\n",
        "\n",
        "\n",
        "daty_vina = daty_ambo\n",
        "\n",
        "daty_m1 = daty_data_mifar + datetime.timedelta(days = 1)\n",
        "\n",
        "Iv = int(Rt_salan(daty_vina)*lsi(daty_m1))\n",
        "\n",
        "dIvao.loc[pd.to_datetime(daty_m1)] =[Iv]\n",
        "\n",
        "for i in range(1,8):\n",
        " errt = daty_m1 + datetime.timedelta(days = i)\n",
        " Ivv = int(Rt_salan(daty_vina)*lsi(errt))\n",
        " dIvao.loc[pd.to_datetime(errt)] =[Ivv]\n"
      ],
      "execution_count": null,
      "outputs": []
    },
    {
      "cell_type": "code",
      "metadata": {
        "id": "oeXEoAOawnC3",
        "colab_type": "code",
        "colab": {}
      },
      "source": [
        "# Plotting boundaries for the next 7 days\n",
        "\n",
        "np.random.seed(12345)\n",
        "\n",
        "formatf_date = lambda date_py: '{}/{}'.format(date_py.day, str(date_py.month)[0:1])\n",
        "\n",
        "daty_hoav_lst = []\n",
        "\n",
        "data_hoav = []\n",
        "\n",
        "Ivv_dat = []\n",
        "\n",
        "for i in range(1,8):\n",
        "  t = daty_data_mifar + datetime.timedelta(days = i)\n",
        "  daty = formatf_date(t)\n",
        "  datyy = format_date(t)\n",
        "  data_amboar = [ poisson.rvs(dIvao.loc[datyy]) for j in range(600)]\n",
        "  daty_hoav_lst.append(daty)\n",
        "  data_hoav.append(data_amboar)\n"
      ],
      "execution_count": null,
      "outputs": []
    },
    {
      "cell_type": "code",
      "metadata": {
        "id": "ZMJ5GQKTwqph",
        "colab_type": "code",
        "colab": {
          "base_uri": "https://localhost:8080/",
          "height": 334
        },
        "outputId": "7d6e9ea1-3882-4efc-c486-e48ac0ec743a"
      },
      "source": [
        "# Plotting boundaries for the next 7 days\n",
        "\n",
        "fig, ax = plt.subplots(figsize=(10,5))\n",
        "box = sns.boxplot(daty_hoav_lst, data_hoav, color='white', width=0.2, showfliers=False, ax=ax)\n",
        "\n",
        "ax.set_xlabel('Andro any aoriana')\n",
        "ax.set_ylabel(\"Vinavina isan'ny voa vaovao\")\n",
        "\n",
        "plt.savefig(path_to_save+'Ivbo226hoav_ke.eps')\n",
        "plt.savefig(path_to_save+'Ivbo226hoav_ke.png')\n",
        "\n",
        "plt.show()"
      ],
      "execution_count": null,
      "outputs": [
        {
          "output_type": "display_data",
          "data": {
            "image/png": "[encoded data removed]",
            "text/plain": [
              "<Figure size 720x360 with 1 Axes>"
            ]
          },
          "metadata": {
            "tags": [],
            "needs_background": "light"
          }
        }
      ]
    },
    {
      "cell_type": "markdown",
      "metadata": {
        "id": "O6V68e859v2g",
        "colab_type": "text"
      },
      "source": [
        "## DRC Congo"
      ]
    },
    {
      "cell_type": "code",
      "metadata": {
        "id": "JTA-h0gR8Mc1",
        "colab_type": "code",
        "colab": {}
      },
      "source": [
        "# Voa vaovao (observed incidence)\n",
        "Ivao = datawcod['cases']\n",
        "\n",
        "dIvao = pd.DataFrame(data =Ivao)\n",
        "\n",
        "dIvao.sort_index(inplace=True)\n",
        "\n",
        "# ireo daty fanombohana sy fiafaran'ny antontan'isa raisina\n",
        "# (Time range of data used for the estimation)\n",
        "\n",
        "daty_data_manom = datetime.date(2020,5,20)\n",
        "daty_data_mifar = datetime.date(2020,6,22)\n",
        "\n",
        "datyt = daty_data_mifar\n",
        "\n",
        "format_date = lambda date_py: '{}-{}-{}'.format(date_py.year, date_py.month, date_py.day)\n",
        "\n",
        "# 0/ Discretization of the serial interval distribution\n",
        "\n",
        "#Tombana mialoha (prior distributions)\n",
        "#si_sh = 1/(0.62**2) # Report 13\n",
        "#si_sc = 6.5/si_sh\n",
        "\n",
        "si_sh = (6.48**2)/(3.83**2) # Jereo Imperial Covid-19 COVID-19 response team: Short-term forecasts\n",
        "si_sc = 6.48/si_sh\n",
        "\n",
        "def discr_si(t):\n",
        "  if t == 0:\n",
        "    discrsi = 0\n",
        "  elif t == 1:\n",
        "    discrsi = gengamma.cdf(3/2, si_sh, 1, loc = 0, scale = si_sc)\n",
        "  else:\n",
        "    discrsi = gengamma.cdf(t+1/2, si_sh, 1, loc = 0, scale = si_sc) - gengamma.cdf(t-1/2, si_sh, 1, loc = 0, scale = si_sc)\n",
        "  return discrsi\n",
        "\n",
        "# 1/ The total incidence over a generic window (t-k+1,t)\n",
        "# Ireh(t,k) = sum(i = 0 to k-1) Ivao(t - i))\n",
        "\n",
        "def Ireh(t,k):\n",
        "  Irehv = 0\n",
        "  if k - 1 > (t - daty_data_manom).days:\n",
        "    for i in range((t - daty_data_manom).days + 1):\n",
        "      Irehv = Irehv + dIvao['cases'].loc[format_date(t - datetime.timedelta(days = i))]\n",
        "  else:\n",
        "    for i in range(k):\n",
        "      Irehv = Irehv + dIvao['cases'].loc[format_date(t - datetime.timedelta(days = i))]\n",
        "  return Irehv\n",
        "\n",
        "# 2/ Tool to compute the total infectiousness over a generic window (t-k+1,t)\n",
        "# Isi(t,k) = sum(i=0 to k-1) Ivao(t - i)*discr_si(i)\n",
        "\n",
        "# The definition of Isi(t,k) does not include the term Ivao(t) for i = 0 (because discr_si(0) =0)\n",
        "# so we can start the sum from i = 1; but it includes the last term Ivao(t - k + 1)*discr_si(k - 1) for i = k-1. \n",
        "\n",
        "def Isi(t,k):\n",
        "  Ivaosi = 0\n",
        "  if k - 1 > (t - daty_data_manom).days:\n",
        "    for i in range(1,(t - daty_data_manom).days + 1):\n",
        "      Ivaosi = Ivaosi + dIvao['cases'].loc[format_date(t - datetime.timedelta(days = i))]*discr_si(i)\n",
        "  else:\n",
        "    for i in range(1,k):\n",
        "      Ivaosi = Ivaosi + dIvao['cases'].loc[format_date(t - datetime.timedelta(days = i))]*discr_si(i)\n",
        "  return Ivaosi\n",
        "\n",
        "# The total infectiousness before t\n",
        "\n",
        "# lsi(t) := sum(i=0 to t-1) Ivao(t - i)*discr_si(i)\n",
        "\n",
        "def lsi(t):\n",
        "  return Isi(t, (t - daty_data_manom).days +1)\n",
        "\n",
        "  # for checking, take for example t = daty_data_manom + datetime.timedelta(days = 3)\n",
        "\n",
        "# 3/ The sum of total infectiousness before t over a generic window (t-k+1,t)\n",
        "# tlsi(t) := sum(i=t-k+1 to t)lsi(i)\n",
        "\n",
        "def tlsi(t,k):\n",
        "  tlsi = 0\n",
        "  if k - 1 > (t - daty_data_manom).days:\n",
        "    for i in range((t - daty_data_manom).days + 1):\n",
        "      tlsi = tlsi + lsi(t - datetime.timedelta(days = i))\n",
        "  else:\n",
        "    for i in range(k):\n",
        "      tlsi = tlsi + lsi(t - datetime.timedelta(days = i))\n",
        "  return tlsi\n",
        "\n",
        "# 4/ The shape parameters of the posterior predictive negative binomial of I(t+1)\n",
        "\n",
        "# pnb(t,k) = lsi(t+1)*Gamma_post_scale(R(t,k))/(1 + lsi(t+1)*Gamma_post_scale(R(t,k)))\n",
        "\n",
        "def pnb(t,k):\n",
        "  return lsi(t+datetime.timedelta(days = 1))/(1/si_sc + tlsi(t,k) + lsi(t+datetime.timedelta(days = 1)))\n",
        "\n",
        "# pnb(t,k) dia ny taha herjika hoan'ny NB hoan'ny I(t+1).\n",
        "\n",
        "# 5/ Use the pmf of the posterior predictive negative binomial to compute\n",
        "# each additive contribution at time s then for-loop for s in the time interval\n",
        "\n",
        "def lpr(t,k):\n",
        "  return -np.log(nbinom.pmf(dIvao['cases'].loc[format_date(t + datetime.timedelta(days = 1))], si_sh + Ireh(t,k), pnb(t,k)))\n"
      ],
      "execution_count": null,
      "outputs": []
    },
    {
      "cell_type": "code",
      "metadata": {
        "id": "Kn4_tkqU-KT9",
        "colab_type": "code",
        "colab": {
          "base_uri": "https://localhost:8080/",
          "height": 159
        },
        "outputId": "ece3724a-7caf-458d-d378-19ceded38f98"
      },
      "source": [
        "# 6/ Computation of the Accumulated Predictive Error\n",
        "\n",
        "# APE9_part1 \n",
        "\n",
        "APEt91 = []\n",
        "Prt91 = []\n",
        "\n",
        "APE91 = 0\n",
        "\n",
        "for i in range((daty_data_mifar - daty_data_manom).days - 9 + 1):\n",
        "  t = daty_data_mifar - datetime.timedelta(days = i+1) \n",
        "  k = 9\n",
        "  APE91 = APE91 + lpr(t,k)\n",
        "  APEt91.append((lpr(t,k),t))\n",
        "  Prt91.append(expon.pdf(lpr(t,k)))\n",
        "\n",
        "print('For k = 9, APE91 =', APE91)\n",
        "print('APEt91 =', APEt91)\n",
        "print('Prt91 =', Prt91)\n",
        "\n",
        "# APE9_part2 \n",
        "\n",
        "APEt92 = []\n",
        "Prt92 = []\n",
        "\n",
        "APE92 = 0\n",
        "for i in range(7):\n",
        "  t = daty_data_manom - datetime.timedelta(days = i -7)\n",
        "  k = 9 - 1 - i\n",
        "  APE92 = APE92 + lpr(t,k) \n",
        "  APEt92.append((lpr(t,k),t,k))\n",
        "  Prt92.append(expon.pdf(lpr(t,k)))\n",
        "\n",
        "print('For k = 9, APE92 =', APE92)\n",
        "print('APEt92=', APEt92)\n",
        "print('Prt92=', Prt92)\n",
        "\n",
        "# For t_man such that Ivao(t_man) = Ivao(t_man + 1) = 0, we have :\n",
        "# lsi(t_man + 1) = tlsi(t_man + 1, 2) = Ireh(t_man + 1, 2) = 0,\n",
        "# so that pnb(t_man + 1, 2) = 0."
      ],
      "execution_count": null,
      "outputs": [
        {
          "output_type": "stream",
          "text": [
            "/usr/local/lib/python3.6/dist-packages/ipykernel_launcher.py:100: RuntimeWarning: divide by zero encountered in log\n"
          ],
          "name": "stderr"
        },
        {
          "output_type": "stream",
          "text": [
            "For k = 9, APE91 = inf\n",
            "APEt91 = [(inf, datetime.date(2020, 6, 21)), (inf, datetime.date(2020, 6, 20)), (inf, datetime.date(2020, 6, 19)), (inf, datetime.date(2020, 6, 18)), (inf, datetime.date(2020, 6, 17)), (inf, datetime.date(2020, 6, 16)), (inf, datetime.date(2020, 6, 15)), (inf, datetime.date(2020, 6, 14)), (inf, datetime.date(2020, 6, 13)), (inf, datetime.date(2020, 6, 12)), (inf, datetime.date(2020, 6, 11)), (inf, datetime.date(2020, 6, 10)), (inf, datetime.date(2020, 6, 9)), (inf, datetime.date(2020, 6, 8)), (inf, datetime.date(2020, 6, 7)), (inf, datetime.date(2020, 6, 6)), (inf, datetime.date(2020, 6, 5)), (inf, datetime.date(2020, 6, 4)), (inf, datetime.date(2020, 6, 3)), (inf, datetime.date(2020, 6, 2)), (inf, datetime.date(2020, 6, 1)), (inf, datetime.date(2020, 5, 31)), (inf, datetime.date(2020, 5, 30)), (inf, datetime.date(2020, 5, 29)), (inf, datetime.date(2020, 5, 28))]\n",
            "Prt91 = [0.0, 0.0, 0.0, 0.0, 0.0, 0.0, 0.0, 0.0, 0.0, 0.0, 0.0, 0.0, 0.0, 0.0, 0.0, 0.0, 0.0, 0.0, 0.0, 0.0, 0.0, 0.0, 0.0, 0.0, 0.0]\n",
            "For k = 9, APE92 = inf\n",
            "APEt92= [(inf, datetime.date(2020, 5, 27), 8), (420.6225217143726, datetime.date(2020, 5, 26), 7), (744.4400719213812, datetime.date(2020, 5, 25), 6), (205.8488922592249, datetime.date(2020, 5, 24), 5), (102.64033712944023, datetime.date(2020, 5, 23), 4), (42.031463802053125, datetime.date(2020, 5, 22), 3), (9.17948770721216, datetime.date(2020, 5, 21), 2)]\n",
            "Prt92= [0.0, 2.118165329819786e-183, 5e-324, 3.9898997698153255e-90, 2.6537986204798316e-45, 5.571436748951286e-19, 0.00010313335409214242]\n"
          ],
          "name": "stdout"
        }
      ]
    },
    {
      "cell_type": "code",
      "metadata": {
        "id": "bXpy2OAY-ScG",
        "colab_type": "code",
        "colab": {
          "base_uri": "https://localhost:8080/",
          "height": 89
        },
        "outputId": "cd8d45b3-eed6-43f9-9ef4-81e9b09eb7c0"
      },
      "source": [
        "# APEk part 1 for k =/= 9\n",
        "\n",
        "# for i in range(t_mif - t_man -j)\n",
        "\n",
        "APEk1 = []\n",
        "#APEt21 = []\n",
        "for j in range(2,9):\n",
        "  APEj1 = 0\n",
        "  for i in range(round(((daty_data_mifar - daty_data_manom).days) - j)):\n",
        "    t = daty_data_mifar - datetime.timedelta(days = i+1) \n",
        "    k = j\n",
        "    APEj1 = APEj1 + lpr(t,k)\n",
        "   # APEt21.append(lpr(t,k))\n",
        "  APEk1.append(APEj1)\n",
        "\n",
        "print('APEk1 =', APEk1)\n",
        "#print('APEt21 =', APEt21)\n",
        "\n",
        "# APEk part 2 for k =/= 9\n",
        "\n",
        "Prk2 = []\n",
        "\n",
        "APEk2 = []\n",
        "\n",
        "for j in range(2,9):\n",
        "  APEj2 = 0\n",
        "  for i in range(j-1):\n",
        "    t = daty_data_manom + datetime.timedelta(days = j - i - 1)\n",
        "    k = j - i\n",
        "    APEj2 = APEj2 + lpr(t,k)\n",
        "  APEk2.append(APEj2)\n",
        "\n",
        "print('APEk2 =', APEk2)"
      ],
      "execution_count": null,
      "outputs": [
        {
          "output_type": "stream",
          "text": [
            "/usr/local/lib/python3.6/dist-packages/ipykernel_launcher.py:100: RuntimeWarning: divide by zero encountered in log\n"
          ],
          "name": "stderr"
        },
        {
          "output_type": "stream",
          "text": [
            "APEk1 = [2741.7147049245723, 7657.689621247573, 13667.314278980364, inf, inf, inf, inf]\n",
            "APEk2 = [9.17948770721216, 51.210951509265286, 153.8512886387055, 359.7001808979304, 1104.1402528193116, 1524.762774533684, inf]\n"
          ],
          "name": "stdout"
        }
      ]
    },
    {
      "cell_type": "code",
      "metadata": {
        "id": "kzXQfUV3-bGn",
        "colab_type": "code",
        "colab": {
          "base_uri": "https://localhost:8080/",
          "height": 86
        },
        "outputId": "1cdbc246-52e5-43de-f8c8-41d162c46ebf"
      },
      "source": [
        "# APEk for k = 2,...,8\n",
        "\n",
        "APEk = [x + y for x, y in zip(APEk1, APEk2)]\n",
        "\n",
        "# APE9\n",
        "APE9 = APE91 + APE92\n",
        "\n",
        "APE = APEk + [APE9]\n",
        "kk = APE.index(min(APE)) +2\n",
        "print('APE9 =', APE9)\n",
        "print('APEk =', APEk)\n",
        "print('APE =', APE)\n",
        "print(kk)\n"
      ],
      "execution_count": null,
      "outputs": [
        {
          "output_type": "stream",
          "text": [
            "APE9 = inf\n",
            "APEk = [2750.8941926317843, 7708.900572756838, 13821.16556761907, inf, inf, inf, inf]\n",
            "APE = [2750.8941926317843, 7708.900572756838, 13821.16556761907, inf, inf, inf, inf, inf]\n",
            "2\n"
          ],
          "name": "stdout"
        }
      ]
    },
    {
      "cell_type": "markdown",
      "metadata": {
        "id": "Vv87ck_M-pgs",
        "colab_type": "text"
      },
      "source": [
        "## Fifidianana ireo taha mialoha (prior parameters)"
      ]
    },
    {
      "cell_type": "code",
      "metadata": {
        "id": "ewPSq6UJ-qj8",
        "colab_type": "code",
        "colab": {}
      },
      "source": [
        "\n",
        "  #shape\n",
        "def func_sh(t):\n",
        "    def Rtpsand_sh(a):\n",
        "      return a + Ireh(t,kk)\n",
        "    return Rtpsand_sh\n",
        "  # Scale\n",
        "def func_sc(t):\n",
        "    def Rtpsand_sc(b):\n",
        "      return 1/(1/b + tlsi(t,kk))\n",
        "    return Rtpsand_sc\n",
        "\n",
        "def funcsh_inv(t):\n",
        "    def sh_invex(x):\n",
        "      return (x + Ireh(t,kk))/x\n",
        "    return inversefunc(sh_invex, domain=[0.01, 1e+11])\n"
      ],
      "execution_count": null,
      "outputs": []
    },
    {
      "cell_type": "code",
      "metadata": {
        "id": "S55Kd_H0-zhe",
        "colab_type": "code",
        "colab": {
          "base_uri": "https://localhost:8080/",
          "height": 535
        },
        "outputId": "5ae39515-ea06-4df7-a5e1-7099628d01f4"
      },
      "source": [
        "# Variation of R(datyab) with rapport to the prior parameters\n",
        "\n",
        "datyab = daty_data_mifar\n",
        "\n",
        "fig = plt.figure(figsize=(7,7))\n",
        "ax = fig.gca(projection='3d')\n",
        "\n",
        "# Make data.\n",
        "X = np.linspace(0.1,5,100)\n",
        "Y = np.linspace(0.1,5,100)\n",
        "X, Y = np.meshgrid(X, Y)\n",
        "Z = func_sh(datyab)(X)*func_sc(datyab)(Y)\n",
        "W = X*Y\n",
        "# Plot the surface.\n",
        "surf = ax.plot_surface(X, Y, Z, cmap=cm.coolwarm,\n",
        "                       linewidth=0, antialiased=False)\n",
        "#surf = ax.plot_surface(X, Y, W, cmap=cm.coolwarm,\n",
        " #                      linewidth=0, antialiased=False)\n",
        "\n",
        "# Customize the z axis.\n",
        "ax.set_zlim(1.4,1.48)\n",
        "ax.zaxis.set_major_locator(LinearLocator(10))\n",
        "ax.zaxis.set_major_formatter(FormatStrFormatter('%.02f'))\n",
        "\n",
        "ax.set(xlabel ='bika a', ylabel = \"taha b\", zlabel = 'R(t=22/06)')\n",
        "\n",
        "# Add a color bar which maps values to colors.\n",
        "fig.colorbar(surf, shrink=0.5, aspect=5)\n",
        "\n",
        "plt.savefig(path_to_save+'Rt205226_drc.eps')\n",
        "\n",
        "plt.show()"
      ],
      "execution_count": null,
      "outputs": [
        {
          "output_type": "stream",
          "text": [
            "The PostScript backend does not support transparency; partially transparent artists will be rendered opaque.\n",
            "The PostScript backend does not support transparency; partially transparent artists will be rendered opaque.\n",
            "The PostScript backend does not support transparency; partially transparent artists will be rendered opaque.\n",
            "The PostScript backend does not support transparency; partially transparent artists will be rendered opaque.\n",
            "The PostScript backend does not support transparency; partially transparent artists will be rendered opaque.\n",
            "The PostScript backend does not support transparency; partially transparent artists will be rendered opaque.\n"
          ],
          "name": "stderr"
        },
        {
          "output_type": "display_data",
          "data": {
            "image/png": "[encoded data removed]",
            "text/plain": [
              "<Figure size 504x504 with 2 Axes>"
            ]
          },
          "metadata": {
            "tags": [],
            "needs_background": "light"
          }
        }
      ]
    },
    {
      "cell_type": "code",
      "metadata": {
        "id": "jYtrzMXJ_LN-",
        "colab_type": "code",
        "colab": {
          "base_uri": "https://localhost:8080/",
          "height": 318
        },
        "outputId": "0cfd513f-eaa7-4a3e-ef8f-709a12fee3ff"
      },
      "source": [
        "# R(t) when equality between the prior and the posterior\n",
        "\n",
        "# 100 linearly spaced numbers\n",
        "x = np.linspace(0.1,5,100)\n",
        "\n",
        "fig = plt.figure()\n",
        "ax = fig.add_subplot(1, 1, 1)\n",
        "\n",
        "# plot the function\n",
        "plt.plot(x, x*funcsh_inv(datyab)(x/func_sc(datyab)(x)), 'blue')\n",
        "\n",
        "ax.set_ylim(0,2)\n",
        "ax.set(xlabel ='taha', ylabel = \"R(t)\")\n",
        "\n",
        "\n",
        "# show the plot\n",
        "plt.show()\n",
        "\n",
        "print('taha* = 1')\n",
        "print('R(t=',datyab,') =', funcsh_inv(datyab)(1/func_sc(datyab)(1)), '= bika*')\n"
      ],
      "execution_count": null,
      "outputs": [
        {
          "output_type": "display_data",
          "data": {
            "image/png": "[encoded data removed]",
            "text/plain": [
              "<Figure size 432x288 with 1 Axes>"
            ]
          },
          "metadata": {
            "tags": [],
            "needs_background": "light"
          }
        },
        {
          "output_type": "stream",
          "text": [
            "taha* = 1\n",
            "R(t= 2020-06-22 ) = 1.456748278383929 = bika*\n"
          ],
          "name": "stdout"
        }
      ]
    },
    {
      "cell_type": "markdown",
      "metadata": {
        "id": "OIcD-rly_g1d",
        "colab_type": "text"
      },
      "source": [
        "## Fanombanana ny Rt"
      ]
    },
    {
      "cell_type": "code",
      "metadata": {
        "id": "4uwy3aYr_hyc",
        "colab_type": "code",
        "colab": {
          "base_uri": "https://localhost:8080/",
          "height": 139
        },
        "outputId": "752a8618-fa0f-4877-9ea9-baf0563c867d"
      },
      "source": [
        "#shape\n",
        "def func_sh(t):\n",
        "    def Rtpsand_sh(a):\n",
        "      return a + Ireh(t,kk)\n",
        "    return Rtpsand_sh\n",
        "\n",
        "# Scale\n",
        "def func_sc(t):\n",
        "    def Rtpsand_sc(b):\n",
        "      return 1/(1/b + tlsi(t,kk))\n",
        "    return Rtpsand_sc\n",
        "\n",
        "\n",
        "def funcsh_inv(t):\n",
        "    def sh_invex(x):\n",
        "      return (x + Ireh(t,kk))/x\n",
        "    return inversefunc(sh_invex, domain=[1e-11, 1e+11])\n",
        "\n",
        "def Rt_salan(t):\n",
        "    ffunc_sh = func_sh(t)\n",
        "    ffunc_sc = func_sc(t)\n",
        "    ffuncsh_inv = funcsh_inv(t)\n",
        "    return ffuncsh_inv(1/ffunc_sc(1))\n",
        "\n",
        "# The 95th and 5th percentiles of Rt\n",
        "\n",
        "def perc75(t):\n",
        "    return gengamma.ppf(0.75, func_sh(t)(Rt_salan(t)), 1, loc = 0, scale = func_sc(t)(1))\n",
        "\n",
        "def perc25(t):\n",
        "    return gengamma.ppf(0.25, func_sh(t)(Rt_salan(t)), 1, loc = 0, scale = func_sc(t)(1))\n",
        "\n",
        "\n",
        "def Rtps_sal(t):\n",
        "  return dIvao['cases'].loc[format_date(t)]/lsi(t)\n",
        "\n",
        "print(\"Kajy mivantana ny R hoan'ny\", daty_data_mifar, ':', Rtps_sal(daty_data_mifar))\n",
        "\n",
        "daty_oh1 = datetime.date(2020,6,8)\n",
        "print(\"Salan'isa R hoan'ny\", daty_oh1, ':', Rt_salan(daty_oh1))\n",
        "print(\"Kartily @ 75% R hoan'ny\", daty_oh1, ':', perc75(daty_oh1))\n",
        "print(\"Kartily @ 25% R hoan'ny\", daty_oh1, ':', perc25(daty_oh1))\n",
        "\n",
        "print(\"Salan'isa R hoan'ny\", daty_data_mifar, ':', Rt_salan(daty_data_mifar))\n",
        "print(\"Kartily @ 75% R hoan'ny\", daty_data_mifar, ':', perc75(daty_data_mifar))\n",
        "print(\"Kartily @ 25% R hoan'ny\", daty_data_mifar, ':', perc25(daty_data_mifar))\n"
      ],
      "execution_count": null,
      "outputs": [
        {
          "output_type": "stream",
          "text": [
            "Kajy mivantana ny R hoan'ny 2020-06-14 : 0.6829108474195255\n",
            "Salan'isa R hoan'ny 2020-06-08 : 1.0047289020057888\n",
            "Kartily @ 75% R hoan'ny 2020-06-08 : 1.0465819381379342\n",
            "Kartily @ 25% R hoan'ny 2020-06-08 : 0.9614333055436355\n",
            "Salan'isa R hoan'ny 2020-06-14 : 0.8202446694038187\n",
            "Kartily @ 75% R hoan'ny 2020-06-14 : 0.8576955732515306\n",
            "Kartily @ 25% R hoan'ny 2020-06-14 : 0.7813737887702457\n"
          ],
          "name": "stdout"
        }
      ]
    },
    {
      "cell_type": "code",
      "metadata": {
        "id": "htYtiUItAStv",
        "colab_type": "code",
        "colab": {}
      },
      "source": [
        "# Plotting everything except the first 7 days\n",
        "\n",
        "np.random.seed(12345)\n",
        "\n",
        "formatf_date = lambda date_py: '{}/{}'.format(date_py.day, str(date_py.month)[0:1])\n",
        "\n",
        "daty_lst = []\n",
        "\n",
        "data_Rt_lst = []\n",
        "\n",
        "for i in range(round(((daty_data_mifar - daty_data_manom).days) -7)):\n",
        "  t = daty_data_manom + datetime.timedelta(days = i+1 +7)\n",
        "  data_amboar = [gengamma.rvs( func_sh(t)(Rt_salan(t)), 1, loc = 0, scale = func_sc(t)(1)) for j in range(400)]\n",
        "  daty_lst.append(formatf_date(t))\n",
        "  data_Rt_lst.append(data_amboar)\n"
      ],
      "execution_count": null,
      "outputs": []
    },
    {
      "cell_type": "code",
      "metadata": {
        "id": "rOLfbFzhA6Se",
        "colab_type": "code",
        "colab": {
          "base_uri": "https://localhost:8080/",
          "height": 641
        },
        "outputId": "3d007708-de55-454b-cb43-8f4d1d14b099"
      },
      "source": [
        "# Plotting everything except the first 7 days\n",
        "\n",
        "\n",
        "fig, ax = plt.subplots(figsize=(10, 10))\n",
        "\n",
        "sns.boxplot(daty_lst, data_Rt_lst, color='white', width=0.2, showfliers=False, ax=ax)\n",
        "ax.axhline(y=1, color='b', linestyle='dashed', label =\"R = 1\")\n",
        "\n",
        "ax.set(xlabel ='Andro', ylabel = \"R hoan'i Congo RDC\")\n",
        "ax.legend(loc= 'best')\n",
        "\n",
        "\n",
        "plt.savefig(path_to_save+'Rt15146_drc.eps')\n",
        "plt.show()"
      ],
      "execution_count": null,
      "outputs": [
        {
          "output_type": "stream",
          "text": [
            "The PostScript backend does not support transparency; partially transparent artists will be rendered opaque.\n",
            "The PostScript backend does not support transparency; partially transparent artists will be rendered opaque.\n"
          ],
          "name": "stderr"
        },
        {
          "output_type": "display_data",
          "data": {
            "image/png": "[encoded data removed]",
            "text/plain": [
              "<Figure size 720x720 with 1 Axes>"
            ]
          },
          "metadata": {
            "tags": [],
            "needs_background": "light"
          }
        }
      ]
    },
    {
      "cell_type": "code",
      "metadata": {
        "id": "Jeh4Qv14BECJ",
        "colab_type": "code",
        "colab": {
          "base_uri": "https://localhost:8080/",
          "height": 643
        },
        "outputId": "6ed6dd5e-4920-47d8-bebc-e4ac022ac68d"
      },
      "source": [
        "# Plotting the last 10 days before daty_data_mifar\n",
        "\n",
        "\n",
        "fig, ax = plt.subplots(figsize=(10, 10))\n",
        "\n",
        "sns.boxplot(daty_lst[len(daty_lst)-10:len(daty_lst)], data_Rt_lst[len(daty_lst)-10:len(daty_lst)], color='white', width=0.2, showfliers=False, ax=ax)\n",
        "ax.axhline(y=1, color='b', linestyle='dashed', label =\"R = 1\")\n",
        "\n",
        "ax.set(xlabel ='Andro', ylabel = \"R hoan'i Congo RDC\")\n",
        "ax.legend(loc= 'best')\n",
        "\n",
        "\n",
        "plt.savefig(path_to_save+'Rt1514610_drc.eps')\n",
        "plt.show()"
      ],
      "execution_count": null,
      "outputs": [
        {
          "output_type": "stream",
          "text": [
            "The PostScript backend does not support transparency; partially transparent artists will be rendered opaque.\n",
            "The PostScript backend does not support transparency; partially transparent artists will be rendered opaque.\n"
          ],
          "name": "stderr"
        },
        {
          "output_type": "display_data",
          "data": {
            "image/png": "[encoded data removed]",
            "text/plain": [
              "<Figure size 720x720 with 1 Axes>"
            ]
          },
          "metadata": {
            "tags": [],
            "needs_background": "light"
          }
        }
      ]
    },
    {
      "cell_type": "markdown",
      "metadata": {
        "id": "EJDhOB1dEnjj",
        "colab_type": "text"
      },
      "source": [
        "# South Africa"
      ]
    },
    {
      "cell_type": "code",
      "metadata": {
        "id": "oUdYPFXuBSas",
        "colab_type": "code",
        "colab": {}
      },
      "source": [
        "# Voa vaovao (observed incidence)\n",
        "Ivao = datawsa['cases']\n",
        "\n",
        "dIvao = pd.DataFrame(data =Ivao)\n",
        "\n",
        "dIvao.sort_index(inplace=True)\n",
        "\n",
        "# ireo daty fanombohana sy fiafaran'ny antontan'isa raisina\n",
        "# (Time range of data used for the estimation)\n",
        "\n",
        "daty_data_manom = datetime.date(2020,4,15)\n",
        "daty_data_mifar = datetime.date(2020,7,4)\n",
        "\n",
        "datyt = daty_data_mifar\n",
        "\n",
        "format_date = lambda date_py: '{}-{}-{}'.format(date_py.year, date_py.month, date_py.day)\n",
        "\n",
        "# 0/ Discretization of the serial interval distribution\n",
        "\n",
        "#Tombana mialoha (prior distributions)\n",
        "#si_sh = 1/(0.62**2) # Report 13\n",
        "#si_sc = 6.5/si_sh\n",
        "\n",
        "si_sh = (6.48**2)/(3.83**2) # Jereo Imperial Covid-19 COVID-19 response team: Short-term forecasts\n",
        "si_sc = 6.48/si_sh\n",
        "\n",
        "def discr_si(t):\n",
        "  if t == 0:\n",
        "    discrsi = 0\n",
        "  elif t == 1:\n",
        "    discrsi = gengamma.cdf(3/2, si_sh, 1, loc = 0, scale = si_sc)\n",
        "  else:\n",
        "    discrsi = gengamma.cdf(t+1/2, si_sh, 1, loc = 0, scale = si_sc) - gengamma.cdf(t-1/2, si_sh, 1, loc = 0, scale = si_sc)\n",
        "  return discrsi\n",
        "\n",
        "# 1/ The total incidence over a generic window (t-k+1,t)\n",
        "# Ireh(t,k) = sum(i = 0 to k-1) Ivao(t - i))\n",
        "\n",
        "def Ireh(t,k):\n",
        "  Irehv = 0\n",
        "  if k - 1 > (t - daty_data_manom).days:\n",
        "    for i in range((t - daty_data_manom).days + 1):\n",
        "      Irehv = Irehv + dIvao['cases'].loc[format_date(t - datetime.timedelta(days = i))]\n",
        "  else:\n",
        "    for i in range(k):\n",
        "      Irehv = Irehv + dIvao['cases'].loc[format_date(t - datetime.timedelta(days = i))]\n",
        "  return Irehv\n",
        "\n",
        "# 2/ Tool to compute the total infectiousness over a generic window (t-k+1,t)\n",
        "# Isi(t,k) = sum(i=0 to k-1) Ivao(t - i)*discr_si(i)\n",
        "\n",
        "# The definition of Isi(t,k) does not include the term Ivao(t) for i = 0 (because discr_si(0) =0)\n",
        "# so we can start the sum from i = 1; but it includes the last term Ivao(t - k + 1)*discr_si(k - 1) for i = k-1. \n",
        "\n",
        "def Isi(t,k):\n",
        "  Ivaosi = 0\n",
        "  if k - 1 > (t - daty_data_manom).days:\n",
        "    for i in range(1,(t - daty_data_manom).days + 1):\n",
        "      Ivaosi = Ivaosi + dIvao['cases'].loc[format_date(t - datetime.timedelta(days = i))]*discr_si(i)\n",
        "  else:\n",
        "    for i in range(1,k):\n",
        "      Ivaosi = Ivaosi + dIvao['cases'].loc[format_date(t - datetime.timedelta(days = i))]*discr_si(i)\n",
        "  return Ivaosi\n",
        "\n",
        "# The total infectiousness before t\n",
        "\n",
        "# lsi(t) := sum(i=0 to t-1) Ivao(t - i)*discr_si(i)\n",
        "\n",
        "def lsi(t):\n",
        "  return Isi(t, (t - daty_data_manom).days +1)\n",
        "\n",
        "  # for checking, take for example t = daty_data_manom + datetime.timedelta(days = 3)\n",
        "\n",
        "# 3/ The sum of total infectiousness before t over a generic window (t-k+1,t)\n",
        "# tlsi(t) := sum(i=t-k+1 to t)lsi(i)\n",
        "\n",
        "def tlsi(t,k):\n",
        "  tlsi = 0\n",
        "  if k - 1 > (t - daty_data_manom).days:\n",
        "    for i in range((t - daty_data_manom).days + 1):\n",
        "      tlsi = tlsi + lsi(t - datetime.timedelta(days = i))\n",
        "  else:\n",
        "    for i in range(k):\n",
        "      tlsi = tlsi + lsi(t - datetime.timedelta(days = i))\n",
        "  return tlsi\n",
        "\n",
        "# 4/ The shape parameters of the posterior predictive negative binomial of I(t+1)\n",
        "\n",
        "# pnb(t,k) = lsi(t+1)*Gamma_post_scale(R(t,k))/(1 + lsi(t+1)*Gamma_post_scale(R(t,k)))\n",
        "\n",
        "def pnb(t,k):\n",
        "  return lsi(t+datetime.timedelta(days = 1))/(1/si_sc + tlsi(t,k) + lsi(t+datetime.timedelta(days = 1)))\n",
        "\n",
        "# pnb(t,k) dia ny taha herjika hoan'ny NB hoan'ny I(t+1).\n",
        "\n",
        "# 5/ Use the pmf of the posterior predictive negative binomial to compute\n",
        "# each additive contribution at time s then for-loop for s in the time interval\n",
        "\n",
        "def lpr(t,k):\n",
        "  return -np.log(nbinom.pmf(dIvao['cases'].loc[format_date(t + datetime.timedelta(days = 1))], si_sh + Ireh(t,k), pnb(t,k)))\n"
      ],
      "execution_count": null,
      "outputs": []
    },
    {
      "cell_type": "code",
      "metadata": {
        "id": "iq9uRyaSE9AZ",
        "colab_type": "code",
        "colab": {
          "base_uri": "https://localhost:8080/",
          "height": 159
        },
        "outputId": "47aeb07c-a593-4d1f-b604-ac9fa77232de"
      },
      "source": [
        "# 6/ Computation of the Accumulated Predictive Error\n",
        "\n",
        "# APE9_part1 \n",
        "\n",
        "APEt91 = []\n",
        "Prt91 = []\n",
        "\n",
        "APE91 = 0\n",
        "\n",
        "for i in range((daty_data_mifar - daty_data_manom).days - 9 + 1):\n",
        "  t = daty_data_mifar - datetime.timedelta(days = i+1) \n",
        "  k = 9\n",
        "  APE91 = APE91 + lpr(t,k)\n",
        "  APEt91.append((lpr(t,k),t))\n",
        "  Prt91.append(expon.pdf(lpr(t,k)))\n",
        "\n",
        "print('For k = 9, APE91 =', APE91)\n",
        "print('APEt91 =', APEt91)\n",
        "print('Prt91 =', Prt91)\n",
        "\n",
        "# APE9_part2 \n",
        "\n",
        "APEt92 = []\n",
        "Prt92 = []\n",
        "\n",
        "APE92 = 0\n",
        "for i in range(7):\n",
        "  t = daty_data_manom - datetime.timedelta(days = i -7)\n",
        "  k = 9 - 1 - i\n",
        "  APE92 = APE92 + lpr(t,k) \n",
        "  APEt92.append((lpr(t,k),t,k))\n",
        "  Prt92.append(expon.pdf(lpr(t,k)))\n",
        "\n",
        "print('For k = 9, APE92 =', APE92)\n",
        "print('APEt92=', APEt92)\n",
        "print('Prt92=', Prt92)\n",
        "\n",
        "# For t_man such that Ivao(t_man) = Ivao(t_man + 1) = 0, we have :\n",
        "# lsi(t_man + 1) = tlsi(t_man + 1, 2) = Ireh(t_man + 1, 2) = 0,\n",
        "# so that pnb(t_man + 1, 2) = 0."
      ],
      "execution_count": null,
      "outputs": [
        {
          "output_type": "stream",
          "text": [
            "/usr/local/lib/python3.6/dist-packages/ipykernel_launcher.py:100: RuntimeWarning: divide by zero encountered in log\n"
          ],
          "name": "stderr"
        },
        {
          "output_type": "stream",
          "text": [
            "For k = 9, APE91 = inf\n",
            "APEt91 = [(inf, datetime.date(2020, 6, 29)), (inf, datetime.date(2020, 6, 28)), (inf, datetime.date(2020, 6, 27)), (inf, datetime.date(2020, 6, 26)), (inf, datetime.date(2020, 6, 25)), (inf, datetime.date(2020, 6, 24)), (inf, datetime.date(2020, 6, 23)), (inf, datetime.date(2020, 6, 22)), (inf, datetime.date(2020, 6, 21)), (inf, datetime.date(2020, 6, 20)), (inf, datetime.date(2020, 6, 19)), (inf, datetime.date(2020, 6, 18)), (inf, datetime.date(2020, 6, 17)), (inf, datetime.date(2020, 6, 16)), (inf, datetime.date(2020, 6, 15)), (inf, datetime.date(2020, 6, 14)), (inf, datetime.date(2020, 6, 13)), (inf, datetime.date(2020, 6, 12)), (inf, datetime.date(2020, 6, 11)), (inf, datetime.date(2020, 6, 10)), (inf, datetime.date(2020, 6, 9)), (inf, datetime.date(2020, 6, 8)), (inf, datetime.date(2020, 6, 7)), (inf, datetime.date(2020, 6, 6)), (inf, datetime.date(2020, 6, 5)), (inf, datetime.date(2020, 6, 4)), (inf, datetime.date(2020, 6, 3)), (inf, datetime.date(2020, 6, 2)), (inf, datetime.date(2020, 6, 1)), (inf, datetime.date(2020, 5, 31)), (inf, datetime.date(2020, 5, 30)), (inf, datetime.date(2020, 5, 29)), (inf, datetime.date(2020, 5, 28)), (inf, datetime.date(2020, 5, 27)), (inf, datetime.date(2020, 5, 26)), (inf, datetime.date(2020, 5, 25)), (inf, datetime.date(2020, 5, 24)), (inf, datetime.date(2020, 5, 23)), (inf, datetime.date(2020, 5, 22)), (inf, datetime.date(2020, 5, 21)), (inf, datetime.date(2020, 5, 20)), (inf, datetime.date(2020, 5, 19)), (inf, datetime.date(2020, 5, 18)), (inf, datetime.date(2020, 5, 17)), (inf, datetime.date(2020, 5, 16)), (inf, datetime.date(2020, 5, 15)), (inf, datetime.date(2020, 5, 14)), (inf, datetime.date(2020, 5, 13)), (inf, datetime.date(2020, 5, 12)), (inf, datetime.date(2020, 5, 11)), (inf, datetime.date(2020, 5, 10)), (inf, datetime.date(2020, 5, 9)), (inf, datetime.date(2020, 5, 8)), (inf, datetime.date(2020, 5, 7)), (inf, datetime.date(2020, 5, 6)), (inf, datetime.date(2020, 5, 5)), (inf, datetime.date(2020, 5, 4)), (inf, datetime.date(2020, 5, 3)), (inf, datetime.date(2020, 5, 2)), (inf, datetime.date(2020, 5, 1)), (inf, datetime.date(2020, 4, 30)), (inf, datetime.date(2020, 4, 29)), (inf, datetime.date(2020, 4, 28)), (inf, datetime.date(2020, 4, 27)), (inf, datetime.date(2020, 4, 26)), (inf, datetime.date(2020, 4, 25)), (inf, datetime.date(2020, 4, 24)), (inf, datetime.date(2020, 4, 23))]\n",
            "Prt91 = [0.0, 0.0, 0.0, 0.0, 0.0, 0.0, 0.0, 0.0, 0.0, 0.0, 0.0, 0.0, 0.0, 0.0, 0.0, 0.0, 0.0, 0.0, 0.0, 0.0, 0.0, 0.0, 0.0, 0.0, 0.0, 0.0, 0.0, 0.0, 0.0, 0.0, 0.0, 0.0, 0.0, 0.0, 0.0, 0.0, 0.0, 0.0, 0.0, 0.0, 0.0, 0.0, 0.0, 0.0, 0.0, 0.0, 0.0, 0.0, 0.0, 0.0, 0.0, 0.0, 0.0, 0.0, 0.0, 0.0, 0.0, 0.0, 0.0, 0.0, 0.0, 0.0, 0.0, 0.0, 0.0, 0.0, 0.0, 0.0]\n",
            "For k = 9, APE92 = inf\n",
            "APEt92= [(inf, datetime.date(2020, 4, 22), 8), (inf, datetime.date(2020, 4, 21), 7), (579.8402390903523, datetime.date(2020, 4, 20), 6), (388.75184157682224, datetime.date(2020, 4, 19), 5), (67.37895395738343, datetime.date(2020, 4, 18), 4), (12.178994645536704, datetime.date(2020, 4, 17), 3), (3.601383231334836, datetime.date(2020, 4, 16), 2)]\n",
            "Prt92= [0.0, 0.0, 1.50863360551017e-252, 1.469671842053723e-169, 5.466282845116498e-30, 5.137239702853646e-06, 0.027285953545805142]\n"
          ],
          "name": "stdout"
        }
      ]
    },
    {
      "cell_type": "code",
      "metadata": {
        "id": "mePsFrzbFC8p",
        "colab_type": "code",
        "colab": {
          "base_uri": "https://localhost:8080/",
          "height": 89
        },
        "outputId": "09e60b6b-4b47-4805-d568-37cb4d67a7d6"
      },
      "source": [
        "# APEk part 1 for k =/= 9\n",
        "\n",
        "# for i in range(t_mif - t_man -j)\n",
        "\n",
        "APEk1 = []\n",
        "#APEt21 = []\n",
        "for j in range(2,9):\n",
        "  APEj1 = 0\n",
        "  for i in range(round(((daty_data_mifar - daty_data_manom).days) - j)):\n",
        "    t = daty_data_mifar - datetime.timedelta(days = i+1) \n",
        "    k = j\n",
        "    APEj1 = APEj1 + lpr(t,k)\n",
        "   # APEt21.append(lpr(t,k))\n",
        "  APEk1.append(APEj1)\n",
        "\n",
        "print('APEk1 =', APEk1)\n",
        "#print('APEt21 =', APEt21)\n",
        "\n",
        "# APEk part 2 for k =/= 9\n",
        "\n",
        "Prk2 = []\n",
        "\n",
        "APEk2 = []\n",
        "\n",
        "for j in range(2,9):\n",
        "  APEj2 = 0\n",
        "  for i in range(j-1):\n",
        "    t = daty_data_manom + datetime.timedelta(days = j - i - 1)\n",
        "    k = j - i\n",
        "    APEj2 = APEj2 + lpr(t,k)\n",
        "  APEk2.append(APEj2)\n",
        "\n",
        "print('APEk2 =', APEk2)"
      ],
      "execution_count": null,
      "outputs": [
        {
          "output_type": "stream",
          "text": [
            "/usr/local/lib/python3.6/dist-packages/ipykernel_launcher.py:100: RuntimeWarning: divide by zero encountered in log\n"
          ],
          "name": "stderr"
        },
        {
          "output_type": "stream",
          "text": [
            "APEk1 = [inf, inf, inf, inf, inf, inf, inf]\n",
            "APEk2 = [3.601383231334836, 15.78037787687154, 83.15933183425497, 471.91117341107724, 1051.7514125014295, inf, inf]\n"
          ],
          "name": "stdout"
        }
      ]
    },
    {
      "cell_type": "code",
      "metadata": {
        "id": "ria7pBbeFUWI",
        "colab_type": "code",
        "colab": {
          "base_uri": "https://localhost:8080/",
          "height": 86
        },
        "outputId": "a42024f9-729a-405d-e5b3-61e18533463c"
      },
      "source": [
        "# APEk for k = 2,...,8\n",
        "\n",
        "APEk = [x + y for x, y in zip(APEk1, APEk2)]\n",
        "\n",
        "# APE9\n",
        "APE9 = APE91 + APE92\n",
        "\n",
        "APE = APEk + [APE9]\n",
        "kk = APE.index(min(APE)) +2\n",
        "print('APE9 =', APE9)\n",
        "print('APEk =', APEk)\n",
        "print('APE =', APE)\n",
        "print(kk)\n"
      ],
      "execution_count": null,
      "outputs": [
        {
          "output_type": "stream",
          "text": [
            "APE9 = inf\n",
            "APEk = [inf, inf, inf, inf, inf, inf, inf]\n",
            "APE = [inf, inf, inf, inf, inf, inf, inf, inf]\n",
            "2\n"
          ],
          "name": "stdout"
        }
      ]
    },
    {
      "cell_type": "markdown",
      "metadata": {
        "id": "KBOXlxtyFeS7",
        "colab_type": "text"
      },
      "source": [
        "## Fifidianana ireo taha mialoha (prior parameters)"
      ]
    },
    {
      "cell_type": "code",
      "metadata": {
        "id": "a3GkupheFfGa",
        "colab_type": "code",
        "colab": {}
      },
      "source": [
        "kk = 2\n",
        "  #shape\n",
        "def func_sh(t):\n",
        "    def Rtpsand_sh(a):\n",
        "      return a + Ireh(t,kk)\n",
        "    return Rtpsand_sh\n",
        "  # Scale\n",
        "def func_sc(t):\n",
        "    def Rtpsand_sc(b):\n",
        "      return 1/(1/b + tlsi(t,kk))\n",
        "    return Rtpsand_sc\n",
        "\n",
        "def funcsh_inv(t):\n",
        "    def sh_invex(x):\n",
        "      return (x + Ireh(t,kk))/x\n",
        "    return inversefunc(sh_invex, domain=[0.01, 1e+11])\n"
      ],
      "execution_count": null,
      "outputs": []
    },
    {
      "cell_type": "code",
      "metadata": {
        "id": "YygpkJliFwZ5",
        "colab_type": "code",
        "colab": {
          "base_uri": "https://localhost:8080/",
          "height": 535
        },
        "outputId": "cab3685c-d907-41e1-dd77-74ad3a7e4474"
      },
      "source": [
        "# Variation of R(datyab) with rapport to the prior parameters\n",
        "\n",
        "datyab = daty_data_mifar\n",
        "\n",
        "fig = plt.figure(figsize=(7,7))\n",
        "ax = fig.gca(projection='3d')\n",
        "\n",
        "# Make data.\n",
        "X = np.linspace(0.1,5,100)\n",
        "Y = np.linspace(0.1,5,100)\n",
        "X, Y = np.meshgrid(X, Y)\n",
        "Z = func_sh(datyab)(X)*func_sc(datyab)(Y)\n",
        "W = X*Y\n",
        "# Plot the surface.\n",
        "surf = ax.plot_surface(X, Y, Z, cmap=cm.coolwarm,\n",
        "                       linewidth=0, antialiased=False)\n",
        "#surf = ax.plot_surface(X, Y, W, cmap=cm.coolwarm,\n",
        " #                      linewidth=0, antialiased=False)\n",
        "\n",
        "# Customize the z axis.\n",
        "ax.set_zlim(1.3, 1.5)\n",
        "ax.zaxis.set_major_locator(LinearLocator(10))\n",
        "ax.zaxis.set_major_formatter(FormatStrFormatter('%.02f'))\n",
        "\n",
        "ax.set(xlabel ='bika a', ylabel = \"taha b\", zlabel = 'R(t=4/07)')\n",
        "\n",
        "# Add a color bar which maps values to colors.\n",
        "fig.colorbar(surf, shrink=0.5, aspect=5)\n",
        "\n",
        "plt.savefig(path_to_save+'Rt15447_sa.eps')\n",
        "\n",
        "plt.show()"
      ],
      "execution_count": null,
      "outputs": [
        {
          "output_type": "stream",
          "text": [
            "The PostScript backend does not support transparency; partially transparent artists will be rendered opaque.\n",
            "The PostScript backend does not support transparency; partially transparent artists will be rendered opaque.\n",
            "The PostScript backend does not support transparency; partially transparent artists will be rendered opaque.\n",
            "The PostScript backend does not support transparency; partially transparent artists will be rendered opaque.\n",
            "The PostScript backend does not support transparency; partially transparent artists will be rendered opaque.\n",
            "The PostScript backend does not support transparency; partially transparent artists will be rendered opaque.\n"
          ],
          "name": "stderr"
        },
        {
          "output_type": "display_data",
          "data": {
            "image/png": "[encoded data removed]",
            "text/plain": [
              "<Figure size 504x504 with 2 Axes>"
            ]
          },
          "metadata": {
            "tags": [],
            "needs_background": "light"
          }
        }
      ]
    },
    {
      "cell_type": "code",
      "metadata": {
        "id": "23HflKacF5Ua",
        "colab_type": "code",
        "colab": {
          "base_uri": "https://localhost:8080/",
          "height": 318
        },
        "outputId": "6cbb1d64-42dc-49b5-a2ed-3f27afc552ad"
      },
      "source": [
        "# R(t) when equality between the prior and the posterior\n",
        "\n",
        "# 100 linearly spaced numbers\n",
        "x = np.linspace(0.1,5,100)\n",
        "\n",
        "fig = plt.figure()\n",
        "ax = fig.add_subplot(1, 1, 1)\n",
        "\n",
        "# plot the function\n",
        "plt.plot(x, x*funcsh_inv(datyab)(x/func_sc(datyab)(x)), 'blue')\n",
        "\n",
        "ax.set_ylim(0,2)\n",
        "ax.set(xlabel ='taha', ylabel = \"R(t)\")\n",
        "\n",
        "\n",
        "# show the plot\n",
        "plt.show()\n",
        "\n",
        "print('taha* = 1')\n",
        "print('R(t=',datyab,') =', funcsh_inv(datyab)(1/func_sc(datyab)(1)), '= bika*')\n"
      ],
      "execution_count": null,
      "outputs": [
        {
          "output_type": "display_data",
          "data": {
            "image/png": "[encoded data removed]",
            "text/plain": [
              "<Figure size 432x288 with 1 Axes>"
            ]
          },
          "metadata": {
            "tags": [],
            "needs_background": "light"
          }
        },
        {
          "output_type": "stream",
          "text": [
            "taha* = 1\n",
            "R(t= 2020-07-04 ) = 1.451116911430104 = bika*\n"
          ],
          "name": "stdout"
        }
      ]
    },
    {
      "cell_type": "markdown",
      "metadata": {
        "id": "uXF3DBhqGT4P",
        "colab_type": "text"
      },
      "source": [
        "## Fanombanana ny Rt"
      ]
    },
    {
      "cell_type": "code",
      "metadata": {
        "id": "rtSmAevJGU-B",
        "colab_type": "code",
        "colab": {
          "base_uri": "https://localhost:8080/",
          "height": 139
        },
        "outputId": "13195beb-3166-4d52-e7e8-ca919f901134"
      },
      "source": [
        "#shape\n",
        "def func_sh(t):\n",
        "    def Rtpsand_sh(a):\n",
        "      return a + Ireh(t,kk)\n",
        "    return Rtpsand_sh\n",
        "\n",
        "# Scale\n",
        "def func_sc(t):\n",
        "    def Rtpsand_sc(b):\n",
        "      return 1/(1/b + tlsi(t,kk))\n",
        "    return Rtpsand_sc\n",
        "\n",
        "\n",
        "def funcsh_inv(t):\n",
        "    def sh_invex(x):\n",
        "      return (x + Ireh(t,kk))/x\n",
        "    return inversefunc(sh_invex, domain=[1e-11, 1e+11])\n",
        "\n",
        "def Rt_salan(t):\n",
        "    ffunc_sh = func_sh(t)\n",
        "    ffunc_sc = func_sc(t)\n",
        "    ffuncsh_inv = funcsh_inv(t)\n",
        "    return ffuncsh_inv(1/ffunc_sc(1))\n",
        "\n",
        "# The 95th and 5th percentiles of Rt\n",
        "\n",
        "def perc75(t):\n",
        "    return gengamma.ppf(0.75, func_sh(t)(Rt_salan(t)), 1, loc = 0, scale = func_sc(t)(1))\n",
        "\n",
        "def perc25(t):\n",
        "    return gengamma.ppf(0.25, func_sh(t)(Rt_salan(t)), 1, loc = 0, scale = func_sc(t)(1))\n",
        "\n",
        "\n",
        "def Rtps_sal(t):\n",
        "  return dIvao['cases'].loc[format_date(t)]/lsi(t)\n",
        "\n",
        "print(\"Kajy mivantana ny R hoan'ny\", daty_data_mifar, ':', Rtps_sal(daty_data_mifar))\n",
        "\n",
        "daty_oh1 = datetime.date(2020,6,8)\n",
        "print(\"Salan'isa R hoan'ny\", daty_oh1, ':', Rt_salan(daty_oh1))\n",
        "print(\"Kartily @ 75% R hoan'ny\", daty_oh1, ':', perc75(daty_oh1))\n",
        "print(\"Kartily @ 25% R hoan'ny\", daty_oh1, ':', perc25(daty_oh1))\n",
        "\n",
        "print(\"Salan'isa R hoan'ny\", daty_data_mifar, ':', Rt_salan(daty_data_mifar))\n",
        "print(\"Kartily @ 75% R hoan'ny\", daty_data_mifar, ':', perc75(daty_data_mifar))\n",
        "print(\"Kartily @ 25% R hoan'ny\", daty_data_mifar, ':', perc25(daty_data_mifar))\n"
      ],
      "execution_count": null,
      "outputs": [
        {
          "output_type": "stream",
          "text": [
            "Kajy mivantana ny R hoan'ny 2020-07-04 : 1.441834821679358\n",
            "Salan'isa R hoan'ny 2020-06-08 : 1.3474969317593573\n",
            "Kartily @ 75% R hoan'ny 2020-06-08 : 1.3604934873062502\n",
            "Kartily @ 25% R hoan'ny 2020-06-08 : 1.3343994718381496\n",
            "Salan'isa R hoan'ny 2020-07-04 : 1.4511169089316978\n",
            "Kartily @ 75% R hoan'ny 2020-07-04 : 1.4584397084644067\n",
            "Kartily @ 25% R hoan'ny 2020-07-04 : 1.4437644613668648\n"
          ],
          "name": "stdout"
        }
      ]
    },
    {
      "cell_type": "code",
      "metadata": {
        "id": "0aN5WoWhMHVz",
        "colab_type": "code",
        "colab": {
          "base_uri": "https://localhost:8080/",
          "height": 1000
        },
        "outputId": "12a3685c-f570-4b39-cf00-4542c9a7f548"
      },
      "source": [
        "rt_sa_lst = []\n",
        "\n",
        "for i in range(60):\n",
        "  t = datetime.date(2020,6,30) - datetime.timedelta(days = i)\n",
        "  rt_amboar = Rt_salan(t)\n",
        "  rt_sa_lst.append((t,Rt_salan(t)))\n",
        "\n",
        "rt_sa_lst"
      ],
      "execution_count": null,
      "outputs": [
        {
          "output_type": "execute_result",
          "data": {
            "text/plain": [
              "[(datetime.date(2020, 6, 30), array(1.22989978)),\n",
              " (datetime.date(2020, 6, 29), array(1.42522593)),\n",
              " (datetime.date(2020, 6, 28), array(1.50700596)),\n",
              " (datetime.date(2020, 6, 27), array(1.52287123)),\n",
              " (datetime.date(2020, 6, 26), array(1.53271132)),\n",
              " (datetime.date(2020, 6, 25), array(1.32551891)),\n",
              " (datetime.date(2020, 6, 24), array(1.18837697)),\n",
              " (datetime.date(2020, 6, 23), array(1.25369127)),\n",
              " (datetime.date(2020, 6, 22), array(1.40340481)),\n",
              " (datetime.date(2020, 6, 21), array(1.32729719)),\n",
              " (datetime.date(2020, 6, 20), array(1.13350695)),\n",
              " (datetime.date(2020, 6, 19), array(1.21226833)),\n",
              " (datetime.date(2020, 6, 18), array(1.14961442)),\n",
              " (datetime.date(2020, 6, 17), array(1.11194361)),\n",
              " (datetime.date(2020, 6, 16), array(1.47452245)),\n",
              " (datetime.date(2020, 6, 15), array(1.63461824)),\n",
              " (datetime.date(2020, 6, 14), array(1.51691704)),\n",
              " (datetime.date(2020, 6, 13), array(1.42643367)),\n",
              " (datetime.date(2020, 6, 12), array(1.25604438)),\n",
              " (datetime.date(2020, 6, 11), array(1.05415633)),\n",
              " (datetime.date(2020, 6, 10), array(1.14223384)),\n",
              " (datetime.date(2020, 6, 9), array(1.26481873)),\n",
              " (datetime.date(2020, 6, 8), array(1.34749693)),\n",
              " (datetime.date(2020, 6, 7), array(1.56378541)),\n",
              " (datetime.date(2020, 6, 6), array(1.92058118)),\n",
              " (datetime.date(2020, 6, 5), array(1.69921856)),\n",
              " (datetime.date(2020, 6, 4), array(1.12224484)),\n",
              " (datetime.date(2020, 6, 3), array(1.1668158)),\n",
              " (datetime.date(2020, 6, 2), array(1.34933098)),\n",
              " (datetime.date(2020, 6, 1), array(1.4724411)),\n",
              " (datetime.date(2020, 5, 31), array(1.63342588)),\n",
              " (datetime.date(2020, 5, 30), array(1.59864994)),\n",
              " (datetime.date(2020, 5, 29), array(1.57477842)),\n",
              " (datetime.date(2020, 5, 28), array(1.19133949)),\n",
              " (datetime.date(2020, 5, 27), array(0.88856976)),\n",
              " (datetime.date(2020, 5, 26), array(1.25807645)),\n",
              " (datetime.date(2020, 5, 25), array(1.42662821)),\n",
              " (datetime.date(2020, 5, 24), array(1.33358991)),\n",
              " (datetime.date(2020, 5, 23), array(1.33154257)),\n",
              " (datetime.date(2020, 5, 22), array(1.26144613)),\n",
              " (datetime.date(2020, 5, 21), array(1.07115556)),\n",
              " (datetime.date(2020, 5, 20), array(1.22713609)),\n",
              " (datetime.date(2020, 5, 19), array(1.63057618)),\n",
              " (datetime.date(2020, 5, 18), array(1.6704174)),\n",
              " (datetime.date(2020, 5, 17), array(1.43866284)),\n",
              " (datetime.date(2020, 5, 16), array(1.3742202)),\n",
              " (datetime.date(2020, 5, 15), array(1.41173097)),\n",
              " (datetime.date(2020, 5, 14), array(1.55893335)),\n",
              " (datetime.date(2020, 5, 13), array(1.5791731)),\n",
              " (datetime.date(2020, 5, 12), array(1.57077194)),\n",
              " (datetime.date(2020, 5, 11), array(1.53335923)),\n",
              " (datetime.date(2020, 5, 10), array(1.72782597)),\n",
              " (datetime.date(2020, 5, 9), array(1.64458196)),\n",
              " (datetime.date(2020, 5, 8), array(1.03027141)),\n",
              " (datetime.date(2020, 5, 7), array(0.96814951)),\n",
              " (datetime.date(2020, 5, 6), array(1.40448706)),\n",
              " (datetime.date(2020, 5, 5), array(1.71144635)),\n",
              " (datetime.date(2020, 5, 4), array(1.73768881)),\n",
              " (datetime.date(2020, 5, 3), array(1.53739799)),\n",
              " (datetime.date(2020, 5, 2), array(1.4265508))]"
            ]
          },
          "metadata": {
            "tags": []
          },
          "execution_count": 112
        }
      ]
    },
    {
      "cell_type": "code",
      "metadata": {
        "id": "OHC16dGcMpKx",
        "colab_type": "code",
        "colab": {}
      },
      "source": [
        "# MRC Model 2 estimation\n",
        "\n",
        "r_sa286 = 1.2\n",
        "r_sa216 = 1.04\n",
        "r_sa146 = 1.3\n",
        "r_sa076 = 1.3\n",
        "r_sa315 = 1.4\n",
        "r_sa245 = 1.8\n",
        "r_sa175 = 1.3\n",
        "r_sa105 = 1.5\n",
        "r_sa035 = 1.4"
      ],
      "execution_count": null,
      "outputs": []
    },
    {
      "cell_type": "code",
      "metadata": {
        "id": "qJuYjc6BTsSn",
        "colab_type": "code",
        "colab": {
          "base_uri": "https://localhost:8080/",
          "height": 173
        },
        "outputId": "b9ea5805-13d7-451e-da74-3d49719ddc96"
      },
      "source": [
        "elan_sa286 = r_sa286 - rt_sa_lst[2][1]\n",
        "elan_sa216 = r_sa216 - rt_sa_lst[9][1]\n",
        "elan_sa146 = r_sa146 - rt_sa_lst[16][1]\n",
        "elan_sa076 = r_sa076 - rt_sa_lst[23][1]\n",
        "elan_sa315 = r_sa315 - rt_sa_lst[30][1]\n",
        "elan_sa245 = r_sa245 - rt_sa_lst[37][1]\n",
        "elan_sa175 = r_sa175 - rt_sa_lst[44][1]\n",
        "elan_sa105 = r_sa105 - rt_sa_lst[51][1]\n",
        "elan_sa035 = r_sa035 - rt_sa_lst[58][1]\n",
        "print('286', elan_sa286, rt_sa_lst[2][0])\n",
        "print('216', elan_sa216, rt_sa_lst[9][0])\n",
        "print('146', elan_sa146, rt_sa_lst[16][0])\n",
        "print('076', elan_sa076, rt_sa_lst[23][0])\n",
        "print(elan_sa315)\n",
        "print(elan_sa245)\n",
        "print(elan_sa175)\n",
        "print(elan_sa105)\n",
        "print(elan_sa035) "
      ],
      "execution_count": null,
      "outputs": [
        {
          "output_type": "stream",
          "text": [
            "286 -0.3070059619406751 2020-06-28\n",
            "216 -0.2872971872594836 2020-06-21\n",
            "146 -0.2169170411750334 2020-06-14\n",
            "076 -0.26378540632982506 2020-06-07\n",
            "-0.23342587609736043\n",
            "0.4664100891369287\n",
            "-0.13866283605052376\n",
            "-0.2278259697163858\n",
            "-0.13739798889167587\n"
          ],
          "name": "stdout"
        }
      ]
    },
    {
      "cell_type": "code",
      "metadata": {
        "id": "4JVoDygHVbL7",
        "colab_type": "code",
        "colab": {
          "base_uri": "https://localhost:8080/",
          "height": 34
        },
        "outputId": "c6db820c-a557-4d6d-fb15-0b19244517ed"
      },
      "source": [
        "rt_sa_lst[37]"
      ],
      "execution_count": null,
      "outputs": [
        {
          "output_type": "execute_result",
          "data": {
            "text/plain": [
              "(datetime.date(2020, 5, 24), array(1.33358991))"
            ]
          },
          "metadata": {
            "tags": []
          },
          "execution_count": 41
        }
      ]
    },
    {
      "cell_type": "code",
      "metadata": {
        "id": "HTrrIs9SGozB",
        "colab_type": "code",
        "colab": {}
      },
      "source": [
        "# Plotting everything except the first 7 days\n",
        "\n",
        "np.random.seed(12345)\n",
        "\n",
        "formatf_date = lambda date_py: '{}/{}'.format(date_py.day, str(date_py.month)[0:1])\n",
        "\n",
        "daty_lst = []\n",
        "\n",
        "data_Rt_lst = []\n",
        "\n",
        "for i in range(round(((daty_data_mifar - daty_data_manom).days) -7)):\n",
        "  t = daty_data_manom + datetime.timedelta(days = i+1 +7)\n",
        "  data_amboar = [gengamma.rvs( func_sh(t)(Rt_salan(t)), 1, loc = 0, scale = func_sc(t)(1)) for j in range(400)]\n",
        "  daty_lst.append(formatf_date(t))\n",
        "  data_Rt_lst.append(data_amboar)\n"
      ],
      "execution_count": null,
      "outputs": []
    },
    {
      "cell_type": "code",
      "metadata": {
        "id": "U1uEHkxSGuv0",
        "colab_type": "code",
        "colab": {
          "base_uri": "https://localhost:8080/",
          "height": 641
        },
        "outputId": "9f2d007f-69f5-49a4-a3f4-36446d74a7b9"
      },
      "source": [
        "# Plotting everything except the first 7 days\n",
        "\n",
        "\n",
        "fig, ax = plt.subplots(figsize=(10, 10))\n",
        "\n",
        "sns.boxplot(daty_lst, data_Rt_lst, color='white', width=0.2, showfliers=False, ax=ax)\n",
        "ax.axhline(y=1, color='b', linestyle='dashed', label =\"R = 1\")\n",
        "\n",
        "ax.set(xlabel ='Andro', ylabel = \"R hoan'i Afrika Atsimo\")\n",
        "ax.legend(loc= 'best')\n",
        "\n",
        "\n",
        "plt.savefig(path_to_save+'Rt15146_sa.eps')\n",
        "plt.show()"
      ],
      "execution_count": null,
      "outputs": [
        {
          "output_type": "stream",
          "text": [
            "The PostScript backend does not support transparency; partially transparent artists will be rendered opaque.\n",
            "The PostScript backend does not support transparency; partially transparent artists will be rendered opaque.\n"
          ],
          "name": "stderr"
        },
        {
          "output_type": "display_data",
          "data": {
            "image/png": "[encoded data removed]",
            "text/plain": [
              "<Figure size 720x720 with 1 Axes>"
            ]
          },
          "metadata": {
            "tags": [],
            "needs_background": "light"
          }
        }
      ]
    },
    {
      "cell_type": "code",
      "metadata": {
        "id": "xt0GtSnAGz-d",
        "colab_type": "code",
        "colab": {
          "base_uri": "https://localhost:8080/",
          "height": 641
        },
        "outputId": "42cc26c2-cbfe-4d0d-86ef-384503f6585e"
      },
      "source": [
        "# Plotting the last 10 days before daty_data_mifar\n",
        "\n",
        "\n",
        "fig, ax = plt.subplots(figsize=(10, 10))\n",
        "\n",
        "sns.boxplot(daty_lst[len(daty_lst)-10:len(daty_lst)], data_Rt_lst[len(daty_lst)-10:len(daty_lst)], color='white', width=0.2, showfliers=False, ax=ax)\n",
        "ax.axhline(y=1, color='b', linestyle='dashed', label =\"R = 1\")\n",
        "\n",
        "ax.set(xlabel ='Andro', ylabel = \"R hoan'i Afrika Atsimo\")\n",
        "ax.legend(loc= 'best')\n",
        "\n",
        "\n",
        "plt.savefig(path_to_save+'Rt1514610_sa.eps')\n",
        "plt.show()"
      ],
      "execution_count": null,
      "outputs": [
        {
          "output_type": "stream",
          "text": [
            "The PostScript backend does not support transparency; partially transparent artists will be rendered opaque.\n",
            "The PostScript backend does not support transparency; partially transparent artists will be rendered opaque.\n"
          ],
          "name": "stderr"
        },
        {
          "output_type": "display_data",
          "data": {
            "image/png": "[encoded data removed]",
            "text/plain": [
              "<Figure size 720x720 with 1 Axes>"
            ]
          },
          "metadata": {
            "tags": [],
            "needs_background": "light"
          }
        }
      ]
    },
    {
      "cell_type": "markdown",
      "metadata": {
        "id": "dX9PVJrlNmWq",
        "colab_type": "text"
      },
      "source": [
        "# Egypt"
      ]
    },
    {
      "cell_type": "code",
      "metadata": {
        "id": "zBi7DMGpNoRv",
        "colab_type": "code",
        "colab": {}
      },
      "source": [
        "# Voa vaovao (observed incidence)\n",
        "Ivao = dataweg['cases']\n",
        "\n",
        "dIvao = pd.DataFrame(data =Ivao)\n",
        "\n",
        "dIvao.sort_index(inplace=True)\n",
        "\n",
        "# ireo daty fanombohana sy fiafaran'ny antontan'isa raisina\n",
        "# (Time range of data used for the estimation)\n",
        "\n",
        "daty_data_manom = datetime.date(2020,4,15)\n",
        "daty_data_mifar = datetime.date(2020,7,4)\n",
        "\n",
        "datyt = daty_data_mifar\n",
        "\n",
        "format_date = lambda date_py: '{}-{}-{}'.format(date_py.year, date_py.month, date_py.day)\n",
        "\n",
        "# 0/ Discretization of the serial interval distribution\n",
        "\n",
        "#Tombana mialoha (prior distributions)\n",
        "#si_sh = 1/(0.62**2) # Report 13\n",
        "#si_sc = 6.5/si_sh\n",
        "\n",
        "si_sh = (6.48**2)/(3.83**2) # Jereo Imperial Covid-19 COVID-19 response team: Short-term forecasts\n",
        "si_sc = 6.48/si_sh\n",
        "\n",
        "def discr_si(t):\n",
        "  if t == 0:\n",
        "    discrsi = 0\n",
        "  elif t == 1:\n",
        "    discrsi = gengamma.cdf(3/2, si_sh, 1, loc = 0, scale = si_sc)\n",
        "  else:\n",
        "    discrsi = gengamma.cdf(t+1/2, si_sh, 1, loc = 0, scale = si_sc) - gengamma.cdf(t-1/2, si_sh, 1, loc = 0, scale = si_sc)\n",
        "  return discrsi\n",
        "\n",
        "# 1/ The total incidence over a generic window (t-k+1,t)\n",
        "# Ireh(t,k) = sum(i = 0 to k-1) Ivao(t - i))\n",
        "\n",
        "def Ireh(t,k):\n",
        "  Irehv = 0\n",
        "  if k - 1 > (t - daty_data_manom).days:\n",
        "    for i in range((t - daty_data_manom).days + 1):\n",
        "      Irehv = Irehv + dIvao['cases'].loc[format_date(t - datetime.timedelta(days = i))]\n",
        "  else:\n",
        "    for i in range(k):\n",
        "      Irehv = Irehv + dIvao['cases'].loc[format_date(t - datetime.timedelta(days = i))]\n",
        "  return Irehv\n",
        "\n",
        "# 2/ Tool to compute the total infectiousness over a generic window (t-k+1,t)\n",
        "# Isi(t,k) = sum(i=0 to k-1) Ivao(t - i)*discr_si(i)\n",
        "\n",
        "# The definition of Isi(t,k) does not include the term Ivao(t) for i = 0 (because discr_si(0) =0)\n",
        "# so we can start the sum from i = 1; but it includes the last term Ivao(t - k + 1)*discr_si(k - 1) for i = k-1. \n",
        "\n",
        "def Isi(t,k):\n",
        "  Ivaosi = 0\n",
        "  if k - 1 > (t - daty_data_manom).days:\n",
        "    for i in range(1,(t - daty_data_manom).days + 1):\n",
        "      Ivaosi = Ivaosi + dIvao['cases'].loc[format_date(t - datetime.timedelta(days = i))]*discr_si(i)\n",
        "  else:\n",
        "    for i in range(1,k):\n",
        "      Ivaosi = Ivaosi + dIvao['cases'].loc[format_date(t - datetime.timedelta(days = i))]*discr_si(i)\n",
        "  return Ivaosi\n",
        "\n",
        "# The total infectiousness before t\n",
        "\n",
        "# lsi(t) := sum(i=0 to t-1) Ivao(t - i)*discr_si(i)\n",
        "\n",
        "def lsi(t):\n",
        "  return Isi(t, (t - daty_data_manom).days +1)\n",
        "\n",
        "  # for checking, take for example t = daty_data_manom + datetime.timedelta(days = 3)\n",
        "\n",
        "# 3/ The sum of total infectiousness before t over a generic window (t-k+1,t)\n",
        "# tlsi(t) := sum(i=t-k+1 to t)lsi(i)\n",
        "\n",
        "def tlsi(t,k):\n",
        "  tlsi = 0\n",
        "  if k - 1 > (t - daty_data_manom).days:\n",
        "    for i in range((t - daty_data_manom).days + 1):\n",
        "      tlsi = tlsi + lsi(t - datetime.timedelta(days = i))\n",
        "  else:\n",
        "    for i in range(k):\n",
        "      tlsi = tlsi + lsi(t - datetime.timedelta(days = i))\n",
        "  return tlsi\n",
        "\n",
        "# 4/ The shape parameters of the posterior predictive negative binomial of I(t+1)\n",
        "\n",
        "# pnb(t,k) = lsi(t+1)*Gamma_post_scale(R(t,k))/(1 + lsi(t+1)*Gamma_post_scale(R(t,k)))\n",
        "\n",
        "def pnb(t,k):\n",
        "  return lsi(t+datetime.timedelta(days = 1))/(1/si_sc + tlsi(t,k) + lsi(t+datetime.timedelta(days = 1)))\n",
        "\n",
        "# pnb(t,k) dia ny taha herjika hoan'ny NB hoan'ny I(t+1).\n",
        "\n",
        "# 5/ Use the pmf of the posterior predictive negative binomial to compute\n",
        "# each additive contribution at time s then for-loop for s in the time interval\n",
        "\n",
        "def lpr(t,k):\n",
        "  return -np.log(nbinom.pmf(dIvao['cases'].loc[format_date(t + datetime.timedelta(days = 1))], si_sh + Ireh(t,k), pnb(t,k)))\n"
      ],
      "execution_count": null,
      "outputs": []
    },
    {
      "cell_type": "code",
      "metadata": {
        "id": "Tt6RvdmsOGqp",
        "colab_type": "code",
        "colab": {
          "base_uri": "https://localhost:8080/",
          "height": 159
        },
        "outputId": "fbf98197-13e3-4ddb-83ab-017fcb4bdeca"
      },
      "source": [
        "# 6/ Computation of the Accumulated Predictive Error\n",
        "\n",
        "# APE9_part1 \n",
        "\n",
        "APEt91 = []\n",
        "Prt91 = []\n",
        "\n",
        "APE91 = 0\n",
        "\n",
        "for i in range((daty_data_mifar - daty_data_manom).days - 9 + 1):\n",
        "  t = daty_data_mifar - datetime.timedelta(days = i+1) \n",
        "  k = 9\n",
        "  APE91 = APE91 + lpr(t,k)\n",
        "  APEt91.append((lpr(t,k),t))\n",
        "  Prt91.append(expon.pdf(lpr(t,k)))\n",
        "\n",
        "print('For k = 9, APE91 =', APE91)\n",
        "print('APEt91 =', APEt91)\n",
        "print('Prt91 =', Prt91)\n",
        "\n",
        "# APE9_part2 \n",
        "\n",
        "APEt92 = []\n",
        "Prt92 = []\n",
        "\n",
        "APE92 = 0\n",
        "for i in range(7):\n",
        "  t = daty_data_manom - datetime.timedelta(days = i -7)\n",
        "  k = 9 - 1 - i\n",
        "  APE92 = APE92 + lpr(t,k) \n",
        "  APEt92.append((lpr(t,k),t,k))\n",
        "  Prt92.append(expon.pdf(lpr(t,k)))\n",
        "\n",
        "print('For k = 9, APE92 =', APE92)\n",
        "print('APEt92=', APEt92)\n",
        "print('Prt92=', Prt92)\n",
        "\n",
        "# For t_man such that Ivao(t_man) = Ivao(t_man + 1) = 0, we have :\n",
        "# lsi(t_man + 1) = tlsi(t_man + 1, 2) = Ireh(t_man + 1, 2) = 0,\n",
        "# so that pnb(t_man + 1, 2) = 0."
      ],
      "execution_count": null,
      "outputs": [
        {
          "output_type": "stream",
          "text": [
            "/usr/local/lib/python3.6/dist-packages/ipykernel_launcher.py:100: RuntimeWarning: divide by zero encountered in log\n"
          ],
          "name": "stderr"
        },
        {
          "output_type": "stream",
          "text": [
            "For k = 9, APE91 = inf\n",
            "APEt91 = [(inf, datetime.date(2020, 6, 29)), (inf, datetime.date(2020, 6, 28)), (inf, datetime.date(2020, 6, 27)), (inf, datetime.date(2020, 6, 26)), (inf, datetime.date(2020, 6, 25)), (inf, datetime.date(2020, 6, 24)), (inf, datetime.date(2020, 6, 23)), (inf, datetime.date(2020, 6, 22)), (inf, datetime.date(2020, 6, 21)), (inf, datetime.date(2020, 6, 20)), (inf, datetime.date(2020, 6, 19)), (inf, datetime.date(2020, 6, 18)), (inf, datetime.date(2020, 6, 17)), (inf, datetime.date(2020, 6, 16)), (inf, datetime.date(2020, 6, 15)), (inf, datetime.date(2020, 6, 14)), (inf, datetime.date(2020, 6, 13)), (inf, datetime.date(2020, 6, 12)), (inf, datetime.date(2020, 6, 11)), (inf, datetime.date(2020, 6, 10)), (inf, datetime.date(2020, 6, 9)), (inf, datetime.date(2020, 6, 8)), (inf, datetime.date(2020, 6, 7)), (inf, datetime.date(2020, 6, 6)), (inf, datetime.date(2020, 6, 5)), (inf, datetime.date(2020, 6, 4)), (inf, datetime.date(2020, 6, 3)), (inf, datetime.date(2020, 6, 2)), (inf, datetime.date(2020, 6, 1)), (inf, datetime.date(2020, 5, 31)), (inf, datetime.date(2020, 5, 30)), (inf, datetime.date(2020, 5, 29)), (inf, datetime.date(2020, 5, 28)), (inf, datetime.date(2020, 5, 27)), (inf, datetime.date(2020, 5, 26)), (inf, datetime.date(2020, 5, 25)), (inf, datetime.date(2020, 5, 24)), (inf, datetime.date(2020, 5, 23)), (inf, datetime.date(2020, 5, 22)), (inf, datetime.date(2020, 5, 21)), (inf, datetime.date(2020, 5, 20)), (inf, datetime.date(2020, 5, 19)), (inf, datetime.date(2020, 5, 18)), (inf, datetime.date(2020, 5, 17)), (inf, datetime.date(2020, 5, 16)), (inf, datetime.date(2020, 5, 15)), (inf, datetime.date(2020, 5, 14)), (inf, datetime.date(2020, 5, 13)), (inf, datetime.date(2020, 5, 12)), (inf, datetime.date(2020, 5, 11)), (inf, datetime.date(2020, 5, 10)), (inf, datetime.date(2020, 5, 9)), (inf, datetime.date(2020, 5, 8)), (inf, datetime.date(2020, 5, 7)), (inf, datetime.date(2020, 5, 6)), (inf, datetime.date(2020, 5, 5)), (inf, datetime.date(2020, 5, 4)), (inf, datetime.date(2020, 5, 3)), (inf, datetime.date(2020, 5, 2)), (inf, datetime.date(2020, 5, 1)), (inf, datetime.date(2020, 4, 30)), (inf, datetime.date(2020, 4, 29)), (inf, datetime.date(2020, 4, 28)), (inf, datetime.date(2020, 4, 27)), (inf, datetime.date(2020, 4, 26)), (inf, datetime.date(2020, 4, 25)), (inf, datetime.date(2020, 4, 24)), (inf, datetime.date(2020, 4, 23))]\n",
            "Prt91 = [0.0, 0.0, 0.0, 0.0, 0.0, 0.0, 0.0, 0.0, 0.0, 0.0, 0.0, 0.0, 0.0, 0.0, 0.0, 0.0, 0.0, 0.0, 0.0, 0.0, 0.0, 0.0, 0.0, 0.0, 0.0, 0.0, 0.0, 0.0, 0.0, 0.0, 0.0, 0.0, 0.0, 0.0, 0.0, 0.0, 0.0, 0.0, 0.0, 0.0, 0.0, 0.0, 0.0, 0.0, 0.0, 0.0, 0.0, 0.0, 0.0, 0.0, 0.0, 0.0, 0.0, 0.0, 0.0, 0.0, 0.0, 0.0, 0.0, 0.0, 0.0, 0.0, 0.0, 0.0, 0.0, 0.0, 0.0, 0.0]\n",
            "For k = 9, APE92 = inf\n",
            "APEt92= [(inf, datetime.date(2020, 4, 22), 8), (inf, datetime.date(2020, 4, 21), 7), (638.6753545344102, datetime.date(2020, 4, 20), 6), (497.9544358572029, datetime.date(2020, 4, 19), 5), (162.04983067937005, datetime.date(2020, 4, 18), 4), (34.87092507293701, datetime.date(2020, 4, 17), 3), (13.483346208446335, datetime.date(2020, 4, 16), 2)]\n",
            "Prt92= [0.0, 0.0, 4.23465270117335e-278, 5.50980549679754e-217, 4.194234831685141e-71, 7.173806561850578e-16, 1.393981929945492e-06]\n"
          ],
          "name": "stdout"
        }
      ]
    },
    {
      "cell_type": "code",
      "metadata": {
        "id": "H9k0I12sOMKQ",
        "colab_type": "code",
        "colab": {
          "base_uri": "https://localhost:8080/",
          "height": 89
        },
        "outputId": "1caf28b3-4a81-4f02-aa0b-189865d126c6"
      },
      "source": [
        "# APEk part 1 for k =/= 9\n",
        "\n",
        "# for i in range(t_mif - t_man -j)\n",
        "\n",
        "APEk1 = []\n",
        "#APEt21 = []\n",
        "for j in range(2,9):\n",
        "  APEj1 = 0\n",
        "  for i in range(round(((daty_data_mifar - daty_data_manom).days) - j)):\n",
        "    t = daty_data_mifar - datetime.timedelta(days = i+1) \n",
        "    k = j\n",
        "    APEj1 = APEj1 + lpr(t,k)\n",
        "   # APEt21.append(lpr(t,k))\n",
        "  APEk1.append(APEj1)\n",
        "\n",
        "print('APEk1 =', APEk1)\n",
        "#print('APEt21 =', APEt21)\n",
        "\n",
        "# APEk part 2 for k =/= 9\n",
        "\n",
        "Prk2 = []\n",
        "\n",
        "APEk2 = []\n",
        "\n",
        "for j in range(2,9):\n",
        "  APEj2 = 0\n",
        "  for i in range(j-1):\n",
        "    t = daty_data_manom + datetime.timedelta(days = j - i - 1)\n",
        "    k = j - i\n",
        "    APEj2 = APEj2 + lpr(t,k)\n",
        "  APEk2.append(APEj2)\n",
        "\n",
        "print('APEk2 =', APEk2)"
      ],
      "execution_count": null,
      "outputs": [
        {
          "output_type": "stream",
          "text": [
            "/usr/local/lib/python3.6/dist-packages/ipykernel_launcher.py:100: RuntimeWarning: divide by zero encountered in log\n"
          ],
          "name": "stderr"
        },
        {
          "output_type": "stream",
          "text": [
            "APEk1 = [inf, inf, inf, inf, inf, inf, inf]\n",
            "APEk2 = [13.483346208446335, 48.35427128138335, 210.4041019607534, 708.3585378179562, 1347.0338923523666, inf, inf]\n"
          ],
          "name": "stdout"
        }
      ]
    },
    {
      "cell_type": "code",
      "metadata": {
        "id": "1Q-BYlZhOShX",
        "colab_type": "code",
        "colab": {
          "base_uri": "https://localhost:8080/",
          "height": 86
        },
        "outputId": "e71a18d2-706e-4f2e-b996-2796ec2df2ef"
      },
      "source": [
        "# APEk for k = 2,...,8\n",
        "\n",
        "APEk = [x + y for x, y in zip(APEk1, APEk2)]\n",
        "\n",
        "# APE9\n",
        "APE9 = APE91 + APE92\n",
        "\n",
        "APE = APEk + [APE9]\n",
        "kk = APE.index(min(APE)) +2\n",
        "print('APE9 =', APE9)\n",
        "print('APEk =', APEk)\n",
        "print('APE =', APE)\n",
        "print(kk)\n"
      ],
      "execution_count": null,
      "outputs": [
        {
          "output_type": "stream",
          "text": [
            "APE9 = inf\n",
            "APEk = [inf, inf, inf, inf, inf, inf, inf]\n",
            "APE = [inf, inf, inf, inf, inf, inf, inf, inf]\n",
            "2\n"
          ],
          "name": "stdout"
        }
      ]
    },
    {
      "cell_type": "markdown",
      "metadata": {
        "id": "q98y9WhLOWQT",
        "colab_type": "text"
      },
      "source": [
        "## Fifidianana ireo taha mialoha (prior parameters)"
      ]
    },
    {
      "cell_type": "code",
      "metadata": {
        "id": "2vBK0ShLOdpR",
        "colab_type": "code",
        "colab": {}
      },
      "source": [
        "kk = 2\n",
        "  #shape\n",
        "def func_sh(t):\n",
        "    def Rtpsand_sh(a):\n",
        "      return a + Ireh(t,kk)\n",
        "    return Rtpsand_sh\n",
        "  # Scale\n",
        "def func_sc(t):\n",
        "    def Rtpsand_sc(b):\n",
        "      return 1/(1/b + tlsi(t,kk))\n",
        "    return Rtpsand_sc\n",
        "\n",
        "def funcsh_inv(t):\n",
        "    def sh_invex(x):\n",
        "      return (x + Ireh(t,kk))/x\n",
        "    return inversefunc(sh_invex, domain=[0.01, 1e+11])\n"
      ],
      "execution_count": null,
      "outputs": []
    },
    {
      "cell_type": "code",
      "metadata": {
        "id": "cLQp8S15Onrc",
        "colab_type": "code",
        "colab": {
          "base_uri": "https://localhost:8080/",
          "height": 535
        },
        "outputId": "c9608a69-3e33-47e2-ff80-2eba24507a77"
      },
      "source": [
        "# Variation of R(datyab) with rapport to the prior parameters\n",
        "\n",
        "datyab = daty_data_mifar\n",
        "\n",
        "fig = plt.figure(figsize=(7,7))\n",
        "ax = fig.gca(projection='3d')\n",
        "\n",
        "# Make data.\n",
        "X = np.linspace(0.1,5,100)\n",
        "Y = np.linspace(0.1,5,100)\n",
        "X, Y = np.meshgrid(X, Y)\n",
        "Z = func_sh(datyab)(X)*func_sc(datyab)(Y)\n",
        "W = X*Y\n",
        "# Plot the surface.\n",
        "surf = ax.plot_surface(X, Y, Z, cmap=cm.coolwarm,\n",
        "                       linewidth=0, antialiased=False)\n",
        "#surf = ax.plot_surface(X, Y, W, cmap=cm.coolwarm,\n",
        " #                      linewidth=0, antialiased=False)\n",
        "\n",
        "# Customize the z axis.\n",
        "ax.set_zlim(0.97, 0.985)\n",
        "ax.zaxis.set_major_locator(LinearLocator(10))\n",
        "ax.zaxis.set_major_formatter(FormatStrFormatter('%.02f'))\n",
        "\n",
        "ax.set(xlabel ='bika a', ylabel = \"taha b\", zlabel = 'R(t=4/07)')\n",
        "\n",
        "# Add a color bar which maps values to colors.\n",
        "fig.colorbar(surf, shrink=0.5, aspect=5)\n",
        "\n",
        "plt.savefig(path_to_save+'Rt15447_eg.eps')\n",
        "\n",
        "plt.show()"
      ],
      "execution_count": null,
      "outputs": [
        {
          "output_type": "stream",
          "text": [
            "The PostScript backend does not support transparency; partially transparent artists will be rendered opaque.\n",
            "The PostScript backend does not support transparency; partially transparent artists will be rendered opaque.\n",
            "The PostScript backend does not support transparency; partially transparent artists will be rendered opaque.\n",
            "The PostScript backend does not support transparency; partially transparent artists will be rendered opaque.\n",
            "The PostScript backend does not support transparency; partially transparent artists will be rendered opaque.\n",
            "The PostScript backend does not support transparency; partially transparent artists will be rendered opaque.\n"
          ],
          "name": "stderr"
        },
        {
          "output_type": "display_data",
          "data": {
            "image/png": "[encoded data removed]",
            "text/plain": [
              "<Figure size 504x504 with 2 Axes>"
            ]
          },
          "metadata": {
            "tags": [],
            "needs_background": "light"
          }
        }
      ]
    },
    {
      "cell_type": "code",
      "metadata": {
        "id": "oVkJjD6KOtKB",
        "colab_type": "code",
        "colab": {
          "base_uri": "https://localhost:8080/",
          "height": 318
        },
        "outputId": "c07ee90b-4a15-4c25-a1bb-fd5e502c71e2"
      },
      "source": [
        "# R(t) when equality between the prior and the posterior\n",
        "\n",
        "# 100 linearly spaced numbers\n",
        "x = np.linspace(0.1,5,100)\n",
        "\n",
        "fig = plt.figure()\n",
        "ax = fig.add_subplot(1, 1, 1)\n",
        "\n",
        "# plot the function\n",
        "plt.plot(x, x*funcsh_inv(datyab)(x/func_sc(datyab)(x)), 'blue')\n",
        "\n",
        "ax.set_ylim(0,2)\n",
        "ax.set(xlabel ='taha', ylabel = \"R(t)\")\n",
        "\n",
        "\n",
        "# show the plot\n",
        "plt.show()\n",
        "\n",
        "print('taha* = 1')\n",
        "print('R(t=',datyab,') =', funcsh_inv(datyab)(1/func_sc(datyab)(1)), '= bika*')\n"
      ],
      "execution_count": null,
      "outputs": [
        {
          "output_type": "display_data",
          "data": {
            "image/png": "[encoded data removed]",
            "text/plain": [
              "<Figure size 432x288 with 1 Axes>"
            ]
          },
          "metadata": {
            "tags": [],
            "needs_background": "light"
          }
        },
        {
          "output_type": "stream",
          "text": [
            "taha* = 1\n",
            "R(t= 2020-07-04 ) = 0.979809532775691 = bika*\n"
          ],
          "name": "stdout"
        }
      ]
    },
    {
      "cell_type": "markdown",
      "metadata": {
        "id": "fiY_C3ByOyMY",
        "colab_type": "text"
      },
      "source": [
        "## Fanombanana ny Rt"
      ]
    },
    {
      "cell_type": "code",
      "metadata": {
        "id": "Flu3QorPPG2y",
        "colab_type": "code",
        "colab": {
          "base_uri": "https://localhost:8080/",
          "height": 139
        },
        "outputId": "631da06f-bd69-454b-8587-4d5606189185"
      },
      "source": [
        "#shape\n",
        "def func_sh(t):\n",
        "    def Rtpsand_sh(a):\n",
        "      return a + Ireh(t,kk)\n",
        "    return Rtpsand_sh\n",
        "\n",
        "# Scale\n",
        "def func_sc(t):\n",
        "    def Rtpsand_sc(b):\n",
        "      return 1/(1/b + tlsi(t,kk))\n",
        "    return Rtpsand_sc\n",
        "\n",
        "\n",
        "def funcsh_inv(t):\n",
        "    def sh_invex(x):\n",
        "      return (x + Ireh(t,kk))/x\n",
        "    return inversefunc(sh_invex, domain=[1e-11, 1e+11])\n",
        "\n",
        "def Rt_salan(t):\n",
        "    ffunc_sh = func_sh(t)\n",
        "    ffunc_sc = func_sc(t)\n",
        "    ffuncsh_inv = funcsh_inv(t)\n",
        "    return ffuncsh_inv(1/ffunc_sc(1))\n",
        "\n",
        "# The 95th and 5th percentiles of Rt\n",
        "\n",
        "def perc75(t):\n",
        "    return gengamma.ppf(0.75, func_sh(t)(Rt_salan(t)), 1, loc = 0, scale = func_sc(t)(1))\n",
        "\n",
        "def perc25(t):\n",
        "    return gengamma.ppf(0.25, func_sh(t)(Rt_salan(t)), 1, loc = 0, scale = func_sc(t)(1))\n",
        "\n",
        "\n",
        "def Rtps_sal(t):\n",
        "  return dIvao['cases'].loc[format_date(t)]/lsi(t)\n",
        "\n",
        "print(\"Kajy mivantana ny R hoan'ny\", daty_data_mifar, ':', Rtps_sal(daty_data_mifar))\n",
        "\n",
        "daty_oh1 = datetime.date(2020,6,8)\n",
        "print(\"Salan'isa R hoan'ny\", daty_oh1, ':', Rt_salan(daty_oh1))\n",
        "print(\"Kartily @ 75% R hoan'ny\", daty_oh1, ':', perc75(daty_oh1))\n",
        "print(\"Kartily @ 25% R hoan'ny\", daty_oh1, ':', perc25(daty_oh1))\n",
        "\n",
        "print(\"Salan'isa R hoan'ny\", daty_data_mifar, ':', Rt_salan(daty_data_mifar))\n",
        "print(\"Kartily @ 75% R hoan'ny\", daty_data_mifar, ':', perc75(daty_data_mifar))\n",
        "print(\"Kartily @ 25% R hoan'ny\", daty_data_mifar, ':', perc25(daty_data_mifar))\n"
      ],
      "execution_count": null,
      "outputs": [
        {
          "output_type": "stream",
          "text": [
            "Kajy mivantana ny R hoan'ny 2020-07-04 : 0.9538366091241247\n",
            "Salan'isa R hoan'ny 2020-06-08 : 1.2426486322076506\n",
            "Kartily @ 75% R hoan'ny 2020-06-08 : 1.2579635008510546\n",
            "Kartily @ 25% R hoan'ny 2020-06-08 : 1.2271814926821722\n",
            "Salan'isa R hoan'ny 2020-07-04 : 0.9798095325932107\n",
            "Kartily @ 75% R hoan'ny 2020-07-04 : 0.9920236879542753\n",
            "Kartily @ 25% R hoan'ny 2020-07-04 : 0.9674725240417364\n"
          ],
          "name": "stdout"
        }
      ]
    },
    {
      "cell_type": "code",
      "metadata": {
        "id": "uQJdPKYwXH13",
        "colab_type": "code",
        "colab": {
          "base_uri": "https://localhost:8080/",
          "height": 1000
        },
        "outputId": "0f23dc65-57d6-45cb-813a-9334c6867cc9"
      },
      "source": [
        "rt_eg_lst = []\n",
        "\n",
        "for i in range(60):\n",
        "  t = datetime.date(2020,6,30) - datetime.timedelta(days = i)\n",
        "  rt_amboar = Rt_salan(t)\n",
        "  rt_eg_lst.append((t,Rt_salan(t)))\n",
        "\n",
        "rt_eg_lst"
      ],
      "execution_count": null,
      "outputs": [
        {
          "output_type": "execute_result",
          "data": {
            "text/plain": [
              "[(datetime.date(2020, 6, 30), array(0.95907206)),\n",
              " (datetime.date(2020, 6, 29), array(0.82960961)),\n",
              " (datetime.date(2020, 6, 28), array(0.9650651)),\n",
              " (datetime.date(2020, 6, 27), array(1.59650381)),\n",
              " (datetime.date(2020, 6, 26), array(1.00656243)),\n",
              " (datetime.date(2020, 6, 25), array(0.43858601)),\n",
              " (datetime.date(2020, 6, 24), array(0.95722256)),\n",
              " (datetime.date(2020, 6, 23), array(1.00608486)),\n",
              " (datetime.date(2020, 6, 22), array(0.99787128)),\n",
              " (datetime.date(2020, 6, 21), array(1.09624687)),\n",
              " (datetime.date(2020, 6, 20), array(0.98496693)),\n",
              " (datetime.date(2020, 6, 19), array(0.85283532)),\n",
              " (datetime.date(2020, 6, 18), array(0.9839736)),\n",
              " (datetime.date(2020, 6, 17), array(1.12007042)),\n",
              " (datetime.date(2020, 6, 16), array(1.16645626)),\n",
              " (datetime.date(2020, 6, 15), array(1.18915408)),\n",
              " (datetime.date(2020, 6, 14), array(1.19932665)),\n",
              " (datetime.date(2020, 6, 13), array(1.1329842)),\n",
              " (datetime.date(2020, 6, 12), array(1.10653335)),\n",
              " (datetime.date(2020, 6, 11), array(1.10689362)),\n",
              " (datetime.date(2020, 6, 10), array(1.0971339)),\n",
              " (datetime.date(2020, 6, 9), array(1.15942206)),\n",
              " (datetime.date(2020, 6, 8), array(1.24264863)),\n",
              " (datetime.date(2020, 6, 7), array(1.21510909)),\n",
              " (datetime.date(2020, 6, 6), array(1.08781916)),\n",
              " (datetime.date(2020, 6, 5), array(1.0007671)),\n",
              " (datetime.date(2020, 6, 4), array(1.05447097)),\n",
              " (datetime.date(2020, 6, 3), array(1.30046948)),\n",
              " (datetime.date(2020, 6, 2), array(1.6361144)),\n",
              " (datetime.date(2020, 6, 1), array(1.76673238)),\n",
              " (datetime.date(2020, 5, 31), array(1.74404505)),\n",
              " (datetime.date(2020, 5, 30), array(1.68247884)),\n",
              " (datetime.date(2020, 5, 29), array(1.47770738)),\n",
              " (datetime.date(2020, 5, 28), array(1.27222441)),\n",
              " (datetime.date(2020, 5, 27), array(1.15578493)),\n",
              " (datetime.date(2020, 5, 26), array(1.1007413)),\n",
              " (datetime.date(2020, 5, 25), array(1.28392523)),\n",
              " (datetime.date(2020, 5, 24), array(1.51084042)),\n",
              " (datetime.date(2020, 5, 23), array(1.58513117)),\n",
              " (datetime.date(2020, 5, 22), array(1.67250116)),\n",
              " (datetime.date(2020, 5, 21), array(1.72208252)),\n",
              " (datetime.date(2020, 5, 20), array(1.54398667)),\n",
              " (datetime.date(2020, 5, 19), array(1.32282738)),\n",
              " (datetime.date(2020, 5, 18), array(1.28668751)),\n",
              " (datetime.date(2020, 5, 17), array(1.14637886)),\n",
              " (datetime.date(2020, 5, 16), array(1.02180945)),\n",
              " (datetime.date(2020, 5, 15), array(0.94080542)),\n",
              " (datetime.date(2020, 5, 14), array(0.88233033)),\n",
              " (datetime.date(2020, 5, 13), array(0.91631209)),\n",
              " (datetime.date(2020, 5, 12), array(1.08329076)),\n",
              " (datetime.date(2020, 5, 11), array(1.35918633)),\n",
              " (datetime.date(2020, 5, 10), array(1.53673985)),\n",
              " (datetime.date(2020, 5, 9), array(1.46577014)),\n",
              " (datetime.date(2020, 5, 8), array(1.35359596)),\n",
              " (datetime.date(2020, 5, 7), array(1.41069627)),\n",
              " (datetime.date(2020, 5, 6), array(1.39838377)),\n",
              " (datetime.date(2020, 5, 5), array(1.22823621)),\n",
              " (datetime.date(2020, 5, 4), array(1.18640815)),\n",
              " (datetime.date(2020, 5, 3), array(1.44587146)),\n",
              " (datetime.date(2020, 5, 2), array(1.46380709))]"
            ]
          },
          "metadata": {
            "tags": []
          },
          "execution_count": 124
        }
      ]
    },
    {
      "cell_type": "code",
      "metadata": {
        "id": "bLI4upujXNVf",
        "colab_type": "code",
        "colab": {}
      },
      "source": [
        "r_eg286 = 1.3\n",
        "r_eg216 = 1.3\n",
        "r_eg146 = 1.1\n",
        "r_eg076 = 1\n",
        "r_eg315 = 1.2\n",
        "r_eg245 = 1.2\n",
        "r_eg175 = 1.4\n",
        "r_eg105 = 1.4\n",
        "r_eg035 = 0.9"
      ],
      "execution_count": null,
      "outputs": []
    },
    {
      "cell_type": "code",
      "metadata": {
        "id": "eyNItF4Ze0bf",
        "colab_type": "code",
        "colab": {
          "base_uri": "https://localhost:8080/",
          "height": 173
        },
        "outputId": "4bfbb759-3462-4772-d2c5-5ed0b2643504"
      },
      "source": [
        "elan_eg286 = r_eg286 - rt_eg_lst[2][1]\n",
        "elan_eg216 = r_eg216 - rt_eg_lst[9][1]\n",
        "elan_eg146 = r_eg146 - rt_eg_lst[16][1]\n",
        "elan_eg076 = r_eg076 - rt_eg_lst[23][1]\n",
        "elan_eg315 = r_eg315 - rt_eg_lst[30][1]\n",
        "elan_eg245 = r_eg245 - rt_eg_lst[37][1]\n",
        "elan_eg175 = r_eg175 - rt_eg_lst[44][1]\n",
        "elan_eg105 = r_eg105 - rt_eg_lst[51][1]\n",
        "elan_eg035 = r_eg035 - rt_eg_lst[58][1]\n",
        "print('286', elan_eg286, rt_eg_lst[2][0])\n",
        "print('216', elan_eg216, rt_eg_lst[9][0])\n",
        "print('146', elan_eg146, rt_eg_lst[16][0])\n",
        "print('076', elan_eg076, rt_eg_lst[23][0])\n",
        "print(elan_eg315)\n",
        "print(elan_eg245)\n",
        "print(elan_eg175)\n",
        "print(elan_eg105)\n",
        "print(elan_eg035) "
      ],
      "execution_count": null,
      "outputs": [
        {
          "output_type": "stream",
          "text": [
            "286 0.3349348990373656 2020-06-28\n",
            "216 0.20375313068263612 2020-06-21\n",
            "146 -0.09932665497547455 2020-06-14\n",
            "076 -0.2151090860686864 2020-06-07\n",
            "-0.5440450504464012\n",
            "-0.3108404151821287\n",
            "0.25362113784754325\n",
            "-0.13673985315213333\n",
            "-0.5458714556064282\n"
          ],
          "name": "stdout"
        }
      ]
    },
    {
      "cell_type": "code",
      "metadata": {
        "id": "1Ri87axxPM1R",
        "colab_type": "code",
        "colab": {}
      },
      "source": [
        "# Plotting everything except the first 7 days\n",
        "\n",
        "np.random.seed(12345)\n",
        "\n",
        "formatf_date = lambda date_py: '{}/{}'.format(date_py.day, str(date_py.month)[0:1])\n",
        "\n",
        "daty_lst = []\n",
        "\n",
        "data_Rt_lst = []\n",
        "\n",
        "for i in range(round(((daty_data_mifar - daty_data_manom).days) -7)):\n",
        "  t = daty_data_manom + datetime.timedelta(days = i+1 +7)\n",
        "  data_amboar = [gengamma.rvs( func_sh(t)(Rt_salan(t)), 1, loc = 0, scale = func_sc(t)(1)) for j in range(400)]\n",
        "  daty_lst.append(formatf_date(t))\n",
        "  data_Rt_lst.append(data_amboar)\n"
      ],
      "execution_count": null,
      "outputs": []
    },
    {
      "cell_type": "code",
      "metadata": {
        "id": "37al2_KrPS7r",
        "colab_type": "code",
        "colab": {
          "base_uri": "https://localhost:8080/",
          "height": 641
        },
        "outputId": "888da46e-0ce2-4f4f-f127-e1834e36bcf8"
      },
      "source": [
        "# Plotting everything except the first 7 days\n",
        "\n",
        "\n",
        "fig, ax = plt.subplots(figsize=(10, 10))\n",
        "\n",
        "sns.boxplot(daty_lst, data_Rt_lst, color='white', width=0.2, showfliers=False, ax=ax)\n",
        "ax.axhline(y=1, color='b', linestyle='dashed', label =\"R = 1\")\n",
        "\n",
        "ax.set(xlabel ='Andro', ylabel = \"R hoan'i Egypt\")\n",
        "ax.legend(loc= 'best')\n",
        "\n",
        "\n",
        "plt.savefig(path_to_save+'Rt154306_eg.eps')\n",
        "plt.show()"
      ],
      "execution_count": null,
      "outputs": [
        {
          "output_type": "stream",
          "text": [
            "The PostScript backend does not support transparency; partially transparent artists will be rendered opaque.\n",
            "The PostScript backend does not support transparency; partially transparent artists will be rendered opaque.\n"
          ],
          "name": "stderr"
        },
        {
          "output_type": "display_data",
          "data": {
            "image/png": "[encoded data removed]",
            "text/plain": [
              "<Figure size 720x720 with 1 Axes>"
            ]
          },
          "metadata": {
            "tags": [],
            "needs_background": "light"
          }
        }
      ]
    },
    {
      "cell_type": "code",
      "metadata": {
        "id": "oo7ckbhGPb98",
        "colab_type": "code",
        "colab": {
          "base_uri": "https://localhost:8080/",
          "height": 641
        },
        "outputId": "aa6e5194-a60c-4887-a661-dd4408642fb9"
      },
      "source": [
        "# Plotting the last 10 days before daty_data_mifar\n",
        "\n",
        "\n",
        "fig, ax = plt.subplots(figsize=(10, 10))\n",
        "\n",
        "sns.boxplot(daty_lst[len(daty_lst)-10:len(daty_lst)], data_Rt_lst[len(daty_lst)-10:len(daty_lst)], color='white', width=0.2, showfliers=False, ax=ax)\n",
        "ax.axhline(y=1, color='b', linestyle='dashed', label =\"R = 1\")\n",
        "\n",
        "ax.set(xlabel ='Andro', ylabel = \"R hoan'i Egypt\")\n",
        "ax.legend(loc= 'best')\n",
        "\n",
        "\n",
        "plt.savefig(path_to_save+'Rt1514610_eg.eps')\n",
        "plt.show()"
      ],
      "execution_count": null,
      "outputs": [
        {
          "output_type": "stream",
          "text": [
            "The PostScript backend does not support transparency; partially transparent artists will be rendered opaque.\n",
            "The PostScript backend does not support transparency; partially transparent artists will be rendered opaque.\n"
          ],
          "name": "stderr"
        },
        {
          "output_type": "display_data",
          "data": {
            "image/png": "[encoded data removed]",
            "text/plain": [
              "<Figure size 720x720 with 1 Axes>"
            ]
          },
          "metadata": {
            "tags": [],
            "needs_background": "light"
          }
        }
      ]
    }
  ]
}